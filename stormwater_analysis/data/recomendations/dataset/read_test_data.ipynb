{
 "cells": [
  {
   "cell_type": "code",
   "execution_count": 22,
   "metadata": {},
   "outputs": [],
   "source": [
    "import swmmio\n",
    "import pyswmm\n",
    "import pandas as pd\n",
    "import numpy as np\n",
    "\n",
    "from sklearn.model_selection import train_test_split\n",
    "from tensorflow.keras.models import Sequential\n",
    "from tensorflow.keras.layers import Dense, Dropout\n",
    "from tensorflow.keras.callbacks import EarlyStopping\n",
    "from tensorflow.keras.layers.experimental import preprocessing\n",
    "\n",
    "\n",
    "# desired_width = 500\n",
    "# pd.set_option(\"display.width\", desired_width)\n",
    "# np.set_printoptions(linewidth=desired_width)\n",
    "# pd.set_option(\"display.max_columns\", 30)\n",
    "import pprint\n",
    "pd.set_option('display.max_columns', None)\n",
    "# Ustawienie maksymalnej ilości wyświetlanych wierszy\n",
    "pd.set_option('display.max_rows', None)\n"
   ]
  },
  {
   "cell_type": "code",
   "execution_count": 23,
   "metadata": {},
   "outputs": [
    {
     "data": {
      "text/html": [
       "<div>\n",
       "<style scoped>\n",
       "    .dataframe tbody tr th:only-of-type {\n",
       "        vertical-align: middle;\n",
       "    }\n",
       "\n",
       "    .dataframe tbody tr th {\n",
       "        vertical-align: top;\n",
       "    }\n",
       "\n",
       "    .dataframe thead th {\n",
       "        text-align: right;\n",
       "    }\n",
       "</style>\n",
       "<table border=\"1\" class=\"dataframe\">\n",
       "  <thead>\n",
       "    <tr style=\"text-align: right;\">\n",
       "      <th></th>\n",
       "      <th>classes</th>\n",
       "    </tr>\n",
       "  </thead>\n",
       "  <tbody>\n",
       "    <tr>\n",
       "      <th>0</th>\n",
       "      <td>pump</td>\n",
       "    </tr>\n",
       "    <tr>\n",
       "      <th>1</th>\n",
       "      <td>tank</td>\n",
       "    </tr>\n",
       "    <tr>\n",
       "      <th>2</th>\n",
       "      <td>seepage_boxes</td>\n",
       "    </tr>\n",
       "    <tr>\n",
       "      <th>3</th>\n",
       "      <td>diameter_increase</td>\n",
       "    </tr>\n",
       "    <tr>\n",
       "      <th>4</th>\n",
       "      <td>diameter_reduction</td>\n",
       "    </tr>\n",
       "    <tr>\n",
       "      <th>5</th>\n",
       "      <td>slope_increase</td>\n",
       "    </tr>\n",
       "    <tr>\n",
       "      <th>6</th>\n",
       "      <td>slope_reduction</td>\n",
       "    </tr>\n",
       "    <tr>\n",
       "      <th>7</th>\n",
       "      <td>depth_increase</td>\n",
       "    </tr>\n",
       "    <tr>\n",
       "      <th>8</th>\n",
       "      <td>depth_reduction</td>\n",
       "    </tr>\n",
       "    <tr>\n",
       "      <th>9</th>\n",
       "      <td>valid</td>\n",
       "    </tr>\n",
       "  </tbody>\n",
       "</table>\n",
       "</div>"
      ],
      "text/plain": [
       "              classes\n",
       "0                pump\n",
       "1                tank\n",
       "2       seepage_boxes\n",
       "3   diameter_increase\n",
       "4  diameter_reduction\n",
       "5      slope_increase\n",
       "6     slope_reduction\n",
       "7      depth_increase\n",
       "8     depth_reduction\n",
       "9               valid"
      ]
     },
     "execution_count": 23,
     "metadata": {},
     "output_type": "execute_result"
    }
   ],
   "source": [
    "classes = pd.DataFrame(\n",
    "    data={\n",
    "        \"classes\": [\n",
    "            \"pump\",\n",
    "            \"tank\",\n",
    "            \"seepage_boxes\",\n",
    "            \"diameter_increase\",\n",
    "            \"diameter_reduction\",\n",
    "            \"slope_increase\",\n",
    "            \"slope_reduction\",\n",
    "            \"depth_increase\",\n",
    "            \"depth_reduction\",\n",
    "            \"valid\",\n",
    "        ]\n",
    "    }\n",
    ")\n",
    "classes"
   ]
  },
  {
   "cell_type": "code",
   "execution_count": 24,
   "metadata": {},
   "outputs": [
    {
     "name": "stdout",
     "output_type": "stream",
     "text": [
      "['c:\\\\Users\\\\Dell\\\\Documents\\\\Git\\\\stormwater-analysis\\\\stormwater_analysis\\\\data\\\\recomendations\\\\dataset', 'C:\\\\Users\\\\Dell\\\\AppData\\\\Local\\\\Programs\\\\Python\\\\Python310\\\\python310.zip', 'C:\\\\Users\\\\Dell\\\\AppData\\\\Local\\\\Programs\\\\Python\\\\Python310\\\\DLLs', 'C:\\\\Users\\\\Dell\\\\AppData\\\\Local\\\\Programs\\\\Python\\\\Python310\\\\lib', 'C:\\\\Users\\\\Dell\\\\AppData\\\\Local\\\\Programs\\\\Python\\\\Python310', 'c:\\\\Users\\\\Dell\\\\Documents\\\\Git\\\\stormwater-analysis\\\\venv', '', 'c:\\\\Users\\\\Dell\\\\Documents\\\\Git\\\\stormwater-analysis\\\\venv\\\\lib\\\\site-packages', 'c:\\\\Users\\\\Dell\\\\Documents\\\\Git\\\\stormwater-analysis\\\\venv\\\\lib\\\\site-packages\\\\win32', 'c:\\\\Users\\\\Dell\\\\Documents\\\\Git\\\\stormwater-analysis\\\\venv\\\\lib\\\\site-packages\\\\win32\\\\lib', 'c:\\\\Users\\\\Dell\\\\Documents\\\\Git\\\\stormwater-analysis\\\\venv\\\\lib\\\\site-packages\\\\Pythonwin']\n"
     ]
    }
   ],
   "source": [
    "import sys\n",
    "print(sys.path)"
   ]
  },
  {
   "cell_type": "code",
   "execution_count": 25,
   "metadata": {},
   "outputs": [],
   "source": [
    "import os\n",
    "os.chdir('C:\\\\Users\\\\Dell\\\\Documents\\\\Git\\\\stormwater-analysis')\n",
    "\n",
    "from stormwater_analysis.inp_manage.inp import SwmmModel"
   ]
  },
  {
   "cell_type": "code",
   "execution_count": 26,
   "metadata": {},
   "outputs": [
    {
     "name": "stdout",
     "output_type": "stream",
     "text": [
      "1/1 [==============================] - 0s 28ms/step\n"
     ]
    }
   ],
   "source": [
    "INP_FILE = R\"C:\\Users\\Dell\\Documents\\Git\\stormwater-analysis\\stormwater_analysis\\data\\recomendations\\dataset\\base.inp\"\n",
    "\n",
    "from stormwater_analysis.inp_manage.inp import SwmmModel\n",
    "from stormwater_analysis.data.feature_engineering import feature_engineering\n",
    "\n",
    "model = swmmio.Model(INP_FILE, include_rpt=True)\n",
    "\n",
    "with pyswmm.Simulation(model.inp.path) as sim:\n",
    "    for _ in sim:\n",
    "        pass\n",
    "\n",
    "conduits_data, nodes_data, subcatchments_data = feature_engineering(model)\n",
    "swmm_model = SwmmModel(model, conduits_data, nodes_data, subcatchments_data)"
   ]
  },
  {
   "cell_type": "code",
   "execution_count": 27,
   "metadata": {},
   "outputs": [
    {
     "name": "stdout",
     "output_type": "stream",
     "text": [
      "                    Tag  Filling  ValMaxFill  ValMaxV  ValMinV  ValMaxSlope  ValMinSlope\n",
      "Name                                                                                    \n",
      "C3                valid    0.549           1        1        1            1            1\n",
      "C4    diameter_increase    1.000           0        1        1            1            1\n",
      "C2    diameter_increase    0.600           0        1        1            1            1\n",
      "C1                valid    0.348           1        1        1            1            1\n",
      "C5    diameter_increase    1.000           0        1        1            1            1\n",
      "C8    diameter_increase    0.600           0        1        1            1            1\n",
      "C9    diameter_increase    0.600           0        1        1            1            1\n",
      "C10               valid    0.354           1        1        1            1            1\n",
      "C6    diameter_increase    0.600           0        1        1            1            1\n",
      "C7    diameter_increase    0.600           0        1        1            1            1\n"
     ]
    }
   ],
   "source": [
    "print(swmm_model.conduits_data.conduits.iloc[:, 18:25])"
   ]
  },
  {
   "cell_type": "code",
   "execution_count": 28,
   "metadata": {},
   "outputs": [
    {
     "data": {
      "text/plain": [
       "('valid',)"
      ]
     },
     "execution_count": 28,
     "metadata": {},
     "output_type": "execute_result"
    }
   ],
   "source": [
    "\"pump\",\n",
    "\"tank\",\n",
    "\"seepage_boxes\",\n",
    "\"diameter_increase\",\n",
    "\"diameter_reduction\",\n",
    "\"slope_increase\",\n",
    "\"slope_reduction\",\n",
    "\"depth_increase\",\n",
    "\"depth_reduction\",\n",
    "\"valid\","
   ]
  }
 ],
 "metadata": {
  "kernelspec": {
   "display_name": "venv",
   "language": "python",
   "name": "python3"
  },
  "language_info": {
   "codemirror_mode": {
    "name": "ipython",
    "version": 3
   },
   "file_extension": ".py",
   "mimetype": "text/x-python",
   "name": "python",
   "nbconvert_exporter": "python",
   "pygments_lexer": "ipython3",
   "version": "3.10.2"
  },
  "orig_nbformat": 4
 },
 "nbformat": 4,
 "nbformat_minor": 2
}
