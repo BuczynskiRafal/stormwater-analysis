{
 "cells": [
  {
   "cell_type": "code",
   "execution_count": 1,
   "metadata": {},
   "outputs": [],
   "source": [
    "import swmmio\n",
    "import pyswmm\n",
    "import pandas as pd\n",
    "import numpy as np\n",
    "\n",
    "from sklearn.model_selection import train_test_split\n",
    "from tensorflow.keras.models import Sequential\n",
    "from tensorflow.keras.layers import Dense, Dropout\n",
    "from tensorflow.keras.callbacks import EarlyStopping\n",
    "from tensorflow.keras.layers.experimental import preprocessing\n",
    "\n",
    "\n",
    "# desired_width = 500\n",
    "# pd.set_option(\"display.width\", desired_width)\n",
    "# np.set_printoptions(linewidth=desired_width)\n",
    "# pd.set_option(\"display.max_columns\", 30)\n",
    "import pprint\n",
    "pd.set_option('display.max_columns', None)\n",
    "# Ustawienie maksymalnej ilości wyświetlanych wierszy\n",
    "pd.set_option('display.max_rows', None)\n"
   ]
  },
  {
   "cell_type": "code",
   "execution_count": 2,
   "metadata": {},
   "outputs": [
    {
     "data": {
      "text/html": [
       "<div>\n",
       "<style scoped>\n",
       "    .dataframe tbody tr th:only-of-type {\n",
       "        vertical-align: middle;\n",
       "    }\n",
       "\n",
       "    .dataframe tbody tr th {\n",
       "        vertical-align: top;\n",
       "    }\n",
       "\n",
       "    .dataframe thead th {\n",
       "        text-align: right;\n",
       "    }\n",
       "</style>\n",
       "<table border=\"1\" class=\"dataframe\">\n",
       "  <thead>\n",
       "    <tr style=\"text-align: right;\">\n",
       "      <th></th>\n",
       "      <th>classes</th>\n",
       "    </tr>\n",
       "  </thead>\n",
       "  <tbody>\n",
       "    <tr>\n",
       "      <th>0</th>\n",
       "      <td>pump</td>\n",
       "    </tr>\n",
       "    <tr>\n",
       "      <th>1</th>\n",
       "      <td>tank</td>\n",
       "    </tr>\n",
       "    <tr>\n",
       "      <th>2</th>\n",
       "      <td>seepage_boxes</td>\n",
       "    </tr>\n",
       "    <tr>\n",
       "      <th>3</th>\n",
       "      <td>diameter_increase</td>\n",
       "    </tr>\n",
       "    <tr>\n",
       "      <th>4</th>\n",
       "      <td>diameter_reduction</td>\n",
       "    </tr>\n",
       "    <tr>\n",
       "      <th>5</th>\n",
       "      <td>slope_increase</td>\n",
       "    </tr>\n",
       "    <tr>\n",
       "      <th>6</th>\n",
       "      <td>slope_reduction</td>\n",
       "    </tr>\n",
       "    <tr>\n",
       "      <th>7</th>\n",
       "      <td>depth_increase</td>\n",
       "    </tr>\n",
       "    <tr>\n",
       "      <th>8</th>\n",
       "      <td>depth_reduction</td>\n",
       "    </tr>\n",
       "    <tr>\n",
       "      <th>9</th>\n",
       "      <td>valid</td>\n",
       "    </tr>\n",
       "  </tbody>\n",
       "</table>\n",
       "</div>"
      ],
      "text/plain": [
       "              classes\n",
       "0                pump\n",
       "1                tank\n",
       "2       seepage_boxes\n",
       "3   diameter_increase\n",
       "4  diameter_reduction\n",
       "5      slope_increase\n",
       "6     slope_reduction\n",
       "7      depth_increase\n",
       "8     depth_reduction\n",
       "9               valid"
      ]
     },
     "execution_count": 2,
     "metadata": {},
     "output_type": "execute_result"
    }
   ],
   "source": [
    "classes = pd.DataFrame(\n",
    "    data={\n",
    "        \"classes\": [\n",
    "            \"pump\",\n",
    "            \"tank\",\n",
    "            \"seepage_boxes\",\n",
    "            \"diameter_increase\",\n",
    "            \"diameter_reduction\",\n",
    "            \"slope_increase\",\n",
    "            \"slope_reduction\",\n",
    "            \"depth_increase\",\n",
    "            \"depth_reduction\",\n",
    "            \"valid\",\n",
    "        ]\n",
    "    }\n",
    ")\n",
    "classes"
   ]
  },
  {
   "cell_type": "code",
   "execution_count": 3,
   "metadata": {},
   "outputs": [
    {
     "name": "stdout",
     "output_type": "stream",
     "text": [
      "['c:\\\\Users\\\\Dell\\\\Documents\\\\Git\\\\stormwater-analysis\\\\stormwater_analysis\\\\data\\\\recomendations\\\\dataset', 'C:\\\\Users\\\\Dell\\\\AppData\\\\Local\\\\Programs\\\\Python\\\\Python310\\\\python310.zip', 'C:\\\\Users\\\\Dell\\\\AppData\\\\Local\\\\Programs\\\\Python\\\\Python310\\\\DLLs', 'C:\\\\Users\\\\Dell\\\\AppData\\\\Local\\\\Programs\\\\Python\\\\Python310\\\\lib', 'C:\\\\Users\\\\Dell\\\\AppData\\\\Local\\\\Programs\\\\Python\\\\Python310', 'c:\\\\Users\\\\Dell\\\\Documents\\\\Git\\\\stormwater-analysis\\\\venv', '', 'c:\\\\Users\\\\Dell\\\\Documents\\\\Git\\\\stormwater-analysis\\\\venv\\\\lib\\\\site-packages', 'c:\\\\Users\\\\Dell\\\\Documents\\\\Git\\\\stormwater-analysis\\\\venv\\\\lib\\\\site-packages\\\\win32', 'c:\\\\Users\\\\Dell\\\\Documents\\\\Git\\\\stormwater-analysis\\\\venv\\\\lib\\\\site-packages\\\\win32\\\\lib', 'c:\\\\Users\\\\Dell\\\\Documents\\\\Git\\\\stormwater-analysis\\\\venv\\\\lib\\\\site-packages\\\\Pythonwin']\n"
     ]
    }
   ],
   "source": [
    "import sys\n",
    "print(sys.path)"
   ]
  },
  {
   "cell_type": "code",
   "execution_count": 4,
   "metadata": {},
   "outputs": [
    {
     "name": "stderr",
     "output_type": "stream",
     "text": [
      "c:\\Users\\Dell\\Documents\\Git\\stormwater-analysis\\venv\\lib\\site-packages\\keras\\saving\\saved_model\\load.py:107: RuntimeWarning: Unexpected end-group tag: Not all data was converted\n",
      "  metadata.ParseFromString(file_content)\n"
     ]
    }
   ],
   "source": [
    "import os\n",
    "os.chdir('C:\\\\Users\\\\Dell\\\\Documents\\\\Git\\\\stormwater-analysis')\n",
    "\n",
    "from stormwater_analysis.inp_manage.inp import SwmmModel"
   ]
  },
  {
   "cell_type": "code",
   "execution_count": 7,
   "metadata": {},
   "outputs": [
    {
     "ename": "AttributeError",
     "evalue": "'_UserObject' object has no attribute 'predict'",
     "output_type": "error",
     "traceback": [
      "\u001b[1;31m---------------------------------------------------------------------------\u001b[0m",
      "\u001b[1;31mAttributeError\u001b[0m                            Traceback (most recent call last)",
      "Cell \u001b[1;32mIn[7], line 12\u001b[0m\n\u001b[0;32m      9\u001b[0m     \u001b[39mfor\u001b[39;00m _ \u001b[39min\u001b[39;00m sim:\n\u001b[0;32m     10\u001b[0m         \u001b[39mpass\u001b[39;00m\n\u001b[1;32m---> 12\u001b[0m conduits_data, nodes_data, subcatchments_data \u001b[39m=\u001b[39m feature_engineering(model)\n\u001b[0;32m     13\u001b[0m swmm_model \u001b[39m=\u001b[39m SwmmModel(model, conduits_data, nodes_data, subcatchments_data)\n",
      "File \u001b[1;32m~\\Documents\\Git\\stormwater-analysis\\stormwater_analysis\\data\\feature_engineering.py:110\u001b[0m, in \u001b[0;36mfeature_engineering\u001b[1;34m(model)\u001b[0m\n\u001b[0;32m    108\u001b[0m conduits_data \u001b[39m=\u001b[39m perform_conduits_feature_engineering(model)\n\u001b[0;32m    109\u001b[0m nodes_data \u001b[39m=\u001b[39m perform_nodes_feature_engineering(model)\n\u001b[1;32m--> 110\u001b[0m subcatchments_data \u001b[39m=\u001b[39m perform_subcatchments_feature_engineering(model)\n\u001b[0;32m    111\u001b[0m \u001b[39mreturn\u001b[39;00m conduits_data, nodes_data, subcatchments_data\n",
      "File \u001b[1;32m~\\Documents\\Git\\stormwater-analysis\\stormwater_analysis\\data\\feature_engineering.py:87\u001b[0m, in \u001b[0;36mperform_subcatchments_feature_engineering\u001b[1;34m(model)\u001b[0m\n\u001b[0;32m     85\u001b[0m subcatchments_data\u001b[39m.\u001b[39mset_frost_zone(\u001b[39m\"\u001b[39m\u001b[39mII\u001b[39m\u001b[39m\"\u001b[39m)\n\u001b[0;32m     86\u001b[0m subcatchments_data\u001b[39m.\u001b[39mdrop_unused()\n\u001b[1;32m---> 87\u001b[0m subcatchments_data\u001b[39m.\u001b[39;49mclassify(categories\u001b[39m=\u001b[39;49m\u001b[39mTrue\u001b[39;49;00m)\n\u001b[0;32m     88\u001b[0m \u001b[39mreturn\u001b[39;00m subcatchments_data\n",
      "File \u001b[1;32m~\\Documents\\Git\\stormwater-analysis\\stormwater_analysis\\data\\data.py:325\u001b[0m, in \u001b[0;36mSubcatchmentsData.classify\u001b[1;34m(self, categories)\u001b[0m\n\u001b[0;32m    321\u001b[0m df \u001b[39m=\u001b[39m \u001b[39mself\u001b[39m\u001b[39m.\u001b[39msubcatchments[\n\u001b[0;32m    322\u001b[0m     [\u001b[39m\"\u001b[39m\u001b[39mArea\u001b[39m\u001b[39m\"\u001b[39m, \u001b[39m\"\u001b[39m\u001b[39mPercImperv\u001b[39m\u001b[39m\"\u001b[39m, \u001b[39m\"\u001b[39m\u001b[39mWidth\u001b[39m\u001b[39m\"\u001b[39m, \u001b[39m\"\u001b[39m\u001b[39mPercSlope\u001b[39m\u001b[39m\"\u001b[39m, \u001b[39m\"\u001b[39m\u001b[39mPctZero\u001b[39m\u001b[39m\"\u001b[39m, \u001b[39m\"\u001b[39m\u001b[39mTotalPrecip\u001b[39m\u001b[39m\"\u001b[39m, \u001b[39m\"\u001b[39m\u001b[39mTotalRunoffMG\u001b[39m\u001b[39m\"\u001b[39m, \u001b[39m\"\u001b[39m\u001b[39mPeakRunoff\u001b[39m\u001b[39m\"\u001b[39m, \u001b[39m\"\u001b[39m\u001b[39mRunoffCoeff\u001b[39m\u001b[39m\"\u001b[39m]\n\u001b[0;32m    323\u001b[0m ]\u001b[39m.\u001b[39mcopy()\n\u001b[0;32m    324\u001b[0m df[\u001b[39m\"\u001b[39m\u001b[39mTotalPrecip\u001b[39m\u001b[39m\"\u001b[39m] \u001b[39m=\u001b[39m pd\u001b[39m.\u001b[39mto_numeric(df[\u001b[39m\"\u001b[39m\u001b[39mTotalPrecip\u001b[39m\u001b[39m\"\u001b[39m])\n\u001b[1;32m--> 325\u001b[0m predictions \u001b[39m=\u001b[39m classifier\u001b[39m.\u001b[39;49mpredict(df)\n\u001b[0;32m    326\u001b[0m predictions_cls \u001b[39m=\u001b[39m predictions\u001b[39m.\u001b[39margmax(axis\u001b[39m=\u001b[39m\u001b[39m-\u001b[39m\u001b[39m1\u001b[39m)\n\u001b[0;32m    327\u001b[0m \u001b[39mif\u001b[39;00m categories:\n",
      "\u001b[1;31mAttributeError\u001b[0m: '_UserObject' object has no attribute 'predict'"
     ]
    }
   ],
   "source": [
    "INP_FILE = R\"C:\\Users\\Dell\\Documents\\Git\\stormwater-analysis\\stormwater_analysis\\data\\recomendations\\dataset\\tank\\01_tank.inp\"\n",
    "\n",
    "from stormwater_analysis.inp_manage.inp import SwmmModel\n",
    "from stormwater_analysis.data.feature_engineering import feature_engineering\n",
    "\n",
    "model = swmmio.Model(INP_FILE_01, include_rpt=True)\n",
    "\n",
    "with pyswmm.Simulation(model.inp.path) as sim:\n",
    "    for _ in sim:\n",
    "        pass\n",
    "\n",
    "conduits_data, nodes_data, subcatchments_data = feature_engineering(model)\n",
    "swmm_model = SwmmModel(model, conduits_data, nodes_data, subcatchments_data)"
   ]
  }
 ],
 "metadata": {
  "kernelspec": {
   "display_name": "venv",
   "language": "python",
   "name": "python3"
  },
  "language_info": {
   "codemirror_mode": {
    "name": "ipython",
    "version": 3
   },
   "file_extension": ".py",
   "mimetype": "text/x-python",
   "name": "python",
   "nbconvert_exporter": "python",
   "pygments_lexer": "ipython3",
   "version": "3.10.2"
  },
  "orig_nbformat": 4
 },
 "nbformat": 4,
 "nbformat_minor": 2
}
