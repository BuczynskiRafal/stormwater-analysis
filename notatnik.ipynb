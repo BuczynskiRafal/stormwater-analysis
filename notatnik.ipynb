{
 "cells": [
  {
   "cell_type": "code",
   "execution_count": 53,
   "id": "54ee4a7b-ef3e-439e-8975-01070fe5fe69",
   "metadata": {
    "tags": []
   },
   "outputs": [],
   "source": [
    "import numpy as np\n",
    "import pandas as pd\n",
    "import pyswmm as ps\n",
    "import swmmio as sw\n",
    "\n",
    "from stormwater_analysis.data.feature_engineering import feature_engineering\n",
    "from stormwater_analysis.inp_manage.inp import SwmmModel\n",
    "from stormwater_analysis.inp_manage.test_inp import TEST_FILE\n",
    "\n",
    "import pprint\n",
    "pd.set_option('display.max_columns', None)\n",
    "# Ustawienie maksymalnej ilości wyświetlanych wierszy\n",
    "pd.set_option('display.max_rows', None)\n"
   ]
  },
  {
   "cell_type": "code",
   "execution_count": 54,
   "id": "38d354c7-bf9c-4a07-8b61-1088bc531702",
   "metadata": {
    "tags": []
   },
   "outputs": [
    {
     "name": "stdout",
     "output_type": "stream",
     "text": [
      "<class 'pandas.core.frame.DataFrame'>\n",
      "1/1 [==============================] - 0s 25ms/step\n"
     ]
    }
   ],
   "source": [
    "model = sw.Model(TEST_FILE, include_rpt=True)\n",
    "\n",
    "with ps.Simulation(model.inp.path) as sim:\n",
    "    for _ in sim:\n",
    "        pass\n",
    "\n",
    "conduits_data, nodes_data, subcatchments_data = feature_engineering(model)\n",
    "swmm_model = SwmmModel(model, conduits_data, nodes_data, subcatchments_data)"
   ]
  },
  {
   "cell_type": "code",
   "execution_count": 55,
   "id": "ded7410f",
   "metadata": {},
   "outputs": [
    {
     "name": "stdout",
     "output_type": "stream",
     "text": [
      "     InletNode OutletNode  Length  Roughness  MaxFlow  Geom1     Type   MaxQ  MaxDay  MaxHr  MaxV  MaxQPerc  MaxDPerc  InletNodeInvert  OutletNodeInvert  UpstreamInvert  DownstreamInvert  SlopeFtPerFt  Tag  Filling  ValMaxFill  ValMaxV  ValMinV  ValMaxSlope  ValMinSlope  InletMaxDepth  OutletMaxDepth  SlopePerMile  InletGroundCover  OutletGroundCover  ValDepth  ValCoverage\n",
      "Name                                                                                                                                                                                                                                                                                                                                                                                   \n",
      "C3          J1         J3      50       0.01        0    0.9  CONDUIT  1.019       0  00:27  1.82      1.02      0.91           146.61            146.52          146.61            146.52      0.001800   #P    0.819           0        1        1            1            1           2.71            2.40         1.800             143.9             144.12         1            1\n",
      "1            1         J1     400       0.01        0    1.0  CONDUIT  0.712       0  00:35  1.10      1.05      0.89           146.80            146.61          146.80            146.61      0.000475  NaN    0.890           0        1        1            1            0           2.50            2.71         0.475             144.3             143.90         1            1\n",
      "2            2          1     400       0.01        0    1.0  CONDUIT  0.752       0  00:30  1.14      1.08      0.90           147.00            146.80          147.00            146.80      0.000500  NaN    0.900           0        1        1            1            0           2.30            2.50         0.500             144.7             144.30         1            1\n"
     ]
    }
   ],
   "source": [
    "print(swmm_model.conduits_data.conduits[swmm_model.conduits_data.conduits['ValMaxFill'] == 0])"
   ]
  },
  {
   "cell_type": "code",
   "execution_count": 56,
   "id": "bc047f57",
   "metadata": {},
   "outputs": [
    {
     "name": "stdout",
     "output_type": "stream",
     "text": [
      "Starting trace up from O4\n",
      "Traced 11 nodes from O4\n",
      "Starting trace up from 9\n",
      "Traced 12 nodes from 9\n",
      "{'O4': {'nodes': ['O4', 'J3', 'J1', '1', '2', '3', '5', '7', '4', '6', '8'], 'conduits': ['C4', 'C3', '1', '2', '3', '6', '7', '8', '9', '5']}, '9': {'nodes': ['9', '15', '16', '17', '18', '19', '20', '10', '11', '12', '13', '14'], 'conduits': ['16', '15', '14', '13', '12', '11', '21', '20', '19', '18', '17']}}\n"
     ]
    }
   ],
   "source": [
    "print(swmm_model.all_traces())\n"
   ]
  },
  {
   "cell_type": "code",
   "execution_count": 57,
   "id": "c7251088",
   "metadata": {},
   "outputs": [
    {
     "name": "stdout",
     "output_type": "stream",
     "text": [
      "     InletNode OutletNode  Length  Roughness  MaxFlow  Geom1     Type   MaxQ  MaxDay  MaxHr  MaxV  MaxQPerc  MaxDPerc  InletNodeInvert  OutletNodeInvert  UpstreamInvert  DownstreamInvert  SlopeFtPerFt  Tag  Filling  ValMaxFill  ValMaxV  ValMinV  ValMaxSlope  ValMinSlope  InletMaxDepth  OutletMaxDepth  SlopePerMile  InletGroundCover  OutletGroundCover  ValDepth  ValCoverage\n",
      "Name                                                                                                                                                                                                                                                                                                                                                                                   \n",
      "C3          J1         J3      50       0.01        0    0.9  CONDUIT  1.019       0  00:27  1.82      1.02      0.91           146.61            146.52          146.61            146.52      0.001800   #P    0.819           0        1        1            1            1           2.71            2.40         1.800             143.9             144.12         1            1\n",
      "1            1         J1     400       0.01        0    1.0  CONDUIT  0.712       0  00:35  1.10      1.05      0.89           146.80            146.61          146.80            146.61      0.000475  NaN    0.890           0        1        1            1            0           2.50            2.71         0.475             144.3             143.90         1            1\n",
      "2            2          1     400       0.01        0    1.0  CONDUIT  0.752       0  00:30  1.14      1.08      0.90           147.00            146.80          147.00            146.80      0.000500  NaN    0.900           0        1        1            1            0           2.30            2.50         0.500             144.7             144.30         1            1\n"
     ]
    }
   ],
   "source": [
    "print(swmm_model.overflowing_pipes())"
   ]
  },
  {
   "cell_type": "code",
   "execution_count": 58,
   "id": "4faead80",
   "metadata": {},
   "outputs": [
    {
     "name": "stdout",
     "output_type": "stream",
     "text": [
      "Starting trace up from O4\n",
      "Traced 11 nodes from O4\n",
      "Starting trace up from 9\n",
      "Traced 12 nodes from 9\n",
      "None\n"
     ]
    }
   ],
   "source": [
    "print(swmm_model.overflowing_traces())\n"
   ]
  }
 ],
 "metadata": {
  "kernelspec": {
   "display_name": "Python 3 (ipykernel)",
   "language": "python",
   "name": "python3"
  },
  "language_info": {
   "codemirror_mode": {
    "name": "ipython",
    "version": 3
   },
   "file_extension": ".py",
   "mimetype": "text/x-python",
   "name": "python",
   "nbconvert_exporter": "python",
   "pygments_lexer": "ipython3",
   "version": "3.10.2"
  }
 },
 "nbformat": 4,
 "nbformat_minor": 5
}
