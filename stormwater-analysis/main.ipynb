{
 "cells": [
  {
   "cell_type": "code",
   "execution_count": 3,
   "id": "293cfc71-a709-4c3b-9016-731e390acc47",
   "metadata": {
    "tags": []
   },
   "outputs": [],
   "source": [
    "import swmmio as sw\n",
    "import pyswmm as ps\n",
    "import pandas as pd\n",
    "import numpy as np\n",
    "\n",
    "desired_width = 500\n",
    "pd.set_option(\"display.width\", desired_width)\n",
    "np.set_printoptions(linewidth=desired_width)\n",
    "pd.set_option(\"display.max_columns\", 25)"
   ]
  },
  {
   "cell_type": "code",
   "execution_count": 4,
   "id": "3d20f975-0fb0-4bc2-8b20-cf41c134dfc2",
   "metadata": {
    "tags": []
   },
   "outputs": [],
   "source": [
    "# run calculations using pyswmm\n",
    "with ps.Simulation('inp_manager/test_inp/test_file.inp') as sim:\n",
    "    for _ in sim:\n",
    "        pass"
   ]
  },
  {
   "cell_type": "code",
   "execution_count": 5,
   "id": "e0b08c45-cbbc-4a53-8645-c436ed438741",
   "metadata": {
    "tags": []
   },
   "outputs": [],
   "source": [
    "# insert inp file using swmmio\n",
    "model = sw.Model(\"inp_manager/test_inp/test_file.inp\", include_rpt=True)"
   ]
  },
  {
   "cell_type": "code",
   "execution_count": 7,
   "id": "3e2d532e-c3fa-4f1b-a447-707492941d3c",
   "metadata": {
    "tags": []
   },
   "outputs": [
    {
     "name": "stdout",
     "output_type": "stream",
     "text": [
      "     InletNode OutletNode  Length  Roughness  InOffset  OutOffset  InitFlow  MaxFlow     Shape  Geom1  Geom2  Geom3  Geom4  Barrels     Type   MaxQ  MaxDay  MaxHr  MaxV  MaxQPerc  MaxDPerc                                                coords\n",
      "Name                                                                                                                                                                                                                                              \n",
      "C3          J1         J3      50      0.010         0          0         0        0  CIRCULAR    1.0      0      0      0        1  CONDUIT  1.378       0  00:50  1.97      1.04      1.00  [(777189.014, 592583.674), (777197.821, 592564.501)]\n",
      "C4          J3         O4      50      0.015         0          0         0        0  CIRCULAR    1.2      0      0      0        1  CONDUIT  1.381       0  00:51  2.41      0.51      0.51   [(777197.821, 592564.501), (777203.103, 592557.13)]\n"
     ]
    }
   ],
   "source": [
    "print(model.links.dataframe.to_string())"
   ]
  }
 ],
 "metadata": {
  "kernelspec": {
   "display_name": "Python 3 (ipykernel)",
   "language": "python",
   "name": "python3"
  },
  "language_info": {
   "codemirror_mode": {
    "name": "ipython",
    "version": 3
   },
   "file_extension": ".py",
   "mimetype": "text/x-python",
   "name": "python",
   "nbconvert_exporter": "python",
   "pygments_lexer": "ipython3",
   "version": "3.10.2"
  }
 },
 "nbformat": 4,
 "nbformat_minor": 5
}
