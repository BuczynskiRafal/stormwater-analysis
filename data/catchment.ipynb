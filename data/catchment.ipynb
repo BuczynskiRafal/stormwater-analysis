{
 "cells": [
  {
   "cell_type": "markdown",
   "id": "203c68be-eb8f-49c1-8f55-d3929d447923",
   "metadata": {},
   "source": [
    "# Training a model for catchment classification. "
   ]
  },
  {
   "cell_type": "markdown",
   "id": "0ca5aa33-8a1f-41a9-9f45-44b2405dff6a",
   "metadata": {},
   "source": [
    "# Imports"
   ]
  },
  {
   "cell_type": "code",
   "execution_count": 1,
   "id": "36d5c0c3-e761-4ba6-9aab-f74dada646a3",
   "metadata": {},
   "outputs": [],
   "source": [
    "import swmmio\n",
    "import pyswmm\n",
    "import pandas as pd\n",
    "import numpy as np\n",
    "from sklearn.model_selection import train_test_split\n",
    "from sklearn.preprocessing import StandardScaler, OneHotEncoder, MinMaxScaler\n",
    "from sklearn.compose import ColumnTransformer\n",
    "from tensorflow.keras.models import Sequential\n",
    "from tensorflow.keras.layers import Dense, Dropout\n",
    "from tensorflow.keras.callbacks import EarlyStopping\n",
    "\n",
    "desired_width = 500\n",
    "pd.set_option(\"display.width\", desired_width)\n",
    "np.set_printoptions(linewidth=desired_width)\n",
    "pd.set_option(\"display.max_columns\", 30)"
   ]
  },
  {
   "cell_type": "code",
   "execution_count": 2,
   "id": "93a421bf-75fd-46fa-b8a1-6277aa189444",
   "metadata": {
    "tags": []
   },
   "outputs": [
    {
     "data": {
      "text/html": [
       "<div>\n",
       "<style scoped>\n",
       "    .dataframe tbody tr th:only-of-type {\n",
       "        vertical-align: middle;\n",
       "    }\n",
       "\n",
       "    .dataframe tbody tr th {\n",
       "        vertical-align: top;\n",
       "    }\n",
       "\n",
       "    .dataframe thead th {\n",
       "        text-align: right;\n",
       "    }\n",
       "</style>\n",
       "<table border=\"1\" class=\"dataframe\">\n",
       "  <thead>\n",
       "    <tr style=\"text-align: right;\">\n",
       "      <th></th>\n",
       "      <th>classes</th>\n",
       "    </tr>\n",
       "  </thead>\n",
       "  <tbody>\n",
       "    <tr>\n",
       "      <th>0</th>\n",
       "      <td>compact_urban_development</td>\n",
       "    </tr>\n",
       "    <tr>\n",
       "      <th>1</th>\n",
       "      <td>urban</td>\n",
       "    </tr>\n",
       "    <tr>\n",
       "      <th>2</th>\n",
       "      <td>loose_urban_development</td>\n",
       "    </tr>\n",
       "    <tr>\n",
       "      <th>3</th>\n",
       "      <td>wooded_area</td>\n",
       "    </tr>\n",
       "    <tr>\n",
       "      <th>4</th>\n",
       "      <td>grassy</td>\n",
       "    </tr>\n",
       "    <tr>\n",
       "      <th>5</th>\n",
       "      <td>loose_soil</td>\n",
       "    </tr>\n",
       "    <tr>\n",
       "      <th>6</th>\n",
       "      <td>steep_area</td>\n",
       "    </tr>\n",
       "  </tbody>\n",
       "</table>\n",
       "</div>"
      ],
      "text/plain": [
       "                     classes\n",
       "0  compact_urban_development\n",
       "1                      urban\n",
       "2    loose_urban_development\n",
       "3                wooded_area\n",
       "4                     grassy\n",
       "5                 loose_soil\n",
       "6                 steep_area"
      ]
     },
     "execution_count": 2,
     "metadata": {},
     "output_type": "execute_result"
    }
   ],
   "source": [
    "classes = pd.DataFrame(\n",
    "    data={\n",
    "        \"classes\": [\n",
    "            \"compact_urban_development\",\n",
    "            \"urban\",\n",
    "            \"loose_urban_development\",\n",
    "            \"wooded_area\",\n",
    "            \"grassy\",\n",
    "            \"loose_soil\",\n",
    "            \"steep_area\",\n",
    "        ]\n",
    "    }\n",
    ")\n",
    "classes"
   ]
  },
  {
   "cell_type": "markdown",
   "id": "4a70e679-858b-452c-b86f-5970de24452d",
   "metadata": {},
   "source": [
    "# Get files"
   ]
  },
  {
   "cell_type": "code",
   "execution_count": 3,
   "id": "33997e0f-4acc-4716-91a1-52529670ecdc",
   "metadata": {
    "tags": []
   },
   "outputs": [],
   "source": [
    "INP_FILE = \"dataset/subcatchment_dataset.inp\"\n",
    "RPT_FILE = \"dataset/subcatchment_dataset.inp\""
   ]
  },
  {
   "cell_type": "markdown",
   "id": "64f26c2a-8ea2-479f-afb4-a308ef9bd098",
   "metadata": {
    "tags": []
   },
   "source": [
    "# Run simulation"
   ]
  },
  {
   "cell_type": "code",
   "execution_count": 6,
   "id": "55ba70ee-57b6-4f10-ba31-1491cf3e5abd",
   "metadata": {
    "tags": []
   },
   "outputs": [],
   "source": [
    "with pyswmm.Simulation(INP_FILE) as sim:\n",
    "    for step in sim:\n",
    "        pass"
   ]
  },
  {
   "cell_type": "markdown",
   "id": "41a1e5e8-bc02-423b-be65-27525ff80744",
   "metadata": {
    "tags": []
   },
   "source": [
    "# Read inp and rpt file as swmmio model object"
   ]
  },
  {
   "cell_type": "code",
   "execution_count": 30,
   "id": "47c87820-5d5f-40d4-b47f-f1f9e3802551",
   "metadata": {
    "tags": []
   },
   "outputs": [],
   "source": [
    "model = swmmio.Model(INP_FILE)"
   ]
  },
  {
   "cell_type": "markdown",
   "id": "509d6391-c4ac-462f-be8f-d39f57aa7666",
   "metadata": {
    "tags": []
   },
   "source": [
    "## Get subcatchments data from the model"
   ]
  },
  {
   "cell_type": "code",
   "execution_count": 31,
   "id": "3c34c355-f5c1-420f-a437-2223f8ff53e5",
   "metadata": {},
   "outputs": [
    {
     "data": {
      "text/html": [
       "<div>\n",
       "<style scoped>\n",
       "    .dataframe tbody tr th:only-of-type {\n",
       "        vertical-align: middle;\n",
       "    }\n",
       "\n",
       "    .dataframe tbody tr th {\n",
       "        vertical-align: top;\n",
       "    }\n",
       "\n",
       "    .dataframe thead th {\n",
       "        text-align: right;\n",
       "    }\n",
       "</style>\n",
       "<table border=\"1\" class=\"dataframe\">\n",
       "  <thead>\n",
       "    <tr style=\"text-align: right;\">\n",
       "      <th></th>\n",
       "      <th>Raingage</th>\n",
       "      <th>Outlet</th>\n",
       "      <th>Area</th>\n",
       "      <th>PercImperv</th>\n",
       "      <th>Width</th>\n",
       "      <th>PercSlope</th>\n",
       "      <th>CurbLength</th>\n",
       "      <th>N-Imperv</th>\n",
       "      <th>N-Perv</th>\n",
       "      <th>S-Imperv</th>\n",
       "      <th>S-Perv</th>\n",
       "      <th>PctZero</th>\n",
       "      <th>RouteTo</th>\n",
       "      <th>TotalPrecip</th>\n",
       "      <th>TotalRunon</th>\n",
       "      <th>TotalEvap</th>\n",
       "      <th>TotalInfil</th>\n",
       "      <th>ImpervRunoff</th>\n",
       "      <th>PervRunoff</th>\n",
       "      <th>TotalRunoffIn</th>\n",
       "      <th>TotalRunoffMG</th>\n",
       "      <th>PeakRunoff</th>\n",
       "      <th>RunoffCoeff</th>\n",
       "      <th>coords</th>\n",
       "    </tr>\n",
       "    <tr>\n",
       "      <th>Name</th>\n",
       "      <th></th>\n",
       "      <th></th>\n",
       "      <th></th>\n",
       "      <th></th>\n",
       "      <th></th>\n",
       "      <th></th>\n",
       "      <th></th>\n",
       "      <th></th>\n",
       "      <th></th>\n",
       "      <th></th>\n",
       "      <th></th>\n",
       "      <th></th>\n",
       "      <th></th>\n",
       "      <th></th>\n",
       "      <th></th>\n",
       "      <th></th>\n",
       "      <th></th>\n",
       "      <th></th>\n",
       "      <th></th>\n",
       "      <th></th>\n",
       "      <th></th>\n",
       "      <th></th>\n",
       "      <th></th>\n",
       "      <th></th>\n",
       "    </tr>\n",
       "  </thead>\n",
       "  <tbody>\n",
       "    <tr>\n",
       "      <th>S1</th>\n",
       "      <td>Raingage2</td>\n",
       "      <td>O1</td>\n",
       "      <td>0.50</td>\n",
       "      <td>20.00</td>\n",
       "      <td>300.00</td>\n",
       "      <td>5.00</td>\n",
       "      <td>0</td>\n",
       "      <td>0.150</td>\n",
       "      <td>0.41</td>\n",
       "      <td>1.27</td>\n",
       "      <td>5.08</td>\n",
       "      <td>70</td>\n",
       "      <td>OUTLET</td>\n",
       "      <td>10.10</td>\n",
       "      <td>0.00</td>\n",
       "      <td>0.00</td>\n",
       "      <td>5.91</td>\n",
       "      <td>1.95</td>\n",
       "      <td>2.17</td>\n",
       "      <td>4.12</td>\n",
       "      <td>0.02</td>\n",
       "      <td>0.02</td>\n",
       "      <td>0.407</td>\n",
       "      <td>[(777180.0, 592590.0), (777180.0, 592585.0), (777175.0, 592585.0), (777175.0, 592590.0), (777180.0, 592590.0)]</td>\n",
       "    </tr>\n",
       "    <tr>\n",
       "      <th>S10</th>\n",
       "      <td>Raingage2</td>\n",
       "      <td>O1</td>\n",
       "      <td>1.87</td>\n",
       "      <td>45.00</td>\n",
       "      <td>136.75</td>\n",
       "      <td>15.00</td>\n",
       "      <td>0</td>\n",
       "      <td>0.013</td>\n",
       "      <td>0.15</td>\n",
       "      <td>1.27</td>\n",
       "      <td>5.08</td>\n",
       "      <td>90</td>\n",
       "      <td>OUTLET</td>\n",
       "      <td>10.10</td>\n",
       "      <td>0.00</td>\n",
       "      <td>0.00</td>\n",
       "      <td>4.13</td>\n",
       "      <td>4.50</td>\n",
       "      <td>1.43</td>\n",
       "      <td>5.93</td>\n",
       "      <td>0.11</td>\n",
       "      <td>0.09</td>\n",
       "      <td>0.587</td>\n",
       "      <td>NaN</td>\n",
       "    </tr>\n",
       "    <tr>\n",
       "      <th>S100</th>\n",
       "      <td>Raingage2</td>\n",
       "      <td>O1</td>\n",
       "      <td>1.71</td>\n",
       "      <td>45.00</td>\n",
       "      <td>130.77</td>\n",
       "      <td>10.00</td>\n",
       "      <td>0</td>\n",
       "      <td>0.013</td>\n",
       "      <td>0.15</td>\n",
       "      <td>1.27</td>\n",
       "      <td>5.08</td>\n",
       "      <td>90</td>\n",
       "      <td>OUTLET</td>\n",
       "      <td>10.10</td>\n",
       "      <td>0.00</td>\n",
       "      <td>0.00</td>\n",
       "      <td>4.18</td>\n",
       "      <td>4.50</td>\n",
       "      <td>1.38</td>\n",
       "      <td>5.87</td>\n",
       "      <td>0.10</td>\n",
       "      <td>0.08</td>\n",
       "      <td>0.581</td>\n",
       "      <td>NaN</td>\n",
       "    </tr>\n",
       "    <tr>\n",
       "      <th>S1000</th>\n",
       "      <td>Raingage2</td>\n",
       "      <td>O1</td>\n",
       "      <td>0.68</td>\n",
       "      <td>10.00</td>\n",
       "      <td>82.46</td>\n",
       "      <td>5.09</td>\n",
       "      <td>0</td>\n",
       "      <td>0.150</td>\n",
       "      <td>0.41</td>\n",
       "      <td>1.27</td>\n",
       "      <td>5.08</td>\n",
       "      <td>10</td>\n",
       "      <td>OUTLET</td>\n",
       "      <td>10.10</td>\n",
       "      <td>0.00</td>\n",
       "      <td>0.00</td>\n",
       "      <td>7.73</td>\n",
       "      <td>0.90</td>\n",
       "      <td>1.36</td>\n",
       "      <td>2.26</td>\n",
       "      <td>0.02</td>\n",
       "      <td>0.01</td>\n",
       "      <td>0.224</td>\n",
       "      <td>NaN</td>\n",
       "    </tr>\n",
       "    <tr>\n",
       "      <th>S1001</th>\n",
       "      <td>Raingage2</td>\n",
       "      <td>O1</td>\n",
       "      <td>0.26</td>\n",
       "      <td>83.33</td>\n",
       "      <td>50.99</td>\n",
       "      <td>45.00</td>\n",
       "      <td>0</td>\n",
       "      <td>0.013</td>\n",
       "      <td>0.05</td>\n",
       "      <td>1.27</td>\n",
       "      <td>5.08</td>\n",
       "      <td>80</td>\n",
       "      <td>OUTLET</td>\n",
       "      <td>10.10</td>\n",
       "      <td>0.00</td>\n",
       "      <td>0.00</td>\n",
       "      <td>1.04</td>\n",
       "      <td>8.23</td>\n",
       "      <td>0.65</td>\n",
       "      <td>8.88</td>\n",
       "      <td>0.02</td>\n",
       "      <td>0.02</td>\n",
       "      <td>0.879</td>\n",
       "      <td>NaN</td>\n",
       "    </tr>\n",
       "  </tbody>\n",
       "</table>\n",
       "</div>"
      ],
      "text/plain": [
       "        Raingage Outlet  Area  PercImperv   Width  PercSlope  CurbLength  N-Imperv  N-Perv  S-Imperv  S-Perv  PctZero RouteTo TotalPrecip TotalRunon TotalEvap TotalInfil  ImpervRunoff PervRunoff  TotalRunoffIn  TotalRunoffMG  PeakRunoff  RunoffCoeff                                                                                                          coords\n",
       "Name                                                                                                                                                                                                                                                                                                                                                                     \n",
       "S1     Raingage2     O1  0.50       20.00  300.00       5.00           0     0.150    0.41      1.27    5.08       70  OUTLET       10.10       0.00      0.00       5.91          1.95       2.17           4.12           0.02        0.02        0.407  [(777180.0, 592590.0), (777180.0, 592585.0), (777175.0, 592585.0), (777175.0, 592590.0), (777180.0, 592590.0)]\n",
       "S10    Raingage2     O1  1.87       45.00  136.75      15.00           0     0.013    0.15      1.27    5.08       90  OUTLET       10.10       0.00      0.00       4.13          4.50       1.43           5.93           0.11        0.09        0.587                                                                                                             NaN\n",
       "S100   Raingage2     O1  1.71       45.00  130.77      10.00           0     0.013    0.15      1.27    5.08       90  OUTLET       10.10       0.00      0.00       4.18          4.50       1.38           5.87           0.10        0.08        0.581                                                                                                             NaN\n",
       "S1000  Raingage2     O1  0.68       10.00   82.46       5.09           0     0.150    0.41      1.27    5.08       10  OUTLET       10.10       0.00      0.00       7.73          0.90       1.36           2.26           0.02        0.01        0.224                                                                                                             NaN\n",
       "S1001  Raingage2     O1  0.26       83.33   50.99      45.00           0     0.013    0.05      1.27    5.08       80  OUTLET       10.10       0.00      0.00       1.04          8.23       0.65           8.88           0.02        0.02        0.879                                                                                                             NaN"
      ]
     },
     "execution_count": 31,
     "metadata": {},
     "output_type": "execute_result"
    }
   ],
   "source": [
    "raw_subcatchments = model.subcatchments.dataframe\n",
    "subcatchments = raw_subcatchments.copy()\n",
    "subcatchments[:5]"
   ]
  },
  {
   "cell_type": "markdown",
   "id": "90961230-f871-4f50-8d48-52f509304ec2",
   "metadata": {
    "tags": []
   },
   "source": [
    "### Drop unused columns"
   ]
  },
  {
   "cell_type": "code",
   "execution_count": 32,
   "id": "8d4bf621-5085-4641-a7c5-38460e68ab4b",
   "metadata": {
    "tags": []
   },
   "outputs": [
    {
     "data": {
      "text/html": [
       "<div>\n",
       "<style scoped>\n",
       "    .dataframe tbody tr th:only-of-type {\n",
       "        vertical-align: middle;\n",
       "    }\n",
       "\n",
       "    .dataframe tbody tr th {\n",
       "        vertical-align: top;\n",
       "    }\n",
       "\n",
       "    .dataframe thead th {\n",
       "        text-align: right;\n",
       "    }\n",
       "</style>\n",
       "<table border=\"1\" class=\"dataframe\">\n",
       "  <thead>\n",
       "    <tr style=\"text-align: right;\">\n",
       "      <th></th>\n",
       "      <th>Raingage</th>\n",
       "      <th>Outlet</th>\n",
       "      <th>Area</th>\n",
       "      <th>PercImperv</th>\n",
       "      <th>Width</th>\n",
       "      <th>PercSlope</th>\n",
       "      <th>CurbLength</th>\n",
       "      <th>N-Imperv</th>\n",
       "      <th>N-Perv</th>\n",
       "      <th>S-Imperv</th>\n",
       "      <th>S-Perv</th>\n",
       "      <th>PctZero</th>\n",
       "      <th>TotalPrecip</th>\n",
       "      <th>TotalRunon</th>\n",
       "      <th>TotalEvap</th>\n",
       "      <th>TotalInfil</th>\n",
       "      <th>ImpervRunoff</th>\n",
       "      <th>PervRunoff</th>\n",
       "      <th>TotalRunoffIn</th>\n",
       "      <th>TotalRunoffMG</th>\n",
       "      <th>PeakRunoff</th>\n",
       "      <th>RunoffCoeff</th>\n",
       "    </tr>\n",
       "    <tr>\n",
       "      <th>Name</th>\n",
       "      <th></th>\n",
       "      <th></th>\n",
       "      <th></th>\n",
       "      <th></th>\n",
       "      <th></th>\n",
       "      <th></th>\n",
       "      <th></th>\n",
       "      <th></th>\n",
       "      <th></th>\n",
       "      <th></th>\n",
       "      <th></th>\n",
       "      <th></th>\n",
       "      <th></th>\n",
       "      <th></th>\n",
       "      <th></th>\n",
       "      <th></th>\n",
       "      <th></th>\n",
       "      <th></th>\n",
       "      <th></th>\n",
       "      <th></th>\n",
       "      <th></th>\n",
       "      <th></th>\n",
       "    </tr>\n",
       "  </thead>\n",
       "  <tbody>\n",
       "    <tr>\n",
       "      <th>S1</th>\n",
       "      <td>Raingage2</td>\n",
       "      <td>O1</td>\n",
       "      <td>0.50</td>\n",
       "      <td>20.00</td>\n",
       "      <td>300.00</td>\n",
       "      <td>5.00</td>\n",
       "      <td>0</td>\n",
       "      <td>0.150</td>\n",
       "      <td>0.41</td>\n",
       "      <td>1.27</td>\n",
       "      <td>5.08</td>\n",
       "      <td>70</td>\n",
       "      <td>10.10</td>\n",
       "      <td>0.00</td>\n",
       "      <td>0.00</td>\n",
       "      <td>5.91</td>\n",
       "      <td>1.95</td>\n",
       "      <td>2.17</td>\n",
       "      <td>4.12</td>\n",
       "      <td>0.02</td>\n",
       "      <td>0.02</td>\n",
       "      <td>0.407</td>\n",
       "    </tr>\n",
       "    <tr>\n",
       "      <th>S10</th>\n",
       "      <td>Raingage2</td>\n",
       "      <td>O1</td>\n",
       "      <td>1.87</td>\n",
       "      <td>45.00</td>\n",
       "      <td>136.75</td>\n",
       "      <td>15.00</td>\n",
       "      <td>0</td>\n",
       "      <td>0.013</td>\n",
       "      <td>0.15</td>\n",
       "      <td>1.27</td>\n",
       "      <td>5.08</td>\n",
       "      <td>90</td>\n",
       "      <td>10.10</td>\n",
       "      <td>0.00</td>\n",
       "      <td>0.00</td>\n",
       "      <td>4.13</td>\n",
       "      <td>4.50</td>\n",
       "      <td>1.43</td>\n",
       "      <td>5.93</td>\n",
       "      <td>0.11</td>\n",
       "      <td>0.09</td>\n",
       "      <td>0.587</td>\n",
       "    </tr>\n",
       "    <tr>\n",
       "      <th>S100</th>\n",
       "      <td>Raingage2</td>\n",
       "      <td>O1</td>\n",
       "      <td>1.71</td>\n",
       "      <td>45.00</td>\n",
       "      <td>130.77</td>\n",
       "      <td>10.00</td>\n",
       "      <td>0</td>\n",
       "      <td>0.013</td>\n",
       "      <td>0.15</td>\n",
       "      <td>1.27</td>\n",
       "      <td>5.08</td>\n",
       "      <td>90</td>\n",
       "      <td>10.10</td>\n",
       "      <td>0.00</td>\n",
       "      <td>0.00</td>\n",
       "      <td>4.18</td>\n",
       "      <td>4.50</td>\n",
       "      <td>1.38</td>\n",
       "      <td>5.87</td>\n",
       "      <td>0.10</td>\n",
       "      <td>0.08</td>\n",
       "      <td>0.581</td>\n",
       "    </tr>\n",
       "    <tr>\n",
       "      <th>S1000</th>\n",
       "      <td>Raingage2</td>\n",
       "      <td>O1</td>\n",
       "      <td>0.68</td>\n",
       "      <td>10.00</td>\n",
       "      <td>82.46</td>\n",
       "      <td>5.09</td>\n",
       "      <td>0</td>\n",
       "      <td>0.150</td>\n",
       "      <td>0.41</td>\n",
       "      <td>1.27</td>\n",
       "      <td>5.08</td>\n",
       "      <td>10</td>\n",
       "      <td>10.10</td>\n",
       "      <td>0.00</td>\n",
       "      <td>0.00</td>\n",
       "      <td>7.73</td>\n",
       "      <td>0.90</td>\n",
       "      <td>1.36</td>\n",
       "      <td>2.26</td>\n",
       "      <td>0.02</td>\n",
       "      <td>0.01</td>\n",
       "      <td>0.224</td>\n",
       "    </tr>\n",
       "    <tr>\n",
       "      <th>S1001</th>\n",
       "      <td>Raingage2</td>\n",
       "      <td>O1</td>\n",
       "      <td>0.26</td>\n",
       "      <td>83.33</td>\n",
       "      <td>50.99</td>\n",
       "      <td>45.00</td>\n",
       "      <td>0</td>\n",
       "      <td>0.013</td>\n",
       "      <td>0.05</td>\n",
       "      <td>1.27</td>\n",
       "      <td>5.08</td>\n",
       "      <td>80</td>\n",
       "      <td>10.10</td>\n",
       "      <td>0.00</td>\n",
       "      <td>0.00</td>\n",
       "      <td>1.04</td>\n",
       "      <td>8.23</td>\n",
       "      <td>0.65</td>\n",
       "      <td>8.88</td>\n",
       "      <td>0.02</td>\n",
       "      <td>0.02</td>\n",
       "      <td>0.879</td>\n",
       "    </tr>\n",
       "    <tr>\n",
       "      <th>...</th>\n",
       "      <td>...</td>\n",
       "      <td>...</td>\n",
       "      <td>...</td>\n",
       "      <td>...</td>\n",
       "      <td>...</td>\n",
       "      <td>...</td>\n",
       "      <td>...</td>\n",
       "      <td>...</td>\n",
       "      <td>...</td>\n",
       "      <td>...</td>\n",
       "      <td>...</td>\n",
       "      <td>...</td>\n",
       "      <td>...</td>\n",
       "      <td>...</td>\n",
       "      <td>...</td>\n",
       "      <td>...</td>\n",
       "      <td>...</td>\n",
       "      <td>...</td>\n",
       "      <td>...</td>\n",
       "      <td>...</td>\n",
       "      <td>...</td>\n",
       "      <td>...</td>\n",
       "    </tr>\n",
       "    <tr>\n",
       "      <th>S995</th>\n",
       "      <td>Raingage2</td>\n",
       "      <td>O1</td>\n",
       "      <td>1.10</td>\n",
       "      <td>10.00</td>\n",
       "      <td>104.88</td>\n",
       "      <td>15.00</td>\n",
       "      <td>0</td>\n",
       "      <td>0.150</td>\n",
       "      <td>0.41</td>\n",
       "      <td>1.27</td>\n",
       "      <td>5.08</td>\n",
       "      <td>10</td>\n",
       "      <td>10.10</td>\n",
       "      <td>0.00</td>\n",
       "      <td>0.00</td>\n",
       "      <td>7.53</td>\n",
       "      <td>0.90</td>\n",
       "      <td>1.56</td>\n",
       "      <td>2.46</td>\n",
       "      <td>0.03</td>\n",
       "      <td>0.02</td>\n",
       "      <td>0.243</td>\n",
       "    </tr>\n",
       "    <tr>\n",
       "      <th>S996</th>\n",
       "      <td>Raingage2</td>\n",
       "      <td>O1</td>\n",
       "      <td>1.89</td>\n",
       "      <td>5.09</td>\n",
       "      <td>137.48</td>\n",
       "      <td>15.00</td>\n",
       "      <td>0</td>\n",
       "      <td>0.060</td>\n",
       "      <td>0.17</td>\n",
       "      <td>1.27</td>\n",
       "      <td>5.08</td>\n",
       "      <td>10</td>\n",
       "      <td>10.10</td>\n",
       "      <td>0.00</td>\n",
       "      <td>0.00</td>\n",
       "      <td>7.55</td>\n",
       "      <td>0.46</td>\n",
       "      <td>2.04</td>\n",
       "      <td>2.49</td>\n",
       "      <td>0.05</td>\n",
       "      <td>0.03</td>\n",
       "      <td>0.247</td>\n",
       "    </tr>\n",
       "    <tr>\n",
       "      <th>S997</th>\n",
       "      <td>Raingage2</td>\n",
       "      <td>O1</td>\n",
       "      <td>1.19</td>\n",
       "      <td>10.00</td>\n",
       "      <td>109.09</td>\n",
       "      <td>5.09</td>\n",
       "      <td>0</td>\n",
       "      <td>0.150</td>\n",
       "      <td>0.41</td>\n",
       "      <td>1.27</td>\n",
       "      <td>5.08</td>\n",
       "      <td>10</td>\n",
       "      <td>10.10</td>\n",
       "      <td>0.00</td>\n",
       "      <td>0.00</td>\n",
       "      <td>7.91</td>\n",
       "      <td>0.90</td>\n",
       "      <td>1.18</td>\n",
       "      <td>2.08</td>\n",
       "      <td>0.02</td>\n",
       "      <td>0.01</td>\n",
       "      <td>0.206</td>\n",
       "    </tr>\n",
       "    <tr>\n",
       "      <th>S998</th>\n",
       "      <td>Raingage2</td>\n",
       "      <td>O1</td>\n",
       "      <td>0.05</td>\n",
       "      <td>65.00</td>\n",
       "      <td>22.36</td>\n",
       "      <td>61.67</td>\n",
       "      <td>0</td>\n",
       "      <td>0.013</td>\n",
       "      <td>0.05</td>\n",
       "      <td>1.27</td>\n",
       "      <td>5.08</td>\n",
       "      <td>80</td>\n",
       "      <td>10.10</td>\n",
       "      <td>0.00</td>\n",
       "      <td>0.00</td>\n",
       "      <td>2.18</td>\n",
       "      <td>6.43</td>\n",
       "      <td>1.37</td>\n",
       "      <td>7.81</td>\n",
       "      <td>0.00</td>\n",
       "      <td>0.00</td>\n",
       "      <td>0.773</td>\n",
       "    </tr>\n",
       "    <tr>\n",
       "      <th>S999</th>\n",
       "      <td>Raingage2</td>\n",
       "      <td>O1</td>\n",
       "      <td>0.66</td>\n",
       "      <td>30.00</td>\n",
       "      <td>81.24</td>\n",
       "      <td>10.00</td>\n",
       "      <td>0</td>\n",
       "      <td>0.013</td>\n",
       "      <td>0.24</td>\n",
       "      <td>1.27</td>\n",
       "      <td>5.08</td>\n",
       "      <td>80</td>\n",
       "      <td>10.10</td>\n",
       "      <td>0.00</td>\n",
       "      <td>0.00</td>\n",
       "      <td>5.43</td>\n",
       "      <td>2.96</td>\n",
       "      <td>1.64</td>\n",
       "      <td>4.60</td>\n",
       "      <td>0.03</td>\n",
       "      <td>0.02</td>\n",
       "      <td>0.456</td>\n",
       "    </tr>\n",
       "  </tbody>\n",
       "</table>\n",
       "<p>1001 rows × 22 columns</p>\n",
       "</div>"
      ],
      "text/plain": [
       "        Raingage Outlet  Area  PercImperv   Width  PercSlope  CurbLength  N-Imperv  N-Perv  S-Imperv  S-Perv  PctZero TotalPrecip TotalRunon TotalEvap TotalInfil  ImpervRunoff PervRunoff  TotalRunoffIn  TotalRunoffMG  PeakRunoff  RunoffCoeff\n",
       "Name                                                                                                                                                                                                                                             \n",
       "S1     Raingage2     O1  0.50       20.00  300.00       5.00           0     0.150    0.41      1.27    5.08       70       10.10       0.00      0.00       5.91          1.95       2.17           4.12           0.02        0.02        0.407\n",
       "S10    Raingage2     O1  1.87       45.00  136.75      15.00           0     0.013    0.15      1.27    5.08       90       10.10       0.00      0.00       4.13          4.50       1.43           5.93           0.11        0.09        0.587\n",
       "S100   Raingage2     O1  1.71       45.00  130.77      10.00           0     0.013    0.15      1.27    5.08       90       10.10       0.00      0.00       4.18          4.50       1.38           5.87           0.10        0.08        0.581\n",
       "S1000  Raingage2     O1  0.68       10.00   82.46       5.09           0     0.150    0.41      1.27    5.08       10       10.10       0.00      0.00       7.73          0.90       1.36           2.26           0.02        0.01        0.224\n",
       "S1001  Raingage2     O1  0.26       83.33   50.99      45.00           0     0.013    0.05      1.27    5.08       80       10.10       0.00      0.00       1.04          8.23       0.65           8.88           0.02        0.02        0.879\n",
       "...          ...    ...   ...         ...     ...        ...         ...       ...     ...       ...     ...      ...         ...        ...       ...        ...           ...        ...            ...            ...         ...          ...\n",
       "S995   Raingage2     O1  1.10       10.00  104.88      15.00           0     0.150    0.41      1.27    5.08       10       10.10       0.00      0.00       7.53          0.90       1.56           2.46           0.03        0.02        0.243\n",
       "S996   Raingage2     O1  1.89        5.09  137.48      15.00           0     0.060    0.17      1.27    5.08       10       10.10       0.00      0.00       7.55          0.46       2.04           2.49           0.05        0.03        0.247\n",
       "S997   Raingage2     O1  1.19       10.00  109.09       5.09           0     0.150    0.41      1.27    5.08       10       10.10       0.00      0.00       7.91          0.90       1.18           2.08           0.02        0.01        0.206\n",
       "S998   Raingage2     O1  0.05       65.00   22.36      61.67           0     0.013    0.05      1.27    5.08       80       10.10       0.00      0.00       2.18          6.43       1.37           7.81           0.00        0.00        0.773\n",
       "S999   Raingage2     O1  0.66       30.00   81.24      10.00           0     0.013    0.24      1.27    5.08       80       10.10       0.00      0.00       5.43          2.96       1.64           4.60           0.03        0.02        0.456\n",
       "\n",
       "[1001 rows x 22 columns]"
      ]
     },
     "execution_count": 32,
     "metadata": {},
     "output_type": "execute_result"
    }
   ],
   "source": [
    "subcatchments.drop(['coords', 'RouteTo'], axis=1, inplace=True)\n",
    "subcatchments"
   ]
  },
  {
   "cell_type": "markdown",
   "id": "aec10d49-c5c5-4d85-b88b-988292b3500b",
   "metadata": {},
   "source": [
    "## Get categories"
   ]
  },
  {
   "cell_type": "code",
   "execution_count": 33,
   "id": "16e17b13-3c2e-4475-96b5-1555b71d3e9c",
   "metadata": {
    "tags": []
   },
   "outputs": [
    {
     "data": {
      "text/html": [
       "<div>\n",
       "<style scoped>\n",
       "    .dataframe tbody tr th:only-of-type {\n",
       "        vertical-align: middle;\n",
       "    }\n",
       "\n",
       "    .dataframe tbody tr th {\n",
       "        vertical-align: top;\n",
       "    }\n",
       "\n",
       "    .dataframe thead th {\n",
       "        text-align: right;\n",
       "    }\n",
       "</style>\n",
       "<table border=\"1\" class=\"dataframe\">\n",
       "  <thead>\n",
       "    <tr style=\"text-align: right;\">\n",
       "      <th></th>\n",
       "      <th>Name</th>\n",
       "      <th>Tag</th>\n",
       "    </tr>\n",
       "    <tr>\n",
       "      <th>ElementType</th>\n",
       "      <th></th>\n",
       "      <th></th>\n",
       "    </tr>\n",
       "  </thead>\n",
       "  <tbody>\n",
       "    <tr>\n",
       "      <th>Subcatch</th>\n",
       "      <td>S1</td>\n",
       "      <td>#comment</td>\n",
       "    </tr>\n",
       "    <tr>\n",
       "      <th>Subcatch</th>\n",
       "      <td>S2</td>\n",
       "      <td>compact_urban_development</td>\n",
       "    </tr>\n",
       "    <tr>\n",
       "      <th>Subcatch</th>\n",
       "      <td>S3</td>\n",
       "      <td>loose_soil</td>\n",
       "    </tr>\n",
       "    <tr>\n",
       "      <th>Subcatch</th>\n",
       "      <td>S4</td>\n",
       "      <td>wooded_area</td>\n",
       "    </tr>\n",
       "    <tr>\n",
       "      <th>Subcatch</th>\n",
       "      <td>S5</td>\n",
       "      <td>loose_urban_development</td>\n",
       "    </tr>\n",
       "    <tr>\n",
       "      <th>...</th>\n",
       "      <td>...</td>\n",
       "      <td>...</td>\n",
       "    </tr>\n",
       "    <tr>\n",
       "      <th>Subcatch</th>\n",
       "      <td>S997</td>\n",
       "      <td>grassy</td>\n",
       "    </tr>\n",
       "    <tr>\n",
       "      <th>Subcatch</th>\n",
       "      <td>S998</td>\n",
       "      <td>steep_area</td>\n",
       "    </tr>\n",
       "    <tr>\n",
       "      <th>Subcatch</th>\n",
       "      <td>S999</td>\n",
       "      <td>urban</td>\n",
       "    </tr>\n",
       "    <tr>\n",
       "      <th>Subcatch</th>\n",
       "      <td>S1000</td>\n",
       "      <td>grassy</td>\n",
       "    </tr>\n",
       "    <tr>\n",
       "      <th>Subcatch</th>\n",
       "      <td>S1001</td>\n",
       "      <td>steep_area</td>\n",
       "    </tr>\n",
       "  </tbody>\n",
       "</table>\n",
       "<p>1001 rows × 2 columns</p>\n",
       "</div>"
      ],
      "text/plain": [
       "              Name                        Tag\n",
       "ElementType                                  \n",
       "Subcatch        S1                   #comment\n",
       "Subcatch        S2  compact_urban_development\n",
       "Subcatch        S3                 loose_soil\n",
       "Subcatch        S4                wooded_area\n",
       "Subcatch        S5    loose_urban_development\n",
       "...            ...                        ...\n",
       "Subcatch      S997                     grassy\n",
       "Subcatch      S998                 steep_area\n",
       "Subcatch      S999                      urban\n",
       "Subcatch     S1000                     grassy\n",
       "Subcatch     S1001                 steep_area\n",
       "\n",
       "[1001 rows x 2 columns]"
      ]
     },
     "execution_count": 33,
     "metadata": {},
     "output_type": "execute_result"
    }
   ],
   "source": [
    "categories = model.inp.tags\n",
    "categories"
   ]
  },
  {
   "cell_type": "markdown",
   "id": "2909fc39-f2b9-4208-bd94-aff400908f83",
   "metadata": {},
   "source": [
    "### Add categories column to subcatchments DataFrame"
   ]
  },
  {
   "cell_type": "code",
   "execution_count": 35,
   "id": "c06fec91-94c5-4d36-ac9b-a9a7405bc95e",
   "metadata": {
    "tags": []
   },
   "outputs": [],
   "source": [
    "# Reset the index of subcatchments DataFrame\n",
    "subcatchments.reset_index(inplace=True)\n",
    "\n",
    "# Merge the two DataFrames on the \"Name\" column\n",
    "merged_df = subcatchments.merge(model.inp.tags, left_on=\"Name\", right_on=\"Name\", how=\"left\")\n",
    "\n",
    "# Rename the 'Tag' column to 'categories'\n",
    "merged_df.rename(columns={\"Tag\": \"categories\"}, inplace=True)\n",
    "\n",
    "# Set the index back to \"Name\"\n",
    "merged_df.set_index(\"Name\", inplace=True)"
   ]
  },
  {
   "cell_type": "code",
   "execution_count": 36,
   "id": "f859870d-2e2d-47ae-b6ca-445e3ef47142",
   "metadata": {
    "tags": []
   },
   "outputs": [
    {
     "data": {
      "text/html": [
       "<div>\n",
       "<style scoped>\n",
       "    .dataframe tbody tr th:only-of-type {\n",
       "        vertical-align: middle;\n",
       "    }\n",
       "\n",
       "    .dataframe tbody tr th {\n",
       "        vertical-align: top;\n",
       "    }\n",
       "\n",
       "    .dataframe thead th {\n",
       "        text-align: right;\n",
       "    }\n",
       "</style>\n",
       "<table border=\"1\" class=\"dataframe\">\n",
       "  <thead>\n",
       "    <tr style=\"text-align: right;\">\n",
       "      <th></th>\n",
       "      <th>index</th>\n",
       "      <th>Raingage</th>\n",
       "      <th>Outlet</th>\n",
       "      <th>Area</th>\n",
       "      <th>PercImperv</th>\n",
       "      <th>Width</th>\n",
       "      <th>PercSlope</th>\n",
       "      <th>CurbLength</th>\n",
       "      <th>N-Imperv</th>\n",
       "      <th>N-Perv</th>\n",
       "      <th>S-Imperv</th>\n",
       "      <th>S-Perv</th>\n",
       "      <th>PctZero</th>\n",
       "      <th>TotalPrecip</th>\n",
       "      <th>TotalRunon</th>\n",
       "      <th>TotalEvap</th>\n",
       "      <th>TotalInfil</th>\n",
       "      <th>ImpervRunoff</th>\n",
       "      <th>PervRunoff</th>\n",
       "      <th>TotalRunoffIn</th>\n",
       "      <th>TotalRunoffMG</th>\n",
       "      <th>PeakRunoff</th>\n",
       "      <th>RunoffCoeff</th>\n",
       "      <th>categories</th>\n",
       "    </tr>\n",
       "    <tr>\n",
       "      <th>Name</th>\n",
       "      <th></th>\n",
       "      <th></th>\n",
       "      <th></th>\n",
       "      <th></th>\n",
       "      <th></th>\n",
       "      <th></th>\n",
       "      <th></th>\n",
       "      <th></th>\n",
       "      <th></th>\n",
       "      <th></th>\n",
       "      <th></th>\n",
       "      <th></th>\n",
       "      <th></th>\n",
       "      <th></th>\n",
       "      <th></th>\n",
       "      <th></th>\n",
       "      <th></th>\n",
       "      <th></th>\n",
       "      <th></th>\n",
       "      <th></th>\n",
       "      <th></th>\n",
       "      <th></th>\n",
       "      <th></th>\n",
       "      <th></th>\n",
       "    </tr>\n",
       "  </thead>\n",
       "  <tbody>\n",
       "    <tr>\n",
       "      <th>S1</th>\n",
       "      <td>0</td>\n",
       "      <td>Raingage2</td>\n",
       "      <td>O1</td>\n",
       "      <td>0.50</td>\n",
       "      <td>20.0</td>\n",
       "      <td>300.00</td>\n",
       "      <td>5.0</td>\n",
       "      <td>0</td>\n",
       "      <td>0.150</td>\n",
       "      <td>0.41</td>\n",
       "      <td>1.27</td>\n",
       "      <td>5.08</td>\n",
       "      <td>70</td>\n",
       "      <td>10.10</td>\n",
       "      <td>0.00</td>\n",
       "      <td>0.00</td>\n",
       "      <td>5.91</td>\n",
       "      <td>1.95</td>\n",
       "      <td>2.17</td>\n",
       "      <td>4.12</td>\n",
       "      <td>0.02</td>\n",
       "      <td>0.02</td>\n",
       "      <td>0.407</td>\n",
       "      <td>#comment</td>\n",
       "    </tr>\n",
       "    <tr>\n",
       "      <th>S10</th>\n",
       "      <td>1</td>\n",
       "      <td>Raingage2</td>\n",
       "      <td>O1</td>\n",
       "      <td>1.87</td>\n",
       "      <td>45.0</td>\n",
       "      <td>136.75</td>\n",
       "      <td>15.0</td>\n",
       "      <td>0</td>\n",
       "      <td>0.013</td>\n",
       "      <td>0.15</td>\n",
       "      <td>1.27</td>\n",
       "      <td>5.08</td>\n",
       "      <td>90</td>\n",
       "      <td>10.10</td>\n",
       "      <td>0.00</td>\n",
       "      <td>0.00</td>\n",
       "      <td>4.13</td>\n",
       "      <td>4.50</td>\n",
       "      <td>1.43</td>\n",
       "      <td>5.93</td>\n",
       "      <td>0.11</td>\n",
       "      <td>0.09</td>\n",
       "      <td>0.587</td>\n",
       "      <td>compact_urban_development</td>\n",
       "    </tr>\n",
       "    <tr>\n",
       "      <th>S100</th>\n",
       "      <td>2</td>\n",
       "      <td>Raingage2</td>\n",
       "      <td>O1</td>\n",
       "      <td>1.71</td>\n",
       "      <td>45.0</td>\n",
       "      <td>130.77</td>\n",
       "      <td>10.0</td>\n",
       "      <td>0</td>\n",
       "      <td>0.013</td>\n",
       "      <td>0.15</td>\n",
       "      <td>1.27</td>\n",
       "      <td>5.08</td>\n",
       "      <td>90</td>\n",
       "      <td>10.10</td>\n",
       "      <td>0.00</td>\n",
       "      <td>0.00</td>\n",
       "      <td>4.18</td>\n",
       "      <td>4.50</td>\n",
       "      <td>1.38</td>\n",
       "      <td>5.87</td>\n",
       "      <td>0.10</td>\n",
       "      <td>0.08</td>\n",
       "      <td>0.581</td>\n",
       "      <td>compact_urban_development</td>\n",
       "    </tr>\n",
       "  </tbody>\n",
       "</table>\n",
       "</div>"
      ],
      "text/plain": [
       "      index   Raingage Outlet  Area  PercImperv   Width  PercSlope  CurbLength  N-Imperv  N-Perv  S-Imperv  S-Perv  PctZero TotalPrecip TotalRunon TotalEvap TotalInfil  ImpervRunoff PervRunoff  TotalRunoffIn  TotalRunoffMG  PeakRunoff  RunoffCoeff                 categories\n",
       "Name                                                                                                                                                                                                                                                                              \n",
       "S1        0  Raingage2     O1  0.50        20.0  300.00        5.0           0     0.150    0.41      1.27    5.08       70       10.10       0.00      0.00       5.91          1.95       2.17           4.12           0.02        0.02        0.407                   #comment\n",
       "S10       1  Raingage2     O1  1.87        45.0  136.75       15.0           0     0.013    0.15      1.27    5.08       90       10.10       0.00      0.00       4.13          4.50       1.43           5.93           0.11        0.09        0.587  compact_urban_development\n",
       "S100      2  Raingage2     O1  1.71        45.0  130.77       10.0           0     0.013    0.15      1.27    5.08       90       10.10       0.00      0.00       4.18          4.50       1.38           5.87           0.10        0.08        0.581  compact_urban_development"
      ]
     },
     "execution_count": 36,
     "metadata": {},
     "output_type": "execute_result"
    }
   ],
   "source": [
    "merged_df[:3]"
   ]
  },
  {
   "cell_type": "code",
   "execution_count": 37,
   "id": "1db93097-3c2a-4061-bc61-b078d12d2a88",
   "metadata": {
    "tags": []
   },
   "outputs": [
    {
     "data": {
      "text/html": [
       "<div>\n",
       "<style scoped>\n",
       "    .dataframe tbody tr th:only-of-type {\n",
       "        vertical-align: middle;\n",
       "    }\n",
       "\n",
       "    .dataframe tbody tr th {\n",
       "        vertical-align: top;\n",
       "    }\n",
       "\n",
       "    .dataframe thead th {\n",
       "        text-align: right;\n",
       "    }\n",
       "</style>\n",
       "<table border=\"1\" class=\"dataframe\">\n",
       "  <thead>\n",
       "    <tr style=\"text-align: right;\">\n",
       "      <th></th>\n",
       "      <th>index</th>\n",
       "      <th>Raingage</th>\n",
       "      <th>Outlet</th>\n",
       "      <th>Area</th>\n",
       "      <th>PercImperv</th>\n",
       "      <th>Width</th>\n",
       "      <th>PercSlope</th>\n",
       "      <th>CurbLength</th>\n",
       "      <th>N-Imperv</th>\n",
       "      <th>N-Perv</th>\n",
       "      <th>S-Imperv</th>\n",
       "      <th>S-Perv</th>\n",
       "      <th>PctZero</th>\n",
       "      <th>TotalPrecip</th>\n",
       "      <th>TotalRunon</th>\n",
       "      <th>TotalEvap</th>\n",
       "      <th>TotalInfil</th>\n",
       "      <th>ImpervRunoff</th>\n",
       "      <th>PervRunoff</th>\n",
       "      <th>TotalRunoffIn</th>\n",
       "      <th>TotalRunoffMG</th>\n",
       "      <th>PeakRunoff</th>\n",
       "      <th>RunoffCoeff</th>\n",
       "      <th>categories</th>\n",
       "    </tr>\n",
       "    <tr>\n",
       "      <th>Name</th>\n",
       "      <th></th>\n",
       "      <th></th>\n",
       "      <th></th>\n",
       "      <th></th>\n",
       "      <th></th>\n",
       "      <th></th>\n",
       "      <th></th>\n",
       "      <th></th>\n",
       "      <th></th>\n",
       "      <th></th>\n",
       "      <th></th>\n",
       "      <th></th>\n",
       "      <th></th>\n",
       "      <th></th>\n",
       "      <th></th>\n",
       "      <th></th>\n",
       "      <th></th>\n",
       "      <th></th>\n",
       "      <th></th>\n",
       "      <th></th>\n",
       "      <th></th>\n",
       "      <th></th>\n",
       "      <th></th>\n",
       "      <th></th>\n",
       "    </tr>\n",
       "  </thead>\n",
       "  <tbody>\n",
       "    <tr>\n",
       "      <th>S1</th>\n",
       "      <td>0</td>\n",
       "      <td>Raingage2</td>\n",
       "      <td>O1</td>\n",
       "      <td>0.50</td>\n",
       "      <td>20.00</td>\n",
       "      <td>300.00</td>\n",
       "      <td>5.00</td>\n",
       "      <td>0</td>\n",
       "      <td>0.150</td>\n",
       "      <td>0.41</td>\n",
       "      <td>1.27</td>\n",
       "      <td>5.08</td>\n",
       "      <td>70</td>\n",
       "      <td>10.10</td>\n",
       "      <td>0.00</td>\n",
       "      <td>0.00</td>\n",
       "      <td>5.91</td>\n",
       "      <td>1.95</td>\n",
       "      <td>2.17</td>\n",
       "      <td>4.12</td>\n",
       "      <td>0.02</td>\n",
       "      <td>0.02</td>\n",
       "      <td>0.407</td>\n",
       "      <td>#comment</td>\n",
       "    </tr>\n",
       "    <tr>\n",
       "      <th>S10</th>\n",
       "      <td>1</td>\n",
       "      <td>Raingage2</td>\n",
       "      <td>O1</td>\n",
       "      <td>1.87</td>\n",
       "      <td>45.00</td>\n",
       "      <td>136.75</td>\n",
       "      <td>15.00</td>\n",
       "      <td>0</td>\n",
       "      <td>0.013</td>\n",
       "      <td>0.15</td>\n",
       "      <td>1.27</td>\n",
       "      <td>5.08</td>\n",
       "      <td>90</td>\n",
       "      <td>10.10</td>\n",
       "      <td>0.00</td>\n",
       "      <td>0.00</td>\n",
       "      <td>4.13</td>\n",
       "      <td>4.50</td>\n",
       "      <td>1.43</td>\n",
       "      <td>5.93</td>\n",
       "      <td>0.11</td>\n",
       "      <td>0.09</td>\n",
       "      <td>0.587</td>\n",
       "      <td>compact_urban_development</td>\n",
       "    </tr>\n",
       "    <tr>\n",
       "      <th>S100</th>\n",
       "      <td>2</td>\n",
       "      <td>Raingage2</td>\n",
       "      <td>O1</td>\n",
       "      <td>1.71</td>\n",
       "      <td>45.00</td>\n",
       "      <td>130.77</td>\n",
       "      <td>10.00</td>\n",
       "      <td>0</td>\n",
       "      <td>0.013</td>\n",
       "      <td>0.15</td>\n",
       "      <td>1.27</td>\n",
       "      <td>5.08</td>\n",
       "      <td>90</td>\n",
       "      <td>10.10</td>\n",
       "      <td>0.00</td>\n",
       "      <td>0.00</td>\n",
       "      <td>4.18</td>\n",
       "      <td>4.50</td>\n",
       "      <td>1.38</td>\n",
       "      <td>5.87</td>\n",
       "      <td>0.10</td>\n",
       "      <td>0.08</td>\n",
       "      <td>0.581</td>\n",
       "      <td>compact_urban_development</td>\n",
       "    </tr>\n",
       "    <tr>\n",
       "      <th>S1000</th>\n",
       "      <td>3</td>\n",
       "      <td>Raingage2</td>\n",
       "      <td>O1</td>\n",
       "      <td>0.68</td>\n",
       "      <td>10.00</td>\n",
       "      <td>82.46</td>\n",
       "      <td>5.09</td>\n",
       "      <td>0</td>\n",
       "      <td>0.150</td>\n",
       "      <td>0.41</td>\n",
       "      <td>1.27</td>\n",
       "      <td>5.08</td>\n",
       "      <td>10</td>\n",
       "      <td>10.10</td>\n",
       "      <td>0.00</td>\n",
       "      <td>0.00</td>\n",
       "      <td>7.73</td>\n",
       "      <td>0.90</td>\n",
       "      <td>1.36</td>\n",
       "      <td>2.26</td>\n",
       "      <td>0.02</td>\n",
       "      <td>0.01</td>\n",
       "      <td>0.224</td>\n",
       "      <td>grassy</td>\n",
       "    </tr>\n",
       "    <tr>\n",
       "      <th>S1001</th>\n",
       "      <td>4</td>\n",
       "      <td>Raingage2</td>\n",
       "      <td>O1</td>\n",
       "      <td>0.26</td>\n",
       "      <td>83.33</td>\n",
       "      <td>50.99</td>\n",
       "      <td>45.00</td>\n",
       "      <td>0</td>\n",
       "      <td>0.013</td>\n",
       "      <td>0.05</td>\n",
       "      <td>1.27</td>\n",
       "      <td>5.08</td>\n",
       "      <td>80</td>\n",
       "      <td>10.10</td>\n",
       "      <td>0.00</td>\n",
       "      <td>0.00</td>\n",
       "      <td>1.04</td>\n",
       "      <td>8.23</td>\n",
       "      <td>0.65</td>\n",
       "      <td>8.88</td>\n",
       "      <td>0.02</td>\n",
       "      <td>0.02</td>\n",
       "      <td>0.879</td>\n",
       "      <td>steep_area</td>\n",
       "    </tr>\n",
       "  </tbody>\n",
       "</table>\n",
       "</div>"
      ],
      "text/plain": [
       "       index   Raingage Outlet  Area  PercImperv   Width  PercSlope  CurbLength  N-Imperv  N-Perv  S-Imperv  S-Perv  PctZero TotalPrecip TotalRunon TotalEvap TotalInfil  ImpervRunoff PervRunoff  TotalRunoffIn  TotalRunoffMG  PeakRunoff  RunoffCoeff                 categories\n",
       "Name                                                                                                                                                                                                                                                                               \n",
       "S1         0  Raingage2     O1  0.50       20.00  300.00       5.00           0     0.150    0.41      1.27    5.08       70       10.10       0.00      0.00       5.91          1.95       2.17           4.12           0.02        0.02        0.407                   #comment\n",
       "S10        1  Raingage2     O1  1.87       45.00  136.75      15.00           0     0.013    0.15      1.27    5.08       90       10.10       0.00      0.00       4.13          4.50       1.43           5.93           0.11        0.09        0.587  compact_urban_development\n",
       "S100       2  Raingage2     O1  1.71       45.00  130.77      10.00           0     0.013    0.15      1.27    5.08       90       10.10       0.00      0.00       4.18          4.50       1.38           5.87           0.10        0.08        0.581  compact_urban_development\n",
       "S1000      3  Raingage2     O1  0.68       10.00   82.46       5.09           0     0.150    0.41      1.27    5.08       10       10.10       0.00      0.00       7.73          0.90       1.36           2.26           0.02        0.01        0.224                     grassy\n",
       "S1001      4  Raingage2     O1  0.26       83.33   50.99      45.00           0     0.013    0.05      1.27    5.08       80       10.10       0.00      0.00       1.04          8.23       0.65           8.88           0.02        0.02        0.879                 steep_area"
      ]
     },
     "execution_count": 37,
     "metadata": {},
     "output_type": "execute_result"
    }
   ],
   "source": [
    "merged_df.head()"
   ]
  },
  {
   "cell_type": "markdown",
   "id": "0c7ad132-617d-4508-9efa-e311405f847b",
   "metadata": {},
   "source": [
    "### Split data into features and target"
   ]
  },
  {
   "cell_type": "code",
   "execution_count": 38,
   "id": "e931b316-d970-44d2-aa57-d652176e7598",
   "metadata": {
    "tags": []
   },
   "outputs": [
    {
     "name": "stdout",
     "output_type": "stream",
     "text": [
      "(1001, 23) (1001,)\n"
     ]
    }
   ],
   "source": [
    "X = merged_df.drop('categories', axis=1)\n",
    "y = merged_df['categories']\n",
    "print(X.shape, y.shape)"
   ]
  },
  {
   "cell_type": "code",
   "execution_count": 39,
   "id": "94284156-4d30-4382-8bad-3d12f91a7149",
   "metadata": {
    "tags": []
   },
   "outputs": [],
   "source": [
    "X[\"TotalPrecip\"] = pd.to_numeric(X[\"TotalPrecip\"])\n",
    "X[\"TotalRunon\"] = pd.to_numeric(X[\"TotalRunon\"])\n",
    "X[\"TotalEvap\"] = pd.to_numeric(X[\"TotalEvap\"])\n",
    "X[\"TotalInfil\"] = pd.to_numeric(X[\"TotalInfil\"])\n",
    "X[\"PervRunoff\"] = pd.to_numeric(X[\"PervRunoff\"])"
   ]
  },
  {
   "cell_type": "code",
   "execution_count": 40,
   "id": "ab406f3f-e907-4254-b605-b9749a8cc4bc",
   "metadata": {
    "tags": []
   },
   "outputs": [
    {
     "name": "stdout",
     "output_type": "stream",
     "text": [
      "<class 'pandas.core.frame.DataFrame'>\n",
      "Index: 1001 entries, S1 to S999\n",
      "Data columns (total 23 columns):\n",
      " #   Column         Non-Null Count  Dtype  \n",
      "---  ------         --------------  -----  \n",
      " 0   index          1001 non-null   int64  \n",
      " 1   Raingage       1001 non-null   object \n",
      " 2   Outlet         1001 non-null   object \n",
      " 3   Area           1001 non-null   float64\n",
      " 4   PercImperv     1001 non-null   float64\n",
      " 5   Width          1001 non-null   float64\n",
      " 6   PercSlope      1001 non-null   float64\n",
      " 7   CurbLength     1001 non-null   int64  \n",
      " 8   N-Imperv       1001 non-null   float64\n",
      " 9   N-Perv         1001 non-null   float64\n",
      " 10  S-Imperv       1001 non-null   float64\n",
      " 11  S-Perv         1001 non-null   float64\n",
      " 12  PctZero        1001 non-null   int64  \n",
      " 13  TotalPrecip    1001 non-null   float64\n",
      " 14  TotalRunon     1001 non-null   float64\n",
      " 15  TotalEvap      1001 non-null   float64\n",
      " 16  TotalInfil     1001 non-null   float64\n",
      " 17  ImpervRunoff   1001 non-null   float64\n",
      " 18  PervRunoff     1001 non-null   float64\n",
      " 19  TotalRunoffIn  1001 non-null   float64\n",
      " 20  TotalRunoffMG  1001 non-null   float64\n",
      " 21  PeakRunoff     1001 non-null   float64\n",
      " 22  RunoffCoeff    1001 non-null   float64\n",
      "dtypes: float64(18), int64(3), object(2)\n",
      "memory usage: 187.7+ KB\n"
     ]
    }
   ],
   "source": [
    "X.info()"
   ]
  },
  {
   "cell_type": "code",
   "execution_count": 41,
   "id": "3d47f8e0-c4ac-47bf-b610-1ea75d586cc0",
   "metadata": {
    "tags": []
   },
   "outputs": [
    {
     "data": {
      "text/html": [
       "<div>\n",
       "<style scoped>\n",
       "    .dataframe tbody tr th:only-of-type {\n",
       "        vertical-align: middle;\n",
       "    }\n",
       "\n",
       "    .dataframe tbody tr th {\n",
       "        vertical-align: top;\n",
       "    }\n",
       "\n",
       "    .dataframe thead th {\n",
       "        text-align: right;\n",
       "    }\n",
       "</style>\n",
       "<table border=\"1\" class=\"dataframe\">\n",
       "  <thead>\n",
       "    <tr style=\"text-align: right;\">\n",
       "      <th></th>\n",
       "      <th>index</th>\n",
       "      <th>Area</th>\n",
       "      <th>PercImperv</th>\n",
       "      <th>Width</th>\n",
       "      <th>PercSlope</th>\n",
       "      <th>CurbLength</th>\n",
       "      <th>N-Imperv</th>\n",
       "      <th>N-Perv</th>\n",
       "      <th>S-Imperv</th>\n",
       "      <th>S-Perv</th>\n",
       "      <th>PctZero</th>\n",
       "      <th>TotalPrecip</th>\n",
       "      <th>TotalRunon</th>\n",
       "      <th>TotalEvap</th>\n",
       "      <th>TotalInfil</th>\n",
       "      <th>ImpervRunoff</th>\n",
       "      <th>PervRunoff</th>\n",
       "      <th>TotalRunoffIn</th>\n",
       "      <th>TotalRunoffMG</th>\n",
       "      <th>PeakRunoff</th>\n",
       "      <th>RunoffCoeff</th>\n",
       "    </tr>\n",
       "    <tr>\n",
       "      <th>Name</th>\n",
       "      <th></th>\n",
       "      <th></th>\n",
       "      <th></th>\n",
       "      <th></th>\n",
       "      <th></th>\n",
       "      <th></th>\n",
       "      <th></th>\n",
       "      <th></th>\n",
       "      <th></th>\n",
       "      <th></th>\n",
       "      <th></th>\n",
       "      <th></th>\n",
       "      <th></th>\n",
       "      <th></th>\n",
       "      <th></th>\n",
       "      <th></th>\n",
       "      <th></th>\n",
       "      <th></th>\n",
       "      <th></th>\n",
       "      <th></th>\n",
       "      <th></th>\n",
       "    </tr>\n",
       "  </thead>\n",
       "  <tbody>\n",
       "    <tr>\n",
       "      <th>S1</th>\n",
       "      <td>0</td>\n",
       "      <td>0.50</td>\n",
       "      <td>20.00</td>\n",
       "      <td>300.00</td>\n",
       "      <td>5.00</td>\n",
       "      <td>0</td>\n",
       "      <td>0.150</td>\n",
       "      <td>0.41</td>\n",
       "      <td>1.27</td>\n",
       "      <td>5.08</td>\n",
       "      <td>70</td>\n",
       "      <td>10.1</td>\n",
       "      <td>0.0</td>\n",
       "      <td>0.0</td>\n",
       "      <td>5.91</td>\n",
       "      <td>1.95</td>\n",
       "      <td>2.17</td>\n",
       "      <td>4.12</td>\n",
       "      <td>0.02</td>\n",
       "      <td>0.02</td>\n",
       "      <td>0.407</td>\n",
       "    </tr>\n",
       "    <tr>\n",
       "      <th>S10</th>\n",
       "      <td>1</td>\n",
       "      <td>1.87</td>\n",
       "      <td>45.00</td>\n",
       "      <td>136.75</td>\n",
       "      <td>15.00</td>\n",
       "      <td>0</td>\n",
       "      <td>0.013</td>\n",
       "      <td>0.15</td>\n",
       "      <td>1.27</td>\n",
       "      <td>5.08</td>\n",
       "      <td>90</td>\n",
       "      <td>10.1</td>\n",
       "      <td>0.0</td>\n",
       "      <td>0.0</td>\n",
       "      <td>4.13</td>\n",
       "      <td>4.50</td>\n",
       "      <td>1.43</td>\n",
       "      <td>5.93</td>\n",
       "      <td>0.11</td>\n",
       "      <td>0.09</td>\n",
       "      <td>0.587</td>\n",
       "    </tr>\n",
       "    <tr>\n",
       "      <th>S100</th>\n",
       "      <td>2</td>\n",
       "      <td>1.71</td>\n",
       "      <td>45.00</td>\n",
       "      <td>130.77</td>\n",
       "      <td>10.00</td>\n",
       "      <td>0</td>\n",
       "      <td>0.013</td>\n",
       "      <td>0.15</td>\n",
       "      <td>1.27</td>\n",
       "      <td>5.08</td>\n",
       "      <td>90</td>\n",
       "      <td>10.1</td>\n",
       "      <td>0.0</td>\n",
       "      <td>0.0</td>\n",
       "      <td>4.18</td>\n",
       "      <td>4.50</td>\n",
       "      <td>1.38</td>\n",
       "      <td>5.87</td>\n",
       "      <td>0.10</td>\n",
       "      <td>0.08</td>\n",
       "      <td>0.581</td>\n",
       "    </tr>\n",
       "    <tr>\n",
       "      <th>S1000</th>\n",
       "      <td>3</td>\n",
       "      <td>0.68</td>\n",
       "      <td>10.00</td>\n",
       "      <td>82.46</td>\n",
       "      <td>5.09</td>\n",
       "      <td>0</td>\n",
       "      <td>0.150</td>\n",
       "      <td>0.41</td>\n",
       "      <td>1.27</td>\n",
       "      <td>5.08</td>\n",
       "      <td>10</td>\n",
       "      <td>10.1</td>\n",
       "      <td>0.0</td>\n",
       "      <td>0.0</td>\n",
       "      <td>7.73</td>\n",
       "      <td>0.90</td>\n",
       "      <td>1.36</td>\n",
       "      <td>2.26</td>\n",
       "      <td>0.02</td>\n",
       "      <td>0.01</td>\n",
       "      <td>0.224</td>\n",
       "    </tr>\n",
       "    <tr>\n",
       "      <th>S1001</th>\n",
       "      <td>4</td>\n",
       "      <td>0.26</td>\n",
       "      <td>83.33</td>\n",
       "      <td>50.99</td>\n",
       "      <td>45.00</td>\n",
       "      <td>0</td>\n",
       "      <td>0.013</td>\n",
       "      <td>0.05</td>\n",
       "      <td>1.27</td>\n",
       "      <td>5.08</td>\n",
       "      <td>80</td>\n",
       "      <td>10.1</td>\n",
       "      <td>0.0</td>\n",
       "      <td>0.0</td>\n",
       "      <td>1.04</td>\n",
       "      <td>8.23</td>\n",
       "      <td>0.65</td>\n",
       "      <td>8.88</td>\n",
       "      <td>0.02</td>\n",
       "      <td>0.02</td>\n",
       "      <td>0.879</td>\n",
       "    </tr>\n",
       "  </tbody>\n",
       "</table>\n",
       "</div>"
      ],
      "text/plain": [
       "       index  Area  PercImperv   Width  PercSlope  CurbLength  N-Imperv  N-Perv  S-Imperv  S-Perv  PctZero  TotalPrecip  TotalRunon  TotalEvap  TotalInfil  ImpervRunoff  PervRunoff  TotalRunoffIn  TotalRunoffMG  PeakRunoff  RunoffCoeff\n",
       "Name                                                                                                                                                                                                                                       \n",
       "S1         0  0.50       20.00  300.00       5.00           0     0.150    0.41      1.27    5.08       70         10.1         0.0        0.0        5.91          1.95        2.17           4.12           0.02        0.02        0.407\n",
       "S10        1  1.87       45.00  136.75      15.00           0     0.013    0.15      1.27    5.08       90         10.1         0.0        0.0        4.13          4.50        1.43           5.93           0.11        0.09        0.587\n",
       "S100       2  1.71       45.00  130.77      10.00           0     0.013    0.15      1.27    5.08       90         10.1         0.0        0.0        4.18          4.50        1.38           5.87           0.10        0.08        0.581\n",
       "S1000      3  0.68       10.00   82.46       5.09           0     0.150    0.41      1.27    5.08       10         10.1         0.0        0.0        7.73          0.90        1.36           2.26           0.02        0.01        0.224\n",
       "S1001      4  0.26       83.33   50.99      45.00           0     0.013    0.05      1.27    5.08       80         10.1         0.0        0.0        1.04          8.23        0.65           8.88           0.02        0.02        0.879"
      ]
     },
     "execution_count": 41,
     "metadata": {},
     "output_type": "execute_result"
    }
   ],
   "source": [
    "X = pd.get_dummies(X, drop_first=True)\n",
    "X.head()"
   ]
  },
  {
   "cell_type": "code",
   "execution_count": 42,
   "id": "032eda89-3cee-4040-9553-2a353e39b1d0",
   "metadata": {
    "tags": []
   },
   "outputs": [],
   "source": [
    "# Create a MinMaxScaler instance\n",
    "scaler = MinMaxScaler()\n",
    "\n",
    "# Fit the scaler to the data and transform the data\n",
    "X_normalized = scaler.fit_transform(X)\n",
    "\n",
    "# Convert the normalized data back to a dataframe with the same column names\n",
    "X_normalized_df = pd.DataFrame(X_normalized, columns=X.columns, index=X.index)"
   ]
  },
  {
   "cell_type": "code",
   "execution_count": 43,
   "id": "f954dab9-1885-479c-b8b3-e30134af3155",
   "metadata": {
    "tags": []
   },
   "outputs": [
    {
     "data": {
      "text/html": [
       "<div>\n",
       "<style scoped>\n",
       "    .dataframe tbody tr th:only-of-type {\n",
       "        vertical-align: middle;\n",
       "    }\n",
       "\n",
       "    .dataframe tbody tr th {\n",
       "        vertical-align: top;\n",
       "    }\n",
       "\n",
       "    .dataframe thead th {\n",
       "        text-align: right;\n",
       "    }\n",
       "</style>\n",
       "<table border=\"1\" class=\"dataframe\">\n",
       "  <thead>\n",
       "    <tr style=\"text-align: right;\">\n",
       "      <th></th>\n",
       "      <th>index</th>\n",
       "      <th>Area</th>\n",
       "      <th>PercImperv</th>\n",
       "      <th>Width</th>\n",
       "      <th>PercSlope</th>\n",
       "      <th>CurbLength</th>\n",
       "      <th>N-Imperv</th>\n",
       "      <th>N-Perv</th>\n",
       "      <th>S-Imperv</th>\n",
       "      <th>S-Perv</th>\n",
       "      <th>PctZero</th>\n",
       "      <th>TotalPrecip</th>\n",
       "      <th>TotalRunon</th>\n",
       "      <th>TotalEvap</th>\n",
       "      <th>TotalInfil</th>\n",
       "      <th>ImpervRunoff</th>\n",
       "      <th>PervRunoff</th>\n",
       "      <th>TotalRunoffIn</th>\n",
       "      <th>TotalRunoffMG</th>\n",
       "      <th>PeakRunoff</th>\n",
       "      <th>RunoffCoeff</th>\n",
       "    </tr>\n",
       "    <tr>\n",
       "      <th>Name</th>\n",
       "      <th></th>\n",
       "      <th></th>\n",
       "      <th></th>\n",
       "      <th></th>\n",
       "      <th></th>\n",
       "      <th></th>\n",
       "      <th></th>\n",
       "      <th></th>\n",
       "      <th></th>\n",
       "      <th></th>\n",
       "      <th></th>\n",
       "      <th></th>\n",
       "      <th></th>\n",
       "      <th></th>\n",
       "      <th></th>\n",
       "      <th></th>\n",
       "      <th></th>\n",
       "      <th></th>\n",
       "      <th></th>\n",
       "      <th></th>\n",
       "      <th></th>\n",
       "    </tr>\n",
       "  </thead>\n",
       "  <tbody>\n",
       "    <tr>\n",
       "      <th>S1</th>\n",
       "      <td>0.000</td>\n",
       "      <td>0.246231</td>\n",
       "      <td>0.218148</td>\n",
       "      <td>1.000000</td>\n",
       "      <td>0.044995</td>\n",
       "      <td>0.0</td>\n",
       "      <td>0.354005</td>\n",
       "      <td>0.480000</td>\n",
       "      <td>0.0</td>\n",
       "      <td>0.0</td>\n",
       "      <td>0.764706</td>\n",
       "      <td>0.0</td>\n",
       "      <td>0.0</td>\n",
       "      <td>0.0</td>\n",
       "      <td>0.608479</td>\n",
       "      <td>0.216687</td>\n",
       "      <td>0.683871</td>\n",
       "      <td>0.392630</td>\n",
       "      <td>0.111111</td>\n",
       "      <td>0.142857</td>\n",
       "      <td>0.391528</td>\n",
       "    </tr>\n",
       "    <tr>\n",
       "      <th>S10</th>\n",
       "      <td>0.001</td>\n",
       "      <td>0.934673</td>\n",
       "      <td>0.526790</td>\n",
       "      <td>0.437069</td>\n",
       "      <td>0.213515</td>\n",
       "      <td>0.0</td>\n",
       "      <td>0.000000</td>\n",
       "      <td>0.133333</td>\n",
       "      <td>0.0</td>\n",
       "      <td>0.0</td>\n",
       "      <td>1.000000</td>\n",
       "      <td>0.0</td>\n",
       "      <td>0.0</td>\n",
       "      <td>0.0</td>\n",
       "      <td>0.386534</td>\n",
       "      <td>0.534247</td>\n",
       "      <td>0.445161</td>\n",
       "      <td>0.622618</td>\n",
       "      <td>0.611111</td>\n",
       "      <td>0.642857</td>\n",
       "      <td>0.622593</td>\n",
       "    </tr>\n",
       "    <tr>\n",
       "      <th>S100</th>\n",
       "      <td>0.002</td>\n",
       "      <td>0.854271</td>\n",
       "      <td>0.526790</td>\n",
       "      <td>0.416448</td>\n",
       "      <td>0.129255</td>\n",
       "      <td>0.0</td>\n",
       "      <td>0.000000</td>\n",
       "      <td>0.133333</td>\n",
       "      <td>0.0</td>\n",
       "      <td>0.0</td>\n",
       "      <td>1.000000</td>\n",
       "      <td>0.0</td>\n",
       "      <td>0.0</td>\n",
       "      <td>0.0</td>\n",
       "      <td>0.392768</td>\n",
       "      <td>0.534247</td>\n",
       "      <td>0.429032</td>\n",
       "      <td>0.614994</td>\n",
       "      <td>0.555556</td>\n",
       "      <td>0.571429</td>\n",
       "      <td>0.614891</td>\n",
       "    </tr>\n",
       "    <tr>\n",
       "      <th>S1000</th>\n",
       "      <td>0.003</td>\n",
       "      <td>0.336683</td>\n",
       "      <td>0.094691</td>\n",
       "      <td>0.249862</td>\n",
       "      <td>0.046512</td>\n",
       "      <td>0.0</td>\n",
       "      <td>0.354005</td>\n",
       "      <td>0.480000</td>\n",
       "      <td>0.0</td>\n",
       "      <td>0.0</td>\n",
       "      <td>0.058824</td>\n",
       "      <td>0.0</td>\n",
       "      <td>0.0</td>\n",
       "      <td>0.0</td>\n",
       "      <td>0.835411</td>\n",
       "      <td>0.085928</td>\n",
       "      <td>0.422581</td>\n",
       "      <td>0.156290</td>\n",
       "      <td>0.111111</td>\n",
       "      <td>0.071429</td>\n",
       "      <td>0.156611</td>\n",
       "    </tr>\n",
       "    <tr>\n",
       "      <th>S1001</th>\n",
       "      <td>0.004</td>\n",
       "      <td>0.125628</td>\n",
       "      <td>1.000000</td>\n",
       "      <td>0.141345</td>\n",
       "      <td>0.719077</td>\n",
       "      <td>0.0</td>\n",
       "      <td>0.000000</td>\n",
       "      <td>0.000000</td>\n",
       "      <td>0.0</td>\n",
       "      <td>0.0</td>\n",
       "      <td>0.882353</td>\n",
       "      <td>0.0</td>\n",
       "      <td>0.0</td>\n",
       "      <td>0.0</td>\n",
       "      <td>0.001247</td>\n",
       "      <td>0.998755</td>\n",
       "      <td>0.193548</td>\n",
       "      <td>0.997459</td>\n",
       "      <td>0.111111</td>\n",
       "      <td>0.142857</td>\n",
       "      <td>0.997433</td>\n",
       "    </tr>\n",
       "  </tbody>\n",
       "</table>\n",
       "</div>"
      ],
      "text/plain": [
       "       index      Area  PercImperv     Width  PercSlope  CurbLength  N-Imperv    N-Perv  S-Imperv  S-Perv   PctZero  TotalPrecip  TotalRunon  TotalEvap  TotalInfil  ImpervRunoff  PervRunoff  TotalRunoffIn  TotalRunoffMG  PeakRunoff  RunoffCoeff\n",
       "Name                                                                                                                                                                                                                                                \n",
       "S1     0.000  0.246231    0.218148  1.000000   0.044995         0.0  0.354005  0.480000       0.0     0.0  0.764706          0.0         0.0        0.0    0.608479      0.216687    0.683871       0.392630       0.111111    0.142857     0.391528\n",
       "S10    0.001  0.934673    0.526790  0.437069   0.213515         0.0  0.000000  0.133333       0.0     0.0  1.000000          0.0         0.0        0.0    0.386534      0.534247    0.445161       0.622618       0.611111    0.642857     0.622593\n",
       "S100   0.002  0.854271    0.526790  0.416448   0.129255         0.0  0.000000  0.133333       0.0     0.0  1.000000          0.0         0.0        0.0    0.392768      0.534247    0.429032       0.614994       0.555556    0.571429     0.614891\n",
       "S1000  0.003  0.336683    0.094691  0.249862   0.046512         0.0  0.354005  0.480000       0.0     0.0  0.058824          0.0         0.0        0.0    0.835411      0.085928    0.422581       0.156290       0.111111    0.071429     0.156611\n",
       "S1001  0.004  0.125628    1.000000  0.141345   0.719077         0.0  0.000000  0.000000       0.0     0.0  0.882353          0.0         0.0        0.0    0.001247      0.998755    0.193548       0.997459       0.111111    0.142857     0.997433"
      ]
     },
     "execution_count": 43,
     "metadata": {},
     "output_type": "execute_result"
    }
   ],
   "source": [
    "X_normalized_df.head()"
   ]
  },
  {
   "cell_type": "markdown",
   "id": "7f2bb5ba-028c-4573-94b8-274757b38972",
   "metadata": {
    "tags": []
   },
   "source": [
    "### Encode target labels"
   ]
  },
  {
   "cell_type": "code",
   "execution_count": 44,
   "id": "fc1e736c-620b-4350-8018-0b7f75b6b446",
   "metadata": {
    "tags": []
   },
   "outputs": [],
   "source": [
    "encoder = OneHotEncoder(sparse_output=False)\n",
    "y_encoded = encoder.fit_transform(y.values.reshape(-1, 1))"
   ]
  },
  {
   "cell_type": "code",
   "execution_count": 45,
   "id": "e187f9f0-f47d-41ec-8ce4-ac0c8f24ad8f",
   "metadata": {
    "tags": []
   },
   "outputs": [
    {
     "data": {
      "text/plain": [
       "array([[1., 0., 0., ..., 0., 0., 0.],\n",
       "       [0., 1., 0., ..., 0., 0., 0.],\n",
       "       [0., 1., 0., ..., 0., 0., 0.],\n",
       "       ...,\n",
       "       [0., 0., 1., ..., 0., 0., 0.],\n",
       "       [0., 0., 0., ..., 1., 0., 0.],\n",
       "       [0., 0., 0., ..., 0., 1., 0.]])"
      ]
     },
     "execution_count": 45,
     "metadata": {},
     "output_type": "execute_result"
    }
   ],
   "source": [
    "y_encoded"
   ]
  },
  {
   "cell_type": "markdown",
   "id": "20b3a31a-4860-45b6-b643-ebbb28271ccd",
   "metadata": {},
   "source": [
    "# Split the data into training and testing sets"
   ]
  },
  {
   "cell_type": "code",
   "execution_count": 46,
   "id": "1476f9c6-f2bf-42f8-91f4-484b1f85b0ce",
   "metadata": {
    "tags": []
   },
   "outputs": [
    {
     "name": "stdout",
     "output_type": "stream",
     "text": [
      "X_train shape: (800, 21)\n",
      "y_train shape: (800, 8)\n",
      "X_test shape: (201, 21)\n",
      "y_test shape: (201, 8)\n"
     ]
    }
   ],
   "source": [
    "X_train, X_test, y_train, y_test = train_test_split(X_normalized_df, y_encoded, test_size=0.2, random_state=42)\n",
    "\n",
    "print(\"X_train shape:\", X_train.shape)\n",
    "print(\"y_train shape:\", y_train.shape)\n",
    "print(\"X_test shape:\", X_test.shape)\n",
    "print(\"y_test shape:\", y_test.shape)"
   ]
  },
  {
   "cell_type": "markdown",
   "id": "43dae304-a279-430d-baa1-ebe5d19f1c98",
   "metadata": {},
   "source": [
    "# Build the model"
   ]
  },
  {
   "cell_type": "code",
   "execution_count": 47,
   "id": "99b2e114-ff60-4200-ae35-f80089181eb9",
   "metadata": {
    "tags": []
   },
   "outputs": [
    {
     "name": "stdout",
     "output_type": "stream",
     "text": [
      "Model: \"sequential_1\"\n",
      "_________________________________________________________________\n",
      " Layer (type)                Output Shape              Param #   \n",
      "=================================================================\n",
      " dense_3 (Dense)             (None, 16)                352       \n",
      "                                                                 \n",
      " dropout_2 (Dropout)         (None, 16)                0         \n",
      "                                                                 \n",
      " dense_4 (Dense)             (None, 8)                 136       \n",
      "                                                                 \n",
      " dropout_3 (Dropout)         (None, 8)                 0         \n",
      "                                                                 \n",
      " dense_5 (Dense)             (None, 8)                 72        \n",
      "                                                                 \n",
      "=================================================================\n",
      "Total params: 560\n",
      "Trainable params: 560\n",
      "Non-trainable params: 0\n",
      "_________________________________________________________________\n"
     ]
    }
   ],
   "source": [
    "model = Sequential()\n",
    "model.add(Dense(16, activation='relu', input_dim=X_train.shape[1]))\n",
    "model.add(Dropout(0.2))\n",
    "model.add(Dense(8, activation='relu'))\n",
    "model.add(Dropout(0.2))\n",
    "model.add(Dense(units=y_train.shape[1], activation='softmax'))\n",
    "model.summary()"
   ]
  },
  {
   "cell_type": "code",
   "execution_count": 49,
   "id": "61ddff67-e74f-4454-a253-40577f7a2722",
   "metadata": {
    "tags": []
   },
   "outputs": [
    {
     "name": "stdout",
     "output_type": "stream",
     "text": [
      "Epoch 1/100\n",
      "50/50 [==============================] - 1s 7ms/step - loss: 0.2069 - accuracy: 0.9262 - val_loss: 0.0318 - val_accuracy: 1.0000\n",
      "Epoch 2/100\n",
      "50/50 [==============================] - 0s 3ms/step - loss: 0.1892 - accuracy: 0.9438 - val_loss: 0.0312 - val_accuracy: 1.0000\n",
      "Epoch 3/100\n",
      "50/50 [==============================] - 0s 3ms/step - loss: 0.1656 - accuracy: 0.9575 - val_loss: 0.0287 - val_accuracy: 1.0000\n",
      "Epoch 4/100\n",
      "50/50 [==============================] - 0s 3ms/step - loss: 0.1747 - accuracy: 0.9463 - val_loss: 0.0297 - val_accuracy: 1.0000\n",
      "Epoch 5/100\n",
      "50/50 [==============================] - 0s 3ms/step - loss: 0.2116 - accuracy: 0.9262 - val_loss: 0.0299 - val_accuracy: 1.0000\n",
      "Epoch 6/100\n",
      "50/50 [==============================] - 0s 3ms/step - loss: 0.1717 - accuracy: 0.9413 - val_loss: 0.0277 - val_accuracy: 1.0000\n",
      "Epoch 7/100\n",
      "50/50 [==============================] - 0s 3ms/step - loss: 0.2060 - accuracy: 0.9337 - val_loss: 0.0267 - val_accuracy: 1.0000\n",
      "Epoch 8/100\n",
      "50/50 [==============================] - 0s 3ms/step - loss: 0.2024 - accuracy: 0.9325 - val_loss: 0.0290 - val_accuracy: 1.0000\n",
      "Epoch 9/100\n",
      "50/50 [==============================] - 0s 3ms/step - loss: 0.2069 - accuracy: 0.9438 - val_loss: 0.0301 - val_accuracy: 1.0000\n",
      "Epoch 10/100\n",
      "50/50 [==============================] - 0s 3ms/step - loss: 0.2067 - accuracy: 0.9337 - val_loss: 0.0307 - val_accuracy: 1.0000\n",
      "Epoch 11/100\n",
      "50/50 [==============================] - 0s 2ms/step - loss: 0.1709 - accuracy: 0.9525 - val_loss: 0.0274 - val_accuracy: 1.0000\n",
      "Epoch 12/100\n",
      "50/50 [==============================] - 0s 3ms/step - loss: 0.1664 - accuracy: 0.9513 - val_loss: 0.0272 - val_accuracy: 1.0000\n",
      "Epoch 13/100\n",
      "50/50 [==============================] - 0s 3ms/step - loss: 0.1994 - accuracy: 0.9337 - val_loss: 0.0270 - val_accuracy: 1.0000\n",
      "Epoch 14/100\n",
      "50/50 [==============================] - 0s 2ms/step - loss: 0.2011 - accuracy: 0.9337 - val_loss: 0.0286 - val_accuracy: 1.0000\n",
      "Epoch 15/100\n",
      "50/50 [==============================] - 0s 2ms/step - loss: 0.1661 - accuracy: 0.9525 - val_loss: 0.0247 - val_accuracy: 1.0000\n",
      "Epoch 16/100\n",
      "50/50 [==============================] - 0s 2ms/step - loss: 0.1867 - accuracy: 0.9413 - val_loss: 0.0237 - val_accuracy: 1.0000\n",
      "Epoch 17/100\n",
      "50/50 [==============================] - 0s 2ms/step - loss: 0.1722 - accuracy: 0.9525 - val_loss: 0.0245 - val_accuracy: 1.0000\n",
      "Epoch 18/100\n",
      "50/50 [==============================] - 0s 3ms/step - loss: 0.1786 - accuracy: 0.9425 - val_loss: 0.0241 - val_accuracy: 1.0000\n",
      "Epoch 19/100\n",
      "50/50 [==============================] - 0s 2ms/step - loss: 0.1795 - accuracy: 0.9337 - val_loss: 0.0254 - val_accuracy: 1.0000\n",
      "Epoch 20/100\n",
      "50/50 [==============================] - 0s 2ms/step - loss: 0.1665 - accuracy: 0.9525 - val_loss: 0.0238 - val_accuracy: 1.0000\n",
      "Epoch 21/100\n",
      "50/50 [==============================] - 0s 3ms/step - loss: 0.1869 - accuracy: 0.9337 - val_loss: 0.0222 - val_accuracy: 1.0000\n",
      "Epoch 22/100\n",
      "50/50 [==============================] - 0s 2ms/step - loss: 0.1655 - accuracy: 0.9500 - val_loss: 0.0237 - val_accuracy: 1.0000\n",
      "Epoch 23/100\n",
      "50/50 [==============================] - 0s 2ms/step - loss: 0.1837 - accuracy: 0.9463 - val_loss: 0.0259 - val_accuracy: 1.0000\n",
      "Epoch 24/100\n",
      "50/50 [==============================] - 0s 2ms/step - loss: 0.1608 - accuracy: 0.9488 - val_loss: 0.0253 - val_accuracy: 1.0000\n",
      "Epoch 25/100\n",
      "50/50 [==============================] - 0s 2ms/step - loss: 0.1887 - accuracy: 0.9413 - val_loss: 0.0221 - val_accuracy: 1.0000\n",
      "Epoch 26/100\n",
      "50/50 [==============================] - 0s 2ms/step - loss: 0.1683 - accuracy: 0.9500 - val_loss: 0.0214 - val_accuracy: 1.0000\n",
      "Epoch 27/100\n",
      "50/50 [==============================] - 0s 2ms/step - loss: 0.1679 - accuracy: 0.9463 - val_loss: 0.0217 - val_accuracy: 1.0000\n",
      "Epoch 28/100\n",
      "50/50 [==============================] - 0s 3ms/step - loss: 0.1745 - accuracy: 0.9488 - val_loss: 0.0217 - val_accuracy: 1.0000\n",
      "Epoch 29/100\n",
      "50/50 [==============================] - 0s 3ms/step - loss: 0.1693 - accuracy: 0.9525 - val_loss: 0.0215 - val_accuracy: 1.0000\n",
      "Epoch 30/100\n",
      "50/50 [==============================] - 0s 2ms/step - loss: 0.1609 - accuracy: 0.9450 - val_loss: 0.0200 - val_accuracy: 1.0000\n",
      "Epoch 31/100\n",
      "50/50 [==============================] - 0s 2ms/step - loss: 0.1552 - accuracy: 0.9525 - val_loss: 0.0192 - val_accuracy: 1.0000\n",
      "Epoch 32/100\n",
      "50/50 [==============================] - 0s 2ms/step - loss: 0.1844 - accuracy: 0.9312 - val_loss: 0.0198 - val_accuracy: 1.0000\n",
      "Epoch 33/100\n",
      "50/50 [==============================] - 0s 2ms/step - loss: 0.1546 - accuracy: 0.9513 - val_loss: 0.0205 - val_accuracy: 1.0000\n",
      "Epoch 34/100\n",
      "50/50 [==============================] - 0s 3ms/step - loss: 0.1955 - accuracy: 0.9413 - val_loss: 0.0201 - val_accuracy: 1.0000\n",
      "Epoch 35/100\n",
      "50/50 [==============================] - 0s 3ms/step - loss: 0.1601 - accuracy: 0.9475 - val_loss: 0.0203 - val_accuracy: 1.0000\n",
      "Epoch 36/100\n",
      "50/50 [==============================] - 0s 3ms/step - loss: 0.1692 - accuracy: 0.9425 - val_loss: 0.0216 - val_accuracy: 1.0000\n",
      "Epoch 37/100\n",
      "50/50 [==============================] - 0s 3ms/step - loss: 0.1599 - accuracy: 0.9450 - val_loss: 0.0208 - val_accuracy: 1.0000\n",
      "Epoch 38/100\n",
      "50/50 [==============================] - 0s 3ms/step - loss: 0.1769 - accuracy: 0.9450 - val_loss: 0.0212 - val_accuracy: 1.0000\n",
      "Epoch 39/100\n",
      "50/50 [==============================] - 0s 3ms/step - loss: 0.1756 - accuracy: 0.9413 - val_loss: 0.0202 - val_accuracy: 1.0000\n",
      "Epoch 40/100\n",
      "50/50 [==============================] - 0s 2ms/step - loss: 0.1874 - accuracy: 0.9388 - val_loss: 0.0201 - val_accuracy: 1.0000\n",
      "Epoch 41/100\n",
      "50/50 [==============================] - 0s 2ms/step - loss: 0.1901 - accuracy: 0.9375 - val_loss: 0.0221 - val_accuracy: 1.0000\n"
     ]
    }
   ],
   "source": [
    "model.compile(\n",
    "    optimizer='adam',\n",
    "    loss='categorical_crossentropy',\n",
    "    metrics=['accuracy']\n",
    ")\n",
    "history = model.fit(\n",
    "    x=X_train,\n",
    "    y=y_train,\n",
    "    epochs=100,\n",
    "    validation_data=(X_test, y_test),\n",
    "    validation_split=0.2,\n",
    "    verbose=1,\n",
    "    batch_size=16,\n",
    "    callbacks=[EarlyStopping(monitor='val_loss', patience=10)]\n",
    ")"
   ]
  },
  {
   "cell_type": "code",
   "execution_count": 50,
   "id": "5f0e2731-5e33-42c8-9f6b-139e25fde8aa",
   "metadata": {
    "tags": []
   },
   "outputs": [
    {
     "name": "stdout",
     "output_type": "stream",
     "text": [
      "7/7 [==============================] - 0s 2ms/step - loss: 0.0221 - accuracy: 1.0000\n",
      "Test set accuracy: 1.00\n"
     ]
    }
   ],
   "source": [
    "# Evaluate ANN model\n",
    "loss, accuracy = model.evaluate(X_test, y_test)\n",
    "print(f\"Test set accuracy: {accuracy:.2f}\")"
   ]
  },
  {
   "cell_type": "code",
   "execution_count": 51,
   "id": "5ca7057a-6890-4505-852c-6c1226a798f6",
   "metadata": {},
   "outputs": [
    {
     "name": "stdout",
     "output_type": "stream",
     "text": [
      "7/7 [==============================] - 0s 1ms/step\n"
     ]
    }
   ],
   "source": [
    "# model.predict(X_test)\n",
    "y_pred = model.predict(X_test)"
   ]
  },
  {
   "cell_type": "code",
   "execution_count": 55,
   "id": "5a615160",
   "metadata": {},
   "outputs": [
    {
     "data": {
      "text/html": [
       "<div>\n",
       "<style scoped>\n",
       "    .dataframe tbody tr th:only-of-type {\n",
       "        vertical-align: middle;\n",
       "    }\n",
       "\n",
       "    .dataframe tbody tr th {\n",
       "        vertical-align: top;\n",
       "    }\n",
       "\n",
       "    .dataframe thead th {\n",
       "        text-align: right;\n",
       "    }\n",
       "</style>\n",
       "<table border=\"1\" class=\"dataframe\">\n",
       "  <thead>\n",
       "    <tr style=\"text-align: right;\">\n",
       "      <th></th>\n",
       "      <th>loss</th>\n",
       "      <th>accuracy</th>\n",
       "      <th>val_loss</th>\n",
       "      <th>val_accuracy</th>\n",
       "      <th>epoch</th>\n",
       "    </tr>\n",
       "  </thead>\n",
       "  <tbody>\n",
       "    <tr>\n",
       "      <th>0</th>\n",
       "      <td>0.206904</td>\n",
       "      <td>0.92625</td>\n",
       "      <td>0.031814</td>\n",
       "      <td>1.0</td>\n",
       "      <td>0</td>\n",
       "    </tr>\n",
       "    <tr>\n",
       "      <th>1</th>\n",
       "      <td>0.189153</td>\n",
       "      <td>0.94375</td>\n",
       "      <td>0.031194</td>\n",
       "      <td>1.0</td>\n",
       "      <td>1</td>\n",
       "    </tr>\n",
       "    <tr>\n",
       "      <th>2</th>\n",
       "      <td>0.165623</td>\n",
       "      <td>0.95750</td>\n",
       "      <td>0.028698</td>\n",
       "      <td>1.0</td>\n",
       "      <td>2</td>\n",
       "    </tr>\n",
       "    <tr>\n",
       "      <th>3</th>\n",
       "      <td>0.174714</td>\n",
       "      <td>0.94625</td>\n",
       "      <td>0.029673</td>\n",
       "      <td>1.0</td>\n",
       "      <td>3</td>\n",
       "    </tr>\n",
       "    <tr>\n",
       "      <th>4</th>\n",
       "      <td>0.211622</td>\n",
       "      <td>0.92625</td>\n",
       "      <td>0.029912</td>\n",
       "      <td>1.0</td>\n",
       "      <td>4</td>\n",
       "    </tr>\n",
       "    <tr>\n",
       "      <th>5</th>\n",
       "      <td>0.171678</td>\n",
       "      <td>0.94125</td>\n",
       "      <td>0.027667</td>\n",
       "      <td>1.0</td>\n",
       "      <td>5</td>\n",
       "    </tr>\n",
       "    <tr>\n",
       "      <th>6</th>\n",
       "      <td>0.205983</td>\n",
       "      <td>0.93375</td>\n",
       "      <td>0.026674</td>\n",
       "      <td>1.0</td>\n",
       "      <td>6</td>\n",
       "    </tr>\n",
       "    <tr>\n",
       "      <th>7</th>\n",
       "      <td>0.202368</td>\n",
       "      <td>0.93250</td>\n",
       "      <td>0.029005</td>\n",
       "      <td>1.0</td>\n",
       "      <td>7</td>\n",
       "    </tr>\n",
       "    <tr>\n",
       "      <th>8</th>\n",
       "      <td>0.206868</td>\n",
       "      <td>0.94375</td>\n",
       "      <td>0.030106</td>\n",
       "      <td>1.0</td>\n",
       "      <td>8</td>\n",
       "    </tr>\n",
       "    <tr>\n",
       "      <th>9</th>\n",
       "      <td>0.206749</td>\n",
       "      <td>0.93375</td>\n",
       "      <td>0.030698</td>\n",
       "      <td>1.0</td>\n",
       "      <td>9</td>\n",
       "    </tr>\n",
       "    <tr>\n",
       "      <th>10</th>\n",
       "      <td>0.170868</td>\n",
       "      <td>0.95250</td>\n",
       "      <td>0.027400</td>\n",
       "      <td>1.0</td>\n",
       "      <td>10</td>\n",
       "    </tr>\n",
       "    <tr>\n",
       "      <th>11</th>\n",
       "      <td>0.166402</td>\n",
       "      <td>0.95125</td>\n",
       "      <td>0.027220</td>\n",
       "      <td>1.0</td>\n",
       "      <td>11</td>\n",
       "    </tr>\n",
       "    <tr>\n",
       "      <th>12</th>\n",
       "      <td>0.199431</td>\n",
       "      <td>0.93375</td>\n",
       "      <td>0.026952</td>\n",
       "      <td>1.0</td>\n",
       "      <td>12</td>\n",
       "    </tr>\n",
       "    <tr>\n",
       "      <th>13</th>\n",
       "      <td>0.201140</td>\n",
       "      <td>0.93375</td>\n",
       "      <td>0.028617</td>\n",
       "      <td>1.0</td>\n",
       "      <td>13</td>\n",
       "    </tr>\n",
       "    <tr>\n",
       "      <th>14</th>\n",
       "      <td>0.166103</td>\n",
       "      <td>0.95250</td>\n",
       "      <td>0.024706</td>\n",
       "      <td>1.0</td>\n",
       "      <td>14</td>\n",
       "    </tr>\n",
       "    <tr>\n",
       "      <th>15</th>\n",
       "      <td>0.186655</td>\n",
       "      <td>0.94125</td>\n",
       "      <td>0.023672</td>\n",
       "      <td>1.0</td>\n",
       "      <td>15</td>\n",
       "    </tr>\n",
       "    <tr>\n",
       "      <th>16</th>\n",
       "      <td>0.172167</td>\n",
       "      <td>0.95250</td>\n",
       "      <td>0.024519</td>\n",
       "      <td>1.0</td>\n",
       "      <td>16</td>\n",
       "    </tr>\n",
       "    <tr>\n",
       "      <th>17</th>\n",
       "      <td>0.178577</td>\n",
       "      <td>0.94250</td>\n",
       "      <td>0.024129</td>\n",
       "      <td>1.0</td>\n",
       "      <td>17</td>\n",
       "    </tr>\n",
       "    <tr>\n",
       "      <th>18</th>\n",
       "      <td>0.179512</td>\n",
       "      <td>0.93375</td>\n",
       "      <td>0.025405</td>\n",
       "      <td>1.0</td>\n",
       "      <td>18</td>\n",
       "    </tr>\n",
       "    <tr>\n",
       "      <th>19</th>\n",
       "      <td>0.166469</td>\n",
       "      <td>0.95250</td>\n",
       "      <td>0.023843</td>\n",
       "      <td>1.0</td>\n",
       "      <td>19</td>\n",
       "    </tr>\n",
       "    <tr>\n",
       "      <th>20</th>\n",
       "      <td>0.186923</td>\n",
       "      <td>0.93375</td>\n",
       "      <td>0.022223</td>\n",
       "      <td>1.0</td>\n",
       "      <td>20</td>\n",
       "    </tr>\n",
       "    <tr>\n",
       "      <th>21</th>\n",
       "      <td>0.165489</td>\n",
       "      <td>0.95000</td>\n",
       "      <td>0.023731</td>\n",
       "      <td>1.0</td>\n",
       "      <td>21</td>\n",
       "    </tr>\n",
       "    <tr>\n",
       "      <th>22</th>\n",
       "      <td>0.183741</td>\n",
       "      <td>0.94625</td>\n",
       "      <td>0.025917</td>\n",
       "      <td>1.0</td>\n",
       "      <td>22</td>\n",
       "    </tr>\n",
       "    <tr>\n",
       "      <th>23</th>\n",
       "      <td>0.160759</td>\n",
       "      <td>0.94875</td>\n",
       "      <td>0.025323</td>\n",
       "      <td>1.0</td>\n",
       "      <td>23</td>\n",
       "    </tr>\n",
       "    <tr>\n",
       "      <th>24</th>\n",
       "      <td>0.188657</td>\n",
       "      <td>0.94125</td>\n",
       "      <td>0.022054</td>\n",
       "      <td>1.0</td>\n",
       "      <td>24</td>\n",
       "    </tr>\n",
       "    <tr>\n",
       "      <th>25</th>\n",
       "      <td>0.168287</td>\n",
       "      <td>0.95000</td>\n",
       "      <td>0.021402</td>\n",
       "      <td>1.0</td>\n",
       "      <td>25</td>\n",
       "    </tr>\n",
       "    <tr>\n",
       "      <th>26</th>\n",
       "      <td>0.167887</td>\n",
       "      <td>0.94625</td>\n",
       "      <td>0.021713</td>\n",
       "      <td>1.0</td>\n",
       "      <td>26</td>\n",
       "    </tr>\n",
       "    <tr>\n",
       "      <th>27</th>\n",
       "      <td>0.174453</td>\n",
       "      <td>0.94875</td>\n",
       "      <td>0.021743</td>\n",
       "      <td>1.0</td>\n",
       "      <td>27</td>\n",
       "    </tr>\n",
       "    <tr>\n",
       "      <th>28</th>\n",
       "      <td>0.169331</td>\n",
       "      <td>0.95250</td>\n",
       "      <td>0.021532</td>\n",
       "      <td>1.0</td>\n",
       "      <td>28</td>\n",
       "    </tr>\n",
       "    <tr>\n",
       "      <th>29</th>\n",
       "      <td>0.160936</td>\n",
       "      <td>0.94500</td>\n",
       "      <td>0.019957</td>\n",
       "      <td>1.0</td>\n",
       "      <td>29</td>\n",
       "    </tr>\n",
       "    <tr>\n",
       "      <th>30</th>\n",
       "      <td>0.155207</td>\n",
       "      <td>0.95250</td>\n",
       "      <td>0.019190</td>\n",
       "      <td>1.0</td>\n",
       "      <td>30</td>\n",
       "    </tr>\n",
       "    <tr>\n",
       "      <th>31</th>\n",
       "      <td>0.184403</td>\n",
       "      <td>0.93125</td>\n",
       "      <td>0.019758</td>\n",
       "      <td>1.0</td>\n",
       "      <td>31</td>\n",
       "    </tr>\n",
       "    <tr>\n",
       "      <th>32</th>\n",
       "      <td>0.154629</td>\n",
       "      <td>0.95125</td>\n",
       "      <td>0.020482</td>\n",
       "      <td>1.0</td>\n",
       "      <td>32</td>\n",
       "    </tr>\n",
       "    <tr>\n",
       "      <th>33</th>\n",
       "      <td>0.195459</td>\n",
       "      <td>0.94125</td>\n",
       "      <td>0.020133</td>\n",
       "      <td>1.0</td>\n",
       "      <td>33</td>\n",
       "    </tr>\n",
       "    <tr>\n",
       "      <th>34</th>\n",
       "      <td>0.160102</td>\n",
       "      <td>0.94750</td>\n",
       "      <td>0.020257</td>\n",
       "      <td>1.0</td>\n",
       "      <td>34</td>\n",
       "    </tr>\n",
       "    <tr>\n",
       "      <th>35</th>\n",
       "      <td>0.169209</td>\n",
       "      <td>0.94250</td>\n",
       "      <td>0.021601</td>\n",
       "      <td>1.0</td>\n",
       "      <td>35</td>\n",
       "    </tr>\n",
       "    <tr>\n",
       "      <th>36</th>\n",
       "      <td>0.159853</td>\n",
       "      <td>0.94500</td>\n",
       "      <td>0.020770</td>\n",
       "      <td>1.0</td>\n",
       "      <td>36</td>\n",
       "    </tr>\n",
       "    <tr>\n",
       "      <th>37</th>\n",
       "      <td>0.176926</td>\n",
       "      <td>0.94500</td>\n",
       "      <td>0.021199</td>\n",
       "      <td>1.0</td>\n",
       "      <td>37</td>\n",
       "    </tr>\n",
       "    <tr>\n",
       "      <th>38</th>\n",
       "      <td>0.175577</td>\n",
       "      <td>0.94125</td>\n",
       "      <td>0.020198</td>\n",
       "      <td>1.0</td>\n",
       "      <td>38</td>\n",
       "    </tr>\n",
       "    <tr>\n",
       "      <th>39</th>\n",
       "      <td>0.187448</td>\n",
       "      <td>0.93875</td>\n",
       "      <td>0.020127</td>\n",
       "      <td>1.0</td>\n",
       "      <td>39</td>\n",
       "    </tr>\n",
       "    <tr>\n",
       "      <th>40</th>\n",
       "      <td>0.190065</td>\n",
       "      <td>0.93750</td>\n",
       "      <td>0.022130</td>\n",
       "      <td>1.0</td>\n",
       "      <td>40</td>\n",
       "    </tr>\n",
       "  </tbody>\n",
       "</table>\n",
       "</div>"
      ],
      "text/plain": [
       "        loss  accuracy  val_loss  val_accuracy  epoch\n",
       "0   0.206904   0.92625  0.031814           1.0      0\n",
       "1   0.189153   0.94375  0.031194           1.0      1\n",
       "2   0.165623   0.95750  0.028698           1.0      2\n",
       "3   0.174714   0.94625  0.029673           1.0      3\n",
       "4   0.211622   0.92625  0.029912           1.0      4\n",
       "5   0.171678   0.94125  0.027667           1.0      5\n",
       "6   0.205983   0.93375  0.026674           1.0      6\n",
       "7   0.202368   0.93250  0.029005           1.0      7\n",
       "8   0.206868   0.94375  0.030106           1.0      8\n",
       "9   0.206749   0.93375  0.030698           1.0      9\n",
       "10  0.170868   0.95250  0.027400           1.0     10\n",
       "11  0.166402   0.95125  0.027220           1.0     11\n",
       "12  0.199431   0.93375  0.026952           1.0     12\n",
       "13  0.201140   0.93375  0.028617           1.0     13\n",
       "14  0.166103   0.95250  0.024706           1.0     14\n",
       "15  0.186655   0.94125  0.023672           1.0     15\n",
       "16  0.172167   0.95250  0.024519           1.0     16\n",
       "17  0.178577   0.94250  0.024129           1.0     17\n",
       "18  0.179512   0.93375  0.025405           1.0     18\n",
       "19  0.166469   0.95250  0.023843           1.0     19\n",
       "20  0.186923   0.93375  0.022223           1.0     20\n",
       "21  0.165489   0.95000  0.023731           1.0     21\n",
       "22  0.183741   0.94625  0.025917           1.0     22\n",
       "23  0.160759   0.94875  0.025323           1.0     23\n",
       "24  0.188657   0.94125  0.022054           1.0     24\n",
       "25  0.168287   0.95000  0.021402           1.0     25\n",
       "26  0.167887   0.94625  0.021713           1.0     26\n",
       "27  0.174453   0.94875  0.021743           1.0     27\n",
       "28  0.169331   0.95250  0.021532           1.0     28\n",
       "29  0.160936   0.94500  0.019957           1.0     29\n",
       "30  0.155207   0.95250  0.019190           1.0     30\n",
       "31  0.184403   0.93125  0.019758           1.0     31\n",
       "32  0.154629   0.95125  0.020482           1.0     32\n",
       "33  0.195459   0.94125  0.020133           1.0     33\n",
       "34  0.160102   0.94750  0.020257           1.0     34\n",
       "35  0.169209   0.94250  0.021601           1.0     35\n",
       "36  0.159853   0.94500  0.020770           1.0     36\n",
       "37  0.176926   0.94500  0.021199           1.0     37\n",
       "38  0.175577   0.94125  0.020198           1.0     38\n",
       "39  0.187448   0.93875  0.020127           1.0     39\n",
       "40  0.190065   0.93750  0.022130           1.0     40"
      ]
     },
     "execution_count": 55,
     "metadata": {},
     "output_type": "execute_result"
    }
   ],
   "source": [
    "metrics = pd.DataFrame(history.history)\n",
    "metrics['epoch'] = history.epoch\n",
    "metrics"
   ]
  },
  {
   "attachments": {},
   "cell_type": "markdown",
   "id": "4461c262",
   "metadata": {},
   "source": [
    "# Model evaluate"
   ]
  },
  {
   "cell_type": "code",
   "execution_count": 56,
   "id": "a42430b5",
   "metadata": {},
   "outputs": [
    {
     "data": {
      "application/vnd.plotly.v1+json": {
       "config": {
        "plotlyServerURL": "https://plot.ly"
       },
       "data": [
        {
         "name": "accuracy",
         "type": "scatter",
         "x": [
          0,
          1,
          2,
          3,
          4,
          5,
          6,
          7,
          8,
          9,
          10,
          11,
          12,
          13,
          14,
          15,
          16,
          17,
          18,
          19,
          20,
          21,
          22,
          23,
          24,
          25,
          26,
          27,
          28,
          29,
          30,
          31,
          32,
          33,
          34,
          35,
          36,
          37,
          38,
          39,
          40
         ],
         "xaxis": "x",
         "y": [
          0.9262499809265137,
          0.9437500238418579,
          0.9574999809265137,
          0.9462500214576721,
          0.9262499809265137,
          0.9412500262260437,
          0.9337499737739563,
          0.9325000047683716,
          0.9437500238418579,
          0.9337499737739563,
          0.9524999856948853,
          0.9512500166893005,
          0.9337499737739563,
          0.9337499737739563,
          0.9524999856948853,
          0.9412500262260437,
          0.9524999856948853,
          0.9424999952316284,
          0.9337499737739563,
          0.9524999856948853,
          0.9337499737739563,
          0.949999988079071,
          0.9462500214576721,
          0.9487500190734863,
          0.9412500262260437,
          0.949999988079071,
          0.9462500214576721,
          0.9487500190734863,
          0.9524999856948853,
          0.9449999928474426,
          0.9524999856948853,
          0.9312499761581421,
          0.9512500166893005,
          0.9412500262260437,
          0.9474999904632568,
          0.9424999952316284,
          0.9449999928474426,
          0.9449999928474426,
          0.9412500262260437,
          0.9387500286102295,
          0.9375
         ],
         "yaxis": "y"
        },
        {
         "name": "loss",
         "type": "scatter",
         "x": [
          0,
          1,
          2,
          3,
          4,
          5,
          6,
          7,
          8,
          9,
          10,
          11,
          12,
          13,
          14,
          15,
          16,
          17,
          18,
          19,
          20,
          21,
          22,
          23,
          24,
          25,
          26,
          27,
          28,
          29,
          30,
          31,
          32,
          33,
          34,
          35,
          36,
          37,
          38,
          39,
          40
         ],
         "xaxis": "x2",
         "y": [
          0.20690368115901947,
          0.18915291130542755,
          0.16562344133853912,
          0.17471443116664886,
          0.21162180602550507,
          0.17167793214321136,
          0.2059832215309143,
          0.2023676633834839,
          0.20686836540699005,
          0.20674949884414673,
          0.17086783051490784,
          0.16640184819698334,
          0.19943147897720337,
          0.2011404037475586,
          0.1661030650138855,
          0.18665486574172974,
          0.17216677963733673,
          0.17857719957828522,
          0.179512158036232,
          0.16646873950958252,
          0.18692317605018616,
          0.16548892855644226,
          0.1837407648563385,
          0.16075901687145233,
          0.18865671753883362,
          0.16828688979148865,
          0.16788703203201294,
          0.17445310950279236,
          0.16933095455169678,
          0.16093643009662628,
          0.1552070826292038,
          0.1844029426574707,
          0.15462924540042877,
          0.1954592913389206,
          0.1601017415523529,
          0.16920927166938782,
          0.15985259413719177,
          0.17692600190639496,
          0.17557725310325623,
          0.18744830787181854,
          0.19006547331809998
         ],
         "yaxis": "y2"
        },
        {
         "name": "val_accuracy",
         "type": "scatter",
         "x": [
          0,
          1,
          2,
          3,
          4,
          5,
          6,
          7,
          8,
          9,
          10,
          11,
          12,
          13,
          14,
          15,
          16,
          17,
          18,
          19,
          20,
          21,
          22,
          23,
          24,
          25,
          26,
          27,
          28,
          29,
          30,
          31,
          32,
          33,
          34,
          35,
          36,
          37,
          38,
          39,
          40
         ],
         "xaxis": "x",
         "y": [
          1,
          1,
          1,
          1,
          1,
          1,
          1,
          1,
          1,
          1,
          1,
          1,
          1,
          1,
          1,
          1,
          1,
          1,
          1,
          1,
          1,
          1,
          1,
          1,
          1,
          1,
          1,
          1,
          1,
          1,
          1,
          1,
          1,
          1,
          1,
          1,
          1,
          1,
          1,
          1,
          1
         ],
         "yaxis": "y"
        },
        {
         "name": "val_loss",
         "type": "scatter",
         "x": [
          0,
          1,
          2,
          3,
          4,
          5,
          6,
          7,
          8,
          9,
          10,
          11,
          12,
          13,
          14,
          15,
          16,
          17,
          18,
          19,
          20,
          21,
          22,
          23,
          24,
          25,
          26,
          27,
          28,
          29,
          30,
          31,
          32,
          33,
          34,
          35,
          36,
          37,
          38,
          39,
          40
         ],
         "xaxis": "x2",
         "y": [
          0.03181358054280281,
          0.031193558126688004,
          0.02869821898639202,
          0.029673393815755844,
          0.029912365600466728,
          0.027667099609971046,
          0.026674095541238785,
          0.02900504320859909,
          0.03010646440088749,
          0.03069833107292652,
          0.027400262653827667,
          0.027219519019126892,
          0.026951530948281288,
          0.028617069125175476,
          0.02470613270998001,
          0.023671790957450867,
          0.02451854944229126,
          0.02412949688732624,
          0.02540532872080803,
          0.023843305185437202,
          0.02222289890050888,
          0.023731129243969917,
          0.02591715008020401,
          0.025323452427983284,
          0.02205372042953968,
          0.021401511505246162,
          0.021713169291615486,
          0.021743260324001312,
          0.02153213880956173,
          0.0199567973613739,
          0.019190432503819466,
          0.01975756697356701,
          0.020481565967202187,
          0.020132776349782944,
          0.020256727933883667,
          0.021601086482405663,
          0.020770255476236343,
          0.021199164912104607,
          0.020197609439492226,
          0.020126570016145706,
          0.022130059078335762
         ],
         "yaxis": "y2"
        }
       ],
       "layout": {
        "template": {
         "data": {
          "bar": [
           {
            "error_x": {
             "color": "#2a3f5f"
            },
            "error_y": {
             "color": "#2a3f5f"
            },
            "marker": {
             "line": {
              "color": "#E5ECF6",
              "width": 0.5
             },
             "pattern": {
              "fillmode": "overlay",
              "size": 10,
              "solidity": 0.2
             }
            },
            "type": "bar"
           }
          ],
          "barpolar": [
           {
            "marker": {
             "line": {
              "color": "#E5ECF6",
              "width": 0.5
             },
             "pattern": {
              "fillmode": "overlay",
              "size": 10,
              "solidity": 0.2
             }
            },
            "type": "barpolar"
           }
          ],
          "carpet": [
           {
            "aaxis": {
             "endlinecolor": "#2a3f5f",
             "gridcolor": "white",
             "linecolor": "white",
             "minorgridcolor": "white",
             "startlinecolor": "#2a3f5f"
            },
            "baxis": {
             "endlinecolor": "#2a3f5f",
             "gridcolor": "white",
             "linecolor": "white",
             "minorgridcolor": "white",
             "startlinecolor": "#2a3f5f"
            },
            "type": "carpet"
           }
          ],
          "choropleth": [
           {
            "colorbar": {
             "outlinewidth": 0,
             "ticks": ""
            },
            "type": "choropleth"
           }
          ],
          "contour": [
           {
            "colorbar": {
             "outlinewidth": 0,
             "ticks": ""
            },
            "colorscale": [
             [
              0,
              "#0d0887"
             ],
             [
              0.1111111111111111,
              "#46039f"
             ],
             [
              0.2222222222222222,
              "#7201a8"
             ],
             [
              0.3333333333333333,
              "#9c179e"
             ],
             [
              0.4444444444444444,
              "#bd3786"
             ],
             [
              0.5555555555555556,
              "#d8576b"
             ],
             [
              0.6666666666666666,
              "#ed7953"
             ],
             [
              0.7777777777777778,
              "#fb9f3a"
             ],
             [
              0.8888888888888888,
              "#fdca26"
             ],
             [
              1,
              "#f0f921"
             ]
            ],
            "type": "contour"
           }
          ],
          "contourcarpet": [
           {
            "colorbar": {
             "outlinewidth": 0,
             "ticks": ""
            },
            "type": "contourcarpet"
           }
          ],
          "heatmap": [
           {
            "colorbar": {
             "outlinewidth": 0,
             "ticks": ""
            },
            "colorscale": [
             [
              0,
              "#0d0887"
             ],
             [
              0.1111111111111111,
              "#46039f"
             ],
             [
              0.2222222222222222,
              "#7201a8"
             ],
             [
              0.3333333333333333,
              "#9c179e"
             ],
             [
              0.4444444444444444,
              "#bd3786"
             ],
             [
              0.5555555555555556,
              "#d8576b"
             ],
             [
              0.6666666666666666,
              "#ed7953"
             ],
             [
              0.7777777777777778,
              "#fb9f3a"
             ],
             [
              0.8888888888888888,
              "#fdca26"
             ],
             [
              1,
              "#f0f921"
             ]
            ],
            "type": "heatmap"
           }
          ],
          "heatmapgl": [
           {
            "colorbar": {
             "outlinewidth": 0,
             "ticks": ""
            },
            "colorscale": [
             [
              0,
              "#0d0887"
             ],
             [
              0.1111111111111111,
              "#46039f"
             ],
             [
              0.2222222222222222,
              "#7201a8"
             ],
             [
              0.3333333333333333,
              "#9c179e"
             ],
             [
              0.4444444444444444,
              "#bd3786"
             ],
             [
              0.5555555555555556,
              "#d8576b"
             ],
             [
              0.6666666666666666,
              "#ed7953"
             ],
             [
              0.7777777777777778,
              "#fb9f3a"
             ],
             [
              0.8888888888888888,
              "#fdca26"
             ],
             [
              1,
              "#f0f921"
             ]
            ],
            "type": "heatmapgl"
           }
          ],
          "histogram": [
           {
            "marker": {
             "pattern": {
              "fillmode": "overlay",
              "size": 10,
              "solidity": 0.2
             }
            },
            "type": "histogram"
           }
          ],
          "histogram2d": [
           {
            "colorbar": {
             "outlinewidth": 0,
             "ticks": ""
            },
            "colorscale": [
             [
              0,
              "#0d0887"
             ],
             [
              0.1111111111111111,
              "#46039f"
             ],
             [
              0.2222222222222222,
              "#7201a8"
             ],
             [
              0.3333333333333333,
              "#9c179e"
             ],
             [
              0.4444444444444444,
              "#bd3786"
             ],
             [
              0.5555555555555556,
              "#d8576b"
             ],
             [
              0.6666666666666666,
              "#ed7953"
             ],
             [
              0.7777777777777778,
              "#fb9f3a"
             ],
             [
              0.8888888888888888,
              "#fdca26"
             ],
             [
              1,
              "#f0f921"
             ]
            ],
            "type": "histogram2d"
           }
          ],
          "histogram2dcontour": [
           {
            "colorbar": {
             "outlinewidth": 0,
             "ticks": ""
            },
            "colorscale": [
             [
              0,
              "#0d0887"
             ],
             [
              0.1111111111111111,
              "#46039f"
             ],
             [
              0.2222222222222222,
              "#7201a8"
             ],
             [
              0.3333333333333333,
              "#9c179e"
             ],
             [
              0.4444444444444444,
              "#bd3786"
             ],
             [
              0.5555555555555556,
              "#d8576b"
             ],
             [
              0.6666666666666666,
              "#ed7953"
             ],
             [
              0.7777777777777778,
              "#fb9f3a"
             ],
             [
              0.8888888888888888,
              "#fdca26"
             ],
             [
              1,
              "#f0f921"
             ]
            ],
            "type": "histogram2dcontour"
           }
          ],
          "mesh3d": [
           {
            "colorbar": {
             "outlinewidth": 0,
             "ticks": ""
            },
            "type": "mesh3d"
           }
          ],
          "parcoords": [
           {
            "line": {
             "colorbar": {
              "outlinewidth": 0,
              "ticks": ""
             }
            },
            "type": "parcoords"
           }
          ],
          "pie": [
           {
            "automargin": true,
            "type": "pie"
           }
          ],
          "scatter": [
           {
            "fillpattern": {
             "fillmode": "overlay",
             "size": 10,
             "solidity": 0.2
            },
            "type": "scatter"
           }
          ],
          "scatter3d": [
           {
            "line": {
             "colorbar": {
              "outlinewidth": 0,
              "ticks": ""
             }
            },
            "marker": {
             "colorbar": {
              "outlinewidth": 0,
              "ticks": ""
             }
            },
            "type": "scatter3d"
           }
          ],
          "scattercarpet": [
           {
            "marker": {
             "colorbar": {
              "outlinewidth": 0,
              "ticks": ""
             }
            },
            "type": "scattercarpet"
           }
          ],
          "scattergeo": [
           {
            "marker": {
             "colorbar": {
              "outlinewidth": 0,
              "ticks": ""
             }
            },
            "type": "scattergeo"
           }
          ],
          "scattergl": [
           {
            "marker": {
             "colorbar": {
              "outlinewidth": 0,
              "ticks": ""
             }
            },
            "type": "scattergl"
           }
          ],
          "scattermapbox": [
           {
            "marker": {
             "colorbar": {
              "outlinewidth": 0,
              "ticks": ""
             }
            },
            "type": "scattermapbox"
           }
          ],
          "scatterpolar": [
           {
            "marker": {
             "colorbar": {
              "outlinewidth": 0,
              "ticks": ""
             }
            },
            "type": "scatterpolar"
           }
          ],
          "scatterpolargl": [
           {
            "marker": {
             "colorbar": {
              "outlinewidth": 0,
              "ticks": ""
             }
            },
            "type": "scatterpolargl"
           }
          ],
          "scatterternary": [
           {
            "marker": {
             "colorbar": {
              "outlinewidth": 0,
              "ticks": ""
             }
            },
            "type": "scatterternary"
           }
          ],
          "surface": [
           {
            "colorbar": {
             "outlinewidth": 0,
             "ticks": ""
            },
            "colorscale": [
             [
              0,
              "#0d0887"
             ],
             [
              0.1111111111111111,
              "#46039f"
             ],
             [
              0.2222222222222222,
              "#7201a8"
             ],
             [
              0.3333333333333333,
              "#9c179e"
             ],
             [
              0.4444444444444444,
              "#bd3786"
             ],
             [
              0.5555555555555556,
              "#d8576b"
             ],
             [
              0.6666666666666666,
              "#ed7953"
             ],
             [
              0.7777777777777778,
              "#fb9f3a"
             ],
             [
              0.8888888888888888,
              "#fdca26"
             ],
             [
              1,
              "#f0f921"
             ]
            ],
            "type": "surface"
           }
          ],
          "table": [
           {
            "cells": {
             "fill": {
              "color": "#EBF0F8"
             },
             "line": {
              "color": "white"
             }
            },
            "header": {
             "fill": {
              "color": "#C8D4E3"
             },
             "line": {
              "color": "white"
             }
            },
            "type": "table"
           }
          ]
         },
         "layout": {
          "annotationdefaults": {
           "arrowcolor": "#2a3f5f",
           "arrowhead": 0,
           "arrowwidth": 1
          },
          "autotypenumbers": "strict",
          "coloraxis": {
           "colorbar": {
            "outlinewidth": 0,
            "ticks": ""
           }
          },
          "colorscale": {
           "diverging": [
            [
             0,
             "#8e0152"
            ],
            [
             0.1,
             "#c51b7d"
            ],
            [
             0.2,
             "#de77ae"
            ],
            [
             0.3,
             "#f1b6da"
            ],
            [
             0.4,
             "#fde0ef"
            ],
            [
             0.5,
             "#f7f7f7"
            ],
            [
             0.6,
             "#e6f5d0"
            ],
            [
             0.7,
             "#b8e186"
            ],
            [
             0.8,
             "#7fbc41"
            ],
            [
             0.9,
             "#4d9221"
            ],
            [
             1,
             "#276419"
            ]
           ],
           "sequential": [
            [
             0,
             "#0d0887"
            ],
            [
             0.1111111111111111,
             "#46039f"
            ],
            [
             0.2222222222222222,
             "#7201a8"
            ],
            [
             0.3333333333333333,
             "#9c179e"
            ],
            [
             0.4444444444444444,
             "#bd3786"
            ],
            [
             0.5555555555555556,
             "#d8576b"
            ],
            [
             0.6666666666666666,
             "#ed7953"
            ],
            [
             0.7777777777777778,
             "#fb9f3a"
            ],
            [
             0.8888888888888888,
             "#fdca26"
            ],
            [
             1,
             "#f0f921"
            ]
           ],
           "sequentialminus": [
            [
             0,
             "#0d0887"
            ],
            [
             0.1111111111111111,
             "#46039f"
            ],
            [
             0.2222222222222222,
             "#7201a8"
            ],
            [
             0.3333333333333333,
             "#9c179e"
            ],
            [
             0.4444444444444444,
             "#bd3786"
            ],
            [
             0.5555555555555556,
             "#d8576b"
            ],
            [
             0.6666666666666666,
             "#ed7953"
            ],
            [
             0.7777777777777778,
             "#fb9f3a"
            ],
            [
             0.8888888888888888,
             "#fdca26"
            ],
            [
             1,
             "#f0f921"
            ]
           ]
          },
          "colorway": [
           "#636efa",
           "#EF553B",
           "#00cc96",
           "#ab63fa",
           "#FFA15A",
           "#19d3f3",
           "#FF6692",
           "#B6E880",
           "#FF97FF",
           "#FECB52"
          ],
          "font": {
           "color": "#2a3f5f"
          },
          "geo": {
           "bgcolor": "white",
           "lakecolor": "white",
           "landcolor": "#E5ECF6",
           "showlakes": true,
           "showland": true,
           "subunitcolor": "white"
          },
          "hoverlabel": {
           "align": "left"
          },
          "hovermode": "closest",
          "mapbox": {
           "style": "light"
          },
          "paper_bgcolor": "white",
          "plot_bgcolor": "#E5ECF6",
          "polar": {
           "angularaxis": {
            "gridcolor": "white",
            "linecolor": "white",
            "ticks": ""
           },
           "bgcolor": "#E5ECF6",
           "radialaxis": {
            "gridcolor": "white",
            "linecolor": "white",
            "ticks": ""
           }
          },
          "scene": {
           "xaxis": {
            "backgroundcolor": "#E5ECF6",
            "gridcolor": "white",
            "gridwidth": 2,
            "linecolor": "white",
            "showbackground": true,
            "ticks": "",
            "zerolinecolor": "white"
           },
           "yaxis": {
            "backgroundcolor": "#E5ECF6",
            "gridcolor": "white",
            "gridwidth": 2,
            "linecolor": "white",
            "showbackground": true,
            "ticks": "",
            "zerolinecolor": "white"
           },
           "zaxis": {
            "backgroundcolor": "#E5ECF6",
            "gridcolor": "white",
            "gridwidth": 2,
            "linecolor": "white",
            "showbackground": true,
            "ticks": "",
            "zerolinecolor": "white"
           }
          },
          "shapedefaults": {
           "line": {
            "color": "#2a3f5f"
           }
          },
          "ternary": {
           "aaxis": {
            "gridcolor": "white",
            "linecolor": "white",
            "ticks": ""
           },
           "baxis": {
            "gridcolor": "white",
            "linecolor": "white",
            "ticks": ""
           },
           "bgcolor": "#E5ECF6",
           "caxis": {
            "gridcolor": "white",
            "linecolor": "white",
            "ticks": ""
           }
          },
          "title": {
           "x": 0.05
          },
          "xaxis": {
           "automargin": true,
           "gridcolor": "white",
           "linecolor": "white",
           "ticks": "",
           "title": {
            "standoff": 15
           },
           "zerolinecolor": "white",
           "zerolinewidth": 2
          },
          "yaxis": {
           "automargin": true,
           "gridcolor": "white",
           "linecolor": "white",
           "ticks": "",
           "title": {
            "standoff": 15
           },
           "zerolinecolor": "white",
           "zerolinewidth": 2
          }
         }
        },
        "title": {
         "text": "Accuracy and Loss"
        },
        "width": 1000,
        "xaxis": {
         "anchor": "y",
         "domain": [
          0,
          0.45
         ],
         "title": {
          "text": "epochs"
         }
        },
        "xaxis2": {
         "anchor": "y2",
         "domain": [
          0.55,
          1
         ],
         "title": {
          "text": "epochs"
         }
        },
        "yaxis": {
         "anchor": "x",
         "domain": [
          0,
          1
         ],
         "title": {
          "text": "accuracy"
         }
        },
        "yaxis2": {
         "anchor": "x2",
         "domain": [
          0,
          1
         ],
         "title": {
          "text": "accuracy"
         }
        }
       }
      }
     },
     "metadata": {},
     "output_type": "display_data"
    }
   ],
   "source": [
    "import plotly.graph_objects as go\n",
    "from plotly.subplots import make_subplots\n",
    "\n",
    "fig = make_subplots(rows=1, cols=2)\n",
    "fig.add_trace(go.Scatter(x=metrics['epoch'], y=metrics['accuracy'], name='accuracy'), row=1, col=1)\n",
    "fig.add_trace(go.Scatter(x=metrics['epoch'], y=metrics['loss'], name='loss'), row=1, col=2)\n",
    "fig.add_trace(go.Scatter(x=metrics['epoch'], y=metrics['val_accuracy'], name='val_accuracy'), row=1, col=1)\n",
    "fig.add_trace(go.Scatter(x=metrics['epoch'], y=metrics['val_loss'], name='val_loss'), row=1, col=2)\n",
    "\n",
    "fig.update_xaxes(title_text='epochs')\n",
    "fig.update_yaxes(title_text='accuracy')\n",
    "fig.update_layout(width=1000, title='Accuracy and Loss')\n",
    "fig.show()"
   ]
  },
  {
   "cell_type": "code",
   "execution_count": 57,
   "id": "dea0d5f4",
   "metadata": {},
   "outputs": [
    {
     "name": "stdout",
     "output_type": "stream",
     "text": [
      "1.0\n"
     ]
    }
   ],
   "source": [
    "test_loss, test_acc = model.evaluate(X_test, y_test, verbose=0)\n",
    "print(test_acc)"
   ]
  },
  {
   "attachments": {},
   "cell_type": "markdown",
   "id": "dcf959ed",
   "metadata": {},
   "source": [
    "Predykcja na podstawie modelu.\n",
    "* model.evaluate(y_true, y_pred) - pozwala obliczyć metryki modelu\n",
    "* model.predict_classes() - pozwala zwrócić odpowiednio przewidziane klasy\n",
    "* model.predict_proba(), model.predict() - pozwala zwrócić prawdopodobieństwo danej klasy"
   ]
  },
  {
   "cell_type": "code",
   "execution_count": 58,
   "id": "d886fb03",
   "metadata": {},
   "outputs": [
    {
     "name": "stdout",
     "output_type": "stream",
     "text": [
      "7/7 [==============================] - 0s 2ms/step\n"
     ]
    },
    {
     "data": {
      "text/plain": [
       "array([[3.3899686e-10, 1.9547931e-27, 9.9999857e-01, ..., 2.0271515e-18, 9.5899244e-17, 2.6894371e-09],\n",
       "       [6.4157421e-04, 6.9083718e-08, 2.7667466e-03, ..., 2.0614530e-06, 4.0034614e-05, 2.9122733e-04],\n",
       "       [1.5092069e-09, 6.2632665e-26, 9.9999821e-01, ..., 1.2528053e-16, 5.1928947e-15, 2.4766043e-09],\n",
       "       ...,\n",
       "       [2.3087073e-22, 8.9350849e-30, 1.5581450e-06, ..., 4.6803438e-30, 2.6182833e-38, 9.9999845e-01],\n",
       "       [1.2802441e-08, 4.8800103e-23, 9.9999595e-01, ..., 1.9499300e-14, 4.1101389e-13, 1.3439305e-08],\n",
       "       [1.9302787e-03, 1.1111683e-06, 9.5764957e-03, ..., 3.9356881e-05, 8.9573540e-04, 6.0943735e-04]], dtype=float32)"
      ]
     },
     "execution_count": 58,
     "metadata": {},
     "output_type": "execute_result"
    }
   ],
   "source": [
    "predictions = model.predict(X_test)\n",
    "predictions"
   ]
  },
  {
   "cell_type": "code",
   "execution_count": 60,
   "id": "f0517586",
   "metadata": {},
   "outputs": [
    {
     "data": {
      "text/html": [
       "<div>\n",
       "<style scoped>\n",
       "    .dataframe tbody tr th:only-of-type {\n",
       "        vertical-align: middle;\n",
       "    }\n",
       "\n",
       "    .dataframe tbody tr th {\n",
       "        vertical-align: top;\n",
       "    }\n",
       "\n",
       "    .dataframe thead th {\n",
       "        text-align: right;\n",
       "    }\n",
       "</style>\n",
       "<table border=\"1\" class=\"dataframe\">\n",
       "  <thead>\n",
       "    <tr style=\"text-align: right;\">\n",
       "      <th></th>\n",
       "      <th>0</th>\n",
       "      <th>1</th>\n",
       "      <th>2</th>\n",
       "      <th>3</th>\n",
       "      <th>4</th>\n",
       "      <th>5</th>\n",
       "      <th>6</th>\n",
       "      <th>7</th>\n",
       "    </tr>\n",
       "  </thead>\n",
       "  <tbody>\n",
       "    <tr>\n",
       "      <th>0</th>\n",
       "      <td>3.389969e-10</td>\n",
       "      <td>1.954793e-27</td>\n",
       "      <td>0.999999</td>\n",
       "      <td>1.958734e-09</td>\n",
       "      <td>1.409109e-06</td>\n",
       "      <td>2.027151e-18</td>\n",
       "      <td>9.589924e-17</td>\n",
       "      <td>2.689437e-09</td>\n",
       "    </tr>\n",
       "    <tr>\n",
       "      <th>1</th>\n",
       "      <td>6.415742e-04</td>\n",
       "      <td>6.908372e-08</td>\n",
       "      <td>0.002767</td>\n",
       "      <td>4.848462e-04</td>\n",
       "      <td>9.957734e-01</td>\n",
       "      <td>2.061453e-06</td>\n",
       "      <td>4.003461e-05</td>\n",
       "      <td>2.912273e-04</td>\n",
       "    </tr>\n",
       "    <tr>\n",
       "      <th>2</th>\n",
       "      <td>1.509207e-09</td>\n",
       "      <td>6.263267e-26</td>\n",
       "      <td>0.999998</td>\n",
       "      <td>5.867821e-08</td>\n",
       "      <td>1.618125e-06</td>\n",
       "      <td>1.252805e-16</td>\n",
       "      <td>5.192895e-15</td>\n",
       "      <td>2.476604e-09</td>\n",
       "    </tr>\n",
       "    <tr>\n",
       "      <th>3</th>\n",
       "      <td>7.703693e-10</td>\n",
       "      <td>9.869490e-27</td>\n",
       "      <td>0.999999</td>\n",
       "      <td>3.117990e-08</td>\n",
       "      <td>1.248597e-06</td>\n",
       "      <td>4.160892e-17</td>\n",
       "      <td>1.564857e-15</td>\n",
       "      <td>1.227637e-09</td>\n",
       "    </tr>\n",
       "    <tr>\n",
       "      <th>4</th>\n",
       "      <td>1.398058e-08</td>\n",
       "      <td>9.128074e-23</td>\n",
       "      <td>0.999990</td>\n",
       "      <td>1.088876e-07</td>\n",
       "      <td>9.614505e-06</td>\n",
       "      <td>3.278491e-15</td>\n",
       "      <td>1.097086e-13</td>\n",
       "      <td>5.953532e-08</td>\n",
       "    </tr>\n",
       "    <tr>\n",
       "      <th>...</th>\n",
       "      <td>...</td>\n",
       "      <td>...</td>\n",
       "      <td>...</td>\n",
       "      <td>...</td>\n",
       "      <td>...</td>\n",
       "      <td>...</td>\n",
       "      <td>...</td>\n",
       "      <td>...</td>\n",
       "    </tr>\n",
       "    <tr>\n",
       "      <th>196</th>\n",
       "      <td>3.033864e-21</td>\n",
       "      <td>6.070379e-29</td>\n",
       "      <td>0.000004</td>\n",
       "      <td>1.729010e-32</td>\n",
       "      <td>3.022138e-22</td>\n",
       "      <td>2.185718e-29</td>\n",
       "      <td>1.134334e-36</td>\n",
       "      <td>9.999957e-01</td>\n",
       "    </tr>\n",
       "    <tr>\n",
       "      <th>197</th>\n",
       "      <td>1.457512e-08</td>\n",
       "      <td>4.803436e-23</td>\n",
       "      <td>0.999996</td>\n",
       "      <td>1.340204e-06</td>\n",
       "      <td>3.002123e-06</td>\n",
       "      <td>2.810331e-14</td>\n",
       "      <td>6.904697e-13</td>\n",
       "      <td>1.086806e-08</td>\n",
       "    </tr>\n",
       "    <tr>\n",
       "      <th>198</th>\n",
       "      <td>2.308707e-22</td>\n",
       "      <td>8.935085e-30</td>\n",
       "      <td>0.000002</td>\n",
       "      <td>6.241395e-34</td>\n",
       "      <td>1.388100e-23</td>\n",
       "      <td>4.680344e-30</td>\n",
       "      <td>2.618283e-38</td>\n",
       "      <td>9.999985e-01</td>\n",
       "    </tr>\n",
       "    <tr>\n",
       "      <th>199</th>\n",
       "      <td>1.280244e-08</td>\n",
       "      <td>4.880010e-23</td>\n",
       "      <td>0.999996</td>\n",
       "      <td>7.290522e-07</td>\n",
       "      <td>3.363181e-06</td>\n",
       "      <td>1.949930e-14</td>\n",
       "      <td>4.110139e-13</td>\n",
       "      <td>1.343930e-08</td>\n",
       "    </tr>\n",
       "    <tr>\n",
       "      <th>200</th>\n",
       "      <td>1.930279e-03</td>\n",
       "      <td>1.111168e-06</td>\n",
       "      <td>0.009576</td>\n",
       "      <td>3.662715e-03</td>\n",
       "      <td>9.832848e-01</td>\n",
       "      <td>3.935688e-05</td>\n",
       "      <td>8.957354e-04</td>\n",
       "      <td>6.094374e-04</td>\n",
       "    </tr>\n",
       "  </tbody>\n",
       "</table>\n",
       "<p>201 rows × 8 columns</p>\n",
       "</div>"
      ],
      "text/plain": [
       "                0             1         2             3             4             5             6             7\n",
       "0    3.389969e-10  1.954793e-27  0.999999  1.958734e-09  1.409109e-06  2.027151e-18  9.589924e-17  2.689437e-09\n",
       "1    6.415742e-04  6.908372e-08  0.002767  4.848462e-04  9.957734e-01  2.061453e-06  4.003461e-05  2.912273e-04\n",
       "2    1.509207e-09  6.263267e-26  0.999998  5.867821e-08  1.618125e-06  1.252805e-16  5.192895e-15  2.476604e-09\n",
       "3    7.703693e-10  9.869490e-27  0.999999  3.117990e-08  1.248597e-06  4.160892e-17  1.564857e-15  1.227637e-09\n",
       "4    1.398058e-08  9.128074e-23  0.999990  1.088876e-07  9.614505e-06  3.278491e-15  1.097086e-13  5.953532e-08\n",
       "..            ...           ...       ...           ...           ...           ...           ...           ...\n",
       "196  3.033864e-21  6.070379e-29  0.000004  1.729010e-32  3.022138e-22  2.185718e-29  1.134334e-36  9.999957e-01\n",
       "197  1.457512e-08  4.803436e-23  0.999996  1.340204e-06  3.002123e-06  2.810331e-14  6.904697e-13  1.086806e-08\n",
       "198  2.308707e-22  8.935085e-30  0.000002  6.241395e-34  1.388100e-23  4.680344e-30  2.618283e-38  9.999985e-01\n",
       "199  1.280244e-08  4.880010e-23  0.999996  7.290522e-07  3.363181e-06  1.949930e-14  4.110139e-13  1.343930e-08\n",
       "200  1.930279e-03  1.111168e-06  0.009576  3.662715e-03  9.832848e-01  3.935688e-05  8.957354e-04  6.094374e-04\n",
       "\n",
       "[201 rows x 8 columns]"
      ]
     },
     "execution_count": 60,
     "metadata": {},
     "output_type": "execute_result"
    }
   ],
   "source": [
    "predictions_df = pd.DataFrame(predictions)\n",
    "predictions_df"
   ]
  },
  {
   "cell_type": "code",
   "execution_count": 62,
   "id": "03d216ea",
   "metadata": {},
   "outputs": [
    {
     "data": {
      "text/plain": [
       "array([2, 4, 2, 2, 2, 1, 2, 7, 3, 2, 3, 7, 2, 5, 5, 1, 5, 4, 2, 3, 7, 3, 7, 4, 7, 1, 2, 4, 6, 1, 2, 6, 6, 4, 6, 1, 7, 2, 7, 4, 2, 5, 7, 2, 2, 2, 7, 2, 3, 4, 1, 1, 4, 1, 3, 2, 7, 2, 7, 3, 2, 7, 2, 6, 7, 2, 3, 1, 3, 2, 2, 2, 4, 2, 2, 2, 1, 2, 2, 1, 7, 2, 2, 2, 6, 2, 5, 7, 2, 7, 6, 2, 3, 4, 2, 2, 2, 2, 6, 6, 3, 2, 6, 4, 5, 3, 6, 3, 2, 2, 1, 2, 2, 2, 6, 7, 3, 1, 2, 2, 6, 7, 2, 2, 6, 3, 2, 2, 3, 5, 4, 1, 6, 2, 1, 4, 7, 3, 3, 7, 6, 2, 7, 2, 2, 2, 4, 2, 4, 2, 3, 5, 2, 6, 1, 2, 5, 2, 4, 2, 4, 6, 2, 3,\n",
       "       6, 5, 2, 1, 4, 2, 6, 2, 1, 5, 1, 2, 4, 2, 3, 2, 7, 1, 2, 3, 5, 6, 6, 1, 4, 2, 2, 2, 7, 7, 2, 1, 7, 2, 7, 2, 4], dtype=int64)"
      ]
     },
     "execution_count": 62,
     "metadata": {},
     "output_type": "execute_result"
    }
   ],
   "source": [
    "predictions_cls = predictions.argmax(axis=-1)\n",
    "predictions_cls"
   ]
  },
  {
   "attachments": {},
   "cell_type": "markdown",
   "id": "70f70183",
   "metadata": {},
   "source": [
    "# Zapisanie modelu"
   ]
  },
  {
   "cell_type": "code",
   "execution_count": 64,
   "id": "5a32ea88",
   "metadata": {},
   "outputs": [
    {
     "name": "stderr",
     "output_type": "stream",
     "text": [
      "WARNING:absl:Found untraced functions such as _update_step_xla while saving (showing 1 of 1). These functions will not be directly callable after loading.\n"
     ]
    },
    {
     "name": "stdout",
     "output_type": "stream",
     "text": [
      "INFO:tensorflow:Assets written to: C:\\Users\\Dell\\Documents\\Git\\stormwater-analysis\\data\\assets\n"
     ]
    },
    {
     "name": "stderr",
     "output_type": "stream",
     "text": [
      "INFO:tensorflow:Assets written to: C:\\Users\\Dell\\Documents\\Git\\stormwater-analysis\\data\\assets\n"
     ]
    }
   ],
   "source": [
    "model.save(r'C:\\Users\\Dell\\Documents\\Git\\stormwater-analysis\\data')"
   ]
  },
  {
   "attachments": {},
   "cell_type": "markdown",
   "id": "2a8a23e3",
   "metadata": {},
   "source": [
    "# Załadowanie modelu"
   ]
  },
  {
   "cell_type": "code",
   "execution_count": 68,
   "id": "772d2f7e",
   "metadata": {},
   "outputs": [],
   "source": [
    "from tensorflow import keras\n",
    "model = keras.models.load_model(r'C:\\Users\\Dell\\Documents\\Git\\stormwater-analysis\\data')"
   ]
  },
  {
   "cell_type": "code",
   "execution_count": 69,
   "id": "96645d62",
   "metadata": {},
   "outputs": [
    {
     "name": "stdout",
     "output_type": "stream",
     "text": [
      "7/7 [==============================] - 0s 2ms/step\n"
     ]
    },
    {
     "data": {
      "text/plain": [
       "array([[3.3899686e-10, 1.9547931e-27, 9.9999857e-01, ..., 2.0271515e-18, 9.5899244e-17, 2.6894371e-09],\n",
       "       [6.4157421e-04, 6.9083718e-08, 2.7667466e-03, ..., 2.0614530e-06, 4.0034614e-05, 2.9122733e-04],\n",
       "       [1.5092069e-09, 6.2632665e-26, 9.9999821e-01, ..., 1.2528053e-16, 5.1928947e-15, 2.4766043e-09],\n",
       "       ...,\n",
       "       [2.3087073e-22, 8.9350849e-30, 1.5581450e-06, ..., 4.6803438e-30, 2.6182833e-38, 9.9999845e-01],\n",
       "       [1.2802441e-08, 4.8800103e-23, 9.9999595e-01, ..., 1.9499300e-14, 4.1101389e-13, 1.3439305e-08],\n",
       "       [1.9302787e-03, 1.1111683e-06, 9.5764957e-03, ..., 3.9356881e-05, 8.9573540e-04, 6.0943735e-04]], dtype=float32)"
      ]
     },
     "execution_count": 69,
     "metadata": {},
     "output_type": "execute_result"
    }
   ],
   "source": [
    "pred = model.predict(X_test)\n",
    "pred"
   ]
  }
 ],
 "metadata": {
  "kernelspec": {
   "display_name": "Python 3 (ipykernel)",
   "language": "python",
   "name": "python3"
  },
  "language_info": {
   "codemirror_mode": {
    "name": "ipython",
    "version": 3
   },
   "file_extension": ".py",
   "mimetype": "text/x-python",
   "name": "python",
   "nbconvert_exporter": "python",
   "pygments_lexer": "ipython3",
   "version": "3.10.2"
  }
 },
 "nbformat": 4,
 "nbformat_minor": 5
}
