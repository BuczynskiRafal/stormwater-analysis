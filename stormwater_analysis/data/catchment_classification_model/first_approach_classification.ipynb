{
 "cells": [
  {
   "attachments": {},
   "cell_type": "markdown",
   "id": "203c68be-eb8f-49c1-8f55-d3929d447923",
   "metadata": {},
   "source": [
    "# Training a model for catchment classification. \n",
    "* kategoryzacja zlewni oparta o większość dostępnych ceech zlewni z plików inp i rpt"
   ]
  },
  {
   "attachments": {},
   "cell_type": "markdown",
   "id": "0ca5aa33-8a1f-41a9-9f45-44b2405dff6a",
   "metadata": {},
   "source": [
    "# Imports"
   ]
  },
  {
   "cell_type": "code",
   "execution_count": 114,
   "id": "36d5c0c3-e761-4ba6-9aab-f74dada646a3",
   "metadata": {},
   "outputs": [],
   "source": [
    "import swmmio\n",
    "import pyswmm\n",
    "import pandas as pd\n",
    "import numpy as np\n",
    "from sklearn.model_selection import train_test_split\n",
    "from sklearn.preprocessing import StandardScaler, OneHotEncoder, MinMaxScaler\n",
    "from sklearn.compose import ColumnTransformer\n",
    "from sklearn.model_selection import train_test_split\n",
    "from tensorflow.keras.models import Sequential\n",
    "from tensorflow.keras.layers import Dense, Dropout\n",
    "from tensorflow.keras.callbacks import EarlyStopping\n",
    "from tensorflow.keras.layers.experimental import preprocessing\n",
    "\n",
    "\n",
    "desired_width = 500\n",
    "pd.set_option(\"display.width\", desired_width)\n",
    "np.set_printoptions(linewidth=desired_width)\n",
    "pd.set_option(\"display.max_columns\", 30)"
   ]
  },
  {
   "cell_type": "code",
   "execution_count": 115,
   "id": "93a421bf-75fd-46fa-b8a1-6277aa189444",
   "metadata": {
    "tags": []
   },
   "outputs": [
    {
     "data": {
      "text/html": [
       "<div>\n",
       "<style scoped>\n",
       "    .dataframe tbody tr th:only-of-type {\n",
       "        vertical-align: middle;\n",
       "    }\n",
       "\n",
       "    .dataframe tbody tr th {\n",
       "        vertical-align: top;\n",
       "    }\n",
       "\n",
       "    .dataframe thead th {\n",
       "        text-align: right;\n",
       "    }\n",
       "</style>\n",
       "<table border=\"1\" class=\"dataframe\">\n",
       "  <thead>\n",
       "    <tr style=\"text-align: right;\">\n",
       "      <th></th>\n",
       "      <th>classes</th>\n",
       "    </tr>\n",
       "  </thead>\n",
       "  <tbody>\n",
       "    <tr>\n",
       "      <th>0</th>\n",
       "      <td>compact_urban_development</td>\n",
       "    </tr>\n",
       "    <tr>\n",
       "      <th>1</th>\n",
       "      <td>urban</td>\n",
       "    </tr>\n",
       "    <tr>\n",
       "      <th>2</th>\n",
       "      <td>loose_urban_development</td>\n",
       "    </tr>\n",
       "    <tr>\n",
       "      <th>3</th>\n",
       "      <td>wooded_area</td>\n",
       "    </tr>\n",
       "    <tr>\n",
       "      <th>4</th>\n",
       "      <td>grassy</td>\n",
       "    </tr>\n",
       "    <tr>\n",
       "      <th>5</th>\n",
       "      <td>loose_soil</td>\n",
       "    </tr>\n",
       "    <tr>\n",
       "      <th>6</th>\n",
       "      <td>steep_area</td>\n",
       "    </tr>\n",
       "  </tbody>\n",
       "</table>\n",
       "</div>"
      ],
      "text/plain": [
       "                     classes\n",
       "0  compact_urban_development\n",
       "1                      urban\n",
       "2    loose_urban_development\n",
       "3                wooded_area\n",
       "4                     grassy\n",
       "5                 loose_soil\n",
       "6                 steep_area"
      ]
     },
     "execution_count": 115,
     "metadata": {},
     "output_type": "execute_result"
    }
   ],
   "source": [
    "classes = pd.DataFrame(\n",
    "    data={\n",
    "        \"classes\": [\n",
    "            \"compact_urban_development\",\n",
    "            \"urban\",\n",
    "            \"loose_urban_development\",\n",
    "            \"wooded_area\",\n",
    "            \"grassy\",\n",
    "            \"loose_soil\",\n",
    "            \"steep_area\",\n",
    "        ]\n",
    "    }\n",
    ")\n",
    "classes"
   ]
  },
  {
   "attachments": {},
   "cell_type": "markdown",
   "id": "4a70e679-858b-452c-b86f-5970de24452d",
   "metadata": {},
   "source": [
    "# Get files"
   ]
  },
  {
   "cell_type": "code",
   "execution_count": 116,
   "id": "33997e0f-4acc-4716-91a1-52529670ecdc",
   "metadata": {
    "tags": []
   },
   "outputs": [],
   "source": [
    "INP_FILE_01 = \"dataset/subcatchment_dataset_01.inp\"\n",
    "INP_FILE_02 = \"dataset/subcatchment_dataset_02.inp\"\n",
    "INP_FILE_03 = \"dataset/subcatchment_dataset_03.inp\"\n",
    "INP_FILE_04 = \"dataset/subcatchment_dataset_04.inp\"\n",
    "INP_FILE_05 = \"dataset/subcatchment_dataset_05.inp\"\n",
    "INP_FILE_06 = \"dataset/subcatchment_dataset_06.inp\"\n",
    "INP_FILE_07 = \"dataset/subcatchment_dataset_07.inp\"\n",
    "INP_FILE_08 = \"dataset/subcatchment_dataset_08.inp\"\n",
    "INP_FILE_09 = \"dataset/subcatchment_dataset_09.inp\"\n",
    "INP_FILE_10 = \"dataset/subcatchment_dataset_10.inp\"\n",
    "files = [INP_FILE_01, INP_FILE_02, INP_FILE_03, INP_FILE_04, INP_FILE_05, INP_FILE_06, INP_FILE_07, INP_FILE_08, INP_FILE_09, INP_FILE_10]"
   ]
  },
  {
   "attachments": {},
   "cell_type": "markdown",
   "id": "64f26c2a-8ea2-479f-afb4-a308ef9bd098",
   "metadata": {
    "tags": []
   },
   "source": [
    "# Run simulation"
   ]
  },
  {
   "cell_type": "code",
   "execution_count": 117,
   "id": "55ba70ee-57b6-4f10-ba31-1491cf3e5abd",
   "metadata": {
    "tags": []
   },
   "outputs": [],
   "source": [
    "for f in files:\n",
    "    with pyswmm.Simulation(f) as sim:\n",
    "        for step in sim:\n",
    "            pass"
   ]
  },
  {
   "attachments": {},
   "cell_type": "markdown",
   "id": "41a1e5e8-bc02-423b-be65-27525ff80744",
   "metadata": {
    "tags": []
   },
   "source": [
    "# Read inp and rpt file as swmmio model object"
   ]
  },
  {
   "cell_type": "code",
   "execution_count": 118,
   "id": "47c87820-5d5f-40d4-b47f-f1f9e3802551",
   "metadata": {
    "tags": []
   },
   "outputs": [],
   "source": [
    "model_01 = swmmio.Model(INP_FILE_01)\n",
    "model_02 = swmmio.Model(INP_FILE_02)\n",
    "model_03 = swmmio.Model(INP_FILE_03)\n",
    "model_04 = swmmio.Model(INP_FILE_04)\n",
    "model_05 = swmmio.Model(INP_FILE_05)\n",
    "model_06 = swmmio.Model(INP_FILE_06)\n",
    "model_07 = swmmio.Model(INP_FILE_07)\n",
    "model_08 = swmmio.Model(INP_FILE_08)\n",
    "model_09 = swmmio.Model(INP_FILE_09)\n",
    "model_10 = swmmio.Model(INP_FILE_10)\n",
    "\n",
    "models = [model_01, model_02, model_03, model_04, model_05, model_06, model_07, model_08, model_09, model_10]"
   ]
  },
  {
   "attachments": {},
   "cell_type": "markdown",
   "id": "509d6391-c4ac-462f-be8f-d39f57aa7666",
   "metadata": {
    "tags": []
   },
   "source": [
    "## Get subcatchments data from the model"
   ]
  },
  {
   "cell_type": "code",
   "execution_count": 219,
   "id": "3c34c355-f5c1-420f-a437-2223f8ff53e5",
   "metadata": {},
   "outputs": [],
   "source": [
    "raw_subcatchments_01 = model_01.subcatchments.dataframe\n",
    "raw_subcatchments_02 = model_02.subcatchments.dataframe\n",
    "raw_subcatchments_03 = model_03.subcatchments.dataframe\n",
    "raw_subcatchments_04 = model_04.subcatchments.dataframe\n",
    "raw_subcatchments_05 = model_05.subcatchments.dataframe\n",
    "raw_subcatchments_06 = model_06.subcatchments.dataframe\n",
    "raw_subcatchments_07 = model_07.subcatchments.dataframe\n",
    "raw_subcatchments_08 = model_08.subcatchments.dataframe\n",
    "raw_subcatchments_09 = model_09.subcatchments.dataframe\n",
    "raw_subcatchments_10 = model_10.subcatchments.dataframe\n",
    "\n",
    "subcatchments_01 = raw_subcatchments_01.copy()\n",
    "subcatchments_02 = raw_subcatchments_02.copy()\n",
    "subcatchments_03 = raw_subcatchments_03.copy()\n",
    "subcatchments_04 = raw_subcatchments_04.copy()\n",
    "subcatchments_05 = raw_subcatchments_05.copy()\n",
    "subcatchments_06 = raw_subcatchments_06.copy()\n",
    "subcatchments_07 = raw_subcatchments_07.copy()\n",
    "subcatchments_08 = raw_subcatchments_08.copy()\n",
    "subcatchments_09 = raw_subcatchments_09.copy()\n",
    "subcatchments_10 = raw_subcatchments_10.copy()\n",
    "\n",
    "subcatchments = [subcatchments_01, subcatchments_02, subcatchments_03, subcatchments_04, subcatchments_05, subcatchments_06, subcatchments_07, subcatchments_08, subcatchments_09, subcatchments_10]"
   ]
  },
  {
   "attachments": {},
   "cell_type": "markdown",
   "id": "90961230-f871-4f50-8d48-52f509304ec2",
   "metadata": {
    "tags": []
   },
   "source": [
    "### Drop unused columns"
   ]
  },
  {
   "cell_type": "code",
   "execution_count": 220,
   "id": "8d4bf621-5085-4641-a7c5-38460e68ab4b",
   "metadata": {
    "tags": []
   },
   "outputs": [],
   "source": [
    "for frame in subcatchments:\n",
    "    frame.drop(['N-Imperv', 'N-Perv', 'S-Imperv',\t'S-Perv', 'coords', 'RouteTo', 'CurbLength', 'Outlet', 'Raingage', 'TotalRunon', 'TotalEvap', 'TotalInfil', 'ImpervRunoff', 'PervRunoff', 'TotalRunoffIn'], axis=1, inplace=True)"
   ]
  },
  {
   "cell_type": "code",
   "execution_count": 221,
   "id": "2cc1d245",
   "metadata": {},
   "outputs": [
    {
     "data": {
      "text/html": [
       "<div>\n",
       "<style scoped>\n",
       "    .dataframe tbody tr th:only-of-type {\n",
       "        vertical-align: middle;\n",
       "    }\n",
       "\n",
       "    .dataframe tbody tr th {\n",
       "        vertical-align: top;\n",
       "    }\n",
       "\n",
       "    .dataframe thead th {\n",
       "        text-align: right;\n",
       "    }\n",
       "</style>\n",
       "<table border=\"1\" class=\"dataframe\">\n",
       "  <thead>\n",
       "    <tr style=\"text-align: right;\">\n",
       "      <th></th>\n",
       "      <th>Area</th>\n",
       "      <th>PercImperv</th>\n",
       "      <th>Width</th>\n",
       "      <th>PercSlope</th>\n",
       "      <th>PctZero</th>\n",
       "      <th>TotalPrecip</th>\n",
       "      <th>TotalRunoffMG</th>\n",
       "      <th>PeakRunoff</th>\n",
       "      <th>RunoffCoeff</th>\n",
       "    </tr>\n",
       "    <tr>\n",
       "      <th>Name</th>\n",
       "      <th></th>\n",
       "      <th></th>\n",
       "      <th></th>\n",
       "      <th></th>\n",
       "      <th></th>\n",
       "      <th></th>\n",
       "      <th></th>\n",
       "      <th></th>\n",
       "      <th></th>\n",
       "    </tr>\n",
       "  </thead>\n",
       "  <tbody>\n",
       "    <tr>\n",
       "      <th>S1</th>\n",
       "      <td>0.50</td>\n",
       "      <td>20.00</td>\n",
       "      <td>300.00</td>\n",
       "      <td>5.00</td>\n",
       "      <td>70</td>\n",
       "      <td>10.10</td>\n",
       "      <td>0.02</td>\n",
       "      <td>0.02</td>\n",
       "      <td>0.407</td>\n",
       "    </tr>\n",
       "    <tr>\n",
       "      <th>S10</th>\n",
       "      <td>1.87</td>\n",
       "      <td>45.00</td>\n",
       "      <td>136.75</td>\n",
       "      <td>15.00</td>\n",
       "      <td>90</td>\n",
       "      <td>10.10</td>\n",
       "      <td>0.11</td>\n",
       "      <td>0.09</td>\n",
       "      <td>0.587</td>\n",
       "    </tr>\n",
       "    <tr>\n",
       "      <th>S100</th>\n",
       "      <td>1.71</td>\n",
       "      <td>45.00</td>\n",
       "      <td>130.77</td>\n",
       "      <td>10.00</td>\n",
       "      <td>90</td>\n",
       "      <td>10.10</td>\n",
       "      <td>0.10</td>\n",
       "      <td>0.08</td>\n",
       "      <td>0.581</td>\n",
       "    </tr>\n",
       "    <tr>\n",
       "      <th>S1000</th>\n",
       "      <td>0.68</td>\n",
       "      <td>10.00</td>\n",
       "      <td>82.46</td>\n",
       "      <td>5.09</td>\n",
       "      <td>10</td>\n",
       "      <td>10.10</td>\n",
       "      <td>0.02</td>\n",
       "      <td>0.01</td>\n",
       "      <td>0.224</td>\n",
       "    </tr>\n",
       "    <tr>\n",
       "      <th>S1001</th>\n",
       "      <td>0.26</td>\n",
       "      <td>83.33</td>\n",
       "      <td>50.99</td>\n",
       "      <td>45.00</td>\n",
       "      <td>80</td>\n",
       "      <td>10.10</td>\n",
       "      <td>0.02</td>\n",
       "      <td>0.02</td>\n",
       "      <td>0.879</td>\n",
       "    </tr>\n",
       "  </tbody>\n",
       "</table>\n",
       "</div>"
      ],
      "text/plain": [
       "       Area  PercImperv   Width  PercSlope  PctZero TotalPrecip  TotalRunoffMG  PeakRunoff  RunoffCoeff\n",
       "Name                                                                                                   \n",
       "S1     0.50       20.00  300.00       5.00       70       10.10           0.02        0.02        0.407\n",
       "S10    1.87       45.00  136.75      15.00       90       10.10           0.11        0.09        0.587\n",
       "S100   1.71       45.00  130.77      10.00       90       10.10           0.10        0.08        0.581\n",
       "S1000  0.68       10.00   82.46       5.09       10       10.10           0.02        0.01        0.224\n",
       "S1001  0.26       83.33   50.99      45.00       80       10.10           0.02        0.02        0.879"
      ]
     },
     "execution_count": 221,
     "metadata": {},
     "output_type": "execute_result"
    }
   ],
   "source": [
    "subcatchments_01.iloc[:5, :]"
   ]
  },
  {
   "attachments": {},
   "cell_type": "markdown",
   "id": "aec10d49-c5c5-4d85-b88b-988292b3500b",
   "metadata": {},
   "source": [
    "## Get categories"
   ]
  },
  {
   "cell_type": "code",
   "execution_count": 222,
   "id": "16e17b13-3c2e-4475-96b5-1555b71d3e9c",
   "metadata": {
    "tags": []
   },
   "outputs": [
    {
     "data": {
      "text/html": [
       "<div>\n",
       "<style scoped>\n",
       "    .dataframe tbody tr th:only-of-type {\n",
       "        vertical-align: middle;\n",
       "    }\n",
       "\n",
       "    .dataframe tbody tr th {\n",
       "        vertical-align: top;\n",
       "    }\n",
       "\n",
       "    .dataframe thead th {\n",
       "        text-align: right;\n",
       "    }\n",
       "</style>\n",
       "<table border=\"1\" class=\"dataframe\">\n",
       "  <thead>\n",
       "    <tr style=\"text-align: right;\">\n",
       "      <th></th>\n",
       "      <th>Name</th>\n",
       "      <th>Tag</th>\n",
       "    </tr>\n",
       "    <tr>\n",
       "      <th>ElementType</th>\n",
       "      <th></th>\n",
       "      <th></th>\n",
       "    </tr>\n",
       "  </thead>\n",
       "  <tbody>\n",
       "    <tr>\n",
       "      <th>Subcatch</th>\n",
       "      <td>S1</td>\n",
       "      <td>loose_soil</td>\n",
       "    </tr>\n",
       "    <tr>\n",
       "      <th>Subcatch</th>\n",
       "      <td>S2</td>\n",
       "      <td>compact_urban_development</td>\n",
       "    </tr>\n",
       "    <tr>\n",
       "      <th>Subcatch</th>\n",
       "      <td>S3</td>\n",
       "      <td>loose_soil</td>\n",
       "    </tr>\n",
       "    <tr>\n",
       "      <th>Subcatch</th>\n",
       "      <td>S4</td>\n",
       "      <td>wooded_area</td>\n",
       "    </tr>\n",
       "    <tr>\n",
       "      <th>Subcatch</th>\n",
       "      <td>S5</td>\n",
       "      <td>loose_urban_development</td>\n",
       "    </tr>\n",
       "    <tr>\n",
       "      <th>...</th>\n",
       "      <td>...</td>\n",
       "      <td>...</td>\n",
       "    </tr>\n",
       "    <tr>\n",
       "      <th>Subcatch</th>\n",
       "      <td>S997</td>\n",
       "      <td>grassy</td>\n",
       "    </tr>\n",
       "    <tr>\n",
       "      <th>Subcatch</th>\n",
       "      <td>S998</td>\n",
       "      <td>steep_area</td>\n",
       "    </tr>\n",
       "    <tr>\n",
       "      <th>Subcatch</th>\n",
       "      <td>S999</td>\n",
       "      <td>urban</td>\n",
       "    </tr>\n",
       "    <tr>\n",
       "      <th>Subcatch</th>\n",
       "      <td>S1000</td>\n",
       "      <td>grassy</td>\n",
       "    </tr>\n",
       "    <tr>\n",
       "      <th>Subcatch</th>\n",
       "      <td>S1001</td>\n",
       "      <td>steep_area</td>\n",
       "    </tr>\n",
       "  </tbody>\n",
       "</table>\n",
       "<p>1001 rows × 2 columns</p>\n",
       "</div>"
      ],
      "text/plain": [
       "              Name                        Tag\n",
       "ElementType                                  \n",
       "Subcatch        S1                 loose_soil\n",
       "Subcatch        S2  compact_urban_development\n",
       "Subcatch        S3                 loose_soil\n",
       "Subcatch        S4                wooded_area\n",
       "Subcatch        S5    loose_urban_development\n",
       "...            ...                        ...\n",
       "Subcatch      S997                     grassy\n",
       "Subcatch      S998                 steep_area\n",
       "Subcatch      S999                      urban\n",
       "Subcatch     S1000                     grassy\n",
       "Subcatch     S1001                 steep_area\n",
       "\n",
       "[1001 rows x 2 columns]"
      ]
     },
     "execution_count": 222,
     "metadata": {},
     "output_type": "execute_result"
    }
   ],
   "source": [
    "categories_01 = model_01.inp.tags\n",
    "categories_02 = model_02.inp.tags\n",
    "categories_03 = model_03.inp.tags\n",
    "categories_04 = model_04.inp.tags\n",
    "categories_05 = model_05.inp.tags\n",
    "categories_06 = model_06.inp.tags\n",
    "categories_07 = model_07.inp.tags\n",
    "categories_08 = model_08.inp.tags\n",
    "categories_09 = model_09.inp.tags\n",
    "categories_10 = model_10.inp.tags\n",
    "categories_01"
   ]
  },
  {
   "attachments": {},
   "cell_type": "markdown",
   "id": "2909fc39-f2b9-4208-bd94-aff400908f83",
   "metadata": {},
   "source": [
    "### Add categories column to subcatchments DataFrame"
   ]
  },
  {
   "cell_type": "code",
   "execution_count": 223,
   "id": "c06fec91-94c5-4d36-ac9b-a9a7405bc95e",
   "metadata": {
    "tags": []
   },
   "outputs": [],
   "source": [
    "def merge_tag(subcatchment, model):\n",
    "    subcatchment.reset_index(inplace=True)\n",
    "    merged = subcatchment.merge(model.inp.tags, left_on=\"Name\", right_on=\"Name\", how=\"left\")\n",
    "    merged.rename(columns={\"Tag\": \"categories\"}, inplace=True)\n",
    "    merged.set_index(\"Name\", inplace=True)\n",
    "    return merged\n",
    "\n",
    "merged_df_01 = merge_tag(subcatchments_01, model_01)\n",
    "merged_df_02 = merge_tag(subcatchments_02, model_02)\n",
    "merged_df_03 = merge_tag(subcatchments_03, model_03)\n",
    "merged_df_04 = merge_tag(subcatchments_04, model_04)\n",
    "merged_df_05 = merge_tag(subcatchments_05, model_05)\n",
    "merged_df_06 = merge_tag(subcatchments_06, model_06)\n",
    "merged_df_07 = merge_tag(subcatchments_07, model_07)\n",
    "merged_df_08 = merge_tag(subcatchments_08, model_08)\n",
    "merged_df_09 = merge_tag(subcatchments_09, model_09)\n",
    "merged_df_10 = merge_tag(subcatchments_10, model_10)\n",
    "\n",
    "merged = [merged_df_01, merged_df_02, merged_df_03, merged_df_04, merged_df_05, merged_df_06, merged_df_07, merged_df_08, merged_df_09, merged_df_10]\n",
    "\n",
    "df = pd.concat(merged)\n",
    "df = df.reset_index(drop=True)"
   ]
  },
  {
   "cell_type": "code",
   "execution_count": null,
   "metadata": {},
   "outputs": [],
   "source": []
  },
  {
   "cell_type": "code",
   "execution_count": 224,
   "id": "3e863959",
   "metadata": {},
   "outputs": [
    {
     "data": {
      "text/html": [
       "<div>\n",
       "<style scoped>\n",
       "    .dataframe tbody tr th:only-of-type {\n",
       "        vertical-align: middle;\n",
       "    }\n",
       "\n",
       "    .dataframe tbody tr th {\n",
       "        vertical-align: top;\n",
       "    }\n",
       "\n",
       "    .dataframe thead th {\n",
       "        text-align: right;\n",
       "    }\n",
       "</style>\n",
       "<table border=\"1\" class=\"dataframe\">\n",
       "  <thead>\n",
       "    <tr style=\"text-align: right;\">\n",
       "      <th></th>\n",
       "      <th>Area</th>\n",
       "      <th>PercImperv</th>\n",
       "      <th>Width</th>\n",
       "      <th>PercSlope</th>\n",
       "      <th>PctZero</th>\n",
       "      <th>TotalPrecip</th>\n",
       "      <th>TotalRunoffMG</th>\n",
       "      <th>PeakRunoff</th>\n",
       "      <th>RunoffCoeff</th>\n",
       "      <th>categories</th>\n",
       "    </tr>\n",
       "  </thead>\n",
       "  <tbody>\n",
       "    <tr>\n",
       "      <th>0</th>\n",
       "      <td>0.50</td>\n",
       "      <td>20.00</td>\n",
       "      <td>300.00</td>\n",
       "      <td>5.00</td>\n",
       "      <td>70</td>\n",
       "      <td>10.10</td>\n",
       "      <td>0.02</td>\n",
       "      <td>0.02</td>\n",
       "      <td>0.407</td>\n",
       "      <td>loose_soil</td>\n",
       "    </tr>\n",
       "    <tr>\n",
       "      <th>1</th>\n",
       "      <td>1.87</td>\n",
       "      <td>45.00</td>\n",
       "      <td>136.75</td>\n",
       "      <td>15.00</td>\n",
       "      <td>90</td>\n",
       "      <td>10.10</td>\n",
       "      <td>0.11</td>\n",
       "      <td>0.09</td>\n",
       "      <td>0.587</td>\n",
       "      <td>compact_urban_development</td>\n",
       "    </tr>\n",
       "    <tr>\n",
       "      <th>2</th>\n",
       "      <td>1.71</td>\n",
       "      <td>45.00</td>\n",
       "      <td>130.77</td>\n",
       "      <td>10.00</td>\n",
       "      <td>90</td>\n",
       "      <td>10.10</td>\n",
       "      <td>0.10</td>\n",
       "      <td>0.08</td>\n",
       "      <td>0.581</td>\n",
       "      <td>compact_urban_development</td>\n",
       "    </tr>\n",
       "    <tr>\n",
       "      <th>3</th>\n",
       "      <td>0.68</td>\n",
       "      <td>10.00</td>\n",
       "      <td>82.46</td>\n",
       "      <td>5.09</td>\n",
       "      <td>10</td>\n",
       "      <td>10.10</td>\n",
       "      <td>0.02</td>\n",
       "      <td>0.01</td>\n",
       "      <td>0.224</td>\n",
       "      <td>grassy</td>\n",
       "    </tr>\n",
       "    <tr>\n",
       "      <th>4</th>\n",
       "      <td>0.26</td>\n",
       "      <td>83.33</td>\n",
       "      <td>50.99</td>\n",
       "      <td>45.00</td>\n",
       "      <td>80</td>\n",
       "      <td>10.10</td>\n",
       "      <td>0.02</td>\n",
       "      <td>0.02</td>\n",
       "      <td>0.879</td>\n",
       "      <td>steep_area</td>\n",
       "    </tr>\n",
       "  </tbody>\n",
       "</table>\n",
       "</div>"
      ],
      "text/plain": [
       "   Area  PercImperv   Width  PercSlope  PctZero TotalPrecip  TotalRunoffMG  PeakRunoff  RunoffCoeff                 categories\n",
       "0  0.50       20.00  300.00       5.00       70       10.10           0.02        0.02        0.407                 loose_soil\n",
       "1  1.87       45.00  136.75      15.00       90       10.10           0.11        0.09        0.587  compact_urban_development\n",
       "2  1.71       45.00  130.77      10.00       90       10.10           0.10        0.08        0.581  compact_urban_development\n",
       "3  0.68       10.00   82.46       5.09       10       10.10           0.02        0.01        0.224                     grassy\n",
       "4  0.26       83.33   50.99      45.00       80       10.10           0.02        0.02        0.879                 steep_area"
      ]
     },
     "execution_count": 224,
     "metadata": {},
     "output_type": "execute_result"
    }
   ],
   "source": [
    "df.head()"
   ]
  },
  {
   "attachments": {},
   "cell_type": "markdown",
   "id": "0c7ad132-617d-4508-9efa-e311405f847b",
   "metadata": {},
   "source": [
    "### Split data into features and target"
   ]
  },
  {
   "cell_type": "code",
   "execution_count": 226,
   "id": "e931b316-d970-44d2-aa57-d652176e7598",
   "metadata": {
    "tags": []
   },
   "outputs": [
    {
     "name": "stdout",
     "output_type": "stream",
     "text": [
      "(8008, 9) (8008, 7)\n",
      "(2002, 9) (2002, 7)\n"
     ]
    }
   ],
   "source": [
    "X = df.drop('categories', axis=1)\n",
    "y = df['categories']\n",
    "\n",
    "X[\"TotalPrecip\"] = pd.to_numeric(X[\"TotalPrecip\"])\n",
    "# X[\"TotalRunon\"] = pd.to_numeric(X[\"TotalRunon\"])\n",
    "# X[\"TotalEvap\"] = pd.to_numeric(X[\"TotalEvap\"])\n",
    "# X[\"TotalInfil\"] = pd.to_numeric(X[\"TotalInfil\"])\n",
    "# X[\"PervRunoff\"] = pd.to_numeric(X[\"PervRunoff\"])\n",
    "# X[\"ImpervRunoff\"] = pd.to_numeric(X[\"ImpervRunoff\"])\n",
    "\n",
    "X_train, X_test, y_train, y_test = train_test_split(X, y, test_size=0.2, random_state=42)\n",
    "\n",
    "y_train = pd.get_dummies(y_train)\n",
    "y_test = pd.get_dummies(y_test)\n",
    "\n",
    "print(X_train.shape, y_train.shape)\n",
    "print(X_test.shape, y_test.shape)"
   ]
  },
  {
   "cell_type": "code",
   "execution_count": 227,
   "id": "891f98c9",
   "metadata": {},
   "outputs": [
    {
     "name": "stdout",
     "output_type": "stream",
     "text": [
      "<class 'pandas.core.frame.DataFrame'>\n",
      "Int64Index: 8008 entries, 2270 to 7270\n",
      "Data columns (total 9 columns):\n",
      " #   Column         Non-Null Count  Dtype  \n",
      "---  ------         --------------  -----  \n",
      " 0   Area           8008 non-null   float64\n",
      " 1   PercImperv     8008 non-null   float64\n",
      " 2   Width          8008 non-null   float64\n",
      " 3   PercSlope      8008 non-null   float64\n",
      " 4   PctZero        8008 non-null   int64  \n",
      " 5   TotalPrecip    8008 non-null   float64\n",
      " 6   TotalRunoffMG  8008 non-null   float64\n",
      " 7   PeakRunoff     8008 non-null   float64\n",
      " 8   RunoffCoeff    8008 non-null   float64\n",
      "dtypes: float64(8), int64(1)\n",
      "memory usage: 625.6 KB\n"
     ]
    }
   ],
   "source": [
    "X_train.info()"
   ]
  },
  {
   "cell_type": "code",
   "execution_count": 228,
   "id": "7c30f37c",
   "metadata": {},
   "outputs": [
    {
     "data": {
      "text/html": [
       "<div>\n",
       "<style scoped>\n",
       "    .dataframe tbody tr th:only-of-type {\n",
       "        vertical-align: middle;\n",
       "    }\n",
       "\n",
       "    .dataframe tbody tr th {\n",
       "        vertical-align: top;\n",
       "    }\n",
       "\n",
       "    .dataframe thead th {\n",
       "        text-align: right;\n",
       "    }\n",
       "</style>\n",
       "<table border=\"1\" class=\"dataframe\">\n",
       "  <thead>\n",
       "    <tr style=\"text-align: right;\">\n",
       "      <th></th>\n",
       "      <th>Area</th>\n",
       "      <th>PercImperv</th>\n",
       "      <th>Width</th>\n",
       "      <th>PercSlope</th>\n",
       "      <th>PctZero</th>\n",
       "      <th>TotalPrecip</th>\n",
       "      <th>TotalRunoffMG</th>\n",
       "      <th>PeakRunoff</th>\n",
       "      <th>RunoffCoeff</th>\n",
       "    </tr>\n",
       "  </thead>\n",
       "  <tbody>\n",
       "    <tr>\n",
       "      <th>2270</th>\n",
       "      <td>0.02</td>\n",
       "      <td>10.00</td>\n",
       "      <td>14.14</td>\n",
       "      <td>20.00</td>\n",
       "      <td>10</td>\n",
       "      <td>38.33</td>\n",
       "      <td>0.01</td>\n",
       "      <td>0.01</td>\n",
       "      <td>0.825</td>\n",
       "    </tr>\n",
       "    <tr>\n",
       "      <th>8668</th>\n",
       "      <td>1.87</td>\n",
       "      <td>10.00</td>\n",
       "      <td>136.75</td>\n",
       "      <td>20.00</td>\n",
       "      <td>10</td>\n",
       "      <td>12.67</td>\n",
       "      <td>0.06</td>\n",
       "      <td>0.01</td>\n",
       "      <td>0.256</td>\n",
       "    </tr>\n",
       "    <tr>\n",
       "      <th>8293</th>\n",
       "      <td>0.81</td>\n",
       "      <td>10.00</td>\n",
       "      <td>90.00</td>\n",
       "      <td>20.00</td>\n",
       "      <td>10</td>\n",
       "      <td>12.67</td>\n",
       "      <td>0.03</td>\n",
       "      <td>0.01</td>\n",
       "      <td>0.280</td>\n",
       "    </tr>\n",
       "    <tr>\n",
       "      <th>7868</th>\n",
       "      <td>1.46</td>\n",
       "      <td>10.00</td>\n",
       "      <td>120.83</td>\n",
       "      <td>5.09</td>\n",
       "      <td>10</td>\n",
       "      <td>9.50</td>\n",
       "      <td>0.01</td>\n",
       "      <td>0.00</td>\n",
       "      <td>0.101</td>\n",
       "    </tr>\n",
       "    <tr>\n",
       "      <th>1095</th>\n",
       "      <td>1.61</td>\n",
       "      <td>5.09</td>\n",
       "      <td>126.89</td>\n",
       "      <td>15.00</td>\n",
       "      <td>10</td>\n",
       "      <td>20.00</td>\n",
       "      <td>0.19</td>\n",
       "      <td>0.14</td>\n",
       "      <td>0.590</td>\n",
       "    </tr>\n",
       "    <tr>\n",
       "      <th>3131</th>\n",
       "      <td>0.58</td>\n",
       "      <td>15.00</td>\n",
       "      <td>76.16</td>\n",
       "      <td>30.00</td>\n",
       "      <td>5</td>\n",
       "      <td>15.00</td>\n",
       "      <td>0.02</td>\n",
       "      <td>0.01</td>\n",
       "      <td>0.259</td>\n",
       "    </tr>\n",
       "    <tr>\n",
       "      <th>8116</th>\n",
       "      <td>1.96</td>\n",
       "      <td>10.00</td>\n",
       "      <td>140.00</td>\n",
       "      <td>5.09</td>\n",
       "      <td>10</td>\n",
       "      <td>12.67</td>\n",
       "      <td>0.05</td>\n",
       "      <td>0.01</td>\n",
       "      <td>0.214</td>\n",
       "    </tr>\n",
       "    <tr>\n",
       "      <th>1561</th>\n",
       "      <td>0.89</td>\n",
       "      <td>5.09</td>\n",
       "      <td>94.34</td>\n",
       "      <td>15.00</td>\n",
       "      <td>10</td>\n",
       "      <td>20.00</td>\n",
       "      <td>0.11</td>\n",
       "      <td>0.09</td>\n",
       "      <td>0.606</td>\n",
       "    </tr>\n",
       "    <tr>\n",
       "      <th>1670</th>\n",
       "      <td>1.52</td>\n",
       "      <td>65.00</td>\n",
       "      <td>123.29</td>\n",
       "      <td>61.67</td>\n",
       "      <td>80</td>\n",
       "      <td>20.00</td>\n",
       "      <td>0.27</td>\n",
       "      <td>0.21</td>\n",
       "      <td>0.879</td>\n",
       "    </tr>\n",
       "    <tr>\n",
       "      <th>9951</th>\n",
       "      <td>1.68</td>\n",
       "      <td>45.00</td>\n",
       "      <td>129.61</td>\n",
       "      <td>5.09</td>\n",
       "      <td>90</td>\n",
       "      <td>0.32</td>\n",
       "      <td>0.00</td>\n",
       "      <td>0.00</td>\n",
       "      <td>0.403</td>\n",
       "    </tr>\n",
       "    <tr>\n",
       "      <th>4553</th>\n",
       "      <td>1.90</td>\n",
       "      <td>15.00</td>\n",
       "      <td>137.84</td>\n",
       "      <td>5.09</td>\n",
       "      <td>5</td>\n",
       "      <td>3.17</td>\n",
       "      <td>0.01</td>\n",
       "      <td>0.00</td>\n",
       "      <td>0.090</td>\n",
       "    </tr>\n",
       "    <tr>\n",
       "      <th>4113</th>\n",
       "      <td>0.43</td>\n",
       "      <td>10.00</td>\n",
       "      <td>65.57</td>\n",
       "      <td>20.00</td>\n",
       "      <td>10</td>\n",
       "      <td>3.17</td>\n",
       "      <td>0.00</td>\n",
       "      <td>0.00</td>\n",
       "      <td>0.064</td>\n",
       "    </tr>\n",
       "    <tr>\n",
       "      <th>4394</th>\n",
       "      <td>1.34</td>\n",
       "      <td>10.00</td>\n",
       "      <td>115.76</td>\n",
       "      <td>2.33</td>\n",
       "      <td>10</td>\n",
       "      <td>3.17</td>\n",
       "      <td>0.00</td>\n",
       "      <td>0.00</td>\n",
       "      <td>0.064</td>\n",
       "    </tr>\n",
       "    <tr>\n",
       "      <th>4631</th>\n",
       "      <td>1.35</td>\n",
       "      <td>2.33</td>\n",
       "      <td>116.19</td>\n",
       "      <td>2.33</td>\n",
       "      <td>10</td>\n",
       "      <td>3.17</td>\n",
       "      <td>0.00</td>\n",
       "      <td>0.00</td>\n",
       "      <td>0.015</td>\n",
       "    </tr>\n",
       "    <tr>\n",
       "      <th>3527</th>\n",
       "      <td>1.78</td>\n",
       "      <td>10.00</td>\n",
       "      <td>133.42</td>\n",
       "      <td>20.00</td>\n",
       "      <td>10</td>\n",
       "      <td>15.00</td>\n",
       "      <td>0.10</td>\n",
       "      <td>0.02</td>\n",
       "      <td>0.358</td>\n",
       "    </tr>\n",
       "    <tr>\n",
       "      <th>2002</th>\n",
       "      <td>0.50</td>\n",
       "      <td>20.00</td>\n",
       "      <td>300.00</td>\n",
       "      <td>5.00</td>\n",
       "      <td>70</td>\n",
       "      <td>38.33</td>\n",
       "      <td>0.16</td>\n",
       "      <td>0.13</td>\n",
       "      <td>0.832</td>\n",
       "    </tr>\n",
       "    <tr>\n",
       "      <th>9572</th>\n",
       "      <td>0.48</td>\n",
       "      <td>83.33</td>\n",
       "      <td>69.28</td>\n",
       "      <td>45.00</td>\n",
       "      <td>80</td>\n",
       "      <td>0.32</td>\n",
       "      <td>0.00</td>\n",
       "      <td>0.00</td>\n",
       "      <td>0.668</td>\n",
       "    </tr>\n",
       "    <tr>\n",
       "      <th>168</th>\n",
       "      <td>0.96</td>\n",
       "      <td>10.00</td>\n",
       "      <td>97.98</td>\n",
       "      <td>20.00</td>\n",
       "      <td>10</td>\n",
       "      <td>10.10</td>\n",
       "      <td>0.02</td>\n",
       "      <td>0.02</td>\n",
       "      <td>0.257</td>\n",
       "    </tr>\n",
       "    <tr>\n",
       "      <th>3465</th>\n",
       "      <td>1.60</td>\n",
       "      <td>5.09</td>\n",
       "      <td>126.49</td>\n",
       "      <td>10.00</td>\n",
       "      <td>10</td>\n",
       "      <td>15.00</td>\n",
       "      <td>0.07</td>\n",
       "      <td>0.02</td>\n",
       "      <td>0.302</td>\n",
       "    </tr>\n",
       "    <tr>\n",
       "      <th>9516</th>\n",
       "      <td>1.32</td>\n",
       "      <td>65.00</td>\n",
       "      <td>114.89</td>\n",
       "      <td>61.67</td>\n",
       "      <td>80</td>\n",
       "      <td>0.32</td>\n",
       "      <td>0.00</td>\n",
       "      <td>0.00</td>\n",
       "      <td>0.520</td>\n",
       "    </tr>\n",
       "    <tr>\n",
       "      <th>9539</th>\n",
       "      <td>1.55</td>\n",
       "      <td>65.00</td>\n",
       "      <td>124.50</td>\n",
       "      <td>61.67</td>\n",
       "      <td>80</td>\n",
       "      <td>0.32</td>\n",
       "      <td>0.00</td>\n",
       "      <td>0.00</td>\n",
       "      <td>0.520</td>\n",
       "    </tr>\n",
       "    <tr>\n",
       "      <th>2133</th>\n",
       "      <td>0.67</td>\n",
       "      <td>65.00</td>\n",
       "      <td>81.85</td>\n",
       "      <td>61.67</td>\n",
       "      <td>80</td>\n",
       "      <td>38.33</td>\n",
       "      <td>0.24</td>\n",
       "      <td>0.18</td>\n",
       "      <td>0.941</td>\n",
       "    </tr>\n",
       "    <tr>\n",
       "      <th>4421</th>\n",
       "      <td>1.20</td>\n",
       "      <td>2.33</td>\n",
       "      <td>109.54</td>\n",
       "      <td>2.33</td>\n",
       "      <td>10</td>\n",
       "      <td>3.17</td>\n",
       "      <td>0.00</td>\n",
       "      <td>0.00</td>\n",
       "      <td>0.015</td>\n",
       "    </tr>\n",
       "    <tr>\n",
       "      <th>2036</th>\n",
       "      <td>1.41</td>\n",
       "      <td>22.50</td>\n",
       "      <td>118.74</td>\n",
       "      <td>2.33</td>\n",
       "      <td>70</td>\n",
       "      <td>38.33</td>\n",
       "      <td>0.41</td>\n",
       "      <td>0.20</td>\n",
       "      <td>0.750</td>\n",
       "    </tr>\n",
       "    <tr>\n",
       "      <th>7536</th>\n",
       "      <td>1.01</td>\n",
       "      <td>45.00</td>\n",
       "      <td>100.50</td>\n",
       "      <td>5.09</td>\n",
       "      <td>90</td>\n",
       "      <td>9.50</td>\n",
       "      <td>0.05</td>\n",
       "      <td>0.01</td>\n",
       "      <td>0.475</td>\n",
       "    </tr>\n",
       "    <tr>\n",
       "      <th>7442</th>\n",
       "      <td>1.79</td>\n",
       "      <td>45.00</td>\n",
       "      <td>133.79</td>\n",
       "      <td>10.00</td>\n",
       "      <td>90</td>\n",
       "      <td>9.50</td>\n",
       "      <td>0.08</td>\n",
       "      <td>0.02</td>\n",
       "      <td>0.476</td>\n",
       "    </tr>\n",
       "    <tr>\n",
       "      <th>3378</th>\n",
       "      <td>1.83</td>\n",
       "      <td>65.00</td>\n",
       "      <td>135.28</td>\n",
       "      <td>61.67</td>\n",
       "      <td>80</td>\n",
       "      <td>15.00</td>\n",
       "      <td>0.22</td>\n",
       "      <td>0.08</td>\n",
       "      <td>0.811</td>\n",
       "    </tr>\n",
       "    <tr>\n",
       "      <th>5982</th>\n",
       "      <td>1.65</td>\n",
       "      <td>65.00</td>\n",
       "      <td>128.45</td>\n",
       "      <td>61.67</td>\n",
       "      <td>80</td>\n",
       "      <td>1.58</td>\n",
       "      <td>0.01</td>\n",
       "      <td>0.00</td>\n",
       "      <td>0.549</td>\n",
       "    </tr>\n",
       "    <tr>\n",
       "      <th>8103</th>\n",
       "      <td>0.35</td>\n",
       "      <td>10.00</td>\n",
       "      <td>59.16</td>\n",
       "      <td>15.00</td>\n",
       "      <td>10</td>\n",
       "      <td>12.67</td>\n",
       "      <td>0.01</td>\n",
       "      <td>0.00</td>\n",
       "      <td>0.294</td>\n",
       "    </tr>\n",
       "    <tr>\n",
       "      <th>2960</th>\n",
       "      <td>0.33</td>\n",
       "      <td>5.09</td>\n",
       "      <td>57.45</td>\n",
       "      <td>10.00</td>\n",
       "      <td>10</td>\n",
       "      <td>38.33</td>\n",
       "      <td>0.10</td>\n",
       "      <td>0.07</td>\n",
       "      <td>0.765</td>\n",
       "    </tr>\n",
       "    <tr>\n",
       "      <th>4011</th>\n",
       "      <td>1.92</td>\n",
       "      <td>5.09</td>\n",
       "      <td>138.56</td>\n",
       "      <td>15.00</td>\n",
       "      <td>10</td>\n",
       "      <td>3.17</td>\n",
       "      <td>0.00</td>\n",
       "      <td>0.00</td>\n",
       "      <td>0.033</td>\n",
       "    </tr>\n",
       "    <tr>\n",
       "      <th>6180</th>\n",
       "      <td>0.49</td>\n",
       "      <td>5.09</td>\n",
       "      <td>70.00</td>\n",
       "      <td>15.00</td>\n",
       "      <td>10</td>\n",
       "      <td>6.33</td>\n",
       "      <td>0.00</td>\n",
       "      <td>0.00</td>\n",
       "      <td>0.044</td>\n",
       "    </tr>\n",
       "    <tr>\n",
       "      <th>210</th>\n",
       "      <td>1.30</td>\n",
       "      <td>15.00</td>\n",
       "      <td>114.02</td>\n",
       "      <td>5.09</td>\n",
       "      <td>5</td>\n",
       "      <td>10.10</td>\n",
       "      <td>0.02</td>\n",
       "      <td>0.01</td>\n",
       "      <td>0.137</td>\n",
       "    </tr>\n",
       "    <tr>\n",
       "      <th>8626</th>\n",
       "      <td>0.37</td>\n",
       "      <td>15.00</td>\n",
       "      <td>60.83</td>\n",
       "      <td>30.00</td>\n",
       "      <td>5</td>\n",
       "      <td>12.67</td>\n",
       "      <td>0.01</td>\n",
       "      <td>0.00</td>\n",
       "      <td>0.169</td>\n",
       "    </tr>\n",
       "    <tr>\n",
       "      <th>1919</th>\n",
       "      <td>1.17</td>\n",
       "      <td>22.50</td>\n",
       "      <td>108.17</td>\n",
       "      <td>10.00</td>\n",
       "      <td>70</td>\n",
       "      <td>20.00</td>\n",
       "      <td>0.15</td>\n",
       "      <td>0.08</td>\n",
       "      <td>0.624</td>\n",
       "    </tr>\n",
       "    <tr>\n",
       "      <th>718</th>\n",
       "      <td>1.84</td>\n",
       "      <td>10.00</td>\n",
       "      <td>135.65</td>\n",
       "      <td>5.09</td>\n",
       "      <td>10</td>\n",
       "      <td>10.10</td>\n",
       "      <td>0.04</td>\n",
       "      <td>0.02</td>\n",
       "      <td>0.192</td>\n",
       "    </tr>\n",
       "    <tr>\n",
       "      <th>5327</th>\n",
       "      <td>0.30</td>\n",
       "      <td>10.00</td>\n",
       "      <td>54.77</td>\n",
       "      <td>20.00</td>\n",
       "      <td>10</td>\n",
       "      <td>1.58</td>\n",
       "      <td>0.00</td>\n",
       "      <td>0.00</td>\n",
       "      <td>0.028</td>\n",
       "    </tr>\n",
       "    <tr>\n",
       "      <th>9985</th>\n",
       "      <td>1.17</td>\n",
       "      <td>2.33</td>\n",
       "      <td>108.17</td>\n",
       "      <td>2.33</td>\n",
       "      <td>10</td>\n",
       "      <td>0.32</td>\n",
       "      <td>0.00</td>\n",
       "      <td>0.00</td>\n",
       "      <td>0.002</td>\n",
       "    </tr>\n",
       "    <tr>\n",
       "      <th>1298</th>\n",
       "      <td>1.22</td>\n",
       "      <td>10.00</td>\n",
       "      <td>110.45</td>\n",
       "      <td>5.09</td>\n",
       "      <td>10</td>\n",
       "      <td>20.00</td>\n",
       "      <td>0.13</td>\n",
       "      <td>0.06</td>\n",
       "      <td>0.521</td>\n",
       "    </tr>\n",
       "    <tr>\n",
       "      <th>4441</th>\n",
       "      <td>0.83</td>\n",
       "      <td>5.09</td>\n",
       "      <td>91.10</td>\n",
       "      <td>10.00</td>\n",
       "      <td>10</td>\n",
       "      <td>3.17</td>\n",
       "      <td>0.00</td>\n",
       "      <td>0.00</td>\n",
       "      <td>0.033</td>\n",
       "    </tr>\n",
       "    <tr>\n",
       "      <th>6495</th>\n",
       "      <td>0.92</td>\n",
       "      <td>22.50</td>\n",
       "      <td>95.92</td>\n",
       "      <td>5.09</td>\n",
       "      <td>70</td>\n",
       "      <td>6.33</td>\n",
       "      <td>0.01</td>\n",
       "      <td>0.00</td>\n",
       "      <td>0.216</td>\n",
       "    </tr>\n",
       "    <tr>\n",
       "      <th>9597</th>\n",
       "      <td>0.30</td>\n",
       "      <td>83.33</td>\n",
       "      <td>54.77</td>\n",
       "      <td>45.00</td>\n",
       "      <td>80</td>\n",
       "      <td>0.32</td>\n",
       "      <td>0.00</td>\n",
       "      <td>0.00</td>\n",
       "      <td>0.668</td>\n",
       "    </tr>\n",
       "    <tr>\n",
       "      <th>8042</th>\n",
       "      <td>1.41</td>\n",
       "      <td>22.50</td>\n",
       "      <td>118.74</td>\n",
       "      <td>2.33</td>\n",
       "      <td>70</td>\n",
       "      <td>12.67</td>\n",
       "      <td>0.06</td>\n",
       "      <td>0.01</td>\n",
       "      <td>0.324</td>\n",
       "    </tr>\n",
       "    <tr>\n",
       "      <th>3903</th>\n",
       "      <td>0.30</td>\n",
       "      <td>45.00</td>\n",
       "      <td>54.77</td>\n",
       "      <td>10.00</td>\n",
       "      <td>90</td>\n",
       "      <td>15.00</td>\n",
       "      <td>0.03</td>\n",
       "      <td>0.01</td>\n",
       "      <td>0.684</td>\n",
       "    </tr>\n",
       "    <tr>\n",
       "      <th>9934</th>\n",
       "      <td>1.38</td>\n",
       "      <td>15.00</td>\n",
       "      <td>117.47</td>\n",
       "      <td>10.00</td>\n",
       "      <td>5</td>\n",
       "      <td>0.32</td>\n",
       "      <td>0.00</td>\n",
       "      <td>0.00</td>\n",
       "      <td>0.007</td>\n",
       "    </tr>\n",
       "    <tr>\n",
       "      <th>3790</th>\n",
       "      <td>0.19</td>\n",
       "      <td>5.09</td>\n",
       "      <td>43.59</td>\n",
       "      <td>15.00</td>\n",
       "      <td>10</td>\n",
       "      <td>15.00</td>\n",
       "      <td>0.01</td>\n",
       "      <td>0.00</td>\n",
       "      <td>0.419</td>\n",
       "    </tr>\n",
       "    <tr>\n",
       "      <th>4074</th>\n",
       "      <td>1.07</td>\n",
       "      <td>5.09</td>\n",
       "      <td>103.44</td>\n",
       "      <td>15.00</td>\n",
       "      <td>10</td>\n",
       "      <td>3.17</td>\n",
       "      <td>0.00</td>\n",
       "      <td>0.00</td>\n",
       "      <td>0.033</td>\n",
       "    </tr>\n",
       "    <tr>\n",
       "      <th>1287</th>\n",
       "      <td>1.52</td>\n",
       "      <td>30.00</td>\n",
       "      <td>123.29</td>\n",
       "      <td>5.09</td>\n",
       "      <td>80</td>\n",
       "      <td>20.00</td>\n",
       "      <td>0.20</td>\n",
       "      <td>0.13</td>\n",
       "      <td>0.670</td>\n",
       "    </tr>\n",
       "    <tr>\n",
       "      <th>8999</th>\n",
       "      <td>0.35</td>\n",
       "      <td>45.00</td>\n",
       "      <td>59.16</td>\n",
       "      <td>15.00</td>\n",
       "      <td>90</td>\n",
       "      <td>12.67</td>\n",
       "      <td>0.03</td>\n",
       "      <td>0.01</td>\n",
       "      <td>0.623</td>\n",
       "    </tr>\n",
       "    <tr>\n",
       "      <th>6388</th>\n",
       "      <td>0.84</td>\n",
       "      <td>30.00</td>\n",
       "      <td>91.65</td>\n",
       "      <td>5.09</td>\n",
       "      <td>80</td>\n",
       "      <td>6.33</td>\n",
       "      <td>0.02</td>\n",
       "      <td>0.00</td>\n",
       "      <td>0.293</td>\n",
       "    </tr>\n",
       "  </tbody>\n",
       "</table>\n",
       "</div>"
      ],
      "text/plain": [
       "      Area  PercImperv   Width  PercSlope  PctZero  TotalPrecip  TotalRunoffMG  PeakRunoff  RunoffCoeff\n",
       "2270  0.02       10.00   14.14      20.00       10        38.33           0.01        0.01        0.825\n",
       "8668  1.87       10.00  136.75      20.00       10        12.67           0.06        0.01        0.256\n",
       "8293  0.81       10.00   90.00      20.00       10        12.67           0.03        0.01        0.280\n",
       "7868  1.46       10.00  120.83       5.09       10         9.50           0.01        0.00        0.101\n",
       "1095  1.61        5.09  126.89      15.00       10        20.00           0.19        0.14        0.590\n",
       "3131  0.58       15.00   76.16      30.00        5        15.00           0.02        0.01        0.259\n",
       "8116  1.96       10.00  140.00       5.09       10        12.67           0.05        0.01        0.214\n",
       "1561  0.89        5.09   94.34      15.00       10        20.00           0.11        0.09        0.606\n",
       "1670  1.52       65.00  123.29      61.67       80        20.00           0.27        0.21        0.879\n",
       "9951  1.68       45.00  129.61       5.09       90         0.32           0.00        0.00        0.403\n",
       "4553  1.90       15.00  137.84       5.09        5         3.17           0.01        0.00        0.090\n",
       "4113  0.43       10.00   65.57      20.00       10         3.17           0.00        0.00        0.064\n",
       "4394  1.34       10.00  115.76       2.33       10         3.17           0.00        0.00        0.064\n",
       "4631  1.35        2.33  116.19       2.33       10         3.17           0.00        0.00        0.015\n",
       "3527  1.78       10.00  133.42      20.00       10        15.00           0.10        0.02        0.358\n",
       "2002  0.50       20.00  300.00       5.00       70        38.33           0.16        0.13        0.832\n",
       "9572  0.48       83.33   69.28      45.00       80         0.32           0.00        0.00        0.668\n",
       "168   0.96       10.00   97.98      20.00       10        10.10           0.02        0.02        0.257\n",
       "3465  1.60        5.09  126.49      10.00       10        15.00           0.07        0.02        0.302\n",
       "9516  1.32       65.00  114.89      61.67       80         0.32           0.00        0.00        0.520\n",
       "9539  1.55       65.00  124.50      61.67       80         0.32           0.00        0.00        0.520\n",
       "2133  0.67       65.00   81.85      61.67       80        38.33           0.24        0.18        0.941\n",
       "4421  1.20        2.33  109.54       2.33       10         3.17           0.00        0.00        0.015\n",
       "2036  1.41       22.50  118.74       2.33       70        38.33           0.41        0.20        0.750\n",
       "7536  1.01       45.00  100.50       5.09       90         9.50           0.05        0.01        0.475\n",
       "7442  1.79       45.00  133.79      10.00       90         9.50           0.08        0.02        0.476\n",
       "3378  1.83       65.00  135.28      61.67       80        15.00           0.22        0.08        0.811\n",
       "5982  1.65       65.00  128.45      61.67       80         1.58           0.01        0.00        0.549\n",
       "8103  0.35       10.00   59.16      15.00       10        12.67           0.01        0.00        0.294\n",
       "2960  0.33        5.09   57.45      10.00       10        38.33           0.10        0.07        0.765\n",
       "4011  1.92        5.09  138.56      15.00       10         3.17           0.00        0.00        0.033\n",
       "6180  0.49        5.09   70.00      15.00       10         6.33           0.00        0.00        0.044\n",
       "210   1.30       15.00  114.02       5.09        5        10.10           0.02        0.01        0.137\n",
       "8626  0.37       15.00   60.83      30.00        5        12.67           0.01        0.00        0.169\n",
       "1919  1.17       22.50  108.17      10.00       70        20.00           0.15        0.08        0.624\n",
       "718   1.84       10.00  135.65       5.09       10        10.10           0.04        0.02        0.192\n",
       "5327  0.30       10.00   54.77      20.00       10         1.58           0.00        0.00        0.028\n",
       "9985  1.17        2.33  108.17       2.33       10         0.32           0.00        0.00        0.002\n",
       "1298  1.22       10.00  110.45       5.09       10        20.00           0.13        0.06        0.521\n",
       "4441  0.83        5.09   91.10      10.00       10         3.17           0.00        0.00        0.033\n",
       "6495  0.92       22.50   95.92       5.09       70         6.33           0.01        0.00        0.216\n",
       "9597  0.30       83.33   54.77      45.00       80         0.32           0.00        0.00        0.668\n",
       "8042  1.41       22.50  118.74       2.33       70        12.67           0.06        0.01        0.324\n",
       "3903  0.30       45.00   54.77      10.00       90        15.00           0.03        0.01        0.684\n",
       "9934  1.38       15.00  117.47      10.00        5         0.32           0.00        0.00        0.007\n",
       "3790  0.19        5.09   43.59      15.00       10        15.00           0.01        0.00        0.419\n",
       "4074  1.07        5.09  103.44      15.00       10         3.17           0.00        0.00        0.033\n",
       "1287  1.52       30.00  123.29       5.09       80        20.00           0.20        0.13        0.670\n",
       "8999  0.35       45.00   59.16      15.00       90        12.67           0.03        0.01        0.623\n",
       "6388  0.84       30.00   91.65       5.09       80         6.33           0.02        0.00        0.293"
      ]
     },
     "execution_count": 228,
     "metadata": {},
     "output_type": "execute_result"
    }
   ],
   "source": [
    "X_train[:50]"
   ]
  },
  {
   "cell_type": "code",
   "execution_count": 229,
   "id": "032eda89-3cee-4040-9553-2a353e39b1d0",
   "metadata": {
    "tags": []
   },
   "outputs": [],
   "source": [
    "normalizer = preprocessing.Normalization()\n",
    "normalizer.adapt(np.array(X_train))\n"
   ]
  },
  {
   "attachments": {},
   "cell_type": "markdown",
   "id": "43dae304-a279-430d-baa1-ebe5d19f1c98",
   "metadata": {},
   "source": [
    "# Build the model"
   ]
  },
  {
   "cell_type": "code",
   "execution_count": 244,
   "id": "99b2e114-ff60-4200-ae35-f80089181eb9",
   "metadata": {
    "tags": []
   },
   "outputs": [
    {
     "name": "stdout",
     "output_type": "stream",
     "text": [
      "Model: \"sequential_7\"\n",
      "_________________________________________________________________\n",
      " Layer (type)                Output Shape              Param #   \n",
      "=================================================================\n",
      " normalization_8 (Normalizat  (None, 9)                19        \n",
      " ion)                                                            \n",
      "                                                                 \n",
      " dense_21 (Dense)            (None, 9)                 90        \n",
      "                                                                 \n",
      " dropout_8 (Dropout)         (None, 9)                 0         \n",
      "                                                                 \n",
      " dense_22 (Dense)            (None, 18)                180       \n",
      "                                                                 \n",
      " dropout_9 (Dropout)         (None, 18)                0         \n",
      "                                                                 \n",
      " dense_23 (Dense)            (None, 7)                 133       \n",
      "                                                                 \n",
      "=================================================================\n",
      "Total params: 422\n",
      "Trainable params: 403\n",
      "Non-trainable params: 19\n",
      "_________________________________________________________________\n"
     ]
    }
   ],
   "source": [
    "model = Sequential()\n",
    "model.add(normalizer)\n",
    "model.add(Dense(units=X_train.shape[1], activation='relu', input_dim=X_train.shape[1]))\n",
    "model.add(Dropout(0.2))\n",
    "model.add(Dense(18, activation='relu'))\n",
    "model.add(Dropout(0.2))\n",
    "model.add(Dense(units=y_train.shape[1], activation='softmax'))\n",
    "model.summary()"
   ]
  },
  {
   "cell_type": "code",
   "execution_count": 245,
   "id": "61ddff67-e74f-4454-a253-40577f7a2722",
   "metadata": {
    "tags": []
   },
   "outputs": [
    {
     "name": "stdout",
     "output_type": "stream",
     "text": [
      "Epoch 1/100\n",
      "501/501 [==============================] - 2s 3ms/step - loss: 1.4318 - accuracy: 0.4562 - val_loss: 1.0165 - val_accuracy: 0.5914\n",
      "Epoch 2/100\n",
      "501/501 [==============================] - 1s 3ms/step - loss: 0.9901 - accuracy: 0.5912 - val_loss: 0.7954 - val_accuracy: 0.6703\n",
      "Epoch 3/100\n",
      "501/501 [==============================] - 1s 2ms/step - loss: 0.8279 - accuracy: 0.6475 - val_loss: 0.6443 - val_accuracy: 0.7328\n",
      "Epoch 4/100\n",
      "501/501 [==============================] - 1s 3ms/step - loss: 0.7307 - accuracy: 0.6733 - val_loss: 0.5244 - val_accuracy: 0.7692\n",
      "Epoch 5/100\n",
      "501/501 [==============================] - 1s 3ms/step - loss: 0.6489 - accuracy: 0.7022 - val_loss: 0.4383 - val_accuracy: 0.9081\n",
      "Epoch 6/100\n",
      "501/501 [==============================] - 1s 3ms/step - loss: 0.5855 - accuracy: 0.7378 - val_loss: 0.3648 - val_accuracy: 0.9171\n",
      "Epoch 7/100\n",
      "501/501 [==============================] - 1s 3ms/step - loss: 0.5329 - accuracy: 0.7670 - val_loss: 0.3053 - val_accuracy: 0.9291\n",
      "Epoch 8/100\n",
      "501/501 [==============================] - 1s 3ms/step - loss: 0.4632 - accuracy: 0.8142 - val_loss: 0.2518 - val_accuracy: 0.9301\n",
      "Epoch 9/100\n",
      "501/501 [==============================] - 1s 3ms/step - loss: 0.4177 - accuracy: 0.8317 - val_loss: 0.2012 - val_accuracy: 0.9940\n",
      "Epoch 10/100\n",
      "501/501 [==============================] - 1s 3ms/step - loss: 0.3800 - accuracy: 0.8455 - val_loss: 0.1712 - val_accuracy: 0.9895\n",
      "Epoch 11/100\n",
      "501/501 [==============================] - 1s 3ms/step - loss: 0.3445 - accuracy: 0.8678 - val_loss: 0.1511 - val_accuracy: 0.9775\n",
      "Epoch 12/100\n",
      "501/501 [==============================] - 1s 3ms/step - loss: 0.3165 - accuracy: 0.8770 - val_loss: 0.1271 - val_accuracy: 0.9910\n",
      "Epoch 13/100\n",
      "501/501 [==============================] - 1s 3ms/step - loss: 0.3067 - accuracy: 0.8842 - val_loss: 0.1161 - val_accuracy: 0.9790\n",
      "Epoch 14/100\n",
      "501/501 [==============================] - 1s 3ms/step - loss: 0.2754 - accuracy: 0.8949 - val_loss: 0.1061 - val_accuracy: 0.9880\n",
      "Epoch 15/100\n",
      "501/501 [==============================] - 1s 3ms/step - loss: 0.2608 - accuracy: 0.9067 - val_loss: 0.0878 - val_accuracy: 1.0000\n",
      "Epoch 16/100\n",
      "501/501 [==============================] - 1s 3ms/step - loss: 0.2507 - accuracy: 0.9068 - val_loss: 0.0908 - val_accuracy: 0.9915\n",
      "Epoch 17/100\n",
      "501/501 [==============================] - 1s 2ms/step - loss: 0.2404 - accuracy: 0.9122 - val_loss: 0.0851 - val_accuracy: 0.9915\n",
      "Epoch 18/100\n",
      "501/501 [==============================] - 1s 2ms/step - loss: 0.2292 - accuracy: 0.9147 - val_loss: 0.0670 - val_accuracy: 1.0000\n",
      "Epoch 19/100\n",
      "501/501 [==============================] - 1s 2ms/step - loss: 0.2265 - accuracy: 0.9200 - val_loss: 0.0706 - val_accuracy: 1.0000\n",
      "Epoch 20/100\n",
      "501/501 [==============================] - 1s 2ms/step - loss: 0.2048 - accuracy: 0.9222 - val_loss: 0.0646 - val_accuracy: 0.9985\n",
      "Epoch 21/100\n",
      "501/501 [==============================] - 1s 2ms/step - loss: 0.1963 - accuracy: 0.9287 - val_loss: 0.0636 - val_accuracy: 0.9990\n",
      "Epoch 22/100\n",
      "501/501 [==============================] - 1s 2ms/step - loss: 0.1965 - accuracy: 0.9296 - val_loss: 0.0555 - val_accuracy: 1.0000\n",
      "Epoch 23/100\n",
      "501/501 [==============================] - 1s 2ms/step - loss: 0.1897 - accuracy: 0.9298 - val_loss: 0.0564 - val_accuracy: 0.9985\n",
      "Epoch 24/100\n",
      "501/501 [==============================] - 1s 3ms/step - loss: 0.1782 - accuracy: 0.9378 - val_loss: 0.0506 - val_accuracy: 1.0000\n",
      "Epoch 25/100\n",
      "501/501 [==============================] - 1s 3ms/step - loss: 0.1704 - accuracy: 0.9374 - val_loss: 0.0365 - val_accuracy: 1.0000\n",
      "Epoch 26/100\n",
      "501/501 [==============================] - 1s 3ms/step - loss: 0.1600 - accuracy: 0.9448 - val_loss: 0.0427 - val_accuracy: 1.0000\n",
      "Epoch 27/100\n",
      "501/501 [==============================] - 1s 2ms/step - loss: 0.1559 - accuracy: 0.9482 - val_loss: 0.0291 - val_accuracy: 1.0000\n",
      "Epoch 28/100\n",
      "501/501 [==============================] - 1s 2ms/step - loss: 0.1543 - accuracy: 0.9500 - val_loss: 0.0277 - val_accuracy: 1.0000\n",
      "Epoch 29/100\n",
      "501/501 [==============================] - 1s 2ms/step - loss: 0.1468 - accuracy: 0.9519 - val_loss: 0.0302 - val_accuracy: 1.0000\n",
      "Epoch 30/100\n",
      "501/501 [==============================] - 1s 2ms/step - loss: 0.1503 - accuracy: 0.9509 - val_loss: 0.0252 - val_accuracy: 1.0000\n",
      "Epoch 31/100\n",
      "501/501 [==============================] - 1s 2ms/step - loss: 0.1343 - accuracy: 0.9535 - val_loss: 0.0197 - val_accuracy: 1.0000\n",
      "Epoch 32/100\n",
      "501/501 [==============================] - 1s 2ms/step - loss: 0.1331 - accuracy: 0.9545 - val_loss: 0.0265 - val_accuracy: 1.0000\n",
      "Epoch 33/100\n",
      "501/501 [==============================] - 1s 3ms/step - loss: 0.1350 - accuracy: 0.9554 - val_loss: 0.0218 - val_accuracy: 1.0000\n",
      "Epoch 34/100\n",
      "501/501 [==============================] - 1s 2ms/step - loss: 0.1273 - accuracy: 0.9593 - val_loss: 0.0229 - val_accuracy: 1.0000\n",
      "Epoch 35/100\n",
      "501/501 [==============================] - 1s 3ms/step - loss: 0.1286 - accuracy: 0.9590 - val_loss: 0.0183 - val_accuracy: 1.0000\n",
      "Epoch 36/100\n",
      "501/501 [==============================] - 1s 3ms/step - loss: 0.1280 - accuracy: 0.9565 - val_loss: 0.0264 - val_accuracy: 1.0000\n",
      "Epoch 37/100\n",
      "501/501 [==============================] - 1s 2ms/step - loss: 0.1148 - accuracy: 0.9635 - val_loss: 0.0224 - val_accuracy: 1.0000\n",
      "Epoch 38/100\n",
      "501/501 [==============================] - 1s 3ms/step - loss: 0.1265 - accuracy: 0.9574 - val_loss: 0.0184 - val_accuracy: 1.0000\n",
      "Epoch 39/100\n",
      "501/501 [==============================] - 1s 3ms/step - loss: 0.1200 - accuracy: 0.9572 - val_loss: 0.0219 - val_accuracy: 1.0000\n",
      "Epoch 40/100\n",
      "501/501 [==============================] - 1s 3ms/step - loss: 0.1188 - accuracy: 0.9612 - val_loss: 0.0217 - val_accuracy: 1.0000\n",
      "Epoch 41/100\n",
      "501/501 [==============================] - 1s 3ms/step - loss: 0.1118 - accuracy: 0.9608 - val_loss: 0.0191 - val_accuracy: 1.0000\n",
      "Epoch 42/100\n",
      "501/501 [==============================] - 1s 3ms/step - loss: 0.1166 - accuracy: 0.9618 - val_loss: 0.0146 - val_accuracy: 1.0000\n",
      "Epoch 43/100\n",
      "501/501 [==============================] - 1s 3ms/step - loss: 0.1177 - accuracy: 0.9589 - val_loss: 0.0215 - val_accuracy: 1.0000\n",
      "Epoch 44/100\n",
      "501/501 [==============================] - 1s 3ms/step - loss: 0.1065 - accuracy: 0.9644 - val_loss: 0.0148 - val_accuracy: 1.0000\n",
      "Epoch 45/100\n",
      "501/501 [==============================] - 1s 3ms/step - loss: 0.1069 - accuracy: 0.9643 - val_loss: 0.0131 - val_accuracy: 1.0000\n",
      "Epoch 46/100\n",
      "501/501 [==============================] - 1s 3ms/step - loss: 0.1092 - accuracy: 0.9632 - val_loss: 0.0167 - val_accuracy: 1.0000\n",
      "Epoch 47/100\n",
      "501/501 [==============================] - 1s 3ms/step - loss: 0.1172 - accuracy: 0.9598 - val_loss: 0.0174 - val_accuracy: 1.0000\n",
      "Epoch 48/100\n",
      "501/501 [==============================] - 1s 3ms/step - loss: 0.1068 - accuracy: 0.9619 - val_loss: 0.0145 - val_accuracy: 1.0000\n",
      "Epoch 49/100\n",
      "501/501 [==============================] - 1s 2ms/step - loss: 0.1004 - accuracy: 0.9679 - val_loss: 0.0206 - val_accuracy: 1.0000\n",
      "Epoch 50/100\n",
      "501/501 [==============================] - 1s 3ms/step - loss: 0.1019 - accuracy: 0.9637 - val_loss: 0.0225 - val_accuracy: 1.0000\n",
      "Epoch 51/100\n",
      "501/501 [==============================] - 1s 3ms/step - loss: 0.1100 - accuracy: 0.9619 - val_loss: 0.0210 - val_accuracy: 1.0000\n",
      "Epoch 52/100\n",
      "501/501 [==============================] - 1s 3ms/step - loss: 0.1017 - accuracy: 0.9653 - val_loss: 0.0137 - val_accuracy: 1.0000\n",
      "Epoch 53/100\n",
      "501/501 [==============================] - 2s 3ms/step - loss: 0.0936 - accuracy: 0.9680 - val_loss: 0.0141 - val_accuracy: 1.0000\n",
      "Epoch 54/100\n",
      "501/501 [==============================] - 1s 3ms/step - loss: 0.1022 - accuracy: 0.9669 - val_loss: 0.0168 - val_accuracy: 1.0000\n",
      "Epoch 55/100\n",
      "501/501 [==============================] - 1s 3ms/step - loss: 0.0956 - accuracy: 0.9679 - val_loss: 0.0131 - val_accuracy: 1.0000\n",
      "Epoch 56/100\n",
      "501/501 [==============================] - 1s 3ms/step - loss: 0.1017 - accuracy: 0.9644 - val_loss: 0.0153 - val_accuracy: 1.0000\n",
      "Epoch 57/100\n",
      "501/501 [==============================] - 1s 3ms/step - loss: 0.0970 - accuracy: 0.9668 - val_loss: 0.0135 - val_accuracy: 1.0000\n",
      "Epoch 58/100\n",
      "501/501 [==============================] - 1s 2ms/step - loss: 0.0904 - accuracy: 0.9703 - val_loss: 0.0196 - val_accuracy: 1.0000\n",
      "Epoch 59/100\n",
      "501/501 [==============================] - 1s 3ms/step - loss: 0.1005 - accuracy: 0.9655 - val_loss: 0.0201 - val_accuracy: 1.0000\n",
      "Epoch 60/100\n",
      "501/501 [==============================] - 1s 2ms/step - loss: 0.0875 - accuracy: 0.9714 - val_loss: 0.0112 - val_accuracy: 1.0000\n",
      "Epoch 61/100\n",
      "501/501 [==============================] - 1s 3ms/step - loss: 0.0913 - accuracy: 0.9689 - val_loss: 0.0145 - val_accuracy: 1.0000\n",
      "Epoch 62/100\n",
      "501/501 [==============================] - 1s 3ms/step - loss: 0.0937 - accuracy: 0.9705 - val_loss: 0.0109 - val_accuracy: 1.0000\n",
      "Epoch 63/100\n",
      "501/501 [==============================] - 1s 3ms/step - loss: 0.0858 - accuracy: 0.9723 - val_loss: 0.0171 - val_accuracy: 1.0000\n",
      "Epoch 64/100\n",
      "501/501 [==============================] - 1s 3ms/step - loss: 0.0939 - accuracy: 0.9688 - val_loss: 0.0151 - val_accuracy: 1.0000\n",
      "Epoch 65/100\n",
      "501/501 [==============================] - 1s 3ms/step - loss: 0.0932 - accuracy: 0.9694 - val_loss: 0.0078 - val_accuracy: 1.0000\n",
      "Epoch 66/100\n",
      "501/501 [==============================] - 1s 2ms/step - loss: 0.0836 - accuracy: 0.9760 - val_loss: 0.0091 - val_accuracy: 1.0000\n",
      "Epoch 67/100\n",
      "501/501 [==============================] - 1s 3ms/step - loss: 0.0954 - accuracy: 0.9702 - val_loss: 0.0129 - val_accuracy: 1.0000\n",
      "Epoch 68/100\n",
      "501/501 [==============================] - 1s 2ms/step - loss: 0.0941 - accuracy: 0.9699 - val_loss: 0.0101 - val_accuracy: 1.0000\n",
      "Epoch 69/100\n",
      "501/501 [==============================] - 1s 3ms/step - loss: 0.0895 - accuracy: 0.9738 - val_loss: 0.0114 - val_accuracy: 1.0000\n",
      "Epoch 70/100\n",
      "501/501 [==============================] - 1s 3ms/step - loss: 0.0879 - accuracy: 0.9692 - val_loss: 0.0103 - val_accuracy: 1.0000\n",
      "Epoch 71/100\n",
      "501/501 [==============================] - 1s 3ms/step - loss: 0.0869 - accuracy: 0.9728 - val_loss: 0.0110 - val_accuracy: 1.0000\n",
      "Epoch 72/100\n",
      "501/501 [==============================] - 1s 3ms/step - loss: 0.0834 - accuracy: 0.9727 - val_loss: 0.0152 - val_accuracy: 1.0000\n",
      "Epoch 73/100\n",
      "501/501 [==============================] - 2s 3ms/step - loss: 0.0869 - accuracy: 0.9702 - val_loss: 0.0155 - val_accuracy: 1.0000\n",
      "Epoch 74/100\n",
      "501/501 [==============================] - 2s 3ms/step - loss: 0.0814 - accuracy: 0.9734 - val_loss: 0.0080 - val_accuracy: 1.0000\n",
      "Epoch 75/100\n",
      "501/501 [==============================] - 1s 3ms/step - loss: 0.0878 - accuracy: 0.9727 - val_loss: 0.0133 - val_accuracy: 1.0000\n"
     ]
    }
   ],
   "source": [
    "model.compile(\n",
    "    optimizer='adam',\n",
    "    loss='categorical_crossentropy',\n",
    "    metrics=['accuracy']\n",
    ")\n",
    "history = model.fit(\n",
    "    x=X_train,\n",
    "    y=y_train,\n",
    "    epochs=100,\n",
    "    validation_data=(X_test, y_test),\n",
    "    validation_split=0.2,\n",
    "    verbose=1,\n",
    "    batch_size=16,\n",
    "    callbacks=[EarlyStopping(monitor='val_loss', patience=10)]\n",
    ")"
   ]
  },
  {
   "cell_type": "code",
   "execution_count": 246,
   "id": "5f0e2731-5e33-42c8-9f6b-139e25fde8aa",
   "metadata": {
    "tags": []
   },
   "outputs": [
    {
     "name": "stdout",
     "output_type": "stream",
     "text": [
      "63/63 [==============================] - 0s 2ms/step - loss: 0.0133 - accuracy: 1.0000\n",
      "Test set accuracy: 1.000\n"
     ]
    }
   ],
   "source": [
    "# Evaluate ANN model\n",
    "loss, accuracy = model.evaluate(X_test, y_test)\n",
    "print(f\"Test set accuracy: {accuracy:.3f}\")"
   ]
  },
  {
   "cell_type": "code",
   "execution_count": 247,
   "id": "5ca7057a-6890-4505-852c-6c1226a798f6",
   "metadata": {},
   "outputs": [
    {
     "name": "stdout",
     "output_type": "stream",
     "text": [
      "63/63 [==============================] - 0s 1ms/step\n"
     ]
    }
   ],
   "source": [
    "# model.predict(X_test)\n",
    "y_pred = model.predict(X_test)"
   ]
  },
  {
   "cell_type": "code",
   "execution_count": 248,
   "id": "5a615160",
   "metadata": {},
   "outputs": [
    {
     "data": {
      "text/html": [
       "<div>\n",
       "<style scoped>\n",
       "    .dataframe tbody tr th:only-of-type {\n",
       "        vertical-align: middle;\n",
       "    }\n",
       "\n",
       "    .dataframe tbody tr th {\n",
       "        vertical-align: top;\n",
       "    }\n",
       "\n",
       "    .dataframe thead th {\n",
       "        text-align: right;\n",
       "    }\n",
       "</style>\n",
       "<table border=\"1\" class=\"dataframe\">\n",
       "  <thead>\n",
       "    <tr style=\"text-align: right;\">\n",
       "      <th></th>\n",
       "      <th>loss</th>\n",
       "      <th>accuracy</th>\n",
       "      <th>val_loss</th>\n",
       "      <th>val_accuracy</th>\n",
       "      <th>epoch</th>\n",
       "    </tr>\n",
       "  </thead>\n",
       "  <tbody>\n",
       "    <tr>\n",
       "      <th>0</th>\n",
       "      <td>1.431812</td>\n",
       "      <td>0.456169</td>\n",
       "      <td>1.016533</td>\n",
       "      <td>0.591409</td>\n",
       "      <td>0</td>\n",
       "    </tr>\n",
       "    <tr>\n",
       "      <th>1</th>\n",
       "      <td>0.990071</td>\n",
       "      <td>0.591159</td>\n",
       "      <td>0.795357</td>\n",
       "      <td>0.670330</td>\n",
       "      <td>1</td>\n",
       "    </tr>\n",
       "    <tr>\n",
       "      <th>2</th>\n",
       "      <td>0.827873</td>\n",
       "      <td>0.647478</td>\n",
       "      <td>0.644294</td>\n",
       "      <td>0.732767</td>\n",
       "      <td>2</td>\n",
       "    </tr>\n",
       "    <tr>\n",
       "      <th>3</th>\n",
       "      <td>0.730679</td>\n",
       "      <td>0.673327</td>\n",
       "      <td>0.524435</td>\n",
       "      <td>0.769231</td>\n",
       "      <td>3</td>\n",
       "    </tr>\n",
       "    <tr>\n",
       "      <th>4</th>\n",
       "      <td>0.648929</td>\n",
       "      <td>0.702173</td>\n",
       "      <td>0.438275</td>\n",
       "      <td>0.908092</td>\n",
       "      <td>4</td>\n",
       "    </tr>\n",
       "    <tr>\n",
       "      <th>...</th>\n",
       "      <td>...</td>\n",
       "      <td>...</td>\n",
       "      <td>...</td>\n",
       "      <td>...</td>\n",
       "      <td>...</td>\n",
       "    </tr>\n",
       "    <tr>\n",
       "      <th>70</th>\n",
       "      <td>0.086860</td>\n",
       "      <td>0.972777</td>\n",
       "      <td>0.011039</td>\n",
       "      <td>1.000000</td>\n",
       "      <td>70</td>\n",
       "    </tr>\n",
       "    <tr>\n",
       "      <th>71</th>\n",
       "      <td>0.083363</td>\n",
       "      <td>0.972652</td>\n",
       "      <td>0.015176</td>\n",
       "      <td>1.000000</td>\n",
       "      <td>71</td>\n",
       "    </tr>\n",
       "    <tr>\n",
       "      <th>72</th>\n",
       "      <td>0.086937</td>\n",
       "      <td>0.970155</td>\n",
       "      <td>0.015461</td>\n",
       "      <td>1.000000</td>\n",
       "      <td>72</td>\n",
       "    </tr>\n",
       "    <tr>\n",
       "      <th>73</th>\n",
       "      <td>0.081447</td>\n",
       "      <td>0.973402</td>\n",
       "      <td>0.008028</td>\n",
       "      <td>1.000000</td>\n",
       "      <td>73</td>\n",
       "    </tr>\n",
       "    <tr>\n",
       "      <th>74</th>\n",
       "      <td>0.087828</td>\n",
       "      <td>0.972652</td>\n",
       "      <td>0.013295</td>\n",
       "      <td>1.000000</td>\n",
       "      <td>74</td>\n",
       "    </tr>\n",
       "  </tbody>\n",
       "</table>\n",
       "<p>75 rows × 5 columns</p>\n",
       "</div>"
      ],
      "text/plain": [
       "        loss  accuracy  val_loss  val_accuracy  epoch\n",
       "0   1.431812  0.456169  1.016533      0.591409      0\n",
       "1   0.990071  0.591159  0.795357      0.670330      1\n",
       "2   0.827873  0.647478  0.644294      0.732767      2\n",
       "3   0.730679  0.673327  0.524435      0.769231      3\n",
       "4   0.648929  0.702173  0.438275      0.908092      4\n",
       "..       ...       ...       ...           ...    ...\n",
       "70  0.086860  0.972777  0.011039      1.000000     70\n",
       "71  0.083363  0.972652  0.015176      1.000000     71\n",
       "72  0.086937  0.970155  0.015461      1.000000     72\n",
       "73  0.081447  0.973402  0.008028      1.000000     73\n",
       "74  0.087828  0.972652  0.013295      1.000000     74\n",
       "\n",
       "[75 rows x 5 columns]"
      ]
     },
     "execution_count": 248,
     "metadata": {},
     "output_type": "execute_result"
    }
   ],
   "source": [
    "metrics = pd.DataFrame(history.history)\n",
    "metrics['epoch'] = history.epoch\n",
    "metrics"
   ]
  },
  {
   "attachments": {},
   "cell_type": "markdown",
   "id": "4461c262",
   "metadata": {},
   "source": [
    "# Model evaluate"
   ]
  },
  {
   "cell_type": "code",
   "execution_count": 249,
   "id": "a42430b5",
   "metadata": {},
   "outputs": [
    {
     "data": {
      "application/vnd.plotly.v1+json": {
       "config": {
        "plotlyServerURL": "https://plot.ly"
       },
       "data": [
        {
         "name": "accuracy",
         "type": "scatter",
         "x": [
          0,
          1,
          2,
          3,
          4,
          5,
          6,
          7,
          8,
          9,
          10,
          11,
          12,
          13,
          14,
          15,
          16,
          17,
          18,
          19,
          20,
          21,
          22,
          23,
          24,
          25,
          26,
          27,
          28,
          29,
          30,
          31,
          32,
          33,
          34,
          35,
          36,
          37,
          38,
          39,
          40,
          41,
          42,
          43,
          44,
          45,
          46,
          47,
          48,
          49,
          50,
          51,
          52,
          53,
          54,
          55,
          56,
          57,
          58,
          59,
          60,
          61,
          62,
          63,
          64,
          65,
          66,
          67,
          68,
          69,
          70,
          71,
          72,
          73,
          74
         ],
         "xaxis": "x",
         "y": [
          0.4561688303947449,
          0.5911588668823242,
          0.6474775075912476,
          0.6733266711235046,
          0.7021728157997131,
          0.7377622127532959,
          0.7669830322265625,
          0.8141857981681824,
          0.8316683173179626,
          0.8455294966697693,
          0.867757260799408,
          0.8769980072975159,
          0.8842407464981079,
          0.8948551416397095,
          0.9067182540893555,
          0.9068431854248047,
          0.9122127890586853,
          0.914710283279419,
          0.9199550151824951,
          0.9222028255462646,
          0.9286962747573853,
          0.9295704364776611,
          0.92982017993927,
          0.9378122091293335,
          0.9374375343322754,
          0.9448052048683167,
          0.9481768012046814,
          0.9500499367713928,
          0.9519230723381042,
          0.9509240984916687,
          0.9535464644432068,
          0.9545454382896423,
          0.9554196000099182,
          0.9592906832695007,
          0.9590409398078918,
          0.9565434455871582,
          0.9635364413261414,
          0.9574176073074341,
          0.9571678042411804,
          0.9611638188362122,
          0.9607892036437988,
          0.9617882370948792,
          0.9589160680770874,
          0.9644106030464172,
          0.9642857313156128,
          0.963161826133728,
          0.9597902297973633,
          0.9619131088256836,
          0.9679070711135864,
          0.9636613130569458,
          0.9619131088256836,
          0.9652847051620483,
          0.9680319428443909,
          0.9669080972671509,
          0.9679070711135864,
          0.9644106030464172,
          0.9667832255363464,
          0.9702796936035156,
          0.9655344486236572,
          0.9714035987854004,
          0.9689061045646667,
          0.9705294966697693,
          0.9722777009010315,
          0.9687812328338623,
          0.9694055914878845,
          0.9760239720344543,
          0.9701548218727112,
          0.9699050784111023,
          0.9737762212753296,
          0.9691558480262756,
          0.972777247428894,
          0.9726523756980896,
          0.9701548218727112,
          0.9734016060829163,
          0.9726523756980896
         ],
         "yaxis": "y"
        },
        {
         "name": "loss",
         "type": "scatter",
         "x": [
          0,
          1,
          2,
          3,
          4,
          5,
          6,
          7,
          8,
          9,
          10,
          11,
          12,
          13,
          14,
          15,
          16,
          17,
          18,
          19,
          20,
          21,
          22,
          23,
          24,
          25,
          26,
          27,
          28,
          29,
          30,
          31,
          32,
          33,
          34,
          35,
          36,
          37,
          38,
          39,
          40,
          41,
          42,
          43,
          44,
          45,
          46,
          47,
          48,
          49,
          50,
          51,
          52,
          53,
          54,
          55,
          56,
          57,
          58,
          59,
          60,
          61,
          62,
          63,
          64,
          65,
          66,
          67,
          68,
          69,
          70,
          71,
          72,
          73,
          74
         ],
         "xaxis": "x2",
         "y": [
          1.4318116903305054,
          0.9900712966918945,
          0.8278732895851135,
          0.730678915977478,
          0.6489287614822388,
          0.5855193138122559,
          0.5328554511070251,
          0.46318793296813965,
          0.4177003502845764,
          0.3799714148044586,
          0.34448662400245667,
          0.3164975643157959,
          0.306657612323761,
          0.2754024565219879,
          0.2607598304748535,
          0.2506691813468933,
          0.24041010439395905,
          0.22921904921531677,
          0.22649537026882172,
          0.20475922524929047,
          0.1962883472442627,
          0.19651608169078827,
          0.18967323005199432,
          0.17815597355365753,
          0.17042554914951324,
          0.15999427437782288,
          0.1558598279953003,
          0.15434657037258148,
          0.1467537134885788,
          0.15030884742736816,
          0.13430921733379364,
          0.13312362134456635,
          0.13500025868415833,
          0.127308189868927,
          0.12856902182102203,
          0.12802863121032715,
          0.11480007320642471,
          0.12654100358486176,
          0.11996878683567047,
          0.1188020259141922,
          0.11181911826133728,
          0.11656426638364792,
          0.11771328747272491,
          0.10647730529308319,
          0.10688553005456924,
          0.10921278595924377,
          0.11723116040229797,
          0.106757752597332,
          0.10043049603700638,
          0.10187026113271713,
          0.10995719581842422,
          0.10171831399202347,
          0.09359338134527206,
          0.1022479236125946,
          0.09559055417776108,
          0.10171382874250412,
          0.0969671681523323,
          0.09042833000421524,
          0.10053525120019913,
          0.08745294064283371,
          0.09127448499202728,
          0.0936502143740654,
          0.08584287762641907,
          0.09390944242477417,
          0.09315504133701324,
          0.0835648775100708,
          0.09540998190641403,
          0.09408781677484512,
          0.08950699865818024,
          0.08794699609279633,
          0.0868595615029335,
          0.08336286246776581,
          0.08693742752075195,
          0.08144678920507431,
          0.08782831579446793
         ],
         "yaxis": "y2"
        },
        {
         "name": "val_accuracy",
         "type": "scatter",
         "x": [
          0,
          1,
          2,
          3,
          4,
          5,
          6,
          7,
          8,
          9,
          10,
          11,
          12,
          13,
          14,
          15,
          16,
          17,
          18,
          19,
          20,
          21,
          22,
          23,
          24,
          25,
          26,
          27,
          28,
          29,
          30,
          31,
          32,
          33,
          34,
          35,
          36,
          37,
          38,
          39,
          40,
          41,
          42,
          43,
          44,
          45,
          46,
          47,
          48,
          49,
          50,
          51,
          52,
          53,
          54,
          55,
          56,
          57,
          58,
          59,
          60,
          61,
          62,
          63,
          64,
          65,
          66,
          67,
          68,
          69,
          70,
          71,
          72,
          73,
          74
         ],
         "xaxis": "x",
         "y": [
          0.5914086103439331,
          0.6703296899795532,
          0.7327672243118286,
          0.7692307829856873,
          0.9080919027328491,
          0.9170829057693481,
          0.9290709495544434,
          0.9300699234008789,
          0.9940059781074524,
          0.9895104765892029,
          0.9775224924087524,
          0.991008996963501,
          0.9790209531784058,
          0.9880120158195496,
          1,
          0.9915084838867188,
          0.9915084838867188,
          1,
          1,
          0.9985014796257019,
          0.9990010261535645,
          1,
          0.9985014796257019,
          1,
          1,
          1,
          1,
          1,
          1,
          1,
          1,
          1,
          1,
          1,
          1,
          1,
          1,
          1,
          1,
          1,
          1,
          1,
          1,
          1,
          1,
          1,
          1,
          1,
          1,
          1,
          1,
          1,
          1,
          1,
          1,
          1,
          1,
          1,
          1,
          1,
          1,
          1,
          1,
          1,
          1,
          1,
          1,
          1,
          1,
          1,
          1,
          1,
          1,
          1,
          1
         ],
         "yaxis": "y"
        },
        {
         "name": "val_loss",
         "type": "scatter",
         "x": [
          0,
          1,
          2,
          3,
          4,
          5,
          6,
          7,
          8,
          9,
          10,
          11,
          12,
          13,
          14,
          15,
          16,
          17,
          18,
          19,
          20,
          21,
          22,
          23,
          24,
          25,
          26,
          27,
          28,
          29,
          30,
          31,
          32,
          33,
          34,
          35,
          36,
          37,
          38,
          39,
          40,
          41,
          42,
          43,
          44,
          45,
          46,
          47,
          48,
          49,
          50,
          51,
          52,
          53,
          54,
          55,
          56,
          57,
          58,
          59,
          60,
          61,
          62,
          63,
          64,
          65,
          66,
          67,
          68,
          69,
          70,
          71,
          72,
          73,
          74
         ],
         "xaxis": "x2",
         "y": [
          1.0165327787399292,
          0.7953574061393738,
          0.644294261932373,
          0.5244354009628296,
          0.4382750391960144,
          0.3647706210613251,
          0.3053028881549835,
          0.25181445479393005,
          0.20118476450443268,
          0.17120759189128876,
          0.15110228955745697,
          0.12710732221603394,
          0.11613930761814117,
          0.1061353012919426,
          0.0877886638045311,
          0.09079749882221222,
          0.08514206856489182,
          0.06704284250736237,
          0.07057499140501022,
          0.06462498009204865,
          0.06357221305370331,
          0.05552060902118683,
          0.056446462869644165,
          0.0505511648952961,
          0.03653884679079056,
          0.04268484562635422,
          0.02905384823679924,
          0.02769792079925537,
          0.03022116795182228,
          0.025231370702385902,
          0.019670359790325165,
          0.02652398869395256,
          0.021842803806066513,
          0.02292577177286148,
          0.01834297552704811,
          0.02640203945338726,
          0.022375991567969322,
          0.018405193462967873,
          0.021894481033086777,
          0.021726034581661224,
          0.0190882608294487,
          0.014629513025283813,
          0.021537594497203827,
          0.014791828580200672,
          0.013099719770252705,
          0.016671594232320786,
          0.017417972907423973,
          0.014542147517204285,
          0.020595842972397804,
          0.022502118721604347,
          0.020959952846169472,
          0.013695540837943554,
          0.014095574617385864,
          0.01682831533253193,
          0.013087309896945953,
          0.015300246886909008,
          0.013531425036489964,
          0.01960822381079197,
          0.020059365779161453,
          0.011162469163537025,
          0.014516716822981834,
          0.010873449966311455,
          0.017051488161087036,
          0.015142002142965794,
          0.007848796434700489,
          0.009123456664383411,
          0.012862442061305046,
          0.01013871468603611,
          0.01143638975918293,
          0.010259605944156647,
          0.011038561351597309,
          0.015176099725067616,
          0.01546053122729063,
          0.008027737960219383,
          0.013294787146151066
         ],
         "yaxis": "y2"
        }
       ],
       "layout": {
        "template": {
         "data": {
          "bar": [
           {
            "error_x": {
             "color": "#2a3f5f"
            },
            "error_y": {
             "color": "#2a3f5f"
            },
            "marker": {
             "line": {
              "color": "#E5ECF6",
              "width": 0.5
             },
             "pattern": {
              "fillmode": "overlay",
              "size": 10,
              "solidity": 0.2
             }
            },
            "type": "bar"
           }
          ],
          "barpolar": [
           {
            "marker": {
             "line": {
              "color": "#E5ECF6",
              "width": 0.5
             },
             "pattern": {
              "fillmode": "overlay",
              "size": 10,
              "solidity": 0.2
             }
            },
            "type": "barpolar"
           }
          ],
          "carpet": [
           {
            "aaxis": {
             "endlinecolor": "#2a3f5f",
             "gridcolor": "white",
             "linecolor": "white",
             "minorgridcolor": "white",
             "startlinecolor": "#2a3f5f"
            },
            "baxis": {
             "endlinecolor": "#2a3f5f",
             "gridcolor": "white",
             "linecolor": "white",
             "minorgridcolor": "white",
             "startlinecolor": "#2a3f5f"
            },
            "type": "carpet"
           }
          ],
          "choropleth": [
           {
            "colorbar": {
             "outlinewidth": 0,
             "ticks": ""
            },
            "type": "choropleth"
           }
          ],
          "contour": [
           {
            "colorbar": {
             "outlinewidth": 0,
             "ticks": ""
            },
            "colorscale": [
             [
              0,
              "#0d0887"
             ],
             [
              0.1111111111111111,
              "#46039f"
             ],
             [
              0.2222222222222222,
              "#7201a8"
             ],
             [
              0.3333333333333333,
              "#9c179e"
             ],
             [
              0.4444444444444444,
              "#bd3786"
             ],
             [
              0.5555555555555556,
              "#d8576b"
             ],
             [
              0.6666666666666666,
              "#ed7953"
             ],
             [
              0.7777777777777778,
              "#fb9f3a"
             ],
             [
              0.8888888888888888,
              "#fdca26"
             ],
             [
              1,
              "#f0f921"
             ]
            ],
            "type": "contour"
           }
          ],
          "contourcarpet": [
           {
            "colorbar": {
             "outlinewidth": 0,
             "ticks": ""
            },
            "type": "contourcarpet"
           }
          ],
          "heatmap": [
           {
            "colorbar": {
             "outlinewidth": 0,
             "ticks": ""
            },
            "colorscale": [
             [
              0,
              "#0d0887"
             ],
             [
              0.1111111111111111,
              "#46039f"
             ],
             [
              0.2222222222222222,
              "#7201a8"
             ],
             [
              0.3333333333333333,
              "#9c179e"
             ],
             [
              0.4444444444444444,
              "#bd3786"
             ],
             [
              0.5555555555555556,
              "#d8576b"
             ],
             [
              0.6666666666666666,
              "#ed7953"
             ],
             [
              0.7777777777777778,
              "#fb9f3a"
             ],
             [
              0.8888888888888888,
              "#fdca26"
             ],
             [
              1,
              "#f0f921"
             ]
            ],
            "type": "heatmap"
           }
          ],
          "heatmapgl": [
           {
            "colorbar": {
             "outlinewidth": 0,
             "ticks": ""
            },
            "colorscale": [
             [
              0,
              "#0d0887"
             ],
             [
              0.1111111111111111,
              "#46039f"
             ],
             [
              0.2222222222222222,
              "#7201a8"
             ],
             [
              0.3333333333333333,
              "#9c179e"
             ],
             [
              0.4444444444444444,
              "#bd3786"
             ],
             [
              0.5555555555555556,
              "#d8576b"
             ],
             [
              0.6666666666666666,
              "#ed7953"
             ],
             [
              0.7777777777777778,
              "#fb9f3a"
             ],
             [
              0.8888888888888888,
              "#fdca26"
             ],
             [
              1,
              "#f0f921"
             ]
            ],
            "type": "heatmapgl"
           }
          ],
          "histogram": [
           {
            "marker": {
             "pattern": {
              "fillmode": "overlay",
              "size": 10,
              "solidity": 0.2
             }
            },
            "type": "histogram"
           }
          ],
          "histogram2d": [
           {
            "colorbar": {
             "outlinewidth": 0,
             "ticks": ""
            },
            "colorscale": [
             [
              0,
              "#0d0887"
             ],
             [
              0.1111111111111111,
              "#46039f"
             ],
             [
              0.2222222222222222,
              "#7201a8"
             ],
             [
              0.3333333333333333,
              "#9c179e"
             ],
             [
              0.4444444444444444,
              "#bd3786"
             ],
             [
              0.5555555555555556,
              "#d8576b"
             ],
             [
              0.6666666666666666,
              "#ed7953"
             ],
             [
              0.7777777777777778,
              "#fb9f3a"
             ],
             [
              0.8888888888888888,
              "#fdca26"
             ],
             [
              1,
              "#f0f921"
             ]
            ],
            "type": "histogram2d"
           }
          ],
          "histogram2dcontour": [
           {
            "colorbar": {
             "outlinewidth": 0,
             "ticks": ""
            },
            "colorscale": [
             [
              0,
              "#0d0887"
             ],
             [
              0.1111111111111111,
              "#46039f"
             ],
             [
              0.2222222222222222,
              "#7201a8"
             ],
             [
              0.3333333333333333,
              "#9c179e"
             ],
             [
              0.4444444444444444,
              "#bd3786"
             ],
             [
              0.5555555555555556,
              "#d8576b"
             ],
             [
              0.6666666666666666,
              "#ed7953"
             ],
             [
              0.7777777777777778,
              "#fb9f3a"
             ],
             [
              0.8888888888888888,
              "#fdca26"
             ],
             [
              1,
              "#f0f921"
             ]
            ],
            "type": "histogram2dcontour"
           }
          ],
          "mesh3d": [
           {
            "colorbar": {
             "outlinewidth": 0,
             "ticks": ""
            },
            "type": "mesh3d"
           }
          ],
          "parcoords": [
           {
            "line": {
             "colorbar": {
              "outlinewidth": 0,
              "ticks": ""
             }
            },
            "type": "parcoords"
           }
          ],
          "pie": [
           {
            "automargin": true,
            "type": "pie"
           }
          ],
          "scatter": [
           {
            "fillpattern": {
             "fillmode": "overlay",
             "size": 10,
             "solidity": 0.2
            },
            "type": "scatter"
           }
          ],
          "scatter3d": [
           {
            "line": {
             "colorbar": {
              "outlinewidth": 0,
              "ticks": ""
             }
            },
            "marker": {
             "colorbar": {
              "outlinewidth": 0,
              "ticks": ""
             }
            },
            "type": "scatter3d"
           }
          ],
          "scattercarpet": [
           {
            "marker": {
             "colorbar": {
              "outlinewidth": 0,
              "ticks": ""
             }
            },
            "type": "scattercarpet"
           }
          ],
          "scattergeo": [
           {
            "marker": {
             "colorbar": {
              "outlinewidth": 0,
              "ticks": ""
             }
            },
            "type": "scattergeo"
           }
          ],
          "scattergl": [
           {
            "marker": {
             "colorbar": {
              "outlinewidth": 0,
              "ticks": ""
             }
            },
            "type": "scattergl"
           }
          ],
          "scattermapbox": [
           {
            "marker": {
             "colorbar": {
              "outlinewidth": 0,
              "ticks": ""
             }
            },
            "type": "scattermapbox"
           }
          ],
          "scatterpolar": [
           {
            "marker": {
             "colorbar": {
              "outlinewidth": 0,
              "ticks": ""
             }
            },
            "type": "scatterpolar"
           }
          ],
          "scatterpolargl": [
           {
            "marker": {
             "colorbar": {
              "outlinewidth": 0,
              "ticks": ""
             }
            },
            "type": "scatterpolargl"
           }
          ],
          "scatterternary": [
           {
            "marker": {
             "colorbar": {
              "outlinewidth": 0,
              "ticks": ""
             }
            },
            "type": "scatterternary"
           }
          ],
          "surface": [
           {
            "colorbar": {
             "outlinewidth": 0,
             "ticks": ""
            },
            "colorscale": [
             [
              0,
              "#0d0887"
             ],
             [
              0.1111111111111111,
              "#46039f"
             ],
             [
              0.2222222222222222,
              "#7201a8"
             ],
             [
              0.3333333333333333,
              "#9c179e"
             ],
             [
              0.4444444444444444,
              "#bd3786"
             ],
             [
              0.5555555555555556,
              "#d8576b"
             ],
             [
              0.6666666666666666,
              "#ed7953"
             ],
             [
              0.7777777777777778,
              "#fb9f3a"
             ],
             [
              0.8888888888888888,
              "#fdca26"
             ],
             [
              1,
              "#f0f921"
             ]
            ],
            "type": "surface"
           }
          ],
          "table": [
           {
            "cells": {
             "fill": {
              "color": "#EBF0F8"
             },
             "line": {
              "color": "white"
             }
            },
            "header": {
             "fill": {
              "color": "#C8D4E3"
             },
             "line": {
              "color": "white"
             }
            },
            "type": "table"
           }
          ]
         },
         "layout": {
          "annotationdefaults": {
           "arrowcolor": "#2a3f5f",
           "arrowhead": 0,
           "arrowwidth": 1
          },
          "autotypenumbers": "strict",
          "coloraxis": {
           "colorbar": {
            "outlinewidth": 0,
            "ticks": ""
           }
          },
          "colorscale": {
           "diverging": [
            [
             0,
             "#8e0152"
            ],
            [
             0.1,
             "#c51b7d"
            ],
            [
             0.2,
             "#de77ae"
            ],
            [
             0.3,
             "#f1b6da"
            ],
            [
             0.4,
             "#fde0ef"
            ],
            [
             0.5,
             "#f7f7f7"
            ],
            [
             0.6,
             "#e6f5d0"
            ],
            [
             0.7,
             "#b8e186"
            ],
            [
             0.8,
             "#7fbc41"
            ],
            [
             0.9,
             "#4d9221"
            ],
            [
             1,
             "#276419"
            ]
           ],
           "sequential": [
            [
             0,
             "#0d0887"
            ],
            [
             0.1111111111111111,
             "#46039f"
            ],
            [
             0.2222222222222222,
             "#7201a8"
            ],
            [
             0.3333333333333333,
             "#9c179e"
            ],
            [
             0.4444444444444444,
             "#bd3786"
            ],
            [
             0.5555555555555556,
             "#d8576b"
            ],
            [
             0.6666666666666666,
             "#ed7953"
            ],
            [
             0.7777777777777778,
             "#fb9f3a"
            ],
            [
             0.8888888888888888,
             "#fdca26"
            ],
            [
             1,
             "#f0f921"
            ]
           ],
           "sequentialminus": [
            [
             0,
             "#0d0887"
            ],
            [
             0.1111111111111111,
             "#46039f"
            ],
            [
             0.2222222222222222,
             "#7201a8"
            ],
            [
             0.3333333333333333,
             "#9c179e"
            ],
            [
             0.4444444444444444,
             "#bd3786"
            ],
            [
             0.5555555555555556,
             "#d8576b"
            ],
            [
             0.6666666666666666,
             "#ed7953"
            ],
            [
             0.7777777777777778,
             "#fb9f3a"
            ],
            [
             0.8888888888888888,
             "#fdca26"
            ],
            [
             1,
             "#f0f921"
            ]
           ]
          },
          "colorway": [
           "#636efa",
           "#EF553B",
           "#00cc96",
           "#ab63fa",
           "#FFA15A",
           "#19d3f3",
           "#FF6692",
           "#B6E880",
           "#FF97FF",
           "#FECB52"
          ],
          "font": {
           "color": "#2a3f5f"
          },
          "geo": {
           "bgcolor": "white",
           "lakecolor": "white",
           "landcolor": "#E5ECF6",
           "showlakes": true,
           "showland": true,
           "subunitcolor": "white"
          },
          "hoverlabel": {
           "align": "left"
          },
          "hovermode": "closest",
          "mapbox": {
           "style": "light"
          },
          "paper_bgcolor": "white",
          "plot_bgcolor": "#E5ECF6",
          "polar": {
           "angularaxis": {
            "gridcolor": "white",
            "linecolor": "white",
            "ticks": ""
           },
           "bgcolor": "#E5ECF6",
           "radialaxis": {
            "gridcolor": "white",
            "linecolor": "white",
            "ticks": ""
           }
          },
          "scene": {
           "xaxis": {
            "backgroundcolor": "#E5ECF6",
            "gridcolor": "white",
            "gridwidth": 2,
            "linecolor": "white",
            "showbackground": true,
            "ticks": "",
            "zerolinecolor": "white"
           },
           "yaxis": {
            "backgroundcolor": "#E5ECF6",
            "gridcolor": "white",
            "gridwidth": 2,
            "linecolor": "white",
            "showbackground": true,
            "ticks": "",
            "zerolinecolor": "white"
           },
           "zaxis": {
            "backgroundcolor": "#E5ECF6",
            "gridcolor": "white",
            "gridwidth": 2,
            "linecolor": "white",
            "showbackground": true,
            "ticks": "",
            "zerolinecolor": "white"
           }
          },
          "shapedefaults": {
           "line": {
            "color": "#2a3f5f"
           }
          },
          "ternary": {
           "aaxis": {
            "gridcolor": "white",
            "linecolor": "white",
            "ticks": ""
           },
           "baxis": {
            "gridcolor": "white",
            "linecolor": "white",
            "ticks": ""
           },
           "bgcolor": "#E5ECF6",
           "caxis": {
            "gridcolor": "white",
            "linecolor": "white",
            "ticks": ""
           }
          },
          "title": {
           "x": 0.05
          },
          "xaxis": {
           "automargin": true,
           "gridcolor": "white",
           "linecolor": "white",
           "ticks": "",
           "title": {
            "standoff": 15
           },
           "zerolinecolor": "white",
           "zerolinewidth": 2
          },
          "yaxis": {
           "automargin": true,
           "gridcolor": "white",
           "linecolor": "white",
           "ticks": "",
           "title": {
            "standoff": 15
           },
           "zerolinecolor": "white",
           "zerolinewidth": 2
          }
         }
        },
        "title": {
         "text": "Accuracy and Loss"
        },
        "width": 1000,
        "xaxis": {
         "anchor": "y",
         "domain": [
          0,
          0.45
         ],
         "title": {
          "text": "epochs"
         }
        },
        "xaxis2": {
         "anchor": "y2",
         "domain": [
          0.55,
          1
         ],
         "title": {
          "text": "epochs"
         }
        },
        "yaxis": {
         "anchor": "x",
         "domain": [
          0,
          1
         ],
         "title": {
          "text": "accuracy"
         }
        },
        "yaxis2": {
         "anchor": "x2",
         "domain": [
          0,
          1
         ],
         "title": {
          "text": "loss"
         }
        }
       }
      }
     },
     "metadata": {},
     "output_type": "display_data"
    }
   ],
   "source": [
    "import plotly.graph_objects as go\n",
    "from plotly.subplots import make_subplots\n",
    "\n",
    "fig = make_subplots(rows=1, cols=2)\n",
    "fig.add_trace(go.Scatter(x=metrics['epoch'], y=metrics['accuracy'], name='accuracy'), row=1, col=1)\n",
    "fig.add_trace(go.Scatter(x=metrics['epoch'], y=metrics['loss'], name='loss'), row=1, col=2)\n",
    "fig.add_trace(go.Scatter(x=metrics['epoch'], y=metrics['val_accuracy'], name='val_accuracy'), row=1, col=1)\n",
    "fig.add_trace(go.Scatter(x=metrics['epoch'], y=metrics['val_loss'], name='val_loss'), row=1, col=2)\n",
    "\n",
    "fig.update_xaxes(title_text='epochs')\n",
    "fig.update_yaxes(title_text='accuracy', row=1, col=1)\n",
    "fig.update_yaxes(title_text='loss', row=1, col=2)\n",
    "fig.update_layout(width=1000, title='Accuracy and Loss')\n",
    "fig.show()"
   ]
  },
  {
   "cell_type": "code",
   "execution_count": 250,
   "id": "dea0d5f4",
   "metadata": {},
   "outputs": [
    {
     "name": "stdout",
     "output_type": "stream",
     "text": [
      "1.0\n"
     ]
    }
   ],
   "source": [
    "test_loss, test_acc = model.evaluate(X_test, y_test, verbose=0)\n",
    "print(test_acc)"
   ]
  },
  {
   "attachments": {},
   "cell_type": "markdown",
   "id": "dcf959ed",
   "metadata": {},
   "source": [
    "Predykcja na podstawie modelu.\n",
    "* model.evaluate(y_true, y_pred) - pozwala obliczyć metryki modelu\n",
    "* model.predict_classes() - pozwala zwrócić odpowiednio przewidziane klasy\n",
    "* model.predict_proba(), model.predict() - pozwala zwrócić prawdopodobieństwo danej klasy"
   ]
  },
  {
   "cell_type": "code",
   "execution_count": 251,
   "id": "d886fb03",
   "metadata": {},
   "outputs": [
    {
     "name": "stdout",
     "output_type": "stream",
     "text": [
      "63/63 [==============================] - 0s 2ms/step\n"
     ]
    },
    {
     "data": {
      "text/plain": [
       "array([[0.0000000e+00, 1.0000000e+00, 2.1441476e-13, ..., 0.0000000e+00, 0.0000000e+00, 5.1129209e-23],\n",
       "       [0.0000000e+00, 1.0000000e+00, 3.7038948e-12, ..., 0.0000000e+00, 0.0000000e+00, 4.8140197e-24],\n",
       "       [3.3895907e-03, 1.0858879e-09, 3.8966184e-05, ..., 6.1264720e-05, 9.9453652e-01, 2.7511138e-12],\n",
       "       ...,\n",
       "       [0.0000000e+00, 9.9999416e-01, 5.8327605e-06, ..., 1.5853244e-33, 5.9536665e-35, 2.8382350e-11],\n",
       "       [0.0000000e+00, 0.0000000e+00, 0.0000000e+00, ..., 1.0000000e+00, 0.0000000e+00, 0.0000000e+00],\n",
       "       [3.7502542e-13, 2.1413781e-03, 3.0245493e-36, ..., 6.9643829e-07, 0.0000000e+00, 9.9785787e-01]], dtype=float32)"
      ]
     },
     "execution_count": 251,
     "metadata": {},
     "output_type": "execute_result"
    }
   ],
   "source": [
    "predictions = model.predict(X_test)\n",
    "predictions"
   ]
  },
  {
   "cell_type": "code",
   "execution_count": 252,
   "id": "f0517586",
   "metadata": {},
   "outputs": [
    {
     "data": {
      "text/html": [
       "<div>\n",
       "<style scoped>\n",
       "    .dataframe tbody tr th:only-of-type {\n",
       "        vertical-align: middle;\n",
       "    }\n",
       "\n",
       "    .dataframe tbody tr th {\n",
       "        vertical-align: top;\n",
       "    }\n",
       "\n",
       "    .dataframe thead th {\n",
       "        text-align: right;\n",
       "    }\n",
       "</style>\n",
       "<table border=\"1\" class=\"dataframe\">\n",
       "  <thead>\n",
       "    <tr style=\"text-align: right;\">\n",
       "      <th></th>\n",
       "      <th>0</th>\n",
       "      <th>1</th>\n",
       "      <th>2</th>\n",
       "      <th>3</th>\n",
       "      <th>4</th>\n",
       "      <th>5</th>\n",
       "      <th>6</th>\n",
       "    </tr>\n",
       "  </thead>\n",
       "  <tbody>\n",
       "    <tr>\n",
       "      <th>0</th>\n",
       "      <td>0.000000e+00</td>\n",
       "      <td>1.000000e+00</td>\n",
       "      <td>2.144148e-13</td>\n",
       "      <td>0.000000e+00</td>\n",
       "      <td>0.000000e+00</td>\n",
       "      <td>0.000000e+00</td>\n",
       "      <td>5.112921e-23</td>\n",
       "    </tr>\n",
       "    <tr>\n",
       "      <th>1</th>\n",
       "      <td>0.000000e+00</td>\n",
       "      <td>1.000000e+00</td>\n",
       "      <td>3.703895e-12</td>\n",
       "      <td>0.000000e+00</td>\n",
       "      <td>0.000000e+00</td>\n",
       "      <td>0.000000e+00</td>\n",
       "      <td>4.814020e-24</td>\n",
       "    </tr>\n",
       "    <tr>\n",
       "      <th>2</th>\n",
       "      <td>3.389591e-03</td>\n",
       "      <td>1.085888e-09</td>\n",
       "      <td>3.896618e-05</td>\n",
       "      <td>1.973641e-03</td>\n",
       "      <td>6.126472e-05</td>\n",
       "      <td>9.945365e-01</td>\n",
       "      <td>2.751114e-12</td>\n",
       "    </tr>\n",
       "    <tr>\n",
       "      <th>3</th>\n",
       "      <td>7.702171e-15</td>\n",
       "      <td>1.291682e-04</td>\n",
       "      <td>1.397327e-32</td>\n",
       "      <td>0.000000e+00</td>\n",
       "      <td>1.694242e-03</td>\n",
       "      <td>0.000000e+00</td>\n",
       "      <td>9.981766e-01</td>\n",
       "    </tr>\n",
       "    <tr>\n",
       "      <th>4</th>\n",
       "      <td>2.164604e-03</td>\n",
       "      <td>2.557837e-11</td>\n",
       "      <td>1.103415e-05</td>\n",
       "      <td>1.046236e-03</td>\n",
       "      <td>4.143651e-05</td>\n",
       "      <td>9.967366e-01</td>\n",
       "      <td>3.195477e-14</td>\n",
       "    </tr>\n",
       "    <tr>\n",
       "      <th>...</th>\n",
       "      <td>...</td>\n",
       "      <td>...</td>\n",
       "      <td>...</td>\n",
       "      <td>...</td>\n",
       "      <td>...</td>\n",
       "      <td>...</td>\n",
       "      <td>...</td>\n",
       "    </tr>\n",
       "    <tr>\n",
       "      <th>1997</th>\n",
       "      <td>0.000000e+00</td>\n",
       "      <td>0.000000e+00</td>\n",
       "      <td>0.000000e+00</td>\n",
       "      <td>0.000000e+00</td>\n",
       "      <td>1.000000e+00</td>\n",
       "      <td>0.000000e+00</td>\n",
       "      <td>0.000000e+00</td>\n",
       "    </tr>\n",
       "    <tr>\n",
       "      <th>1998</th>\n",
       "      <td>0.000000e+00</td>\n",
       "      <td>0.000000e+00</td>\n",
       "      <td>0.000000e+00</td>\n",
       "      <td>0.000000e+00</td>\n",
       "      <td>1.000000e+00</td>\n",
       "      <td>0.000000e+00</td>\n",
       "      <td>0.000000e+00</td>\n",
       "    </tr>\n",
       "    <tr>\n",
       "      <th>1999</th>\n",
       "      <td>0.000000e+00</td>\n",
       "      <td>9.999942e-01</td>\n",
       "      <td>5.832761e-06</td>\n",
       "      <td>1.332117e-35</td>\n",
       "      <td>1.585324e-33</td>\n",
       "      <td>5.953667e-35</td>\n",
       "      <td>2.838235e-11</td>\n",
       "    </tr>\n",
       "    <tr>\n",
       "      <th>2000</th>\n",
       "      <td>0.000000e+00</td>\n",
       "      <td>0.000000e+00</td>\n",
       "      <td>0.000000e+00</td>\n",
       "      <td>0.000000e+00</td>\n",
       "      <td>1.000000e+00</td>\n",
       "      <td>0.000000e+00</td>\n",
       "      <td>0.000000e+00</td>\n",
       "    </tr>\n",
       "    <tr>\n",
       "      <th>2001</th>\n",
       "      <td>3.750254e-13</td>\n",
       "      <td>2.141378e-03</td>\n",
       "      <td>3.024549e-36</td>\n",
       "      <td>0.000000e+00</td>\n",
       "      <td>6.964383e-07</td>\n",
       "      <td>0.000000e+00</td>\n",
       "      <td>9.978579e-01</td>\n",
       "    </tr>\n",
       "  </tbody>\n",
       "</table>\n",
       "<p>2002 rows × 7 columns</p>\n",
       "</div>"
      ],
      "text/plain": [
       "                 0             1             2             3             4             5             6\n",
       "0     0.000000e+00  1.000000e+00  2.144148e-13  0.000000e+00  0.000000e+00  0.000000e+00  5.112921e-23\n",
       "1     0.000000e+00  1.000000e+00  3.703895e-12  0.000000e+00  0.000000e+00  0.000000e+00  4.814020e-24\n",
       "2     3.389591e-03  1.085888e-09  3.896618e-05  1.973641e-03  6.126472e-05  9.945365e-01  2.751114e-12\n",
       "3     7.702171e-15  1.291682e-04  1.397327e-32  0.000000e+00  1.694242e-03  0.000000e+00  9.981766e-01\n",
       "4     2.164604e-03  2.557837e-11  1.103415e-05  1.046236e-03  4.143651e-05  9.967366e-01  3.195477e-14\n",
       "...            ...           ...           ...           ...           ...           ...           ...\n",
       "1997  0.000000e+00  0.000000e+00  0.000000e+00  0.000000e+00  1.000000e+00  0.000000e+00  0.000000e+00\n",
       "1998  0.000000e+00  0.000000e+00  0.000000e+00  0.000000e+00  1.000000e+00  0.000000e+00  0.000000e+00\n",
       "1999  0.000000e+00  9.999942e-01  5.832761e-06  1.332117e-35  1.585324e-33  5.953667e-35  2.838235e-11\n",
       "2000  0.000000e+00  0.000000e+00  0.000000e+00  0.000000e+00  1.000000e+00  0.000000e+00  0.000000e+00\n",
       "2001  3.750254e-13  2.141378e-03  3.024549e-36  0.000000e+00  6.964383e-07  0.000000e+00  9.978579e-01\n",
       "\n",
       "[2002 rows x 7 columns]"
      ]
     },
     "execution_count": 252,
     "metadata": {},
     "output_type": "execute_result"
    }
   ],
   "source": [
    "predictions_df = pd.DataFrame(predictions)\n",
    "predictions_df"
   ]
  },
  {
   "cell_type": "code",
   "execution_count": 253,
   "id": "03d216ea",
   "metadata": {},
   "outputs": [
    {
     "data": {
      "text/plain": [
       "array([1, 1, 5, ..., 1, 4, 6], dtype=int64)"
      ]
     },
     "execution_count": 253,
     "metadata": {},
     "output_type": "execute_result"
    }
   ],
   "source": [
    "predictions_cls = predictions.argmax(axis=-1)\n",
    "predictions_cls"
   ]
  },
  {
   "attachments": {},
   "cell_type": "markdown",
   "id": "70f70183",
   "metadata": {},
   "source": [
    "# Zapisanie modelu"
   ]
  },
  {
   "cell_type": "code",
   "execution_count": 254,
   "id": "5a32ea88",
   "metadata": {},
   "outputs": [
    {
     "name": "stdout",
     "output_type": "stream",
     "text": [
      "INFO:tensorflow:Assets written to: C:\\Users\\Dell\\Documents\\Git\\stormwater-analysis\\stormwater_analysis\\data\\all_columns\\assets\n"
     ]
    }
   ],
   "source": [
    "model.save(r'C:\\Users\\Dell\\Documents\\Git\\stormwater-analysis\\stormwater_analysis\\data\\all_columns')"
   ]
  },
  {
   "attachments": {},
   "cell_type": "markdown",
   "id": "2a8a23e3",
   "metadata": {},
   "source": [
    "# Załadowanie modelu"
   ]
  },
  {
   "cell_type": "code",
   "execution_count": 255,
   "id": "772d2f7e",
   "metadata": {},
   "outputs": [],
   "source": [
    "from tensorflow import keras\n",
    "model = keras.models.load_model(r'C:\\Users\\Dell\\Documents\\Git\\stormwater-analysis\\stormwater_analysis\\data\\all_columns')"
   ]
  },
  {
   "cell_type": "code",
   "execution_count": 256,
   "id": "c05cbf24",
   "metadata": {},
   "outputs": [
    {
     "data": {
      "text/html": [
       "<div>\n",
       "<style scoped>\n",
       "    .dataframe tbody tr th:only-of-type {\n",
       "        vertical-align: middle;\n",
       "    }\n",
       "\n",
       "    .dataframe tbody tr th {\n",
       "        vertical-align: top;\n",
       "    }\n",
       "\n",
       "    .dataframe thead th {\n",
       "        text-align: right;\n",
       "    }\n",
       "</style>\n",
       "<table border=\"1\" class=\"dataframe\">\n",
       "  <thead>\n",
       "    <tr style=\"text-align: right;\">\n",
       "      <th></th>\n",
       "      <th>Area</th>\n",
       "      <th>PercImperv</th>\n",
       "      <th>Width</th>\n",
       "      <th>PercSlope</th>\n",
       "      <th>PctZero</th>\n",
       "      <th>TotalPrecip</th>\n",
       "      <th>TotalRunoffMG</th>\n",
       "      <th>PeakRunoff</th>\n",
       "      <th>RunoffCoeff</th>\n",
       "    </tr>\n",
       "  </thead>\n",
       "  <tbody>\n",
       "    <tr>\n",
       "      <th>7438</th>\n",
       "      <td>1.43</td>\n",
       "      <td>5.09</td>\n",
       "      <td>119.58</td>\n",
       "      <td>10.00</td>\n",
       "      <td>10</td>\n",
       "      <td>9.50</td>\n",
       "      <td>0.01</td>\n",
       "      <td>0.00</td>\n",
       "      <td>0.063</td>\n",
       "    </tr>\n",
       "    <tr>\n",
       "      <th>9058</th>\n",
       "      <td>1.00</td>\n",
       "      <td>5.09</td>\n",
       "      <td>100.00</td>\n",
       "      <td>10.00</td>\n",
       "      <td>10</td>\n",
       "      <td>0.32</td>\n",
       "      <td>0.00</td>\n",
       "      <td>0.00</td>\n",
       "      <td>0.005</td>\n",
       "    </tr>\n",
       "    <tr>\n",
       "      <th>568</th>\n",
       "      <td>0.77</td>\n",
       "      <td>30.00</td>\n",
       "      <td>87.75</td>\n",
       "      <td>15.00</td>\n",
       "      <td>80</td>\n",
       "      <td>10.10</td>\n",
       "      <td>0.04</td>\n",
       "      <td>0.03</td>\n",
       "      <td>0.462</td>\n",
       "    </tr>\n",
       "    <tr>\n",
       "      <th>9344</th>\n",
       "      <td>0.60</td>\n",
       "      <td>15.00</td>\n",
       "      <td>77.46</td>\n",
       "      <td>30.00</td>\n",
       "      <td>5</td>\n",
       "      <td>0.32</td>\n",
       "      <td>0.00</td>\n",
       "      <td>0.00</td>\n",
       "      <td>0.007</td>\n",
       "    </tr>\n",
       "    <tr>\n",
       "      <th>2236</th>\n",
       "      <td>1.39</td>\n",
       "      <td>30.00</td>\n",
       "      <td>117.90</td>\n",
       "      <td>5.09</td>\n",
       "      <td>80</td>\n",
       "      <td>38.33</td>\n",
       "      <td>0.44</td>\n",
       "      <td>0.30</td>\n",
       "      <td>0.820</td>\n",
       "    </tr>\n",
       "    <tr>\n",
       "      <th>...</th>\n",
       "      <td>...</td>\n",
       "      <td>...</td>\n",
       "      <td>...</td>\n",
       "      <td>...</td>\n",
       "      <td>...</td>\n",
       "      <td>...</td>\n",
       "      <td>...</td>\n",
       "      <td>...</td>\n",
       "      <td>...</td>\n",
       "    </tr>\n",
       "    <tr>\n",
       "      <th>533</th>\n",
       "      <td>0.19</td>\n",
       "      <td>83.33</td>\n",
       "      <td>43.59</td>\n",
       "      <td>45.00</td>\n",
       "      <td>80</td>\n",
       "      <td>10.10</td>\n",
       "      <td>0.02</td>\n",
       "      <td>0.01</td>\n",
       "      <td>0.880</td>\n",
       "    </tr>\n",
       "    <tr>\n",
       "      <th>132</th>\n",
       "      <td>1.36</td>\n",
       "      <td>65.00</td>\n",
       "      <td>116.62</td>\n",
       "      <td>61.67</td>\n",
       "      <td>80</td>\n",
       "      <td>10.10</td>\n",
       "      <td>0.10</td>\n",
       "      <td>0.09</td>\n",
       "      <td>0.761</td>\n",
       "    </tr>\n",
       "    <tr>\n",
       "      <th>7329</th>\n",
       "      <td>0.30</td>\n",
       "      <td>10.00</td>\n",
       "      <td>54.77</td>\n",
       "      <td>20.00</td>\n",
       "      <td>10</td>\n",
       "      <td>9.50</td>\n",
       "      <td>0.00</td>\n",
       "      <td>0.00</td>\n",
       "      <td>0.127</td>\n",
       "    </tr>\n",
       "    <tr>\n",
       "      <th>8466</th>\n",
       "      <td>1.25</td>\n",
       "      <td>65.00</td>\n",
       "      <td>111.80</td>\n",
       "      <td>61.67</td>\n",
       "      <td>80</td>\n",
       "      <td>12.67</td>\n",
       "      <td>0.12</td>\n",
       "      <td>0.04</td>\n",
       "      <td>0.772</td>\n",
       "    </tr>\n",
       "    <tr>\n",
       "      <th>964</th>\n",
       "      <td>1.08</td>\n",
       "      <td>15.00</td>\n",
       "      <td>103.92</td>\n",
       "      <td>10.00</td>\n",
       "      <td>5</td>\n",
       "      <td>10.10</td>\n",
       "      <td>0.02</td>\n",
       "      <td>0.01</td>\n",
       "      <td>0.140</td>\n",
       "    </tr>\n",
       "  </tbody>\n",
       "</table>\n",
       "<p>2002 rows × 9 columns</p>\n",
       "</div>"
      ],
      "text/plain": [
       "      Area  PercImperv   Width  PercSlope  PctZero  TotalPrecip  TotalRunoffMG  PeakRunoff  RunoffCoeff\n",
       "7438  1.43        5.09  119.58      10.00       10         9.50           0.01        0.00        0.063\n",
       "9058  1.00        5.09  100.00      10.00       10         0.32           0.00        0.00        0.005\n",
       "568   0.77       30.00   87.75      15.00       80        10.10           0.04        0.03        0.462\n",
       "9344  0.60       15.00   77.46      30.00        5         0.32           0.00        0.00        0.007\n",
       "2236  1.39       30.00  117.90       5.09       80        38.33           0.44        0.30        0.820\n",
       "...    ...         ...     ...        ...      ...          ...            ...         ...          ...\n",
       "533   0.19       83.33   43.59      45.00       80        10.10           0.02        0.01        0.880\n",
       "132   1.36       65.00  116.62      61.67       80        10.10           0.10        0.09        0.761\n",
       "7329  0.30       10.00   54.77      20.00       10         9.50           0.00        0.00        0.127\n",
       "8466  1.25       65.00  111.80      61.67       80        12.67           0.12        0.04        0.772\n",
       "964   1.08       15.00  103.92      10.00        5        10.10           0.02        0.01        0.140\n",
       "\n",
       "[2002 rows x 9 columns]"
      ]
     },
     "execution_count": 256,
     "metadata": {},
     "output_type": "execute_result"
    }
   ],
   "source": [
    "X_test"
   ]
  },
  {
   "cell_type": "code",
   "execution_count": 257,
   "id": "96645d62",
   "metadata": {},
   "outputs": [
    {
     "name": "stdout",
     "output_type": "stream",
     "text": [
      "63/63 [==============================] - 0s 2ms/step\n"
     ]
    },
    {
     "data": {
      "text/plain": [
       "array([[0.0000000e+00, 1.0000000e+00, 2.1441476e-13, ..., 0.0000000e+00, 0.0000000e+00, 5.1129209e-23],\n",
       "       [0.0000000e+00, 1.0000000e+00, 3.7038948e-12, ..., 0.0000000e+00, 0.0000000e+00, 4.8140197e-24],\n",
       "       [3.3895907e-03, 1.0858879e-09, 3.8966184e-05, ..., 6.1264720e-05, 9.9453652e-01, 2.7511138e-12],\n",
       "       ...,\n",
       "       [0.0000000e+00, 9.9999416e-01, 5.8327605e-06, ..., 1.5853244e-33, 5.9536665e-35, 2.8382350e-11],\n",
       "       [0.0000000e+00, 0.0000000e+00, 0.0000000e+00, ..., 1.0000000e+00, 0.0000000e+00, 0.0000000e+00],\n",
       "       [3.7502542e-13, 2.1413781e-03, 3.0245493e-36, ..., 6.9643829e-07, 0.0000000e+00, 9.9785787e-01]], dtype=float32)"
      ]
     },
     "execution_count": 257,
     "metadata": {},
     "output_type": "execute_result"
    }
   ],
   "source": [
    "pred = model.predict(X_test)\n",
    "pred"
   ]
  }
 ],
 "metadata": {
  "kernelspec": {
   "display_name": "Python 3 (ipykernel)",
   "language": "python",
   "name": "python3"
  },
  "language_info": {
   "codemirror_mode": {
    "name": "ipython",
    "version": 3
   },
   "file_extension": ".py",
   "mimetype": "text/x-python",
   "name": "python",
   "nbconvert_exporter": "python",
   "pygments_lexer": "ipython3",
   "version": "3.10.2"
  }
 },
 "nbformat": 4,
 "nbformat_minor": 5
}
