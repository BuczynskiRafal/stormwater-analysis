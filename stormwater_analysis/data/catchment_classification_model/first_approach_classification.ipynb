{
 "cells": [
  {
   "attachments": {},
   "cell_type": "markdown",
   "id": "5a0b6d6a",
   "metadata": {},
   "source": [
    "<a target=\"_blank\" href=\"https://colab.research.google.com/github/BuczynskiRafal/stormwater-analysis/blob/main/stormwater_analysis/data/catchment_classification_model/first_approach_classification.ipynb\">"
   ]
  },
  {
   "cell_type": "markdown",
   "id": "6633bc45",
   "metadata": {},
   "source": [
    "<a target=\"_blank\" href=\"https://colab.research.google.com/github/BuczynskiRafal/stormwater-analysis/blob/main/stormwater_analysis/data/catchment_classification_model/first_approach_classification.ipynb\">\n",
    "    <img src=\"https://colab.research.google.com/assets/colab-badge.svg\" alt=\"Open In Colab\"/>\n",
    "</a>"
   ]
  },
  {
   "attachments": {},
   "cell_type": "markdown",
   "id": "203c68be-eb8f-49c1-8f55-d3929d447923",
   "metadata": {},
   "source": [
    "# Training a model for catchment classification. \n",
    "* kategoryzacja zlewni oparta o większość dostępnych ceech zlewni z plików inp i rpt"
   ]
  },
  {
   "attachments": {},
   "cell_type": "markdown",
   "id": "0ca5aa33-8a1f-41a9-9f45-44b2405dff6a",
   "metadata": {},
   "source": [
    "# Imports"
   ]
  },
  {
   "cell_type": "code",
   "execution_count": 1,
   "id": "36d5c0c3-e761-4ba6-9aab-f74dada646a3",
   "metadata": {},
   "outputs": [],
   "source": [
    "import swmmio\n",
    "import pyswmm\n",
    "import pandas as pd\n",
    "import numpy as np\n",
    "from sklearn.model_selection import train_test_split\n",
    "from tensorflow.keras.models import Sequential\n",
    "from tensorflow.keras.layers import Dense, Dropout\n",
    "from tensorflow.keras.callbacks import EarlyStopping\n",
    "from tensorflow.keras.layers.experimental import preprocessing\n",
    "\n",
    "\n",
    "desired_width = 500\n",
    "pd.set_option(\"display.width\", desired_width)\n",
    "np.set_printoptions(linewidth=desired_width)\n",
    "pd.set_option(\"display.max_columns\", 30)"
   ]
  },
  {
   "cell_type": "code",
   "execution_count": 2,
   "id": "93a421bf-75fd-46fa-b8a1-6277aa189444",
   "metadata": {
    "tags": []
   },
   "outputs": [
    {
     "data": {
      "text/html": [
       "<div>\n",
       "<style scoped>\n",
       "    .dataframe tbody tr th:only-of-type {\n",
       "        vertical-align: middle;\n",
       "    }\n",
       "\n",
       "    .dataframe tbody tr th {\n",
       "        vertical-align: top;\n",
       "    }\n",
       "\n",
       "    .dataframe thead th {\n",
       "        text-align: right;\n",
       "    }\n",
       "</style>\n",
       "<table border=\"1\" class=\"dataframe\">\n",
       "  <thead>\n",
       "    <tr style=\"text-align: right;\">\n",
       "      <th></th>\n",
       "      <th>classes</th>\n",
       "    </tr>\n",
       "  </thead>\n",
       "  <tbody>\n",
       "    <tr>\n",
       "      <th>0</th>\n",
       "      <td>compact_urban_development</td>\n",
       "    </tr>\n",
       "    <tr>\n",
       "      <th>1</th>\n",
       "      <td>urban</td>\n",
       "    </tr>\n",
       "    <tr>\n",
       "      <th>2</th>\n",
       "      <td>loose_urban_development</td>\n",
       "    </tr>\n",
       "    <tr>\n",
       "      <th>3</th>\n",
       "      <td>wooded_area</td>\n",
       "    </tr>\n",
       "    <tr>\n",
       "      <th>4</th>\n",
       "      <td>grassy</td>\n",
       "    </tr>\n",
       "    <tr>\n",
       "      <th>5</th>\n",
       "      <td>loose_soil</td>\n",
       "    </tr>\n",
       "    <tr>\n",
       "      <th>6</th>\n",
       "      <td>steep_area</td>\n",
       "    </tr>\n",
       "  </tbody>\n",
       "</table>\n",
       "</div>"
      ],
      "text/plain": [
       "                     classes\n",
       "0  compact_urban_development\n",
       "1                      urban\n",
       "2    loose_urban_development\n",
       "3                wooded_area\n",
       "4                     grassy\n",
       "5                 loose_soil\n",
       "6                 steep_area"
      ]
     },
     "execution_count": 2,
     "metadata": {},
     "output_type": "execute_result"
    }
   ],
   "source": [
    "classes = pd.DataFrame(\n",
    "    data={\n",
    "        \"classes\": [\n",
    "            \"compact_urban_development\",\n",
    "            \"urban\",\n",
    "            \"loose_urban_development\",\n",
    "            \"wooded_area\",\n",
    "            \"grassy\",\n",
    "            \"loose_soil\",\n",
    "            \"steep_area\",\n",
    "        ]\n",
    "    }\n",
    ")\n",
    "classes"
   ]
  },
  {
   "attachments": {},
   "cell_type": "markdown",
   "id": "4a70e679-858b-452c-b86f-5970de24452d",
   "metadata": {},
   "source": [
    "# Get files"
   ]
  },
  {
   "cell_type": "code",
   "execution_count": 3,
   "id": "33997e0f-4acc-4716-91a1-52529670ecdc",
   "metadata": {
    "tags": []
   },
   "outputs": [],
   "source": [
    "INP_FILE_01 = \"dataset/subcatchment_dataset_01.inp\"\n",
    "INP_FILE_02 = \"dataset/subcatchment_dataset_02.inp\"\n",
    "INP_FILE_03 = \"dataset/subcatchment_dataset_03.inp\"\n",
    "INP_FILE_04 = \"dataset/subcatchment_dataset_04.inp\"\n",
    "INP_FILE_05 = \"dataset/subcatchment_dataset_05.inp\"\n",
    "INP_FILE_06 = \"dataset/subcatchment_dataset_06.inp\"\n",
    "INP_FILE_07 = \"dataset/subcatchment_dataset_07.inp\"\n",
    "INP_FILE_08 = \"dataset/subcatchment_dataset_08.inp\"\n",
    "INP_FILE_09 = \"dataset/subcatchment_dataset_09.inp\"\n",
    "INP_FILE_10 = \"dataset/subcatchment_dataset_10.inp\"\n",
    "files = [INP_FILE_01, INP_FILE_02, INP_FILE_03, INP_FILE_04, INP_FILE_05, INP_FILE_06, INP_FILE_07, INP_FILE_08, INP_FILE_09, INP_FILE_10]"
   ]
  },
  {
   "attachments": {},
   "cell_type": "markdown",
   "id": "64f26c2a-8ea2-479f-afb4-a308ef9bd098",
   "metadata": {
    "tags": []
   },
   "source": [
    "# Run simulation"
   ]
  },
  {
   "cell_type": "code",
   "execution_count": 4,
   "id": "55ba70ee-57b6-4f10-ba31-1491cf3e5abd",
   "metadata": {
    "tags": []
   },
   "outputs": [],
   "source": [
    "for f in files:\n",
    "    with pyswmm.Simulation(f) as sim:\n",
    "        for step in sim:\n",
    "            pass"
   ]
  },
  {
   "attachments": {},
   "cell_type": "markdown",
   "id": "41a1e5e8-bc02-423b-be65-27525ff80744",
   "metadata": {
    "tags": []
   },
   "source": [
    "# Read inp and rpt file as swmmio model object"
   ]
  },
  {
   "cell_type": "code",
   "execution_count": 5,
   "id": "47c87820-5d5f-40d4-b47f-f1f9e3802551",
   "metadata": {
    "tags": []
   },
   "outputs": [],
   "source": [
    "model_01 = swmmio.Model(INP_FILE_01)\n",
    "model_02 = swmmio.Model(INP_FILE_02)\n",
    "model_03 = swmmio.Model(INP_FILE_03)\n",
    "model_04 = swmmio.Model(INP_FILE_04)\n",
    "model_05 = swmmio.Model(INP_FILE_05)\n",
    "model_06 = swmmio.Model(INP_FILE_06)\n",
    "model_07 = swmmio.Model(INP_FILE_07)\n",
    "model_08 = swmmio.Model(INP_FILE_08)\n",
    "model_09 = swmmio.Model(INP_FILE_09)\n",
    "model_10 = swmmio.Model(INP_FILE_10)\n",
    "\n",
    "models = [model_01, model_02, model_03, model_04, model_05, model_06, model_07, model_08, model_09, model_10]"
   ]
  },
  {
   "attachments": {},
   "cell_type": "markdown",
   "id": "509d6391-c4ac-462f-be8f-d39f57aa7666",
   "metadata": {
    "tags": []
   },
   "source": [
    "## Get subcatchments data from the model"
   ]
  },
  {
   "cell_type": "code",
   "execution_count": 6,
   "id": "3c34c355-f5c1-420f-a437-2223f8ff53e5",
   "metadata": {},
   "outputs": [],
   "source": [
    "raw_subcatchments_01 = model_01.subcatchments.dataframe\n",
    "raw_subcatchments_02 = model_02.subcatchments.dataframe\n",
    "raw_subcatchments_03 = model_03.subcatchments.dataframe\n",
    "raw_subcatchments_04 = model_04.subcatchments.dataframe\n",
    "raw_subcatchments_05 = model_05.subcatchments.dataframe\n",
    "raw_subcatchments_06 = model_06.subcatchments.dataframe\n",
    "raw_subcatchments_07 = model_07.subcatchments.dataframe\n",
    "raw_subcatchments_08 = model_08.subcatchments.dataframe\n",
    "raw_subcatchments_09 = model_09.subcatchments.dataframe\n",
    "raw_subcatchments_10 = model_10.subcatchments.dataframe\n",
    "\n",
    "subcatchments_01 = raw_subcatchments_01.copy()\n",
    "subcatchments_02 = raw_subcatchments_02.copy()\n",
    "subcatchments_03 = raw_subcatchments_03.copy()\n",
    "subcatchments_04 = raw_subcatchments_04.copy()\n",
    "subcatchments_05 = raw_subcatchments_05.copy()\n",
    "subcatchments_06 = raw_subcatchments_06.copy()\n",
    "subcatchments_07 = raw_subcatchments_07.copy()\n",
    "subcatchments_08 = raw_subcatchments_08.copy()\n",
    "subcatchments_09 = raw_subcatchments_09.copy()\n",
    "subcatchments_10 = raw_subcatchments_10.copy()\n",
    "\n",
    "subcatchments = [subcatchments_01, subcatchments_02, subcatchments_03, subcatchments_04, subcatchments_05, subcatchments_06, subcatchments_07, subcatchments_08, subcatchments_09, subcatchments_10]"
   ]
  },
  {
   "attachments": {},
   "cell_type": "markdown",
   "id": "90961230-f871-4f50-8d48-52f509304ec2",
   "metadata": {
    "tags": []
   },
   "source": [
    "### Drop unused columns"
   ]
  },
  {
   "cell_type": "code",
   "execution_count": 7,
   "id": "8d4bf621-5085-4641-a7c5-38460e68ab4b",
   "metadata": {
    "tags": []
   },
   "outputs": [],
   "source": [
    "for frame in subcatchments:\n",
    "    frame.drop(['N-Imperv', 'N-Perv', 'S-Imperv',\t'S-Perv', 'coords', 'RouteTo', 'CurbLength', 'Outlet', 'Raingage', 'TotalRunon', 'TotalEvap', 'TotalInfil', 'ImpervRunoff', 'PervRunoff', 'TotalRunoffIn'], axis=1, inplace=True)"
   ]
  },
  {
   "cell_type": "code",
   "execution_count": 8,
   "id": "2cc1d245",
   "metadata": {},
   "outputs": [
    {
     "data": {
      "text/html": [
       "<div>\n",
       "<style scoped>\n",
       "    .dataframe tbody tr th:only-of-type {\n",
       "        vertical-align: middle;\n",
       "    }\n",
       "\n",
       "    .dataframe tbody tr th {\n",
       "        vertical-align: top;\n",
       "    }\n",
       "\n",
       "    .dataframe thead th {\n",
       "        text-align: right;\n",
       "    }\n",
       "</style>\n",
       "<table border=\"1\" class=\"dataframe\">\n",
       "  <thead>\n",
       "    <tr style=\"text-align: right;\">\n",
       "      <th></th>\n",
       "      <th>Area</th>\n",
       "      <th>PercImperv</th>\n",
       "      <th>Width</th>\n",
       "      <th>PercSlope</th>\n",
       "      <th>PctZero</th>\n",
       "      <th>TotalPrecip</th>\n",
       "      <th>TotalRunoffMG</th>\n",
       "      <th>PeakRunoff</th>\n",
       "      <th>RunoffCoeff</th>\n",
       "    </tr>\n",
       "    <tr>\n",
       "      <th>Name</th>\n",
       "      <th></th>\n",
       "      <th></th>\n",
       "      <th></th>\n",
       "      <th></th>\n",
       "      <th></th>\n",
       "      <th></th>\n",
       "      <th></th>\n",
       "      <th></th>\n",
       "      <th></th>\n",
       "    </tr>\n",
       "  </thead>\n",
       "  <tbody>\n",
       "    <tr>\n",
       "      <th>S1</th>\n",
       "      <td>0.50</td>\n",
       "      <td>20.00</td>\n",
       "      <td>300.00</td>\n",
       "      <td>5.00</td>\n",
       "      <td>70</td>\n",
       "      <td>10.10</td>\n",
       "      <td>0.02</td>\n",
       "      <td>0.02</td>\n",
       "      <td>0.407</td>\n",
       "    </tr>\n",
       "    <tr>\n",
       "      <th>S10</th>\n",
       "      <td>1.87</td>\n",
       "      <td>45.00</td>\n",
       "      <td>136.75</td>\n",
       "      <td>15.00</td>\n",
       "      <td>90</td>\n",
       "      <td>10.10</td>\n",
       "      <td>0.11</td>\n",
       "      <td>0.09</td>\n",
       "      <td>0.587</td>\n",
       "    </tr>\n",
       "    <tr>\n",
       "      <th>S100</th>\n",
       "      <td>1.71</td>\n",
       "      <td>45.00</td>\n",
       "      <td>130.77</td>\n",
       "      <td>10.00</td>\n",
       "      <td>90</td>\n",
       "      <td>10.10</td>\n",
       "      <td>0.10</td>\n",
       "      <td>0.08</td>\n",
       "      <td>0.581</td>\n",
       "    </tr>\n",
       "    <tr>\n",
       "      <th>S1000</th>\n",
       "      <td>0.68</td>\n",
       "      <td>10.00</td>\n",
       "      <td>82.46</td>\n",
       "      <td>5.09</td>\n",
       "      <td>10</td>\n",
       "      <td>10.10</td>\n",
       "      <td>0.02</td>\n",
       "      <td>0.01</td>\n",
       "      <td>0.224</td>\n",
       "    </tr>\n",
       "    <tr>\n",
       "      <th>S1001</th>\n",
       "      <td>0.26</td>\n",
       "      <td>83.33</td>\n",
       "      <td>50.99</td>\n",
       "      <td>45.00</td>\n",
       "      <td>80</td>\n",
       "      <td>10.10</td>\n",
       "      <td>0.02</td>\n",
       "      <td>0.02</td>\n",
       "      <td>0.879</td>\n",
       "    </tr>\n",
       "  </tbody>\n",
       "</table>\n",
       "</div>"
      ],
      "text/plain": [
       "       Area  PercImperv   Width  PercSlope  PctZero TotalPrecip  TotalRunoffMG  PeakRunoff  RunoffCoeff\n",
       "Name                                                                                                   \n",
       "S1     0.50       20.00  300.00       5.00       70       10.10           0.02        0.02        0.407\n",
       "S10    1.87       45.00  136.75      15.00       90       10.10           0.11        0.09        0.587\n",
       "S100   1.71       45.00  130.77      10.00       90       10.10           0.10        0.08        0.581\n",
       "S1000  0.68       10.00   82.46       5.09       10       10.10           0.02        0.01        0.224\n",
       "S1001  0.26       83.33   50.99      45.00       80       10.10           0.02        0.02        0.879"
      ]
     },
     "execution_count": 8,
     "metadata": {},
     "output_type": "execute_result"
    }
   ],
   "source": [
    "subcatchments_01.iloc[:5, :]"
   ]
  },
  {
   "attachments": {},
   "cell_type": "markdown",
   "id": "aec10d49-c5c5-4d85-b88b-988292b3500b",
   "metadata": {},
   "source": [
    "## Get categories"
   ]
  },
  {
   "cell_type": "code",
   "execution_count": 9,
   "id": "16e17b13-3c2e-4475-96b5-1555b71d3e9c",
   "metadata": {
    "tags": []
   },
   "outputs": [
    {
     "data": {
      "text/html": [
       "<div>\n",
       "<style scoped>\n",
       "    .dataframe tbody tr th:only-of-type {\n",
       "        vertical-align: middle;\n",
       "    }\n",
       "\n",
       "    .dataframe tbody tr th {\n",
       "        vertical-align: top;\n",
       "    }\n",
       "\n",
       "    .dataframe thead th {\n",
       "        text-align: right;\n",
       "    }\n",
       "</style>\n",
       "<table border=\"1\" class=\"dataframe\">\n",
       "  <thead>\n",
       "    <tr style=\"text-align: right;\">\n",
       "      <th></th>\n",
       "      <th>Name</th>\n",
       "      <th>Tag</th>\n",
       "    </tr>\n",
       "    <tr>\n",
       "      <th>ElementType</th>\n",
       "      <th></th>\n",
       "      <th></th>\n",
       "    </tr>\n",
       "  </thead>\n",
       "  <tbody>\n",
       "    <tr>\n",
       "      <th>Subcatch</th>\n",
       "      <td>S1</td>\n",
       "      <td>loose_soil</td>\n",
       "    </tr>\n",
       "    <tr>\n",
       "      <th>Subcatch</th>\n",
       "      <td>S2</td>\n",
       "      <td>compact_urban_development</td>\n",
       "    </tr>\n",
       "    <tr>\n",
       "      <th>Subcatch</th>\n",
       "      <td>S3</td>\n",
       "      <td>loose_soil</td>\n",
       "    </tr>\n",
       "    <tr>\n",
       "      <th>Subcatch</th>\n",
       "      <td>S4</td>\n",
       "      <td>wooded_area</td>\n",
       "    </tr>\n",
       "    <tr>\n",
       "      <th>Subcatch</th>\n",
       "      <td>S5</td>\n",
       "      <td>loose_urban_development</td>\n",
       "    </tr>\n",
       "    <tr>\n",
       "      <th>...</th>\n",
       "      <td>...</td>\n",
       "      <td>...</td>\n",
       "    </tr>\n",
       "    <tr>\n",
       "      <th>Subcatch</th>\n",
       "      <td>S997</td>\n",
       "      <td>grassy</td>\n",
       "    </tr>\n",
       "    <tr>\n",
       "      <th>Subcatch</th>\n",
       "      <td>S998</td>\n",
       "      <td>steep_area</td>\n",
       "    </tr>\n",
       "    <tr>\n",
       "      <th>Subcatch</th>\n",
       "      <td>S999</td>\n",
       "      <td>urban</td>\n",
       "    </tr>\n",
       "    <tr>\n",
       "      <th>Subcatch</th>\n",
       "      <td>S1000</td>\n",
       "      <td>grassy</td>\n",
       "    </tr>\n",
       "    <tr>\n",
       "      <th>Subcatch</th>\n",
       "      <td>S1001</td>\n",
       "      <td>steep_area</td>\n",
       "    </tr>\n",
       "  </tbody>\n",
       "</table>\n",
       "<p>1001 rows × 2 columns</p>\n",
       "</div>"
      ],
      "text/plain": [
       "              Name                        Tag\n",
       "ElementType                                  \n",
       "Subcatch        S1                 loose_soil\n",
       "Subcatch        S2  compact_urban_development\n",
       "Subcatch        S3                 loose_soil\n",
       "Subcatch        S4                wooded_area\n",
       "Subcatch        S5    loose_urban_development\n",
       "...            ...                        ...\n",
       "Subcatch      S997                     grassy\n",
       "Subcatch      S998                 steep_area\n",
       "Subcatch      S999                      urban\n",
       "Subcatch     S1000                     grassy\n",
       "Subcatch     S1001                 steep_area\n",
       "\n",
       "[1001 rows x 2 columns]"
      ]
     },
     "execution_count": 9,
     "metadata": {},
     "output_type": "execute_result"
    }
   ],
   "source": [
    "categories_01 = model_01.inp.tags\n",
    "categories_02 = model_02.inp.tags\n",
    "categories_03 = model_03.inp.tags\n",
    "categories_04 = model_04.inp.tags\n",
    "categories_05 = model_05.inp.tags\n",
    "categories_06 = model_06.inp.tags\n",
    "categories_07 = model_07.inp.tags\n",
    "categories_08 = model_08.inp.tags\n",
    "categories_09 = model_09.inp.tags\n",
    "categories_10 = model_10.inp.tags\n",
    "categories_01"
   ]
  },
  {
   "attachments": {},
   "cell_type": "markdown",
   "id": "2909fc39-f2b9-4208-bd94-aff400908f83",
   "metadata": {},
   "source": [
    "### Add categories column to subcatchments DataFrame"
   ]
  },
  {
   "cell_type": "code",
   "execution_count": 10,
   "id": "c06fec91-94c5-4d36-ac9b-a9a7405bc95e",
   "metadata": {
    "tags": []
   },
   "outputs": [],
   "source": [
    "def merge_tag(subcatchment, model):\n",
    "    subcatchment.reset_index(inplace=True)\n",
    "    merged = subcatchment.merge(model.inp.tags, left_on=\"Name\", right_on=\"Name\", how=\"left\")\n",
    "    merged.rename(columns={\"Tag\": \"categories\"}, inplace=True)\n",
    "    merged.set_index(\"Name\", inplace=True)\n",
    "    return merged\n",
    "\n",
    "merged_df_01 = merge_tag(subcatchments_01, model_01)\n",
    "merged_df_02 = merge_tag(subcatchments_02, model_02)\n",
    "merged_df_03 = merge_tag(subcatchments_03, model_03)\n",
    "merged_df_04 = merge_tag(subcatchments_04, model_04)\n",
    "merged_df_05 = merge_tag(subcatchments_05, model_05)\n",
    "merged_df_06 = merge_tag(subcatchments_06, model_06)\n",
    "merged_df_07 = merge_tag(subcatchments_07, model_07)\n",
    "merged_df_08 = merge_tag(subcatchments_08, model_08)\n",
    "merged_df_09 = merge_tag(subcatchments_09, model_09)\n",
    "merged_df_10 = merge_tag(subcatchments_10, model_10)\n",
    "\n",
    "merged = [merged_df_01, merged_df_02, merged_df_03, merged_df_04, merged_df_05, merged_df_06, merged_df_07, merged_df_08, merged_df_09, merged_df_10]\n",
    "\n",
    "df = pd.concat(merged)\n",
    "df = df.reset_index(drop=True)"
   ]
  },
  {
   "cell_type": "code",
   "execution_count": 11,
   "id": "3e863959",
   "metadata": {},
   "outputs": [
    {
     "data": {
      "text/html": [
       "<div>\n",
       "<style scoped>\n",
       "    .dataframe tbody tr th:only-of-type {\n",
       "        vertical-align: middle;\n",
       "    }\n",
       "\n",
       "    .dataframe tbody tr th {\n",
       "        vertical-align: top;\n",
       "    }\n",
       "\n",
       "    .dataframe thead th {\n",
       "        text-align: right;\n",
       "    }\n",
       "</style>\n",
       "<table border=\"1\" class=\"dataframe\">\n",
       "  <thead>\n",
       "    <tr style=\"text-align: right;\">\n",
       "      <th></th>\n",
       "      <th>Area</th>\n",
       "      <th>PercImperv</th>\n",
       "      <th>Width</th>\n",
       "      <th>PercSlope</th>\n",
       "      <th>PctZero</th>\n",
       "      <th>TotalPrecip</th>\n",
       "      <th>TotalRunoffMG</th>\n",
       "      <th>PeakRunoff</th>\n",
       "      <th>RunoffCoeff</th>\n",
       "      <th>categories</th>\n",
       "    </tr>\n",
       "  </thead>\n",
       "  <tbody>\n",
       "    <tr>\n",
       "      <th>0</th>\n",
       "      <td>0.50</td>\n",
       "      <td>20.00</td>\n",
       "      <td>300.00</td>\n",
       "      <td>5.00</td>\n",
       "      <td>70</td>\n",
       "      <td>10.10</td>\n",
       "      <td>0.02</td>\n",
       "      <td>0.02</td>\n",
       "      <td>0.407</td>\n",
       "      <td>loose_soil</td>\n",
       "    </tr>\n",
       "    <tr>\n",
       "      <th>1</th>\n",
       "      <td>1.87</td>\n",
       "      <td>45.00</td>\n",
       "      <td>136.75</td>\n",
       "      <td>15.00</td>\n",
       "      <td>90</td>\n",
       "      <td>10.10</td>\n",
       "      <td>0.11</td>\n",
       "      <td>0.09</td>\n",
       "      <td>0.587</td>\n",
       "      <td>compact_urban_development</td>\n",
       "    </tr>\n",
       "    <tr>\n",
       "      <th>2</th>\n",
       "      <td>1.71</td>\n",
       "      <td>45.00</td>\n",
       "      <td>130.77</td>\n",
       "      <td>10.00</td>\n",
       "      <td>90</td>\n",
       "      <td>10.10</td>\n",
       "      <td>0.10</td>\n",
       "      <td>0.08</td>\n",
       "      <td>0.581</td>\n",
       "      <td>compact_urban_development</td>\n",
       "    </tr>\n",
       "    <tr>\n",
       "      <th>3</th>\n",
       "      <td>0.68</td>\n",
       "      <td>10.00</td>\n",
       "      <td>82.46</td>\n",
       "      <td>5.09</td>\n",
       "      <td>10</td>\n",
       "      <td>10.10</td>\n",
       "      <td>0.02</td>\n",
       "      <td>0.01</td>\n",
       "      <td>0.224</td>\n",
       "      <td>grassy</td>\n",
       "    </tr>\n",
       "    <tr>\n",
       "      <th>4</th>\n",
       "      <td>0.26</td>\n",
       "      <td>83.33</td>\n",
       "      <td>50.99</td>\n",
       "      <td>45.00</td>\n",
       "      <td>80</td>\n",
       "      <td>10.10</td>\n",
       "      <td>0.02</td>\n",
       "      <td>0.02</td>\n",
       "      <td>0.879</td>\n",
       "      <td>steep_area</td>\n",
       "    </tr>\n",
       "  </tbody>\n",
       "</table>\n",
       "</div>"
      ],
      "text/plain": [
       "   Area  PercImperv   Width  PercSlope  PctZero TotalPrecip  TotalRunoffMG  PeakRunoff  RunoffCoeff                 categories\n",
       "0  0.50       20.00  300.00       5.00       70       10.10           0.02        0.02        0.407                 loose_soil\n",
       "1  1.87       45.00  136.75      15.00       90       10.10           0.11        0.09        0.587  compact_urban_development\n",
       "2  1.71       45.00  130.77      10.00       90       10.10           0.10        0.08        0.581  compact_urban_development\n",
       "3  0.68       10.00   82.46       5.09       10       10.10           0.02        0.01        0.224                     grassy\n",
       "4  0.26       83.33   50.99      45.00       80       10.10           0.02        0.02        0.879                 steep_area"
      ]
     },
     "execution_count": 11,
     "metadata": {},
     "output_type": "execute_result"
    }
   ],
   "source": [
    "df.head()"
   ]
  },
  {
   "attachments": {},
   "cell_type": "markdown",
   "id": "0c7ad132-617d-4508-9efa-e311405f847b",
   "metadata": {},
   "source": [
    "### Split data into features and target"
   ]
  },
  {
   "cell_type": "code",
   "execution_count": 12,
   "id": "e931b316-d970-44d2-aa57-d652176e7598",
   "metadata": {
    "tags": []
   },
   "outputs": [
    {
     "name": "stdout",
     "output_type": "stream",
     "text": [
      "(8008, 9) (8008, 7)\n",
      "(2002, 9) (2002, 7)\n"
     ]
    }
   ],
   "source": [
    "X = df.drop('categories', axis=1)\n",
    "y = df['categories']\n",
    "\n",
    "X[\"TotalPrecip\"] = pd.to_numeric(X[\"TotalPrecip\"])\n",
    "# X[\"TotalRunon\"] = pd.to_numeric(X[\"TotalRunon\"])\n",
    "# X[\"TotalEvap\"] = pd.to_numeric(X[\"TotalEvap\"])\n",
    "# X[\"TotalInfil\"] = pd.to_numeric(X[\"TotalInfil\"])\n",
    "# X[\"PervRunoff\"] = pd.to_numeric(X[\"PervRunoff\"])\n",
    "# X[\"ImpervRunoff\"] = pd.to_numeric(X[\"ImpervRunoff\"])\n",
    "\n",
    "X_train, X_test, y_train, y_test = train_test_split(X, y, test_size=0.2, random_state=42)\n",
    "\n",
    "y_train = pd.get_dummies(y_train)\n",
    "y_test = pd.get_dummies(y_test)\n",
    "\n",
    "print(X_train.shape, y_train.shape)\n",
    "print(X_test.shape, y_test.shape)"
   ]
  },
  {
   "cell_type": "code",
   "execution_count": 13,
   "id": "891f98c9",
   "metadata": {},
   "outputs": [
    {
     "name": "stdout",
     "output_type": "stream",
     "text": [
      "<class 'pandas.core.frame.DataFrame'>\n",
      "Int64Index: 8008 entries, 2270 to 7270\n",
      "Data columns (total 9 columns):\n",
      " #   Column         Non-Null Count  Dtype  \n",
      "---  ------         --------------  -----  \n",
      " 0   Area           8008 non-null   float64\n",
      " 1   PercImperv     8008 non-null   float64\n",
      " 2   Width          8008 non-null   float64\n",
      " 3   PercSlope      8008 non-null   float64\n",
      " 4   PctZero        8008 non-null   int64  \n",
      " 5   TotalPrecip    8008 non-null   float64\n",
      " 6   TotalRunoffMG  8008 non-null   float64\n",
      " 7   PeakRunoff     8008 non-null   float64\n",
      " 8   RunoffCoeff    8008 non-null   float64\n",
      "dtypes: float64(8), int64(1)\n",
      "memory usage: 625.6 KB\n"
     ]
    }
   ],
   "source": [
    "X_train.info()"
   ]
  },
  {
   "cell_type": "code",
   "execution_count": 14,
   "id": "7c30f37c",
   "metadata": {},
   "outputs": [
    {
     "data": {
      "text/html": [
       "<div>\n",
       "<style scoped>\n",
       "    .dataframe tbody tr th:only-of-type {\n",
       "        vertical-align: middle;\n",
       "    }\n",
       "\n",
       "    .dataframe tbody tr th {\n",
       "        vertical-align: top;\n",
       "    }\n",
       "\n",
       "    .dataframe thead th {\n",
       "        text-align: right;\n",
       "    }\n",
       "</style>\n",
       "<table border=\"1\" class=\"dataframe\">\n",
       "  <thead>\n",
       "    <tr style=\"text-align: right;\">\n",
       "      <th></th>\n",
       "      <th>Area</th>\n",
       "      <th>PercImperv</th>\n",
       "      <th>Width</th>\n",
       "      <th>PercSlope</th>\n",
       "      <th>PctZero</th>\n",
       "      <th>TotalPrecip</th>\n",
       "      <th>TotalRunoffMG</th>\n",
       "      <th>PeakRunoff</th>\n",
       "      <th>RunoffCoeff</th>\n",
       "    </tr>\n",
       "  </thead>\n",
       "  <tbody>\n",
       "    <tr>\n",
       "      <th>2270</th>\n",
       "      <td>0.02</td>\n",
       "      <td>10.00</td>\n",
       "      <td>14.14</td>\n",
       "      <td>20.00</td>\n",
       "      <td>10</td>\n",
       "      <td>38.33</td>\n",
       "      <td>0.01</td>\n",
       "      <td>0.01</td>\n",
       "      <td>0.825</td>\n",
       "    </tr>\n",
       "    <tr>\n",
       "      <th>8668</th>\n",
       "      <td>1.87</td>\n",
       "      <td>10.00</td>\n",
       "      <td>136.75</td>\n",
       "      <td>20.00</td>\n",
       "      <td>10</td>\n",
       "      <td>12.67</td>\n",
       "      <td>0.06</td>\n",
       "      <td>0.01</td>\n",
       "      <td>0.256</td>\n",
       "    </tr>\n",
       "    <tr>\n",
       "      <th>8293</th>\n",
       "      <td>0.81</td>\n",
       "      <td>10.00</td>\n",
       "      <td>90.00</td>\n",
       "      <td>20.00</td>\n",
       "      <td>10</td>\n",
       "      <td>12.67</td>\n",
       "      <td>0.03</td>\n",
       "      <td>0.01</td>\n",
       "      <td>0.280</td>\n",
       "    </tr>\n",
       "    <tr>\n",
       "      <th>7868</th>\n",
       "      <td>1.46</td>\n",
       "      <td>10.00</td>\n",
       "      <td>120.83</td>\n",
       "      <td>5.09</td>\n",
       "      <td>10</td>\n",
       "      <td>9.50</td>\n",
       "      <td>0.01</td>\n",
       "      <td>0.00</td>\n",
       "      <td>0.101</td>\n",
       "    </tr>\n",
       "    <tr>\n",
       "      <th>1095</th>\n",
       "      <td>1.61</td>\n",
       "      <td>5.09</td>\n",
       "      <td>126.89</td>\n",
       "      <td>15.00</td>\n",
       "      <td>10</td>\n",
       "      <td>20.00</td>\n",
       "      <td>0.19</td>\n",
       "      <td>0.14</td>\n",
       "      <td>0.590</td>\n",
       "    </tr>\n",
       "    <tr>\n",
       "      <th>3131</th>\n",
       "      <td>0.58</td>\n",
       "      <td>15.00</td>\n",
       "      <td>76.16</td>\n",
       "      <td>30.00</td>\n",
       "      <td>5</td>\n",
       "      <td>15.00</td>\n",
       "      <td>0.02</td>\n",
       "      <td>0.01</td>\n",
       "      <td>0.259</td>\n",
       "    </tr>\n",
       "    <tr>\n",
       "      <th>8116</th>\n",
       "      <td>1.96</td>\n",
       "      <td>10.00</td>\n",
       "      <td>140.00</td>\n",
       "      <td>5.09</td>\n",
       "      <td>10</td>\n",
       "      <td>12.67</td>\n",
       "      <td>0.05</td>\n",
       "      <td>0.01</td>\n",
       "      <td>0.214</td>\n",
       "    </tr>\n",
       "    <tr>\n",
       "      <th>1561</th>\n",
       "      <td>0.89</td>\n",
       "      <td>5.09</td>\n",
       "      <td>94.34</td>\n",
       "      <td>15.00</td>\n",
       "      <td>10</td>\n",
       "      <td>20.00</td>\n",
       "      <td>0.11</td>\n",
       "      <td>0.09</td>\n",
       "      <td>0.606</td>\n",
       "    </tr>\n",
       "    <tr>\n",
       "      <th>1670</th>\n",
       "      <td>1.52</td>\n",
       "      <td>65.00</td>\n",
       "      <td>123.29</td>\n",
       "      <td>61.67</td>\n",
       "      <td>80</td>\n",
       "      <td>20.00</td>\n",
       "      <td>0.27</td>\n",
       "      <td>0.21</td>\n",
       "      <td>0.879</td>\n",
       "    </tr>\n",
       "    <tr>\n",
       "      <th>9951</th>\n",
       "      <td>1.68</td>\n",
       "      <td>45.00</td>\n",
       "      <td>129.61</td>\n",
       "      <td>5.09</td>\n",
       "      <td>90</td>\n",
       "      <td>0.32</td>\n",
       "      <td>0.00</td>\n",
       "      <td>0.00</td>\n",
       "      <td>0.403</td>\n",
       "    </tr>\n",
       "    <tr>\n",
       "      <th>4553</th>\n",
       "      <td>1.90</td>\n",
       "      <td>15.00</td>\n",
       "      <td>137.84</td>\n",
       "      <td>5.09</td>\n",
       "      <td>5</td>\n",
       "      <td>3.17</td>\n",
       "      <td>0.01</td>\n",
       "      <td>0.00</td>\n",
       "      <td>0.090</td>\n",
       "    </tr>\n",
       "    <tr>\n",
       "      <th>4113</th>\n",
       "      <td>0.43</td>\n",
       "      <td>10.00</td>\n",
       "      <td>65.57</td>\n",
       "      <td>20.00</td>\n",
       "      <td>10</td>\n",
       "      <td>3.17</td>\n",
       "      <td>0.00</td>\n",
       "      <td>0.00</td>\n",
       "      <td>0.064</td>\n",
       "    </tr>\n",
       "    <tr>\n",
       "      <th>4394</th>\n",
       "      <td>1.34</td>\n",
       "      <td>10.00</td>\n",
       "      <td>115.76</td>\n",
       "      <td>2.33</td>\n",
       "      <td>10</td>\n",
       "      <td>3.17</td>\n",
       "      <td>0.00</td>\n",
       "      <td>0.00</td>\n",
       "      <td>0.064</td>\n",
       "    </tr>\n",
       "    <tr>\n",
       "      <th>4631</th>\n",
       "      <td>1.35</td>\n",
       "      <td>2.33</td>\n",
       "      <td>116.19</td>\n",
       "      <td>2.33</td>\n",
       "      <td>10</td>\n",
       "      <td>3.17</td>\n",
       "      <td>0.00</td>\n",
       "      <td>0.00</td>\n",
       "      <td>0.015</td>\n",
       "    </tr>\n",
       "    <tr>\n",
       "      <th>3527</th>\n",
       "      <td>1.78</td>\n",
       "      <td>10.00</td>\n",
       "      <td>133.42</td>\n",
       "      <td>20.00</td>\n",
       "      <td>10</td>\n",
       "      <td>15.00</td>\n",
       "      <td>0.10</td>\n",
       "      <td>0.02</td>\n",
       "      <td>0.358</td>\n",
       "    </tr>\n",
       "    <tr>\n",
       "      <th>2002</th>\n",
       "      <td>0.50</td>\n",
       "      <td>20.00</td>\n",
       "      <td>300.00</td>\n",
       "      <td>5.00</td>\n",
       "      <td>70</td>\n",
       "      <td>38.33</td>\n",
       "      <td>0.16</td>\n",
       "      <td>0.13</td>\n",
       "      <td>0.832</td>\n",
       "    </tr>\n",
       "    <tr>\n",
       "      <th>9572</th>\n",
       "      <td>0.48</td>\n",
       "      <td>83.33</td>\n",
       "      <td>69.28</td>\n",
       "      <td>45.00</td>\n",
       "      <td>80</td>\n",
       "      <td>0.32</td>\n",
       "      <td>0.00</td>\n",
       "      <td>0.00</td>\n",
       "      <td>0.668</td>\n",
       "    </tr>\n",
       "    <tr>\n",
       "      <th>168</th>\n",
       "      <td>0.96</td>\n",
       "      <td>10.00</td>\n",
       "      <td>97.98</td>\n",
       "      <td>20.00</td>\n",
       "      <td>10</td>\n",
       "      <td>10.10</td>\n",
       "      <td>0.02</td>\n",
       "      <td>0.02</td>\n",
       "      <td>0.257</td>\n",
       "    </tr>\n",
       "    <tr>\n",
       "      <th>3465</th>\n",
       "      <td>1.60</td>\n",
       "      <td>5.09</td>\n",
       "      <td>126.49</td>\n",
       "      <td>10.00</td>\n",
       "      <td>10</td>\n",
       "      <td>15.00</td>\n",
       "      <td>0.07</td>\n",
       "      <td>0.02</td>\n",
       "      <td>0.302</td>\n",
       "    </tr>\n",
       "    <tr>\n",
       "      <th>9516</th>\n",
       "      <td>1.32</td>\n",
       "      <td>65.00</td>\n",
       "      <td>114.89</td>\n",
       "      <td>61.67</td>\n",
       "      <td>80</td>\n",
       "      <td>0.32</td>\n",
       "      <td>0.00</td>\n",
       "      <td>0.00</td>\n",
       "      <td>0.520</td>\n",
       "    </tr>\n",
       "    <tr>\n",
       "      <th>9539</th>\n",
       "      <td>1.55</td>\n",
       "      <td>65.00</td>\n",
       "      <td>124.50</td>\n",
       "      <td>61.67</td>\n",
       "      <td>80</td>\n",
       "      <td>0.32</td>\n",
       "      <td>0.00</td>\n",
       "      <td>0.00</td>\n",
       "      <td>0.520</td>\n",
       "    </tr>\n",
       "    <tr>\n",
       "      <th>2133</th>\n",
       "      <td>0.67</td>\n",
       "      <td>65.00</td>\n",
       "      <td>81.85</td>\n",
       "      <td>61.67</td>\n",
       "      <td>80</td>\n",
       "      <td>38.33</td>\n",
       "      <td>0.24</td>\n",
       "      <td>0.18</td>\n",
       "      <td>0.941</td>\n",
       "    </tr>\n",
       "    <tr>\n",
       "      <th>4421</th>\n",
       "      <td>1.20</td>\n",
       "      <td>2.33</td>\n",
       "      <td>109.54</td>\n",
       "      <td>2.33</td>\n",
       "      <td>10</td>\n",
       "      <td>3.17</td>\n",
       "      <td>0.00</td>\n",
       "      <td>0.00</td>\n",
       "      <td>0.015</td>\n",
       "    </tr>\n",
       "    <tr>\n",
       "      <th>2036</th>\n",
       "      <td>1.41</td>\n",
       "      <td>22.50</td>\n",
       "      <td>118.74</td>\n",
       "      <td>2.33</td>\n",
       "      <td>70</td>\n",
       "      <td>38.33</td>\n",
       "      <td>0.41</td>\n",
       "      <td>0.20</td>\n",
       "      <td>0.750</td>\n",
       "    </tr>\n",
       "    <tr>\n",
       "      <th>7536</th>\n",
       "      <td>1.01</td>\n",
       "      <td>45.00</td>\n",
       "      <td>100.50</td>\n",
       "      <td>5.09</td>\n",
       "      <td>90</td>\n",
       "      <td>9.50</td>\n",
       "      <td>0.05</td>\n",
       "      <td>0.01</td>\n",
       "      <td>0.475</td>\n",
       "    </tr>\n",
       "    <tr>\n",
       "      <th>7442</th>\n",
       "      <td>1.79</td>\n",
       "      <td>45.00</td>\n",
       "      <td>133.79</td>\n",
       "      <td>10.00</td>\n",
       "      <td>90</td>\n",
       "      <td>9.50</td>\n",
       "      <td>0.08</td>\n",
       "      <td>0.02</td>\n",
       "      <td>0.476</td>\n",
       "    </tr>\n",
       "    <tr>\n",
       "      <th>3378</th>\n",
       "      <td>1.83</td>\n",
       "      <td>65.00</td>\n",
       "      <td>135.28</td>\n",
       "      <td>61.67</td>\n",
       "      <td>80</td>\n",
       "      <td>15.00</td>\n",
       "      <td>0.22</td>\n",
       "      <td>0.08</td>\n",
       "      <td>0.811</td>\n",
       "    </tr>\n",
       "    <tr>\n",
       "      <th>5982</th>\n",
       "      <td>1.65</td>\n",
       "      <td>65.00</td>\n",
       "      <td>128.45</td>\n",
       "      <td>61.67</td>\n",
       "      <td>80</td>\n",
       "      <td>1.58</td>\n",
       "      <td>0.01</td>\n",
       "      <td>0.00</td>\n",
       "      <td>0.549</td>\n",
       "    </tr>\n",
       "    <tr>\n",
       "      <th>8103</th>\n",
       "      <td>0.35</td>\n",
       "      <td>10.00</td>\n",
       "      <td>59.16</td>\n",
       "      <td>15.00</td>\n",
       "      <td>10</td>\n",
       "      <td>12.67</td>\n",
       "      <td>0.01</td>\n",
       "      <td>0.00</td>\n",
       "      <td>0.294</td>\n",
       "    </tr>\n",
       "    <tr>\n",
       "      <th>2960</th>\n",
       "      <td>0.33</td>\n",
       "      <td>5.09</td>\n",
       "      <td>57.45</td>\n",
       "      <td>10.00</td>\n",
       "      <td>10</td>\n",
       "      <td>38.33</td>\n",
       "      <td>0.10</td>\n",
       "      <td>0.07</td>\n",
       "      <td>0.765</td>\n",
       "    </tr>\n",
       "    <tr>\n",
       "      <th>4011</th>\n",
       "      <td>1.92</td>\n",
       "      <td>5.09</td>\n",
       "      <td>138.56</td>\n",
       "      <td>15.00</td>\n",
       "      <td>10</td>\n",
       "      <td>3.17</td>\n",
       "      <td>0.00</td>\n",
       "      <td>0.00</td>\n",
       "      <td>0.033</td>\n",
       "    </tr>\n",
       "    <tr>\n",
       "      <th>6180</th>\n",
       "      <td>0.49</td>\n",
       "      <td>5.09</td>\n",
       "      <td>70.00</td>\n",
       "      <td>15.00</td>\n",
       "      <td>10</td>\n",
       "      <td>6.33</td>\n",
       "      <td>0.00</td>\n",
       "      <td>0.00</td>\n",
       "      <td>0.044</td>\n",
       "    </tr>\n",
       "    <tr>\n",
       "      <th>210</th>\n",
       "      <td>1.30</td>\n",
       "      <td>15.00</td>\n",
       "      <td>114.02</td>\n",
       "      <td>5.09</td>\n",
       "      <td>5</td>\n",
       "      <td>10.10</td>\n",
       "      <td>0.02</td>\n",
       "      <td>0.01</td>\n",
       "      <td>0.137</td>\n",
       "    </tr>\n",
       "    <tr>\n",
       "      <th>8626</th>\n",
       "      <td>0.37</td>\n",
       "      <td>15.00</td>\n",
       "      <td>60.83</td>\n",
       "      <td>30.00</td>\n",
       "      <td>5</td>\n",
       "      <td>12.67</td>\n",
       "      <td>0.01</td>\n",
       "      <td>0.00</td>\n",
       "      <td>0.169</td>\n",
       "    </tr>\n",
       "    <tr>\n",
       "      <th>1919</th>\n",
       "      <td>1.17</td>\n",
       "      <td>22.50</td>\n",
       "      <td>108.17</td>\n",
       "      <td>10.00</td>\n",
       "      <td>70</td>\n",
       "      <td>20.00</td>\n",
       "      <td>0.15</td>\n",
       "      <td>0.08</td>\n",
       "      <td>0.624</td>\n",
       "    </tr>\n",
       "    <tr>\n",
       "      <th>718</th>\n",
       "      <td>1.84</td>\n",
       "      <td>10.00</td>\n",
       "      <td>135.65</td>\n",
       "      <td>5.09</td>\n",
       "      <td>10</td>\n",
       "      <td>10.10</td>\n",
       "      <td>0.04</td>\n",
       "      <td>0.02</td>\n",
       "      <td>0.192</td>\n",
       "    </tr>\n",
       "    <tr>\n",
       "      <th>5327</th>\n",
       "      <td>0.30</td>\n",
       "      <td>10.00</td>\n",
       "      <td>54.77</td>\n",
       "      <td>20.00</td>\n",
       "      <td>10</td>\n",
       "      <td>1.58</td>\n",
       "      <td>0.00</td>\n",
       "      <td>0.00</td>\n",
       "      <td>0.028</td>\n",
       "    </tr>\n",
       "    <tr>\n",
       "      <th>9985</th>\n",
       "      <td>1.17</td>\n",
       "      <td>2.33</td>\n",
       "      <td>108.17</td>\n",
       "      <td>2.33</td>\n",
       "      <td>10</td>\n",
       "      <td>0.32</td>\n",
       "      <td>0.00</td>\n",
       "      <td>0.00</td>\n",
       "      <td>0.002</td>\n",
       "    </tr>\n",
       "    <tr>\n",
       "      <th>1298</th>\n",
       "      <td>1.22</td>\n",
       "      <td>10.00</td>\n",
       "      <td>110.45</td>\n",
       "      <td>5.09</td>\n",
       "      <td>10</td>\n",
       "      <td>20.00</td>\n",
       "      <td>0.13</td>\n",
       "      <td>0.06</td>\n",
       "      <td>0.521</td>\n",
       "    </tr>\n",
       "    <tr>\n",
       "      <th>4441</th>\n",
       "      <td>0.83</td>\n",
       "      <td>5.09</td>\n",
       "      <td>91.10</td>\n",
       "      <td>10.00</td>\n",
       "      <td>10</td>\n",
       "      <td>3.17</td>\n",
       "      <td>0.00</td>\n",
       "      <td>0.00</td>\n",
       "      <td>0.033</td>\n",
       "    </tr>\n",
       "    <tr>\n",
       "      <th>6495</th>\n",
       "      <td>0.92</td>\n",
       "      <td>22.50</td>\n",
       "      <td>95.92</td>\n",
       "      <td>5.09</td>\n",
       "      <td>70</td>\n",
       "      <td>6.33</td>\n",
       "      <td>0.01</td>\n",
       "      <td>0.00</td>\n",
       "      <td>0.216</td>\n",
       "    </tr>\n",
       "    <tr>\n",
       "      <th>9597</th>\n",
       "      <td>0.30</td>\n",
       "      <td>83.33</td>\n",
       "      <td>54.77</td>\n",
       "      <td>45.00</td>\n",
       "      <td>80</td>\n",
       "      <td>0.32</td>\n",
       "      <td>0.00</td>\n",
       "      <td>0.00</td>\n",
       "      <td>0.668</td>\n",
       "    </tr>\n",
       "    <tr>\n",
       "      <th>8042</th>\n",
       "      <td>1.41</td>\n",
       "      <td>22.50</td>\n",
       "      <td>118.74</td>\n",
       "      <td>2.33</td>\n",
       "      <td>70</td>\n",
       "      <td>12.67</td>\n",
       "      <td>0.06</td>\n",
       "      <td>0.01</td>\n",
       "      <td>0.324</td>\n",
       "    </tr>\n",
       "    <tr>\n",
       "      <th>3903</th>\n",
       "      <td>0.30</td>\n",
       "      <td>45.00</td>\n",
       "      <td>54.77</td>\n",
       "      <td>10.00</td>\n",
       "      <td>90</td>\n",
       "      <td>15.00</td>\n",
       "      <td>0.03</td>\n",
       "      <td>0.01</td>\n",
       "      <td>0.684</td>\n",
       "    </tr>\n",
       "    <tr>\n",
       "      <th>9934</th>\n",
       "      <td>1.38</td>\n",
       "      <td>15.00</td>\n",
       "      <td>117.47</td>\n",
       "      <td>10.00</td>\n",
       "      <td>5</td>\n",
       "      <td>0.32</td>\n",
       "      <td>0.00</td>\n",
       "      <td>0.00</td>\n",
       "      <td>0.007</td>\n",
       "    </tr>\n",
       "    <tr>\n",
       "      <th>3790</th>\n",
       "      <td>0.19</td>\n",
       "      <td>5.09</td>\n",
       "      <td>43.59</td>\n",
       "      <td>15.00</td>\n",
       "      <td>10</td>\n",
       "      <td>15.00</td>\n",
       "      <td>0.01</td>\n",
       "      <td>0.00</td>\n",
       "      <td>0.419</td>\n",
       "    </tr>\n",
       "    <tr>\n",
       "      <th>4074</th>\n",
       "      <td>1.07</td>\n",
       "      <td>5.09</td>\n",
       "      <td>103.44</td>\n",
       "      <td>15.00</td>\n",
       "      <td>10</td>\n",
       "      <td>3.17</td>\n",
       "      <td>0.00</td>\n",
       "      <td>0.00</td>\n",
       "      <td>0.033</td>\n",
       "    </tr>\n",
       "    <tr>\n",
       "      <th>1287</th>\n",
       "      <td>1.52</td>\n",
       "      <td>30.00</td>\n",
       "      <td>123.29</td>\n",
       "      <td>5.09</td>\n",
       "      <td>80</td>\n",
       "      <td>20.00</td>\n",
       "      <td>0.20</td>\n",
       "      <td>0.13</td>\n",
       "      <td>0.670</td>\n",
       "    </tr>\n",
       "    <tr>\n",
       "      <th>8999</th>\n",
       "      <td>0.35</td>\n",
       "      <td>45.00</td>\n",
       "      <td>59.16</td>\n",
       "      <td>15.00</td>\n",
       "      <td>90</td>\n",
       "      <td>12.67</td>\n",
       "      <td>0.03</td>\n",
       "      <td>0.01</td>\n",
       "      <td>0.623</td>\n",
       "    </tr>\n",
       "    <tr>\n",
       "      <th>6388</th>\n",
       "      <td>0.84</td>\n",
       "      <td>30.00</td>\n",
       "      <td>91.65</td>\n",
       "      <td>5.09</td>\n",
       "      <td>80</td>\n",
       "      <td>6.33</td>\n",
       "      <td>0.02</td>\n",
       "      <td>0.00</td>\n",
       "      <td>0.293</td>\n",
       "    </tr>\n",
       "  </tbody>\n",
       "</table>\n",
       "</div>"
      ],
      "text/plain": [
       "      Area  PercImperv   Width  PercSlope  PctZero  TotalPrecip  TotalRunoffMG  PeakRunoff  RunoffCoeff\n",
       "2270  0.02       10.00   14.14      20.00       10        38.33           0.01        0.01        0.825\n",
       "8668  1.87       10.00  136.75      20.00       10        12.67           0.06        0.01        0.256\n",
       "8293  0.81       10.00   90.00      20.00       10        12.67           0.03        0.01        0.280\n",
       "7868  1.46       10.00  120.83       5.09       10         9.50           0.01        0.00        0.101\n",
       "1095  1.61        5.09  126.89      15.00       10        20.00           0.19        0.14        0.590\n",
       "3131  0.58       15.00   76.16      30.00        5        15.00           0.02        0.01        0.259\n",
       "8116  1.96       10.00  140.00       5.09       10        12.67           0.05        0.01        0.214\n",
       "1561  0.89        5.09   94.34      15.00       10        20.00           0.11        0.09        0.606\n",
       "1670  1.52       65.00  123.29      61.67       80        20.00           0.27        0.21        0.879\n",
       "9951  1.68       45.00  129.61       5.09       90         0.32           0.00        0.00        0.403\n",
       "4553  1.90       15.00  137.84       5.09        5         3.17           0.01        0.00        0.090\n",
       "4113  0.43       10.00   65.57      20.00       10         3.17           0.00        0.00        0.064\n",
       "4394  1.34       10.00  115.76       2.33       10         3.17           0.00        0.00        0.064\n",
       "4631  1.35        2.33  116.19       2.33       10         3.17           0.00        0.00        0.015\n",
       "3527  1.78       10.00  133.42      20.00       10        15.00           0.10        0.02        0.358\n",
       "2002  0.50       20.00  300.00       5.00       70        38.33           0.16        0.13        0.832\n",
       "9572  0.48       83.33   69.28      45.00       80         0.32           0.00        0.00        0.668\n",
       "168   0.96       10.00   97.98      20.00       10        10.10           0.02        0.02        0.257\n",
       "3465  1.60        5.09  126.49      10.00       10        15.00           0.07        0.02        0.302\n",
       "9516  1.32       65.00  114.89      61.67       80         0.32           0.00        0.00        0.520\n",
       "9539  1.55       65.00  124.50      61.67       80         0.32           0.00        0.00        0.520\n",
       "2133  0.67       65.00   81.85      61.67       80        38.33           0.24        0.18        0.941\n",
       "4421  1.20        2.33  109.54       2.33       10         3.17           0.00        0.00        0.015\n",
       "2036  1.41       22.50  118.74       2.33       70        38.33           0.41        0.20        0.750\n",
       "7536  1.01       45.00  100.50       5.09       90         9.50           0.05        0.01        0.475\n",
       "7442  1.79       45.00  133.79      10.00       90         9.50           0.08        0.02        0.476\n",
       "3378  1.83       65.00  135.28      61.67       80        15.00           0.22        0.08        0.811\n",
       "5982  1.65       65.00  128.45      61.67       80         1.58           0.01        0.00        0.549\n",
       "8103  0.35       10.00   59.16      15.00       10        12.67           0.01        0.00        0.294\n",
       "2960  0.33        5.09   57.45      10.00       10        38.33           0.10        0.07        0.765\n",
       "4011  1.92        5.09  138.56      15.00       10         3.17           0.00        0.00        0.033\n",
       "6180  0.49        5.09   70.00      15.00       10         6.33           0.00        0.00        0.044\n",
       "210   1.30       15.00  114.02       5.09        5        10.10           0.02        0.01        0.137\n",
       "8626  0.37       15.00   60.83      30.00        5        12.67           0.01        0.00        0.169\n",
       "1919  1.17       22.50  108.17      10.00       70        20.00           0.15        0.08        0.624\n",
       "718   1.84       10.00  135.65       5.09       10        10.10           0.04        0.02        0.192\n",
       "5327  0.30       10.00   54.77      20.00       10         1.58           0.00        0.00        0.028\n",
       "9985  1.17        2.33  108.17       2.33       10         0.32           0.00        0.00        0.002\n",
       "1298  1.22       10.00  110.45       5.09       10        20.00           0.13        0.06        0.521\n",
       "4441  0.83        5.09   91.10      10.00       10         3.17           0.00        0.00        0.033\n",
       "6495  0.92       22.50   95.92       5.09       70         6.33           0.01        0.00        0.216\n",
       "9597  0.30       83.33   54.77      45.00       80         0.32           0.00        0.00        0.668\n",
       "8042  1.41       22.50  118.74       2.33       70        12.67           0.06        0.01        0.324\n",
       "3903  0.30       45.00   54.77      10.00       90        15.00           0.03        0.01        0.684\n",
       "9934  1.38       15.00  117.47      10.00        5         0.32           0.00        0.00        0.007\n",
       "3790  0.19        5.09   43.59      15.00       10        15.00           0.01        0.00        0.419\n",
       "4074  1.07        5.09  103.44      15.00       10         3.17           0.00        0.00        0.033\n",
       "1287  1.52       30.00  123.29       5.09       80        20.00           0.20        0.13        0.670\n",
       "8999  0.35       45.00   59.16      15.00       90        12.67           0.03        0.01        0.623\n",
       "6388  0.84       30.00   91.65       5.09       80         6.33           0.02        0.00        0.293"
      ]
     },
     "execution_count": 14,
     "metadata": {},
     "output_type": "execute_result"
    }
   ],
   "source": [
    "X_train[:50]"
   ]
  },
  {
   "cell_type": "code",
   "execution_count": 15,
   "id": "032eda89-3cee-4040-9553-2a353e39b1d0",
   "metadata": {
    "tags": []
   },
   "outputs": [],
   "source": [
    "normalizer = preprocessing.Normalization()\n",
    "normalizer.adapt(np.array(X_train))\n"
   ]
  },
  {
   "attachments": {},
   "cell_type": "markdown",
   "id": "43dae304-a279-430d-baa1-ebe5d19f1c98",
   "metadata": {},
   "source": [
    "# Build the model"
   ]
  },
  {
   "cell_type": "code",
   "execution_count": 16,
   "id": "99b2e114-ff60-4200-ae35-f80089181eb9",
   "metadata": {
    "tags": []
   },
   "outputs": [
    {
     "name": "stdout",
     "output_type": "stream",
     "text": [
      "Model: \"sequential\"\n",
      "_________________________________________________________________\n",
      " Layer (type)                Output Shape              Param #   \n",
      "=================================================================\n",
      " normalization (Normalizatio  (None, 9)                19        \n",
      " n)                                                              \n",
      "                                                                 \n",
      " dense (Dense)               (None, 9)                 90        \n",
      "                                                                 \n",
      " dropout (Dropout)           (None, 9)                 0         \n",
      "                                                                 \n",
      " dense_1 (Dense)             (None, 18)                180       \n",
      "                                                                 \n",
      " dropout_1 (Dropout)         (None, 18)                0         \n",
      "                                                                 \n",
      " dense_2 (Dense)             (None, 7)                 133       \n",
      "                                                                 \n",
      "=================================================================\n",
      "Total params: 422\n",
      "Trainable params: 403\n",
      "Non-trainable params: 19\n",
      "_________________________________________________________________\n"
     ]
    }
   ],
   "source": [
    "model = Sequential()\n",
    "model.add(normalizer)\n",
    "model.add(Dense(units=X_train.shape[1], activation='relu', input_dim=X_train.shape[1]))\n",
    "model.add(Dropout(0.2))\n",
    "model.add(Dense(18, activation='relu'))\n",
    "model.add(Dropout(0.2))\n",
    "model.add(Dense(units=y_train.shape[1], activation='softmax'))\n",
    "model.summary()"
   ]
  },
  {
   "cell_type": "code",
   "execution_count": 17,
   "id": "61ddff67-e74f-4454-a253-40577f7a2722",
   "metadata": {
    "tags": []
   },
   "outputs": [
    {
     "name": "stdout",
     "output_type": "stream",
     "text": [
      "Epoch 1/100\n",
      "501/501 [==============================] - 2s 3ms/step - loss: 1.5265 - accuracy: 0.4197 - val_loss: 0.9480 - val_accuracy: 0.6139\n",
      "Epoch 2/100\n",
      "501/501 [==============================] - 1s 2ms/step - loss: 0.9058 - accuracy: 0.6321 - val_loss: 0.6417 - val_accuracy: 0.7403\n",
      "Epoch 3/100\n",
      "501/501 [==============================] - 1s 2ms/step - loss: 0.7193 - accuracy: 0.7119 - val_loss: 0.4713 - val_accuracy: 0.8751\n",
      "Epoch 4/100\n",
      "501/501 [==============================] - 1s 2ms/step - loss: 0.5930 - accuracy: 0.7731 - val_loss: 0.3440 - val_accuracy: 0.9216\n",
      "Epoch 5/100\n",
      "501/501 [==============================] - 1s 2ms/step - loss: 0.5113 - accuracy: 0.8026 - val_loss: 0.2606 - val_accuracy: 0.9256\n",
      "Epoch 6/100\n",
      "501/501 [==============================] - 1s 2ms/step - loss: 0.4464 - accuracy: 0.8239 - val_loss: 0.2031 - val_accuracy: 0.9266\n",
      "Epoch 7/100\n",
      "501/501 [==============================] - 1s 2ms/step - loss: 0.3947 - accuracy: 0.8468 - val_loss: 0.1719 - val_accuracy: 0.9266\n",
      "Epoch 8/100\n",
      "501/501 [==============================] - 1s 2ms/step - loss: 0.3462 - accuracy: 0.8593 - val_loss: 0.1510 - val_accuracy: 0.9266\n",
      "Epoch 9/100\n",
      "501/501 [==============================] - 1s 2ms/step - loss: 0.3197 - accuracy: 0.8761 - val_loss: 0.1230 - val_accuracy: 0.9306\n",
      "Epoch 10/100\n",
      "501/501 [==============================] - 1s 3ms/step - loss: 0.3017 - accuracy: 0.8802 - val_loss: 0.1111 - val_accuracy: 0.9266\n",
      "Epoch 11/100\n",
      "501/501 [==============================] - 1s 3ms/step - loss: 0.2798 - accuracy: 0.8916 - val_loss: 0.0888 - val_accuracy: 0.9740\n",
      "Epoch 12/100\n",
      "501/501 [==============================] - 1s 3ms/step - loss: 0.2475 - accuracy: 0.9072 - val_loss: 0.0761 - val_accuracy: 0.9835\n",
      "Epoch 13/100\n",
      "501/501 [==============================] - 1s 2ms/step - loss: 0.2441 - accuracy: 0.9077 - val_loss: 0.0656 - val_accuracy: 0.9985\n",
      "Epoch 14/100\n",
      "501/501 [==============================] - 1s 2ms/step - loss: 0.2253 - accuracy: 0.9101 - val_loss: 0.0546 - val_accuracy: 0.9980\n",
      "Epoch 15/100\n",
      "501/501 [==============================] - 1s 2ms/step - loss: 0.2125 - accuracy: 0.9195 - val_loss: 0.0488 - val_accuracy: 0.9980\n",
      "Epoch 16/100\n",
      "501/501 [==============================] - 1s 2ms/step - loss: 0.1985 - accuracy: 0.9262 - val_loss: 0.0478 - val_accuracy: 0.9955\n",
      "Epoch 17/100\n",
      "501/501 [==============================] - 1s 2ms/step - loss: 0.1786 - accuracy: 0.9358 - val_loss: 0.0334 - val_accuracy: 0.9995\n",
      "Epoch 18/100\n",
      "501/501 [==============================] - 1s 2ms/step - loss: 0.1756 - accuracy: 0.9362 - val_loss: 0.0292 - val_accuracy: 0.9995\n",
      "Epoch 19/100\n",
      "501/501 [==============================] - 1s 2ms/step - loss: 0.1617 - accuracy: 0.9437 - val_loss: 0.0241 - val_accuracy: 0.9995\n",
      "Epoch 20/100\n",
      "501/501 [==============================] - 1s 2ms/step - loss: 0.1521 - accuracy: 0.9473 - val_loss: 0.0187 - val_accuracy: 0.9995\n",
      "Epoch 21/100\n",
      "501/501 [==============================] - 1s 2ms/step - loss: 0.1527 - accuracy: 0.9468 - val_loss: 0.0297 - val_accuracy: 0.9990\n",
      "Epoch 22/100\n",
      "501/501 [==============================] - 1s 2ms/step - loss: 0.1492 - accuracy: 0.9484 - val_loss: 0.0154 - val_accuracy: 0.9995\n",
      "Epoch 23/100\n",
      "501/501 [==============================] - 1s 2ms/step - loss: 0.1371 - accuracy: 0.9535 - val_loss: 0.0170 - val_accuracy: 0.9995\n",
      "Epoch 24/100\n",
      "501/501 [==============================] - 1s 2ms/step - loss: 0.1332 - accuracy: 0.9560 - val_loss: 0.0165 - val_accuracy: 1.0000\n",
      "Epoch 25/100\n",
      "501/501 [==============================] - 1s 2ms/step - loss: 0.1388 - accuracy: 0.9520 - val_loss: 0.0208 - val_accuracy: 1.0000\n",
      "Epoch 26/100\n",
      "501/501 [==============================] - 1s 2ms/step - loss: 0.1279 - accuracy: 0.9593 - val_loss: 0.0191 - val_accuracy: 0.9970\n",
      "Epoch 27/100\n",
      "501/501 [==============================] - 1s 2ms/step - loss: 0.1299 - accuracy: 0.9544 - val_loss: 0.0181 - val_accuracy: 1.0000\n",
      "Epoch 28/100\n",
      "501/501 [==============================] - 1s 2ms/step - loss: 0.1165 - accuracy: 0.9618 - val_loss: 0.0130 - val_accuracy: 1.0000\n",
      "Epoch 29/100\n",
      "501/501 [==============================] - 1s 2ms/step - loss: 0.1176 - accuracy: 0.9614 - val_loss: 0.0099 - val_accuracy: 1.0000\n",
      "Epoch 30/100\n",
      "501/501 [==============================] - 1s 2ms/step - loss: 0.1250 - accuracy: 0.9595 - val_loss: 0.0119 - val_accuracy: 1.0000\n",
      "Epoch 31/100\n",
      "501/501 [==============================] - 1s 2ms/step - loss: 0.1199 - accuracy: 0.9593 - val_loss: 0.0118 - val_accuracy: 1.0000\n",
      "Epoch 32/100\n",
      "501/501 [==============================] - 1s 2ms/step - loss: 0.1160 - accuracy: 0.9608 - val_loss: 0.0106 - val_accuracy: 1.0000\n",
      "Epoch 33/100\n",
      "501/501 [==============================] - 1s 2ms/step - loss: 0.1120 - accuracy: 0.9640 - val_loss: 0.0125 - val_accuracy: 1.0000\n",
      "Epoch 34/100\n",
      "501/501 [==============================] - 1s 2ms/step - loss: 0.1098 - accuracy: 0.9620 - val_loss: 0.0176 - val_accuracy: 1.0000\n",
      "Epoch 35/100\n",
      "501/501 [==============================] - 1s 2ms/step - loss: 0.1068 - accuracy: 0.9647 - val_loss: 0.0136 - val_accuracy: 1.0000\n",
      "Epoch 36/100\n",
      "501/501 [==============================] - 1s 2ms/step - loss: 0.1105 - accuracy: 0.9622 - val_loss: 0.0176 - val_accuracy: 1.0000\n",
      "Epoch 37/100\n",
      "501/501 [==============================] - 1s 2ms/step - loss: 0.1064 - accuracy: 0.9647 - val_loss: 0.0098 - val_accuracy: 1.0000\n",
      "Epoch 38/100\n",
      "501/501 [==============================] - 1s 2ms/step - loss: 0.0992 - accuracy: 0.9677 - val_loss: 0.0125 - val_accuracy: 1.0000\n",
      "Epoch 39/100\n",
      "501/501 [==============================] - 1s 2ms/step - loss: 0.1053 - accuracy: 0.9645 - val_loss: 0.0114 - val_accuracy: 1.0000\n",
      "Epoch 40/100\n",
      "501/501 [==============================] - 1s 2ms/step - loss: 0.1042 - accuracy: 0.9635 - val_loss: 0.0181 - val_accuracy: 1.0000\n",
      "Epoch 41/100\n",
      "501/501 [==============================] - 1s 2ms/step - loss: 0.0940 - accuracy: 0.9699 - val_loss: 0.0128 - val_accuracy: 1.0000\n",
      "Epoch 42/100\n",
      "501/501 [==============================] - 1s 2ms/step - loss: 0.1060 - accuracy: 0.9634 - val_loss: 0.0099 - val_accuracy: 1.0000\n",
      "Epoch 43/100\n",
      "501/501 [==============================] - 1s 2ms/step - loss: 0.1034 - accuracy: 0.9665 - val_loss: 0.0110 - val_accuracy: 1.0000\n",
      "Epoch 44/100\n",
      "501/501 [==============================] - 1s 2ms/step - loss: 0.1016 - accuracy: 0.9663 - val_loss: 0.0090 - val_accuracy: 1.0000\n",
      "Epoch 45/100\n",
      "501/501 [==============================] - 1s 2ms/step - loss: 0.0951 - accuracy: 0.9689 - val_loss: 0.0112 - val_accuracy: 1.0000\n",
      "Epoch 46/100\n",
      "501/501 [==============================] - 1s 2ms/step - loss: 0.0975 - accuracy: 0.9662 - val_loss: 0.0079 - val_accuracy: 1.0000\n",
      "Epoch 47/100\n",
      "501/501 [==============================] - 1s 2ms/step - loss: 0.0965 - accuracy: 0.9709 - val_loss: 0.0073 - val_accuracy: 1.0000\n",
      "Epoch 48/100\n",
      "501/501 [==============================] - 1s 2ms/step - loss: 0.0977 - accuracy: 0.9663 - val_loss: 0.0112 - val_accuracy: 1.0000\n",
      "Epoch 49/100\n",
      "501/501 [==============================] - 1s 3ms/step - loss: 0.0885 - accuracy: 0.9687 - val_loss: 0.0043 - val_accuracy: 1.0000\n",
      "Epoch 50/100\n",
      "501/501 [==============================] - 1s 2ms/step - loss: 0.0947 - accuracy: 0.9684 - val_loss: 0.0100 - val_accuracy: 1.0000\n",
      "Epoch 51/100\n",
      "501/501 [==============================] - 1s 2ms/step - loss: 0.0934 - accuracy: 0.9695 - val_loss: 0.0089 - val_accuracy: 1.0000\n",
      "Epoch 52/100\n",
      "501/501 [==============================] - 1s 2ms/step - loss: 0.0879 - accuracy: 0.9720 - val_loss: 0.0061 - val_accuracy: 1.0000\n",
      "Epoch 53/100\n",
      "501/501 [==============================] - 1s 3ms/step - loss: 0.0925 - accuracy: 0.9684 - val_loss: 0.0074 - val_accuracy: 1.0000\n",
      "Epoch 54/100\n",
      "501/501 [==============================] - 1s 2ms/step - loss: 0.0904 - accuracy: 0.9714 - val_loss: 0.0095 - val_accuracy: 1.0000\n",
      "Epoch 55/100\n",
      "501/501 [==============================] - 1s 2ms/step - loss: 0.0967 - accuracy: 0.9682 - val_loss: 0.0103 - val_accuracy: 1.0000\n",
      "Epoch 56/100\n",
      "501/501 [==============================] - 1s 2ms/step - loss: 0.0945 - accuracy: 0.9659 - val_loss: 0.0090 - val_accuracy: 1.0000\n",
      "Epoch 57/100\n",
      "501/501 [==============================] - 1s 2ms/step - loss: 0.0914 - accuracy: 0.9687 - val_loss: 0.0081 - val_accuracy: 1.0000\n",
      "Epoch 58/100\n",
      "501/501 [==============================] - 1s 2ms/step - loss: 0.0892 - accuracy: 0.9694 - val_loss: 0.0083 - val_accuracy: 1.0000\n",
      "Epoch 59/100\n",
      "501/501 [==============================] - 1s 2ms/step - loss: 0.0837 - accuracy: 0.9728 - val_loss: 0.0053 - val_accuracy: 1.0000\n"
     ]
    }
   ],
   "source": [
    "model.compile(\n",
    "    optimizer='adam',\n",
    "    loss='categorical_crossentropy',\n",
    "    metrics=['accuracy']\n",
    ")\n",
    "history = model.fit(\n",
    "    x=X_train,\n",
    "    y=y_train,\n",
    "    epochs=100,\n",
    "    validation_data=(X_test, y_test),\n",
    "    validation_split=0.2,\n",
    "    verbose=1,\n",
    "    batch_size=16,\n",
    "    callbacks=[EarlyStopping(monitor='val_loss', patience=10)]\n",
    ")"
   ]
  },
  {
   "cell_type": "code",
   "execution_count": 18,
   "id": "5f0e2731-5e33-42c8-9f6b-139e25fde8aa",
   "metadata": {
    "tags": []
   },
   "outputs": [
    {
     "name": "stdout",
     "output_type": "stream",
     "text": [
      "63/63 [==============================] - 0s 2ms/step - loss: 0.0053 - accuracy: 1.0000\n",
      "Test set accuracy: 1.000\n"
     ]
    }
   ],
   "source": [
    "# Evaluate ANN model\n",
    "loss, accuracy = model.evaluate(X_test, y_test)\n",
    "print(f\"Test set accuracy: {accuracy:.3f}\")"
   ]
  },
  {
   "cell_type": "code",
   "execution_count": 19,
   "id": "5ca7057a-6890-4505-852c-6c1226a798f6",
   "metadata": {},
   "outputs": [
    {
     "name": "stdout",
     "output_type": "stream",
     "text": [
      "63/63 [==============================] - 0s 2ms/step\n"
     ]
    }
   ],
   "source": [
    "# model.predict(X_test)\n",
    "y_pred = model.predict(X_test)"
   ]
  },
  {
   "cell_type": "code",
   "execution_count": 20,
   "id": "5a615160",
   "metadata": {},
   "outputs": [
    {
     "data": {
      "text/html": [
       "<div>\n",
       "<style scoped>\n",
       "    .dataframe tbody tr th:only-of-type {\n",
       "        vertical-align: middle;\n",
       "    }\n",
       "\n",
       "    .dataframe tbody tr th {\n",
       "        vertical-align: top;\n",
       "    }\n",
       "\n",
       "    .dataframe thead th {\n",
       "        text-align: right;\n",
       "    }\n",
       "</style>\n",
       "<table border=\"1\" class=\"dataframe\">\n",
       "  <thead>\n",
       "    <tr style=\"text-align: right;\">\n",
       "      <th></th>\n",
       "      <th>loss</th>\n",
       "      <th>accuracy</th>\n",
       "      <th>val_loss</th>\n",
       "      <th>val_accuracy</th>\n",
       "      <th>epoch</th>\n",
       "    </tr>\n",
       "  </thead>\n",
       "  <tbody>\n",
       "    <tr>\n",
       "      <th>0</th>\n",
       "      <td>1.526534</td>\n",
       "      <td>0.419705</td>\n",
       "      <td>0.948001</td>\n",
       "      <td>0.613886</td>\n",
       "      <td>0</td>\n",
       "    </tr>\n",
       "    <tr>\n",
       "      <th>1</th>\n",
       "      <td>0.905791</td>\n",
       "      <td>0.632118</td>\n",
       "      <td>0.641735</td>\n",
       "      <td>0.740260</td>\n",
       "      <td>1</td>\n",
       "    </tr>\n",
       "    <tr>\n",
       "      <th>2</th>\n",
       "      <td>0.719286</td>\n",
       "      <td>0.711913</td>\n",
       "      <td>0.471295</td>\n",
       "      <td>0.875125</td>\n",
       "      <td>2</td>\n",
       "    </tr>\n",
       "    <tr>\n",
       "      <th>3</th>\n",
       "      <td>0.593023</td>\n",
       "      <td>0.773102</td>\n",
       "      <td>0.343979</td>\n",
       "      <td>0.921578</td>\n",
       "      <td>3</td>\n",
       "    </tr>\n",
       "    <tr>\n",
       "      <th>4</th>\n",
       "      <td>0.511255</td>\n",
       "      <td>0.802572</td>\n",
       "      <td>0.260561</td>\n",
       "      <td>0.925574</td>\n",
       "      <td>4</td>\n",
       "    </tr>\n",
       "    <tr>\n",
       "      <th>5</th>\n",
       "      <td>0.446400</td>\n",
       "      <td>0.823926</td>\n",
       "      <td>0.203050</td>\n",
       "      <td>0.926573</td>\n",
       "      <td>5</td>\n",
       "    </tr>\n",
       "    <tr>\n",
       "      <th>6</th>\n",
       "      <td>0.394664</td>\n",
       "      <td>0.846778</td>\n",
       "      <td>0.171944</td>\n",
       "      <td>0.926573</td>\n",
       "      <td>6</td>\n",
       "    </tr>\n",
       "    <tr>\n",
       "      <th>7</th>\n",
       "      <td>0.346178</td>\n",
       "      <td>0.859266</td>\n",
       "      <td>0.151021</td>\n",
       "      <td>0.926573</td>\n",
       "      <td>7</td>\n",
       "    </tr>\n",
       "    <tr>\n",
       "      <th>8</th>\n",
       "      <td>0.319709</td>\n",
       "      <td>0.876124</td>\n",
       "      <td>0.122990</td>\n",
       "      <td>0.930569</td>\n",
       "      <td>8</td>\n",
       "    </tr>\n",
       "    <tr>\n",
       "      <th>9</th>\n",
       "      <td>0.301730</td>\n",
       "      <td>0.880245</td>\n",
       "      <td>0.111089</td>\n",
       "      <td>0.926573</td>\n",
       "      <td>9</td>\n",
       "    </tr>\n",
       "    <tr>\n",
       "      <th>10</th>\n",
       "      <td>0.279820</td>\n",
       "      <td>0.891608</td>\n",
       "      <td>0.088809</td>\n",
       "      <td>0.974026</td>\n",
       "      <td>10</td>\n",
       "    </tr>\n",
       "    <tr>\n",
       "      <th>11</th>\n",
       "      <td>0.247465</td>\n",
       "      <td>0.907218</td>\n",
       "      <td>0.076095</td>\n",
       "      <td>0.983516</td>\n",
       "      <td>11</td>\n",
       "    </tr>\n",
       "    <tr>\n",
       "      <th>12</th>\n",
       "      <td>0.244122</td>\n",
       "      <td>0.907717</td>\n",
       "      <td>0.065552</td>\n",
       "      <td>0.998501</td>\n",
       "      <td>12</td>\n",
       "    </tr>\n",
       "    <tr>\n",
       "      <th>13</th>\n",
       "      <td>0.225299</td>\n",
       "      <td>0.910090</td>\n",
       "      <td>0.054616</td>\n",
       "      <td>0.998002</td>\n",
       "      <td>13</td>\n",
       "    </tr>\n",
       "    <tr>\n",
       "      <th>14</th>\n",
       "      <td>0.212466</td>\n",
       "      <td>0.919456</td>\n",
       "      <td>0.048823</td>\n",
       "      <td>0.998002</td>\n",
       "      <td>14</td>\n",
       "    </tr>\n",
       "    <tr>\n",
       "      <th>15</th>\n",
       "      <td>0.198464</td>\n",
       "      <td>0.926199</td>\n",
       "      <td>0.047801</td>\n",
       "      <td>0.995504</td>\n",
       "      <td>15</td>\n",
       "    </tr>\n",
       "    <tr>\n",
       "      <th>16</th>\n",
       "      <td>0.178613</td>\n",
       "      <td>0.935814</td>\n",
       "      <td>0.033387</td>\n",
       "      <td>0.999501</td>\n",
       "      <td>16</td>\n",
       "    </tr>\n",
       "    <tr>\n",
       "      <th>17</th>\n",
       "      <td>0.175567</td>\n",
       "      <td>0.936189</td>\n",
       "      <td>0.029191</td>\n",
       "      <td>0.999501</td>\n",
       "      <td>17</td>\n",
       "    </tr>\n",
       "    <tr>\n",
       "      <th>18</th>\n",
       "      <td>0.161733</td>\n",
       "      <td>0.943681</td>\n",
       "      <td>0.024054</td>\n",
       "      <td>0.999501</td>\n",
       "      <td>18</td>\n",
       "    </tr>\n",
       "    <tr>\n",
       "      <th>19</th>\n",
       "      <td>0.152114</td>\n",
       "      <td>0.947303</td>\n",
       "      <td>0.018715</td>\n",
       "      <td>0.999501</td>\n",
       "      <td>19</td>\n",
       "    </tr>\n",
       "    <tr>\n",
       "      <th>20</th>\n",
       "      <td>0.152731</td>\n",
       "      <td>0.946803</td>\n",
       "      <td>0.029657</td>\n",
       "      <td>0.999001</td>\n",
       "      <td>20</td>\n",
       "    </tr>\n",
       "    <tr>\n",
       "      <th>21</th>\n",
       "      <td>0.149194</td>\n",
       "      <td>0.948427</td>\n",
       "      <td>0.015387</td>\n",
       "      <td>0.999501</td>\n",
       "      <td>21</td>\n",
       "    </tr>\n",
       "    <tr>\n",
       "      <th>22</th>\n",
       "      <td>0.137082</td>\n",
       "      <td>0.953546</td>\n",
       "      <td>0.016955</td>\n",
       "      <td>0.999501</td>\n",
       "      <td>22</td>\n",
       "    </tr>\n",
       "    <tr>\n",
       "      <th>23</th>\n",
       "      <td>0.133218</td>\n",
       "      <td>0.956044</td>\n",
       "      <td>0.016533</td>\n",
       "      <td>1.000000</td>\n",
       "      <td>23</td>\n",
       "    </tr>\n",
       "    <tr>\n",
       "      <th>24</th>\n",
       "      <td>0.138818</td>\n",
       "      <td>0.952048</td>\n",
       "      <td>0.020843</td>\n",
       "      <td>1.000000</td>\n",
       "      <td>24</td>\n",
       "    </tr>\n",
       "    <tr>\n",
       "      <th>25</th>\n",
       "      <td>0.127916</td>\n",
       "      <td>0.959291</td>\n",
       "      <td>0.019084</td>\n",
       "      <td>0.997003</td>\n",
       "      <td>25</td>\n",
       "    </tr>\n",
       "    <tr>\n",
       "      <th>26</th>\n",
       "      <td>0.129880</td>\n",
       "      <td>0.954421</td>\n",
       "      <td>0.018117</td>\n",
       "      <td>1.000000</td>\n",
       "      <td>26</td>\n",
       "    </tr>\n",
       "    <tr>\n",
       "      <th>27</th>\n",
       "      <td>0.116486</td>\n",
       "      <td>0.961788</td>\n",
       "      <td>0.013036</td>\n",
       "      <td>1.000000</td>\n",
       "      <td>27</td>\n",
       "    </tr>\n",
       "    <tr>\n",
       "      <th>28</th>\n",
       "      <td>0.117580</td>\n",
       "      <td>0.961414</td>\n",
       "      <td>0.009914</td>\n",
       "      <td>1.000000</td>\n",
       "      <td>28</td>\n",
       "    </tr>\n",
       "    <tr>\n",
       "      <th>29</th>\n",
       "      <td>0.125020</td>\n",
       "      <td>0.959540</td>\n",
       "      <td>0.011862</td>\n",
       "      <td>1.000000</td>\n",
       "      <td>29</td>\n",
       "    </tr>\n",
       "    <tr>\n",
       "      <th>30</th>\n",
       "      <td>0.119910</td>\n",
       "      <td>0.959291</td>\n",
       "      <td>0.011843</td>\n",
       "      <td>1.000000</td>\n",
       "      <td>30</td>\n",
       "    </tr>\n",
       "    <tr>\n",
       "      <th>31</th>\n",
       "      <td>0.116005</td>\n",
       "      <td>0.960789</td>\n",
       "      <td>0.010630</td>\n",
       "      <td>1.000000</td>\n",
       "      <td>31</td>\n",
       "    </tr>\n",
       "    <tr>\n",
       "      <th>32</th>\n",
       "      <td>0.112041</td>\n",
       "      <td>0.964036</td>\n",
       "      <td>0.012455</td>\n",
       "      <td>1.000000</td>\n",
       "      <td>32</td>\n",
       "    </tr>\n",
       "    <tr>\n",
       "      <th>33</th>\n",
       "      <td>0.109766</td>\n",
       "      <td>0.962038</td>\n",
       "      <td>0.017616</td>\n",
       "      <td>1.000000</td>\n",
       "      <td>33</td>\n",
       "    </tr>\n",
       "    <tr>\n",
       "      <th>34</th>\n",
       "      <td>0.106807</td>\n",
       "      <td>0.964660</td>\n",
       "      <td>0.013632</td>\n",
       "      <td>1.000000</td>\n",
       "      <td>34</td>\n",
       "    </tr>\n",
       "    <tr>\n",
       "      <th>35</th>\n",
       "      <td>0.110475</td>\n",
       "      <td>0.962163</td>\n",
       "      <td>0.017551</td>\n",
       "      <td>1.000000</td>\n",
       "      <td>35</td>\n",
       "    </tr>\n",
       "    <tr>\n",
       "      <th>36</th>\n",
       "      <td>0.106400</td>\n",
       "      <td>0.964660</td>\n",
       "      <td>0.009835</td>\n",
       "      <td>1.000000</td>\n",
       "      <td>36</td>\n",
       "    </tr>\n",
       "    <tr>\n",
       "      <th>37</th>\n",
       "      <td>0.099249</td>\n",
       "      <td>0.967657</td>\n",
       "      <td>0.012537</td>\n",
       "      <td>1.000000</td>\n",
       "      <td>37</td>\n",
       "    </tr>\n",
       "    <tr>\n",
       "      <th>38</th>\n",
       "      <td>0.105312</td>\n",
       "      <td>0.964535</td>\n",
       "      <td>0.011375</td>\n",
       "      <td>1.000000</td>\n",
       "      <td>38</td>\n",
       "    </tr>\n",
       "    <tr>\n",
       "      <th>39</th>\n",
       "      <td>0.104164</td>\n",
       "      <td>0.963536</td>\n",
       "      <td>0.018120</td>\n",
       "      <td>1.000000</td>\n",
       "      <td>39</td>\n",
       "    </tr>\n",
       "    <tr>\n",
       "      <th>40</th>\n",
       "      <td>0.093992</td>\n",
       "      <td>0.969905</td>\n",
       "      <td>0.012775</td>\n",
       "      <td>1.000000</td>\n",
       "      <td>40</td>\n",
       "    </tr>\n",
       "    <tr>\n",
       "      <th>41</th>\n",
       "      <td>0.106005</td>\n",
       "      <td>0.963412</td>\n",
       "      <td>0.009906</td>\n",
       "      <td>1.000000</td>\n",
       "      <td>41</td>\n",
       "    </tr>\n",
       "    <tr>\n",
       "      <th>42</th>\n",
       "      <td>0.103370</td>\n",
       "      <td>0.966533</td>\n",
       "      <td>0.010957</td>\n",
       "      <td>1.000000</td>\n",
       "      <td>42</td>\n",
       "    </tr>\n",
       "    <tr>\n",
       "      <th>43</th>\n",
       "      <td>0.101601</td>\n",
       "      <td>0.966284</td>\n",
       "      <td>0.009046</td>\n",
       "      <td>1.000000</td>\n",
       "      <td>43</td>\n",
       "    </tr>\n",
       "    <tr>\n",
       "      <th>44</th>\n",
       "      <td>0.095093</td>\n",
       "      <td>0.968906</td>\n",
       "      <td>0.011153</td>\n",
       "      <td>1.000000</td>\n",
       "      <td>44</td>\n",
       "    </tr>\n",
       "    <tr>\n",
       "      <th>45</th>\n",
       "      <td>0.097475</td>\n",
       "      <td>0.966159</td>\n",
       "      <td>0.007872</td>\n",
       "      <td>1.000000</td>\n",
       "      <td>45</td>\n",
       "    </tr>\n",
       "    <tr>\n",
       "      <th>46</th>\n",
       "      <td>0.096522</td>\n",
       "      <td>0.970904</td>\n",
       "      <td>0.007284</td>\n",
       "      <td>1.000000</td>\n",
       "      <td>46</td>\n",
       "    </tr>\n",
       "    <tr>\n",
       "      <th>47</th>\n",
       "      <td>0.097738</td>\n",
       "      <td>0.966284</td>\n",
       "      <td>0.011173</td>\n",
       "      <td>1.000000</td>\n",
       "      <td>47</td>\n",
       "    </tr>\n",
       "    <tr>\n",
       "      <th>48</th>\n",
       "      <td>0.088521</td>\n",
       "      <td>0.968656</td>\n",
       "      <td>0.004255</td>\n",
       "      <td>1.000000</td>\n",
       "      <td>48</td>\n",
       "    </tr>\n",
       "    <tr>\n",
       "      <th>49</th>\n",
       "      <td>0.094711</td>\n",
       "      <td>0.968407</td>\n",
       "      <td>0.010004</td>\n",
       "      <td>1.000000</td>\n",
       "      <td>49</td>\n",
       "    </tr>\n",
       "    <tr>\n",
       "      <th>50</th>\n",
       "      <td>0.093424</td>\n",
       "      <td>0.969530</td>\n",
       "      <td>0.008919</td>\n",
       "      <td>1.000000</td>\n",
       "      <td>50</td>\n",
       "    </tr>\n",
       "    <tr>\n",
       "      <th>51</th>\n",
       "      <td>0.087903</td>\n",
       "      <td>0.972028</td>\n",
       "      <td>0.006120</td>\n",
       "      <td>1.000000</td>\n",
       "      <td>51</td>\n",
       "    </tr>\n",
       "    <tr>\n",
       "      <th>52</th>\n",
       "      <td>0.092529</td>\n",
       "      <td>0.968407</td>\n",
       "      <td>0.007350</td>\n",
       "      <td>1.000000</td>\n",
       "      <td>52</td>\n",
       "    </tr>\n",
       "    <tr>\n",
       "      <th>53</th>\n",
       "      <td>0.090374</td>\n",
       "      <td>0.971404</td>\n",
       "      <td>0.009473</td>\n",
       "      <td>1.000000</td>\n",
       "      <td>53</td>\n",
       "    </tr>\n",
       "    <tr>\n",
       "      <th>54</th>\n",
       "      <td>0.096747</td>\n",
       "      <td>0.968157</td>\n",
       "      <td>0.010251</td>\n",
       "      <td>1.000000</td>\n",
       "      <td>54</td>\n",
       "    </tr>\n",
       "    <tr>\n",
       "      <th>55</th>\n",
       "      <td>0.094510</td>\n",
       "      <td>0.965909</td>\n",
       "      <td>0.009027</td>\n",
       "      <td>1.000000</td>\n",
       "      <td>55</td>\n",
       "    </tr>\n",
       "    <tr>\n",
       "      <th>56</th>\n",
       "      <td>0.091352</td>\n",
       "      <td>0.968656</td>\n",
       "      <td>0.008072</td>\n",
       "      <td>1.000000</td>\n",
       "      <td>56</td>\n",
       "    </tr>\n",
       "    <tr>\n",
       "      <th>57</th>\n",
       "      <td>0.089168</td>\n",
       "      <td>0.969406</td>\n",
       "      <td>0.008309</td>\n",
       "      <td>1.000000</td>\n",
       "      <td>57</td>\n",
       "    </tr>\n",
       "    <tr>\n",
       "      <th>58</th>\n",
       "      <td>0.083706</td>\n",
       "      <td>0.972777</td>\n",
       "      <td>0.005293</td>\n",
       "      <td>1.000000</td>\n",
       "      <td>58</td>\n",
       "    </tr>\n",
       "  </tbody>\n",
       "</table>\n",
       "</div>"
      ],
      "text/plain": [
       "        loss  accuracy  val_loss  val_accuracy  epoch\n",
       "0   1.526534  0.419705  0.948001      0.613886      0\n",
       "1   0.905791  0.632118  0.641735      0.740260      1\n",
       "2   0.719286  0.711913  0.471295      0.875125      2\n",
       "3   0.593023  0.773102  0.343979      0.921578      3\n",
       "4   0.511255  0.802572  0.260561      0.925574      4\n",
       "5   0.446400  0.823926  0.203050      0.926573      5\n",
       "6   0.394664  0.846778  0.171944      0.926573      6\n",
       "7   0.346178  0.859266  0.151021      0.926573      7\n",
       "8   0.319709  0.876124  0.122990      0.930569      8\n",
       "9   0.301730  0.880245  0.111089      0.926573      9\n",
       "10  0.279820  0.891608  0.088809      0.974026     10\n",
       "11  0.247465  0.907218  0.076095      0.983516     11\n",
       "12  0.244122  0.907717  0.065552      0.998501     12\n",
       "13  0.225299  0.910090  0.054616      0.998002     13\n",
       "14  0.212466  0.919456  0.048823      0.998002     14\n",
       "15  0.198464  0.926199  0.047801      0.995504     15\n",
       "16  0.178613  0.935814  0.033387      0.999501     16\n",
       "17  0.175567  0.936189  0.029191      0.999501     17\n",
       "18  0.161733  0.943681  0.024054      0.999501     18\n",
       "19  0.152114  0.947303  0.018715      0.999501     19\n",
       "20  0.152731  0.946803  0.029657      0.999001     20\n",
       "21  0.149194  0.948427  0.015387      0.999501     21\n",
       "22  0.137082  0.953546  0.016955      0.999501     22\n",
       "23  0.133218  0.956044  0.016533      1.000000     23\n",
       "24  0.138818  0.952048  0.020843      1.000000     24\n",
       "25  0.127916  0.959291  0.019084      0.997003     25\n",
       "26  0.129880  0.954421  0.018117      1.000000     26\n",
       "27  0.116486  0.961788  0.013036      1.000000     27\n",
       "28  0.117580  0.961414  0.009914      1.000000     28\n",
       "29  0.125020  0.959540  0.011862      1.000000     29\n",
       "30  0.119910  0.959291  0.011843      1.000000     30\n",
       "31  0.116005  0.960789  0.010630      1.000000     31\n",
       "32  0.112041  0.964036  0.012455      1.000000     32\n",
       "33  0.109766  0.962038  0.017616      1.000000     33\n",
       "34  0.106807  0.964660  0.013632      1.000000     34\n",
       "35  0.110475  0.962163  0.017551      1.000000     35\n",
       "36  0.106400  0.964660  0.009835      1.000000     36\n",
       "37  0.099249  0.967657  0.012537      1.000000     37\n",
       "38  0.105312  0.964535  0.011375      1.000000     38\n",
       "39  0.104164  0.963536  0.018120      1.000000     39\n",
       "40  0.093992  0.969905  0.012775      1.000000     40\n",
       "41  0.106005  0.963412  0.009906      1.000000     41\n",
       "42  0.103370  0.966533  0.010957      1.000000     42\n",
       "43  0.101601  0.966284  0.009046      1.000000     43\n",
       "44  0.095093  0.968906  0.011153      1.000000     44\n",
       "45  0.097475  0.966159  0.007872      1.000000     45\n",
       "46  0.096522  0.970904  0.007284      1.000000     46\n",
       "47  0.097738  0.966284  0.011173      1.000000     47\n",
       "48  0.088521  0.968656  0.004255      1.000000     48\n",
       "49  0.094711  0.968407  0.010004      1.000000     49\n",
       "50  0.093424  0.969530  0.008919      1.000000     50\n",
       "51  0.087903  0.972028  0.006120      1.000000     51\n",
       "52  0.092529  0.968407  0.007350      1.000000     52\n",
       "53  0.090374  0.971404  0.009473      1.000000     53\n",
       "54  0.096747  0.968157  0.010251      1.000000     54\n",
       "55  0.094510  0.965909  0.009027      1.000000     55\n",
       "56  0.091352  0.968656  0.008072      1.000000     56\n",
       "57  0.089168  0.969406  0.008309      1.000000     57\n",
       "58  0.083706  0.972777  0.005293      1.000000     58"
      ]
     },
     "execution_count": 20,
     "metadata": {},
     "output_type": "execute_result"
    }
   ],
   "source": [
    "metrics = pd.DataFrame(history.history)\n",
    "metrics['epoch'] = history.epoch\n",
    "metrics"
   ]
  },
  {
   "attachments": {},
   "cell_type": "markdown",
   "id": "4461c262",
   "metadata": {},
   "source": [
    "# Model evaluate"
   ]
  },
  {
   "cell_type": "code",
   "execution_count": 21,
   "id": "a42430b5",
   "metadata": {},
   "outputs": [
    {
     "data": {
      "application/vnd.plotly.v1+json": {
       "config": {
        "plotlyServerURL": "https://plot.ly"
       },
       "data": [
        {
         "name": "accuracy",
         "type": "scatter",
         "x": [
          0,
          1,
          2,
          3,
          4,
          5,
          6,
          7,
          8,
          9,
          10,
          11,
          12,
          13,
          14,
          15,
          16,
          17,
          18,
          19,
          20,
          21,
          22,
          23,
          24,
          25,
          26,
          27,
          28,
          29,
          30,
          31,
          32,
          33,
          34,
          35,
          36,
          37,
          38,
          39,
          40,
          41,
          42,
          43,
          44,
          45,
          46,
          47,
          48,
          49,
          50,
          51,
          52,
          53,
          54,
          55,
          56,
          57,
          58
         ],
         "xaxis": "x",
         "y": [
          0.4197053015232086,
          0.6321178674697876,
          0.7119131088256836,
          0.7731019258499146,
          0.8025724291801453,
          0.8239260911941528,
          0.8467782139778137,
          0.8592657446861267,
          0.8761239051818848,
          0.8802447319030762,
          0.8916084170341492,
          0.907217800617218,
          0.9077172875404358,
          0.910089910030365,
          0.9194555282592773,
          0.9261987805366516,
          0.9358142018318176,
          0.936188817024231,
          0.9436812996864319,
          0.9473026990890503,
          0.9468032121658325,
          0.9484265446662903,
          0.9535464644432068,
          0.9560439586639404,
          0.9520479440689087,
          0.9592906832695007,
          0.9544205665588379,
          0.9617882370948792,
          0.961413562297821,
          0.9595404863357544,
          0.9592906832695007,
          0.9607892036437988,
          0.9640359878540039,
          0.962037980556488,
          0.9646603465080261,
          0.9621628522872925,
          0.9646603465080261,
          0.9676573276519775,
          0.9645354747772217,
          0.9635364413261414,
          0.9699050784111023,
          0.9634115695953369,
          0.9665334820747375,
          0.9662837386131287,
          0.9689061045646667,
          0.9661588668823242,
          0.9709041118621826,
          0.9662837386131287,
          0.9686563611030579,
          0.968406617641449,
          0.969530463218689,
          0.9720279574394226,
          0.968406617641449,
          0.9714035987854004,
          0.9681568145751953,
          0.9659090638160706,
          0.9686563611030579,
          0.9694055914878845,
          0.972777247428894
         ],
         "yaxis": "y"
        },
        {
         "name": "loss",
         "type": "scatter",
         "x": [
          0,
          1,
          2,
          3,
          4,
          5,
          6,
          7,
          8,
          9,
          10,
          11,
          12,
          13,
          14,
          15,
          16,
          17,
          18,
          19,
          20,
          21,
          22,
          23,
          24,
          25,
          26,
          27,
          28,
          29,
          30,
          31,
          32,
          33,
          34,
          35,
          36,
          37,
          38,
          39,
          40,
          41,
          42,
          43,
          44,
          45,
          46,
          47,
          48,
          49,
          50,
          51,
          52,
          53,
          54,
          55,
          56,
          57,
          58
         ],
         "xaxis": "x2",
         "y": [
          1.5265337228775024,
          0.9057910442352295,
          0.7192860245704651,
          0.5930225253105164,
          0.511255145072937,
          0.4464001953601837,
          0.3946641981601715,
          0.346178263425827,
          0.31970882415771484,
          0.3017301559448242,
          0.27982011437416077,
          0.2474645972251892,
          0.2441224306821823,
          0.22529897093772888,
          0.2124662548303604,
          0.1984640210866928,
          0.17861253023147583,
          0.1755673885345459,
          0.16173264384269714,
          0.15211383998394012,
          0.1527308225631714,
          0.14919398725032806,
          0.13708165287971497,
          0.13321848213672638,
          0.13881775736808777,
          0.12791576981544495,
          0.1298804134130478,
          0.11648630350828171,
          0.11758000403642654,
          0.12502044439315796,
          0.11991015821695328,
          0.11600510030984879,
          0.11204098910093307,
          0.10976600646972656,
          0.10680685192346573,
          0.11047496646642685,
          0.10640019923448563,
          0.09924861788749695,
          0.10531187802553177,
          0.10416387021541595,
          0.09399217367172241,
          0.10600505024194717,
          0.10336954891681671,
          0.10160098969936371,
          0.09509306401014328,
          0.09747488796710968,
          0.09652229398488998,
          0.09773767739534378,
          0.0885210782289505,
          0.09471124410629272,
          0.09342435747385025,
          0.08790251612663269,
          0.0925285741686821,
          0.09037359803915024,
          0.0967467725276947,
          0.09451042860746384,
          0.09135174751281738,
          0.08916815370321274,
          0.08370649814605713
         ],
         "yaxis": "y2"
        },
        {
         "name": "val_accuracy",
         "type": "scatter",
         "x": [
          0,
          1,
          2,
          3,
          4,
          5,
          6,
          7,
          8,
          9,
          10,
          11,
          12,
          13,
          14,
          15,
          16,
          17,
          18,
          19,
          20,
          21,
          22,
          23,
          24,
          25,
          26,
          27,
          28,
          29,
          30,
          31,
          32,
          33,
          34,
          35,
          36,
          37,
          38,
          39,
          40,
          41,
          42,
          43,
          44,
          45,
          46,
          47,
          48,
          49,
          50,
          51,
          52,
          53,
          54,
          55,
          56,
          57,
          58
         ],
         "xaxis": "x",
         "y": [
          0.6138861179351807,
          0.7402597665786743,
          0.8751248717308044,
          0.9215784072875977,
          0.9255744218826294,
          0.9265734553337097,
          0.9265734553337097,
          0.9265734553337097,
          0.9305694103240967,
          0.9265734553337097,
          0.9740259647369385,
          0.9835164546966553,
          0.9985014796257019,
          0.9980019927024841,
          0.9980019927024841,
          0.9955044984817505,
          0.9995005130767822,
          0.9995005130767822,
          0.9995005130767822,
          0.9995005130767822,
          0.9990010261535645,
          0.9995005130767822,
          0.9995005130767822,
          1,
          1,
          0.9970030188560486,
          1,
          1,
          1,
          1,
          1,
          1,
          1,
          1,
          1,
          1,
          1,
          1,
          1,
          1,
          1,
          1,
          1,
          1,
          1,
          1,
          1,
          1,
          1,
          1,
          1,
          1,
          1,
          1,
          1,
          1,
          1,
          1,
          1
         ],
         "yaxis": "y"
        },
        {
         "name": "val_loss",
         "type": "scatter",
         "x": [
          0,
          1,
          2,
          3,
          4,
          5,
          6,
          7,
          8,
          9,
          10,
          11,
          12,
          13,
          14,
          15,
          16,
          17,
          18,
          19,
          20,
          21,
          22,
          23,
          24,
          25,
          26,
          27,
          28,
          29,
          30,
          31,
          32,
          33,
          34,
          35,
          36,
          37,
          38,
          39,
          40,
          41,
          42,
          43,
          44,
          45,
          46,
          47,
          48,
          49,
          50,
          51,
          52,
          53,
          54,
          55,
          56,
          57,
          58
         ],
         "xaxis": "x2",
         "y": [
          0.9480010271072388,
          0.641735315322876,
          0.4712952971458435,
          0.3439791798591614,
          0.2605612576007843,
          0.2030504047870636,
          0.17194415628910065,
          0.1510208696126938,
          0.12299004197120667,
          0.11108928173780441,
          0.08880922198295593,
          0.07609492540359497,
          0.06555238366127014,
          0.054616305977106094,
          0.048823077231645584,
          0.047801364213228226,
          0.03338736295700073,
          0.029191138222813606,
          0.02405407279729843,
          0.01871533691883087,
          0.029657399281859398,
          0.015387171879410744,
          0.01695518009364605,
          0.016533138230443,
          0.020843064412474632,
          0.019084405153989792,
          0.01811658777296543,
          0.013035834766924381,
          0.00991415698081255,
          0.011861578561365604,
          0.011842934414744377,
          0.010630041360855103,
          0.012454998679459095,
          0.01761598512530327,
          0.013631656765937805,
          0.017550602555274963,
          0.00983482412993908,
          0.012536891736090183,
          0.011375276371836662,
          0.01811998337507248,
          0.012774636037647724,
          0.009905770421028137,
          0.010956725105643272,
          0.009045969694852829,
          0.011152943596243858,
          0.007871796377003193,
          0.00728423660621047,
          0.011172572150826454,
          0.004255486186593771,
          0.010004444979131222,
          0.008919102139770985,
          0.006120022851973772,
          0.007350453175604343,
          0.009472692385315895,
          0.010250706225633621,
          0.009026894345879555,
          0.008072296157479286,
          0.00830874778330326,
          0.005293021909892559
         ],
         "yaxis": "y2"
        }
       ],
       "layout": {
        "template": {
         "data": {
          "bar": [
           {
            "error_x": {
             "color": "#2a3f5f"
            },
            "error_y": {
             "color": "#2a3f5f"
            },
            "marker": {
             "line": {
              "color": "#E5ECF6",
              "width": 0.5
             },
             "pattern": {
              "fillmode": "overlay",
              "size": 10,
              "solidity": 0.2
             }
            },
            "type": "bar"
           }
          ],
          "barpolar": [
           {
            "marker": {
             "line": {
              "color": "#E5ECF6",
              "width": 0.5
             },
             "pattern": {
              "fillmode": "overlay",
              "size": 10,
              "solidity": 0.2
             }
            },
            "type": "barpolar"
           }
          ],
          "carpet": [
           {
            "aaxis": {
             "endlinecolor": "#2a3f5f",
             "gridcolor": "white",
             "linecolor": "white",
             "minorgridcolor": "white",
             "startlinecolor": "#2a3f5f"
            },
            "baxis": {
             "endlinecolor": "#2a3f5f",
             "gridcolor": "white",
             "linecolor": "white",
             "minorgridcolor": "white",
             "startlinecolor": "#2a3f5f"
            },
            "type": "carpet"
           }
          ],
          "choropleth": [
           {
            "colorbar": {
             "outlinewidth": 0,
             "ticks": ""
            },
            "type": "choropleth"
           }
          ],
          "contour": [
           {
            "colorbar": {
             "outlinewidth": 0,
             "ticks": ""
            },
            "colorscale": [
             [
              0,
              "#0d0887"
             ],
             [
              0.1111111111111111,
              "#46039f"
             ],
             [
              0.2222222222222222,
              "#7201a8"
             ],
             [
              0.3333333333333333,
              "#9c179e"
             ],
             [
              0.4444444444444444,
              "#bd3786"
             ],
             [
              0.5555555555555556,
              "#d8576b"
             ],
             [
              0.6666666666666666,
              "#ed7953"
             ],
             [
              0.7777777777777778,
              "#fb9f3a"
             ],
             [
              0.8888888888888888,
              "#fdca26"
             ],
             [
              1,
              "#f0f921"
             ]
            ],
            "type": "contour"
           }
          ],
          "contourcarpet": [
           {
            "colorbar": {
             "outlinewidth": 0,
             "ticks": ""
            },
            "type": "contourcarpet"
           }
          ],
          "heatmap": [
           {
            "colorbar": {
             "outlinewidth": 0,
             "ticks": ""
            },
            "colorscale": [
             [
              0,
              "#0d0887"
             ],
             [
              0.1111111111111111,
              "#46039f"
             ],
             [
              0.2222222222222222,
              "#7201a8"
             ],
             [
              0.3333333333333333,
              "#9c179e"
             ],
             [
              0.4444444444444444,
              "#bd3786"
             ],
             [
              0.5555555555555556,
              "#d8576b"
             ],
             [
              0.6666666666666666,
              "#ed7953"
             ],
             [
              0.7777777777777778,
              "#fb9f3a"
             ],
             [
              0.8888888888888888,
              "#fdca26"
             ],
             [
              1,
              "#f0f921"
             ]
            ],
            "type": "heatmap"
           }
          ],
          "heatmapgl": [
           {
            "colorbar": {
             "outlinewidth": 0,
             "ticks": ""
            },
            "colorscale": [
             [
              0,
              "#0d0887"
             ],
             [
              0.1111111111111111,
              "#46039f"
             ],
             [
              0.2222222222222222,
              "#7201a8"
             ],
             [
              0.3333333333333333,
              "#9c179e"
             ],
             [
              0.4444444444444444,
              "#bd3786"
             ],
             [
              0.5555555555555556,
              "#d8576b"
             ],
             [
              0.6666666666666666,
              "#ed7953"
             ],
             [
              0.7777777777777778,
              "#fb9f3a"
             ],
             [
              0.8888888888888888,
              "#fdca26"
             ],
             [
              1,
              "#f0f921"
             ]
            ],
            "type": "heatmapgl"
           }
          ],
          "histogram": [
           {
            "marker": {
             "pattern": {
              "fillmode": "overlay",
              "size": 10,
              "solidity": 0.2
             }
            },
            "type": "histogram"
           }
          ],
          "histogram2d": [
           {
            "colorbar": {
             "outlinewidth": 0,
             "ticks": ""
            },
            "colorscale": [
             [
              0,
              "#0d0887"
             ],
             [
              0.1111111111111111,
              "#46039f"
             ],
             [
              0.2222222222222222,
              "#7201a8"
             ],
             [
              0.3333333333333333,
              "#9c179e"
             ],
             [
              0.4444444444444444,
              "#bd3786"
             ],
             [
              0.5555555555555556,
              "#d8576b"
             ],
             [
              0.6666666666666666,
              "#ed7953"
             ],
             [
              0.7777777777777778,
              "#fb9f3a"
             ],
             [
              0.8888888888888888,
              "#fdca26"
             ],
             [
              1,
              "#f0f921"
             ]
            ],
            "type": "histogram2d"
           }
          ],
          "histogram2dcontour": [
           {
            "colorbar": {
             "outlinewidth": 0,
             "ticks": ""
            },
            "colorscale": [
             [
              0,
              "#0d0887"
             ],
             [
              0.1111111111111111,
              "#46039f"
             ],
             [
              0.2222222222222222,
              "#7201a8"
             ],
             [
              0.3333333333333333,
              "#9c179e"
             ],
             [
              0.4444444444444444,
              "#bd3786"
             ],
             [
              0.5555555555555556,
              "#d8576b"
             ],
             [
              0.6666666666666666,
              "#ed7953"
             ],
             [
              0.7777777777777778,
              "#fb9f3a"
             ],
             [
              0.8888888888888888,
              "#fdca26"
             ],
             [
              1,
              "#f0f921"
             ]
            ],
            "type": "histogram2dcontour"
           }
          ],
          "mesh3d": [
           {
            "colorbar": {
             "outlinewidth": 0,
             "ticks": ""
            },
            "type": "mesh3d"
           }
          ],
          "parcoords": [
           {
            "line": {
             "colorbar": {
              "outlinewidth": 0,
              "ticks": ""
             }
            },
            "type": "parcoords"
           }
          ],
          "pie": [
           {
            "automargin": true,
            "type": "pie"
           }
          ],
          "scatter": [
           {
            "fillpattern": {
             "fillmode": "overlay",
             "size": 10,
             "solidity": 0.2
            },
            "type": "scatter"
           }
          ],
          "scatter3d": [
           {
            "line": {
             "colorbar": {
              "outlinewidth": 0,
              "ticks": ""
             }
            },
            "marker": {
             "colorbar": {
              "outlinewidth": 0,
              "ticks": ""
             }
            },
            "type": "scatter3d"
           }
          ],
          "scattercarpet": [
           {
            "marker": {
             "colorbar": {
              "outlinewidth": 0,
              "ticks": ""
             }
            },
            "type": "scattercarpet"
           }
          ],
          "scattergeo": [
           {
            "marker": {
             "colorbar": {
              "outlinewidth": 0,
              "ticks": ""
             }
            },
            "type": "scattergeo"
           }
          ],
          "scattergl": [
           {
            "marker": {
             "colorbar": {
              "outlinewidth": 0,
              "ticks": ""
             }
            },
            "type": "scattergl"
           }
          ],
          "scattermapbox": [
           {
            "marker": {
             "colorbar": {
              "outlinewidth": 0,
              "ticks": ""
             }
            },
            "type": "scattermapbox"
           }
          ],
          "scatterpolar": [
           {
            "marker": {
             "colorbar": {
              "outlinewidth": 0,
              "ticks": ""
             }
            },
            "type": "scatterpolar"
           }
          ],
          "scatterpolargl": [
           {
            "marker": {
             "colorbar": {
              "outlinewidth": 0,
              "ticks": ""
             }
            },
            "type": "scatterpolargl"
           }
          ],
          "scatterternary": [
           {
            "marker": {
             "colorbar": {
              "outlinewidth": 0,
              "ticks": ""
             }
            },
            "type": "scatterternary"
           }
          ],
          "surface": [
           {
            "colorbar": {
             "outlinewidth": 0,
             "ticks": ""
            },
            "colorscale": [
             [
              0,
              "#0d0887"
             ],
             [
              0.1111111111111111,
              "#46039f"
             ],
             [
              0.2222222222222222,
              "#7201a8"
             ],
             [
              0.3333333333333333,
              "#9c179e"
             ],
             [
              0.4444444444444444,
              "#bd3786"
             ],
             [
              0.5555555555555556,
              "#d8576b"
             ],
             [
              0.6666666666666666,
              "#ed7953"
             ],
             [
              0.7777777777777778,
              "#fb9f3a"
             ],
             [
              0.8888888888888888,
              "#fdca26"
             ],
             [
              1,
              "#f0f921"
             ]
            ],
            "type": "surface"
           }
          ],
          "table": [
           {
            "cells": {
             "fill": {
              "color": "#EBF0F8"
             },
             "line": {
              "color": "white"
             }
            },
            "header": {
             "fill": {
              "color": "#C8D4E3"
             },
             "line": {
              "color": "white"
             }
            },
            "type": "table"
           }
          ]
         },
         "layout": {
          "annotationdefaults": {
           "arrowcolor": "#2a3f5f",
           "arrowhead": 0,
           "arrowwidth": 1
          },
          "autotypenumbers": "strict",
          "coloraxis": {
           "colorbar": {
            "outlinewidth": 0,
            "ticks": ""
           }
          },
          "colorscale": {
           "diverging": [
            [
             0,
             "#8e0152"
            ],
            [
             0.1,
             "#c51b7d"
            ],
            [
             0.2,
             "#de77ae"
            ],
            [
             0.3,
             "#f1b6da"
            ],
            [
             0.4,
             "#fde0ef"
            ],
            [
             0.5,
             "#f7f7f7"
            ],
            [
             0.6,
             "#e6f5d0"
            ],
            [
             0.7,
             "#b8e186"
            ],
            [
             0.8,
             "#7fbc41"
            ],
            [
             0.9,
             "#4d9221"
            ],
            [
             1,
             "#276419"
            ]
           ],
           "sequential": [
            [
             0,
             "#0d0887"
            ],
            [
             0.1111111111111111,
             "#46039f"
            ],
            [
             0.2222222222222222,
             "#7201a8"
            ],
            [
             0.3333333333333333,
             "#9c179e"
            ],
            [
             0.4444444444444444,
             "#bd3786"
            ],
            [
             0.5555555555555556,
             "#d8576b"
            ],
            [
             0.6666666666666666,
             "#ed7953"
            ],
            [
             0.7777777777777778,
             "#fb9f3a"
            ],
            [
             0.8888888888888888,
             "#fdca26"
            ],
            [
             1,
             "#f0f921"
            ]
           ],
           "sequentialminus": [
            [
             0,
             "#0d0887"
            ],
            [
             0.1111111111111111,
             "#46039f"
            ],
            [
             0.2222222222222222,
             "#7201a8"
            ],
            [
             0.3333333333333333,
             "#9c179e"
            ],
            [
             0.4444444444444444,
             "#bd3786"
            ],
            [
             0.5555555555555556,
             "#d8576b"
            ],
            [
             0.6666666666666666,
             "#ed7953"
            ],
            [
             0.7777777777777778,
             "#fb9f3a"
            ],
            [
             0.8888888888888888,
             "#fdca26"
            ],
            [
             1,
             "#f0f921"
            ]
           ]
          },
          "colorway": [
           "#636efa",
           "#EF553B",
           "#00cc96",
           "#ab63fa",
           "#FFA15A",
           "#19d3f3",
           "#FF6692",
           "#B6E880",
           "#FF97FF",
           "#FECB52"
          ],
          "font": {
           "color": "#2a3f5f"
          },
          "geo": {
           "bgcolor": "white",
           "lakecolor": "white",
           "landcolor": "#E5ECF6",
           "showlakes": true,
           "showland": true,
           "subunitcolor": "white"
          },
          "hoverlabel": {
           "align": "left"
          },
          "hovermode": "closest",
          "mapbox": {
           "style": "light"
          },
          "paper_bgcolor": "white",
          "plot_bgcolor": "#E5ECF6",
          "polar": {
           "angularaxis": {
            "gridcolor": "white",
            "linecolor": "white",
            "ticks": ""
           },
           "bgcolor": "#E5ECF6",
           "radialaxis": {
            "gridcolor": "white",
            "linecolor": "white",
            "ticks": ""
           }
          },
          "scene": {
           "xaxis": {
            "backgroundcolor": "#E5ECF6",
            "gridcolor": "white",
            "gridwidth": 2,
            "linecolor": "white",
            "showbackground": true,
            "ticks": "",
            "zerolinecolor": "white"
           },
           "yaxis": {
            "backgroundcolor": "#E5ECF6",
            "gridcolor": "white",
            "gridwidth": 2,
            "linecolor": "white",
            "showbackground": true,
            "ticks": "",
            "zerolinecolor": "white"
           },
           "zaxis": {
            "backgroundcolor": "#E5ECF6",
            "gridcolor": "white",
            "gridwidth": 2,
            "linecolor": "white",
            "showbackground": true,
            "ticks": "",
            "zerolinecolor": "white"
           }
          },
          "shapedefaults": {
           "line": {
            "color": "#2a3f5f"
           }
          },
          "ternary": {
           "aaxis": {
            "gridcolor": "white",
            "linecolor": "white",
            "ticks": ""
           },
           "baxis": {
            "gridcolor": "white",
            "linecolor": "white",
            "ticks": ""
           },
           "bgcolor": "#E5ECF6",
           "caxis": {
            "gridcolor": "white",
            "linecolor": "white",
            "ticks": ""
           }
          },
          "title": {
           "x": 0.05
          },
          "xaxis": {
           "automargin": true,
           "gridcolor": "white",
           "linecolor": "white",
           "ticks": "",
           "title": {
            "standoff": 15
           },
           "zerolinecolor": "white",
           "zerolinewidth": 2
          },
          "yaxis": {
           "automargin": true,
           "gridcolor": "white",
           "linecolor": "white",
           "ticks": "",
           "title": {
            "standoff": 15
           },
           "zerolinecolor": "white",
           "zerolinewidth": 2
          }
         }
        },
        "title": {
         "text": "Accuracy and Loss"
        },
        "width": 1000,
        "xaxis": {
         "anchor": "y",
         "domain": [
          0,
          0.45
         ],
         "title": {
          "text": "epochs"
         }
        },
        "xaxis2": {
         "anchor": "y2",
         "domain": [
          0.55,
          1
         ],
         "title": {
          "text": "epochs"
         }
        },
        "yaxis": {
         "anchor": "x",
         "domain": [
          0,
          1
         ],
         "title": {
          "text": "accuracy"
         }
        },
        "yaxis2": {
         "anchor": "x2",
         "domain": [
          0,
          1
         ],
         "title": {
          "text": "loss"
         }
        }
       }
      }
     },
     "metadata": {},
     "output_type": "display_data"
    }
   ],
   "source": [
    "import plotly.graph_objects as go\n",
    "from plotly.subplots import make_subplots\n",
    "\n",
    "fig = make_subplots(rows=1, cols=2)\n",
    "fig.add_trace(go.Scatter(x=metrics['epoch'], y=metrics['accuracy'], name='accuracy'), row=1, col=1)\n",
    "fig.add_trace(go.Scatter(x=metrics['epoch'], y=metrics['loss'], name='loss'), row=1, col=2)\n",
    "fig.add_trace(go.Scatter(x=metrics['epoch'], y=metrics['val_accuracy'], name='val_accuracy'), row=1, col=1)\n",
    "fig.add_trace(go.Scatter(x=metrics['epoch'], y=metrics['val_loss'], name='val_loss'), row=1, col=2)\n",
    "\n",
    "fig.update_xaxes(title_text='epochs')\n",
    "fig.update_yaxes(title_text='accuracy', row=1, col=1)\n",
    "fig.update_yaxes(title_text='loss', row=1, col=2)\n",
    "fig.update_layout(width=1000, title='Accuracy and Loss')\n",
    "fig.show()"
   ]
  },
  {
   "cell_type": "code",
   "execution_count": 22,
   "id": "dea0d5f4",
   "metadata": {},
   "outputs": [
    {
     "name": "stdout",
     "output_type": "stream",
     "text": [
      "1.0\n"
     ]
    }
   ],
   "source": [
    "test_loss, test_acc = model.evaluate(X_test, y_test, verbose=0)\n",
    "print(test_acc)"
   ]
  },
  {
   "attachments": {},
   "cell_type": "markdown",
   "id": "dcf959ed",
   "metadata": {},
   "source": [
    "Predykcja na podstawie modelu.\n",
    "* model.evaluate(y_true, y_pred) - pozwala obliczyć metryki modelu\n",
    "* model.predict_classes() - pozwala zwrócić odpowiednio przewidziane klasy\n",
    "* model.predict_proba(), model.predict() - pozwala zwrócić prawdopodobieństwo danej klasy"
   ]
  },
  {
   "cell_type": "code",
   "execution_count": 23,
   "id": "d886fb03",
   "metadata": {},
   "outputs": [
    {
     "name": "stdout",
     "output_type": "stream",
     "text": [
      "63/63 [==============================] - 0s 2ms/step\n"
     ]
    },
    {
     "data": {
      "text/plain": [
       "array([[0.0000000e+00, 1.0000000e+00, 2.4889862e-10, ..., 1.4865245e-33, 0.0000000e+00, 0.0000000e+00],\n",
       "       [0.0000000e+00, 1.0000000e+00, 2.8517717e-09, ..., 1.2032549e-33, 0.0000000e+00, 0.0000000e+00],\n",
       "       [1.0833930e-03, 1.8595500e-08, 2.0683728e-24, ..., 1.6937731e-11, 9.9707282e-01, 1.0513142e-08],\n",
       "       ...,\n",
       "       [0.0000000e+00, 1.0000000e+00, 2.7596214e-10, ..., 2.5803599e-16, 0.0000000e+00, 9.0406366e-21],\n",
       "       [4.3642059e-19, 0.0000000e+00, 0.0000000e+00, ..., 1.0000000e+00, 0.0000000e+00, 0.0000000e+00],\n",
       "       [5.7431768e-11, 2.9921134e-03, 0.0000000e+00, ..., 1.6224694e-08, 0.0000000e+00, 9.9700791e-01]], dtype=float32)"
      ]
     },
     "execution_count": 23,
     "metadata": {},
     "output_type": "execute_result"
    }
   ],
   "source": [
    "predictions = model.predict(X_test)\n",
    "predictions"
   ]
  },
  {
   "cell_type": "code",
   "execution_count": 24,
   "id": "f0517586",
   "metadata": {},
   "outputs": [
    {
     "data": {
      "text/html": [
       "<div>\n",
       "<style scoped>\n",
       "    .dataframe tbody tr th:only-of-type {\n",
       "        vertical-align: middle;\n",
       "    }\n",
       "\n",
       "    .dataframe tbody tr th {\n",
       "        vertical-align: top;\n",
       "    }\n",
       "\n",
       "    .dataframe thead th {\n",
       "        text-align: right;\n",
       "    }\n",
       "</style>\n",
       "<table border=\"1\" class=\"dataframe\">\n",
       "  <thead>\n",
       "    <tr style=\"text-align: right;\">\n",
       "      <th></th>\n",
       "      <th>0</th>\n",
       "      <th>1</th>\n",
       "      <th>2</th>\n",
       "      <th>3</th>\n",
       "      <th>4</th>\n",
       "      <th>5</th>\n",
       "      <th>6</th>\n",
       "    </tr>\n",
       "  </thead>\n",
       "  <tbody>\n",
       "    <tr>\n",
       "      <th>0</th>\n",
       "      <td>0.000000e+00</td>\n",
       "      <td>1.000000e+00</td>\n",
       "      <td>2.488986e-10</td>\n",
       "      <td>2.443160e-21</td>\n",
       "      <td>1.486524e-33</td>\n",
       "      <td>0.000000</td>\n",
       "      <td>0.000000e+00</td>\n",
       "    </tr>\n",
       "    <tr>\n",
       "      <th>1</th>\n",
       "      <td>0.000000e+00</td>\n",
       "      <td>1.000000e+00</td>\n",
       "      <td>2.851772e-09</td>\n",
       "      <td>1.165615e-21</td>\n",
       "      <td>1.203255e-33</td>\n",
       "      <td>0.000000</td>\n",
       "      <td>0.000000e+00</td>\n",
       "    </tr>\n",
       "    <tr>\n",
       "      <th>2</th>\n",
       "      <td>1.083393e-03</td>\n",
       "      <td>1.859550e-08</td>\n",
       "      <td>2.068373e-24</td>\n",
       "      <td>1.843792e-03</td>\n",
       "      <td>1.693773e-11</td>\n",
       "      <td>0.997073</td>\n",
       "      <td>1.051314e-08</td>\n",
       "    </tr>\n",
       "    <tr>\n",
       "      <th>3</th>\n",
       "      <td>3.163576e-15</td>\n",
       "      <td>4.712936e-04</td>\n",
       "      <td>0.000000e+00</td>\n",
       "      <td>0.000000e+00</td>\n",
       "      <td>2.149729e-04</td>\n",
       "      <td>0.000000</td>\n",
       "      <td>9.993137e-01</td>\n",
       "    </tr>\n",
       "    <tr>\n",
       "      <th>4</th>\n",
       "      <td>1.561576e-03</td>\n",
       "      <td>2.111107e-08</td>\n",
       "      <td>0.000000e+00</td>\n",
       "      <td>2.556299e-03</td>\n",
       "      <td>8.241198e-18</td>\n",
       "      <td>0.995882</td>\n",
       "      <td>3.276651e-08</td>\n",
       "    </tr>\n",
       "    <tr>\n",
       "      <th>...</th>\n",
       "      <td>...</td>\n",
       "      <td>...</td>\n",
       "      <td>...</td>\n",
       "      <td>...</td>\n",
       "      <td>...</td>\n",
       "      <td>...</td>\n",
       "      <td>...</td>\n",
       "    </tr>\n",
       "    <tr>\n",
       "      <th>1997</th>\n",
       "      <td>2.665436e-19</td>\n",
       "      <td>0.000000e+00</td>\n",
       "      <td>0.000000e+00</td>\n",
       "      <td>0.000000e+00</td>\n",
       "      <td>1.000000e+00</td>\n",
       "      <td>0.000000</td>\n",
       "      <td>0.000000e+00</td>\n",
       "    </tr>\n",
       "    <tr>\n",
       "      <th>1998</th>\n",
       "      <td>8.817855e-19</td>\n",
       "      <td>0.000000e+00</td>\n",
       "      <td>0.000000e+00</td>\n",
       "      <td>0.000000e+00</td>\n",
       "      <td>1.000000e+00</td>\n",
       "      <td>0.000000</td>\n",
       "      <td>0.000000e+00</td>\n",
       "    </tr>\n",
       "    <tr>\n",
       "      <th>1999</th>\n",
       "      <td>0.000000e+00</td>\n",
       "      <td>1.000000e+00</td>\n",
       "      <td>2.759621e-10</td>\n",
       "      <td>5.244889e-21</td>\n",
       "      <td>2.580360e-16</td>\n",
       "      <td>0.000000</td>\n",
       "      <td>9.040637e-21</td>\n",
       "    </tr>\n",
       "    <tr>\n",
       "      <th>2000</th>\n",
       "      <td>4.364206e-19</td>\n",
       "      <td>0.000000e+00</td>\n",
       "      <td>0.000000e+00</td>\n",
       "      <td>0.000000e+00</td>\n",
       "      <td>1.000000e+00</td>\n",
       "      <td>0.000000</td>\n",
       "      <td>0.000000e+00</td>\n",
       "    </tr>\n",
       "    <tr>\n",
       "      <th>2001</th>\n",
       "      <td>5.743177e-11</td>\n",
       "      <td>2.992113e-03</td>\n",
       "      <td>0.000000e+00</td>\n",
       "      <td>1.299374e-33</td>\n",
       "      <td>1.622469e-08</td>\n",
       "      <td>0.000000</td>\n",
       "      <td>9.970079e-01</td>\n",
       "    </tr>\n",
       "  </tbody>\n",
       "</table>\n",
       "<p>2002 rows × 7 columns</p>\n",
       "</div>"
      ],
      "text/plain": [
       "                 0             1             2             3             4         5             6\n",
       "0     0.000000e+00  1.000000e+00  2.488986e-10  2.443160e-21  1.486524e-33  0.000000  0.000000e+00\n",
       "1     0.000000e+00  1.000000e+00  2.851772e-09  1.165615e-21  1.203255e-33  0.000000  0.000000e+00\n",
       "2     1.083393e-03  1.859550e-08  2.068373e-24  1.843792e-03  1.693773e-11  0.997073  1.051314e-08\n",
       "3     3.163576e-15  4.712936e-04  0.000000e+00  0.000000e+00  2.149729e-04  0.000000  9.993137e-01\n",
       "4     1.561576e-03  2.111107e-08  0.000000e+00  2.556299e-03  8.241198e-18  0.995882  3.276651e-08\n",
       "...            ...           ...           ...           ...           ...       ...           ...\n",
       "1997  2.665436e-19  0.000000e+00  0.000000e+00  0.000000e+00  1.000000e+00  0.000000  0.000000e+00\n",
       "1998  8.817855e-19  0.000000e+00  0.000000e+00  0.000000e+00  1.000000e+00  0.000000  0.000000e+00\n",
       "1999  0.000000e+00  1.000000e+00  2.759621e-10  5.244889e-21  2.580360e-16  0.000000  9.040637e-21\n",
       "2000  4.364206e-19  0.000000e+00  0.000000e+00  0.000000e+00  1.000000e+00  0.000000  0.000000e+00\n",
       "2001  5.743177e-11  2.992113e-03  0.000000e+00  1.299374e-33  1.622469e-08  0.000000  9.970079e-01\n",
       "\n",
       "[2002 rows x 7 columns]"
      ]
     },
     "execution_count": 24,
     "metadata": {},
     "output_type": "execute_result"
    }
   ],
   "source": [
    "predictions_df = pd.DataFrame(predictions)\n",
    "predictions_df"
   ]
  },
  {
   "cell_type": "code",
   "execution_count": 25,
   "id": "03d216ea",
   "metadata": {},
   "outputs": [
    {
     "data": {
      "text/plain": [
       "array([1, 1, 5, ..., 1, 4, 6], dtype=int64)"
      ]
     },
     "execution_count": 25,
     "metadata": {},
     "output_type": "execute_result"
    }
   ],
   "source": [
    "predictions_cls = predictions.argmax(axis=-1)\n",
    "predictions_cls"
   ]
  },
  {
   "attachments": {},
   "cell_type": "markdown",
   "id": "70f70183",
   "metadata": {},
   "source": [
    "# Zapisanie modelu"
   ]
  },
  {
   "cell_type": "code",
   "execution_count": 26,
   "id": "5a32ea88",
   "metadata": {},
   "outputs": [
    {
     "name": "stderr",
     "output_type": "stream",
     "text": [
      "WARNING:absl:Found untraced functions such as _update_step_xla while saving (showing 1 of 1). These functions will not be directly callable after loading.\n"
     ]
    },
    {
     "name": "stdout",
     "output_type": "stream",
     "text": [
      "INFO:tensorflow:Assets written to: C:\\Users\\Dell\\Documents\\Git\\stormwater-analysis\\stormwater_analysis\\data\\catchment_classification_model\\catchemnt_classifier\\assets\n"
     ]
    },
    {
     "name": "stderr",
     "output_type": "stream",
     "text": [
      "INFO:tensorflow:Assets written to: C:\\Users\\Dell\\Documents\\Git\\stormwater-analysis\\stormwater_analysis\\data\\catchment_classification_model\\catchemnt_classifier\\assets\n"
     ]
    }
   ],
   "source": [
    "model.save(r'C:\\Users\\Dell\\Documents\\Git\\stormwater-analysis\\stormwater_analysis\\data\\catchment_classification_model\\catchemnt_classifier')"
   ]
  },
  {
   "attachments": {},
   "cell_type": "markdown",
   "id": "2a8a23e3",
   "metadata": {},
   "source": [
    "# Załadowanie modelu"
   ]
  },
  {
   "cell_type": "code",
   "execution_count": 27,
   "id": "772d2f7e",
   "metadata": {},
   "outputs": [],
   "source": [
    "from tensorflow import keras\n",
    "model = keras.models.load_model(r'C:\\Users\\Dell\\Documents\\Git\\stormwater-analysis\\stormwater_analysis\\data\\catchment_classification_model\\catchemnt_classifier')"
   ]
  },
  {
   "cell_type": "code",
   "execution_count": 28,
   "id": "c05cbf24",
   "metadata": {},
   "outputs": [
    {
     "data": {
      "text/html": [
       "<div>\n",
       "<style scoped>\n",
       "    .dataframe tbody tr th:only-of-type {\n",
       "        vertical-align: middle;\n",
       "    }\n",
       "\n",
       "    .dataframe tbody tr th {\n",
       "        vertical-align: top;\n",
       "    }\n",
       "\n",
       "    .dataframe thead th {\n",
       "        text-align: right;\n",
       "    }\n",
       "</style>\n",
       "<table border=\"1\" class=\"dataframe\">\n",
       "  <thead>\n",
       "    <tr style=\"text-align: right;\">\n",
       "      <th></th>\n",
       "      <th>Area</th>\n",
       "      <th>PercImperv</th>\n",
       "      <th>Width</th>\n",
       "      <th>PercSlope</th>\n",
       "      <th>PctZero</th>\n",
       "      <th>TotalPrecip</th>\n",
       "      <th>TotalRunoffMG</th>\n",
       "      <th>PeakRunoff</th>\n",
       "      <th>RunoffCoeff</th>\n",
       "    </tr>\n",
       "  </thead>\n",
       "  <tbody>\n",
       "    <tr>\n",
       "      <th>7438</th>\n",
       "      <td>1.43</td>\n",
       "      <td>5.09</td>\n",
       "      <td>119.58</td>\n",
       "      <td>10.00</td>\n",
       "      <td>10</td>\n",
       "      <td>9.50</td>\n",
       "      <td>0.01</td>\n",
       "      <td>0.00</td>\n",
       "      <td>0.063</td>\n",
       "    </tr>\n",
       "    <tr>\n",
       "      <th>9058</th>\n",
       "      <td>1.00</td>\n",
       "      <td>5.09</td>\n",
       "      <td>100.00</td>\n",
       "      <td>10.00</td>\n",
       "      <td>10</td>\n",
       "      <td>0.32</td>\n",
       "      <td>0.00</td>\n",
       "      <td>0.00</td>\n",
       "      <td>0.005</td>\n",
       "    </tr>\n",
       "    <tr>\n",
       "      <th>568</th>\n",
       "      <td>0.77</td>\n",
       "      <td>30.00</td>\n",
       "      <td>87.75</td>\n",
       "      <td>15.00</td>\n",
       "      <td>80</td>\n",
       "      <td>10.10</td>\n",
       "      <td>0.04</td>\n",
       "      <td>0.03</td>\n",
       "      <td>0.462</td>\n",
       "    </tr>\n",
       "    <tr>\n",
       "      <th>9344</th>\n",
       "      <td>0.60</td>\n",
       "      <td>15.00</td>\n",
       "      <td>77.46</td>\n",
       "      <td>30.00</td>\n",
       "      <td>5</td>\n",
       "      <td>0.32</td>\n",
       "      <td>0.00</td>\n",
       "      <td>0.00</td>\n",
       "      <td>0.007</td>\n",
       "    </tr>\n",
       "    <tr>\n",
       "      <th>2236</th>\n",
       "      <td>1.39</td>\n",
       "      <td>30.00</td>\n",
       "      <td>117.90</td>\n",
       "      <td>5.09</td>\n",
       "      <td>80</td>\n",
       "      <td>38.33</td>\n",
       "      <td>0.44</td>\n",
       "      <td>0.30</td>\n",
       "      <td>0.820</td>\n",
       "    </tr>\n",
       "    <tr>\n",
       "      <th>...</th>\n",
       "      <td>...</td>\n",
       "      <td>...</td>\n",
       "      <td>...</td>\n",
       "      <td>...</td>\n",
       "      <td>...</td>\n",
       "      <td>...</td>\n",
       "      <td>...</td>\n",
       "      <td>...</td>\n",
       "      <td>...</td>\n",
       "    </tr>\n",
       "    <tr>\n",
       "      <th>533</th>\n",
       "      <td>0.19</td>\n",
       "      <td>83.33</td>\n",
       "      <td>43.59</td>\n",
       "      <td>45.00</td>\n",
       "      <td>80</td>\n",
       "      <td>10.10</td>\n",
       "      <td>0.02</td>\n",
       "      <td>0.01</td>\n",
       "      <td>0.880</td>\n",
       "    </tr>\n",
       "    <tr>\n",
       "      <th>132</th>\n",
       "      <td>1.36</td>\n",
       "      <td>65.00</td>\n",
       "      <td>116.62</td>\n",
       "      <td>61.67</td>\n",
       "      <td>80</td>\n",
       "      <td>10.10</td>\n",
       "      <td>0.10</td>\n",
       "      <td>0.09</td>\n",
       "      <td>0.761</td>\n",
       "    </tr>\n",
       "    <tr>\n",
       "      <th>7329</th>\n",
       "      <td>0.30</td>\n",
       "      <td>10.00</td>\n",
       "      <td>54.77</td>\n",
       "      <td>20.00</td>\n",
       "      <td>10</td>\n",
       "      <td>9.50</td>\n",
       "      <td>0.00</td>\n",
       "      <td>0.00</td>\n",
       "      <td>0.127</td>\n",
       "    </tr>\n",
       "    <tr>\n",
       "      <th>8466</th>\n",
       "      <td>1.25</td>\n",
       "      <td>65.00</td>\n",
       "      <td>111.80</td>\n",
       "      <td>61.67</td>\n",
       "      <td>80</td>\n",
       "      <td>12.67</td>\n",
       "      <td>0.12</td>\n",
       "      <td>0.04</td>\n",
       "      <td>0.772</td>\n",
       "    </tr>\n",
       "    <tr>\n",
       "      <th>964</th>\n",
       "      <td>1.08</td>\n",
       "      <td>15.00</td>\n",
       "      <td>103.92</td>\n",
       "      <td>10.00</td>\n",
       "      <td>5</td>\n",
       "      <td>10.10</td>\n",
       "      <td>0.02</td>\n",
       "      <td>0.01</td>\n",
       "      <td>0.140</td>\n",
       "    </tr>\n",
       "  </tbody>\n",
       "</table>\n",
       "<p>2002 rows × 9 columns</p>\n",
       "</div>"
      ],
      "text/plain": [
       "      Area  PercImperv   Width  PercSlope  PctZero  TotalPrecip  TotalRunoffMG  PeakRunoff  RunoffCoeff\n",
       "7438  1.43        5.09  119.58      10.00       10         9.50           0.01        0.00        0.063\n",
       "9058  1.00        5.09  100.00      10.00       10         0.32           0.00        0.00        0.005\n",
       "568   0.77       30.00   87.75      15.00       80        10.10           0.04        0.03        0.462\n",
       "9344  0.60       15.00   77.46      30.00        5         0.32           0.00        0.00        0.007\n",
       "2236  1.39       30.00  117.90       5.09       80        38.33           0.44        0.30        0.820\n",
       "...    ...         ...     ...        ...      ...          ...            ...         ...          ...\n",
       "533   0.19       83.33   43.59      45.00       80        10.10           0.02        0.01        0.880\n",
       "132   1.36       65.00  116.62      61.67       80        10.10           0.10        0.09        0.761\n",
       "7329  0.30       10.00   54.77      20.00       10         9.50           0.00        0.00        0.127\n",
       "8466  1.25       65.00  111.80      61.67       80        12.67           0.12        0.04        0.772\n",
       "964   1.08       15.00  103.92      10.00        5        10.10           0.02        0.01        0.140\n",
       "\n",
       "[2002 rows x 9 columns]"
      ]
     },
     "execution_count": 28,
     "metadata": {},
     "output_type": "execute_result"
    }
   ],
   "source": [
    "X_test"
   ]
  },
  {
   "cell_type": "code",
   "execution_count": 29,
   "id": "0e9ee3c8",
   "metadata": {},
   "outputs": [
    {
     "name": "stdout",
     "output_type": "stream",
     "text": [
      "Requirement already satisfied: pydot in c:\\users\\dell\\documents\\git\\stormwater-analysis\\venv\\lib\\site-packages (1.4.2)\n",
      "Requirement already satisfied: pyparsing>=2.1.4 in c:\\users\\dell\\documents\\git\\stormwater-analysis\\venv\\lib\\site-packages (from pydot) (3.0.9)\n"
     ]
    },
    {
     "name": "stderr",
     "output_type": "stream",
     "text": [
      "WARNING: You are using pip version 21.3.1; however, version 23.2.1 is available.\n",
      "You should consider upgrading via the 'C:\\Users\\Dell\\Documents\\Git\\stormwater-analysis\\venv\\Scripts\\python.exe -m pip install --upgrade pip' command.\n"
     ]
    }
   ],
   "source": [
    "! pip install pydot\n"
   ]
  },
  {
   "cell_type": "code",
   "execution_count": 30,
   "id": "32bb7740",
   "metadata": {},
   "outputs": [
    {
     "name": "stdout",
     "output_type": "stream",
     "text": [
      "You must install pydot (`pip install pydot`) and install graphviz (see instructions at https://graphviz.gitlab.io/download/) for plot_model to work.\n"
     ]
    }
   ],
   "source": [
    "from tensorflow.keras.utils import plot_model\n",
    "plot_model(model)"
   ]
  },
  {
   "cell_type": "code",
   "execution_count": 31,
   "id": "96645d62",
   "metadata": {},
   "outputs": [
    {
     "name": "stdout",
     "output_type": "stream",
     "text": [
      "63/63 [==============================] - 0s 1ms/step\n"
     ]
    },
    {
     "data": {
      "text/plain": [
       "array([[0.0000000e+00, 1.0000000e+00, 2.4889862e-10, ..., 1.4865245e-33, 0.0000000e+00, 0.0000000e+00],\n",
       "       [0.0000000e+00, 1.0000000e+00, 2.8517717e-09, ..., 1.2032549e-33, 0.0000000e+00, 0.0000000e+00],\n",
       "       [1.0833930e-03, 1.8595500e-08, 2.0683728e-24, ..., 1.6937731e-11, 9.9707282e-01, 1.0513142e-08],\n",
       "       ...,\n",
       "       [0.0000000e+00, 1.0000000e+00, 2.7596214e-10, ..., 2.5803599e-16, 0.0000000e+00, 9.0406366e-21],\n",
       "       [4.3642059e-19, 0.0000000e+00, 0.0000000e+00, ..., 1.0000000e+00, 0.0000000e+00, 0.0000000e+00],\n",
       "       [5.7431768e-11, 2.9921134e-03, 0.0000000e+00, ..., 1.6224694e-08, 0.0000000e+00, 9.9700791e-01]], dtype=float32)"
      ]
     },
     "execution_count": 31,
     "metadata": {},
     "output_type": "execute_result"
    }
   ],
   "source": [
    "pred = model.predict(X_test)\n",
    "pred"
   ]
  },
  {
   "cell_type": "code",
   "execution_count": 32,
   "id": "f42874b5",
   "metadata": {},
   "outputs": [
    {
     "ename": "NameError",
     "evalue": "name 'tensorflow' is not defined",
     "output_type": "error",
     "traceback": [
      "\u001b[1;31m---------------------------------------------------------------------------\u001b[0m",
      "\u001b[1;31mNameError\u001b[0m                                 Traceback (most recent call last)",
      "Cell \u001b[1;32mIn[32], line 1\u001b[0m\n\u001b[1;32m----> 1\u001b[0m tensorflow\u001b[39m.\u001b[39mversion\n",
      "\u001b[1;31mNameError\u001b[0m: name 'tensorflow' is not defined"
     ]
    }
   ],
   "source": [
    "tensorflow.version"
   ]
  },
  {
   "cell_type": "code",
   "execution_count": null,
   "id": "288ccd1d",
   "metadata": {},
   "outputs": [],
   "source": []
  }
 ],
 "metadata": {
  "kernelspec": {
   "display_name": "Python 3 (ipykernel)",
   "language": "python",
   "name": "python3"
  },
  "language_info": {
   "codemirror_mode": {
    "name": "ipython",
    "version": 3
   },
   "file_extension": ".py",
   "mimetype": "text/x-python",
   "name": "python",
   "nbconvert_exporter": "python",
   "pygments_lexer": "ipython3",
   "version": "3.10.2"
  }
 },
 "nbformat": 4,
 "nbformat_minor": 5
}
