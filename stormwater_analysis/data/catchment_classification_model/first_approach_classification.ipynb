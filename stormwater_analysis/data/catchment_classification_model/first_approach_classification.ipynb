{
 "cells": [
  {
   "attachments": {},
   "cell_type": "markdown",
   "id": "5a0b6d6a",
   "metadata": {},
   "source": [
    "<a target=\"_blank\" href=\"https://colab.research.google.com/github/BuczynskiRafal/stormwater-analysis/blob/main/stormwater_analysis/data/catchment_classification_model/first_approach_classification.ipynb\">"
   ]
  },
  {
   "cell_type": "markdown",
   "id": "6633bc45",
   "metadata": {},
   "source": [
    "<a target=\"_blank\" href=\"https://colab.research.google.com/github/BuczynskiRafal/stormwater-analysis/blob/main/stormwater_analysis/data/catchment_classification_model/first_approach_classification.ipynb\">\n",
    "    <img src=\"https://colab.research.google.com/assets/colab-badge.svg\" alt=\"Open In Colab\"/>\n",
    "</a>"
   ]
  },
  {
   "attachments": {},
   "cell_type": "markdown",
   "id": "203c68be-eb8f-49c1-8f55-d3929d447923",
   "metadata": {},
   "source": [
    "# Training a model for catchment classification. \n",
    "* kategoryzacja zlewni oparta o większość dostępnych ceech zlewni z plików inp i rpt"
   ]
  },
  {
   "attachments": {},
   "cell_type": "markdown",
   "id": "0ca5aa33-8a1f-41a9-9f45-44b2405dff6a",
   "metadata": {},
   "source": [
    "# Imports"
   ]
  },
  {
   "cell_type": "code",
   "execution_count": 1,
   "id": "36d5c0c3-e761-4ba6-9aab-f74dada646a3",
   "metadata": {},
   "outputs": [],
   "source": [
    "import swmmio\n",
    "import pyswmm\n",
    "import pandas as pd\n",
    "import numpy as np\n",
    "from sklearn.model_selection import train_test_split\n",
    "from tensorflow.keras.models import Sequential\n",
    "from tensorflow.keras.layers import Dense, Dropout\n",
    "from tensorflow.keras.callbacks import EarlyStopping\n",
    "from tensorflow.keras.layers.experimental import preprocessing\n",
    "\n",
    "\n",
    "desired_width = 500\n",
    "pd.set_option(\"display.width\", desired_width)\n",
    "np.set_printoptions(linewidth=desired_width)\n",
    "pd.set_option(\"display.max_columns\", 30)"
   ]
  },
  {
   "cell_type": "code",
   "execution_count": 2,
   "id": "93a421bf-75fd-46fa-b8a1-6277aa189444",
   "metadata": {
    "tags": []
   },
   "outputs": [
    {
     "data": {
      "text/html": [
       "<div>\n",
       "<style scoped>\n",
       "    .dataframe tbody tr th:only-of-type {\n",
       "        vertical-align: middle;\n",
       "    }\n",
       "\n",
       "    .dataframe tbody tr th {\n",
       "        vertical-align: top;\n",
       "    }\n",
       "\n",
       "    .dataframe thead th {\n",
       "        text-align: right;\n",
       "    }\n",
       "</style>\n",
       "<table border=\"1\" class=\"dataframe\">\n",
       "  <thead>\n",
       "    <tr style=\"text-align: right;\">\n",
       "      <th></th>\n",
       "      <th>classes</th>\n",
       "    </tr>\n",
       "  </thead>\n",
       "  <tbody>\n",
       "    <tr>\n",
       "      <th>0</th>\n",
       "      <td>compact_urban_development</td>\n",
       "    </tr>\n",
       "    <tr>\n",
       "      <th>1</th>\n",
       "      <td>urban</td>\n",
       "    </tr>\n",
       "    <tr>\n",
       "      <th>2</th>\n",
       "      <td>loose_urban_development</td>\n",
       "    </tr>\n",
       "    <tr>\n",
       "      <th>3</th>\n",
       "      <td>wooded_area</td>\n",
       "    </tr>\n",
       "    <tr>\n",
       "      <th>4</th>\n",
       "      <td>grassy</td>\n",
       "    </tr>\n",
       "    <tr>\n",
       "      <th>5</th>\n",
       "      <td>loose_soil</td>\n",
       "    </tr>\n",
       "    <tr>\n",
       "      <th>6</th>\n",
       "      <td>steep_area</td>\n",
       "    </tr>\n",
       "  </tbody>\n",
       "</table>\n",
       "</div>"
      ],
      "text/plain": [
       "                     classes\n",
       "0  compact_urban_development\n",
       "1                      urban\n",
       "2    loose_urban_development\n",
       "3                wooded_area\n",
       "4                     grassy\n",
       "5                 loose_soil\n",
       "6                 steep_area"
      ]
     },
     "execution_count": 2,
     "metadata": {},
     "output_type": "execute_result"
    }
   ],
   "source": [
    "classes = pd.DataFrame(\n",
    "    data={\n",
    "        \"classes\": [\n",
    "            \"compact_urban_development\",\n",
    "            \"urban\",\n",
    "            \"loose_urban_development\",\n",
    "            \"wooded_area\",\n",
    "            \"grassy\",\n",
    "            \"loose_soil\",\n",
    "            \"steep_area\",\n",
    "        ]\n",
    "    }\n",
    ")\n",
    "classes"
   ]
  },
  {
   "attachments": {},
   "cell_type": "markdown",
   "id": "4a70e679-858b-452c-b86f-5970de24452d",
   "metadata": {},
   "source": [
    "# Get files"
   ]
  },
  {
   "cell_type": "code",
   "execution_count": 3,
   "id": "33997e0f-4acc-4716-91a1-52529670ecdc",
   "metadata": {
    "tags": []
   },
   "outputs": [],
   "source": [
    "INP_FILE_01 = \"dataset/subcatchment_dataset_01.inp\"\n",
    "INP_FILE_02 = \"dataset/subcatchment_dataset_02.inp\"\n",
    "INP_FILE_03 = \"dataset/subcatchment_dataset_03.inp\"\n",
    "INP_FILE_04 = \"dataset/subcatchment_dataset_04.inp\"\n",
    "INP_FILE_05 = \"dataset/subcatchment_dataset_05.inp\"\n",
    "INP_FILE_06 = \"dataset/subcatchment_dataset_06.inp\"\n",
    "INP_FILE_07 = \"dataset/subcatchment_dataset_07.inp\"\n",
    "INP_FILE_08 = \"dataset/subcatchment_dataset_08.inp\"\n",
    "INP_FILE_09 = \"dataset/subcatchment_dataset_09.inp\"\n",
    "INP_FILE_10 = \"dataset/subcatchment_dataset_10.inp\"\n",
    "files = [INP_FILE_01, INP_FILE_02, INP_FILE_03, INP_FILE_04, INP_FILE_05, INP_FILE_06, INP_FILE_07, INP_FILE_08, INP_FILE_09, INP_FILE_10]"
   ]
  },
  {
   "attachments": {},
   "cell_type": "markdown",
   "id": "64f26c2a-8ea2-479f-afb4-a308ef9bd098",
   "metadata": {
    "tags": []
   },
   "source": [
    "# Run simulation"
   ]
  },
  {
   "cell_type": "code",
   "execution_count": 4,
   "id": "55ba70ee-57b6-4f10-ba31-1491cf3e5abd",
   "metadata": {
    "tags": []
   },
   "outputs": [],
   "source": [
    "for f in files:\n",
    "    with pyswmm.Simulation(f) as sim:\n",
    "        for step in sim:\n",
    "            pass"
   ]
  },
  {
   "attachments": {},
   "cell_type": "markdown",
   "id": "41a1e5e8-bc02-423b-be65-27525ff80744",
   "metadata": {
    "tags": []
   },
   "source": [
    "# Read inp and rpt file as swmmio model object"
   ]
  },
  {
   "cell_type": "code",
   "execution_count": 5,
   "id": "47c87820-5d5f-40d4-b47f-f1f9e3802551",
   "metadata": {
    "tags": []
   },
   "outputs": [],
   "source": [
    "model_01 = swmmio.Model(INP_FILE_01)\n",
    "model_02 = swmmio.Model(INP_FILE_02)\n",
    "model_03 = swmmio.Model(INP_FILE_03)\n",
    "model_04 = swmmio.Model(INP_FILE_04)\n",
    "model_05 = swmmio.Model(INP_FILE_05)\n",
    "model_06 = swmmio.Model(INP_FILE_06)\n",
    "model_07 = swmmio.Model(INP_FILE_07)\n",
    "model_08 = swmmio.Model(INP_FILE_08)\n",
    "model_09 = swmmio.Model(INP_FILE_09)\n",
    "model_10 = swmmio.Model(INP_FILE_10)\n",
    "\n",
    "models = [model_01, model_02, model_03, model_04, model_05, model_06, model_07, model_08, model_09, model_10]"
   ]
  },
  {
   "attachments": {},
   "cell_type": "markdown",
   "id": "509d6391-c4ac-462f-be8f-d39f57aa7666",
   "metadata": {
    "tags": []
   },
   "source": [
    "## Get subcatchments data from the model"
   ]
  },
  {
   "cell_type": "code",
   "execution_count": 6,
   "id": "3c34c355-f5c1-420f-a437-2223f8ff53e5",
   "metadata": {},
   "outputs": [],
   "source": [
    "raw_subcatchments_01 = model_01.subcatchments.dataframe\n",
    "raw_subcatchments_02 = model_02.subcatchments.dataframe\n",
    "raw_subcatchments_03 = model_03.subcatchments.dataframe\n",
    "raw_subcatchments_04 = model_04.subcatchments.dataframe\n",
    "raw_subcatchments_05 = model_05.subcatchments.dataframe\n",
    "raw_subcatchments_06 = model_06.subcatchments.dataframe\n",
    "raw_subcatchments_07 = model_07.subcatchments.dataframe\n",
    "raw_subcatchments_08 = model_08.subcatchments.dataframe\n",
    "raw_subcatchments_09 = model_09.subcatchments.dataframe\n",
    "raw_subcatchments_10 = model_10.subcatchments.dataframe\n",
    "\n",
    "subcatchments_01 = raw_subcatchments_01.copy()\n",
    "subcatchments_02 = raw_subcatchments_02.copy()\n",
    "subcatchments_03 = raw_subcatchments_03.copy()\n",
    "subcatchments_04 = raw_subcatchments_04.copy()\n",
    "subcatchments_05 = raw_subcatchments_05.copy()\n",
    "subcatchments_06 = raw_subcatchments_06.copy()\n",
    "subcatchments_07 = raw_subcatchments_07.copy()\n",
    "subcatchments_08 = raw_subcatchments_08.copy()\n",
    "subcatchments_09 = raw_subcatchments_09.copy()\n",
    "subcatchments_10 = raw_subcatchments_10.copy()\n",
    "\n",
    "subcatchments = [subcatchments_01, subcatchments_02, subcatchments_03, subcatchments_04, subcatchments_05, subcatchments_06, subcatchments_07, subcatchments_08, subcatchments_09, subcatchments_10]"
   ]
  },
  {
   "attachments": {},
   "cell_type": "markdown",
   "id": "90961230-f871-4f50-8d48-52f509304ec2",
   "metadata": {
    "tags": []
   },
   "source": [
    "### Drop unused columns"
   ]
  },
  {
   "cell_type": "code",
   "execution_count": 7,
   "id": "8d4bf621-5085-4641-a7c5-38460e68ab4b",
   "metadata": {
    "tags": []
   },
   "outputs": [],
   "source": [
    "for frame in subcatchments:\n",
    "    frame.drop(['N-Imperv', 'N-Perv', 'S-Imperv',\t'S-Perv', 'coords', 'RouteTo', 'CurbLength', 'Outlet', 'Raingage', 'TotalRunon', 'TotalEvap', 'TotalInfil', 'ImpervRunoff', 'PervRunoff', 'TotalRunoffIn'], axis=1, inplace=True)"
   ]
  },
  {
   "cell_type": "code",
   "execution_count": 8,
   "id": "2cc1d245",
   "metadata": {},
   "outputs": [
    {
     "data": {
      "text/html": [
       "<div>\n",
       "<style scoped>\n",
       "    .dataframe tbody tr th:only-of-type {\n",
       "        vertical-align: middle;\n",
       "    }\n",
       "\n",
       "    .dataframe tbody tr th {\n",
       "        vertical-align: top;\n",
       "    }\n",
       "\n",
       "    .dataframe thead th {\n",
       "        text-align: right;\n",
       "    }\n",
       "</style>\n",
       "<table border=\"1\" class=\"dataframe\">\n",
       "  <thead>\n",
       "    <tr style=\"text-align: right;\">\n",
       "      <th></th>\n",
       "      <th>Area</th>\n",
       "      <th>PercImperv</th>\n",
       "      <th>Width</th>\n",
       "      <th>PercSlope</th>\n",
       "      <th>PctZero</th>\n",
       "      <th>TotalPrecip</th>\n",
       "      <th>TotalRunoffMG</th>\n",
       "      <th>PeakRunoff</th>\n",
       "      <th>RunoffCoeff</th>\n",
       "    </tr>\n",
       "    <tr>\n",
       "      <th>Name</th>\n",
       "      <th></th>\n",
       "      <th></th>\n",
       "      <th></th>\n",
       "      <th></th>\n",
       "      <th></th>\n",
       "      <th></th>\n",
       "      <th></th>\n",
       "      <th></th>\n",
       "      <th></th>\n",
       "    </tr>\n",
       "  </thead>\n",
       "  <tbody>\n",
       "    <tr>\n",
       "      <th>S1</th>\n",
       "      <td>0.50</td>\n",
       "      <td>20.00</td>\n",
       "      <td>300.00</td>\n",
       "      <td>5.00</td>\n",
       "      <td>70</td>\n",
       "      <td>10.10</td>\n",
       "      <td>0.02</td>\n",
       "      <td>0.02</td>\n",
       "      <td>0.407</td>\n",
       "    </tr>\n",
       "    <tr>\n",
       "      <th>S10</th>\n",
       "      <td>1.87</td>\n",
       "      <td>45.00</td>\n",
       "      <td>136.75</td>\n",
       "      <td>15.00</td>\n",
       "      <td>90</td>\n",
       "      <td>10.10</td>\n",
       "      <td>0.11</td>\n",
       "      <td>0.09</td>\n",
       "      <td>0.587</td>\n",
       "    </tr>\n",
       "    <tr>\n",
       "      <th>S100</th>\n",
       "      <td>1.71</td>\n",
       "      <td>45.00</td>\n",
       "      <td>130.77</td>\n",
       "      <td>10.00</td>\n",
       "      <td>90</td>\n",
       "      <td>10.10</td>\n",
       "      <td>0.10</td>\n",
       "      <td>0.08</td>\n",
       "      <td>0.581</td>\n",
       "    </tr>\n",
       "    <tr>\n",
       "      <th>S1000</th>\n",
       "      <td>0.68</td>\n",
       "      <td>10.00</td>\n",
       "      <td>82.46</td>\n",
       "      <td>5.09</td>\n",
       "      <td>10</td>\n",
       "      <td>10.10</td>\n",
       "      <td>0.02</td>\n",
       "      <td>0.01</td>\n",
       "      <td>0.224</td>\n",
       "    </tr>\n",
       "    <tr>\n",
       "      <th>S1001</th>\n",
       "      <td>0.26</td>\n",
       "      <td>83.33</td>\n",
       "      <td>50.99</td>\n",
       "      <td>45.00</td>\n",
       "      <td>80</td>\n",
       "      <td>10.10</td>\n",
       "      <td>0.02</td>\n",
       "      <td>0.02</td>\n",
       "      <td>0.879</td>\n",
       "    </tr>\n",
       "  </tbody>\n",
       "</table>\n",
       "</div>"
      ],
      "text/plain": [
       "       Area  PercImperv   Width  PercSlope  PctZero TotalPrecip  TotalRunoffMG  PeakRunoff  RunoffCoeff\n",
       "Name                                                                                                   \n",
       "S1     0.50       20.00  300.00       5.00       70       10.10           0.02        0.02        0.407\n",
       "S10    1.87       45.00  136.75      15.00       90       10.10           0.11        0.09        0.587\n",
       "S100   1.71       45.00  130.77      10.00       90       10.10           0.10        0.08        0.581\n",
       "S1000  0.68       10.00   82.46       5.09       10       10.10           0.02        0.01        0.224\n",
       "S1001  0.26       83.33   50.99      45.00       80       10.10           0.02        0.02        0.879"
      ]
     },
     "execution_count": 8,
     "metadata": {},
     "output_type": "execute_result"
    }
   ],
   "source": [
    "subcatchments_01.iloc[:5, :]"
   ]
  },
  {
   "attachments": {},
   "cell_type": "markdown",
   "id": "aec10d49-c5c5-4d85-b88b-988292b3500b",
   "metadata": {},
   "source": [
    "## Get categories"
   ]
  },
  {
   "cell_type": "code",
   "execution_count": 9,
   "id": "16e17b13-3c2e-4475-96b5-1555b71d3e9c",
   "metadata": {
    "tags": []
   },
   "outputs": [
    {
     "data": {
      "text/html": [
       "<div>\n",
       "<style scoped>\n",
       "    .dataframe tbody tr th:only-of-type {\n",
       "        vertical-align: middle;\n",
       "    }\n",
       "\n",
       "    .dataframe tbody tr th {\n",
       "        vertical-align: top;\n",
       "    }\n",
       "\n",
       "    .dataframe thead th {\n",
       "        text-align: right;\n",
       "    }\n",
       "</style>\n",
       "<table border=\"1\" class=\"dataframe\">\n",
       "  <thead>\n",
       "    <tr style=\"text-align: right;\">\n",
       "      <th></th>\n",
       "      <th>Name</th>\n",
       "      <th>Tag</th>\n",
       "    </tr>\n",
       "    <tr>\n",
       "      <th>ElementType</th>\n",
       "      <th></th>\n",
       "      <th></th>\n",
       "    </tr>\n",
       "  </thead>\n",
       "  <tbody>\n",
       "    <tr>\n",
       "      <th>Subcatch</th>\n",
       "      <td>S1</td>\n",
       "      <td>loose_soil</td>\n",
       "    </tr>\n",
       "    <tr>\n",
       "      <th>Subcatch</th>\n",
       "      <td>S2</td>\n",
       "      <td>compact_urban_development</td>\n",
       "    </tr>\n",
       "    <tr>\n",
       "      <th>Subcatch</th>\n",
       "      <td>S3</td>\n",
       "      <td>loose_soil</td>\n",
       "    </tr>\n",
       "    <tr>\n",
       "      <th>Subcatch</th>\n",
       "      <td>S4</td>\n",
       "      <td>wooded_area</td>\n",
       "    </tr>\n",
       "    <tr>\n",
       "      <th>Subcatch</th>\n",
       "      <td>S5</td>\n",
       "      <td>loose_urban_development</td>\n",
       "    </tr>\n",
       "    <tr>\n",
       "      <th>...</th>\n",
       "      <td>...</td>\n",
       "      <td>...</td>\n",
       "    </tr>\n",
       "    <tr>\n",
       "      <th>Subcatch</th>\n",
       "      <td>S997</td>\n",
       "      <td>grassy</td>\n",
       "    </tr>\n",
       "    <tr>\n",
       "      <th>Subcatch</th>\n",
       "      <td>S998</td>\n",
       "      <td>steep_area</td>\n",
       "    </tr>\n",
       "    <tr>\n",
       "      <th>Subcatch</th>\n",
       "      <td>S999</td>\n",
       "      <td>urban</td>\n",
       "    </tr>\n",
       "    <tr>\n",
       "      <th>Subcatch</th>\n",
       "      <td>S1000</td>\n",
       "      <td>grassy</td>\n",
       "    </tr>\n",
       "    <tr>\n",
       "      <th>Subcatch</th>\n",
       "      <td>S1001</td>\n",
       "      <td>steep_area</td>\n",
       "    </tr>\n",
       "  </tbody>\n",
       "</table>\n",
       "<p>1001 rows × 2 columns</p>\n",
       "</div>"
      ],
      "text/plain": [
       "              Name                        Tag\n",
       "ElementType                                  \n",
       "Subcatch        S1                 loose_soil\n",
       "Subcatch        S2  compact_urban_development\n",
       "Subcatch        S3                 loose_soil\n",
       "Subcatch        S4                wooded_area\n",
       "Subcatch        S5    loose_urban_development\n",
       "...            ...                        ...\n",
       "Subcatch      S997                     grassy\n",
       "Subcatch      S998                 steep_area\n",
       "Subcatch      S999                      urban\n",
       "Subcatch     S1000                     grassy\n",
       "Subcatch     S1001                 steep_area\n",
       "\n",
       "[1001 rows x 2 columns]"
      ]
     },
     "execution_count": 9,
     "metadata": {},
     "output_type": "execute_result"
    }
   ],
   "source": [
    "categories_01 = model_01.inp.tags\n",
    "categories_02 = model_02.inp.tags\n",
    "categories_03 = model_03.inp.tags\n",
    "categories_04 = model_04.inp.tags\n",
    "categories_05 = model_05.inp.tags\n",
    "categories_06 = model_06.inp.tags\n",
    "categories_07 = model_07.inp.tags\n",
    "categories_08 = model_08.inp.tags\n",
    "categories_09 = model_09.inp.tags\n",
    "categories_10 = model_10.inp.tags\n",
    "categories_01"
   ]
  },
  {
   "attachments": {},
   "cell_type": "markdown",
   "id": "2909fc39-f2b9-4208-bd94-aff400908f83",
   "metadata": {},
   "source": [
    "### Add categories column to subcatchments DataFrame"
   ]
  },
  {
   "cell_type": "code",
   "execution_count": 10,
   "id": "c06fec91-94c5-4d36-ac9b-a9a7405bc95e",
   "metadata": {
    "tags": []
   },
   "outputs": [],
   "source": [
    "def merge_tag(subcatchment, model):\n",
    "    subcatchment.reset_index(inplace=True)\n",
    "    merged = subcatchment.merge(model.inp.tags, left_on=\"Name\", right_on=\"Name\", how=\"left\")\n",
    "    merged.rename(columns={\"Tag\": \"categories\"}, inplace=True)\n",
    "    merged.set_index(\"Name\", inplace=True)\n",
    "    return merged\n",
    "\n",
    "merged_df_01 = merge_tag(subcatchments_01, model_01)\n",
    "merged_df_02 = merge_tag(subcatchments_02, model_02)\n",
    "merged_df_03 = merge_tag(subcatchments_03, model_03)\n",
    "merged_df_04 = merge_tag(subcatchments_04, model_04)\n",
    "merged_df_05 = merge_tag(subcatchments_05, model_05)\n",
    "merged_df_06 = merge_tag(subcatchments_06, model_06)\n",
    "merged_df_07 = merge_tag(subcatchments_07, model_07)\n",
    "merged_df_08 = merge_tag(subcatchments_08, model_08)\n",
    "merged_df_09 = merge_tag(subcatchments_09, model_09)\n",
    "merged_df_10 = merge_tag(subcatchments_10, model_10)\n",
    "\n",
    "merged = [merged_df_01, merged_df_02, merged_df_03, merged_df_04, merged_df_05, merged_df_06, merged_df_07, merged_df_08, merged_df_09, merged_df_10]\n",
    "\n",
    "df = pd.concat(merged)\n",
    "df = df.reset_index(drop=True)"
   ]
  },
  {
   "cell_type": "code",
   "execution_count": null,
   "id": "ccdf0653",
   "metadata": {},
   "outputs": [],
   "source": []
  },
  {
   "cell_type": "code",
   "execution_count": 11,
   "id": "3e863959",
   "metadata": {},
   "outputs": [
    {
     "data": {
      "text/html": [
       "<div>\n",
       "<style scoped>\n",
       "    .dataframe tbody tr th:only-of-type {\n",
       "        vertical-align: middle;\n",
       "    }\n",
       "\n",
       "    .dataframe tbody tr th {\n",
       "        vertical-align: top;\n",
       "    }\n",
       "\n",
       "    .dataframe thead th {\n",
       "        text-align: right;\n",
       "    }\n",
       "</style>\n",
       "<table border=\"1\" class=\"dataframe\">\n",
       "  <thead>\n",
       "    <tr style=\"text-align: right;\">\n",
       "      <th></th>\n",
       "      <th>Area</th>\n",
       "      <th>PercImperv</th>\n",
       "      <th>Width</th>\n",
       "      <th>PercSlope</th>\n",
       "      <th>PctZero</th>\n",
       "      <th>TotalPrecip</th>\n",
       "      <th>TotalRunoffMG</th>\n",
       "      <th>PeakRunoff</th>\n",
       "      <th>RunoffCoeff</th>\n",
       "      <th>categories</th>\n",
       "    </tr>\n",
       "  </thead>\n",
       "  <tbody>\n",
       "    <tr>\n",
       "      <th>0</th>\n",
       "      <td>0.50</td>\n",
       "      <td>20.00</td>\n",
       "      <td>300.00</td>\n",
       "      <td>5.00</td>\n",
       "      <td>70</td>\n",
       "      <td>10.10</td>\n",
       "      <td>0.02</td>\n",
       "      <td>0.02</td>\n",
       "      <td>0.407</td>\n",
       "      <td>loose_soil</td>\n",
       "    </tr>\n",
       "    <tr>\n",
       "      <th>1</th>\n",
       "      <td>1.87</td>\n",
       "      <td>45.00</td>\n",
       "      <td>136.75</td>\n",
       "      <td>15.00</td>\n",
       "      <td>90</td>\n",
       "      <td>10.10</td>\n",
       "      <td>0.11</td>\n",
       "      <td>0.09</td>\n",
       "      <td>0.587</td>\n",
       "      <td>compact_urban_development</td>\n",
       "    </tr>\n",
       "    <tr>\n",
       "      <th>2</th>\n",
       "      <td>1.71</td>\n",
       "      <td>45.00</td>\n",
       "      <td>130.77</td>\n",
       "      <td>10.00</td>\n",
       "      <td>90</td>\n",
       "      <td>10.10</td>\n",
       "      <td>0.10</td>\n",
       "      <td>0.08</td>\n",
       "      <td>0.581</td>\n",
       "      <td>compact_urban_development</td>\n",
       "    </tr>\n",
       "    <tr>\n",
       "      <th>3</th>\n",
       "      <td>0.68</td>\n",
       "      <td>10.00</td>\n",
       "      <td>82.46</td>\n",
       "      <td>5.09</td>\n",
       "      <td>10</td>\n",
       "      <td>10.10</td>\n",
       "      <td>0.02</td>\n",
       "      <td>0.01</td>\n",
       "      <td>0.224</td>\n",
       "      <td>grassy</td>\n",
       "    </tr>\n",
       "    <tr>\n",
       "      <th>4</th>\n",
       "      <td>0.26</td>\n",
       "      <td>83.33</td>\n",
       "      <td>50.99</td>\n",
       "      <td>45.00</td>\n",
       "      <td>80</td>\n",
       "      <td>10.10</td>\n",
       "      <td>0.02</td>\n",
       "      <td>0.02</td>\n",
       "      <td>0.879</td>\n",
       "      <td>steep_area</td>\n",
       "    </tr>\n",
       "  </tbody>\n",
       "</table>\n",
       "</div>"
      ],
      "text/plain": [
       "   Area  PercImperv   Width  PercSlope  PctZero TotalPrecip  TotalRunoffMG  PeakRunoff  RunoffCoeff                 categories\n",
       "0  0.50       20.00  300.00       5.00       70       10.10           0.02        0.02        0.407                 loose_soil\n",
       "1  1.87       45.00  136.75      15.00       90       10.10           0.11        0.09        0.587  compact_urban_development\n",
       "2  1.71       45.00  130.77      10.00       90       10.10           0.10        0.08        0.581  compact_urban_development\n",
       "3  0.68       10.00   82.46       5.09       10       10.10           0.02        0.01        0.224                     grassy\n",
       "4  0.26       83.33   50.99      45.00       80       10.10           0.02        0.02        0.879                 steep_area"
      ]
     },
     "execution_count": 11,
     "metadata": {},
     "output_type": "execute_result"
    }
   ],
   "source": [
    "df.head()"
   ]
  },
  {
   "attachments": {},
   "cell_type": "markdown",
   "id": "0c7ad132-617d-4508-9efa-e311405f847b",
   "metadata": {},
   "source": [
    "### Split data into features and target"
   ]
  },
  {
   "cell_type": "code",
   "execution_count": 12,
   "id": "e931b316-d970-44d2-aa57-d652176e7598",
   "metadata": {
    "tags": []
   },
   "outputs": [
    {
     "name": "stdout",
     "output_type": "stream",
     "text": [
      "(8008, 9) (8008, 7)\n",
      "(2002, 9) (2002, 7)\n"
     ]
    }
   ],
   "source": [
    "X = df.drop('categories', axis=1)\n",
    "y = df['categories']\n",
    "\n",
    "X[\"TotalPrecip\"] = pd.to_numeric(X[\"TotalPrecip\"])\n",
    "# X[\"TotalRunon\"] = pd.to_numeric(X[\"TotalRunon\"])\n",
    "# X[\"TotalEvap\"] = pd.to_numeric(X[\"TotalEvap\"])\n",
    "# X[\"TotalInfil\"] = pd.to_numeric(X[\"TotalInfil\"])\n",
    "# X[\"PervRunoff\"] = pd.to_numeric(X[\"PervRunoff\"])\n",
    "# X[\"ImpervRunoff\"] = pd.to_numeric(X[\"ImpervRunoff\"])\n",
    "\n",
    "X_train, X_test, y_train, y_test = train_test_split(X, y, test_size=0.2, random_state=42)\n",
    "\n",
    "y_train = pd.get_dummies(y_train)\n",
    "y_test = pd.get_dummies(y_test)\n",
    "\n",
    "print(X_train.shape, y_train.shape)\n",
    "print(X_test.shape, y_test.shape)"
   ]
  },
  {
   "cell_type": "code",
   "execution_count": 13,
   "id": "891f98c9",
   "metadata": {},
   "outputs": [
    {
     "name": "stdout",
     "output_type": "stream",
     "text": [
      "<class 'pandas.core.frame.DataFrame'>\n",
      "Int64Index: 8008 entries, 2270 to 7270\n",
      "Data columns (total 9 columns):\n",
      " #   Column         Non-Null Count  Dtype  \n",
      "---  ------         --------------  -----  \n",
      " 0   Area           8008 non-null   float64\n",
      " 1   PercImperv     8008 non-null   float64\n",
      " 2   Width          8008 non-null   float64\n",
      " 3   PercSlope      8008 non-null   float64\n",
      " 4   PctZero        8008 non-null   int64  \n",
      " 5   TotalPrecip    8008 non-null   float64\n",
      " 6   TotalRunoffMG  8008 non-null   float64\n",
      " 7   PeakRunoff     8008 non-null   float64\n",
      " 8   RunoffCoeff    8008 non-null   float64\n",
      "dtypes: float64(8), int64(1)\n",
      "memory usage: 625.6 KB\n"
     ]
    }
   ],
   "source": [
    "X_train.info()"
   ]
  },
  {
   "cell_type": "code",
   "execution_count": 14,
   "id": "7c30f37c",
   "metadata": {},
   "outputs": [
    {
     "data": {
      "text/html": [
       "<div>\n",
       "<style scoped>\n",
       "    .dataframe tbody tr th:only-of-type {\n",
       "        vertical-align: middle;\n",
       "    }\n",
       "\n",
       "    .dataframe tbody tr th {\n",
       "        vertical-align: top;\n",
       "    }\n",
       "\n",
       "    .dataframe thead th {\n",
       "        text-align: right;\n",
       "    }\n",
       "</style>\n",
       "<table border=\"1\" class=\"dataframe\">\n",
       "  <thead>\n",
       "    <tr style=\"text-align: right;\">\n",
       "      <th></th>\n",
       "      <th>Area</th>\n",
       "      <th>PercImperv</th>\n",
       "      <th>Width</th>\n",
       "      <th>PercSlope</th>\n",
       "      <th>PctZero</th>\n",
       "      <th>TotalPrecip</th>\n",
       "      <th>TotalRunoffMG</th>\n",
       "      <th>PeakRunoff</th>\n",
       "      <th>RunoffCoeff</th>\n",
       "    </tr>\n",
       "  </thead>\n",
       "  <tbody>\n",
       "    <tr>\n",
       "      <th>2270</th>\n",
       "      <td>0.02</td>\n",
       "      <td>10.00</td>\n",
       "      <td>14.14</td>\n",
       "      <td>20.00</td>\n",
       "      <td>10</td>\n",
       "      <td>38.33</td>\n",
       "      <td>0.01</td>\n",
       "      <td>0.01</td>\n",
       "      <td>0.825</td>\n",
       "    </tr>\n",
       "    <tr>\n",
       "      <th>8668</th>\n",
       "      <td>1.87</td>\n",
       "      <td>10.00</td>\n",
       "      <td>136.75</td>\n",
       "      <td>20.00</td>\n",
       "      <td>10</td>\n",
       "      <td>12.67</td>\n",
       "      <td>0.06</td>\n",
       "      <td>0.01</td>\n",
       "      <td>0.256</td>\n",
       "    </tr>\n",
       "    <tr>\n",
       "      <th>8293</th>\n",
       "      <td>0.81</td>\n",
       "      <td>10.00</td>\n",
       "      <td>90.00</td>\n",
       "      <td>20.00</td>\n",
       "      <td>10</td>\n",
       "      <td>12.67</td>\n",
       "      <td>0.03</td>\n",
       "      <td>0.01</td>\n",
       "      <td>0.280</td>\n",
       "    </tr>\n",
       "    <tr>\n",
       "      <th>7868</th>\n",
       "      <td>1.46</td>\n",
       "      <td>10.00</td>\n",
       "      <td>120.83</td>\n",
       "      <td>5.09</td>\n",
       "      <td>10</td>\n",
       "      <td>9.50</td>\n",
       "      <td>0.01</td>\n",
       "      <td>0.00</td>\n",
       "      <td>0.101</td>\n",
       "    </tr>\n",
       "    <tr>\n",
       "      <th>1095</th>\n",
       "      <td>1.61</td>\n",
       "      <td>5.09</td>\n",
       "      <td>126.89</td>\n",
       "      <td>15.00</td>\n",
       "      <td>10</td>\n",
       "      <td>20.00</td>\n",
       "      <td>0.19</td>\n",
       "      <td>0.14</td>\n",
       "      <td>0.590</td>\n",
       "    </tr>\n",
       "    <tr>\n",
       "      <th>3131</th>\n",
       "      <td>0.58</td>\n",
       "      <td>15.00</td>\n",
       "      <td>76.16</td>\n",
       "      <td>30.00</td>\n",
       "      <td>5</td>\n",
       "      <td>15.00</td>\n",
       "      <td>0.02</td>\n",
       "      <td>0.01</td>\n",
       "      <td>0.259</td>\n",
       "    </tr>\n",
       "    <tr>\n",
       "      <th>8116</th>\n",
       "      <td>1.96</td>\n",
       "      <td>10.00</td>\n",
       "      <td>140.00</td>\n",
       "      <td>5.09</td>\n",
       "      <td>10</td>\n",
       "      <td>12.67</td>\n",
       "      <td>0.05</td>\n",
       "      <td>0.01</td>\n",
       "      <td>0.214</td>\n",
       "    </tr>\n",
       "    <tr>\n",
       "      <th>1561</th>\n",
       "      <td>0.89</td>\n",
       "      <td>5.09</td>\n",
       "      <td>94.34</td>\n",
       "      <td>15.00</td>\n",
       "      <td>10</td>\n",
       "      <td>20.00</td>\n",
       "      <td>0.11</td>\n",
       "      <td>0.09</td>\n",
       "      <td>0.606</td>\n",
       "    </tr>\n",
       "    <tr>\n",
       "      <th>1670</th>\n",
       "      <td>1.52</td>\n",
       "      <td>65.00</td>\n",
       "      <td>123.29</td>\n",
       "      <td>61.67</td>\n",
       "      <td>80</td>\n",
       "      <td>20.00</td>\n",
       "      <td>0.27</td>\n",
       "      <td>0.21</td>\n",
       "      <td>0.879</td>\n",
       "    </tr>\n",
       "    <tr>\n",
       "      <th>9951</th>\n",
       "      <td>1.68</td>\n",
       "      <td>45.00</td>\n",
       "      <td>129.61</td>\n",
       "      <td>5.09</td>\n",
       "      <td>90</td>\n",
       "      <td>0.32</td>\n",
       "      <td>0.00</td>\n",
       "      <td>0.00</td>\n",
       "      <td>0.403</td>\n",
       "    </tr>\n",
       "    <tr>\n",
       "      <th>4553</th>\n",
       "      <td>1.90</td>\n",
       "      <td>15.00</td>\n",
       "      <td>137.84</td>\n",
       "      <td>5.09</td>\n",
       "      <td>5</td>\n",
       "      <td>3.17</td>\n",
       "      <td>0.01</td>\n",
       "      <td>0.00</td>\n",
       "      <td>0.090</td>\n",
       "    </tr>\n",
       "    <tr>\n",
       "      <th>4113</th>\n",
       "      <td>0.43</td>\n",
       "      <td>10.00</td>\n",
       "      <td>65.57</td>\n",
       "      <td>20.00</td>\n",
       "      <td>10</td>\n",
       "      <td>3.17</td>\n",
       "      <td>0.00</td>\n",
       "      <td>0.00</td>\n",
       "      <td>0.064</td>\n",
       "    </tr>\n",
       "    <tr>\n",
       "      <th>4394</th>\n",
       "      <td>1.34</td>\n",
       "      <td>10.00</td>\n",
       "      <td>115.76</td>\n",
       "      <td>2.33</td>\n",
       "      <td>10</td>\n",
       "      <td>3.17</td>\n",
       "      <td>0.00</td>\n",
       "      <td>0.00</td>\n",
       "      <td>0.064</td>\n",
       "    </tr>\n",
       "    <tr>\n",
       "      <th>4631</th>\n",
       "      <td>1.35</td>\n",
       "      <td>2.33</td>\n",
       "      <td>116.19</td>\n",
       "      <td>2.33</td>\n",
       "      <td>10</td>\n",
       "      <td>3.17</td>\n",
       "      <td>0.00</td>\n",
       "      <td>0.00</td>\n",
       "      <td>0.015</td>\n",
       "    </tr>\n",
       "    <tr>\n",
       "      <th>3527</th>\n",
       "      <td>1.78</td>\n",
       "      <td>10.00</td>\n",
       "      <td>133.42</td>\n",
       "      <td>20.00</td>\n",
       "      <td>10</td>\n",
       "      <td>15.00</td>\n",
       "      <td>0.10</td>\n",
       "      <td>0.02</td>\n",
       "      <td>0.358</td>\n",
       "    </tr>\n",
       "    <tr>\n",
       "      <th>2002</th>\n",
       "      <td>0.50</td>\n",
       "      <td>20.00</td>\n",
       "      <td>300.00</td>\n",
       "      <td>5.00</td>\n",
       "      <td>70</td>\n",
       "      <td>38.33</td>\n",
       "      <td>0.16</td>\n",
       "      <td>0.13</td>\n",
       "      <td>0.832</td>\n",
       "    </tr>\n",
       "    <tr>\n",
       "      <th>9572</th>\n",
       "      <td>0.48</td>\n",
       "      <td>83.33</td>\n",
       "      <td>69.28</td>\n",
       "      <td>45.00</td>\n",
       "      <td>80</td>\n",
       "      <td>0.32</td>\n",
       "      <td>0.00</td>\n",
       "      <td>0.00</td>\n",
       "      <td>0.668</td>\n",
       "    </tr>\n",
       "    <tr>\n",
       "      <th>168</th>\n",
       "      <td>0.96</td>\n",
       "      <td>10.00</td>\n",
       "      <td>97.98</td>\n",
       "      <td>20.00</td>\n",
       "      <td>10</td>\n",
       "      <td>10.10</td>\n",
       "      <td>0.02</td>\n",
       "      <td>0.02</td>\n",
       "      <td>0.257</td>\n",
       "    </tr>\n",
       "    <tr>\n",
       "      <th>3465</th>\n",
       "      <td>1.60</td>\n",
       "      <td>5.09</td>\n",
       "      <td>126.49</td>\n",
       "      <td>10.00</td>\n",
       "      <td>10</td>\n",
       "      <td>15.00</td>\n",
       "      <td>0.07</td>\n",
       "      <td>0.02</td>\n",
       "      <td>0.302</td>\n",
       "    </tr>\n",
       "    <tr>\n",
       "      <th>9516</th>\n",
       "      <td>1.32</td>\n",
       "      <td>65.00</td>\n",
       "      <td>114.89</td>\n",
       "      <td>61.67</td>\n",
       "      <td>80</td>\n",
       "      <td>0.32</td>\n",
       "      <td>0.00</td>\n",
       "      <td>0.00</td>\n",
       "      <td>0.520</td>\n",
       "    </tr>\n",
       "    <tr>\n",
       "      <th>9539</th>\n",
       "      <td>1.55</td>\n",
       "      <td>65.00</td>\n",
       "      <td>124.50</td>\n",
       "      <td>61.67</td>\n",
       "      <td>80</td>\n",
       "      <td>0.32</td>\n",
       "      <td>0.00</td>\n",
       "      <td>0.00</td>\n",
       "      <td>0.520</td>\n",
       "    </tr>\n",
       "    <tr>\n",
       "      <th>2133</th>\n",
       "      <td>0.67</td>\n",
       "      <td>65.00</td>\n",
       "      <td>81.85</td>\n",
       "      <td>61.67</td>\n",
       "      <td>80</td>\n",
       "      <td>38.33</td>\n",
       "      <td>0.24</td>\n",
       "      <td>0.18</td>\n",
       "      <td>0.941</td>\n",
       "    </tr>\n",
       "    <tr>\n",
       "      <th>4421</th>\n",
       "      <td>1.20</td>\n",
       "      <td>2.33</td>\n",
       "      <td>109.54</td>\n",
       "      <td>2.33</td>\n",
       "      <td>10</td>\n",
       "      <td>3.17</td>\n",
       "      <td>0.00</td>\n",
       "      <td>0.00</td>\n",
       "      <td>0.015</td>\n",
       "    </tr>\n",
       "    <tr>\n",
       "      <th>2036</th>\n",
       "      <td>1.41</td>\n",
       "      <td>22.50</td>\n",
       "      <td>118.74</td>\n",
       "      <td>2.33</td>\n",
       "      <td>70</td>\n",
       "      <td>38.33</td>\n",
       "      <td>0.41</td>\n",
       "      <td>0.20</td>\n",
       "      <td>0.750</td>\n",
       "    </tr>\n",
       "    <tr>\n",
       "      <th>7536</th>\n",
       "      <td>1.01</td>\n",
       "      <td>45.00</td>\n",
       "      <td>100.50</td>\n",
       "      <td>5.09</td>\n",
       "      <td>90</td>\n",
       "      <td>9.50</td>\n",
       "      <td>0.05</td>\n",
       "      <td>0.01</td>\n",
       "      <td>0.475</td>\n",
       "    </tr>\n",
       "    <tr>\n",
       "      <th>7442</th>\n",
       "      <td>1.79</td>\n",
       "      <td>45.00</td>\n",
       "      <td>133.79</td>\n",
       "      <td>10.00</td>\n",
       "      <td>90</td>\n",
       "      <td>9.50</td>\n",
       "      <td>0.08</td>\n",
       "      <td>0.02</td>\n",
       "      <td>0.476</td>\n",
       "    </tr>\n",
       "    <tr>\n",
       "      <th>3378</th>\n",
       "      <td>1.83</td>\n",
       "      <td>65.00</td>\n",
       "      <td>135.28</td>\n",
       "      <td>61.67</td>\n",
       "      <td>80</td>\n",
       "      <td>15.00</td>\n",
       "      <td>0.22</td>\n",
       "      <td>0.08</td>\n",
       "      <td>0.811</td>\n",
       "    </tr>\n",
       "    <tr>\n",
       "      <th>5982</th>\n",
       "      <td>1.65</td>\n",
       "      <td>65.00</td>\n",
       "      <td>128.45</td>\n",
       "      <td>61.67</td>\n",
       "      <td>80</td>\n",
       "      <td>1.58</td>\n",
       "      <td>0.01</td>\n",
       "      <td>0.00</td>\n",
       "      <td>0.549</td>\n",
       "    </tr>\n",
       "    <tr>\n",
       "      <th>8103</th>\n",
       "      <td>0.35</td>\n",
       "      <td>10.00</td>\n",
       "      <td>59.16</td>\n",
       "      <td>15.00</td>\n",
       "      <td>10</td>\n",
       "      <td>12.67</td>\n",
       "      <td>0.01</td>\n",
       "      <td>0.00</td>\n",
       "      <td>0.294</td>\n",
       "    </tr>\n",
       "    <tr>\n",
       "      <th>2960</th>\n",
       "      <td>0.33</td>\n",
       "      <td>5.09</td>\n",
       "      <td>57.45</td>\n",
       "      <td>10.00</td>\n",
       "      <td>10</td>\n",
       "      <td>38.33</td>\n",
       "      <td>0.10</td>\n",
       "      <td>0.07</td>\n",
       "      <td>0.765</td>\n",
       "    </tr>\n",
       "    <tr>\n",
       "      <th>4011</th>\n",
       "      <td>1.92</td>\n",
       "      <td>5.09</td>\n",
       "      <td>138.56</td>\n",
       "      <td>15.00</td>\n",
       "      <td>10</td>\n",
       "      <td>3.17</td>\n",
       "      <td>0.00</td>\n",
       "      <td>0.00</td>\n",
       "      <td>0.033</td>\n",
       "    </tr>\n",
       "    <tr>\n",
       "      <th>6180</th>\n",
       "      <td>0.49</td>\n",
       "      <td>5.09</td>\n",
       "      <td>70.00</td>\n",
       "      <td>15.00</td>\n",
       "      <td>10</td>\n",
       "      <td>6.33</td>\n",
       "      <td>0.00</td>\n",
       "      <td>0.00</td>\n",
       "      <td>0.044</td>\n",
       "    </tr>\n",
       "    <tr>\n",
       "      <th>210</th>\n",
       "      <td>1.30</td>\n",
       "      <td>15.00</td>\n",
       "      <td>114.02</td>\n",
       "      <td>5.09</td>\n",
       "      <td>5</td>\n",
       "      <td>10.10</td>\n",
       "      <td>0.02</td>\n",
       "      <td>0.01</td>\n",
       "      <td>0.137</td>\n",
       "    </tr>\n",
       "    <tr>\n",
       "      <th>8626</th>\n",
       "      <td>0.37</td>\n",
       "      <td>15.00</td>\n",
       "      <td>60.83</td>\n",
       "      <td>30.00</td>\n",
       "      <td>5</td>\n",
       "      <td>12.67</td>\n",
       "      <td>0.01</td>\n",
       "      <td>0.00</td>\n",
       "      <td>0.169</td>\n",
       "    </tr>\n",
       "    <tr>\n",
       "      <th>1919</th>\n",
       "      <td>1.17</td>\n",
       "      <td>22.50</td>\n",
       "      <td>108.17</td>\n",
       "      <td>10.00</td>\n",
       "      <td>70</td>\n",
       "      <td>20.00</td>\n",
       "      <td>0.15</td>\n",
       "      <td>0.08</td>\n",
       "      <td>0.624</td>\n",
       "    </tr>\n",
       "    <tr>\n",
       "      <th>718</th>\n",
       "      <td>1.84</td>\n",
       "      <td>10.00</td>\n",
       "      <td>135.65</td>\n",
       "      <td>5.09</td>\n",
       "      <td>10</td>\n",
       "      <td>10.10</td>\n",
       "      <td>0.04</td>\n",
       "      <td>0.02</td>\n",
       "      <td>0.192</td>\n",
       "    </tr>\n",
       "    <tr>\n",
       "      <th>5327</th>\n",
       "      <td>0.30</td>\n",
       "      <td>10.00</td>\n",
       "      <td>54.77</td>\n",
       "      <td>20.00</td>\n",
       "      <td>10</td>\n",
       "      <td>1.58</td>\n",
       "      <td>0.00</td>\n",
       "      <td>0.00</td>\n",
       "      <td>0.028</td>\n",
       "    </tr>\n",
       "    <tr>\n",
       "      <th>9985</th>\n",
       "      <td>1.17</td>\n",
       "      <td>2.33</td>\n",
       "      <td>108.17</td>\n",
       "      <td>2.33</td>\n",
       "      <td>10</td>\n",
       "      <td>0.32</td>\n",
       "      <td>0.00</td>\n",
       "      <td>0.00</td>\n",
       "      <td>0.002</td>\n",
       "    </tr>\n",
       "    <tr>\n",
       "      <th>1298</th>\n",
       "      <td>1.22</td>\n",
       "      <td>10.00</td>\n",
       "      <td>110.45</td>\n",
       "      <td>5.09</td>\n",
       "      <td>10</td>\n",
       "      <td>20.00</td>\n",
       "      <td>0.13</td>\n",
       "      <td>0.06</td>\n",
       "      <td>0.521</td>\n",
       "    </tr>\n",
       "    <tr>\n",
       "      <th>4441</th>\n",
       "      <td>0.83</td>\n",
       "      <td>5.09</td>\n",
       "      <td>91.10</td>\n",
       "      <td>10.00</td>\n",
       "      <td>10</td>\n",
       "      <td>3.17</td>\n",
       "      <td>0.00</td>\n",
       "      <td>0.00</td>\n",
       "      <td>0.033</td>\n",
       "    </tr>\n",
       "    <tr>\n",
       "      <th>6495</th>\n",
       "      <td>0.92</td>\n",
       "      <td>22.50</td>\n",
       "      <td>95.92</td>\n",
       "      <td>5.09</td>\n",
       "      <td>70</td>\n",
       "      <td>6.33</td>\n",
       "      <td>0.01</td>\n",
       "      <td>0.00</td>\n",
       "      <td>0.216</td>\n",
       "    </tr>\n",
       "    <tr>\n",
       "      <th>9597</th>\n",
       "      <td>0.30</td>\n",
       "      <td>83.33</td>\n",
       "      <td>54.77</td>\n",
       "      <td>45.00</td>\n",
       "      <td>80</td>\n",
       "      <td>0.32</td>\n",
       "      <td>0.00</td>\n",
       "      <td>0.00</td>\n",
       "      <td>0.668</td>\n",
       "    </tr>\n",
       "    <tr>\n",
       "      <th>8042</th>\n",
       "      <td>1.41</td>\n",
       "      <td>22.50</td>\n",
       "      <td>118.74</td>\n",
       "      <td>2.33</td>\n",
       "      <td>70</td>\n",
       "      <td>12.67</td>\n",
       "      <td>0.06</td>\n",
       "      <td>0.01</td>\n",
       "      <td>0.324</td>\n",
       "    </tr>\n",
       "    <tr>\n",
       "      <th>3903</th>\n",
       "      <td>0.30</td>\n",
       "      <td>45.00</td>\n",
       "      <td>54.77</td>\n",
       "      <td>10.00</td>\n",
       "      <td>90</td>\n",
       "      <td>15.00</td>\n",
       "      <td>0.03</td>\n",
       "      <td>0.01</td>\n",
       "      <td>0.684</td>\n",
       "    </tr>\n",
       "    <tr>\n",
       "      <th>9934</th>\n",
       "      <td>1.38</td>\n",
       "      <td>15.00</td>\n",
       "      <td>117.47</td>\n",
       "      <td>10.00</td>\n",
       "      <td>5</td>\n",
       "      <td>0.32</td>\n",
       "      <td>0.00</td>\n",
       "      <td>0.00</td>\n",
       "      <td>0.007</td>\n",
       "    </tr>\n",
       "    <tr>\n",
       "      <th>3790</th>\n",
       "      <td>0.19</td>\n",
       "      <td>5.09</td>\n",
       "      <td>43.59</td>\n",
       "      <td>15.00</td>\n",
       "      <td>10</td>\n",
       "      <td>15.00</td>\n",
       "      <td>0.01</td>\n",
       "      <td>0.00</td>\n",
       "      <td>0.419</td>\n",
       "    </tr>\n",
       "    <tr>\n",
       "      <th>4074</th>\n",
       "      <td>1.07</td>\n",
       "      <td>5.09</td>\n",
       "      <td>103.44</td>\n",
       "      <td>15.00</td>\n",
       "      <td>10</td>\n",
       "      <td>3.17</td>\n",
       "      <td>0.00</td>\n",
       "      <td>0.00</td>\n",
       "      <td>0.033</td>\n",
       "    </tr>\n",
       "    <tr>\n",
       "      <th>1287</th>\n",
       "      <td>1.52</td>\n",
       "      <td>30.00</td>\n",
       "      <td>123.29</td>\n",
       "      <td>5.09</td>\n",
       "      <td>80</td>\n",
       "      <td>20.00</td>\n",
       "      <td>0.20</td>\n",
       "      <td>0.13</td>\n",
       "      <td>0.670</td>\n",
       "    </tr>\n",
       "    <tr>\n",
       "      <th>8999</th>\n",
       "      <td>0.35</td>\n",
       "      <td>45.00</td>\n",
       "      <td>59.16</td>\n",
       "      <td>15.00</td>\n",
       "      <td>90</td>\n",
       "      <td>12.67</td>\n",
       "      <td>0.03</td>\n",
       "      <td>0.01</td>\n",
       "      <td>0.623</td>\n",
       "    </tr>\n",
       "    <tr>\n",
       "      <th>6388</th>\n",
       "      <td>0.84</td>\n",
       "      <td>30.00</td>\n",
       "      <td>91.65</td>\n",
       "      <td>5.09</td>\n",
       "      <td>80</td>\n",
       "      <td>6.33</td>\n",
       "      <td>0.02</td>\n",
       "      <td>0.00</td>\n",
       "      <td>0.293</td>\n",
       "    </tr>\n",
       "  </tbody>\n",
       "</table>\n",
       "</div>"
      ],
      "text/plain": [
       "      Area  PercImperv   Width  PercSlope  PctZero  TotalPrecip  TotalRunoffMG  PeakRunoff  RunoffCoeff\n",
       "2270  0.02       10.00   14.14      20.00       10        38.33           0.01        0.01        0.825\n",
       "8668  1.87       10.00  136.75      20.00       10        12.67           0.06        0.01        0.256\n",
       "8293  0.81       10.00   90.00      20.00       10        12.67           0.03        0.01        0.280\n",
       "7868  1.46       10.00  120.83       5.09       10         9.50           0.01        0.00        0.101\n",
       "1095  1.61        5.09  126.89      15.00       10        20.00           0.19        0.14        0.590\n",
       "3131  0.58       15.00   76.16      30.00        5        15.00           0.02        0.01        0.259\n",
       "8116  1.96       10.00  140.00       5.09       10        12.67           0.05        0.01        0.214\n",
       "1561  0.89        5.09   94.34      15.00       10        20.00           0.11        0.09        0.606\n",
       "1670  1.52       65.00  123.29      61.67       80        20.00           0.27        0.21        0.879\n",
       "9951  1.68       45.00  129.61       5.09       90         0.32           0.00        0.00        0.403\n",
       "4553  1.90       15.00  137.84       5.09        5         3.17           0.01        0.00        0.090\n",
       "4113  0.43       10.00   65.57      20.00       10         3.17           0.00        0.00        0.064\n",
       "4394  1.34       10.00  115.76       2.33       10         3.17           0.00        0.00        0.064\n",
       "4631  1.35        2.33  116.19       2.33       10         3.17           0.00        0.00        0.015\n",
       "3527  1.78       10.00  133.42      20.00       10        15.00           0.10        0.02        0.358\n",
       "2002  0.50       20.00  300.00       5.00       70        38.33           0.16        0.13        0.832\n",
       "9572  0.48       83.33   69.28      45.00       80         0.32           0.00        0.00        0.668\n",
       "168   0.96       10.00   97.98      20.00       10        10.10           0.02        0.02        0.257\n",
       "3465  1.60        5.09  126.49      10.00       10        15.00           0.07        0.02        0.302\n",
       "9516  1.32       65.00  114.89      61.67       80         0.32           0.00        0.00        0.520\n",
       "9539  1.55       65.00  124.50      61.67       80         0.32           0.00        0.00        0.520\n",
       "2133  0.67       65.00   81.85      61.67       80        38.33           0.24        0.18        0.941\n",
       "4421  1.20        2.33  109.54       2.33       10         3.17           0.00        0.00        0.015\n",
       "2036  1.41       22.50  118.74       2.33       70        38.33           0.41        0.20        0.750\n",
       "7536  1.01       45.00  100.50       5.09       90         9.50           0.05        0.01        0.475\n",
       "7442  1.79       45.00  133.79      10.00       90         9.50           0.08        0.02        0.476\n",
       "3378  1.83       65.00  135.28      61.67       80        15.00           0.22        0.08        0.811\n",
       "5982  1.65       65.00  128.45      61.67       80         1.58           0.01        0.00        0.549\n",
       "8103  0.35       10.00   59.16      15.00       10        12.67           0.01        0.00        0.294\n",
       "2960  0.33        5.09   57.45      10.00       10        38.33           0.10        0.07        0.765\n",
       "4011  1.92        5.09  138.56      15.00       10         3.17           0.00        0.00        0.033\n",
       "6180  0.49        5.09   70.00      15.00       10         6.33           0.00        0.00        0.044\n",
       "210   1.30       15.00  114.02       5.09        5        10.10           0.02        0.01        0.137\n",
       "8626  0.37       15.00   60.83      30.00        5        12.67           0.01        0.00        0.169\n",
       "1919  1.17       22.50  108.17      10.00       70        20.00           0.15        0.08        0.624\n",
       "718   1.84       10.00  135.65       5.09       10        10.10           0.04        0.02        0.192\n",
       "5327  0.30       10.00   54.77      20.00       10         1.58           0.00        0.00        0.028\n",
       "9985  1.17        2.33  108.17       2.33       10         0.32           0.00        0.00        0.002\n",
       "1298  1.22       10.00  110.45       5.09       10        20.00           0.13        0.06        0.521\n",
       "4441  0.83        5.09   91.10      10.00       10         3.17           0.00        0.00        0.033\n",
       "6495  0.92       22.50   95.92       5.09       70         6.33           0.01        0.00        0.216\n",
       "9597  0.30       83.33   54.77      45.00       80         0.32           0.00        0.00        0.668\n",
       "8042  1.41       22.50  118.74       2.33       70        12.67           0.06        0.01        0.324\n",
       "3903  0.30       45.00   54.77      10.00       90        15.00           0.03        0.01        0.684\n",
       "9934  1.38       15.00  117.47      10.00        5         0.32           0.00        0.00        0.007\n",
       "3790  0.19        5.09   43.59      15.00       10        15.00           0.01        0.00        0.419\n",
       "4074  1.07        5.09  103.44      15.00       10         3.17           0.00        0.00        0.033\n",
       "1287  1.52       30.00  123.29       5.09       80        20.00           0.20        0.13        0.670\n",
       "8999  0.35       45.00   59.16      15.00       90        12.67           0.03        0.01        0.623\n",
       "6388  0.84       30.00   91.65       5.09       80         6.33           0.02        0.00        0.293"
      ]
     },
     "execution_count": 14,
     "metadata": {},
     "output_type": "execute_result"
    }
   ],
   "source": [
    "X_train[:50]"
   ]
  },
  {
   "cell_type": "code",
   "execution_count": 15,
   "id": "032eda89-3cee-4040-9553-2a353e39b1d0",
   "metadata": {
    "tags": []
   },
   "outputs": [],
   "source": [
    "normalizer = preprocessing.Normalization()\n",
    "normalizer.adapt(np.array(X_train))\n"
   ]
  },
  {
   "attachments": {},
   "cell_type": "markdown",
   "id": "43dae304-a279-430d-baa1-ebe5d19f1c98",
   "metadata": {},
   "source": [
    "# Build the model"
   ]
  },
  {
   "cell_type": "code",
   "execution_count": 16,
   "id": "99b2e114-ff60-4200-ae35-f80089181eb9",
   "metadata": {
    "tags": []
   },
   "outputs": [
    {
     "name": "stdout",
     "output_type": "stream",
     "text": [
      "Model: \"sequential\"\n",
      "_________________________________________________________________\n",
      " Layer (type)                Output Shape              Param #   \n",
      "=================================================================\n",
      " normalization (Normalizatio  (None, 9)                19        \n",
      " n)                                                              \n",
      "                                                                 \n",
      " dense (Dense)               (None, 9)                 90        \n",
      "                                                                 \n",
      " dropout (Dropout)           (None, 9)                 0         \n",
      "                                                                 \n",
      " dense_1 (Dense)             (None, 18)                180       \n",
      "                                                                 \n",
      " dropout_1 (Dropout)         (None, 18)                0         \n",
      "                                                                 \n",
      " dense_2 (Dense)             (None, 7)                 133       \n",
      "                                                                 \n",
      "=================================================================\n",
      "Total params: 422\n",
      "Trainable params: 403\n",
      "Non-trainable params: 19\n",
      "_________________________________________________________________\n"
     ]
    }
   ],
   "source": [
    "model = Sequential()\n",
    "model.add(normalizer)\n",
    "model.add(Dense(units=X_train.shape[1], activation='relu', input_dim=X_train.shape[1]))\n",
    "model.add(Dropout(0.2))\n",
    "model.add(Dense(18, activation='relu'))\n",
    "model.add(Dropout(0.2))\n",
    "model.add(Dense(units=y_train.shape[1], activation='softmax'))\n",
    "model.summary()"
   ]
  },
  {
   "cell_type": "code",
   "execution_count": 17,
   "id": "61ddff67-e74f-4454-a253-40577f7a2722",
   "metadata": {
    "tags": []
   },
   "outputs": [
    {
     "name": "stdout",
     "output_type": "stream",
     "text": [
      "Epoch 1/100\n",
      "501/501 [==============================] - 4s 5ms/step - loss: 1.4137 - accuracy: 0.4522 - val_loss: 0.9768 - val_accuracy: 0.5689\n",
      "Epoch 2/100\n",
      "501/501 [==============================] - 2s 4ms/step - loss: 1.0059 - accuracy: 0.5586 - val_loss: 0.8378 - val_accuracy: 0.6264\n",
      "Epoch 3/100\n",
      "501/501 [==============================] - 2s 4ms/step - loss: 0.8998 - accuracy: 0.6118 - val_loss: 0.7612 - val_accuracy: 0.7163\n",
      "Epoch 4/100\n",
      "501/501 [==============================] - 2s 4ms/step - loss: 0.7939 - accuracy: 0.6735 - val_loss: 0.6180 - val_accuracy: 0.7842\n",
      "Epoch 5/100\n",
      "501/501 [==============================] - 2s 4ms/step - loss: 0.6702 - accuracy: 0.7441 - val_loss: 0.4816 - val_accuracy: 0.8157\n",
      "Epoch 6/100\n",
      "501/501 [==============================] - 2s 3ms/step - loss: 0.5496 - accuracy: 0.8179 - val_loss: 0.3454 - val_accuracy: 0.9241\n",
      "Epoch 7/100\n",
      "501/501 [==============================] - 2s 4ms/step - loss: 0.4747 - accuracy: 0.8463 - val_loss: 0.2896 - val_accuracy: 0.9266\n",
      "Epoch 8/100\n",
      "501/501 [==============================] - 2s 4ms/step - loss: 0.4548 - accuracy: 0.8475 - val_loss: 0.2600 - val_accuracy: 0.9261\n",
      "Epoch 9/100\n",
      "501/501 [==============================] - 2s 5ms/step - loss: 0.4128 - accuracy: 0.8598 - val_loss: 0.2199 - val_accuracy: 0.9266\n",
      "Epoch 10/100\n",
      "501/501 [==============================] - 2s 4ms/step - loss: 0.3739 - accuracy: 0.8733 - val_loss: 0.1904 - val_accuracy: 0.9261\n",
      "Epoch 11/100\n",
      "501/501 [==============================] - 2s 4ms/step - loss: 0.3399 - accuracy: 0.8839 - val_loss: 0.1675 - val_accuracy: 0.9271\n",
      "Epoch 12/100\n",
      "501/501 [==============================] - 2s 4ms/step - loss: 0.3069 - accuracy: 0.8897 - val_loss: 0.1385 - val_accuracy: 0.9306\n",
      "Epoch 13/100\n",
      "501/501 [==============================] - 2s 4ms/step - loss: 0.2887 - accuracy: 0.8954 - val_loss: 0.1224 - val_accuracy: 0.9401\n",
      "Epoch 14/100\n",
      "501/501 [==============================] - 2s 4ms/step - loss: 0.2509 - accuracy: 0.9137 - val_loss: 0.1120 - val_accuracy: 0.9401\n",
      "Epoch 15/100\n",
      "501/501 [==============================] - 2s 4ms/step - loss: 0.2416 - accuracy: 0.9235 - val_loss: 0.1048 - val_accuracy: 0.9585\n",
      "Epoch 16/100\n",
      "501/501 [==============================] - 2s 4ms/step - loss: 0.2304 - accuracy: 0.9254 - val_loss: 0.0948 - val_accuracy: 0.9590\n",
      "Epoch 17/100\n",
      "501/501 [==============================] - 2s 4ms/step - loss: 0.2162 - accuracy: 0.9319 - val_loss: 0.0936 - val_accuracy: 0.9785\n",
      "Epoch 18/100\n",
      "501/501 [==============================] - 2s 4ms/step - loss: 0.2126 - accuracy: 0.9348 - val_loss: 0.0951 - val_accuracy: 0.9715\n",
      "Epoch 19/100\n",
      "501/501 [==============================] - 2s 4ms/step - loss: 0.2015 - accuracy: 0.9388 - val_loss: 0.0832 - val_accuracy: 0.9715\n",
      "Epoch 20/100\n",
      "501/501 [==============================] - 2s 4ms/step - loss: 0.1933 - accuracy: 0.9394 - val_loss: 0.0861 - val_accuracy: 0.9645\n",
      "Epoch 21/100\n",
      "501/501 [==============================] - 2s 4ms/step - loss: 0.1976 - accuracy: 0.9376 - val_loss: 0.0796 - val_accuracy: 0.9820\n",
      "Epoch 22/100\n",
      "501/501 [==============================] - 2s 4ms/step - loss: 0.1854 - accuracy: 0.9411 - val_loss: 0.0866 - val_accuracy: 0.9825\n",
      "Epoch 23/100\n",
      "501/501 [==============================] - 2s 4ms/step - loss: 0.1871 - accuracy: 0.9384 - val_loss: 0.0768 - val_accuracy: 0.9965\n",
      "Epoch 24/100\n",
      "501/501 [==============================] - 2s 4ms/step - loss: 0.1783 - accuracy: 0.9446 - val_loss: 0.0765 - val_accuracy: 0.9865\n",
      "Epoch 25/100\n",
      "501/501 [==============================] - 2s 4ms/step - loss: 0.1703 - accuracy: 0.9457 - val_loss: 0.0776 - val_accuracy: 0.9675\n",
      "Epoch 26/100\n",
      "501/501 [==============================] - 2s 4ms/step - loss: 0.1728 - accuracy: 0.9446 - val_loss: 0.0795 - val_accuracy: 0.9461\n",
      "Epoch 27/100\n",
      "501/501 [==============================] - 2s 4ms/step - loss: 0.1600 - accuracy: 0.9471 - val_loss: 0.0678 - val_accuracy: 0.9910\n",
      "Epoch 28/100\n",
      "501/501 [==============================] - 2s 4ms/step - loss: 0.1606 - accuracy: 0.9492 - val_loss: 0.0759 - val_accuracy: 0.9860\n",
      "Epoch 29/100\n",
      "501/501 [==============================] - 2s 3ms/step - loss: 0.1546 - accuracy: 0.9469 - val_loss: 0.0656 - val_accuracy: 0.9865\n",
      "Epoch 30/100\n",
      "501/501 [==============================] - 2s 4ms/step - loss: 0.1488 - accuracy: 0.9481 - val_loss: 0.0637 - val_accuracy: 0.9965\n",
      "Epoch 31/100\n",
      "501/501 [==============================] - 2s 4ms/step - loss: 0.1491 - accuracy: 0.9479 - val_loss: 0.0676 - val_accuracy: 0.9975\n",
      "Epoch 32/100\n",
      "501/501 [==============================] - 2s 4ms/step - loss: 0.1433 - accuracy: 0.9502 - val_loss: 0.0698 - val_accuracy: 0.9855\n",
      "Epoch 33/100\n",
      "501/501 [==============================] - 2s 4ms/step - loss: 0.1357 - accuracy: 0.9518 - val_loss: 0.0596 - val_accuracy: 0.9960\n",
      "Epoch 34/100\n",
      "501/501 [==============================] - 2s 4ms/step - loss: 0.1332 - accuracy: 0.9508 - val_loss: 0.0609 - val_accuracy: 0.9995\n",
      "Epoch 35/100\n",
      "501/501 [==============================] - 2s 4ms/step - loss: 0.1333 - accuracy: 0.9520 - val_loss: 0.0606 - val_accuracy: 0.9995\n",
      "Epoch 36/100\n",
      "501/501 [==============================] - 2s 4ms/step - loss: 0.1224 - accuracy: 0.9550 - val_loss: 0.0617 - val_accuracy: 0.9995\n",
      "Epoch 37/100\n",
      "501/501 [==============================] - 2s 4ms/step - loss: 0.1274 - accuracy: 0.9522 - val_loss: 0.0590 - val_accuracy: 0.9995\n",
      "Epoch 38/100\n",
      "501/501 [==============================] - 2s 4ms/step - loss: 0.1293 - accuracy: 0.9520 - val_loss: 0.0613 - val_accuracy: 0.9965\n",
      "Epoch 39/100\n",
      "501/501 [==============================] - 2s 4ms/step - loss: 0.1291 - accuracy: 0.9547 - val_loss: 0.0703 - val_accuracy: 0.9840\n",
      "Epoch 40/100\n",
      "501/501 [==============================] - 2s 4ms/step - loss: 0.1268 - accuracy: 0.9558 - val_loss: 0.0770 - val_accuracy: 0.9720\n",
      "Epoch 41/100\n",
      "501/501 [==============================] - 2s 3ms/step - loss: 0.1155 - accuracy: 0.9538 - val_loss: 0.0700 - val_accuracy: 0.9755\n",
      "Epoch 42/100\n",
      "501/501 [==============================] - 2s 4ms/step - loss: 0.1152 - accuracy: 0.9595 - val_loss: 0.0633 - val_accuracy: 0.9935\n",
      "Epoch 43/100\n",
      "501/501 [==============================] - 2s 4ms/step - loss: 0.1224 - accuracy: 0.9533 - val_loss: 0.0797 - val_accuracy: 0.9486\n",
      "Epoch 44/100\n",
      "501/501 [==============================] - 2s 4ms/step - loss: 0.1150 - accuracy: 0.9574 - val_loss: 0.0765 - val_accuracy: 0.9865\n",
      "Epoch 45/100\n",
      "501/501 [==============================] - 2s 3ms/step - loss: 0.1136 - accuracy: 0.9570 - val_loss: 0.0772 - val_accuracy: 0.9640\n",
      "Epoch 46/100\n",
      "501/501 [==============================] - 2s 3ms/step - loss: 0.1139 - accuracy: 0.9585 - val_loss: 0.0713 - val_accuracy: 0.9680\n",
      "Epoch 47/100\n",
      "501/501 [==============================] - 2s 3ms/step - loss: 0.1018 - accuracy: 0.9632 - val_loss: 0.0851 - val_accuracy: 0.9411\n"
     ]
    }
   ],
   "source": [
    "model.compile(\n",
    "    optimizer='adam',\n",
    "    loss='categorical_crossentropy',\n",
    "    metrics=['accuracy']\n",
    ")\n",
    "history = model.fit(\n",
    "    x=X_train,\n",
    "    y=y_train,\n",
    "    epochs=100,\n",
    "    validation_data=(X_test, y_test),\n",
    "    validation_split=0.2,\n",
    "    verbose=1,\n",
    "    batch_size=16,\n",
    "    callbacks=[EarlyStopping(monitor='val_loss', patience=10)]\n",
    ")"
   ]
  },
  {
   "cell_type": "code",
   "execution_count": 18,
   "id": "5f0e2731-5e33-42c8-9f6b-139e25fde8aa",
   "metadata": {
    "tags": []
   },
   "outputs": [
    {
     "name": "stdout",
     "output_type": "stream",
     "text": [
      "63/63 [==============================] - 0s 3ms/step - loss: 0.0851 - accuracy: 0.9411\n",
      "Test set accuracy: 0.941\n"
     ]
    }
   ],
   "source": [
    "# Evaluate ANN model\n",
    "loss, accuracy = model.evaluate(X_test, y_test)\n",
    "print(f\"Test set accuracy: {accuracy:.3f}\")"
   ]
  },
  {
   "cell_type": "code",
   "execution_count": 19,
   "id": "5ca7057a-6890-4505-852c-6c1226a798f6",
   "metadata": {},
   "outputs": [
    {
     "name": "stdout",
     "output_type": "stream",
     "text": [
      "63/63 [==============================] - 0s 3ms/step\n"
     ]
    }
   ],
   "source": [
    "# model.predict(X_test)\n",
    "y_pred = model.predict(X_test)"
   ]
  },
  {
   "cell_type": "code",
   "execution_count": 20,
   "id": "5a615160",
   "metadata": {},
   "outputs": [
    {
     "data": {
      "text/html": [
       "<div>\n",
       "<style scoped>\n",
       "    .dataframe tbody tr th:only-of-type {\n",
       "        vertical-align: middle;\n",
       "    }\n",
       "\n",
       "    .dataframe tbody tr th {\n",
       "        vertical-align: top;\n",
       "    }\n",
       "\n",
       "    .dataframe thead th {\n",
       "        text-align: right;\n",
       "    }\n",
       "</style>\n",
       "<table border=\"1\" class=\"dataframe\">\n",
       "  <thead>\n",
       "    <tr style=\"text-align: right;\">\n",
       "      <th></th>\n",
       "      <th>loss</th>\n",
       "      <th>accuracy</th>\n",
       "      <th>val_loss</th>\n",
       "      <th>val_accuracy</th>\n",
       "      <th>epoch</th>\n",
       "    </tr>\n",
       "  </thead>\n",
       "  <tbody>\n",
       "    <tr>\n",
       "      <th>0</th>\n",
       "      <td>1.413750</td>\n",
       "      <td>0.452173</td>\n",
       "      <td>0.976815</td>\n",
       "      <td>0.568931</td>\n",
       "      <td>0</td>\n",
       "    </tr>\n",
       "    <tr>\n",
       "      <th>1</th>\n",
       "      <td>1.005864</td>\n",
       "      <td>0.558566</td>\n",
       "      <td>0.837811</td>\n",
       "      <td>0.626374</td>\n",
       "      <td>1</td>\n",
       "    </tr>\n",
       "    <tr>\n",
       "      <th>2</th>\n",
       "      <td>0.899825</td>\n",
       "      <td>0.611763</td>\n",
       "      <td>0.761179</td>\n",
       "      <td>0.716284</td>\n",
       "      <td>2</td>\n",
       "    </tr>\n",
       "    <tr>\n",
       "      <th>3</th>\n",
       "      <td>0.793891</td>\n",
       "      <td>0.673452</td>\n",
       "      <td>0.617960</td>\n",
       "      <td>0.784216</td>\n",
       "      <td>3</td>\n",
       "    </tr>\n",
       "    <tr>\n",
       "      <th>4</th>\n",
       "      <td>0.670210</td>\n",
       "      <td>0.744131</td>\n",
       "      <td>0.481582</td>\n",
       "      <td>0.815684</td>\n",
       "      <td>4</td>\n",
       "    </tr>\n",
       "    <tr>\n",
       "      <th>5</th>\n",
       "      <td>0.549619</td>\n",
       "      <td>0.817932</td>\n",
       "      <td>0.345418</td>\n",
       "      <td>0.924076</td>\n",
       "      <td>5</td>\n",
       "    </tr>\n",
       "    <tr>\n",
       "      <th>6</th>\n",
       "      <td>0.474657</td>\n",
       "      <td>0.846279</td>\n",
       "      <td>0.289580</td>\n",
       "      <td>0.926573</td>\n",
       "      <td>6</td>\n",
       "    </tr>\n",
       "    <tr>\n",
       "      <th>7</th>\n",
       "      <td>0.454774</td>\n",
       "      <td>0.847527</td>\n",
       "      <td>0.259985</td>\n",
       "      <td>0.926074</td>\n",
       "      <td>7</td>\n",
       "    </tr>\n",
       "    <tr>\n",
       "      <th>8</th>\n",
       "      <td>0.412831</td>\n",
       "      <td>0.859765</td>\n",
       "      <td>0.219895</td>\n",
       "      <td>0.926573</td>\n",
       "      <td>8</td>\n",
       "    </tr>\n",
       "    <tr>\n",
       "      <th>9</th>\n",
       "      <td>0.373875</td>\n",
       "      <td>0.873252</td>\n",
       "      <td>0.190353</td>\n",
       "      <td>0.926074</td>\n",
       "      <td>9</td>\n",
       "    </tr>\n",
       "    <tr>\n",
       "      <th>10</th>\n",
       "      <td>0.339929</td>\n",
       "      <td>0.883866</td>\n",
       "      <td>0.167529</td>\n",
       "      <td>0.927073</td>\n",
       "      <td>10</td>\n",
       "    </tr>\n",
       "    <tr>\n",
       "      <th>11</th>\n",
       "      <td>0.306891</td>\n",
       "      <td>0.889735</td>\n",
       "      <td>0.138494</td>\n",
       "      <td>0.930569</td>\n",
       "      <td>11</td>\n",
       "    </tr>\n",
       "    <tr>\n",
       "      <th>12</th>\n",
       "      <td>0.288744</td>\n",
       "      <td>0.895355</td>\n",
       "      <td>0.122419</td>\n",
       "      <td>0.940060</td>\n",
       "      <td>12</td>\n",
       "    </tr>\n",
       "    <tr>\n",
       "      <th>13</th>\n",
       "      <td>0.250937</td>\n",
       "      <td>0.913711</td>\n",
       "      <td>0.112012</td>\n",
       "      <td>0.940060</td>\n",
       "      <td>13</td>\n",
       "    </tr>\n",
       "    <tr>\n",
       "      <th>14</th>\n",
       "      <td>0.241607</td>\n",
       "      <td>0.923452</td>\n",
       "      <td>0.104842</td>\n",
       "      <td>0.958541</td>\n",
       "      <td>14</td>\n",
       "    </tr>\n",
       "    <tr>\n",
       "      <th>15</th>\n",
       "      <td>0.230443</td>\n",
       "      <td>0.925450</td>\n",
       "      <td>0.094765</td>\n",
       "      <td>0.959041</td>\n",
       "      <td>15</td>\n",
       "    </tr>\n",
       "    <tr>\n",
       "      <th>16</th>\n",
       "      <td>0.216164</td>\n",
       "      <td>0.931943</td>\n",
       "      <td>0.093569</td>\n",
       "      <td>0.978521</td>\n",
       "      <td>16</td>\n",
       "    </tr>\n",
       "    <tr>\n",
       "      <th>17</th>\n",
       "      <td>0.212644</td>\n",
       "      <td>0.934815</td>\n",
       "      <td>0.095087</td>\n",
       "      <td>0.971528</td>\n",
       "      <td>17</td>\n",
       "    </tr>\n",
       "    <tr>\n",
       "      <th>18</th>\n",
       "      <td>0.201476</td>\n",
       "      <td>0.938811</td>\n",
       "      <td>0.083242</td>\n",
       "      <td>0.971528</td>\n",
       "      <td>18</td>\n",
       "    </tr>\n",
       "    <tr>\n",
       "      <th>19</th>\n",
       "      <td>0.193263</td>\n",
       "      <td>0.939436</td>\n",
       "      <td>0.086148</td>\n",
       "      <td>0.964535</td>\n",
       "      <td>19</td>\n",
       "    </tr>\n",
       "    <tr>\n",
       "      <th>20</th>\n",
       "      <td>0.197600</td>\n",
       "      <td>0.937562</td>\n",
       "      <td>0.079612</td>\n",
       "      <td>0.982018</td>\n",
       "      <td>20</td>\n",
       "    </tr>\n",
       "    <tr>\n",
       "      <th>21</th>\n",
       "      <td>0.185390</td>\n",
       "      <td>0.941059</td>\n",
       "      <td>0.086588</td>\n",
       "      <td>0.982517</td>\n",
       "      <td>21</td>\n",
       "    </tr>\n",
       "    <tr>\n",
       "      <th>22</th>\n",
       "      <td>0.187070</td>\n",
       "      <td>0.938437</td>\n",
       "      <td>0.076798</td>\n",
       "      <td>0.996503</td>\n",
       "      <td>22</td>\n",
       "    </tr>\n",
       "    <tr>\n",
       "      <th>23</th>\n",
       "      <td>0.178343</td>\n",
       "      <td>0.944555</td>\n",
       "      <td>0.076530</td>\n",
       "      <td>0.986513</td>\n",
       "      <td>23</td>\n",
       "    </tr>\n",
       "    <tr>\n",
       "      <th>24</th>\n",
       "      <td>0.170332</td>\n",
       "      <td>0.945679</td>\n",
       "      <td>0.077630</td>\n",
       "      <td>0.967532</td>\n",
       "      <td>24</td>\n",
       "    </tr>\n",
       "    <tr>\n",
       "      <th>25</th>\n",
       "      <td>0.172797</td>\n",
       "      <td>0.944555</td>\n",
       "      <td>0.079504</td>\n",
       "      <td>0.946054</td>\n",
       "      <td>25</td>\n",
       "    </tr>\n",
       "    <tr>\n",
       "      <th>26</th>\n",
       "      <td>0.159951</td>\n",
       "      <td>0.947053</td>\n",
       "      <td>0.067778</td>\n",
       "      <td>0.991009</td>\n",
       "      <td>26</td>\n",
       "    </tr>\n",
       "    <tr>\n",
       "      <th>27</th>\n",
       "      <td>0.160584</td>\n",
       "      <td>0.949176</td>\n",
       "      <td>0.075943</td>\n",
       "      <td>0.986014</td>\n",
       "      <td>27</td>\n",
       "    </tr>\n",
       "    <tr>\n",
       "      <th>28</th>\n",
       "      <td>0.154573</td>\n",
       "      <td>0.946928</td>\n",
       "      <td>0.065635</td>\n",
       "      <td>0.986513</td>\n",
       "      <td>28</td>\n",
       "    </tr>\n",
       "    <tr>\n",
       "      <th>29</th>\n",
       "      <td>0.148817</td>\n",
       "      <td>0.948052</td>\n",
       "      <td>0.063748</td>\n",
       "      <td>0.996503</td>\n",
       "      <td>29</td>\n",
       "    </tr>\n",
       "    <tr>\n",
       "      <th>30</th>\n",
       "      <td>0.149076</td>\n",
       "      <td>0.947927</td>\n",
       "      <td>0.067554</td>\n",
       "      <td>0.997503</td>\n",
       "      <td>30</td>\n",
       "    </tr>\n",
       "    <tr>\n",
       "      <th>31</th>\n",
       "      <td>0.143309</td>\n",
       "      <td>0.950175</td>\n",
       "      <td>0.069835</td>\n",
       "      <td>0.985514</td>\n",
       "      <td>31</td>\n",
       "    </tr>\n",
       "    <tr>\n",
       "      <th>32</th>\n",
       "      <td>0.135747</td>\n",
       "      <td>0.951798</td>\n",
       "      <td>0.059642</td>\n",
       "      <td>0.996004</td>\n",
       "      <td>32</td>\n",
       "    </tr>\n",
       "    <tr>\n",
       "      <th>33</th>\n",
       "      <td>0.133197</td>\n",
       "      <td>0.950799</td>\n",
       "      <td>0.060878</td>\n",
       "      <td>0.999501</td>\n",
       "      <td>33</td>\n",
       "    </tr>\n",
       "    <tr>\n",
       "      <th>34</th>\n",
       "      <td>0.133315</td>\n",
       "      <td>0.952048</td>\n",
       "      <td>0.060564</td>\n",
       "      <td>0.999501</td>\n",
       "      <td>34</td>\n",
       "    </tr>\n",
       "    <tr>\n",
       "      <th>35</th>\n",
       "      <td>0.122443</td>\n",
       "      <td>0.955045</td>\n",
       "      <td>0.061684</td>\n",
       "      <td>0.999501</td>\n",
       "      <td>35</td>\n",
       "    </tr>\n",
       "    <tr>\n",
       "      <th>36</th>\n",
       "      <td>0.127360</td>\n",
       "      <td>0.952173</td>\n",
       "      <td>0.058976</td>\n",
       "      <td>0.999501</td>\n",
       "      <td>36</td>\n",
       "    </tr>\n",
       "    <tr>\n",
       "      <th>37</th>\n",
       "      <td>0.129277</td>\n",
       "      <td>0.952048</td>\n",
       "      <td>0.061347</td>\n",
       "      <td>0.996503</td>\n",
       "      <td>37</td>\n",
       "    </tr>\n",
       "    <tr>\n",
       "      <th>38</th>\n",
       "      <td>0.129125</td>\n",
       "      <td>0.954670</td>\n",
       "      <td>0.070347</td>\n",
       "      <td>0.984016</td>\n",
       "      <td>38</td>\n",
       "    </tr>\n",
       "    <tr>\n",
       "      <th>39</th>\n",
       "      <td>0.126767</td>\n",
       "      <td>0.955794</td>\n",
       "      <td>0.077030</td>\n",
       "      <td>0.972028</td>\n",
       "      <td>39</td>\n",
       "    </tr>\n",
       "    <tr>\n",
       "      <th>40</th>\n",
       "      <td>0.115526</td>\n",
       "      <td>0.953796</td>\n",
       "      <td>0.069977</td>\n",
       "      <td>0.975524</td>\n",
       "      <td>40</td>\n",
       "    </tr>\n",
       "    <tr>\n",
       "      <th>41</th>\n",
       "      <td>0.115241</td>\n",
       "      <td>0.959540</td>\n",
       "      <td>0.063252</td>\n",
       "      <td>0.993506</td>\n",
       "      <td>41</td>\n",
       "    </tr>\n",
       "    <tr>\n",
       "      <th>42</th>\n",
       "      <td>0.122434</td>\n",
       "      <td>0.953297</td>\n",
       "      <td>0.079702</td>\n",
       "      <td>0.948551</td>\n",
       "      <td>42</td>\n",
       "    </tr>\n",
       "    <tr>\n",
       "      <th>43</th>\n",
       "      <td>0.115001</td>\n",
       "      <td>0.957418</td>\n",
       "      <td>0.076532</td>\n",
       "      <td>0.986513</td>\n",
       "      <td>43</td>\n",
       "    </tr>\n",
       "    <tr>\n",
       "      <th>44</th>\n",
       "      <td>0.113627</td>\n",
       "      <td>0.957043</td>\n",
       "      <td>0.077222</td>\n",
       "      <td>0.964036</td>\n",
       "      <td>44</td>\n",
       "    </tr>\n",
       "    <tr>\n",
       "      <th>45</th>\n",
       "      <td>0.113850</td>\n",
       "      <td>0.958541</td>\n",
       "      <td>0.071299</td>\n",
       "      <td>0.968032</td>\n",
       "      <td>45</td>\n",
       "    </tr>\n",
       "    <tr>\n",
       "      <th>46</th>\n",
       "      <td>0.101791</td>\n",
       "      <td>0.963162</td>\n",
       "      <td>0.085144</td>\n",
       "      <td>0.941059</td>\n",
       "      <td>46</td>\n",
       "    </tr>\n",
       "  </tbody>\n",
       "</table>\n",
       "</div>"
      ],
      "text/plain": [
       "        loss  accuracy  val_loss  val_accuracy  epoch\n",
       "0   1.413750  0.452173  0.976815      0.568931      0\n",
       "1   1.005864  0.558566  0.837811      0.626374      1\n",
       "2   0.899825  0.611763  0.761179      0.716284      2\n",
       "3   0.793891  0.673452  0.617960      0.784216      3\n",
       "4   0.670210  0.744131  0.481582      0.815684      4\n",
       "5   0.549619  0.817932  0.345418      0.924076      5\n",
       "6   0.474657  0.846279  0.289580      0.926573      6\n",
       "7   0.454774  0.847527  0.259985      0.926074      7\n",
       "8   0.412831  0.859765  0.219895      0.926573      8\n",
       "9   0.373875  0.873252  0.190353      0.926074      9\n",
       "10  0.339929  0.883866  0.167529      0.927073     10\n",
       "11  0.306891  0.889735  0.138494      0.930569     11\n",
       "12  0.288744  0.895355  0.122419      0.940060     12\n",
       "13  0.250937  0.913711  0.112012      0.940060     13\n",
       "14  0.241607  0.923452  0.104842      0.958541     14\n",
       "15  0.230443  0.925450  0.094765      0.959041     15\n",
       "16  0.216164  0.931943  0.093569      0.978521     16\n",
       "17  0.212644  0.934815  0.095087      0.971528     17\n",
       "18  0.201476  0.938811  0.083242      0.971528     18\n",
       "19  0.193263  0.939436  0.086148      0.964535     19\n",
       "20  0.197600  0.937562  0.079612      0.982018     20\n",
       "21  0.185390  0.941059  0.086588      0.982517     21\n",
       "22  0.187070  0.938437  0.076798      0.996503     22\n",
       "23  0.178343  0.944555  0.076530      0.986513     23\n",
       "24  0.170332  0.945679  0.077630      0.967532     24\n",
       "25  0.172797  0.944555  0.079504      0.946054     25\n",
       "26  0.159951  0.947053  0.067778      0.991009     26\n",
       "27  0.160584  0.949176  0.075943      0.986014     27\n",
       "28  0.154573  0.946928  0.065635      0.986513     28\n",
       "29  0.148817  0.948052  0.063748      0.996503     29\n",
       "30  0.149076  0.947927  0.067554      0.997503     30\n",
       "31  0.143309  0.950175  0.069835      0.985514     31\n",
       "32  0.135747  0.951798  0.059642      0.996004     32\n",
       "33  0.133197  0.950799  0.060878      0.999501     33\n",
       "34  0.133315  0.952048  0.060564      0.999501     34\n",
       "35  0.122443  0.955045  0.061684      0.999501     35\n",
       "36  0.127360  0.952173  0.058976      0.999501     36\n",
       "37  0.129277  0.952048  0.061347      0.996503     37\n",
       "38  0.129125  0.954670  0.070347      0.984016     38\n",
       "39  0.126767  0.955794  0.077030      0.972028     39\n",
       "40  0.115526  0.953796  0.069977      0.975524     40\n",
       "41  0.115241  0.959540  0.063252      0.993506     41\n",
       "42  0.122434  0.953297  0.079702      0.948551     42\n",
       "43  0.115001  0.957418  0.076532      0.986513     43\n",
       "44  0.113627  0.957043  0.077222      0.964036     44\n",
       "45  0.113850  0.958541  0.071299      0.968032     45\n",
       "46  0.101791  0.963162  0.085144      0.941059     46"
      ]
     },
     "execution_count": 20,
     "metadata": {},
     "output_type": "execute_result"
    }
   ],
   "source": [
    "metrics = pd.DataFrame(history.history)\n",
    "metrics['epoch'] = history.epoch\n",
    "metrics"
   ]
  },
  {
   "attachments": {},
   "cell_type": "markdown",
   "id": "4461c262",
   "metadata": {},
   "source": [
    "# Model evaluate"
   ]
  },
  {
   "cell_type": "code",
   "execution_count": 21,
   "id": "a42430b5",
   "metadata": {},
   "outputs": [
    {
     "data": {
      "application/vnd.plotly.v1+json": {
       "config": {
        "plotlyServerURL": "https://plot.ly"
       },
       "data": [
        {
         "name": "accuracy",
         "type": "scatter",
         "x": [
          0,
          1,
          2,
          3,
          4,
          5,
          6,
          7,
          8,
          9,
          10,
          11,
          12,
          13,
          14,
          15,
          16,
          17,
          18,
          19,
          20,
          21,
          22,
          23,
          24,
          25,
          26,
          27,
          28,
          29,
          30,
          31,
          32,
          33,
          34,
          35,
          36,
          37,
          38,
          39,
          40,
          41,
          42,
          43,
          44,
          45,
          46
         ],
         "xaxis": "x",
         "y": [
          0.45217281579971313,
          0.5585664510726929,
          0.6117632389068604,
          0.6734515428543091,
          0.7441308498382568,
          0.8179320693016052,
          0.846278727054596,
          0.8475274443626404,
          0.8597652316093445,
          0.873251736164093,
          0.8838661313056946,
          0.8897352814674377,
          0.8953546285629272,
          0.9137113094329834,
          0.9234515428543091,
          0.925449550151825,
          0.9319430589675903,
          0.9348151683807373,
          0.938811182975769,
          0.9394355416297913,
          0.9375624656677246,
          0.9410589337348938,
          0.9384365677833557,
          0.9445554614067078,
          0.9456793069839478,
          0.9445554614067078,
          0.9470529556274414,
          0.9491758346557617,
          0.946928083896637,
          0.948051929473877,
          0.9479270577430725,
          0.9501748085021973,
          0.9517982006072998,
          0.9507992267608643,
          0.9520479440689087,
          0.9550449848175049,
          0.9521728157997131,
          0.9520479440689087,
          0.9546703100204468,
          0.9557942152023315,
          0.9537962079048157,
          0.9595404863357544,
          0.9532967209815979,
          0.9574176073074341,
          0.957042932510376,
          0.9585414528846741,
          0.963161826133728
         ],
         "yaxis": "y"
        },
        {
         "name": "loss",
         "type": "scatter",
         "x": [
          0,
          1,
          2,
          3,
          4,
          5,
          6,
          7,
          8,
          9,
          10,
          11,
          12,
          13,
          14,
          15,
          16,
          17,
          18,
          19,
          20,
          21,
          22,
          23,
          24,
          25,
          26,
          27,
          28,
          29,
          30,
          31,
          32,
          33,
          34,
          35,
          36,
          37,
          38,
          39,
          40,
          41,
          42,
          43,
          44,
          45,
          46
         ],
         "xaxis": "x2",
         "y": [
          1.4137498140335083,
          1.0058640241622925,
          0.8998251557350159,
          0.7938910722732544,
          0.6702104210853577,
          0.5496194958686829,
          0.4746567904949188,
          0.45477351546287537,
          0.4128314256668091,
          0.373874694108963,
          0.3399291932582855,
          0.3068911135196686,
          0.2887439429759979,
          0.2509365975856781,
          0.24160654842853546,
          0.23044300079345703,
          0.21616382896900177,
          0.21264369785785675,
          0.2014760673046112,
          0.19326308369636536,
          0.19760049879550934,
          0.1853896528482437,
          0.18706989288330078,
          0.17834320664405823,
          0.1703324317932129,
          0.17279742658138275,
          0.15995143353939056,
          0.1605837345123291,
          0.1545732617378235,
          0.14881671965122223,
          0.1490759402513504,
          0.14330947399139404,
          0.13574667274951935,
          0.13319732248783112,
          0.13331450521945953,
          0.12244290858507156,
          0.12736046314239502,
          0.12927746772766113,
          0.12912528216838837,
          0.12676675617694855,
          0.11552631109952927,
          0.11524064838886261,
          0.12243431806564331,
          0.11500075459480286,
          0.11362697184085846,
          0.11385028064250946,
          0.10179083049297333
         ],
         "yaxis": "y2"
        },
        {
         "name": "val_accuracy",
         "type": "scatter",
         "x": [
          0,
          1,
          2,
          3,
          4,
          5,
          6,
          7,
          8,
          9,
          10,
          11,
          12,
          13,
          14,
          15,
          16,
          17,
          18,
          19,
          20,
          21,
          22,
          23,
          24,
          25,
          26,
          27,
          28,
          29,
          30,
          31,
          32,
          33,
          34,
          35,
          36,
          37,
          38,
          39,
          40,
          41,
          42,
          43,
          44,
          45,
          46
         ],
         "xaxis": "x",
         "y": [
          0.5689310431480408,
          0.6263736486434937,
          0.7162837386131287,
          0.7842158079147339,
          0.8156843185424805,
          0.9240759015083313,
          0.9265734553337097,
          0.9260739088058472,
          0.9265734553337097,
          0.9260739088058472,
          0.9270729422569275,
          0.9305694103240967,
          0.9400599598884583,
          0.9400599598884583,
          0.9585414528846741,
          0.9590409398078918,
          0.978521466255188,
          0.9715284705162048,
          0.9715284705162048,
          0.9645354747772217,
          0.982017993927002,
          0.9825174808502197,
          0.996503472328186,
          0.9865134954452515,
          0.9675324559211731,
          0.9460539221763611,
          0.991008996963501,
          0.9860140085220337,
          0.9865134954452515,
          0.996503472328186,
          0.9975025057792664,
          0.9855144619941711,
          0.9960039854049683,
          0.9995005130767822,
          0.9995005130767822,
          0.9995005130767822,
          0.9995005130767822,
          0.996503472328186,
          0.9840160012245178,
          0.9720279574394226,
          0.9755244851112366,
          0.9935064911842346,
          0.9485514760017395,
          0.9865134954452515,
          0.9640359878540039,
          0.9680319428443909,
          0.9410589337348938
         ],
         "yaxis": "y"
        },
        {
         "name": "val_loss",
         "type": "scatter",
         "x": [
          0,
          1,
          2,
          3,
          4,
          5,
          6,
          7,
          8,
          9,
          10,
          11,
          12,
          13,
          14,
          15,
          16,
          17,
          18,
          19,
          20,
          21,
          22,
          23,
          24,
          25,
          26,
          27,
          28,
          29,
          30,
          31,
          32,
          33,
          34,
          35,
          36,
          37,
          38,
          39,
          40,
          41,
          42,
          43,
          44,
          45,
          46
         ],
         "xaxis": "x2",
         "y": [
          0.9768152832984924,
          0.8378106951713562,
          0.7611789703369141,
          0.6179601550102234,
          0.4815821051597595,
          0.34541764855384827,
          0.28957951068878174,
          0.2599848806858063,
          0.21989506483078003,
          0.19035302102565765,
          0.1675289273262024,
          0.13849449157714844,
          0.12241857498884201,
          0.1120123565196991,
          0.10484202951192856,
          0.09476491808891296,
          0.09356898814439774,
          0.09508700668811798,
          0.08324156701564789,
          0.08614809066057205,
          0.07961219549179077,
          0.08658763021230698,
          0.07679807394742966,
          0.07652956992387772,
          0.07762999832630157,
          0.07950440049171448,
          0.0677783340215683,
          0.07594326138496399,
          0.06563501805067062,
          0.06374847888946533,
          0.0675542876124382,
          0.06983496993780136,
          0.059641752392053604,
          0.060878459364175797,
          0.06056373938918114,
          0.061683639883995056,
          0.05897637456655502,
          0.06134680658578873,
          0.07034657895565033,
          0.07703033834695816,
          0.06997706741094589,
          0.06325248628854752,
          0.07970193773508072,
          0.0765315592288971,
          0.07722190022468567,
          0.07129909843206406,
          0.0851438045501709
         ],
         "yaxis": "y2"
        }
       ],
       "layout": {
        "template": {
         "data": {
          "bar": [
           {
            "error_x": {
             "color": "#2a3f5f"
            },
            "error_y": {
             "color": "#2a3f5f"
            },
            "marker": {
             "line": {
              "color": "#E5ECF6",
              "width": 0.5
             },
             "pattern": {
              "fillmode": "overlay",
              "size": 10,
              "solidity": 0.2
             }
            },
            "type": "bar"
           }
          ],
          "barpolar": [
           {
            "marker": {
             "line": {
              "color": "#E5ECF6",
              "width": 0.5
             },
             "pattern": {
              "fillmode": "overlay",
              "size": 10,
              "solidity": 0.2
             }
            },
            "type": "barpolar"
           }
          ],
          "carpet": [
           {
            "aaxis": {
             "endlinecolor": "#2a3f5f",
             "gridcolor": "white",
             "linecolor": "white",
             "minorgridcolor": "white",
             "startlinecolor": "#2a3f5f"
            },
            "baxis": {
             "endlinecolor": "#2a3f5f",
             "gridcolor": "white",
             "linecolor": "white",
             "minorgridcolor": "white",
             "startlinecolor": "#2a3f5f"
            },
            "type": "carpet"
           }
          ],
          "choropleth": [
           {
            "colorbar": {
             "outlinewidth": 0,
             "ticks": ""
            },
            "type": "choropleth"
           }
          ],
          "contour": [
           {
            "colorbar": {
             "outlinewidth": 0,
             "ticks": ""
            },
            "colorscale": [
             [
              0,
              "#0d0887"
             ],
             [
              0.1111111111111111,
              "#46039f"
             ],
             [
              0.2222222222222222,
              "#7201a8"
             ],
             [
              0.3333333333333333,
              "#9c179e"
             ],
             [
              0.4444444444444444,
              "#bd3786"
             ],
             [
              0.5555555555555556,
              "#d8576b"
             ],
             [
              0.6666666666666666,
              "#ed7953"
             ],
             [
              0.7777777777777778,
              "#fb9f3a"
             ],
             [
              0.8888888888888888,
              "#fdca26"
             ],
             [
              1,
              "#f0f921"
             ]
            ],
            "type": "contour"
           }
          ],
          "contourcarpet": [
           {
            "colorbar": {
             "outlinewidth": 0,
             "ticks": ""
            },
            "type": "contourcarpet"
           }
          ],
          "heatmap": [
           {
            "colorbar": {
             "outlinewidth": 0,
             "ticks": ""
            },
            "colorscale": [
             [
              0,
              "#0d0887"
             ],
             [
              0.1111111111111111,
              "#46039f"
             ],
             [
              0.2222222222222222,
              "#7201a8"
             ],
             [
              0.3333333333333333,
              "#9c179e"
             ],
             [
              0.4444444444444444,
              "#bd3786"
             ],
             [
              0.5555555555555556,
              "#d8576b"
             ],
             [
              0.6666666666666666,
              "#ed7953"
             ],
             [
              0.7777777777777778,
              "#fb9f3a"
             ],
             [
              0.8888888888888888,
              "#fdca26"
             ],
             [
              1,
              "#f0f921"
             ]
            ],
            "type": "heatmap"
           }
          ],
          "heatmapgl": [
           {
            "colorbar": {
             "outlinewidth": 0,
             "ticks": ""
            },
            "colorscale": [
             [
              0,
              "#0d0887"
             ],
             [
              0.1111111111111111,
              "#46039f"
             ],
             [
              0.2222222222222222,
              "#7201a8"
             ],
             [
              0.3333333333333333,
              "#9c179e"
             ],
             [
              0.4444444444444444,
              "#bd3786"
             ],
             [
              0.5555555555555556,
              "#d8576b"
             ],
             [
              0.6666666666666666,
              "#ed7953"
             ],
             [
              0.7777777777777778,
              "#fb9f3a"
             ],
             [
              0.8888888888888888,
              "#fdca26"
             ],
             [
              1,
              "#f0f921"
             ]
            ],
            "type": "heatmapgl"
           }
          ],
          "histogram": [
           {
            "marker": {
             "pattern": {
              "fillmode": "overlay",
              "size": 10,
              "solidity": 0.2
             }
            },
            "type": "histogram"
           }
          ],
          "histogram2d": [
           {
            "colorbar": {
             "outlinewidth": 0,
             "ticks": ""
            },
            "colorscale": [
             [
              0,
              "#0d0887"
             ],
             [
              0.1111111111111111,
              "#46039f"
             ],
             [
              0.2222222222222222,
              "#7201a8"
             ],
             [
              0.3333333333333333,
              "#9c179e"
             ],
             [
              0.4444444444444444,
              "#bd3786"
             ],
             [
              0.5555555555555556,
              "#d8576b"
             ],
             [
              0.6666666666666666,
              "#ed7953"
             ],
             [
              0.7777777777777778,
              "#fb9f3a"
             ],
             [
              0.8888888888888888,
              "#fdca26"
             ],
             [
              1,
              "#f0f921"
             ]
            ],
            "type": "histogram2d"
           }
          ],
          "histogram2dcontour": [
           {
            "colorbar": {
             "outlinewidth": 0,
             "ticks": ""
            },
            "colorscale": [
             [
              0,
              "#0d0887"
             ],
             [
              0.1111111111111111,
              "#46039f"
             ],
             [
              0.2222222222222222,
              "#7201a8"
             ],
             [
              0.3333333333333333,
              "#9c179e"
             ],
             [
              0.4444444444444444,
              "#bd3786"
             ],
             [
              0.5555555555555556,
              "#d8576b"
             ],
             [
              0.6666666666666666,
              "#ed7953"
             ],
             [
              0.7777777777777778,
              "#fb9f3a"
             ],
             [
              0.8888888888888888,
              "#fdca26"
             ],
             [
              1,
              "#f0f921"
             ]
            ],
            "type": "histogram2dcontour"
           }
          ],
          "mesh3d": [
           {
            "colorbar": {
             "outlinewidth": 0,
             "ticks": ""
            },
            "type": "mesh3d"
           }
          ],
          "parcoords": [
           {
            "line": {
             "colorbar": {
              "outlinewidth": 0,
              "ticks": ""
             }
            },
            "type": "parcoords"
           }
          ],
          "pie": [
           {
            "automargin": true,
            "type": "pie"
           }
          ],
          "scatter": [
           {
            "fillpattern": {
             "fillmode": "overlay",
             "size": 10,
             "solidity": 0.2
            },
            "type": "scatter"
           }
          ],
          "scatter3d": [
           {
            "line": {
             "colorbar": {
              "outlinewidth": 0,
              "ticks": ""
             }
            },
            "marker": {
             "colorbar": {
              "outlinewidth": 0,
              "ticks": ""
             }
            },
            "type": "scatter3d"
           }
          ],
          "scattercarpet": [
           {
            "marker": {
             "colorbar": {
              "outlinewidth": 0,
              "ticks": ""
             }
            },
            "type": "scattercarpet"
           }
          ],
          "scattergeo": [
           {
            "marker": {
             "colorbar": {
              "outlinewidth": 0,
              "ticks": ""
             }
            },
            "type": "scattergeo"
           }
          ],
          "scattergl": [
           {
            "marker": {
             "colorbar": {
              "outlinewidth": 0,
              "ticks": ""
             }
            },
            "type": "scattergl"
           }
          ],
          "scattermapbox": [
           {
            "marker": {
             "colorbar": {
              "outlinewidth": 0,
              "ticks": ""
             }
            },
            "type": "scattermapbox"
           }
          ],
          "scatterpolar": [
           {
            "marker": {
             "colorbar": {
              "outlinewidth": 0,
              "ticks": ""
             }
            },
            "type": "scatterpolar"
           }
          ],
          "scatterpolargl": [
           {
            "marker": {
             "colorbar": {
              "outlinewidth": 0,
              "ticks": ""
             }
            },
            "type": "scatterpolargl"
           }
          ],
          "scatterternary": [
           {
            "marker": {
             "colorbar": {
              "outlinewidth": 0,
              "ticks": ""
             }
            },
            "type": "scatterternary"
           }
          ],
          "surface": [
           {
            "colorbar": {
             "outlinewidth": 0,
             "ticks": ""
            },
            "colorscale": [
             [
              0,
              "#0d0887"
             ],
             [
              0.1111111111111111,
              "#46039f"
             ],
             [
              0.2222222222222222,
              "#7201a8"
             ],
             [
              0.3333333333333333,
              "#9c179e"
             ],
             [
              0.4444444444444444,
              "#bd3786"
             ],
             [
              0.5555555555555556,
              "#d8576b"
             ],
             [
              0.6666666666666666,
              "#ed7953"
             ],
             [
              0.7777777777777778,
              "#fb9f3a"
             ],
             [
              0.8888888888888888,
              "#fdca26"
             ],
             [
              1,
              "#f0f921"
             ]
            ],
            "type": "surface"
           }
          ],
          "table": [
           {
            "cells": {
             "fill": {
              "color": "#EBF0F8"
             },
             "line": {
              "color": "white"
             }
            },
            "header": {
             "fill": {
              "color": "#C8D4E3"
             },
             "line": {
              "color": "white"
             }
            },
            "type": "table"
           }
          ]
         },
         "layout": {
          "annotationdefaults": {
           "arrowcolor": "#2a3f5f",
           "arrowhead": 0,
           "arrowwidth": 1
          },
          "autotypenumbers": "strict",
          "coloraxis": {
           "colorbar": {
            "outlinewidth": 0,
            "ticks": ""
           }
          },
          "colorscale": {
           "diverging": [
            [
             0,
             "#8e0152"
            ],
            [
             0.1,
             "#c51b7d"
            ],
            [
             0.2,
             "#de77ae"
            ],
            [
             0.3,
             "#f1b6da"
            ],
            [
             0.4,
             "#fde0ef"
            ],
            [
             0.5,
             "#f7f7f7"
            ],
            [
             0.6,
             "#e6f5d0"
            ],
            [
             0.7,
             "#b8e186"
            ],
            [
             0.8,
             "#7fbc41"
            ],
            [
             0.9,
             "#4d9221"
            ],
            [
             1,
             "#276419"
            ]
           ],
           "sequential": [
            [
             0,
             "#0d0887"
            ],
            [
             0.1111111111111111,
             "#46039f"
            ],
            [
             0.2222222222222222,
             "#7201a8"
            ],
            [
             0.3333333333333333,
             "#9c179e"
            ],
            [
             0.4444444444444444,
             "#bd3786"
            ],
            [
             0.5555555555555556,
             "#d8576b"
            ],
            [
             0.6666666666666666,
             "#ed7953"
            ],
            [
             0.7777777777777778,
             "#fb9f3a"
            ],
            [
             0.8888888888888888,
             "#fdca26"
            ],
            [
             1,
             "#f0f921"
            ]
           ],
           "sequentialminus": [
            [
             0,
             "#0d0887"
            ],
            [
             0.1111111111111111,
             "#46039f"
            ],
            [
             0.2222222222222222,
             "#7201a8"
            ],
            [
             0.3333333333333333,
             "#9c179e"
            ],
            [
             0.4444444444444444,
             "#bd3786"
            ],
            [
             0.5555555555555556,
             "#d8576b"
            ],
            [
             0.6666666666666666,
             "#ed7953"
            ],
            [
             0.7777777777777778,
             "#fb9f3a"
            ],
            [
             0.8888888888888888,
             "#fdca26"
            ],
            [
             1,
             "#f0f921"
            ]
           ]
          },
          "colorway": [
           "#636efa",
           "#EF553B",
           "#00cc96",
           "#ab63fa",
           "#FFA15A",
           "#19d3f3",
           "#FF6692",
           "#B6E880",
           "#FF97FF",
           "#FECB52"
          ],
          "font": {
           "color": "#2a3f5f"
          },
          "geo": {
           "bgcolor": "white",
           "lakecolor": "white",
           "landcolor": "#E5ECF6",
           "showlakes": true,
           "showland": true,
           "subunitcolor": "white"
          },
          "hoverlabel": {
           "align": "left"
          },
          "hovermode": "closest",
          "mapbox": {
           "style": "light"
          },
          "paper_bgcolor": "white",
          "plot_bgcolor": "#E5ECF6",
          "polar": {
           "angularaxis": {
            "gridcolor": "white",
            "linecolor": "white",
            "ticks": ""
           },
           "bgcolor": "#E5ECF6",
           "radialaxis": {
            "gridcolor": "white",
            "linecolor": "white",
            "ticks": ""
           }
          },
          "scene": {
           "xaxis": {
            "backgroundcolor": "#E5ECF6",
            "gridcolor": "white",
            "gridwidth": 2,
            "linecolor": "white",
            "showbackground": true,
            "ticks": "",
            "zerolinecolor": "white"
           },
           "yaxis": {
            "backgroundcolor": "#E5ECF6",
            "gridcolor": "white",
            "gridwidth": 2,
            "linecolor": "white",
            "showbackground": true,
            "ticks": "",
            "zerolinecolor": "white"
           },
           "zaxis": {
            "backgroundcolor": "#E5ECF6",
            "gridcolor": "white",
            "gridwidth": 2,
            "linecolor": "white",
            "showbackground": true,
            "ticks": "",
            "zerolinecolor": "white"
           }
          },
          "shapedefaults": {
           "line": {
            "color": "#2a3f5f"
           }
          },
          "ternary": {
           "aaxis": {
            "gridcolor": "white",
            "linecolor": "white",
            "ticks": ""
           },
           "baxis": {
            "gridcolor": "white",
            "linecolor": "white",
            "ticks": ""
           },
           "bgcolor": "#E5ECF6",
           "caxis": {
            "gridcolor": "white",
            "linecolor": "white",
            "ticks": ""
           }
          },
          "title": {
           "x": 0.05
          },
          "xaxis": {
           "automargin": true,
           "gridcolor": "white",
           "linecolor": "white",
           "ticks": "",
           "title": {
            "standoff": 15
           },
           "zerolinecolor": "white",
           "zerolinewidth": 2
          },
          "yaxis": {
           "automargin": true,
           "gridcolor": "white",
           "linecolor": "white",
           "ticks": "",
           "title": {
            "standoff": 15
           },
           "zerolinecolor": "white",
           "zerolinewidth": 2
          }
         }
        },
        "title": {
         "text": "Accuracy and Loss"
        },
        "width": 1000,
        "xaxis": {
         "anchor": "y",
         "domain": [
          0,
          0.45
         ],
         "title": {
          "text": "epochs"
         }
        },
        "xaxis2": {
         "anchor": "y2",
         "domain": [
          0.55,
          1
         ],
         "title": {
          "text": "epochs"
         }
        },
        "yaxis": {
         "anchor": "x",
         "domain": [
          0,
          1
         ],
         "title": {
          "text": "accuracy"
         }
        },
        "yaxis2": {
         "anchor": "x2",
         "domain": [
          0,
          1
         ],
         "title": {
          "text": "loss"
         }
        }
       }
      }
     },
     "metadata": {},
     "output_type": "display_data"
    }
   ],
   "source": [
    "import plotly.graph_objects as go\n",
    "from plotly.subplots import make_subplots\n",
    "\n",
    "fig = make_subplots(rows=1, cols=2)\n",
    "fig.add_trace(go.Scatter(x=metrics['epoch'], y=metrics['accuracy'], name='accuracy'), row=1, col=1)\n",
    "fig.add_trace(go.Scatter(x=metrics['epoch'], y=metrics['loss'], name='loss'), row=1, col=2)\n",
    "fig.add_trace(go.Scatter(x=metrics['epoch'], y=metrics['val_accuracy'], name='val_accuracy'), row=1, col=1)\n",
    "fig.add_trace(go.Scatter(x=metrics['epoch'], y=metrics['val_loss'], name='val_loss'), row=1, col=2)\n",
    "\n",
    "fig.update_xaxes(title_text='epochs')\n",
    "fig.update_yaxes(title_text='accuracy', row=1, col=1)\n",
    "fig.update_yaxes(title_text='loss', row=1, col=2)\n",
    "fig.update_layout(width=1000, title='Accuracy and Loss')\n",
    "fig.show()"
   ]
  },
  {
   "cell_type": "code",
   "execution_count": 22,
   "id": "dea0d5f4",
   "metadata": {},
   "outputs": [
    {
     "name": "stdout",
     "output_type": "stream",
     "text": [
      "0.9410589337348938\n"
     ]
    }
   ],
   "source": [
    "test_loss, test_acc = model.evaluate(X_test, y_test, verbose=0)\n",
    "print(test_acc)"
   ]
  },
  {
   "attachments": {},
   "cell_type": "markdown",
   "id": "dcf959ed",
   "metadata": {},
   "source": [
    "Predykcja na podstawie modelu.\n",
    "* model.evaluate(y_true, y_pred) - pozwala obliczyć metryki modelu\n",
    "* model.predict_classes() - pozwala zwrócić odpowiednio przewidziane klasy\n",
    "* model.predict_proba(), model.predict() - pozwala zwrócić prawdopodobieństwo danej klasy"
   ]
  },
  {
   "cell_type": "code",
   "execution_count": 23,
   "id": "d886fb03",
   "metadata": {},
   "outputs": [
    {
     "name": "stdout",
     "output_type": "stream",
     "text": [
      "63/63 [==============================] - 0s 3ms/step\n"
     ]
    },
    {
     "data": {
      "text/plain": [
       "array([[6.1014077e-38, 8.0576819e-01, 1.9423124e-01, ..., 2.4805456e-33, 0.0000000e+00, 5.3200353e-07],\n",
       "       [0.0000000e+00, 7.5274229e-01, 2.4725750e-01, ..., 5.0388398e-35, 0.0000000e+00, 2.3479198e-07],\n",
       "       [1.2752839e-02, 2.2758426e-09, 2.1811786e-14, ..., 1.0007774e-05, 9.8723388e-01, 3.2785970e-06],\n",
       "       ...,\n",
       "       [2.7967220e-29, 9.9974209e-01, 6.1502128e-06, ..., 2.5289574e-25, 0.0000000e+00, 2.5175972e-04],\n",
       "       [9.3960665e-08, 0.0000000e+00, 0.0000000e+00, ..., 9.9999988e-01, 0.0000000e+00, 7.9746008e-11],\n",
       "       [7.0933758e-12, 8.8366009e-10, 0.0000000e+00, ..., 3.1423880e-08, 0.0000000e+00, 1.0000000e+00]], dtype=float32)"
      ]
     },
     "execution_count": 23,
     "metadata": {},
     "output_type": "execute_result"
    }
   ],
   "source": [
    "predictions = model.predict(X_test)\n",
    "predictions"
   ]
  },
  {
   "cell_type": "code",
   "execution_count": 24,
   "id": "f0517586",
   "metadata": {},
   "outputs": [
    {
     "data": {
      "text/html": [
       "<div>\n",
       "<style scoped>\n",
       "    .dataframe tbody tr th:only-of-type {\n",
       "        vertical-align: middle;\n",
       "    }\n",
       "\n",
       "    .dataframe tbody tr th {\n",
       "        vertical-align: top;\n",
       "    }\n",
       "\n",
       "    .dataframe thead th {\n",
       "        text-align: right;\n",
       "    }\n",
       "</style>\n",
       "<table border=\"1\" class=\"dataframe\">\n",
       "  <thead>\n",
       "    <tr style=\"text-align: right;\">\n",
       "      <th></th>\n",
       "      <th>0</th>\n",
       "      <th>1</th>\n",
       "      <th>2</th>\n",
       "      <th>3</th>\n",
       "      <th>4</th>\n",
       "      <th>5</th>\n",
       "      <th>6</th>\n",
       "    </tr>\n",
       "  </thead>\n",
       "  <tbody>\n",
       "    <tr>\n",
       "      <th>0</th>\n",
       "      <td>6.101408e-38</td>\n",
       "      <td>8.057682e-01</td>\n",
       "      <td>1.942312e-01</td>\n",
       "      <td>9.782655e-16</td>\n",
       "      <td>2.480546e-33</td>\n",
       "      <td>0.000000</td>\n",
       "      <td>5.320035e-07</td>\n",
       "    </tr>\n",
       "    <tr>\n",
       "      <th>1</th>\n",
       "      <td>0.000000e+00</td>\n",
       "      <td>7.527423e-01</td>\n",
       "      <td>2.472575e-01</td>\n",
       "      <td>4.759706e-17</td>\n",
       "      <td>5.038840e-35</td>\n",
       "      <td>0.000000</td>\n",
       "      <td>2.347920e-07</td>\n",
       "    </tr>\n",
       "    <tr>\n",
       "      <th>2</th>\n",
       "      <td>1.275284e-02</td>\n",
       "      <td>2.275843e-09</td>\n",
       "      <td>2.181179e-14</td>\n",
       "      <td>3.801751e-08</td>\n",
       "      <td>1.000777e-05</td>\n",
       "      <td>0.987234</td>\n",
       "      <td>3.278597e-06</td>\n",
       "    </tr>\n",
       "    <tr>\n",
       "      <th>3</th>\n",
       "      <td>4.555991e-19</td>\n",
       "      <td>5.021268e-10</td>\n",
       "      <td>0.000000e+00</td>\n",
       "      <td>0.000000e+00</td>\n",
       "      <td>2.668596e-14</td>\n",
       "      <td>0.000000</td>\n",
       "      <td>1.000000e+00</td>\n",
       "    </tr>\n",
       "    <tr>\n",
       "      <th>4</th>\n",
       "      <td>1.059302e-02</td>\n",
       "      <td>9.194562e-11</td>\n",
       "      <td>2.085352e-14</td>\n",
       "      <td>7.420875e-07</td>\n",
       "      <td>4.383504e-06</td>\n",
       "      <td>0.989402</td>\n",
       "      <td>2.543304e-07</td>\n",
       "    </tr>\n",
       "    <tr>\n",
       "      <th>...</th>\n",
       "      <td>...</td>\n",
       "      <td>...</td>\n",
       "      <td>...</td>\n",
       "      <td>...</td>\n",
       "      <td>...</td>\n",
       "      <td>...</td>\n",
       "      <td>...</td>\n",
       "    </tr>\n",
       "    <tr>\n",
       "      <th>1997</th>\n",
       "      <td>1.279568e-12</td>\n",
       "      <td>0.000000e+00</td>\n",
       "      <td>0.000000e+00</td>\n",
       "      <td>0.000000e+00</td>\n",
       "      <td>1.000000e+00</td>\n",
       "      <td>0.000000</td>\n",
       "      <td>1.020917e-17</td>\n",
       "    </tr>\n",
       "    <tr>\n",
       "      <th>1998</th>\n",
       "      <td>9.402378e-08</td>\n",
       "      <td>0.000000e+00</td>\n",
       "      <td>0.000000e+00</td>\n",
       "      <td>0.000000e+00</td>\n",
       "      <td>9.999999e-01</td>\n",
       "      <td>0.000000</td>\n",
       "      <td>8.245274e-11</td>\n",
       "    </tr>\n",
       "    <tr>\n",
       "      <th>1999</th>\n",
       "      <td>2.796722e-29</td>\n",
       "      <td>9.997421e-01</td>\n",
       "      <td>6.150213e-06</td>\n",
       "      <td>1.599252e-18</td>\n",
       "      <td>2.528957e-25</td>\n",
       "      <td>0.000000</td>\n",
       "      <td>2.517597e-04</td>\n",
       "    </tr>\n",
       "    <tr>\n",
       "      <th>2000</th>\n",
       "      <td>9.396067e-08</td>\n",
       "      <td>0.000000e+00</td>\n",
       "      <td>0.000000e+00</td>\n",
       "      <td>0.000000e+00</td>\n",
       "      <td>9.999999e-01</td>\n",
       "      <td>0.000000</td>\n",
       "      <td>7.974601e-11</td>\n",
       "    </tr>\n",
       "    <tr>\n",
       "      <th>2001</th>\n",
       "      <td>7.093376e-12</td>\n",
       "      <td>8.836601e-10</td>\n",
       "      <td>0.000000e+00</td>\n",
       "      <td>0.000000e+00</td>\n",
       "      <td>3.142388e-08</td>\n",
       "      <td>0.000000</td>\n",
       "      <td>1.000000e+00</td>\n",
       "    </tr>\n",
       "  </tbody>\n",
       "</table>\n",
       "<p>2002 rows × 7 columns</p>\n",
       "</div>"
      ],
      "text/plain": [
       "                 0             1             2             3             4         5             6\n",
       "0     6.101408e-38  8.057682e-01  1.942312e-01  9.782655e-16  2.480546e-33  0.000000  5.320035e-07\n",
       "1     0.000000e+00  7.527423e-01  2.472575e-01  4.759706e-17  5.038840e-35  0.000000  2.347920e-07\n",
       "2     1.275284e-02  2.275843e-09  2.181179e-14  3.801751e-08  1.000777e-05  0.987234  3.278597e-06\n",
       "3     4.555991e-19  5.021268e-10  0.000000e+00  0.000000e+00  2.668596e-14  0.000000  1.000000e+00\n",
       "4     1.059302e-02  9.194562e-11  2.085352e-14  7.420875e-07  4.383504e-06  0.989402  2.543304e-07\n",
       "...            ...           ...           ...           ...           ...       ...           ...\n",
       "1997  1.279568e-12  0.000000e+00  0.000000e+00  0.000000e+00  1.000000e+00  0.000000  1.020917e-17\n",
       "1998  9.402378e-08  0.000000e+00  0.000000e+00  0.000000e+00  9.999999e-01  0.000000  8.245274e-11\n",
       "1999  2.796722e-29  9.997421e-01  6.150213e-06  1.599252e-18  2.528957e-25  0.000000  2.517597e-04\n",
       "2000  9.396067e-08  0.000000e+00  0.000000e+00  0.000000e+00  9.999999e-01  0.000000  7.974601e-11\n",
       "2001  7.093376e-12  8.836601e-10  0.000000e+00  0.000000e+00  3.142388e-08  0.000000  1.000000e+00\n",
       "\n",
       "[2002 rows x 7 columns]"
      ]
     },
     "execution_count": 24,
     "metadata": {},
     "output_type": "execute_result"
    }
   ],
   "source": [
    "predictions_df = pd.DataFrame(predictions)\n",
    "predictions_df"
   ]
  },
  {
   "cell_type": "code",
   "execution_count": 25,
   "id": "03d216ea",
   "metadata": {},
   "outputs": [
    {
     "data": {
      "text/plain": [
       "array([1, 1, 5, ..., 1, 4, 6], dtype=int64)"
      ]
     },
     "execution_count": 25,
     "metadata": {},
     "output_type": "execute_result"
    }
   ],
   "source": [
    "predictions_cls = predictions.argmax(axis=-1)\n",
    "predictions_cls"
   ]
  },
  {
   "attachments": {},
   "cell_type": "markdown",
   "id": "70f70183",
   "metadata": {},
   "source": [
    "# Zapisanie modelu"
   ]
  },
  {
   "cell_type": "code",
   "execution_count": 26,
   "id": "5a32ea88",
   "metadata": {},
   "outputs": [
    {
     "name": "stderr",
     "output_type": "stream",
     "text": [
      "WARNING:absl:Found untraced functions such as _update_step_xla while saving (showing 1 of 1). These functions will not be directly callable after loading.\n"
     ]
    },
    {
     "name": "stdout",
     "output_type": "stream",
     "text": [
      "INFO:tensorflow:Assets written to: C:\\Users\\Dell\\Documents\\Git\\stormwater-analysis\\stormwater_analysis\\data\\catchment_classification_model\\catchemnt_classifier\\assets\n"
     ]
    },
    {
     "name": "stderr",
     "output_type": "stream",
     "text": [
      "INFO:tensorflow:Assets written to: C:\\Users\\Dell\\Documents\\Git\\stormwater-analysis\\stormwater_analysis\\data\\catchment_classification_model\\catchemnt_classifier\\assets\n"
     ]
    }
   ],
   "source": [
    "model.save(r'C:\\Users\\Dell\\Documents\\Git\\stormwater-analysis\\stormwater_analysis\\data\\catchment_classification_model\\catchemnt_classifier')"
   ]
  },
  {
   "attachments": {},
   "cell_type": "markdown",
   "id": "2a8a23e3",
   "metadata": {},
   "source": [
    "# Załadowanie modelu"
   ]
  },
  {
   "cell_type": "code",
   "execution_count": 27,
   "id": "772d2f7e",
   "metadata": {},
   "outputs": [],
   "source": [
    "from tensorflow import keras\n",
    "model = keras.models.load_model(r'C:\\Users\\Dell\\Documents\\Git\\stormwater-analysis\\stormwater_analysis\\data\\catchment_classification_model\\catchemnt_classifier')"
   ]
  },
  {
   "cell_type": "code",
   "execution_count": 28,
   "id": "c05cbf24",
   "metadata": {},
   "outputs": [
    {
     "data": {
      "text/html": [
       "<div>\n",
       "<style scoped>\n",
       "    .dataframe tbody tr th:only-of-type {\n",
       "        vertical-align: middle;\n",
       "    }\n",
       "\n",
       "    .dataframe tbody tr th {\n",
       "        vertical-align: top;\n",
       "    }\n",
       "\n",
       "    .dataframe thead th {\n",
       "        text-align: right;\n",
       "    }\n",
       "</style>\n",
       "<table border=\"1\" class=\"dataframe\">\n",
       "  <thead>\n",
       "    <tr style=\"text-align: right;\">\n",
       "      <th></th>\n",
       "      <th>Area</th>\n",
       "      <th>PercImperv</th>\n",
       "      <th>Width</th>\n",
       "      <th>PercSlope</th>\n",
       "      <th>PctZero</th>\n",
       "      <th>TotalPrecip</th>\n",
       "      <th>TotalRunoffMG</th>\n",
       "      <th>PeakRunoff</th>\n",
       "      <th>RunoffCoeff</th>\n",
       "    </tr>\n",
       "  </thead>\n",
       "  <tbody>\n",
       "    <tr>\n",
       "      <th>7438</th>\n",
       "      <td>1.43</td>\n",
       "      <td>5.09</td>\n",
       "      <td>119.58</td>\n",
       "      <td>10.00</td>\n",
       "      <td>10</td>\n",
       "      <td>9.50</td>\n",
       "      <td>0.01</td>\n",
       "      <td>0.00</td>\n",
       "      <td>0.063</td>\n",
       "    </tr>\n",
       "    <tr>\n",
       "      <th>9058</th>\n",
       "      <td>1.00</td>\n",
       "      <td>5.09</td>\n",
       "      <td>100.00</td>\n",
       "      <td>10.00</td>\n",
       "      <td>10</td>\n",
       "      <td>0.32</td>\n",
       "      <td>0.00</td>\n",
       "      <td>0.00</td>\n",
       "      <td>0.005</td>\n",
       "    </tr>\n",
       "    <tr>\n",
       "      <th>568</th>\n",
       "      <td>0.77</td>\n",
       "      <td>30.00</td>\n",
       "      <td>87.75</td>\n",
       "      <td>15.00</td>\n",
       "      <td>80</td>\n",
       "      <td>10.10</td>\n",
       "      <td>0.04</td>\n",
       "      <td>0.03</td>\n",
       "      <td>0.462</td>\n",
       "    </tr>\n",
       "    <tr>\n",
       "      <th>9344</th>\n",
       "      <td>0.60</td>\n",
       "      <td>15.00</td>\n",
       "      <td>77.46</td>\n",
       "      <td>30.00</td>\n",
       "      <td>5</td>\n",
       "      <td>0.32</td>\n",
       "      <td>0.00</td>\n",
       "      <td>0.00</td>\n",
       "      <td>0.007</td>\n",
       "    </tr>\n",
       "    <tr>\n",
       "      <th>2236</th>\n",
       "      <td>1.39</td>\n",
       "      <td>30.00</td>\n",
       "      <td>117.90</td>\n",
       "      <td>5.09</td>\n",
       "      <td>80</td>\n",
       "      <td>38.33</td>\n",
       "      <td>0.44</td>\n",
       "      <td>0.30</td>\n",
       "      <td>0.820</td>\n",
       "    </tr>\n",
       "    <tr>\n",
       "      <th>...</th>\n",
       "      <td>...</td>\n",
       "      <td>...</td>\n",
       "      <td>...</td>\n",
       "      <td>...</td>\n",
       "      <td>...</td>\n",
       "      <td>...</td>\n",
       "      <td>...</td>\n",
       "      <td>...</td>\n",
       "      <td>...</td>\n",
       "    </tr>\n",
       "    <tr>\n",
       "      <th>533</th>\n",
       "      <td>0.19</td>\n",
       "      <td>83.33</td>\n",
       "      <td>43.59</td>\n",
       "      <td>45.00</td>\n",
       "      <td>80</td>\n",
       "      <td>10.10</td>\n",
       "      <td>0.02</td>\n",
       "      <td>0.01</td>\n",
       "      <td>0.880</td>\n",
       "    </tr>\n",
       "    <tr>\n",
       "      <th>132</th>\n",
       "      <td>1.36</td>\n",
       "      <td>65.00</td>\n",
       "      <td>116.62</td>\n",
       "      <td>61.67</td>\n",
       "      <td>80</td>\n",
       "      <td>10.10</td>\n",
       "      <td>0.10</td>\n",
       "      <td>0.09</td>\n",
       "      <td>0.761</td>\n",
       "    </tr>\n",
       "    <tr>\n",
       "      <th>7329</th>\n",
       "      <td>0.30</td>\n",
       "      <td>10.00</td>\n",
       "      <td>54.77</td>\n",
       "      <td>20.00</td>\n",
       "      <td>10</td>\n",
       "      <td>9.50</td>\n",
       "      <td>0.00</td>\n",
       "      <td>0.00</td>\n",
       "      <td>0.127</td>\n",
       "    </tr>\n",
       "    <tr>\n",
       "      <th>8466</th>\n",
       "      <td>1.25</td>\n",
       "      <td>65.00</td>\n",
       "      <td>111.80</td>\n",
       "      <td>61.67</td>\n",
       "      <td>80</td>\n",
       "      <td>12.67</td>\n",
       "      <td>0.12</td>\n",
       "      <td>0.04</td>\n",
       "      <td>0.772</td>\n",
       "    </tr>\n",
       "    <tr>\n",
       "      <th>964</th>\n",
       "      <td>1.08</td>\n",
       "      <td>15.00</td>\n",
       "      <td>103.92</td>\n",
       "      <td>10.00</td>\n",
       "      <td>5</td>\n",
       "      <td>10.10</td>\n",
       "      <td>0.02</td>\n",
       "      <td>0.01</td>\n",
       "      <td>0.140</td>\n",
       "    </tr>\n",
       "  </tbody>\n",
       "</table>\n",
       "<p>2002 rows × 9 columns</p>\n",
       "</div>"
      ],
      "text/plain": [
       "      Area  PercImperv   Width  PercSlope  PctZero  TotalPrecip  TotalRunoffMG  PeakRunoff  RunoffCoeff\n",
       "7438  1.43        5.09  119.58      10.00       10         9.50           0.01        0.00        0.063\n",
       "9058  1.00        5.09  100.00      10.00       10         0.32           0.00        0.00        0.005\n",
       "568   0.77       30.00   87.75      15.00       80        10.10           0.04        0.03        0.462\n",
       "9344  0.60       15.00   77.46      30.00        5         0.32           0.00        0.00        0.007\n",
       "2236  1.39       30.00  117.90       5.09       80        38.33           0.44        0.30        0.820\n",
       "...    ...         ...     ...        ...      ...          ...            ...         ...          ...\n",
       "533   0.19       83.33   43.59      45.00       80        10.10           0.02        0.01        0.880\n",
       "132   1.36       65.00  116.62      61.67       80        10.10           0.10        0.09        0.761\n",
       "7329  0.30       10.00   54.77      20.00       10         9.50           0.00        0.00        0.127\n",
       "8466  1.25       65.00  111.80      61.67       80        12.67           0.12        0.04        0.772\n",
       "964   1.08       15.00  103.92      10.00        5        10.10           0.02        0.01        0.140\n",
       "\n",
       "[2002 rows x 9 columns]"
      ]
     },
     "execution_count": 28,
     "metadata": {},
     "output_type": "execute_result"
    }
   ],
   "source": [
    "X_test"
   ]
  },
  {
   "cell_type": "code",
   "execution_count": 29,
   "id": "0e9ee3c8",
   "metadata": {},
   "outputs": [
    {
     "name": "stdout",
     "output_type": "stream",
     "text": [
      "Requirement already satisfied: pydot in c:\\users\\dell\\documents\\git\\stormwater-analysis\\venv\\lib\\site-packages (1.4.2)\n",
      "Requirement already satisfied: pyparsing>=2.1.4 in c:\\users\\dell\\documents\\git\\stormwater-analysis\\venv\\lib\\site-packages (from pydot) (3.0.9)\n"
     ]
    }
   ],
   "source": [
    "! pip install pydot\n"
   ]
  },
  {
   "cell_type": "code",
   "execution_count": 30,
   "id": "32bb7740",
   "metadata": {},
   "outputs": [
    {
     "name": "stdout",
     "output_type": "stream",
     "text": [
      "You must install pydot (`pip install pydot`) and install graphviz (see instructions at https://graphviz.gitlab.io/download/) for plot_model to work.\n"
     ]
    }
   ],
   "source": [
    "from tensorflow.keras.utils import plot_model\n",
    "plot_model(model)"
   ]
  },
  {
   "cell_type": "code",
   "execution_count": 31,
   "id": "96645d62",
   "metadata": {},
   "outputs": [
    {
     "name": "stdout",
     "output_type": "stream",
     "text": [
      "63/63 [==============================] - 0s 3ms/step\n"
     ]
    },
    {
     "data": {
      "text/plain": [
       "array([[6.1014077e-38, 8.0576819e-01, 1.9423124e-01, ..., 2.4805456e-33, 0.0000000e+00, 5.3200353e-07],\n",
       "       [0.0000000e+00, 7.5274229e-01, 2.4725750e-01, ..., 5.0388398e-35, 0.0000000e+00, 2.3479198e-07],\n",
       "       [1.2752839e-02, 2.2758426e-09, 2.1811786e-14, ..., 1.0007774e-05, 9.8723388e-01, 3.2785970e-06],\n",
       "       ...,\n",
       "       [2.7967220e-29, 9.9974209e-01, 6.1502128e-06, ..., 2.5289574e-25, 0.0000000e+00, 2.5175972e-04],\n",
       "       [9.3960665e-08, 0.0000000e+00, 0.0000000e+00, ..., 9.9999988e-01, 0.0000000e+00, 7.9746008e-11],\n",
       "       [7.0933758e-12, 8.8366009e-10, 0.0000000e+00, ..., 3.1423880e-08, 0.0000000e+00, 1.0000000e+00]], dtype=float32)"
      ]
     },
     "execution_count": 31,
     "metadata": {},
     "output_type": "execute_result"
    }
   ],
   "source": [
    "pred = model.predict(X_test)\n",
    "pred"
   ]
  },
  {
   "cell_type": "code",
   "execution_count": 32,
   "id": "f42874b5",
   "metadata": {},
   "outputs": [
    {
     "ename": "NameError",
     "evalue": "name 'tensorflow' is not defined",
     "output_type": "error",
     "traceback": [
      "\u001b[1;31m---------------------------------------------------------------------------\u001b[0m",
      "\u001b[1;31mNameError\u001b[0m                                 Traceback (most recent call last)",
      "Cell \u001b[1;32mIn[32], line 1\u001b[0m\n\u001b[1;32m----> 1\u001b[0m tensorflow\u001b[39m.\u001b[39mversion\n",
      "\u001b[1;31mNameError\u001b[0m: name 'tensorflow' is not defined"
     ]
    }
   ],
   "source": [
    "tensorflow.version"
   ]
  },
  {
   "cell_type": "code",
   "execution_count": null,
   "id": "288ccd1d",
   "metadata": {},
   "outputs": [],
   "source": []
  }
 ],
 "metadata": {
  "kernelspec": {
   "display_name": "Python 3 (ipykernel)",
   "language": "python",
   "name": "python3"
  },
  "language_info": {
   "codemirror_mode": {
    "name": "ipython",
    "version": 3
   },
   "file_extension": ".py",
   "mimetype": "text/x-python",
   "name": "python",
   "nbconvert_exporter": "python",
   "pygments_lexer": "ipython3",
   "version": "3.10.2"
  }
 },
 "nbformat": 4,
 "nbformat_minor": 5
}
