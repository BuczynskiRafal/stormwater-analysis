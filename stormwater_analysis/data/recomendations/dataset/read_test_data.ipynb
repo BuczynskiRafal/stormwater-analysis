{
 "cells": [
  {
   "cell_type": "code",
   "execution_count": 1,
   "metadata": {},
   "outputs": [],
   "source": [
    "import swmmio\n",
    "import pyswmm\n",
    "import pandas as pd\n",
    "import numpy as np\n",
    "\n",
    "from sklearn.model_selection import train_test_split\n",
    "from tensorflow.keras.models import Sequential\n",
    "from tensorflow.keras.layers import Dense, Dropout\n",
    "from tensorflow.keras.callbacks import EarlyStopping\n",
    "from tensorflow.keras.layers.experimental import preprocessing\n",
    "\n",
    "\n",
    "# desired_width = 500\n",
    "# pd.set_option(\"display.width\", desired_width)\n",
    "# np.set_printoptions(linewidth=desired_width)\n",
    "# pd.set_option(\"display.max_columns\", 30)\n",
    "import pprint\n",
    "pd.set_option('display.max_columns', None)\n",
    "# Ustawienie maksymalnej ilości wyświetlanych wierszy\n",
    "pd.set_option('display.max_rows', None)\n"
   ]
  },
  {
   "cell_type": "code",
   "execution_count": 2,
   "metadata": {},
   "outputs": [
    {
     "data": {
      "text/html": [
       "<div>\n",
       "<style scoped>\n",
       "    .dataframe tbody tr th:only-of-type {\n",
       "        vertical-align: middle;\n",
       "    }\n",
       "\n",
       "    .dataframe tbody tr th {\n",
       "        vertical-align: top;\n",
       "    }\n",
       "\n",
       "    .dataframe thead th {\n",
       "        text-align: right;\n",
       "    }\n",
       "</style>\n",
       "<table border=\"1\" class=\"dataframe\">\n",
       "  <thead>\n",
       "    <tr style=\"text-align: right;\">\n",
       "      <th></th>\n",
       "      <th>classes</th>\n",
       "    </tr>\n",
       "  </thead>\n",
       "  <tbody>\n",
       "    <tr>\n",
       "      <th>0</th>\n",
       "      <td>pump</td>\n",
       "    </tr>\n",
       "    <tr>\n",
       "      <th>1</th>\n",
       "      <td>tank</td>\n",
       "    </tr>\n",
       "    <tr>\n",
       "      <th>2</th>\n",
       "      <td>seepage_boxes</td>\n",
       "    </tr>\n",
       "    <tr>\n",
       "      <th>3</th>\n",
       "      <td>diameter_increase</td>\n",
       "    </tr>\n",
       "    <tr>\n",
       "      <th>4</th>\n",
       "      <td>diameter_reduction</td>\n",
       "    </tr>\n",
       "    <tr>\n",
       "      <th>5</th>\n",
       "      <td>slope_increase</td>\n",
       "    </tr>\n",
       "    <tr>\n",
       "      <th>6</th>\n",
       "      <td>slope_reduction</td>\n",
       "    </tr>\n",
       "    <tr>\n",
       "      <th>7</th>\n",
       "      <td>depth_increase</td>\n",
       "    </tr>\n",
       "    <tr>\n",
       "      <th>8</th>\n",
       "      <td>depth_reduction</td>\n",
       "    </tr>\n",
       "    <tr>\n",
       "      <th>9</th>\n",
       "      <td>valid</td>\n",
       "    </tr>\n",
       "  </tbody>\n",
       "</table>\n",
       "</div>"
      ],
      "text/plain": [
       "              classes\n",
       "0                pump\n",
       "1                tank\n",
       "2       seepage_boxes\n",
       "3   diameter_increase\n",
       "4  diameter_reduction\n",
       "5      slope_increase\n",
       "6     slope_reduction\n",
       "7      depth_increase\n",
       "8     depth_reduction\n",
       "9               valid"
      ]
     },
     "execution_count": 2,
     "metadata": {},
     "output_type": "execute_result"
    }
   ],
   "source": [
    "classes = pd.DataFrame(\n",
    "    data={\n",
    "        \"classes\": [\n",
    "            \"pump\",\n",
    "            \"tank\",\n",
    "            \"seepage_boxes\",\n",
    "            \"diameter_increase\",\n",
    "            \"diameter_reduction\",\n",
    "            \"slope_increase\",\n",
    "            \"slope_reduction\",\n",
    "            \"depth_increase\",\n",
    "            \"depth_reduction\",\n",
    "            \"valid\",\n",
    "        ]\n",
    "    }\n",
    ")\n",
    "classes"
   ]
  },
  {
   "cell_type": "code",
   "execution_count": 3,
   "metadata": {},
   "outputs": [
    {
     "name": "stdout",
     "output_type": "stream",
     "text": [
      "['c:\\\\Users\\\\Dell\\\\Documents\\\\Git\\\\stormwater-analysis\\\\stormwater_analysis\\\\data\\\\recomendations\\\\dataset', 'C:\\\\Users\\\\Dell\\\\AppData\\\\Local\\\\Programs\\\\Python\\\\Python310\\\\python310.zip', 'C:\\\\Users\\\\Dell\\\\AppData\\\\Local\\\\Programs\\\\Python\\\\Python310\\\\DLLs', 'C:\\\\Users\\\\Dell\\\\AppData\\\\Local\\\\Programs\\\\Python\\\\Python310\\\\lib', 'C:\\\\Users\\\\Dell\\\\AppData\\\\Local\\\\Programs\\\\Python\\\\Python310', 'c:\\\\Users\\\\Dell\\\\Documents\\\\Git\\\\stormwater-analysis\\\\venv', '', 'c:\\\\Users\\\\Dell\\\\Documents\\\\Git\\\\stormwater-analysis\\\\venv\\\\lib\\\\site-packages', 'c:\\\\Users\\\\Dell\\\\Documents\\\\Git\\\\stormwater-analysis\\\\venv\\\\lib\\\\site-packages\\\\win32', 'c:\\\\Users\\\\Dell\\\\Documents\\\\Git\\\\stormwater-analysis\\\\venv\\\\lib\\\\site-packages\\\\win32\\\\lib', 'c:\\\\Users\\\\Dell\\\\Documents\\\\Git\\\\stormwater-analysis\\\\venv\\\\lib\\\\site-packages\\\\Pythonwin']\n"
     ]
    }
   ],
   "source": [
    "import sys\n",
    "print(sys.path)"
   ]
  },
  {
   "cell_type": "code",
   "execution_count": 4,
   "metadata": {},
   "outputs": [],
   "source": [
    "import os\n",
    "os.chdir('C:\\\\Users\\\\Dell\\\\Documents\\\\Git\\\\stormwater-analysis')\n",
    "\n",
    "from stormwater_analysis.inp_manage.inp import SwmmModel"
   ]
  },
  {
   "cell_type": "code",
   "execution_count": 5,
   "metadata": {},
   "outputs": [
    {
     "name": "stdout",
     "output_type": "stream",
     "text": [
      "1/1 [==============================] - 0s 137ms/step\n"
     ]
    }
   ],
   "source": [
    "INP_FILE = R\"C:\\Users\\Dell\\Documents\\Git\\stormwater-analysis\\stormwater_analysis\\data\\recomendations\\dataset\\diameter\\02_diameter.inp\"\n",
    "\n",
    "with pyswmm.Simulation(INP_FILE) as sim:\n",
    "    for _ in sim:\n",
    "        pass\n",
    "\n",
    "from stormwater_analysis.inp_manage.inp import SwmmModel\n",
    "from stormwater_analysis.data.feature_engineering import feature_engineering\n",
    "\n",
    "model = swmmio.Model(INP_FILE, include_rpt=True)\n",
    "\n",
    "with pyswmm.Simulation(model.inp.path) as sim:\n",
    "    for _ in sim:\n",
    "        pass\n",
    "\n",
    "conduits_data, nodes_data, subcatchments_data = feature_engineering(model)\n",
    "swmm_model = SwmmModel(model, conduits_data, nodes_data, subcatchments_data)"
   ]
  },
  {
   "cell_type": "code",
   "execution_count": 6,
   "metadata": {},
   "outputs": [
    {
     "name": "stdout",
     "output_type": "stream",
     "text": [
      "                    Tag  Filling  ValMaxFill  ValMaxV  ValMinV  ValMaxSlope  ValMinSlope  InletMaxDepth  OutletMaxDepth  SlopePerMile  InletGroundElevation  OutletGroundElevation  InletGroundCover  OutletGroundCover  ValDepth  ValCoverage\n",
      "Name                                                                                                                                                                                                                                          \n",
      "C3                valid    0.594           1        1        1            1            1           2.71            2.40           1.8                149.32                 148.92              1.81             294.54         1            1\n",
      "C4    diameter_increase    1.100           1        1        1            1            1           2.40            2.08           6.4                148.92                 148.28              0.40             292.48         1            0\n",
      "C2    diameter_increase    0.380           1        1        1            1            1           2.50            2.71           3.8                149.30                 149.32              1.50             294.93         1            1\n",
      "C1                valid    0.348           1        1        1            1            1           2.30            2.50           4.0                149.30                 149.30              1.70             295.50         1            1\n",
      "C5    diameter_increase    1.185           1        1        1            1            1           2.50            2.40           3.6                149.20                 148.92              1.00             293.94         1            0\n",
      "C8    diameter_increase    0.500           1        1        1            1            1           1.90            2.10           4.0                149.30                 149.30              0.90             295.50         1            0\n",
      "C9    diameter_increase    0.590           1        1        1            1            1           2.30            2.50           4.0                149.20                 149.20              1.30             294.90         1            1\n",
      "C10               valid    0.354           1        1        1            1            1           2.10            2.30           4.0                149.20                 149.20              1.50             295.50         1            1\n",
      "C6    diameter_increase    0.780           1        1        1            1            1           2.30            2.50           6.0                149.30                 149.20              1.10             294.70         1            0\n",
      "C7    diameter_increase    0.790           1        1        1            1            1           2.10            2.30           4.0                149.30                 149.30              1.10             295.30         1            0\n"
     ]
    }
   ],
   "source": [
    "print(swmm_model.conduits_data.conduits.iloc[:, 18:])"
   ]
  },
  {
   "cell_type": "code",
   "execution_count": 7,
   "metadata": {},
   "outputs": [
    {
     "name": "stdout",
     "output_type": "stream",
     "text": [
      "      UpstreamInvert  DownstreamInvert  SlopeFtPerFt                Tag  Filling  ValMaxFill  ValMaxV  ValMinV  ValMaxSlope  ValMinSlope  InletMaxDepth  OutletMaxDepth  SlopePerMile  InletGroundElevation  OutletGroundElevation  InletGroundCover  OutletGroundCover  ValDepth  ValCoverage\n",
      "Name                                                                                                                                                                                                                                                                                          \n",
      "C3            146.61            146.52        0.0018              valid    0.594           1        1        1            1            1           2.71            2.40           1.8                149.32                 148.92              1.81             294.54         1            1\n",
      "C4            146.52            146.20        0.0064  diameter_increase    1.100           1        1        1            1            1           2.40            2.08           6.4                148.92                 148.28              0.40             292.48         1            0\n",
      "C2            146.80            146.61        0.0038  diameter_increase    0.380           1        1        1            1            1           2.50            2.71           3.8                149.30                 149.32              1.50             294.93         1            1\n",
      "C1            147.00            146.80        0.0040              valid    0.348           1        1        1            1            1           2.30            2.50           4.0                149.30                 149.30              1.70             295.50         1            1\n",
      "C5            146.70            146.52        0.0036  diameter_increase    1.185           1        1        1            1            1           2.50            2.40           3.6                149.20                 148.92              1.00             293.94         1            0\n",
      "C8            147.40            147.20        0.0040  diameter_increase    0.500           1        1        1            1            1           1.90            2.10           4.0                149.30                 149.30              0.90             295.50         1            0\n",
      "C9            146.90            146.70        0.0040  diameter_increase    0.590           1        1        1            1            1           2.30            2.50           4.0                149.20                 149.20              1.30             294.90         1            1\n",
      "C10           147.10            146.90        0.0040              valid    0.354           1        1        1            1            1           2.10            2.30           4.0                149.20                 149.20              1.50             295.50         1            1\n",
      "C6            147.00            146.70        0.0060  diameter_increase    0.780           1        1        1            1            1           2.30            2.50           6.0                149.30                 149.20              1.10             294.70         1            0\n",
      "C7            147.20            147.00        0.0040  diameter_increase    0.790           1        1        1            1            1           2.10            2.30           4.0                149.30                 149.30              1.10             295.30         1            0\n"
     ]
    }
   ],
   "source": [
    "print(swmm_model.conduits_data.conduits.iloc[:, 15:35])\n",
    "# self.conduits[\"ValCoverage\"] = (\n",
    "#     (self.conduits.InletGroundElevation <= (self.conduits.InletNodeInvert - self.frost_zone))\n",
    "#     & (self.conduits.OutletGroundElevation <= (self.conduits.OutletNodeInvert - self.frost_zone))\n",
    "# ).astype(int)\n",
    "\n",
    "# UpstreamInvert  - to jest rzędna dna kanału\n",
    "# InletMaxDepth  -  to jest całkowite zagłębienie kanału - czyli od powierzchni terenu do dna kanału\n",
    "# InletGroundElevation - czyli pokrywa z gruntu powinna być obliczna\n",
    "# a walidacja pokrywy zatem obliczona jako \n",
    "# InletGroundElevation  - "
   ]
  },
  {
   "cell_type": "code",
   "execution_count": 8,
   "metadata": {},
   "outputs": [
    {
     "name": "stdout",
     "output_type": "stream",
     "text": [
      "     InletNode OutletNode  Length  Roughness  MaxFlow  Geom1     Type   MaxQ  MaxDay  MaxHr  MaxV  MaxQPerc  MaxDPerc  InletNodeInvert  OutletNodeInvert  ...  Filling  ValMaxFill  ValMaxV ValMinV  ValMaxSlope  ValMinSlope  InletMaxDepth  OutletMaxDepth  SlopePerMile  InletGroundElevation  OutletGroundElevation  InletGroundCover  OutletGroundCover  ValDepth  ValCoverage\n",
      "Name                                                                                                                                                      ...                                                                                                                                                                                                                      \n",
      "C3          J2         J3      50      0.010        0    0.9  CONDUIT  0.772       0  00:17  1.76      0.77      0.66           146.61            146.52  ...    0.594           1        1       1            1            1           2.71            2.40           1.8                149.32                 148.92              1.81             294.54         1            1\n",
      "C4          J3         O1      50      0.015        0    2.0  CONDUIT  6.217       0  00:17  3.50      0.59      0.55           146.52            146.20  ...    1.100           1        1       1            1            1           2.40            2.08           6.4                148.92                 148.28              0.40             292.48         1            0\n",
      "C2          J1         J2      50      0.010        0    1.0  CONDUIT  0.596       0  00:17  2.16      0.31      0.38           146.80            146.61  ...    0.380           1        1       1            1            1           2.50            2.71           3.8                149.30                 149.32              1.50             294.93         1            1\n",
      "C1          J0         J1      50      0.010        0    0.6  CONDUIT  0.324       0  00:17  1.93      0.64      0.58           147.00            146.80  ...    0.348           1        1       1            1            1           2.30            2.50           4.0                149.30                 149.30              1.70             295.50         1            1\n",
      "C5          J4         J3      50      0.010        0    1.5  CONDUIT  5.266       0  00:17  3.58      0.95      0.79           146.70            146.52  ...    1.185           1        1       1            1            1           2.50            2.40           3.6                149.20                 148.92              1.00             293.94         1            0\n",
      "C8          J7         J6      50      0.010        0    1.0  CONDUIT  0.985       0  00:17  2.51      0.50      0.50           147.40            147.20  ...    0.500           1        1       1            1            1           1.90            2.10           4.0                149.30                 149.30              0.90             295.50         1            0\n",
      "C9          J8         J4      50      0.010        0    1.0  CONDUIT  1.282       0  00:17  2.68      0.65      0.59           146.90            146.70  ...    0.590           1        1       1            1            1           2.30            2.50           4.0                149.20                 149.20              1.30             294.90         1            1\n",
      "C10         J9         J8      50      0.010        0    0.6  CONDUIT  0.329       0  00:17  1.94      0.65      0.59           147.10            146.90  ...    0.354           1        1       1            1            1           2.10            2.30           4.0                149.20                 149.20              1.50             295.50         1            1\n",
      "C6          J5         J4      50      0.010        0    1.2  CONDUIT  2.933       0  00:17  3.80      0.75      0.65           147.00            146.70  ...    0.780           1        1       1            1            1           2.30            2.50           6.0                149.30                 149.20              1.10             294.70         1            0\n",
      "C7          J6         J5      50      0.010        0    1.0  CONDUIT  1.887       0  00:17  2.90      0.96      0.79           147.20            147.00  ...    0.790           1        1       1            1            1           2.10            2.30           4.0                149.30                 149.30              1.10             295.30         1            0\n",
      "\n",
      "[10 rows x 34 columns]\n"
     ]
    }
   ],
   "source": [
    "print(swmm_model.conduits_data.conduits)"
   ]
  },
  {
   "cell_type": "code",
   "execution_count": 9,
   "metadata": {},
   "outputs": [
    {
     "data": {
      "text/plain": [
       "('valid',)"
      ]
     },
     "execution_count": 9,
     "metadata": {},
     "output_type": "execute_result"
    }
   ],
   "source": [
    "\"pump\",\n",
    "\"tank\",\n",
    "\"seepage_boxes\",\n",
    "\"diameter_increase\",\n",
    "\"diameter_reduction\",\n",
    "\"slope_increase\",\n",
    "\"slope_reduction\",\n",
    "\"depth_increase\",\n",
    "\"depth_reduction\",\n",
    "\"valid\","
   ]
  }
 ],
 "metadata": {
  "kernelspec": {
   "display_name": "venv",
   "language": "python",
   "name": "python3"
  },
  "language_info": {
   "codemirror_mode": {
    "name": "ipython",
    "version": 3
   },
   "file_extension": ".py",
   "mimetype": "text/x-python",
   "name": "python",
   "nbconvert_exporter": "python",
   "pygments_lexer": "ipython3",
   "version": "3.10.2"
  },
  "orig_nbformat": 4
 },
 "nbformat": 4,
 "nbformat_minor": 2
}
