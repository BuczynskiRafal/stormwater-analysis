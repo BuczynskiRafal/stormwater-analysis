{
 "cells": [
  {
   "attachments": {},
   "cell_type": "markdown",
   "id": "203c68be-eb8f-49c1-8f55-d3929d447923",
   "metadata": {},
   "source": [
    "# Training a model for catchment classification. \n",
    "* kategoryzacja zlewni oparta o większość dostępnych ceech zlewni z plików inp i rpt"
   ]
  },
  {
   "cell_type": "markdown",
   "id": "0ca5aa33-8a1f-41a9-9f45-44b2405dff6a",
   "metadata": {},
   "source": [
    "# Imports"
   ]
  },
  {
   "cell_type": "code",
   "execution_count": 1,
   "id": "36d5c0c3-e761-4ba6-9aab-f74dada646a3",
   "metadata": {},
   "outputs": [],
   "source": [
    "import swmmio\n",
    "import pyswmm\n",
    "import pandas as pd\n",
    "import numpy as np\n",
    "from sklearn.model_selection import train_test_split\n",
    "from sklearn.preprocessing import StandardScaler, OneHotEncoder, MinMaxScaler\n",
    "from sklearn.compose import ColumnTransformer\n",
    "from tensorflow.keras.models import Sequential\n",
    "from tensorflow.keras.layers import Dense, Dropout\n",
    "from tensorflow.keras.callbacks import EarlyStopping\n",
    "\n",
    "desired_width = 500\n",
    "pd.set_option(\"display.width\", desired_width)\n",
    "np.set_printoptions(linewidth=desired_width)\n",
    "pd.set_option(\"display.max_columns\", 30)"
   ]
  },
  {
   "cell_type": "code",
   "execution_count": 2,
   "id": "93a421bf-75fd-46fa-b8a1-6277aa189444",
   "metadata": {
    "tags": []
   },
   "outputs": [
    {
     "data": {
      "text/html": [
       "<div>\n",
       "<style scoped>\n",
       "    .dataframe tbody tr th:only-of-type {\n",
       "        vertical-align: middle;\n",
       "    }\n",
       "\n",
       "    .dataframe tbody tr th {\n",
       "        vertical-align: top;\n",
       "    }\n",
       "\n",
       "    .dataframe thead th {\n",
       "        text-align: right;\n",
       "    }\n",
       "</style>\n",
       "<table border=\"1\" class=\"dataframe\">\n",
       "  <thead>\n",
       "    <tr style=\"text-align: right;\">\n",
       "      <th></th>\n",
       "      <th>classes</th>\n",
       "    </tr>\n",
       "  </thead>\n",
       "  <tbody>\n",
       "    <tr>\n",
       "      <th>0</th>\n",
       "      <td>compact_urban_development</td>\n",
       "    </tr>\n",
       "    <tr>\n",
       "      <th>1</th>\n",
       "      <td>urban</td>\n",
       "    </tr>\n",
       "    <tr>\n",
       "      <th>2</th>\n",
       "      <td>loose_urban_development</td>\n",
       "    </tr>\n",
       "    <tr>\n",
       "      <th>3</th>\n",
       "      <td>wooded_area</td>\n",
       "    </tr>\n",
       "    <tr>\n",
       "      <th>4</th>\n",
       "      <td>grassy</td>\n",
       "    </tr>\n",
       "    <tr>\n",
       "      <th>5</th>\n",
       "      <td>loose_soil</td>\n",
       "    </tr>\n",
       "    <tr>\n",
       "      <th>6</th>\n",
       "      <td>steep_area</td>\n",
       "    </tr>\n",
       "  </tbody>\n",
       "</table>\n",
       "</div>"
      ],
      "text/plain": [
       "                     classes\n",
       "0  compact_urban_development\n",
       "1                      urban\n",
       "2    loose_urban_development\n",
       "3                wooded_area\n",
       "4                     grassy\n",
       "5                 loose_soil\n",
       "6                 steep_area"
      ]
     },
     "execution_count": 2,
     "metadata": {},
     "output_type": "execute_result"
    }
   ],
   "source": [
    "classes = pd.DataFrame(\n",
    "    data={\n",
    "        \"classes\": [\n",
    "            \"compact_urban_development\",\n",
    "            \"urban\",\n",
    "            \"loose_urban_development\",\n",
    "            \"wooded_area\",\n",
    "            \"grassy\",\n",
    "            \"loose_soil\",\n",
    "            \"steep_area\",\n",
    "        ]\n",
    "    }\n",
    ")\n",
    "classes"
   ]
  },
  {
   "cell_type": "markdown",
   "id": "4a70e679-858b-452c-b86f-5970de24452d",
   "metadata": {},
   "source": [
    "# Get files"
   ]
  },
  {
   "cell_type": "code",
   "execution_count": 3,
   "id": "33997e0f-4acc-4716-91a1-52529670ecdc",
   "metadata": {
    "tags": []
   },
   "outputs": [],
   "source": [
    "INP_FILE = \"dataset/subcatchment_dataset.inp\"\n",
    "RPT_FILE = \"dataset/subcatchment_dataset.inp\""
   ]
  },
  {
   "cell_type": "markdown",
   "id": "64f26c2a-8ea2-479f-afb4-a308ef9bd098",
   "metadata": {
    "tags": []
   },
   "source": [
    "# Run simulation"
   ]
  },
  {
   "cell_type": "code",
   "execution_count": 4,
   "id": "55ba70ee-57b6-4f10-ba31-1491cf3e5abd",
   "metadata": {
    "tags": []
   },
   "outputs": [],
   "source": [
    "with pyswmm.Simulation(INP_FILE) as sim:\n",
    "    for step in sim:\n",
    "        pass"
   ]
  },
  {
   "cell_type": "markdown",
   "id": "41a1e5e8-bc02-423b-be65-27525ff80744",
   "metadata": {
    "tags": []
   },
   "source": [
    "# Read inp and rpt file as swmmio model object"
   ]
  },
  {
   "cell_type": "code",
   "execution_count": 5,
   "id": "47c87820-5d5f-40d4-b47f-f1f9e3802551",
   "metadata": {
    "tags": []
   },
   "outputs": [],
   "source": [
    "model = swmmio.Model(INP_FILE)"
   ]
  },
  {
   "cell_type": "markdown",
   "id": "509d6391-c4ac-462f-be8f-d39f57aa7666",
   "metadata": {
    "tags": []
   },
   "source": [
    "## Get subcatchments data from the model"
   ]
  },
  {
   "cell_type": "code",
   "execution_count": 6,
   "id": "3c34c355-f5c1-420f-a437-2223f8ff53e5",
   "metadata": {},
   "outputs": [
    {
     "data": {
      "text/html": [
       "<div>\n",
       "<style scoped>\n",
       "    .dataframe tbody tr th:only-of-type {\n",
       "        vertical-align: middle;\n",
       "    }\n",
       "\n",
       "    .dataframe tbody tr th {\n",
       "        vertical-align: top;\n",
       "    }\n",
       "\n",
       "    .dataframe thead th {\n",
       "        text-align: right;\n",
       "    }\n",
       "</style>\n",
       "<table border=\"1\" class=\"dataframe\">\n",
       "  <thead>\n",
       "    <tr style=\"text-align: right;\">\n",
       "      <th></th>\n",
       "      <th>Raingage</th>\n",
       "      <th>Outlet</th>\n",
       "      <th>Area</th>\n",
       "      <th>PercImperv</th>\n",
       "      <th>Width</th>\n",
       "      <th>PercSlope</th>\n",
       "      <th>CurbLength</th>\n",
       "      <th>N-Imperv</th>\n",
       "      <th>N-Perv</th>\n",
       "      <th>S-Imperv</th>\n",
       "      <th>S-Perv</th>\n",
       "      <th>PctZero</th>\n",
       "      <th>RouteTo</th>\n",
       "      <th>TotalPrecip</th>\n",
       "      <th>TotalRunon</th>\n",
       "      <th>TotalEvap</th>\n",
       "      <th>TotalInfil</th>\n",
       "      <th>ImpervRunoff</th>\n",
       "      <th>PervRunoff</th>\n",
       "      <th>TotalRunoffIn</th>\n",
       "      <th>TotalRunoffMG</th>\n",
       "      <th>PeakRunoff</th>\n",
       "      <th>RunoffCoeff</th>\n",
       "      <th>coords</th>\n",
       "    </tr>\n",
       "    <tr>\n",
       "      <th>Name</th>\n",
       "      <th></th>\n",
       "      <th></th>\n",
       "      <th></th>\n",
       "      <th></th>\n",
       "      <th></th>\n",
       "      <th></th>\n",
       "      <th></th>\n",
       "      <th></th>\n",
       "      <th></th>\n",
       "      <th></th>\n",
       "      <th></th>\n",
       "      <th></th>\n",
       "      <th></th>\n",
       "      <th></th>\n",
       "      <th></th>\n",
       "      <th></th>\n",
       "      <th></th>\n",
       "      <th></th>\n",
       "      <th></th>\n",
       "      <th></th>\n",
       "      <th></th>\n",
       "      <th></th>\n",
       "      <th></th>\n",
       "      <th></th>\n",
       "    </tr>\n",
       "  </thead>\n",
       "  <tbody>\n",
       "    <tr>\n",
       "      <th>S1</th>\n",
       "      <td>Raingage2</td>\n",
       "      <td>O1</td>\n",
       "      <td>0.50</td>\n",
       "      <td>20.00</td>\n",
       "      <td>300.00</td>\n",
       "      <td>5.00</td>\n",
       "      <td>0</td>\n",
       "      <td>0.150</td>\n",
       "      <td>0.41</td>\n",
       "      <td>1.27</td>\n",
       "      <td>5.08</td>\n",
       "      <td>70</td>\n",
       "      <td>OUTLET</td>\n",
       "      <td>10.10</td>\n",
       "      <td>0.00</td>\n",
       "      <td>0.00</td>\n",
       "      <td>5.91</td>\n",
       "      <td>1.95</td>\n",
       "      <td>2.17</td>\n",
       "      <td>4.12</td>\n",
       "      <td>0.02</td>\n",
       "      <td>0.02</td>\n",
       "      <td>0.407</td>\n",
       "      <td>[(777180.0, 592590.0), (777180.0, 592585.0), (777175.0, 592585.0), (777175.0, 592590.0), (777180.0, 592590.0)]</td>\n",
       "    </tr>\n",
       "    <tr>\n",
       "      <th>S10</th>\n",
       "      <td>Raingage2</td>\n",
       "      <td>O1</td>\n",
       "      <td>1.87</td>\n",
       "      <td>45.00</td>\n",
       "      <td>136.75</td>\n",
       "      <td>15.00</td>\n",
       "      <td>0</td>\n",
       "      <td>0.013</td>\n",
       "      <td>0.15</td>\n",
       "      <td>1.27</td>\n",
       "      <td>5.08</td>\n",
       "      <td>90</td>\n",
       "      <td>OUTLET</td>\n",
       "      <td>10.10</td>\n",
       "      <td>0.00</td>\n",
       "      <td>0.00</td>\n",
       "      <td>4.13</td>\n",
       "      <td>4.50</td>\n",
       "      <td>1.43</td>\n",
       "      <td>5.93</td>\n",
       "      <td>0.11</td>\n",
       "      <td>0.09</td>\n",
       "      <td>0.587</td>\n",
       "      <td>NaN</td>\n",
       "    </tr>\n",
       "    <tr>\n",
       "      <th>S100</th>\n",
       "      <td>Raingage2</td>\n",
       "      <td>O1</td>\n",
       "      <td>1.71</td>\n",
       "      <td>45.00</td>\n",
       "      <td>130.77</td>\n",
       "      <td>10.00</td>\n",
       "      <td>0</td>\n",
       "      <td>0.013</td>\n",
       "      <td>0.15</td>\n",
       "      <td>1.27</td>\n",
       "      <td>5.08</td>\n",
       "      <td>90</td>\n",
       "      <td>OUTLET</td>\n",
       "      <td>10.10</td>\n",
       "      <td>0.00</td>\n",
       "      <td>0.00</td>\n",
       "      <td>4.18</td>\n",
       "      <td>4.50</td>\n",
       "      <td>1.38</td>\n",
       "      <td>5.87</td>\n",
       "      <td>0.10</td>\n",
       "      <td>0.08</td>\n",
       "      <td>0.581</td>\n",
       "      <td>NaN</td>\n",
       "    </tr>\n",
       "    <tr>\n",
       "      <th>S1000</th>\n",
       "      <td>Raingage2</td>\n",
       "      <td>O1</td>\n",
       "      <td>0.68</td>\n",
       "      <td>10.00</td>\n",
       "      <td>82.46</td>\n",
       "      <td>5.09</td>\n",
       "      <td>0</td>\n",
       "      <td>0.150</td>\n",
       "      <td>0.41</td>\n",
       "      <td>1.27</td>\n",
       "      <td>5.08</td>\n",
       "      <td>10</td>\n",
       "      <td>OUTLET</td>\n",
       "      <td>10.10</td>\n",
       "      <td>0.00</td>\n",
       "      <td>0.00</td>\n",
       "      <td>7.73</td>\n",
       "      <td>0.90</td>\n",
       "      <td>1.36</td>\n",
       "      <td>2.26</td>\n",
       "      <td>0.02</td>\n",
       "      <td>0.01</td>\n",
       "      <td>0.224</td>\n",
       "      <td>NaN</td>\n",
       "    </tr>\n",
       "    <tr>\n",
       "      <th>S1001</th>\n",
       "      <td>Raingage2</td>\n",
       "      <td>O1</td>\n",
       "      <td>0.26</td>\n",
       "      <td>83.33</td>\n",
       "      <td>50.99</td>\n",
       "      <td>45.00</td>\n",
       "      <td>0</td>\n",
       "      <td>0.013</td>\n",
       "      <td>0.05</td>\n",
       "      <td>1.27</td>\n",
       "      <td>5.08</td>\n",
       "      <td>80</td>\n",
       "      <td>OUTLET</td>\n",
       "      <td>10.10</td>\n",
       "      <td>0.00</td>\n",
       "      <td>0.00</td>\n",
       "      <td>1.04</td>\n",
       "      <td>8.23</td>\n",
       "      <td>0.65</td>\n",
       "      <td>8.88</td>\n",
       "      <td>0.02</td>\n",
       "      <td>0.02</td>\n",
       "      <td>0.879</td>\n",
       "      <td>NaN</td>\n",
       "    </tr>\n",
       "  </tbody>\n",
       "</table>\n",
       "</div>"
      ],
      "text/plain": [
       "        Raingage Outlet  Area  PercImperv   Width  PercSlope  CurbLength  N-Imperv  N-Perv  S-Imperv  S-Perv  PctZero RouteTo TotalPrecip TotalRunon TotalEvap TotalInfil  ImpervRunoff PervRunoff  TotalRunoffIn  TotalRunoffMG  PeakRunoff  RunoffCoeff                                                                                                          coords\n",
       "Name                                                                                                                                                                                                                                                                                                                                                                     \n",
       "S1     Raingage2     O1  0.50       20.00  300.00       5.00           0     0.150    0.41      1.27    5.08       70  OUTLET       10.10       0.00      0.00       5.91          1.95       2.17           4.12           0.02        0.02        0.407  [(777180.0, 592590.0), (777180.0, 592585.0), (777175.0, 592585.0), (777175.0, 592590.0), (777180.0, 592590.0)]\n",
       "S10    Raingage2     O1  1.87       45.00  136.75      15.00           0     0.013    0.15      1.27    5.08       90  OUTLET       10.10       0.00      0.00       4.13          4.50       1.43           5.93           0.11        0.09        0.587                                                                                                             NaN\n",
       "S100   Raingage2     O1  1.71       45.00  130.77      10.00           0     0.013    0.15      1.27    5.08       90  OUTLET       10.10       0.00      0.00       4.18          4.50       1.38           5.87           0.10        0.08        0.581                                                                                                             NaN\n",
       "S1000  Raingage2     O1  0.68       10.00   82.46       5.09           0     0.150    0.41      1.27    5.08       10  OUTLET       10.10       0.00      0.00       7.73          0.90       1.36           2.26           0.02        0.01        0.224                                                                                                             NaN\n",
       "S1001  Raingage2     O1  0.26       83.33   50.99      45.00           0     0.013    0.05      1.27    5.08       80  OUTLET       10.10       0.00      0.00       1.04          8.23       0.65           8.88           0.02        0.02        0.879                                                                                                             NaN"
      ]
     },
     "execution_count": 6,
     "metadata": {},
     "output_type": "execute_result"
    }
   ],
   "source": [
    "raw_subcatchments = model.subcatchments.dataframe\n",
    "subcatchments = raw_subcatchments.copy()\n",
    "subcatchments[:5]"
   ]
  },
  {
   "cell_type": "markdown",
   "id": "90961230-f871-4f50-8d48-52f509304ec2",
   "metadata": {
    "tags": []
   },
   "source": [
    "### Drop unused columns"
   ]
  },
  {
   "cell_type": "code",
   "execution_count": 7,
   "id": "8d4bf621-5085-4641-a7c5-38460e68ab4b",
   "metadata": {
    "tags": []
   },
   "outputs": [
    {
     "data": {
      "text/html": [
       "<div>\n",
       "<style scoped>\n",
       "    .dataframe tbody tr th:only-of-type {\n",
       "        vertical-align: middle;\n",
       "    }\n",
       "\n",
       "    .dataframe tbody tr th {\n",
       "        vertical-align: top;\n",
       "    }\n",
       "\n",
       "    .dataframe thead th {\n",
       "        text-align: right;\n",
       "    }\n",
       "</style>\n",
       "<table border=\"1\" class=\"dataframe\">\n",
       "  <thead>\n",
       "    <tr style=\"text-align: right;\">\n",
       "      <th></th>\n",
       "      <th>Raingage</th>\n",
       "      <th>Outlet</th>\n",
       "      <th>Area</th>\n",
       "      <th>PercImperv</th>\n",
       "      <th>Width</th>\n",
       "      <th>PercSlope</th>\n",
       "      <th>CurbLength</th>\n",
       "      <th>N-Imperv</th>\n",
       "      <th>N-Perv</th>\n",
       "      <th>S-Imperv</th>\n",
       "      <th>S-Perv</th>\n",
       "      <th>PctZero</th>\n",
       "      <th>TotalPrecip</th>\n",
       "      <th>TotalRunon</th>\n",
       "      <th>TotalEvap</th>\n",
       "      <th>TotalInfil</th>\n",
       "      <th>ImpervRunoff</th>\n",
       "      <th>PervRunoff</th>\n",
       "      <th>TotalRunoffIn</th>\n",
       "      <th>TotalRunoffMG</th>\n",
       "      <th>PeakRunoff</th>\n",
       "      <th>RunoffCoeff</th>\n",
       "    </tr>\n",
       "    <tr>\n",
       "      <th>Name</th>\n",
       "      <th></th>\n",
       "      <th></th>\n",
       "      <th></th>\n",
       "      <th></th>\n",
       "      <th></th>\n",
       "      <th></th>\n",
       "      <th></th>\n",
       "      <th></th>\n",
       "      <th></th>\n",
       "      <th></th>\n",
       "      <th></th>\n",
       "      <th></th>\n",
       "      <th></th>\n",
       "      <th></th>\n",
       "      <th></th>\n",
       "      <th></th>\n",
       "      <th></th>\n",
       "      <th></th>\n",
       "      <th></th>\n",
       "      <th></th>\n",
       "      <th></th>\n",
       "      <th></th>\n",
       "    </tr>\n",
       "  </thead>\n",
       "  <tbody>\n",
       "    <tr>\n",
       "      <th>S1</th>\n",
       "      <td>Raingage2</td>\n",
       "      <td>O1</td>\n",
       "      <td>0.50</td>\n",
       "      <td>20.00</td>\n",
       "      <td>300.00</td>\n",
       "      <td>5.00</td>\n",
       "      <td>0</td>\n",
       "      <td>0.150</td>\n",
       "      <td>0.41</td>\n",
       "      <td>1.27</td>\n",
       "      <td>5.08</td>\n",
       "      <td>70</td>\n",
       "      <td>10.10</td>\n",
       "      <td>0.00</td>\n",
       "      <td>0.00</td>\n",
       "      <td>5.91</td>\n",
       "      <td>1.95</td>\n",
       "      <td>2.17</td>\n",
       "      <td>4.12</td>\n",
       "      <td>0.02</td>\n",
       "      <td>0.02</td>\n",
       "      <td>0.407</td>\n",
       "    </tr>\n",
       "    <tr>\n",
       "      <th>S10</th>\n",
       "      <td>Raingage2</td>\n",
       "      <td>O1</td>\n",
       "      <td>1.87</td>\n",
       "      <td>45.00</td>\n",
       "      <td>136.75</td>\n",
       "      <td>15.00</td>\n",
       "      <td>0</td>\n",
       "      <td>0.013</td>\n",
       "      <td>0.15</td>\n",
       "      <td>1.27</td>\n",
       "      <td>5.08</td>\n",
       "      <td>90</td>\n",
       "      <td>10.10</td>\n",
       "      <td>0.00</td>\n",
       "      <td>0.00</td>\n",
       "      <td>4.13</td>\n",
       "      <td>4.50</td>\n",
       "      <td>1.43</td>\n",
       "      <td>5.93</td>\n",
       "      <td>0.11</td>\n",
       "      <td>0.09</td>\n",
       "      <td>0.587</td>\n",
       "    </tr>\n",
       "    <tr>\n",
       "      <th>S100</th>\n",
       "      <td>Raingage2</td>\n",
       "      <td>O1</td>\n",
       "      <td>1.71</td>\n",
       "      <td>45.00</td>\n",
       "      <td>130.77</td>\n",
       "      <td>10.00</td>\n",
       "      <td>0</td>\n",
       "      <td>0.013</td>\n",
       "      <td>0.15</td>\n",
       "      <td>1.27</td>\n",
       "      <td>5.08</td>\n",
       "      <td>90</td>\n",
       "      <td>10.10</td>\n",
       "      <td>0.00</td>\n",
       "      <td>0.00</td>\n",
       "      <td>4.18</td>\n",
       "      <td>4.50</td>\n",
       "      <td>1.38</td>\n",
       "      <td>5.87</td>\n",
       "      <td>0.10</td>\n",
       "      <td>0.08</td>\n",
       "      <td>0.581</td>\n",
       "    </tr>\n",
       "    <tr>\n",
       "      <th>S1000</th>\n",
       "      <td>Raingage2</td>\n",
       "      <td>O1</td>\n",
       "      <td>0.68</td>\n",
       "      <td>10.00</td>\n",
       "      <td>82.46</td>\n",
       "      <td>5.09</td>\n",
       "      <td>0</td>\n",
       "      <td>0.150</td>\n",
       "      <td>0.41</td>\n",
       "      <td>1.27</td>\n",
       "      <td>5.08</td>\n",
       "      <td>10</td>\n",
       "      <td>10.10</td>\n",
       "      <td>0.00</td>\n",
       "      <td>0.00</td>\n",
       "      <td>7.73</td>\n",
       "      <td>0.90</td>\n",
       "      <td>1.36</td>\n",
       "      <td>2.26</td>\n",
       "      <td>0.02</td>\n",
       "      <td>0.01</td>\n",
       "      <td>0.224</td>\n",
       "    </tr>\n",
       "    <tr>\n",
       "      <th>S1001</th>\n",
       "      <td>Raingage2</td>\n",
       "      <td>O1</td>\n",
       "      <td>0.26</td>\n",
       "      <td>83.33</td>\n",
       "      <td>50.99</td>\n",
       "      <td>45.00</td>\n",
       "      <td>0</td>\n",
       "      <td>0.013</td>\n",
       "      <td>0.05</td>\n",
       "      <td>1.27</td>\n",
       "      <td>5.08</td>\n",
       "      <td>80</td>\n",
       "      <td>10.10</td>\n",
       "      <td>0.00</td>\n",
       "      <td>0.00</td>\n",
       "      <td>1.04</td>\n",
       "      <td>8.23</td>\n",
       "      <td>0.65</td>\n",
       "      <td>8.88</td>\n",
       "      <td>0.02</td>\n",
       "      <td>0.02</td>\n",
       "      <td>0.879</td>\n",
       "    </tr>\n",
       "    <tr>\n",
       "      <th>...</th>\n",
       "      <td>...</td>\n",
       "      <td>...</td>\n",
       "      <td>...</td>\n",
       "      <td>...</td>\n",
       "      <td>...</td>\n",
       "      <td>...</td>\n",
       "      <td>...</td>\n",
       "      <td>...</td>\n",
       "      <td>...</td>\n",
       "      <td>...</td>\n",
       "      <td>...</td>\n",
       "      <td>...</td>\n",
       "      <td>...</td>\n",
       "      <td>...</td>\n",
       "      <td>...</td>\n",
       "      <td>...</td>\n",
       "      <td>...</td>\n",
       "      <td>...</td>\n",
       "      <td>...</td>\n",
       "      <td>...</td>\n",
       "      <td>...</td>\n",
       "      <td>...</td>\n",
       "    </tr>\n",
       "    <tr>\n",
       "      <th>S995</th>\n",
       "      <td>Raingage2</td>\n",
       "      <td>O1</td>\n",
       "      <td>1.10</td>\n",
       "      <td>10.00</td>\n",
       "      <td>104.88</td>\n",
       "      <td>15.00</td>\n",
       "      <td>0</td>\n",
       "      <td>0.150</td>\n",
       "      <td>0.41</td>\n",
       "      <td>1.27</td>\n",
       "      <td>5.08</td>\n",
       "      <td>10</td>\n",
       "      <td>10.10</td>\n",
       "      <td>0.00</td>\n",
       "      <td>0.00</td>\n",
       "      <td>7.53</td>\n",
       "      <td>0.90</td>\n",
       "      <td>1.56</td>\n",
       "      <td>2.46</td>\n",
       "      <td>0.03</td>\n",
       "      <td>0.02</td>\n",
       "      <td>0.243</td>\n",
       "    </tr>\n",
       "    <tr>\n",
       "      <th>S996</th>\n",
       "      <td>Raingage2</td>\n",
       "      <td>O1</td>\n",
       "      <td>1.89</td>\n",
       "      <td>5.09</td>\n",
       "      <td>137.48</td>\n",
       "      <td>15.00</td>\n",
       "      <td>0</td>\n",
       "      <td>0.060</td>\n",
       "      <td>0.17</td>\n",
       "      <td>1.27</td>\n",
       "      <td>5.08</td>\n",
       "      <td>10</td>\n",
       "      <td>10.10</td>\n",
       "      <td>0.00</td>\n",
       "      <td>0.00</td>\n",
       "      <td>7.55</td>\n",
       "      <td>0.46</td>\n",
       "      <td>2.04</td>\n",
       "      <td>2.49</td>\n",
       "      <td>0.05</td>\n",
       "      <td>0.03</td>\n",
       "      <td>0.247</td>\n",
       "    </tr>\n",
       "    <tr>\n",
       "      <th>S997</th>\n",
       "      <td>Raingage2</td>\n",
       "      <td>O1</td>\n",
       "      <td>1.19</td>\n",
       "      <td>10.00</td>\n",
       "      <td>109.09</td>\n",
       "      <td>5.09</td>\n",
       "      <td>0</td>\n",
       "      <td>0.150</td>\n",
       "      <td>0.41</td>\n",
       "      <td>1.27</td>\n",
       "      <td>5.08</td>\n",
       "      <td>10</td>\n",
       "      <td>10.10</td>\n",
       "      <td>0.00</td>\n",
       "      <td>0.00</td>\n",
       "      <td>7.91</td>\n",
       "      <td>0.90</td>\n",
       "      <td>1.18</td>\n",
       "      <td>2.08</td>\n",
       "      <td>0.02</td>\n",
       "      <td>0.01</td>\n",
       "      <td>0.206</td>\n",
       "    </tr>\n",
       "    <tr>\n",
       "      <th>S998</th>\n",
       "      <td>Raingage2</td>\n",
       "      <td>O1</td>\n",
       "      <td>0.05</td>\n",
       "      <td>65.00</td>\n",
       "      <td>22.36</td>\n",
       "      <td>61.67</td>\n",
       "      <td>0</td>\n",
       "      <td>0.013</td>\n",
       "      <td>0.05</td>\n",
       "      <td>1.27</td>\n",
       "      <td>5.08</td>\n",
       "      <td>80</td>\n",
       "      <td>10.10</td>\n",
       "      <td>0.00</td>\n",
       "      <td>0.00</td>\n",
       "      <td>2.18</td>\n",
       "      <td>6.43</td>\n",
       "      <td>1.37</td>\n",
       "      <td>7.81</td>\n",
       "      <td>0.00</td>\n",
       "      <td>0.00</td>\n",
       "      <td>0.773</td>\n",
       "    </tr>\n",
       "    <tr>\n",
       "      <th>S999</th>\n",
       "      <td>Raingage2</td>\n",
       "      <td>O1</td>\n",
       "      <td>0.66</td>\n",
       "      <td>30.00</td>\n",
       "      <td>81.24</td>\n",
       "      <td>10.00</td>\n",
       "      <td>0</td>\n",
       "      <td>0.013</td>\n",
       "      <td>0.24</td>\n",
       "      <td>1.27</td>\n",
       "      <td>5.08</td>\n",
       "      <td>80</td>\n",
       "      <td>10.10</td>\n",
       "      <td>0.00</td>\n",
       "      <td>0.00</td>\n",
       "      <td>5.43</td>\n",
       "      <td>2.96</td>\n",
       "      <td>1.64</td>\n",
       "      <td>4.60</td>\n",
       "      <td>0.03</td>\n",
       "      <td>0.02</td>\n",
       "      <td>0.456</td>\n",
       "    </tr>\n",
       "  </tbody>\n",
       "</table>\n",
       "<p>1001 rows × 22 columns</p>\n",
       "</div>"
      ],
      "text/plain": [
       "        Raingage Outlet  Area  PercImperv   Width  PercSlope  CurbLength  N-Imperv  N-Perv  S-Imperv  S-Perv  PctZero TotalPrecip TotalRunon TotalEvap TotalInfil  ImpervRunoff PervRunoff  TotalRunoffIn  TotalRunoffMG  PeakRunoff  RunoffCoeff\n",
       "Name                                                                                                                                                                                                                                             \n",
       "S1     Raingage2     O1  0.50       20.00  300.00       5.00           0     0.150    0.41      1.27    5.08       70       10.10       0.00      0.00       5.91          1.95       2.17           4.12           0.02        0.02        0.407\n",
       "S10    Raingage2     O1  1.87       45.00  136.75      15.00           0     0.013    0.15      1.27    5.08       90       10.10       0.00      0.00       4.13          4.50       1.43           5.93           0.11        0.09        0.587\n",
       "S100   Raingage2     O1  1.71       45.00  130.77      10.00           0     0.013    0.15      1.27    5.08       90       10.10       0.00      0.00       4.18          4.50       1.38           5.87           0.10        0.08        0.581\n",
       "S1000  Raingage2     O1  0.68       10.00   82.46       5.09           0     0.150    0.41      1.27    5.08       10       10.10       0.00      0.00       7.73          0.90       1.36           2.26           0.02        0.01        0.224\n",
       "S1001  Raingage2     O1  0.26       83.33   50.99      45.00           0     0.013    0.05      1.27    5.08       80       10.10       0.00      0.00       1.04          8.23       0.65           8.88           0.02        0.02        0.879\n",
       "...          ...    ...   ...         ...     ...        ...         ...       ...     ...       ...     ...      ...         ...        ...       ...        ...           ...        ...            ...            ...         ...          ...\n",
       "S995   Raingage2     O1  1.10       10.00  104.88      15.00           0     0.150    0.41      1.27    5.08       10       10.10       0.00      0.00       7.53          0.90       1.56           2.46           0.03        0.02        0.243\n",
       "S996   Raingage2     O1  1.89        5.09  137.48      15.00           0     0.060    0.17      1.27    5.08       10       10.10       0.00      0.00       7.55          0.46       2.04           2.49           0.05        0.03        0.247\n",
       "S997   Raingage2     O1  1.19       10.00  109.09       5.09           0     0.150    0.41      1.27    5.08       10       10.10       0.00      0.00       7.91          0.90       1.18           2.08           0.02        0.01        0.206\n",
       "S998   Raingage2     O1  0.05       65.00   22.36      61.67           0     0.013    0.05      1.27    5.08       80       10.10       0.00      0.00       2.18          6.43       1.37           7.81           0.00        0.00        0.773\n",
       "S999   Raingage2     O1  0.66       30.00   81.24      10.00           0     0.013    0.24      1.27    5.08       80       10.10       0.00      0.00       5.43          2.96       1.64           4.60           0.03        0.02        0.456\n",
       "\n",
       "[1001 rows x 22 columns]"
      ]
     },
     "execution_count": 7,
     "metadata": {},
     "output_type": "execute_result"
    }
   ],
   "source": [
    "subcatchments.drop(['coords', 'RouteTo'], axis=1, inplace=True)\n",
    "subcatchments"
   ]
  },
  {
   "cell_type": "markdown",
   "id": "aec10d49-c5c5-4d85-b88b-988292b3500b",
   "metadata": {},
   "source": [
    "## Get categories"
   ]
  },
  {
   "cell_type": "code",
   "execution_count": 8,
   "id": "16e17b13-3c2e-4475-96b5-1555b71d3e9c",
   "metadata": {
    "tags": []
   },
   "outputs": [
    {
     "data": {
      "text/html": [
       "<div>\n",
       "<style scoped>\n",
       "    .dataframe tbody tr th:only-of-type {\n",
       "        vertical-align: middle;\n",
       "    }\n",
       "\n",
       "    .dataframe tbody tr th {\n",
       "        vertical-align: top;\n",
       "    }\n",
       "\n",
       "    .dataframe thead th {\n",
       "        text-align: right;\n",
       "    }\n",
       "</style>\n",
       "<table border=\"1\" class=\"dataframe\">\n",
       "  <thead>\n",
       "    <tr style=\"text-align: right;\">\n",
       "      <th></th>\n",
       "      <th>Name</th>\n",
       "      <th>Tag</th>\n",
       "    </tr>\n",
       "    <tr>\n",
       "      <th>ElementType</th>\n",
       "      <th></th>\n",
       "      <th></th>\n",
       "    </tr>\n",
       "  </thead>\n",
       "  <tbody>\n",
       "    <tr>\n",
       "      <th>Subcatch</th>\n",
       "      <td>S1</td>\n",
       "      <td>#comment</td>\n",
       "    </tr>\n",
       "    <tr>\n",
       "      <th>Subcatch</th>\n",
       "      <td>S2</td>\n",
       "      <td>compact_urban_development</td>\n",
       "    </tr>\n",
       "    <tr>\n",
       "      <th>Subcatch</th>\n",
       "      <td>S3</td>\n",
       "      <td>loose_soil</td>\n",
       "    </tr>\n",
       "    <tr>\n",
       "      <th>Subcatch</th>\n",
       "      <td>S4</td>\n",
       "      <td>wooded_area</td>\n",
       "    </tr>\n",
       "    <tr>\n",
       "      <th>Subcatch</th>\n",
       "      <td>S5</td>\n",
       "      <td>loose_urban_development</td>\n",
       "    </tr>\n",
       "    <tr>\n",
       "      <th>...</th>\n",
       "      <td>...</td>\n",
       "      <td>...</td>\n",
       "    </tr>\n",
       "    <tr>\n",
       "      <th>Subcatch</th>\n",
       "      <td>S997</td>\n",
       "      <td>grassy</td>\n",
       "    </tr>\n",
       "    <tr>\n",
       "      <th>Subcatch</th>\n",
       "      <td>S998</td>\n",
       "      <td>steep_area</td>\n",
       "    </tr>\n",
       "    <tr>\n",
       "      <th>Subcatch</th>\n",
       "      <td>S999</td>\n",
       "      <td>urban</td>\n",
       "    </tr>\n",
       "    <tr>\n",
       "      <th>Subcatch</th>\n",
       "      <td>S1000</td>\n",
       "      <td>grassy</td>\n",
       "    </tr>\n",
       "    <tr>\n",
       "      <th>Subcatch</th>\n",
       "      <td>S1001</td>\n",
       "      <td>steep_area</td>\n",
       "    </tr>\n",
       "  </tbody>\n",
       "</table>\n",
       "<p>1001 rows × 2 columns</p>\n",
       "</div>"
      ],
      "text/plain": [
       "              Name                        Tag\n",
       "ElementType                                  \n",
       "Subcatch        S1                   #comment\n",
       "Subcatch        S2  compact_urban_development\n",
       "Subcatch        S3                 loose_soil\n",
       "Subcatch        S4                wooded_area\n",
       "Subcatch        S5    loose_urban_development\n",
       "...            ...                        ...\n",
       "Subcatch      S997                     grassy\n",
       "Subcatch      S998                 steep_area\n",
       "Subcatch      S999                      urban\n",
       "Subcatch     S1000                     grassy\n",
       "Subcatch     S1001                 steep_area\n",
       "\n",
       "[1001 rows x 2 columns]"
      ]
     },
     "execution_count": 8,
     "metadata": {},
     "output_type": "execute_result"
    }
   ],
   "source": [
    "categories = model.inp.tags\n",
    "categories"
   ]
  },
  {
   "cell_type": "markdown",
   "id": "2909fc39-f2b9-4208-bd94-aff400908f83",
   "metadata": {},
   "source": [
    "### Add categories column to subcatchments DataFrame"
   ]
  },
  {
   "cell_type": "code",
   "execution_count": 9,
   "id": "c06fec91-94c5-4d36-ac9b-a9a7405bc95e",
   "metadata": {
    "tags": []
   },
   "outputs": [],
   "source": [
    "# Reset the index of subcatchments DataFrame\n",
    "subcatchments.reset_index(inplace=True)\n",
    "\n",
    "# Merge the two DataFrames on the \"Name\" column\n",
    "merged_df = subcatchments.merge(model.inp.tags, left_on=\"Name\", right_on=\"Name\", how=\"left\")\n",
    "\n",
    "# Rename the 'Tag' column to 'categories'\n",
    "merged_df.rename(columns={\"Tag\": \"categories\"}, inplace=True)\n",
    "\n",
    "# Set the index back to \"Name\"\n",
    "merged_df.set_index(\"Name\", inplace=True)"
   ]
  },
  {
   "cell_type": "code",
   "execution_count": 10,
   "id": "f859870d-2e2d-47ae-b6ca-445e3ef47142",
   "metadata": {
    "tags": []
   },
   "outputs": [
    {
     "data": {
      "text/html": [
       "<div>\n",
       "<style scoped>\n",
       "    .dataframe tbody tr th:only-of-type {\n",
       "        vertical-align: middle;\n",
       "    }\n",
       "\n",
       "    .dataframe tbody tr th {\n",
       "        vertical-align: top;\n",
       "    }\n",
       "\n",
       "    .dataframe thead th {\n",
       "        text-align: right;\n",
       "    }\n",
       "</style>\n",
       "<table border=\"1\" class=\"dataframe\">\n",
       "  <thead>\n",
       "    <tr style=\"text-align: right;\">\n",
       "      <th></th>\n",
       "      <th>Raingage</th>\n",
       "      <th>Outlet</th>\n",
       "      <th>Area</th>\n",
       "      <th>PercImperv</th>\n",
       "      <th>Width</th>\n",
       "      <th>PercSlope</th>\n",
       "      <th>CurbLength</th>\n",
       "      <th>N-Imperv</th>\n",
       "      <th>N-Perv</th>\n",
       "      <th>S-Imperv</th>\n",
       "      <th>S-Perv</th>\n",
       "      <th>PctZero</th>\n",
       "      <th>TotalPrecip</th>\n",
       "      <th>TotalRunon</th>\n",
       "      <th>TotalEvap</th>\n",
       "      <th>TotalInfil</th>\n",
       "      <th>ImpervRunoff</th>\n",
       "      <th>PervRunoff</th>\n",
       "      <th>TotalRunoffIn</th>\n",
       "      <th>TotalRunoffMG</th>\n",
       "      <th>PeakRunoff</th>\n",
       "      <th>RunoffCoeff</th>\n",
       "      <th>categories</th>\n",
       "    </tr>\n",
       "    <tr>\n",
       "      <th>Name</th>\n",
       "      <th></th>\n",
       "      <th></th>\n",
       "      <th></th>\n",
       "      <th></th>\n",
       "      <th></th>\n",
       "      <th></th>\n",
       "      <th></th>\n",
       "      <th></th>\n",
       "      <th></th>\n",
       "      <th></th>\n",
       "      <th></th>\n",
       "      <th></th>\n",
       "      <th></th>\n",
       "      <th></th>\n",
       "      <th></th>\n",
       "      <th></th>\n",
       "      <th></th>\n",
       "      <th></th>\n",
       "      <th></th>\n",
       "      <th></th>\n",
       "      <th></th>\n",
       "      <th></th>\n",
       "      <th></th>\n",
       "    </tr>\n",
       "  </thead>\n",
       "  <tbody>\n",
       "    <tr>\n",
       "      <th>S1</th>\n",
       "      <td>Raingage2</td>\n",
       "      <td>O1</td>\n",
       "      <td>0.50</td>\n",
       "      <td>20.0</td>\n",
       "      <td>300.00</td>\n",
       "      <td>5.0</td>\n",
       "      <td>0</td>\n",
       "      <td>0.150</td>\n",
       "      <td>0.41</td>\n",
       "      <td>1.27</td>\n",
       "      <td>5.08</td>\n",
       "      <td>70</td>\n",
       "      <td>10.10</td>\n",
       "      <td>0.00</td>\n",
       "      <td>0.00</td>\n",
       "      <td>5.91</td>\n",
       "      <td>1.95</td>\n",
       "      <td>2.17</td>\n",
       "      <td>4.12</td>\n",
       "      <td>0.02</td>\n",
       "      <td>0.02</td>\n",
       "      <td>0.407</td>\n",
       "      <td>#comment</td>\n",
       "    </tr>\n",
       "    <tr>\n",
       "      <th>S10</th>\n",
       "      <td>Raingage2</td>\n",
       "      <td>O1</td>\n",
       "      <td>1.87</td>\n",
       "      <td>45.0</td>\n",
       "      <td>136.75</td>\n",
       "      <td>15.0</td>\n",
       "      <td>0</td>\n",
       "      <td>0.013</td>\n",
       "      <td>0.15</td>\n",
       "      <td>1.27</td>\n",
       "      <td>5.08</td>\n",
       "      <td>90</td>\n",
       "      <td>10.10</td>\n",
       "      <td>0.00</td>\n",
       "      <td>0.00</td>\n",
       "      <td>4.13</td>\n",
       "      <td>4.50</td>\n",
       "      <td>1.43</td>\n",
       "      <td>5.93</td>\n",
       "      <td>0.11</td>\n",
       "      <td>0.09</td>\n",
       "      <td>0.587</td>\n",
       "      <td>compact_urban_development</td>\n",
       "    </tr>\n",
       "    <tr>\n",
       "      <th>S100</th>\n",
       "      <td>Raingage2</td>\n",
       "      <td>O1</td>\n",
       "      <td>1.71</td>\n",
       "      <td>45.0</td>\n",
       "      <td>130.77</td>\n",
       "      <td>10.0</td>\n",
       "      <td>0</td>\n",
       "      <td>0.013</td>\n",
       "      <td>0.15</td>\n",
       "      <td>1.27</td>\n",
       "      <td>5.08</td>\n",
       "      <td>90</td>\n",
       "      <td>10.10</td>\n",
       "      <td>0.00</td>\n",
       "      <td>0.00</td>\n",
       "      <td>4.18</td>\n",
       "      <td>4.50</td>\n",
       "      <td>1.38</td>\n",
       "      <td>5.87</td>\n",
       "      <td>0.10</td>\n",
       "      <td>0.08</td>\n",
       "      <td>0.581</td>\n",
       "      <td>compact_urban_development</td>\n",
       "    </tr>\n",
       "  </tbody>\n",
       "</table>\n",
       "</div>"
      ],
      "text/plain": [
       "       Raingage Outlet  Area  PercImperv   Width  PercSlope  CurbLength  N-Imperv  N-Perv  S-Imperv  S-Perv  PctZero TotalPrecip TotalRunon TotalEvap TotalInfil  ImpervRunoff PervRunoff  TotalRunoffIn  TotalRunoffMG  PeakRunoff  RunoffCoeff                 categories\n",
       "Name                                                                                                                                                                                                                                                                       \n",
       "S1    Raingage2     O1  0.50        20.0  300.00        5.0           0     0.150    0.41      1.27    5.08       70       10.10       0.00      0.00       5.91          1.95       2.17           4.12           0.02        0.02        0.407                   #comment\n",
       "S10   Raingage2     O1  1.87        45.0  136.75       15.0           0     0.013    0.15      1.27    5.08       90       10.10       0.00      0.00       4.13          4.50       1.43           5.93           0.11        0.09        0.587  compact_urban_development\n",
       "S100  Raingage2     O1  1.71        45.0  130.77       10.0           0     0.013    0.15      1.27    5.08       90       10.10       0.00      0.00       4.18          4.50       1.38           5.87           0.10        0.08        0.581  compact_urban_development"
      ]
     },
     "execution_count": 10,
     "metadata": {},
     "output_type": "execute_result"
    }
   ],
   "source": [
    "merged_df[:3]"
   ]
  },
  {
   "cell_type": "code",
   "execution_count": 11,
   "id": "1db93097-3c2a-4061-bc61-b078d12d2a88",
   "metadata": {
    "tags": []
   },
   "outputs": [
    {
     "data": {
      "text/html": [
       "<div>\n",
       "<style scoped>\n",
       "    .dataframe tbody tr th:only-of-type {\n",
       "        vertical-align: middle;\n",
       "    }\n",
       "\n",
       "    .dataframe tbody tr th {\n",
       "        vertical-align: top;\n",
       "    }\n",
       "\n",
       "    .dataframe thead th {\n",
       "        text-align: right;\n",
       "    }\n",
       "</style>\n",
       "<table border=\"1\" class=\"dataframe\">\n",
       "  <thead>\n",
       "    <tr style=\"text-align: right;\">\n",
       "      <th></th>\n",
       "      <th>Raingage</th>\n",
       "      <th>Outlet</th>\n",
       "      <th>Area</th>\n",
       "      <th>PercImperv</th>\n",
       "      <th>Width</th>\n",
       "      <th>PercSlope</th>\n",
       "      <th>CurbLength</th>\n",
       "      <th>N-Imperv</th>\n",
       "      <th>N-Perv</th>\n",
       "      <th>S-Imperv</th>\n",
       "      <th>S-Perv</th>\n",
       "      <th>PctZero</th>\n",
       "      <th>TotalPrecip</th>\n",
       "      <th>TotalRunon</th>\n",
       "      <th>TotalEvap</th>\n",
       "      <th>TotalInfil</th>\n",
       "      <th>ImpervRunoff</th>\n",
       "      <th>PervRunoff</th>\n",
       "      <th>TotalRunoffIn</th>\n",
       "      <th>TotalRunoffMG</th>\n",
       "      <th>PeakRunoff</th>\n",
       "      <th>RunoffCoeff</th>\n",
       "      <th>categories</th>\n",
       "    </tr>\n",
       "    <tr>\n",
       "      <th>Name</th>\n",
       "      <th></th>\n",
       "      <th></th>\n",
       "      <th></th>\n",
       "      <th></th>\n",
       "      <th></th>\n",
       "      <th></th>\n",
       "      <th></th>\n",
       "      <th></th>\n",
       "      <th></th>\n",
       "      <th></th>\n",
       "      <th></th>\n",
       "      <th></th>\n",
       "      <th></th>\n",
       "      <th></th>\n",
       "      <th></th>\n",
       "      <th></th>\n",
       "      <th></th>\n",
       "      <th></th>\n",
       "      <th></th>\n",
       "      <th></th>\n",
       "      <th></th>\n",
       "      <th></th>\n",
       "      <th></th>\n",
       "    </tr>\n",
       "  </thead>\n",
       "  <tbody>\n",
       "    <tr>\n",
       "      <th>S1</th>\n",
       "      <td>Raingage2</td>\n",
       "      <td>O1</td>\n",
       "      <td>0.50</td>\n",
       "      <td>20.00</td>\n",
       "      <td>300.00</td>\n",
       "      <td>5.00</td>\n",
       "      <td>0</td>\n",
       "      <td>0.150</td>\n",
       "      <td>0.41</td>\n",
       "      <td>1.27</td>\n",
       "      <td>5.08</td>\n",
       "      <td>70</td>\n",
       "      <td>10.10</td>\n",
       "      <td>0.00</td>\n",
       "      <td>0.00</td>\n",
       "      <td>5.91</td>\n",
       "      <td>1.95</td>\n",
       "      <td>2.17</td>\n",
       "      <td>4.12</td>\n",
       "      <td>0.02</td>\n",
       "      <td>0.02</td>\n",
       "      <td>0.407</td>\n",
       "      <td>#comment</td>\n",
       "    </tr>\n",
       "    <tr>\n",
       "      <th>S10</th>\n",
       "      <td>Raingage2</td>\n",
       "      <td>O1</td>\n",
       "      <td>1.87</td>\n",
       "      <td>45.00</td>\n",
       "      <td>136.75</td>\n",
       "      <td>15.00</td>\n",
       "      <td>0</td>\n",
       "      <td>0.013</td>\n",
       "      <td>0.15</td>\n",
       "      <td>1.27</td>\n",
       "      <td>5.08</td>\n",
       "      <td>90</td>\n",
       "      <td>10.10</td>\n",
       "      <td>0.00</td>\n",
       "      <td>0.00</td>\n",
       "      <td>4.13</td>\n",
       "      <td>4.50</td>\n",
       "      <td>1.43</td>\n",
       "      <td>5.93</td>\n",
       "      <td>0.11</td>\n",
       "      <td>0.09</td>\n",
       "      <td>0.587</td>\n",
       "      <td>compact_urban_development</td>\n",
       "    </tr>\n",
       "    <tr>\n",
       "      <th>S100</th>\n",
       "      <td>Raingage2</td>\n",
       "      <td>O1</td>\n",
       "      <td>1.71</td>\n",
       "      <td>45.00</td>\n",
       "      <td>130.77</td>\n",
       "      <td>10.00</td>\n",
       "      <td>0</td>\n",
       "      <td>0.013</td>\n",
       "      <td>0.15</td>\n",
       "      <td>1.27</td>\n",
       "      <td>5.08</td>\n",
       "      <td>90</td>\n",
       "      <td>10.10</td>\n",
       "      <td>0.00</td>\n",
       "      <td>0.00</td>\n",
       "      <td>4.18</td>\n",
       "      <td>4.50</td>\n",
       "      <td>1.38</td>\n",
       "      <td>5.87</td>\n",
       "      <td>0.10</td>\n",
       "      <td>0.08</td>\n",
       "      <td>0.581</td>\n",
       "      <td>compact_urban_development</td>\n",
       "    </tr>\n",
       "    <tr>\n",
       "      <th>S1000</th>\n",
       "      <td>Raingage2</td>\n",
       "      <td>O1</td>\n",
       "      <td>0.68</td>\n",
       "      <td>10.00</td>\n",
       "      <td>82.46</td>\n",
       "      <td>5.09</td>\n",
       "      <td>0</td>\n",
       "      <td>0.150</td>\n",
       "      <td>0.41</td>\n",
       "      <td>1.27</td>\n",
       "      <td>5.08</td>\n",
       "      <td>10</td>\n",
       "      <td>10.10</td>\n",
       "      <td>0.00</td>\n",
       "      <td>0.00</td>\n",
       "      <td>7.73</td>\n",
       "      <td>0.90</td>\n",
       "      <td>1.36</td>\n",
       "      <td>2.26</td>\n",
       "      <td>0.02</td>\n",
       "      <td>0.01</td>\n",
       "      <td>0.224</td>\n",
       "      <td>grassy</td>\n",
       "    </tr>\n",
       "    <tr>\n",
       "      <th>S1001</th>\n",
       "      <td>Raingage2</td>\n",
       "      <td>O1</td>\n",
       "      <td>0.26</td>\n",
       "      <td>83.33</td>\n",
       "      <td>50.99</td>\n",
       "      <td>45.00</td>\n",
       "      <td>0</td>\n",
       "      <td>0.013</td>\n",
       "      <td>0.05</td>\n",
       "      <td>1.27</td>\n",
       "      <td>5.08</td>\n",
       "      <td>80</td>\n",
       "      <td>10.10</td>\n",
       "      <td>0.00</td>\n",
       "      <td>0.00</td>\n",
       "      <td>1.04</td>\n",
       "      <td>8.23</td>\n",
       "      <td>0.65</td>\n",
       "      <td>8.88</td>\n",
       "      <td>0.02</td>\n",
       "      <td>0.02</td>\n",
       "      <td>0.879</td>\n",
       "      <td>steep_area</td>\n",
       "    </tr>\n",
       "  </tbody>\n",
       "</table>\n",
       "</div>"
      ],
      "text/plain": [
       "        Raingage Outlet  Area  PercImperv   Width  PercSlope  CurbLength  N-Imperv  N-Perv  S-Imperv  S-Perv  PctZero TotalPrecip TotalRunon TotalEvap TotalInfil  ImpervRunoff PervRunoff  TotalRunoffIn  TotalRunoffMG  PeakRunoff  RunoffCoeff                 categories\n",
       "Name                                                                                                                                                                                                                                                                        \n",
       "S1     Raingage2     O1  0.50       20.00  300.00       5.00           0     0.150    0.41      1.27    5.08       70       10.10       0.00      0.00       5.91          1.95       2.17           4.12           0.02        0.02        0.407                   #comment\n",
       "S10    Raingage2     O1  1.87       45.00  136.75      15.00           0     0.013    0.15      1.27    5.08       90       10.10       0.00      0.00       4.13          4.50       1.43           5.93           0.11        0.09        0.587  compact_urban_development\n",
       "S100   Raingage2     O1  1.71       45.00  130.77      10.00           0     0.013    0.15      1.27    5.08       90       10.10       0.00      0.00       4.18          4.50       1.38           5.87           0.10        0.08        0.581  compact_urban_development\n",
       "S1000  Raingage2     O1  0.68       10.00   82.46       5.09           0     0.150    0.41      1.27    5.08       10       10.10       0.00      0.00       7.73          0.90       1.36           2.26           0.02        0.01        0.224                     grassy\n",
       "S1001  Raingage2     O1  0.26       83.33   50.99      45.00           0     0.013    0.05      1.27    5.08       80       10.10       0.00      0.00       1.04          8.23       0.65           8.88           0.02        0.02        0.879                 steep_area"
      ]
     },
     "execution_count": 11,
     "metadata": {},
     "output_type": "execute_result"
    }
   ],
   "source": [
    "merged_df.head()"
   ]
  },
  {
   "cell_type": "markdown",
   "id": "0c7ad132-617d-4508-9efa-e311405f847b",
   "metadata": {},
   "source": [
    "### Split data into features and target"
   ]
  },
  {
   "cell_type": "code",
   "execution_count": 12,
   "id": "e931b316-d970-44d2-aa57-d652176e7598",
   "metadata": {
    "tags": []
   },
   "outputs": [
    {
     "name": "stdout",
     "output_type": "stream",
     "text": [
      "(1001, 22) (1001,)\n"
     ]
    }
   ],
   "source": [
    "X = merged_df.drop('categories', axis=1)\n",
    "y = merged_df['categories']\n",
    "print(X.shape, y.shape)"
   ]
  },
  {
   "cell_type": "code",
   "execution_count": 13,
   "id": "94284156-4d30-4382-8bad-3d12f91a7149",
   "metadata": {
    "tags": []
   },
   "outputs": [],
   "source": [
    "X[\"TotalPrecip\"] = pd.to_numeric(X[\"TotalPrecip\"])\n",
    "X[\"TotalRunon\"] = pd.to_numeric(X[\"TotalRunon\"])\n",
    "X[\"TotalEvap\"] = pd.to_numeric(X[\"TotalEvap\"])\n",
    "X[\"TotalInfil\"] = pd.to_numeric(X[\"TotalInfil\"])\n",
    "X[\"PervRunoff\"] = pd.to_numeric(X[\"PervRunoff\"])"
   ]
  },
  {
   "cell_type": "code",
   "execution_count": 14,
   "id": "ab406f3f-e907-4254-b605-b9749a8cc4bc",
   "metadata": {
    "tags": []
   },
   "outputs": [
    {
     "name": "stdout",
     "output_type": "stream",
     "text": [
      "<class 'pandas.core.frame.DataFrame'>\n",
      "Index: 1001 entries, S1 to S999\n",
      "Data columns (total 22 columns):\n",
      " #   Column         Non-Null Count  Dtype  \n",
      "---  ------         --------------  -----  \n",
      " 0   Raingage       1001 non-null   object \n",
      " 1   Outlet         1001 non-null   object \n",
      " 2   Area           1001 non-null   float64\n",
      " 3   PercImperv     1001 non-null   float64\n",
      " 4   Width          1001 non-null   float64\n",
      " 5   PercSlope      1001 non-null   float64\n",
      " 6   CurbLength     1001 non-null   int64  \n",
      " 7   N-Imperv       1001 non-null   float64\n",
      " 8   N-Perv         1001 non-null   float64\n",
      " 9   S-Imperv       1001 non-null   float64\n",
      " 10  S-Perv         1001 non-null   float64\n",
      " 11  PctZero        1001 non-null   int64  \n",
      " 12  TotalPrecip    1001 non-null   float64\n",
      " 13  TotalRunon     1001 non-null   float64\n",
      " 14  TotalEvap      1001 non-null   float64\n",
      " 15  TotalInfil     1001 non-null   float64\n",
      " 16  ImpervRunoff   1001 non-null   float64\n",
      " 17  PervRunoff     1001 non-null   float64\n",
      " 18  TotalRunoffIn  1001 non-null   float64\n",
      " 19  TotalRunoffMG  1001 non-null   float64\n",
      " 20  PeakRunoff     1001 non-null   float64\n",
      " 21  RunoffCoeff    1001 non-null   float64\n",
      "dtypes: float64(18), int64(2), object(2)\n",
      "memory usage: 179.9+ KB\n"
     ]
    }
   ],
   "source": [
    "X.info()"
   ]
  },
  {
   "cell_type": "code",
   "execution_count": 15,
   "id": "3d47f8e0-c4ac-47bf-b610-1ea75d586cc0",
   "metadata": {
    "tags": []
   },
   "outputs": [
    {
     "data": {
      "text/html": [
       "<div>\n",
       "<style scoped>\n",
       "    .dataframe tbody tr th:only-of-type {\n",
       "        vertical-align: middle;\n",
       "    }\n",
       "\n",
       "    .dataframe tbody tr th {\n",
       "        vertical-align: top;\n",
       "    }\n",
       "\n",
       "    .dataframe thead th {\n",
       "        text-align: right;\n",
       "    }\n",
       "</style>\n",
       "<table border=\"1\" class=\"dataframe\">\n",
       "  <thead>\n",
       "    <tr style=\"text-align: right;\">\n",
       "      <th></th>\n",
       "      <th>Area</th>\n",
       "      <th>PercImperv</th>\n",
       "      <th>Width</th>\n",
       "      <th>PercSlope</th>\n",
       "      <th>CurbLength</th>\n",
       "      <th>N-Imperv</th>\n",
       "      <th>N-Perv</th>\n",
       "      <th>S-Imperv</th>\n",
       "      <th>S-Perv</th>\n",
       "      <th>PctZero</th>\n",
       "      <th>TotalPrecip</th>\n",
       "      <th>TotalRunon</th>\n",
       "      <th>TotalEvap</th>\n",
       "      <th>TotalInfil</th>\n",
       "      <th>ImpervRunoff</th>\n",
       "      <th>PervRunoff</th>\n",
       "      <th>TotalRunoffIn</th>\n",
       "      <th>TotalRunoffMG</th>\n",
       "      <th>PeakRunoff</th>\n",
       "      <th>RunoffCoeff</th>\n",
       "    </tr>\n",
       "    <tr>\n",
       "      <th>Name</th>\n",
       "      <th></th>\n",
       "      <th></th>\n",
       "      <th></th>\n",
       "      <th></th>\n",
       "      <th></th>\n",
       "      <th></th>\n",
       "      <th></th>\n",
       "      <th></th>\n",
       "      <th></th>\n",
       "      <th></th>\n",
       "      <th></th>\n",
       "      <th></th>\n",
       "      <th></th>\n",
       "      <th></th>\n",
       "      <th></th>\n",
       "      <th></th>\n",
       "      <th></th>\n",
       "      <th></th>\n",
       "      <th></th>\n",
       "      <th></th>\n",
       "    </tr>\n",
       "  </thead>\n",
       "  <tbody>\n",
       "    <tr>\n",
       "      <th>S1</th>\n",
       "      <td>0.50</td>\n",
       "      <td>20.00</td>\n",
       "      <td>300.00</td>\n",
       "      <td>5.00</td>\n",
       "      <td>0</td>\n",
       "      <td>0.150</td>\n",
       "      <td>0.41</td>\n",
       "      <td>1.27</td>\n",
       "      <td>5.08</td>\n",
       "      <td>70</td>\n",
       "      <td>10.1</td>\n",
       "      <td>0.0</td>\n",
       "      <td>0.0</td>\n",
       "      <td>5.91</td>\n",
       "      <td>1.95</td>\n",
       "      <td>2.17</td>\n",
       "      <td>4.12</td>\n",
       "      <td>0.02</td>\n",
       "      <td>0.02</td>\n",
       "      <td>0.407</td>\n",
       "    </tr>\n",
       "    <tr>\n",
       "      <th>S10</th>\n",
       "      <td>1.87</td>\n",
       "      <td>45.00</td>\n",
       "      <td>136.75</td>\n",
       "      <td>15.00</td>\n",
       "      <td>0</td>\n",
       "      <td>0.013</td>\n",
       "      <td>0.15</td>\n",
       "      <td>1.27</td>\n",
       "      <td>5.08</td>\n",
       "      <td>90</td>\n",
       "      <td>10.1</td>\n",
       "      <td>0.0</td>\n",
       "      <td>0.0</td>\n",
       "      <td>4.13</td>\n",
       "      <td>4.50</td>\n",
       "      <td>1.43</td>\n",
       "      <td>5.93</td>\n",
       "      <td>0.11</td>\n",
       "      <td>0.09</td>\n",
       "      <td>0.587</td>\n",
       "    </tr>\n",
       "    <tr>\n",
       "      <th>S100</th>\n",
       "      <td>1.71</td>\n",
       "      <td>45.00</td>\n",
       "      <td>130.77</td>\n",
       "      <td>10.00</td>\n",
       "      <td>0</td>\n",
       "      <td>0.013</td>\n",
       "      <td>0.15</td>\n",
       "      <td>1.27</td>\n",
       "      <td>5.08</td>\n",
       "      <td>90</td>\n",
       "      <td>10.1</td>\n",
       "      <td>0.0</td>\n",
       "      <td>0.0</td>\n",
       "      <td>4.18</td>\n",
       "      <td>4.50</td>\n",
       "      <td>1.38</td>\n",
       "      <td>5.87</td>\n",
       "      <td>0.10</td>\n",
       "      <td>0.08</td>\n",
       "      <td>0.581</td>\n",
       "    </tr>\n",
       "    <tr>\n",
       "      <th>S1000</th>\n",
       "      <td>0.68</td>\n",
       "      <td>10.00</td>\n",
       "      <td>82.46</td>\n",
       "      <td>5.09</td>\n",
       "      <td>0</td>\n",
       "      <td>0.150</td>\n",
       "      <td>0.41</td>\n",
       "      <td>1.27</td>\n",
       "      <td>5.08</td>\n",
       "      <td>10</td>\n",
       "      <td>10.1</td>\n",
       "      <td>0.0</td>\n",
       "      <td>0.0</td>\n",
       "      <td>7.73</td>\n",
       "      <td>0.90</td>\n",
       "      <td>1.36</td>\n",
       "      <td>2.26</td>\n",
       "      <td>0.02</td>\n",
       "      <td>0.01</td>\n",
       "      <td>0.224</td>\n",
       "    </tr>\n",
       "    <tr>\n",
       "      <th>S1001</th>\n",
       "      <td>0.26</td>\n",
       "      <td>83.33</td>\n",
       "      <td>50.99</td>\n",
       "      <td>45.00</td>\n",
       "      <td>0</td>\n",
       "      <td>0.013</td>\n",
       "      <td>0.05</td>\n",
       "      <td>1.27</td>\n",
       "      <td>5.08</td>\n",
       "      <td>80</td>\n",
       "      <td>10.1</td>\n",
       "      <td>0.0</td>\n",
       "      <td>0.0</td>\n",
       "      <td>1.04</td>\n",
       "      <td>8.23</td>\n",
       "      <td>0.65</td>\n",
       "      <td>8.88</td>\n",
       "      <td>0.02</td>\n",
       "      <td>0.02</td>\n",
       "      <td>0.879</td>\n",
       "    </tr>\n",
       "  </tbody>\n",
       "</table>\n",
       "</div>"
      ],
      "text/plain": [
       "       Area  PercImperv   Width  PercSlope  CurbLength  N-Imperv  N-Perv  S-Imperv  S-Perv  PctZero  TotalPrecip  TotalRunon  TotalEvap  TotalInfil  ImpervRunoff  PervRunoff  TotalRunoffIn  TotalRunoffMG  PeakRunoff  RunoffCoeff\n",
       "Name                                                                                                                                                                                                                                \n",
       "S1     0.50       20.00  300.00       5.00           0     0.150    0.41      1.27    5.08       70         10.1         0.0        0.0        5.91          1.95        2.17           4.12           0.02        0.02        0.407\n",
       "S10    1.87       45.00  136.75      15.00           0     0.013    0.15      1.27    5.08       90         10.1         0.0        0.0        4.13          4.50        1.43           5.93           0.11        0.09        0.587\n",
       "S100   1.71       45.00  130.77      10.00           0     0.013    0.15      1.27    5.08       90         10.1         0.0        0.0        4.18          4.50        1.38           5.87           0.10        0.08        0.581\n",
       "S1000  0.68       10.00   82.46       5.09           0     0.150    0.41      1.27    5.08       10         10.1         0.0        0.0        7.73          0.90        1.36           2.26           0.02        0.01        0.224\n",
       "S1001  0.26       83.33   50.99      45.00           0     0.013    0.05      1.27    5.08       80         10.1         0.0        0.0        1.04          8.23        0.65           8.88           0.02        0.02        0.879"
      ]
     },
     "execution_count": 15,
     "metadata": {},
     "output_type": "execute_result"
    }
   ],
   "source": [
    "X = pd.get_dummies(X, drop_first=True)\n",
    "X.head()"
   ]
  },
  {
   "cell_type": "code",
   "execution_count": 16,
   "id": "032eda89-3cee-4040-9553-2a353e39b1d0",
   "metadata": {
    "tags": []
   },
   "outputs": [],
   "source": [
    "# Create a MinMaxScaler instance\n",
    "scaler = MinMaxScaler()\n",
    "\n",
    "# Fit the scaler to the data and transform the data\n",
    "X_normalized = scaler.fit_transform(X)\n",
    "\n",
    "# Convert the normalized data back to a dataframe with the same column names\n",
    "X_normalized_df = pd.DataFrame(X_normalized, columns=X.columns, index=X.index)"
   ]
  },
  {
   "cell_type": "code",
   "execution_count": 17,
   "id": "f954dab9-1885-479c-b8b3-e30134af3155",
   "metadata": {
    "tags": []
   },
   "outputs": [
    {
     "data": {
      "text/html": [
       "<div>\n",
       "<style scoped>\n",
       "    .dataframe tbody tr th:only-of-type {\n",
       "        vertical-align: middle;\n",
       "    }\n",
       "\n",
       "    .dataframe tbody tr th {\n",
       "        vertical-align: top;\n",
       "    }\n",
       "\n",
       "    .dataframe thead th {\n",
       "        text-align: right;\n",
       "    }\n",
       "</style>\n",
       "<table border=\"1\" class=\"dataframe\">\n",
       "  <thead>\n",
       "    <tr style=\"text-align: right;\">\n",
       "      <th></th>\n",
       "      <th>Area</th>\n",
       "      <th>PercImperv</th>\n",
       "      <th>Width</th>\n",
       "      <th>PercSlope</th>\n",
       "      <th>CurbLength</th>\n",
       "      <th>N-Imperv</th>\n",
       "      <th>N-Perv</th>\n",
       "      <th>S-Imperv</th>\n",
       "      <th>S-Perv</th>\n",
       "      <th>PctZero</th>\n",
       "      <th>TotalPrecip</th>\n",
       "      <th>TotalRunon</th>\n",
       "      <th>TotalEvap</th>\n",
       "      <th>TotalInfil</th>\n",
       "      <th>ImpervRunoff</th>\n",
       "      <th>PervRunoff</th>\n",
       "      <th>TotalRunoffIn</th>\n",
       "      <th>TotalRunoffMG</th>\n",
       "      <th>PeakRunoff</th>\n",
       "      <th>RunoffCoeff</th>\n",
       "    </tr>\n",
       "    <tr>\n",
       "      <th>Name</th>\n",
       "      <th></th>\n",
       "      <th></th>\n",
       "      <th></th>\n",
       "      <th></th>\n",
       "      <th></th>\n",
       "      <th></th>\n",
       "      <th></th>\n",
       "      <th></th>\n",
       "      <th></th>\n",
       "      <th></th>\n",
       "      <th></th>\n",
       "      <th></th>\n",
       "      <th></th>\n",
       "      <th></th>\n",
       "      <th></th>\n",
       "      <th></th>\n",
       "      <th></th>\n",
       "      <th></th>\n",
       "      <th></th>\n",
       "      <th></th>\n",
       "    </tr>\n",
       "  </thead>\n",
       "  <tbody>\n",
       "    <tr>\n",
       "      <th>S1</th>\n",
       "      <td>0.246231</td>\n",
       "      <td>0.218148</td>\n",
       "      <td>1.000000</td>\n",
       "      <td>0.044995</td>\n",
       "      <td>0.0</td>\n",
       "      <td>0.354005</td>\n",
       "      <td>0.480000</td>\n",
       "      <td>0.0</td>\n",
       "      <td>0.0</td>\n",
       "      <td>0.764706</td>\n",
       "      <td>0.0</td>\n",
       "      <td>0.0</td>\n",
       "      <td>0.0</td>\n",
       "      <td>0.608479</td>\n",
       "      <td>0.216687</td>\n",
       "      <td>0.683871</td>\n",
       "      <td>0.392630</td>\n",
       "      <td>0.111111</td>\n",
       "      <td>0.142857</td>\n",
       "      <td>0.391528</td>\n",
       "    </tr>\n",
       "    <tr>\n",
       "      <th>S10</th>\n",
       "      <td>0.934673</td>\n",
       "      <td>0.526790</td>\n",
       "      <td>0.437069</td>\n",
       "      <td>0.213515</td>\n",
       "      <td>0.0</td>\n",
       "      <td>0.000000</td>\n",
       "      <td>0.133333</td>\n",
       "      <td>0.0</td>\n",
       "      <td>0.0</td>\n",
       "      <td>1.000000</td>\n",
       "      <td>0.0</td>\n",
       "      <td>0.0</td>\n",
       "      <td>0.0</td>\n",
       "      <td>0.386534</td>\n",
       "      <td>0.534247</td>\n",
       "      <td>0.445161</td>\n",
       "      <td>0.622618</td>\n",
       "      <td>0.611111</td>\n",
       "      <td>0.642857</td>\n",
       "      <td>0.622593</td>\n",
       "    </tr>\n",
       "    <tr>\n",
       "      <th>S100</th>\n",
       "      <td>0.854271</td>\n",
       "      <td>0.526790</td>\n",
       "      <td>0.416448</td>\n",
       "      <td>0.129255</td>\n",
       "      <td>0.0</td>\n",
       "      <td>0.000000</td>\n",
       "      <td>0.133333</td>\n",
       "      <td>0.0</td>\n",
       "      <td>0.0</td>\n",
       "      <td>1.000000</td>\n",
       "      <td>0.0</td>\n",
       "      <td>0.0</td>\n",
       "      <td>0.0</td>\n",
       "      <td>0.392768</td>\n",
       "      <td>0.534247</td>\n",
       "      <td>0.429032</td>\n",
       "      <td>0.614994</td>\n",
       "      <td>0.555556</td>\n",
       "      <td>0.571429</td>\n",
       "      <td>0.614891</td>\n",
       "    </tr>\n",
       "    <tr>\n",
       "      <th>S1000</th>\n",
       "      <td>0.336683</td>\n",
       "      <td>0.094691</td>\n",
       "      <td>0.249862</td>\n",
       "      <td>0.046512</td>\n",
       "      <td>0.0</td>\n",
       "      <td>0.354005</td>\n",
       "      <td>0.480000</td>\n",
       "      <td>0.0</td>\n",
       "      <td>0.0</td>\n",
       "      <td>0.058824</td>\n",
       "      <td>0.0</td>\n",
       "      <td>0.0</td>\n",
       "      <td>0.0</td>\n",
       "      <td>0.835411</td>\n",
       "      <td>0.085928</td>\n",
       "      <td>0.422581</td>\n",
       "      <td>0.156290</td>\n",
       "      <td>0.111111</td>\n",
       "      <td>0.071429</td>\n",
       "      <td>0.156611</td>\n",
       "    </tr>\n",
       "    <tr>\n",
       "      <th>S1001</th>\n",
       "      <td>0.125628</td>\n",
       "      <td>1.000000</td>\n",
       "      <td>0.141345</td>\n",
       "      <td>0.719077</td>\n",
       "      <td>0.0</td>\n",
       "      <td>0.000000</td>\n",
       "      <td>0.000000</td>\n",
       "      <td>0.0</td>\n",
       "      <td>0.0</td>\n",
       "      <td>0.882353</td>\n",
       "      <td>0.0</td>\n",
       "      <td>0.0</td>\n",
       "      <td>0.0</td>\n",
       "      <td>0.001247</td>\n",
       "      <td>0.998755</td>\n",
       "      <td>0.193548</td>\n",
       "      <td>0.997459</td>\n",
       "      <td>0.111111</td>\n",
       "      <td>0.142857</td>\n",
       "      <td>0.997433</td>\n",
       "    </tr>\n",
       "  </tbody>\n",
       "</table>\n",
       "</div>"
      ],
      "text/plain": [
       "           Area  PercImperv     Width  PercSlope  CurbLength  N-Imperv    N-Perv  S-Imperv  S-Perv   PctZero  TotalPrecip  TotalRunon  TotalEvap  TotalInfil  ImpervRunoff  PervRunoff  TotalRunoffIn  TotalRunoffMG  PeakRunoff  RunoffCoeff\n",
       "Name                                                                                                                                                                                                                                         \n",
       "S1     0.246231    0.218148  1.000000   0.044995         0.0  0.354005  0.480000       0.0     0.0  0.764706          0.0         0.0        0.0    0.608479      0.216687    0.683871       0.392630       0.111111    0.142857     0.391528\n",
       "S10    0.934673    0.526790  0.437069   0.213515         0.0  0.000000  0.133333       0.0     0.0  1.000000          0.0         0.0        0.0    0.386534      0.534247    0.445161       0.622618       0.611111    0.642857     0.622593\n",
       "S100   0.854271    0.526790  0.416448   0.129255         0.0  0.000000  0.133333       0.0     0.0  1.000000          0.0         0.0        0.0    0.392768      0.534247    0.429032       0.614994       0.555556    0.571429     0.614891\n",
       "S1000  0.336683    0.094691  0.249862   0.046512         0.0  0.354005  0.480000       0.0     0.0  0.058824          0.0         0.0        0.0    0.835411      0.085928    0.422581       0.156290       0.111111    0.071429     0.156611\n",
       "S1001  0.125628    1.000000  0.141345   0.719077         0.0  0.000000  0.000000       0.0     0.0  0.882353          0.0         0.0        0.0    0.001247      0.998755    0.193548       0.997459       0.111111    0.142857     0.997433"
      ]
     },
     "execution_count": 17,
     "metadata": {},
     "output_type": "execute_result"
    }
   ],
   "source": [
    "X_normalized_df.head()"
   ]
  },
  {
   "cell_type": "markdown",
   "id": "7f2bb5ba-028c-4573-94b8-274757b38972",
   "metadata": {
    "tags": []
   },
   "source": [
    "### Encode target labels"
   ]
  },
  {
   "cell_type": "code",
   "execution_count": 18,
   "id": "fc1e736c-620b-4350-8018-0b7f75b6b446",
   "metadata": {
    "tags": []
   },
   "outputs": [],
   "source": [
    "encoder = OneHotEncoder(sparse_output=False)\n",
    "y_encoded = encoder.fit_transform(y.values.reshape(-1, 1))"
   ]
  },
  {
   "cell_type": "code",
   "execution_count": 19,
   "id": "e187f9f0-f47d-41ec-8ce4-ac0c8f24ad8f",
   "metadata": {
    "tags": []
   },
   "outputs": [
    {
     "data": {
      "text/plain": [
       "array([[1., 0., 0., ..., 0., 0., 0.],\n",
       "       [0., 1., 0., ..., 0., 0., 0.],\n",
       "       [0., 1., 0., ..., 0., 0., 0.],\n",
       "       ...,\n",
       "       [0., 0., 1., ..., 0., 0., 0.],\n",
       "       [0., 0., 0., ..., 1., 0., 0.],\n",
       "       [0., 0., 0., ..., 0., 1., 0.]])"
      ]
     },
     "execution_count": 19,
     "metadata": {},
     "output_type": "execute_result"
    }
   ],
   "source": [
    "y_encoded"
   ]
  },
  {
   "cell_type": "markdown",
   "id": "20b3a31a-4860-45b6-b643-ebbb28271ccd",
   "metadata": {},
   "source": [
    "# Split the data into training and testing sets"
   ]
  },
  {
   "cell_type": "code",
   "execution_count": 20,
   "id": "1476f9c6-f2bf-42f8-91f4-484b1f85b0ce",
   "metadata": {
    "tags": []
   },
   "outputs": [
    {
     "name": "stdout",
     "output_type": "stream",
     "text": [
      "X_train shape: (800, 20)\n",
      "y_train shape: (800, 8)\n",
      "X_test shape: (201, 20)\n",
      "y_test shape: (201, 8)\n"
     ]
    }
   ],
   "source": [
    "X_train, X_test, y_train, y_test = train_test_split(X_normalized_df, y_encoded, test_size=0.2, random_state=42)\n",
    "\n",
    "print(\"X_train shape:\", X_train.shape)\n",
    "print(\"y_train shape:\", y_train.shape)\n",
    "print(\"X_test shape:\", X_test.shape)\n",
    "print(\"y_test shape:\", y_test.shape)"
   ]
  },
  {
   "cell_type": "markdown",
   "id": "43dae304-a279-430d-baa1-ebe5d19f1c98",
   "metadata": {},
   "source": [
    "# Build the model"
   ]
  },
  {
   "cell_type": "code",
   "execution_count": 21,
   "id": "99b2e114-ff60-4200-ae35-f80089181eb9",
   "metadata": {
    "tags": []
   },
   "outputs": [
    {
     "name": "stdout",
     "output_type": "stream",
     "text": [
      "Model: \"sequential\"\n",
      "_________________________________________________________________\n",
      " Layer (type)                Output Shape              Param #   \n",
      "=================================================================\n",
      " dense (Dense)               (None, 16)                336       \n",
      "                                                                 \n",
      " dropout (Dropout)           (None, 16)                0         \n",
      "                                                                 \n",
      " dense_1 (Dense)             (None, 8)                 136       \n",
      "                                                                 \n",
      " dropout_1 (Dropout)         (None, 8)                 0         \n",
      "                                                                 \n",
      " dense_2 (Dense)             (None, 8)                 72        \n",
      "                                                                 \n",
      "=================================================================\n",
      "Total params: 544\n",
      "Trainable params: 544\n",
      "Non-trainable params: 0\n",
      "_________________________________________________________________\n"
     ]
    }
   ],
   "source": [
    "model = Sequential()\n",
    "model.add(Dense(16, activation='relu', input_dim=X_train.shape[1]))\n",
    "model.add(Dropout(0.2))\n",
    "model.add(Dense(8, activation='relu'))\n",
    "model.add(Dropout(0.2))\n",
    "model.add(Dense(units=y_train.shape[1], activation='softmax'))\n",
    "model.summary()"
   ]
  },
  {
   "cell_type": "code",
   "execution_count": 22,
   "id": "61ddff67-e74f-4454-a253-40577f7a2722",
   "metadata": {
    "tags": []
   },
   "outputs": [
    {
     "name": "stdout",
     "output_type": "stream",
     "text": [
      "Epoch 1/100\n",
      "50/50 [==============================] - 1s 8ms/step - loss: 2.1168 - accuracy: 0.0938 - val_loss: 1.9967 - val_accuracy: 0.2687\n",
      "Epoch 2/100\n",
      "50/50 [==============================] - 0s 3ms/step - loss: 1.9304 - accuracy: 0.3750 - val_loss: 1.8327 - val_accuracy: 0.6169\n",
      "Epoch 3/100\n",
      "50/50 [==============================] - 0s 3ms/step - loss: 1.7473 - accuracy: 0.5200 - val_loss: 1.6471 - val_accuracy: 0.7363\n",
      "Epoch 4/100\n",
      "50/50 [==============================] - 0s 3ms/step - loss: 1.5738 - accuracy: 0.5775 - val_loss: 1.4415 - val_accuracy: 0.7861\n",
      "Epoch 5/100\n",
      "50/50 [==============================] - 0s 3ms/step - loss: 1.3564 - accuracy: 0.6288 - val_loss: 1.2451 - val_accuracy: 0.7861\n",
      "Epoch 6/100\n",
      "50/50 [==============================] - 0s 2ms/step - loss: 1.1809 - accuracy: 0.6675 - val_loss: 1.0752 - val_accuracy: 0.7811\n",
      "Epoch 7/100\n",
      "50/50 [==============================] - 0s 3ms/step - loss: 1.1104 - accuracy: 0.6550 - val_loss: 0.9644 - val_accuracy: 0.8358\n",
      "Epoch 8/100\n",
      "50/50 [==============================] - 0s 3ms/step - loss: 1.0158 - accuracy: 0.6500 - val_loss: 0.8750 - val_accuracy: 0.8159\n",
      "Epoch 9/100\n",
      "50/50 [==============================] - 0s 3ms/step - loss: 0.9718 - accuracy: 0.6875 - val_loss: 0.8118 - val_accuracy: 0.8756\n",
      "Epoch 10/100\n",
      "50/50 [==============================] - 0s 3ms/step - loss: 0.9322 - accuracy: 0.7075 - val_loss: 0.7624 - val_accuracy: 0.8806\n",
      "Epoch 11/100\n",
      "50/50 [==============================] - 0s 2ms/step - loss: 0.8091 - accuracy: 0.7500 - val_loss: 0.6973 - val_accuracy: 0.8607\n",
      "Epoch 12/100\n",
      "50/50 [==============================] - 0s 3ms/step - loss: 0.8455 - accuracy: 0.7075 - val_loss: 0.6730 - val_accuracy: 0.8557\n",
      "Epoch 13/100\n",
      "50/50 [==============================] - 0s 3ms/step - loss: 0.7710 - accuracy: 0.7487 - val_loss: 0.6227 - val_accuracy: 0.8557\n",
      "Epoch 14/100\n",
      "50/50 [==============================] - 0s 4ms/step - loss: 0.7463 - accuracy: 0.7325 - val_loss: 0.5963 - val_accuracy: 0.8557\n",
      "Epoch 15/100\n",
      "50/50 [==============================] - 0s 3ms/step - loss: 0.7368 - accuracy: 0.7375 - val_loss: 0.5627 - val_accuracy: 0.8557\n",
      "Epoch 16/100\n",
      "50/50 [==============================] - 0s 3ms/step - loss: 0.6608 - accuracy: 0.7763 - val_loss: 0.5321 - val_accuracy: 0.8706\n",
      "Epoch 17/100\n",
      "50/50 [==============================] - 0s 3ms/step - loss: 0.6807 - accuracy: 0.7763 - val_loss: 0.5067 - val_accuracy: 0.8458\n",
      "Epoch 18/100\n",
      "50/50 [==============================] - 0s 2ms/step - loss: 0.6263 - accuracy: 0.7700 - val_loss: 0.4803 - val_accuracy: 0.8557\n",
      "Epoch 19/100\n",
      "50/50 [==============================] - 0s 3ms/step - loss: 0.6404 - accuracy: 0.7713 - val_loss: 0.4651 - val_accuracy: 0.8657\n",
      "Epoch 20/100\n",
      "50/50 [==============================] - 0s 3ms/step - loss: 0.6099 - accuracy: 0.7962 - val_loss: 0.4355 - val_accuracy: 0.8657\n",
      "Epoch 21/100\n",
      "50/50 [==============================] - 0s 3ms/step - loss: 0.6075 - accuracy: 0.7850 - val_loss: 0.4102 - val_accuracy: 0.8706\n",
      "Epoch 22/100\n",
      "50/50 [==============================] - 0s 4ms/step - loss: 0.5380 - accuracy: 0.8163 - val_loss: 0.3833 - val_accuracy: 0.8657\n",
      "Epoch 23/100\n",
      "50/50 [==============================] - 0s 2ms/step - loss: 0.5283 - accuracy: 0.8363 - val_loss: 0.3644 - val_accuracy: 0.8706\n",
      "Epoch 24/100\n",
      "50/50 [==============================] - 0s 2ms/step - loss: 0.5667 - accuracy: 0.8087 - val_loss: 0.3461 - val_accuracy: 0.9652\n",
      "Epoch 25/100\n",
      "50/50 [==============================] - 0s 3ms/step - loss: 0.5163 - accuracy: 0.8475 - val_loss: 0.3351 - val_accuracy: 0.9303\n",
      "Epoch 26/100\n",
      "50/50 [==============================] - 0s 3ms/step - loss: 0.4873 - accuracy: 0.8400 - val_loss: 0.3143 - val_accuracy: 1.0000\n",
      "Epoch 27/100\n",
      "50/50 [==============================] - 0s 3ms/step - loss: 0.4866 - accuracy: 0.8462 - val_loss: 0.3012 - val_accuracy: 0.9950\n",
      "Epoch 28/100\n",
      "50/50 [==============================] - 0s 3ms/step - loss: 0.4676 - accuracy: 0.8375 - val_loss: 0.2856 - val_accuracy: 0.9751\n",
      "Epoch 29/100\n",
      "50/50 [==============================] - 0s 3ms/step - loss: 0.4602 - accuracy: 0.8438 - val_loss: 0.2673 - val_accuracy: 0.9900\n",
      "Epoch 30/100\n",
      "50/50 [==============================] - 0s 2ms/step - loss: 0.4622 - accuracy: 0.8413 - val_loss: 0.2577 - val_accuracy: 0.9801\n",
      "Epoch 31/100\n",
      "50/50 [==============================] - 0s 3ms/step - loss: 0.4473 - accuracy: 0.8600 - val_loss: 0.2494 - val_accuracy: 1.0000\n",
      "Epoch 32/100\n",
      "50/50 [==============================] - 0s 2ms/step - loss: 0.4351 - accuracy: 0.8612 - val_loss: 0.2339 - val_accuracy: 1.0000\n",
      "Epoch 33/100\n",
      "50/50 [==============================] - 0s 2ms/step - loss: 0.4258 - accuracy: 0.8587 - val_loss: 0.2242 - val_accuracy: 1.0000\n",
      "Epoch 34/100\n",
      "50/50 [==============================] - 0s 3ms/step - loss: 0.3868 - accuracy: 0.8650 - val_loss: 0.2120 - val_accuracy: 1.0000\n",
      "Epoch 35/100\n",
      "50/50 [==============================] - 0s 3ms/step - loss: 0.3961 - accuracy: 0.8700 - val_loss: 0.2005 - val_accuracy: 1.0000\n",
      "Epoch 36/100\n",
      "50/50 [==============================] - 0s 2ms/step - loss: 0.4014 - accuracy: 0.8687 - val_loss: 0.1982 - val_accuracy: 1.0000\n",
      "Epoch 37/100\n",
      "50/50 [==============================] - 0s 3ms/step - loss: 0.3617 - accuracy: 0.8863 - val_loss: 0.1873 - val_accuracy: 1.0000\n",
      "Epoch 38/100\n",
      "50/50 [==============================] - 0s 3ms/step - loss: 0.3830 - accuracy: 0.8612 - val_loss: 0.1758 - val_accuracy: 1.0000\n",
      "Epoch 39/100\n",
      "50/50 [==============================] - 0s 3ms/step - loss: 0.3566 - accuracy: 0.8750 - val_loss: 0.1727 - val_accuracy: 1.0000\n",
      "Epoch 40/100\n",
      "50/50 [==============================] - 0s 3ms/step - loss: 0.3371 - accuracy: 0.8950 - val_loss: 0.1612 - val_accuracy: 1.0000\n",
      "Epoch 41/100\n",
      "50/50 [==============================] - 0s 3ms/step - loss: 0.3735 - accuracy: 0.8612 - val_loss: 0.1540 - val_accuracy: 1.0000\n",
      "Epoch 42/100\n",
      "50/50 [==============================] - 0s 2ms/step - loss: 0.3523 - accuracy: 0.8737 - val_loss: 0.1514 - val_accuracy: 1.0000\n",
      "Epoch 43/100\n",
      "50/50 [==============================] - 0s 2ms/step - loss: 0.3520 - accuracy: 0.8725 - val_loss: 0.1451 - val_accuracy: 1.0000\n",
      "Epoch 44/100\n",
      "50/50 [==============================] - 0s 2ms/step - loss: 0.3448 - accuracy: 0.8687 - val_loss: 0.1393 - val_accuracy: 1.0000\n",
      "Epoch 45/100\n",
      "50/50 [==============================] - 0s 3ms/step - loss: 0.3177 - accuracy: 0.8963 - val_loss: 0.1269 - val_accuracy: 1.0000\n",
      "Epoch 46/100\n",
      "50/50 [==============================] - 0s 2ms/step - loss: 0.3192 - accuracy: 0.8850 - val_loss: 0.1193 - val_accuracy: 1.0000\n",
      "Epoch 47/100\n",
      "50/50 [==============================] - 0s 2ms/step - loss: 0.3587 - accuracy: 0.8813 - val_loss: 0.1213 - val_accuracy: 1.0000\n",
      "Epoch 48/100\n",
      "50/50 [==============================] - 0s 2ms/step - loss: 0.3197 - accuracy: 0.8850 - val_loss: 0.1189 - val_accuracy: 1.0000\n",
      "Epoch 49/100\n",
      "50/50 [==============================] - 0s 2ms/step - loss: 0.3144 - accuracy: 0.8913 - val_loss: 0.1113 - val_accuracy: 1.0000\n",
      "Epoch 50/100\n",
      "50/50 [==============================] - 0s 3ms/step - loss: 0.2964 - accuracy: 0.9025 - val_loss: 0.1038 - val_accuracy: 1.0000\n",
      "Epoch 51/100\n",
      "50/50 [==============================] - 0s 2ms/step - loss: 0.3030 - accuracy: 0.8838 - val_loss: 0.1021 - val_accuracy: 1.0000\n",
      "Epoch 52/100\n",
      "50/50 [==============================] - 0s 2ms/step - loss: 0.2770 - accuracy: 0.9025 - val_loss: 0.0951 - val_accuracy: 1.0000\n",
      "Epoch 53/100\n",
      "50/50 [==============================] - 0s 3ms/step - loss: 0.3143 - accuracy: 0.8875 - val_loss: 0.0904 - val_accuracy: 1.0000\n",
      "Epoch 54/100\n",
      "50/50 [==============================] - 0s 3ms/step - loss: 0.3104 - accuracy: 0.8975 - val_loss: 0.0921 - val_accuracy: 1.0000\n",
      "Epoch 55/100\n",
      "50/50 [==============================] - 0s 3ms/step - loss: 0.2709 - accuracy: 0.9125 - val_loss: 0.0855 - val_accuracy: 1.0000\n",
      "Epoch 56/100\n",
      "50/50 [==============================] - 0s 2ms/step - loss: 0.2854 - accuracy: 0.9125 - val_loss: 0.0818 - val_accuracy: 1.0000\n",
      "Epoch 57/100\n",
      "50/50 [==============================] - 0s 2ms/step - loss: 0.2878 - accuracy: 0.8950 - val_loss: 0.0797 - val_accuracy: 1.0000\n",
      "Epoch 58/100\n",
      "50/50 [==============================] - 0s 3ms/step - loss: 0.2963 - accuracy: 0.9062 - val_loss: 0.0791 - val_accuracy: 1.0000\n",
      "Epoch 59/100\n",
      "50/50 [==============================] - 0s 2ms/step - loss: 0.2392 - accuracy: 0.9250 - val_loss: 0.0713 - val_accuracy: 1.0000\n",
      "Epoch 60/100\n",
      "50/50 [==============================] - 0s 2ms/step - loss: 0.2706 - accuracy: 0.9050 - val_loss: 0.0718 - val_accuracy: 1.0000\n",
      "Epoch 61/100\n",
      "50/50 [==============================] - 0s 2ms/step - loss: 0.2651 - accuracy: 0.8963 - val_loss: 0.0664 - val_accuracy: 1.0000\n",
      "Epoch 62/100\n",
      "50/50 [==============================] - 0s 2ms/step - loss: 0.2551 - accuracy: 0.9175 - val_loss: 0.0634 - val_accuracy: 1.0000\n",
      "Epoch 63/100\n",
      "50/50 [==============================] - 0s 2ms/step - loss: 0.2603 - accuracy: 0.9125 - val_loss: 0.0665 - val_accuracy: 1.0000\n",
      "Epoch 64/100\n",
      "50/50 [==============================] - 0s 3ms/step - loss: 0.2813 - accuracy: 0.8938 - val_loss: 0.0646 - val_accuracy: 1.0000\n",
      "Epoch 65/100\n",
      "50/50 [==============================] - 0s 2ms/step - loss: 0.2431 - accuracy: 0.9075 - val_loss: 0.0614 - val_accuracy: 1.0000\n",
      "Epoch 66/100\n",
      "50/50 [==============================] - 0s 2ms/step - loss: 0.2636 - accuracy: 0.8963 - val_loss: 0.0638 - val_accuracy: 1.0000\n",
      "Epoch 67/100\n",
      "50/50 [==============================] - 0s 3ms/step - loss: 0.2445 - accuracy: 0.9187 - val_loss: 0.0580 - val_accuracy: 1.0000\n",
      "Epoch 68/100\n",
      "50/50 [==============================] - 0s 3ms/step - loss: 0.2542 - accuracy: 0.9100 - val_loss: 0.0563 - val_accuracy: 1.0000\n",
      "Epoch 69/100\n",
      "50/50 [==============================] - 0s 2ms/step - loss: 0.2539 - accuracy: 0.9112 - val_loss: 0.0536 - val_accuracy: 1.0000\n",
      "Epoch 70/100\n",
      "50/50 [==============================] - 0s 3ms/step - loss: 0.2579 - accuracy: 0.9150 - val_loss: 0.0535 - val_accuracy: 1.0000\n",
      "Epoch 71/100\n",
      "50/50 [==============================] - 0s 2ms/step - loss: 0.2185 - accuracy: 0.9325 - val_loss: 0.0506 - val_accuracy: 1.0000\n",
      "Epoch 72/100\n",
      "50/50 [==============================] - 0s 3ms/step - loss: 0.2254 - accuracy: 0.9375 - val_loss: 0.0483 - val_accuracy: 1.0000\n",
      "Epoch 73/100\n",
      "50/50 [==============================] - 0s 2ms/step - loss: 0.2394 - accuracy: 0.9200 - val_loss: 0.0475 - val_accuracy: 1.0000\n",
      "Epoch 74/100\n",
      "50/50 [==============================] - 0s 3ms/step - loss: 0.2384 - accuracy: 0.9125 - val_loss: 0.0498 - val_accuracy: 1.0000\n",
      "Epoch 75/100\n",
      "50/50 [==============================] - 0s 2ms/step - loss: 0.2298 - accuracy: 0.9262 - val_loss: 0.0434 - val_accuracy: 1.0000\n",
      "Epoch 76/100\n",
      "50/50 [==============================] - 0s 3ms/step - loss: 0.2249 - accuracy: 0.9200 - val_loss: 0.0443 - val_accuracy: 1.0000\n",
      "Epoch 77/100\n",
      "50/50 [==============================] - 0s 2ms/step - loss: 0.2327 - accuracy: 0.9212 - val_loss: 0.0444 - val_accuracy: 1.0000\n",
      "Epoch 78/100\n",
      "50/50 [==============================] - 0s 3ms/step - loss: 0.2270 - accuracy: 0.9262 - val_loss: 0.0419 - val_accuracy: 1.0000\n",
      "Epoch 79/100\n",
      "50/50 [==============================] - 0s 3ms/step - loss: 0.2188 - accuracy: 0.9212 - val_loss: 0.0413 - val_accuracy: 1.0000\n",
      "Epoch 80/100\n",
      "50/50 [==============================] - 0s 2ms/step - loss: 0.1958 - accuracy: 0.9287 - val_loss: 0.0418 - val_accuracy: 1.0000\n",
      "Epoch 81/100\n",
      "50/50 [==============================] - 0s 3ms/step - loss: 0.2230 - accuracy: 0.9125 - val_loss: 0.0417 - val_accuracy: 1.0000\n",
      "Epoch 82/100\n",
      "50/50 [==============================] - 0s 2ms/step - loss: 0.2274 - accuracy: 0.9200 - val_loss: 0.0385 - val_accuracy: 1.0000\n",
      "Epoch 83/100\n",
      "50/50 [==============================] - 0s 2ms/step - loss: 0.2375 - accuracy: 0.9250 - val_loss: 0.0375 - val_accuracy: 1.0000\n",
      "Epoch 84/100\n",
      "50/50 [==============================] - 0s 2ms/step - loss: 0.2149 - accuracy: 0.9200 - val_loss: 0.0360 - val_accuracy: 1.0000\n",
      "Epoch 85/100\n",
      "50/50 [==============================] - 0s 2ms/step - loss: 0.1970 - accuracy: 0.9350 - val_loss: 0.0350 - val_accuracy: 1.0000\n",
      "Epoch 86/100\n",
      "50/50 [==============================] - 0s 2ms/step - loss: 0.1797 - accuracy: 0.9450 - val_loss: 0.0326 - val_accuracy: 1.0000\n",
      "Epoch 87/100\n",
      "50/50 [==============================] - 0s 3ms/step - loss: 0.1889 - accuracy: 0.9438 - val_loss: 0.0316 - val_accuracy: 1.0000\n",
      "Epoch 88/100\n",
      "50/50 [==============================] - 0s 2ms/step - loss: 0.2149 - accuracy: 0.9212 - val_loss: 0.0350 - val_accuracy: 1.0000\n",
      "Epoch 89/100\n",
      "50/50 [==============================] - 0s 3ms/step - loss: 0.1947 - accuracy: 0.9275 - val_loss: 0.0316 - val_accuracy: 1.0000\n",
      "Epoch 90/100\n",
      "50/50 [==============================] - 0s 2ms/step - loss: 0.1911 - accuracy: 0.9350 - val_loss: 0.0320 - val_accuracy: 1.0000\n",
      "Epoch 91/100\n",
      "50/50 [==============================] - 0s 2ms/step - loss: 0.1938 - accuracy: 0.9287 - val_loss: 0.0316 - val_accuracy: 1.0000\n",
      "Epoch 92/100\n",
      "50/50 [==============================] - 0s 3ms/step - loss: 0.1731 - accuracy: 0.9413 - val_loss: 0.0276 - val_accuracy: 1.0000\n",
      "Epoch 93/100\n",
      "50/50 [==============================] - 0s 3ms/step - loss: 0.2147 - accuracy: 0.9287 - val_loss: 0.0317 - val_accuracy: 1.0000\n",
      "Epoch 94/100\n",
      "50/50 [==============================] - 0s 3ms/step - loss: 0.2009 - accuracy: 0.9275 - val_loss: 0.0284 - val_accuracy: 1.0000\n",
      "Epoch 95/100\n",
      "50/50 [==============================] - 0s 2ms/step - loss: 0.1882 - accuracy: 0.9300 - val_loss: 0.0285 - val_accuracy: 1.0000\n",
      "Epoch 96/100\n",
      "50/50 [==============================] - 0s 4ms/step - loss: 0.1722 - accuracy: 0.9463 - val_loss: 0.0266 - val_accuracy: 1.0000\n",
      "Epoch 97/100\n",
      "50/50 [==============================] - 0s 3ms/step - loss: 0.1566 - accuracy: 0.9513 - val_loss: 0.0260 - val_accuracy: 1.0000\n",
      "Epoch 98/100\n",
      "50/50 [==============================] - 0s 3ms/step - loss: 0.1900 - accuracy: 0.9337 - val_loss: 0.0246 - val_accuracy: 1.0000\n",
      "Epoch 99/100\n",
      "50/50 [==============================] - 0s 3ms/step - loss: 0.1889 - accuracy: 0.9362 - val_loss: 0.0242 - val_accuracy: 1.0000\n",
      "Epoch 100/100\n",
      "50/50 [==============================] - 0s 3ms/step - loss: 0.1955 - accuracy: 0.9375 - val_loss: 0.0253 - val_accuracy: 1.0000\n"
     ]
    }
   ],
   "source": [
    "model.compile(\n",
    "    optimizer='adam',\n",
    "    loss='categorical_crossentropy',\n",
    "    metrics=['accuracy']\n",
    ")\n",
    "history = model.fit(\n",
    "    x=X_train,\n",
    "    y=y_train,\n",
    "    epochs=100,\n",
    "    validation_data=(X_test, y_test),\n",
    "    validation_split=0.2,\n",
    "    verbose=1,\n",
    "    batch_size=16,\n",
    "    callbacks=[EarlyStopping(monitor='val_loss', patience=10)]\n",
    ")"
   ]
  },
  {
   "cell_type": "code",
   "execution_count": 23,
   "id": "5f0e2731-5e33-42c8-9f6b-139e25fde8aa",
   "metadata": {
    "tags": []
   },
   "outputs": [
    {
     "name": "stdout",
     "output_type": "stream",
     "text": [
      "7/7 [==============================] - 0s 2ms/step - loss: 0.0253 - accuracy: 1.0000\n",
      "Test set accuracy: 1.00\n"
     ]
    }
   ],
   "source": [
    "# Evaluate ANN model\n",
    "loss, accuracy = model.evaluate(X_test, y_test)\n",
    "print(f\"Test set accuracy: {accuracy:.2f}\")"
   ]
  },
  {
   "cell_type": "code",
   "execution_count": 24,
   "id": "5ca7057a-6890-4505-852c-6c1226a798f6",
   "metadata": {},
   "outputs": [
    {
     "name": "stdout",
     "output_type": "stream",
     "text": [
      "7/7 [==============================] - 0s 1ms/step\n"
     ]
    }
   ],
   "source": [
    "# model.predict(X_test)\n",
    "y_pred = model.predict(X_test)"
   ]
  },
  {
   "cell_type": "code",
   "execution_count": 25,
   "id": "5a615160",
   "metadata": {},
   "outputs": [
    {
     "data": {
      "text/html": [
       "<div>\n",
       "<style scoped>\n",
       "    .dataframe tbody tr th:only-of-type {\n",
       "        vertical-align: middle;\n",
       "    }\n",
       "\n",
       "    .dataframe tbody tr th {\n",
       "        vertical-align: top;\n",
       "    }\n",
       "\n",
       "    .dataframe thead th {\n",
       "        text-align: right;\n",
       "    }\n",
       "</style>\n",
       "<table border=\"1\" class=\"dataframe\">\n",
       "  <thead>\n",
       "    <tr style=\"text-align: right;\">\n",
       "      <th></th>\n",
       "      <th>loss</th>\n",
       "      <th>accuracy</th>\n",
       "      <th>val_loss</th>\n",
       "      <th>val_accuracy</th>\n",
       "      <th>epoch</th>\n",
       "    </tr>\n",
       "  </thead>\n",
       "  <tbody>\n",
       "    <tr>\n",
       "      <th>0</th>\n",
       "      <td>2.116811</td>\n",
       "      <td>0.09375</td>\n",
       "      <td>1.996739</td>\n",
       "      <td>0.268657</td>\n",
       "      <td>0</td>\n",
       "    </tr>\n",
       "    <tr>\n",
       "      <th>1</th>\n",
       "      <td>1.930363</td>\n",
       "      <td>0.37500</td>\n",
       "      <td>1.832740</td>\n",
       "      <td>0.616915</td>\n",
       "      <td>1</td>\n",
       "    </tr>\n",
       "    <tr>\n",
       "      <th>2</th>\n",
       "      <td>1.747340</td>\n",
       "      <td>0.52000</td>\n",
       "      <td>1.647108</td>\n",
       "      <td>0.736318</td>\n",
       "      <td>2</td>\n",
       "    </tr>\n",
       "    <tr>\n",
       "      <th>3</th>\n",
       "      <td>1.573808</td>\n",
       "      <td>0.57750</td>\n",
       "      <td>1.441517</td>\n",
       "      <td>0.786070</td>\n",
       "      <td>3</td>\n",
       "    </tr>\n",
       "    <tr>\n",
       "      <th>4</th>\n",
       "      <td>1.356449</td>\n",
       "      <td>0.62875</td>\n",
       "      <td>1.245062</td>\n",
       "      <td>0.786070</td>\n",
       "      <td>4</td>\n",
       "    </tr>\n",
       "    <tr>\n",
       "      <th>...</th>\n",
       "      <td>...</td>\n",
       "      <td>...</td>\n",
       "      <td>...</td>\n",
       "      <td>...</td>\n",
       "      <td>...</td>\n",
       "    </tr>\n",
       "    <tr>\n",
       "      <th>95</th>\n",
       "      <td>0.172196</td>\n",
       "      <td>0.94625</td>\n",
       "      <td>0.026607</td>\n",
       "      <td>1.000000</td>\n",
       "      <td>95</td>\n",
       "    </tr>\n",
       "    <tr>\n",
       "      <th>96</th>\n",
       "      <td>0.156622</td>\n",
       "      <td>0.95125</td>\n",
       "      <td>0.025964</td>\n",
       "      <td>1.000000</td>\n",
       "      <td>96</td>\n",
       "    </tr>\n",
       "    <tr>\n",
       "      <th>97</th>\n",
       "      <td>0.190026</td>\n",
       "      <td>0.93375</td>\n",
       "      <td>0.024610</td>\n",
       "      <td>1.000000</td>\n",
       "      <td>97</td>\n",
       "    </tr>\n",
       "    <tr>\n",
       "      <th>98</th>\n",
       "      <td>0.188896</td>\n",
       "      <td>0.93625</td>\n",
       "      <td>0.024194</td>\n",
       "      <td>1.000000</td>\n",
       "      <td>98</td>\n",
       "    </tr>\n",
       "    <tr>\n",
       "      <th>99</th>\n",
       "      <td>0.195480</td>\n",
       "      <td>0.93750</td>\n",
       "      <td>0.025287</td>\n",
       "      <td>1.000000</td>\n",
       "      <td>99</td>\n",
       "    </tr>\n",
       "  </tbody>\n",
       "</table>\n",
       "<p>100 rows × 5 columns</p>\n",
       "</div>"
      ],
      "text/plain": [
       "        loss  accuracy  val_loss  val_accuracy  epoch\n",
       "0   2.116811   0.09375  1.996739      0.268657      0\n",
       "1   1.930363   0.37500  1.832740      0.616915      1\n",
       "2   1.747340   0.52000  1.647108      0.736318      2\n",
       "3   1.573808   0.57750  1.441517      0.786070      3\n",
       "4   1.356449   0.62875  1.245062      0.786070      4\n",
       "..       ...       ...       ...           ...    ...\n",
       "95  0.172196   0.94625  0.026607      1.000000     95\n",
       "96  0.156622   0.95125  0.025964      1.000000     96\n",
       "97  0.190026   0.93375  0.024610      1.000000     97\n",
       "98  0.188896   0.93625  0.024194      1.000000     98\n",
       "99  0.195480   0.93750  0.025287      1.000000     99\n",
       "\n",
       "[100 rows x 5 columns]"
      ]
     },
     "execution_count": 25,
     "metadata": {},
     "output_type": "execute_result"
    }
   ],
   "source": [
    "metrics = pd.DataFrame(history.history)\n",
    "metrics['epoch'] = history.epoch\n",
    "metrics"
   ]
  },
  {
   "attachments": {},
   "cell_type": "markdown",
   "id": "4461c262",
   "metadata": {},
   "source": [
    "# Model evaluate"
   ]
  },
  {
   "cell_type": "code",
   "execution_count": 26,
   "id": "a42430b5",
   "metadata": {},
   "outputs": [
    {
     "data": {
      "application/vnd.plotly.v1+json": {
       "config": {
        "plotlyServerURL": "https://plot.ly"
       },
       "data": [
        {
         "name": "accuracy",
         "type": "scatter",
         "x": [
          0,
          1,
          2,
          3,
          4,
          5,
          6,
          7,
          8,
          9,
          10,
          11,
          12,
          13,
          14,
          15,
          16,
          17,
          18,
          19,
          20,
          21,
          22,
          23,
          24,
          25,
          26,
          27,
          28,
          29,
          30,
          31,
          32,
          33,
          34,
          35,
          36,
          37,
          38,
          39,
          40,
          41,
          42,
          43,
          44,
          45,
          46,
          47,
          48,
          49,
          50,
          51,
          52,
          53,
          54,
          55,
          56,
          57,
          58,
          59,
          60,
          61,
          62,
          63,
          64,
          65,
          66,
          67,
          68,
          69,
          70,
          71,
          72,
          73,
          74,
          75,
          76,
          77,
          78,
          79,
          80,
          81,
          82,
          83,
          84,
          85,
          86,
          87,
          88,
          89,
          90,
          91,
          92,
          93,
          94,
          95,
          96,
          97,
          98,
          99
         ],
         "xaxis": "x",
         "y": [
          0.09375,
          0.375,
          0.5199999809265137,
          0.5774999856948853,
          0.6287500262260437,
          0.6675000190734863,
          0.6549999713897705,
          0.6499999761581421,
          0.6875,
          0.7074999809265137,
          0.75,
          0.7074999809265137,
          0.7487499713897705,
          0.7325000166893005,
          0.737500011920929,
          0.7762500047683716,
          0.7762500047683716,
          0.7699999809265137,
          0.7712500095367432,
          0.7962499856948853,
          0.7850000262260437,
          0.8162500262260437,
          0.8362500071525574,
          0.8087499737739563,
          0.8475000262260437,
          0.8399999737739563,
          0.8462499976158142,
          0.8374999761581421,
          0.84375,
          0.8412500023841858,
          0.8600000143051147,
          0.8612499833106995,
          0.8587499856948853,
          0.8650000095367432,
          0.8700000047683716,
          0.8687499761581421,
          0.8862500190734863,
          0.8612499833106995,
          0.875,
          0.8949999809265137,
          0.8612499833106995,
          0.8737499713897705,
          0.8725000023841858,
          0.8687499761581421,
          0.8962500095367432,
          0.8849999904632568,
          0.8812500238418579,
          0.8849999904632568,
          0.8912500143051147,
          0.9024999737739563,
          0.8837500214576721,
          0.9024999737739563,
          0.887499988079071,
          0.8974999785423279,
          0.9125000238418579,
          0.9125000238418579,
          0.8949999809265137,
          0.90625,
          0.925000011920929,
          0.9049999713897705,
          0.8962500095367432,
          0.9175000190734863,
          0.9125000238418579,
          0.893750011920929,
          0.9075000286102295,
          0.8962500095367432,
          0.918749988079071,
          0.9100000262260437,
          0.9112499952316284,
          0.9150000214576721,
          0.9325000047683716,
          0.9375,
          0.9200000166893005,
          0.9125000238418579,
          0.9262499809265137,
          0.9200000166893005,
          0.9212499856948853,
          0.9262499809265137,
          0.9212499856948853,
          0.9287499785423279,
          0.9125000238418579,
          0.9200000166893005,
          0.925000011920929,
          0.9200000166893005,
          0.9350000023841858,
          0.9449999928474426,
          0.9437500238418579,
          0.9212499856948853,
          0.9275000095367432,
          0.9350000023841858,
          0.9287499785423279,
          0.9412500262260437,
          0.9287499785423279,
          0.9275000095367432,
          0.9300000071525574,
          0.9462500214576721,
          0.9512500166893005,
          0.9337499737739563,
          0.9362499713897705,
          0.9375
         ],
         "yaxis": "y"
        },
        {
         "name": "loss",
         "type": "scatter",
         "x": [
          0,
          1,
          2,
          3,
          4,
          5,
          6,
          7,
          8,
          9,
          10,
          11,
          12,
          13,
          14,
          15,
          16,
          17,
          18,
          19,
          20,
          21,
          22,
          23,
          24,
          25,
          26,
          27,
          28,
          29,
          30,
          31,
          32,
          33,
          34,
          35,
          36,
          37,
          38,
          39,
          40,
          41,
          42,
          43,
          44,
          45,
          46,
          47,
          48,
          49,
          50,
          51,
          52,
          53,
          54,
          55,
          56,
          57,
          58,
          59,
          60,
          61,
          62,
          63,
          64,
          65,
          66,
          67,
          68,
          69,
          70,
          71,
          72,
          73,
          74,
          75,
          76,
          77,
          78,
          79,
          80,
          81,
          82,
          83,
          84,
          85,
          86,
          87,
          88,
          89,
          90,
          91,
          92,
          93,
          94,
          95,
          96,
          97,
          98,
          99
         ],
         "xaxis": "x2",
         "y": [
          2.1168112754821777,
          1.9303631782531738,
          1.747340440750122,
          1.573807716369629,
          1.3564486503601074,
          1.1808639764785767,
          1.1103649139404297,
          1.015848159790039,
          0.9717745184898376,
          0.9321876764297485,
          0.8090740442276001,
          0.8455216884613037,
          0.7709851861000061,
          0.7462869882583618,
          0.7368266582489014,
          0.6608090996742249,
          0.6807228922843933,
          0.6263065934181213,
          0.6403639316558838,
          0.6098987460136414,
          0.6075189113616943,
          0.5380399823188782,
          0.528312623500824,
          0.5666760206222534,
          0.5162908434867859,
          0.48725247383117676,
          0.486567884683609,
          0.46763989329338074,
          0.46021491289138794,
          0.46217674016952515,
          0.4473421573638916,
          0.4350592792034149,
          0.42579811811447144,
          0.3868318498134613,
          0.39611560106277466,
          0.4014021158218384,
          0.3616584837436676,
          0.38300690054893494,
          0.35659167170524597,
          0.33707907795906067,
          0.37351158261299133,
          0.3523472845554352,
          0.35202813148498535,
          0.3448275327682495,
          0.3176676332950592,
          0.3192378580570221,
          0.35866084694862366,
          0.31969958543777466,
          0.3143923878669739,
          0.2963523268699646,
          0.30302926898002625,
          0.2770155668258667,
          0.31425198912620544,
          0.3104211091995239,
          0.2709377408027649,
          0.28535518050193787,
          0.2878044843673706,
          0.29628050327301025,
          0.23915474116802216,
          0.2705938518047333,
          0.26513537764549255,
          0.2550598084926605,
          0.2603030204772949,
          0.2813158631324768,
          0.24310718476772308,
          0.26363715529441833,
          0.24449315667152405,
          0.2542034685611725,
          0.25389763712882996,
          0.2578890025615692,
          0.21847066283226013,
          0.225364089012146,
          0.23936857283115387,
          0.23836639523506165,
          0.2298237830400467,
          0.22489555180072784,
          0.23265977203845978,
          0.22697311639785767,
          0.21884681284427643,
          0.19579027593135834,
          0.22296103835105896,
          0.2274330109357834,
          0.23748698830604553,
          0.2148752063512802,
          0.19704613089561462,
          0.1796945333480835,
          0.18889781832695007,
          0.21486784517765045,
          0.1947019398212433,
          0.1911344975233078,
          0.19376228749752045,
          0.1731233447790146,
          0.21470926702022552,
          0.2008693665266037,
          0.1881554275751114,
          0.17219644784927368,
          0.15662236511707306,
          0.19002600014209747,
          0.18889625370502472,
          0.1954798698425293
         ],
         "yaxis": "y2"
        },
        {
         "name": "val_accuracy",
         "type": "scatter",
         "x": [
          0,
          1,
          2,
          3,
          4,
          5,
          6,
          7,
          8,
          9,
          10,
          11,
          12,
          13,
          14,
          15,
          16,
          17,
          18,
          19,
          20,
          21,
          22,
          23,
          24,
          25,
          26,
          27,
          28,
          29,
          30,
          31,
          32,
          33,
          34,
          35,
          36,
          37,
          38,
          39,
          40,
          41,
          42,
          43,
          44,
          45,
          46,
          47,
          48,
          49,
          50,
          51,
          52,
          53,
          54,
          55,
          56,
          57,
          58,
          59,
          60,
          61,
          62,
          63,
          64,
          65,
          66,
          67,
          68,
          69,
          70,
          71,
          72,
          73,
          74,
          75,
          76,
          77,
          78,
          79,
          80,
          81,
          82,
          83,
          84,
          85,
          86,
          87,
          88,
          89,
          90,
          91,
          92,
          93,
          94,
          95,
          96,
          97,
          98,
          99
         ],
         "xaxis": "x",
         "y": [
          0.26865673065185547,
          0.6169154047966003,
          0.7363184094429016,
          0.7860696315765381,
          0.7860696315765381,
          0.7810945510864258,
          0.8358209133148193,
          0.8159204125404358,
          0.8756219148635864,
          0.8805969953536987,
          0.8606964945793152,
          0.8557214140892029,
          0.8557214140892029,
          0.8557214140892029,
          0.8557214140892029,
          0.8706467747688293,
          0.8457711338996887,
          0.8557214140892029,
          0.8656716346740723,
          0.8656716346740723,
          0.8706467747688293,
          0.8656716346740723,
          0.8706467747688293,
          0.96517413854599,
          0.93034827709198,
          1,
          0.9950248599052429,
          0.9751243591308594,
          0.9900497794151306,
          0.9800994992256165,
          1,
          1,
          1,
          1,
          1,
          1,
          1,
          1,
          1,
          1,
          1,
          1,
          1,
          1,
          1,
          1,
          1,
          1,
          1,
          1,
          1,
          1,
          1,
          1,
          1,
          1,
          1,
          1,
          1,
          1,
          1,
          1,
          1,
          1,
          1,
          1,
          1,
          1,
          1,
          1,
          1,
          1,
          1,
          1,
          1,
          1,
          1,
          1,
          1,
          1,
          1,
          1,
          1,
          1,
          1,
          1,
          1,
          1,
          1,
          1,
          1,
          1,
          1,
          1,
          1,
          1,
          1,
          1,
          1,
          1
         ],
         "yaxis": "y"
        },
        {
         "name": "val_loss",
         "type": "scatter",
         "x": [
          0,
          1,
          2,
          3,
          4,
          5,
          6,
          7,
          8,
          9,
          10,
          11,
          12,
          13,
          14,
          15,
          16,
          17,
          18,
          19,
          20,
          21,
          22,
          23,
          24,
          25,
          26,
          27,
          28,
          29,
          30,
          31,
          32,
          33,
          34,
          35,
          36,
          37,
          38,
          39,
          40,
          41,
          42,
          43,
          44,
          45,
          46,
          47,
          48,
          49,
          50,
          51,
          52,
          53,
          54,
          55,
          56,
          57,
          58,
          59,
          60,
          61,
          62,
          63,
          64,
          65,
          66,
          67,
          68,
          69,
          70,
          71,
          72,
          73,
          74,
          75,
          76,
          77,
          78,
          79,
          80,
          81,
          82,
          83,
          84,
          85,
          86,
          87,
          88,
          89,
          90,
          91,
          92,
          93,
          94,
          95,
          96,
          97,
          98,
          99
         ],
         "xaxis": "x2",
         "y": [
          1.9967386722564697,
          1.8327401876449585,
          1.6471076011657715,
          1.4415173530578613,
          1.245061993598938,
          1.0752429962158203,
          0.9643873572349548,
          0.8749637603759766,
          0.8117957711219788,
          0.7624087333679199,
          0.6973447203636169,
          0.6729555726051331,
          0.622712254524231,
          0.596342146396637,
          0.5626716613769531,
          0.532090425491333,
          0.5067083835601807,
          0.48031947016716003,
          0.4650600254535675,
          0.43549615144729614,
          0.41023728251457214,
          0.3832511305809021,
          0.36437684297561646,
          0.3460785150527954,
          0.3351234197616577,
          0.31427475810050964,
          0.30116117000579834,
          0.28561919927597046,
          0.26733025908470154,
          0.2577016353607178,
          0.24940089881420135,
          0.2338607758283615,
          0.224196195602417,
          0.21196046471595764,
          0.2005292922258377,
          0.19824065268039703,
          0.18727831542491913,
          0.17582480609416962,
          0.17265991866588593,
          0.1611955761909485,
          0.15401189029216766,
          0.1513960212469101,
          0.14510247111320496,
          0.13926313817501068,
          0.12693534791469574,
          0.11929147690534592,
          0.12127414345741272,
          0.11893248558044434,
          0.11126931011676788,
          0.1038198322057724,
          0.10206237435340881,
          0.09511122852563858,
          0.09040612727403641,
          0.09211127460002899,
          0.08545533567667007,
          0.08182026445865631,
          0.07965454459190369,
          0.07909618318080902,
          0.07134319841861725,
          0.07176732271909714,
          0.06644583493471146,
          0.06342770904302597,
          0.06651510298252106,
          0.06457201391458511,
          0.06143103167414665,
          0.06377975642681122,
          0.057960476726293564,
          0.05628668889403343,
          0.05358555540442467,
          0.05349263176321983,
          0.05063636600971222,
          0.048273514956235886,
          0.04752832278609276,
          0.04983089119195938,
          0.04339614883065224,
          0.044298384338617325,
          0.044402241706848145,
          0.041856005787849426,
          0.04130440205335617,
          0.04180831462144852,
          0.041654955595731735,
          0.03852131962776184,
          0.03753150254487991,
          0.03600138798356056,
          0.03500921651721001,
          0.032640546560287476,
          0.031612321734428406,
          0.034990351647138596,
          0.03155426308512688,
          0.031993962824344635,
          0.03157195448875427,
          0.027583688497543335,
          0.03169839456677437,
          0.02844885364174843,
          0.028505602851510048,
          0.026607070118188858,
          0.0259642843157053,
          0.02460969239473343,
          0.024194415658712387,
          0.025286542251706123
         ],
         "yaxis": "y2"
        }
       ],
       "layout": {
        "template": {
         "data": {
          "bar": [
           {
            "error_x": {
             "color": "#2a3f5f"
            },
            "error_y": {
             "color": "#2a3f5f"
            },
            "marker": {
             "line": {
              "color": "#E5ECF6",
              "width": 0.5
             },
             "pattern": {
              "fillmode": "overlay",
              "size": 10,
              "solidity": 0.2
             }
            },
            "type": "bar"
           }
          ],
          "barpolar": [
           {
            "marker": {
             "line": {
              "color": "#E5ECF6",
              "width": 0.5
             },
             "pattern": {
              "fillmode": "overlay",
              "size": 10,
              "solidity": 0.2
             }
            },
            "type": "barpolar"
           }
          ],
          "carpet": [
           {
            "aaxis": {
             "endlinecolor": "#2a3f5f",
             "gridcolor": "white",
             "linecolor": "white",
             "minorgridcolor": "white",
             "startlinecolor": "#2a3f5f"
            },
            "baxis": {
             "endlinecolor": "#2a3f5f",
             "gridcolor": "white",
             "linecolor": "white",
             "minorgridcolor": "white",
             "startlinecolor": "#2a3f5f"
            },
            "type": "carpet"
           }
          ],
          "choropleth": [
           {
            "colorbar": {
             "outlinewidth": 0,
             "ticks": ""
            },
            "type": "choropleth"
           }
          ],
          "contour": [
           {
            "colorbar": {
             "outlinewidth": 0,
             "ticks": ""
            },
            "colorscale": [
             [
              0,
              "#0d0887"
             ],
             [
              0.1111111111111111,
              "#46039f"
             ],
             [
              0.2222222222222222,
              "#7201a8"
             ],
             [
              0.3333333333333333,
              "#9c179e"
             ],
             [
              0.4444444444444444,
              "#bd3786"
             ],
             [
              0.5555555555555556,
              "#d8576b"
             ],
             [
              0.6666666666666666,
              "#ed7953"
             ],
             [
              0.7777777777777778,
              "#fb9f3a"
             ],
             [
              0.8888888888888888,
              "#fdca26"
             ],
             [
              1,
              "#f0f921"
             ]
            ],
            "type": "contour"
           }
          ],
          "contourcarpet": [
           {
            "colorbar": {
             "outlinewidth": 0,
             "ticks": ""
            },
            "type": "contourcarpet"
           }
          ],
          "heatmap": [
           {
            "colorbar": {
             "outlinewidth": 0,
             "ticks": ""
            },
            "colorscale": [
             [
              0,
              "#0d0887"
             ],
             [
              0.1111111111111111,
              "#46039f"
             ],
             [
              0.2222222222222222,
              "#7201a8"
             ],
             [
              0.3333333333333333,
              "#9c179e"
             ],
             [
              0.4444444444444444,
              "#bd3786"
             ],
             [
              0.5555555555555556,
              "#d8576b"
             ],
             [
              0.6666666666666666,
              "#ed7953"
             ],
             [
              0.7777777777777778,
              "#fb9f3a"
             ],
             [
              0.8888888888888888,
              "#fdca26"
             ],
             [
              1,
              "#f0f921"
             ]
            ],
            "type": "heatmap"
           }
          ],
          "heatmapgl": [
           {
            "colorbar": {
             "outlinewidth": 0,
             "ticks": ""
            },
            "colorscale": [
             [
              0,
              "#0d0887"
             ],
             [
              0.1111111111111111,
              "#46039f"
             ],
             [
              0.2222222222222222,
              "#7201a8"
             ],
             [
              0.3333333333333333,
              "#9c179e"
             ],
             [
              0.4444444444444444,
              "#bd3786"
             ],
             [
              0.5555555555555556,
              "#d8576b"
             ],
             [
              0.6666666666666666,
              "#ed7953"
             ],
             [
              0.7777777777777778,
              "#fb9f3a"
             ],
             [
              0.8888888888888888,
              "#fdca26"
             ],
             [
              1,
              "#f0f921"
             ]
            ],
            "type": "heatmapgl"
           }
          ],
          "histogram": [
           {
            "marker": {
             "pattern": {
              "fillmode": "overlay",
              "size": 10,
              "solidity": 0.2
             }
            },
            "type": "histogram"
           }
          ],
          "histogram2d": [
           {
            "colorbar": {
             "outlinewidth": 0,
             "ticks": ""
            },
            "colorscale": [
             [
              0,
              "#0d0887"
             ],
             [
              0.1111111111111111,
              "#46039f"
             ],
             [
              0.2222222222222222,
              "#7201a8"
             ],
             [
              0.3333333333333333,
              "#9c179e"
             ],
             [
              0.4444444444444444,
              "#bd3786"
             ],
             [
              0.5555555555555556,
              "#d8576b"
             ],
             [
              0.6666666666666666,
              "#ed7953"
             ],
             [
              0.7777777777777778,
              "#fb9f3a"
             ],
             [
              0.8888888888888888,
              "#fdca26"
             ],
             [
              1,
              "#f0f921"
             ]
            ],
            "type": "histogram2d"
           }
          ],
          "histogram2dcontour": [
           {
            "colorbar": {
             "outlinewidth": 0,
             "ticks": ""
            },
            "colorscale": [
             [
              0,
              "#0d0887"
             ],
             [
              0.1111111111111111,
              "#46039f"
             ],
             [
              0.2222222222222222,
              "#7201a8"
             ],
             [
              0.3333333333333333,
              "#9c179e"
             ],
             [
              0.4444444444444444,
              "#bd3786"
             ],
             [
              0.5555555555555556,
              "#d8576b"
             ],
             [
              0.6666666666666666,
              "#ed7953"
             ],
             [
              0.7777777777777778,
              "#fb9f3a"
             ],
             [
              0.8888888888888888,
              "#fdca26"
             ],
             [
              1,
              "#f0f921"
             ]
            ],
            "type": "histogram2dcontour"
           }
          ],
          "mesh3d": [
           {
            "colorbar": {
             "outlinewidth": 0,
             "ticks": ""
            },
            "type": "mesh3d"
           }
          ],
          "parcoords": [
           {
            "line": {
             "colorbar": {
              "outlinewidth": 0,
              "ticks": ""
             }
            },
            "type": "parcoords"
           }
          ],
          "pie": [
           {
            "automargin": true,
            "type": "pie"
           }
          ],
          "scatter": [
           {
            "fillpattern": {
             "fillmode": "overlay",
             "size": 10,
             "solidity": 0.2
            },
            "type": "scatter"
           }
          ],
          "scatter3d": [
           {
            "line": {
             "colorbar": {
              "outlinewidth": 0,
              "ticks": ""
             }
            },
            "marker": {
             "colorbar": {
              "outlinewidth": 0,
              "ticks": ""
             }
            },
            "type": "scatter3d"
           }
          ],
          "scattercarpet": [
           {
            "marker": {
             "colorbar": {
              "outlinewidth": 0,
              "ticks": ""
             }
            },
            "type": "scattercarpet"
           }
          ],
          "scattergeo": [
           {
            "marker": {
             "colorbar": {
              "outlinewidth": 0,
              "ticks": ""
             }
            },
            "type": "scattergeo"
           }
          ],
          "scattergl": [
           {
            "marker": {
             "colorbar": {
              "outlinewidth": 0,
              "ticks": ""
             }
            },
            "type": "scattergl"
           }
          ],
          "scattermapbox": [
           {
            "marker": {
             "colorbar": {
              "outlinewidth": 0,
              "ticks": ""
             }
            },
            "type": "scattermapbox"
           }
          ],
          "scatterpolar": [
           {
            "marker": {
             "colorbar": {
              "outlinewidth": 0,
              "ticks": ""
             }
            },
            "type": "scatterpolar"
           }
          ],
          "scatterpolargl": [
           {
            "marker": {
             "colorbar": {
              "outlinewidth": 0,
              "ticks": ""
             }
            },
            "type": "scatterpolargl"
           }
          ],
          "scatterternary": [
           {
            "marker": {
             "colorbar": {
              "outlinewidth": 0,
              "ticks": ""
             }
            },
            "type": "scatterternary"
           }
          ],
          "surface": [
           {
            "colorbar": {
             "outlinewidth": 0,
             "ticks": ""
            },
            "colorscale": [
             [
              0,
              "#0d0887"
             ],
             [
              0.1111111111111111,
              "#46039f"
             ],
             [
              0.2222222222222222,
              "#7201a8"
             ],
             [
              0.3333333333333333,
              "#9c179e"
             ],
             [
              0.4444444444444444,
              "#bd3786"
             ],
             [
              0.5555555555555556,
              "#d8576b"
             ],
             [
              0.6666666666666666,
              "#ed7953"
             ],
             [
              0.7777777777777778,
              "#fb9f3a"
             ],
             [
              0.8888888888888888,
              "#fdca26"
             ],
             [
              1,
              "#f0f921"
             ]
            ],
            "type": "surface"
           }
          ],
          "table": [
           {
            "cells": {
             "fill": {
              "color": "#EBF0F8"
             },
             "line": {
              "color": "white"
             }
            },
            "header": {
             "fill": {
              "color": "#C8D4E3"
             },
             "line": {
              "color": "white"
             }
            },
            "type": "table"
           }
          ]
         },
         "layout": {
          "annotationdefaults": {
           "arrowcolor": "#2a3f5f",
           "arrowhead": 0,
           "arrowwidth": 1
          },
          "autotypenumbers": "strict",
          "coloraxis": {
           "colorbar": {
            "outlinewidth": 0,
            "ticks": ""
           }
          },
          "colorscale": {
           "diverging": [
            [
             0,
             "#8e0152"
            ],
            [
             0.1,
             "#c51b7d"
            ],
            [
             0.2,
             "#de77ae"
            ],
            [
             0.3,
             "#f1b6da"
            ],
            [
             0.4,
             "#fde0ef"
            ],
            [
             0.5,
             "#f7f7f7"
            ],
            [
             0.6,
             "#e6f5d0"
            ],
            [
             0.7,
             "#b8e186"
            ],
            [
             0.8,
             "#7fbc41"
            ],
            [
             0.9,
             "#4d9221"
            ],
            [
             1,
             "#276419"
            ]
           ],
           "sequential": [
            [
             0,
             "#0d0887"
            ],
            [
             0.1111111111111111,
             "#46039f"
            ],
            [
             0.2222222222222222,
             "#7201a8"
            ],
            [
             0.3333333333333333,
             "#9c179e"
            ],
            [
             0.4444444444444444,
             "#bd3786"
            ],
            [
             0.5555555555555556,
             "#d8576b"
            ],
            [
             0.6666666666666666,
             "#ed7953"
            ],
            [
             0.7777777777777778,
             "#fb9f3a"
            ],
            [
             0.8888888888888888,
             "#fdca26"
            ],
            [
             1,
             "#f0f921"
            ]
           ],
           "sequentialminus": [
            [
             0,
             "#0d0887"
            ],
            [
             0.1111111111111111,
             "#46039f"
            ],
            [
             0.2222222222222222,
             "#7201a8"
            ],
            [
             0.3333333333333333,
             "#9c179e"
            ],
            [
             0.4444444444444444,
             "#bd3786"
            ],
            [
             0.5555555555555556,
             "#d8576b"
            ],
            [
             0.6666666666666666,
             "#ed7953"
            ],
            [
             0.7777777777777778,
             "#fb9f3a"
            ],
            [
             0.8888888888888888,
             "#fdca26"
            ],
            [
             1,
             "#f0f921"
            ]
           ]
          },
          "colorway": [
           "#636efa",
           "#EF553B",
           "#00cc96",
           "#ab63fa",
           "#FFA15A",
           "#19d3f3",
           "#FF6692",
           "#B6E880",
           "#FF97FF",
           "#FECB52"
          ],
          "font": {
           "color": "#2a3f5f"
          },
          "geo": {
           "bgcolor": "white",
           "lakecolor": "white",
           "landcolor": "#E5ECF6",
           "showlakes": true,
           "showland": true,
           "subunitcolor": "white"
          },
          "hoverlabel": {
           "align": "left"
          },
          "hovermode": "closest",
          "mapbox": {
           "style": "light"
          },
          "paper_bgcolor": "white",
          "plot_bgcolor": "#E5ECF6",
          "polar": {
           "angularaxis": {
            "gridcolor": "white",
            "linecolor": "white",
            "ticks": ""
           },
           "bgcolor": "#E5ECF6",
           "radialaxis": {
            "gridcolor": "white",
            "linecolor": "white",
            "ticks": ""
           }
          },
          "scene": {
           "xaxis": {
            "backgroundcolor": "#E5ECF6",
            "gridcolor": "white",
            "gridwidth": 2,
            "linecolor": "white",
            "showbackground": true,
            "ticks": "",
            "zerolinecolor": "white"
           },
           "yaxis": {
            "backgroundcolor": "#E5ECF6",
            "gridcolor": "white",
            "gridwidth": 2,
            "linecolor": "white",
            "showbackground": true,
            "ticks": "",
            "zerolinecolor": "white"
           },
           "zaxis": {
            "backgroundcolor": "#E5ECF6",
            "gridcolor": "white",
            "gridwidth": 2,
            "linecolor": "white",
            "showbackground": true,
            "ticks": "",
            "zerolinecolor": "white"
           }
          },
          "shapedefaults": {
           "line": {
            "color": "#2a3f5f"
           }
          },
          "ternary": {
           "aaxis": {
            "gridcolor": "white",
            "linecolor": "white",
            "ticks": ""
           },
           "baxis": {
            "gridcolor": "white",
            "linecolor": "white",
            "ticks": ""
           },
           "bgcolor": "#E5ECF6",
           "caxis": {
            "gridcolor": "white",
            "linecolor": "white",
            "ticks": ""
           }
          },
          "title": {
           "x": 0.05
          },
          "xaxis": {
           "automargin": true,
           "gridcolor": "white",
           "linecolor": "white",
           "ticks": "",
           "title": {
            "standoff": 15
           },
           "zerolinecolor": "white",
           "zerolinewidth": 2
          },
          "yaxis": {
           "automargin": true,
           "gridcolor": "white",
           "linecolor": "white",
           "ticks": "",
           "title": {
            "standoff": 15
           },
           "zerolinecolor": "white",
           "zerolinewidth": 2
          }
         }
        },
        "title": {
         "text": "Accuracy and Loss"
        },
        "width": 1000,
        "xaxis": {
         "anchor": "y",
         "domain": [
          0,
          0.45
         ],
         "title": {
          "text": "epochs"
         }
        },
        "xaxis2": {
         "anchor": "y2",
         "domain": [
          0.55,
          1
         ],
         "title": {
          "text": "epochs"
         }
        },
        "yaxis": {
         "anchor": "x",
         "domain": [
          0,
          1
         ],
         "title": {
          "text": "accuracy"
         }
        },
        "yaxis2": {
         "anchor": "x2",
         "domain": [
          0,
          1
         ],
         "title": {
          "text": "accuracy"
         }
        }
       }
      }
     },
     "metadata": {},
     "output_type": "display_data"
    }
   ],
   "source": [
    "import plotly.graph_objects as go\n",
    "from plotly.subplots import make_subplots\n",
    "\n",
    "fig = make_subplots(rows=1, cols=2)\n",
    "fig.add_trace(go.Scatter(x=metrics['epoch'], y=metrics['accuracy'], name='accuracy'), row=1, col=1)\n",
    "fig.add_trace(go.Scatter(x=metrics['epoch'], y=metrics['loss'], name='loss'), row=1, col=2)\n",
    "fig.add_trace(go.Scatter(x=metrics['epoch'], y=metrics['val_accuracy'], name='val_accuracy'), row=1, col=1)\n",
    "fig.add_trace(go.Scatter(x=metrics['epoch'], y=metrics['val_loss'], name='val_loss'), row=1, col=2)\n",
    "\n",
    "fig.update_xaxes(title_text='epochs')\n",
    "fig.update_yaxes(title_text='accuracy')\n",
    "fig.update_layout(width=1000, title='Accuracy and Loss')\n",
    "fig.show()"
   ]
  },
  {
   "cell_type": "code",
   "execution_count": 27,
   "id": "dea0d5f4",
   "metadata": {},
   "outputs": [
    {
     "name": "stdout",
     "output_type": "stream",
     "text": [
      "1.0\n"
     ]
    }
   ],
   "source": [
    "test_loss, test_acc = model.evaluate(X_test, y_test, verbose=0)\n",
    "print(test_acc)"
   ]
  },
  {
   "attachments": {},
   "cell_type": "markdown",
   "id": "dcf959ed",
   "metadata": {},
   "source": [
    "Predykcja na podstawie modelu.\n",
    "* model.evaluate(y_true, y_pred) - pozwala obliczyć metryki modelu\n",
    "* model.predict_classes() - pozwala zwrócić odpowiednio przewidziane klasy\n",
    "* model.predict_proba(), model.predict() - pozwala zwrócić prawdopodobieństwo danej klasy"
   ]
  },
  {
   "cell_type": "code",
   "execution_count": 28,
   "id": "d886fb03",
   "metadata": {},
   "outputs": [
    {
     "name": "stdout",
     "output_type": "stream",
     "text": [
      "7/7 [==============================] - 0s 1ms/step\n"
     ]
    },
    {
     "data": {
      "text/plain": [
       "array([[8.4829134e-07, 1.3701143e-10, 9.9967754e-01, ..., 2.1793477e-08, 2.1865798e-08, 1.4135103e-05],\n",
       "       [4.9498020e-05, 4.4177621e-05, 1.9142242e-05, ..., 1.5750881e-08, 4.6261344e-03, 8.2409731e-04],\n",
       "       [3.5408000e-06, 1.8395278e-09, 9.9937952e-01, ..., 1.8111106e-07, 1.6817229e-07, 4.5402019e-05],\n",
       "       ...,\n",
       "       [3.8690558e-18, 1.3739363e-16, 3.5227493e-10, ..., 5.4100859e-11, 2.8511288e-21, 1.0000000e+00],\n",
       "       [4.6557207e-06, 5.9808709e-09, 9.9938071e-01, ..., 7.8732995e-07, 2.2938669e-07, 1.4512446e-04],\n",
       "       [2.3214897e-04, 1.3841258e-04, 1.2696438e-04, ..., 1.5424091e-07, 1.5679423e-02, 7.4573950e-04]], dtype=float32)"
      ]
     },
     "execution_count": 28,
     "metadata": {},
     "output_type": "execute_result"
    }
   ],
   "source": [
    "predictions = model.predict(X_test)\n",
    "predictions"
   ]
  },
  {
   "cell_type": "code",
   "execution_count": 29,
   "id": "f0517586",
   "metadata": {},
   "outputs": [
    {
     "data": {
      "text/html": [
       "<div>\n",
       "<style scoped>\n",
       "    .dataframe tbody tr th:only-of-type {\n",
       "        vertical-align: middle;\n",
       "    }\n",
       "\n",
       "    .dataframe tbody tr th {\n",
       "        vertical-align: top;\n",
       "    }\n",
       "\n",
       "    .dataframe thead th {\n",
       "        text-align: right;\n",
       "    }\n",
       "</style>\n",
       "<table border=\"1\" class=\"dataframe\">\n",
       "  <thead>\n",
       "    <tr style=\"text-align: right;\">\n",
       "      <th></th>\n",
       "      <th>0</th>\n",
       "      <th>1</th>\n",
       "      <th>2</th>\n",
       "      <th>3</th>\n",
       "      <th>4</th>\n",
       "      <th>5</th>\n",
       "      <th>6</th>\n",
       "      <th>7</th>\n",
       "    </tr>\n",
       "  </thead>\n",
       "  <tbody>\n",
       "    <tr>\n",
       "      <th>0</th>\n",
       "      <td>8.482913e-07</td>\n",
       "      <td>1.370114e-10</td>\n",
       "      <td>9.996775e-01</td>\n",
       "      <td>3.183601e-06</td>\n",
       "      <td>3.041843e-04</td>\n",
       "      <td>2.179348e-08</td>\n",
       "      <td>2.186580e-08</td>\n",
       "      <td>0.000014</td>\n",
       "    </tr>\n",
       "    <tr>\n",
       "      <th>1</th>\n",
       "      <td>4.949802e-05</td>\n",
       "      <td>4.417762e-05</td>\n",
       "      <td>1.914224e-05</td>\n",
       "      <td>3.331641e-07</td>\n",
       "      <td>9.944366e-01</td>\n",
       "      <td>1.575088e-08</td>\n",
       "      <td>4.626134e-03</td>\n",
       "      <td>0.000824</td>\n",
       "    </tr>\n",
       "    <tr>\n",
       "      <th>2</th>\n",
       "      <td>3.540800e-06</td>\n",
       "      <td>1.839528e-09</td>\n",
       "      <td>9.993795e-01</td>\n",
       "      <td>1.419183e-05</td>\n",
       "      <td>5.570320e-04</td>\n",
       "      <td>1.811111e-07</td>\n",
       "      <td>1.681723e-07</td>\n",
       "      <td>0.000045</td>\n",
       "    </tr>\n",
       "    <tr>\n",
       "      <th>3</th>\n",
       "      <td>2.937949e-06</td>\n",
       "      <td>1.107188e-09</td>\n",
       "      <td>9.994031e-01</td>\n",
       "      <td>1.324157e-05</td>\n",
       "      <td>5.497016e-04</td>\n",
       "      <td>1.063220e-07</td>\n",
       "      <td>1.334730e-07</td>\n",
       "      <td>0.000031</td>\n",
       "    </tr>\n",
       "    <tr>\n",
       "      <th>4</th>\n",
       "      <td>5.710872e-06</td>\n",
       "      <td>7.486377e-09</td>\n",
       "      <td>9.992864e-01</td>\n",
       "      <td>1.577394e-05</td>\n",
       "      <td>5.493517e-04</td>\n",
       "      <td>8.326400e-07</td>\n",
       "      <td>3.003169e-07</td>\n",
       "      <td>0.000142</td>\n",
       "    </tr>\n",
       "    <tr>\n",
       "      <th>...</th>\n",
       "      <td>...</td>\n",
       "      <td>...</td>\n",
       "      <td>...</td>\n",
       "      <td>...</td>\n",
       "      <td>...</td>\n",
       "      <td>...</td>\n",
       "      <td>...</td>\n",
       "      <td>...</td>\n",
       "    </tr>\n",
       "    <tr>\n",
       "      <th>196</th>\n",
       "      <td>7.076921e-18</td>\n",
       "      <td>2.304002e-16</td>\n",
       "      <td>4.775598e-10</td>\n",
       "      <td>1.059084e-28</td>\n",
       "      <td>4.537669e-14</td>\n",
       "      <td>5.736029e-11</td>\n",
       "      <td>6.319476e-21</td>\n",
       "      <td>1.000000</td>\n",
       "    </tr>\n",
       "    <tr>\n",
       "      <th>197</th>\n",
       "      <td>7.576364e-06</td>\n",
       "      <td>1.369913e-08</td>\n",
       "      <td>9.991828e-01</td>\n",
       "      <td>2.009014e-05</td>\n",
       "      <td>5.864103e-04</td>\n",
       "      <td>1.468439e-06</td>\n",
       "      <td>4.521994e-07</td>\n",
       "      <td>0.000201</td>\n",
       "    </tr>\n",
       "    <tr>\n",
       "      <th>198</th>\n",
       "      <td>3.869056e-18</td>\n",
       "      <td>1.373936e-16</td>\n",
       "      <td>3.522749e-10</td>\n",
       "      <td>4.850987e-29</td>\n",
       "      <td>1.972961e-14</td>\n",
       "      <td>5.410086e-11</td>\n",
       "      <td>2.851129e-21</td>\n",
       "      <td>1.000000</td>\n",
       "    </tr>\n",
       "    <tr>\n",
       "      <th>199</th>\n",
       "      <td>4.655721e-06</td>\n",
       "      <td>5.980871e-09</td>\n",
       "      <td>9.993807e-01</td>\n",
       "      <td>1.175860e-05</td>\n",
       "      <td>4.566781e-04</td>\n",
       "      <td>7.873300e-07</td>\n",
       "      <td>2.293867e-07</td>\n",
       "      <td>0.000145</td>\n",
       "    </tr>\n",
       "    <tr>\n",
       "      <th>200</th>\n",
       "      <td>2.321490e-04</td>\n",
       "      <td>1.384126e-04</td>\n",
       "      <td>1.269644e-04</td>\n",
       "      <td>1.391041e-05</td>\n",
       "      <td>9.830632e-01</td>\n",
       "      <td>1.542409e-07</td>\n",
       "      <td>1.567942e-02</td>\n",
       "      <td>0.000746</td>\n",
       "    </tr>\n",
       "  </tbody>\n",
       "</table>\n",
       "<p>201 rows × 8 columns</p>\n",
       "</div>"
      ],
      "text/plain": [
       "                0             1             2             3             4             5             6         7\n",
       "0    8.482913e-07  1.370114e-10  9.996775e-01  3.183601e-06  3.041843e-04  2.179348e-08  2.186580e-08  0.000014\n",
       "1    4.949802e-05  4.417762e-05  1.914224e-05  3.331641e-07  9.944366e-01  1.575088e-08  4.626134e-03  0.000824\n",
       "2    3.540800e-06  1.839528e-09  9.993795e-01  1.419183e-05  5.570320e-04  1.811111e-07  1.681723e-07  0.000045\n",
       "3    2.937949e-06  1.107188e-09  9.994031e-01  1.324157e-05  5.497016e-04  1.063220e-07  1.334730e-07  0.000031\n",
       "4    5.710872e-06  7.486377e-09  9.992864e-01  1.577394e-05  5.493517e-04  8.326400e-07  3.003169e-07  0.000142\n",
       "..            ...           ...           ...           ...           ...           ...           ...       ...\n",
       "196  7.076921e-18  2.304002e-16  4.775598e-10  1.059084e-28  4.537669e-14  5.736029e-11  6.319476e-21  1.000000\n",
       "197  7.576364e-06  1.369913e-08  9.991828e-01  2.009014e-05  5.864103e-04  1.468439e-06  4.521994e-07  0.000201\n",
       "198  3.869056e-18  1.373936e-16  3.522749e-10  4.850987e-29  1.972961e-14  5.410086e-11  2.851129e-21  1.000000\n",
       "199  4.655721e-06  5.980871e-09  9.993807e-01  1.175860e-05  4.566781e-04  7.873300e-07  2.293867e-07  0.000145\n",
       "200  2.321490e-04  1.384126e-04  1.269644e-04  1.391041e-05  9.830632e-01  1.542409e-07  1.567942e-02  0.000746\n",
       "\n",
       "[201 rows x 8 columns]"
      ]
     },
     "execution_count": 29,
     "metadata": {},
     "output_type": "execute_result"
    }
   ],
   "source": [
    "predictions_df = pd.DataFrame(predictions)\n",
    "predictions_df"
   ]
  },
  {
   "cell_type": "code",
   "execution_count": 30,
   "id": "03d216ea",
   "metadata": {},
   "outputs": [
    {
     "data": {
      "text/plain": [
       "array([2, 4, 2, 2, 2, 1, 2, 7, 3, 2, 3, 7, 2, 5, 5, 1, 5, 4, 2, 3, 7, 3, 7, 4, 7, 1, 2, 4, 6, 1, 2, 6, 6, 4, 6, 1, 7, 2, 7, 4, 2, 5, 7, 2, 2, 2, 7, 2, 3, 4, 1, 1, 4, 1, 3, 2, 7, 2, 7, 3, 2, 7, 2, 6, 7, 2, 3, 1, 3, 2, 2, 2, 4, 2, 2, 2, 1, 2, 2, 1, 7, 2, 2, 2, 6, 2, 5, 7, 2, 7, 6, 2, 3, 4, 2, 2, 2, 2, 6, 6, 3, 2, 6, 4, 5, 3, 6, 3, 2, 2, 1, 2, 2, 2, 6, 7, 3, 1, 2, 2, 6, 7, 2, 2, 6, 3, 2, 2, 3, 5, 4, 1, 6, 2, 1, 4, 7, 3, 3, 7, 6, 2, 7, 2, 2, 2, 4, 2, 4, 2, 3, 5, 2, 6, 1, 2, 5, 2, 4, 2, 4, 6, 2, 3,\n",
       "       6, 5, 2, 1, 4, 2, 6, 2, 1, 5, 1, 2, 4, 2, 3, 2, 7, 1, 2, 3, 5, 6, 6, 1, 4, 2, 2, 2, 7, 7, 2, 1, 7, 2, 7, 2, 4], dtype=int64)"
      ]
     },
     "execution_count": 30,
     "metadata": {},
     "output_type": "execute_result"
    }
   ],
   "source": [
    "predictions_cls = predictions.argmax(axis=-1)\n",
    "predictions_cls"
   ]
  },
  {
   "attachments": {},
   "cell_type": "markdown",
   "id": "70f70183",
   "metadata": {},
   "source": [
    "# Zapisanie modelu"
   ]
  },
  {
   "cell_type": "code",
   "execution_count": 34,
   "id": "5a32ea88",
   "metadata": {},
   "outputs": [
    {
     "name": "stdout",
     "output_type": "stream",
     "text": [
      "INFO:tensorflow:Assets written to: C:\\Users\\Dell\\Documents\\Git\\stormwater-analysis\\stormwater_analysis\\data\\all_columns\\assets\n"
     ]
    }
   ],
   "source": [
    "model.save(r'C:\\Users\\Dell\\Documents\\Git\\stormwater-analysis\\stormwater_analysis\\data\\all_columns')"
   ]
  },
  {
   "attachments": {},
   "cell_type": "markdown",
   "id": "2a8a23e3",
   "metadata": {},
   "source": [
    "# Załadowanie modelu"
   ]
  },
  {
   "cell_type": "code",
   "execution_count": 36,
   "id": "772d2f7e",
   "metadata": {},
   "outputs": [],
   "source": [
    "from tensorflow import keras\n",
    "model = keras.models.load_model(r'C:\\Users\\Dell\\Documents\\Git\\stormwater-analysis\\stormwater_analysis\\data\\all_columns')"
   ]
  },
  {
   "cell_type": "code",
   "execution_count": 37,
   "id": "96645d62",
   "metadata": {},
   "outputs": [
    {
     "name": "stdout",
     "output_type": "stream",
     "text": [
      "7/7 [==============================] - 0s 1ms/step\n"
     ]
    },
    {
     "data": {
      "text/plain": [
       "array([[8.4829134e-07, 1.3701143e-10, 9.9967754e-01, ..., 2.1793477e-08, 2.1865798e-08, 1.4135103e-05],\n",
       "       [4.9498020e-05, 4.4177621e-05, 1.9142242e-05, ..., 1.5750881e-08, 4.6261344e-03, 8.2409731e-04],\n",
       "       [3.5408000e-06, 1.8395278e-09, 9.9937952e-01, ..., 1.8111106e-07, 1.6817229e-07, 4.5402019e-05],\n",
       "       ...,\n",
       "       [3.8690558e-18, 1.3739363e-16, 3.5227493e-10, ..., 5.4100859e-11, 2.8511288e-21, 1.0000000e+00],\n",
       "       [4.6557207e-06, 5.9808709e-09, 9.9938071e-01, ..., 7.8732995e-07, 2.2938669e-07, 1.4512446e-04],\n",
       "       [2.3214897e-04, 1.3841258e-04, 1.2696438e-04, ..., 1.5424091e-07, 1.5679423e-02, 7.4573950e-04]], dtype=float32)"
      ]
     },
     "execution_count": 37,
     "metadata": {},
     "output_type": "execute_result"
    }
   ],
   "source": [
    "pred = model.predict(X_test)\n",
    "pred"
   ]
  }
 ],
 "metadata": {
  "kernelspec": {
   "display_name": "Python 3 (ipykernel)",
   "language": "python",
   "name": "python3"
  },
  "language_info": {
   "codemirror_mode": {
    "name": "ipython",
    "version": 3
   },
   "file_extension": ".py",
   "mimetype": "text/x-python",
   "name": "python",
   "nbconvert_exporter": "python",
   "pygments_lexer": "ipython3",
   "version": "3.10.2"
  }
 },
 "nbformat": 4,
 "nbformat_minor": 5
}
