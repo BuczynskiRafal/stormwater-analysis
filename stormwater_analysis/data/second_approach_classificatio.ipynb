{
 "cells": [
  {
   "attachments": {},
   "cell_type": "markdown",
   "metadata": {},
   "source": [
    "# Training a model for catchment classification.\n",
    "* kategoryzacja zlewni oparta o wielkość zlewni i wyniki oblczeń zlewni\n",
    "* opad nie jest przyjmowany ponieważ jest tylko jedna wartość i jego wartość jest standaryzowana do zera"
   ]
  },
  {
   "attachments": {},
   "cell_type": "markdown",
   "metadata": {},
   "source": [
    "# Imports"
   ]
  },
  {
   "cell_type": "code",
   "execution_count": 1,
   "metadata": {},
   "outputs": [],
   "source": [
    "import swmmio\n",
    "import pyswmm\n",
    "import pandas as pd\n",
    "import numpy as np\n",
    "import plotly.graph_objects as go\n",
    "\n",
    "from sklearn.model_selection import train_test_split\n",
    "from sklearn.preprocessing import StandardScaler, OneHotEncoder, MinMaxScaler\n",
    "from sklearn.compose import ColumnTransformer\n",
    "from tensorflow.keras.models import Sequential\n",
    "from tensorflow.keras.layers import Dense, Dropout\n",
    "from tensorflow.keras.callbacks import EarlyStopping\n",
    "\n",
    "from plotly.subplots import make_subplots\n",
    "\n",
    "\n",
    "desired_width = 500\n",
    "pd.set_option(\"display.width\", desired_width)\n",
    "np.set_printoptions(linewidth=desired_width)\n",
    "pd.set_option(\"display.max_columns\", 30)"
   ]
  },
  {
   "attachments": {},
   "cell_type": "markdown",
   "metadata": {},
   "source": [
    "## Catchment categories"
   ]
  },
  {
   "cell_type": "code",
   "execution_count": 2,
   "metadata": {},
   "outputs": [
    {
     "data": {
      "text/html": [
       "<div>\n",
       "<style scoped>\n",
       "    .dataframe tbody tr th:only-of-type {\n",
       "        vertical-align: middle;\n",
       "    }\n",
       "\n",
       "    .dataframe tbody tr th {\n",
       "        vertical-align: top;\n",
       "    }\n",
       "\n",
       "    .dataframe thead th {\n",
       "        text-align: right;\n",
       "    }\n",
       "</style>\n",
       "<table border=\"1\" class=\"dataframe\">\n",
       "  <thead>\n",
       "    <tr style=\"text-align: right;\">\n",
       "      <th></th>\n",
       "      <th>classes</th>\n",
       "    </tr>\n",
       "  </thead>\n",
       "  <tbody>\n",
       "    <tr>\n",
       "      <th>0</th>\n",
       "      <td>compact_urban_development</td>\n",
       "    </tr>\n",
       "    <tr>\n",
       "      <th>1</th>\n",
       "      <td>urban</td>\n",
       "    </tr>\n",
       "    <tr>\n",
       "      <th>2</th>\n",
       "      <td>loose_urban_development</td>\n",
       "    </tr>\n",
       "    <tr>\n",
       "      <th>3</th>\n",
       "      <td>wooded_area</td>\n",
       "    </tr>\n",
       "    <tr>\n",
       "      <th>4</th>\n",
       "      <td>grassy</td>\n",
       "    </tr>\n",
       "    <tr>\n",
       "      <th>5</th>\n",
       "      <td>loose_soil</td>\n",
       "    </tr>\n",
       "    <tr>\n",
       "      <th>6</th>\n",
       "      <td>steep_area</td>\n",
       "    </tr>\n",
       "  </tbody>\n",
       "</table>\n",
       "</div>"
      ],
      "text/plain": [
       "                     classes\n",
       "0  compact_urban_development\n",
       "1                      urban\n",
       "2    loose_urban_development\n",
       "3                wooded_area\n",
       "4                     grassy\n",
       "5                 loose_soil\n",
       "6                 steep_area"
      ]
     },
     "execution_count": 2,
     "metadata": {},
     "output_type": "execute_result"
    }
   ],
   "source": [
    "classes = pd.DataFrame(\n",
    "    data={\n",
    "        \"classes\": [\n",
    "            \"compact_urban_development\",\n",
    "            \"urban\",\n",
    "            \"loose_urban_development\",\n",
    "            \"wooded_area\",\n",
    "            \"grassy\",\n",
    "            \"loose_soil\",\n",
    "            \"steep_area\",\n",
    "        ]\n",
    "    }\n",
    ")\n",
    "classes"
   ]
  },
  {
   "attachments": {},
   "cell_type": "markdown",
   "metadata": {},
   "source": [
    "## Get files"
   ]
  },
  {
   "cell_type": "code",
   "execution_count": 3,
   "metadata": {},
   "outputs": [],
   "source": [
    "INP_FILE = \"dataset/subcatchment_dataset.inp\"\n",
    "RPT_FILE = \"dataset/subcatchment_dataset.inp\""
   ]
  },
  {
   "attachments": {},
   "cell_type": "markdown",
   "metadata": {},
   "source": [
    "## Run simulation"
   ]
  },
  {
   "cell_type": "code",
   "execution_count": 4,
   "metadata": {},
   "outputs": [],
   "source": [
    "with pyswmm.Simulation(INP_FILE) as sim:\n",
    "    for step in sim:\n",
    "        pass"
   ]
  },
  {
   "attachments": {},
   "cell_type": "markdown",
   "metadata": {},
   "source": [
    "## Read inp and rpt file as swmmio model object"
   ]
  },
  {
   "cell_type": "code",
   "execution_count": 5,
   "metadata": {},
   "outputs": [],
   "source": [
    "model = swmmio.Model(INP_FILE)"
   ]
  },
  {
   "attachments": {},
   "cell_type": "markdown",
   "metadata": {},
   "source": [
    "## Get subcatchments data from the model"
   ]
  },
  {
   "cell_type": "code",
   "execution_count": 6,
   "metadata": {},
   "outputs": [
    {
     "data": {
      "text/html": [
       "<div>\n",
       "<style scoped>\n",
       "    .dataframe tbody tr th:only-of-type {\n",
       "        vertical-align: middle;\n",
       "    }\n",
       "\n",
       "    .dataframe tbody tr th {\n",
       "        vertical-align: top;\n",
       "    }\n",
       "\n",
       "    .dataframe thead th {\n",
       "        text-align: right;\n",
       "    }\n",
       "</style>\n",
       "<table border=\"1\" class=\"dataframe\">\n",
       "  <thead>\n",
       "    <tr style=\"text-align: right;\">\n",
       "      <th></th>\n",
       "      <th>Raingage</th>\n",
       "      <th>Outlet</th>\n",
       "      <th>Area</th>\n",
       "      <th>PercImperv</th>\n",
       "      <th>Width</th>\n",
       "      <th>PercSlope</th>\n",
       "      <th>CurbLength</th>\n",
       "      <th>N-Imperv</th>\n",
       "      <th>N-Perv</th>\n",
       "      <th>S-Imperv</th>\n",
       "      <th>S-Perv</th>\n",
       "      <th>PctZero</th>\n",
       "      <th>RouteTo</th>\n",
       "      <th>TotalPrecip</th>\n",
       "      <th>TotalRunon</th>\n",
       "      <th>TotalEvap</th>\n",
       "      <th>TotalInfil</th>\n",
       "      <th>ImpervRunoff</th>\n",
       "      <th>PervRunoff</th>\n",
       "      <th>TotalRunoffIn</th>\n",
       "      <th>TotalRunoffMG</th>\n",
       "      <th>PeakRunoff</th>\n",
       "      <th>RunoffCoeff</th>\n",
       "      <th>coords</th>\n",
       "    </tr>\n",
       "    <tr>\n",
       "      <th>Name</th>\n",
       "      <th></th>\n",
       "      <th></th>\n",
       "      <th></th>\n",
       "      <th></th>\n",
       "      <th></th>\n",
       "      <th></th>\n",
       "      <th></th>\n",
       "      <th></th>\n",
       "      <th></th>\n",
       "      <th></th>\n",
       "      <th></th>\n",
       "      <th></th>\n",
       "      <th></th>\n",
       "      <th></th>\n",
       "      <th></th>\n",
       "      <th></th>\n",
       "      <th></th>\n",
       "      <th></th>\n",
       "      <th></th>\n",
       "      <th></th>\n",
       "      <th></th>\n",
       "      <th></th>\n",
       "      <th></th>\n",
       "      <th></th>\n",
       "    </tr>\n",
       "  </thead>\n",
       "  <tbody>\n",
       "    <tr>\n",
       "      <th>S1</th>\n",
       "      <td>Raingage2</td>\n",
       "      <td>O1</td>\n",
       "      <td>0.50</td>\n",
       "      <td>20.00</td>\n",
       "      <td>300.00</td>\n",
       "      <td>5.00</td>\n",
       "      <td>0</td>\n",
       "      <td>0.150</td>\n",
       "      <td>0.41</td>\n",
       "      <td>1.27</td>\n",
       "      <td>5.08</td>\n",
       "      <td>70</td>\n",
       "      <td>OUTLET</td>\n",
       "      <td>10.10</td>\n",
       "      <td>0.00</td>\n",
       "      <td>0.00</td>\n",
       "      <td>5.91</td>\n",
       "      <td>1.95</td>\n",
       "      <td>2.17</td>\n",
       "      <td>4.12</td>\n",
       "      <td>0.02</td>\n",
       "      <td>0.02</td>\n",
       "      <td>0.407</td>\n",
       "      <td>[(777180.0, 592590.0), (777180.0, 592585.0), (777175.0, 592585.0), (777175.0, 592590.0), (777180.0, 592590.0)]</td>\n",
       "    </tr>\n",
       "    <tr>\n",
       "      <th>S10</th>\n",
       "      <td>Raingage2</td>\n",
       "      <td>O1</td>\n",
       "      <td>1.87</td>\n",
       "      <td>45.00</td>\n",
       "      <td>136.75</td>\n",
       "      <td>15.00</td>\n",
       "      <td>0</td>\n",
       "      <td>0.013</td>\n",
       "      <td>0.15</td>\n",
       "      <td>1.27</td>\n",
       "      <td>5.08</td>\n",
       "      <td>90</td>\n",
       "      <td>OUTLET</td>\n",
       "      <td>10.10</td>\n",
       "      <td>0.00</td>\n",
       "      <td>0.00</td>\n",
       "      <td>4.13</td>\n",
       "      <td>4.50</td>\n",
       "      <td>1.43</td>\n",
       "      <td>5.93</td>\n",
       "      <td>0.11</td>\n",
       "      <td>0.09</td>\n",
       "      <td>0.587</td>\n",
       "      <td>NaN</td>\n",
       "    </tr>\n",
       "    <tr>\n",
       "      <th>S100</th>\n",
       "      <td>Raingage2</td>\n",
       "      <td>O1</td>\n",
       "      <td>1.71</td>\n",
       "      <td>45.00</td>\n",
       "      <td>130.77</td>\n",
       "      <td>10.00</td>\n",
       "      <td>0</td>\n",
       "      <td>0.013</td>\n",
       "      <td>0.15</td>\n",
       "      <td>1.27</td>\n",
       "      <td>5.08</td>\n",
       "      <td>90</td>\n",
       "      <td>OUTLET</td>\n",
       "      <td>10.10</td>\n",
       "      <td>0.00</td>\n",
       "      <td>0.00</td>\n",
       "      <td>4.18</td>\n",
       "      <td>4.50</td>\n",
       "      <td>1.38</td>\n",
       "      <td>5.87</td>\n",
       "      <td>0.10</td>\n",
       "      <td>0.08</td>\n",
       "      <td>0.581</td>\n",
       "      <td>NaN</td>\n",
       "    </tr>\n",
       "    <tr>\n",
       "      <th>S1000</th>\n",
       "      <td>Raingage2</td>\n",
       "      <td>O1</td>\n",
       "      <td>0.68</td>\n",
       "      <td>10.00</td>\n",
       "      <td>82.46</td>\n",
       "      <td>5.09</td>\n",
       "      <td>0</td>\n",
       "      <td>0.150</td>\n",
       "      <td>0.41</td>\n",
       "      <td>1.27</td>\n",
       "      <td>5.08</td>\n",
       "      <td>10</td>\n",
       "      <td>OUTLET</td>\n",
       "      <td>10.10</td>\n",
       "      <td>0.00</td>\n",
       "      <td>0.00</td>\n",
       "      <td>7.73</td>\n",
       "      <td>0.90</td>\n",
       "      <td>1.36</td>\n",
       "      <td>2.26</td>\n",
       "      <td>0.02</td>\n",
       "      <td>0.01</td>\n",
       "      <td>0.224</td>\n",
       "      <td>NaN</td>\n",
       "    </tr>\n",
       "    <tr>\n",
       "      <th>S1001</th>\n",
       "      <td>Raingage2</td>\n",
       "      <td>O1</td>\n",
       "      <td>0.26</td>\n",
       "      <td>83.33</td>\n",
       "      <td>50.99</td>\n",
       "      <td>45.00</td>\n",
       "      <td>0</td>\n",
       "      <td>0.013</td>\n",
       "      <td>0.05</td>\n",
       "      <td>1.27</td>\n",
       "      <td>5.08</td>\n",
       "      <td>80</td>\n",
       "      <td>OUTLET</td>\n",
       "      <td>10.10</td>\n",
       "      <td>0.00</td>\n",
       "      <td>0.00</td>\n",
       "      <td>1.04</td>\n",
       "      <td>8.23</td>\n",
       "      <td>0.65</td>\n",
       "      <td>8.88</td>\n",
       "      <td>0.02</td>\n",
       "      <td>0.02</td>\n",
       "      <td>0.879</td>\n",
       "      <td>NaN</td>\n",
       "    </tr>\n",
       "  </tbody>\n",
       "</table>\n",
       "</div>"
      ],
      "text/plain": [
       "        Raingage Outlet  Area  PercImperv   Width  PercSlope  CurbLength  N-Imperv  N-Perv  S-Imperv  S-Perv  PctZero RouteTo TotalPrecip TotalRunon TotalEvap TotalInfil  ImpervRunoff PervRunoff  TotalRunoffIn  TotalRunoffMG  PeakRunoff  RunoffCoeff                                                                                                          coords\n",
       "Name                                                                                                                                                                                                                                                                                                                                                                     \n",
       "S1     Raingage2     O1  0.50       20.00  300.00       5.00           0     0.150    0.41      1.27    5.08       70  OUTLET       10.10       0.00      0.00       5.91          1.95       2.17           4.12           0.02        0.02        0.407  [(777180.0, 592590.0), (777180.0, 592585.0), (777175.0, 592585.0), (777175.0, 592590.0), (777180.0, 592590.0)]\n",
       "S10    Raingage2     O1  1.87       45.00  136.75      15.00           0     0.013    0.15      1.27    5.08       90  OUTLET       10.10       0.00      0.00       4.13          4.50       1.43           5.93           0.11        0.09        0.587                                                                                                             NaN\n",
       "S100   Raingage2     O1  1.71       45.00  130.77      10.00           0     0.013    0.15      1.27    5.08       90  OUTLET       10.10       0.00      0.00       4.18          4.50       1.38           5.87           0.10        0.08        0.581                                                                                                             NaN\n",
       "S1000  Raingage2     O1  0.68       10.00   82.46       5.09           0     0.150    0.41      1.27    5.08       10  OUTLET       10.10       0.00      0.00       7.73          0.90       1.36           2.26           0.02        0.01        0.224                                                                                                             NaN\n",
       "S1001  Raingage2     O1  0.26       83.33   50.99      45.00           0     0.013    0.05      1.27    5.08       80  OUTLET       10.10       0.00      0.00       1.04          8.23       0.65           8.88           0.02        0.02        0.879                                                                                                             NaN"
      ]
     },
     "execution_count": 6,
     "metadata": {},
     "output_type": "execute_result"
    }
   ],
   "source": [
    "raw_subcatchments = model.subcatchments.dataframe\n",
    "subcatchments = raw_subcatchments.copy()\n",
    "subcatchments[:5]"
   ]
  },
  {
   "attachments": {},
   "cell_type": "markdown",
   "metadata": {},
   "source": [
    "## Drop unused columns"
   ]
  },
  {
   "cell_type": "code",
   "execution_count": 7,
   "metadata": {},
   "outputs": [
    {
     "data": {
      "text/plain": [
       "Index(['Raingage', 'Outlet', 'Area', 'PercImperv', 'Width', 'PercSlope', 'CurbLength', 'N-Imperv', 'N-Perv', 'S-Imperv', 'S-Perv', 'PctZero', 'RouteTo', 'TotalPrecip', 'TotalRunon', 'TotalEvap', 'TotalInfil', 'ImpervRunoff', 'PervRunoff', 'TotalRunoffIn', 'TotalRunoffMG', 'PeakRunoff', 'RunoffCoeff', 'coords'], dtype='object')"
      ]
     },
     "execution_count": 7,
     "metadata": {},
     "output_type": "execute_result"
    }
   ],
   "source": [
    "subcatchments.columns"
   ]
  },
  {
   "cell_type": "code",
   "execution_count": 8,
   "metadata": {},
   "outputs": [
    {
     "data": {
      "text/html": [
       "<div>\n",
       "<style scoped>\n",
       "    .dataframe tbody tr th:only-of-type {\n",
       "        vertical-align: middle;\n",
       "    }\n",
       "\n",
       "    .dataframe tbody tr th {\n",
       "        vertical-align: top;\n",
       "    }\n",
       "\n",
       "    .dataframe thead th {\n",
       "        text-align: right;\n",
       "    }\n",
       "</style>\n",
       "<table border=\"1\" class=\"dataframe\">\n",
       "  <thead>\n",
       "    <tr style=\"text-align: right;\">\n",
       "      <th></th>\n",
       "      <th>Area</th>\n",
       "      <th>TotalPrecip</th>\n",
       "      <th>TotalRunon</th>\n",
       "      <th>TotalEvap</th>\n",
       "      <th>TotalInfil</th>\n",
       "      <th>ImpervRunoff</th>\n",
       "      <th>PervRunoff</th>\n",
       "      <th>TotalRunoffIn</th>\n",
       "      <th>TotalRunoffMG</th>\n",
       "      <th>PeakRunoff</th>\n",
       "      <th>RunoffCoeff</th>\n",
       "    </tr>\n",
       "    <tr>\n",
       "      <th>Name</th>\n",
       "      <th></th>\n",
       "      <th></th>\n",
       "      <th></th>\n",
       "      <th></th>\n",
       "      <th></th>\n",
       "      <th></th>\n",
       "      <th></th>\n",
       "      <th></th>\n",
       "      <th></th>\n",
       "      <th></th>\n",
       "      <th></th>\n",
       "    </tr>\n",
       "  </thead>\n",
       "  <tbody>\n",
       "    <tr>\n",
       "      <th>S1</th>\n",
       "      <td>0.50</td>\n",
       "      <td>10.10</td>\n",
       "      <td>0.00</td>\n",
       "      <td>0.00</td>\n",
       "      <td>5.91</td>\n",
       "      <td>1.95</td>\n",
       "      <td>2.17</td>\n",
       "      <td>4.12</td>\n",
       "      <td>0.02</td>\n",
       "      <td>0.02</td>\n",
       "      <td>0.407</td>\n",
       "    </tr>\n",
       "    <tr>\n",
       "      <th>S10</th>\n",
       "      <td>1.87</td>\n",
       "      <td>10.10</td>\n",
       "      <td>0.00</td>\n",
       "      <td>0.00</td>\n",
       "      <td>4.13</td>\n",
       "      <td>4.50</td>\n",
       "      <td>1.43</td>\n",
       "      <td>5.93</td>\n",
       "      <td>0.11</td>\n",
       "      <td>0.09</td>\n",
       "      <td>0.587</td>\n",
       "    </tr>\n",
       "    <tr>\n",
       "      <th>S100</th>\n",
       "      <td>1.71</td>\n",
       "      <td>10.10</td>\n",
       "      <td>0.00</td>\n",
       "      <td>0.00</td>\n",
       "      <td>4.18</td>\n",
       "      <td>4.50</td>\n",
       "      <td>1.38</td>\n",
       "      <td>5.87</td>\n",
       "      <td>0.10</td>\n",
       "      <td>0.08</td>\n",
       "      <td>0.581</td>\n",
       "    </tr>\n",
       "    <tr>\n",
       "      <th>S1000</th>\n",
       "      <td>0.68</td>\n",
       "      <td>10.10</td>\n",
       "      <td>0.00</td>\n",
       "      <td>0.00</td>\n",
       "      <td>7.73</td>\n",
       "      <td>0.90</td>\n",
       "      <td>1.36</td>\n",
       "      <td>2.26</td>\n",
       "      <td>0.02</td>\n",
       "      <td>0.01</td>\n",
       "      <td>0.224</td>\n",
       "    </tr>\n",
       "    <tr>\n",
       "      <th>S1001</th>\n",
       "      <td>0.26</td>\n",
       "      <td>10.10</td>\n",
       "      <td>0.00</td>\n",
       "      <td>0.00</td>\n",
       "      <td>1.04</td>\n",
       "      <td>8.23</td>\n",
       "      <td>0.65</td>\n",
       "      <td>8.88</td>\n",
       "      <td>0.02</td>\n",
       "      <td>0.02</td>\n",
       "      <td>0.879</td>\n",
       "    </tr>\n",
       "    <tr>\n",
       "      <th>...</th>\n",
       "      <td>...</td>\n",
       "      <td>...</td>\n",
       "      <td>...</td>\n",
       "      <td>...</td>\n",
       "      <td>...</td>\n",
       "      <td>...</td>\n",
       "      <td>...</td>\n",
       "      <td>...</td>\n",
       "      <td>...</td>\n",
       "      <td>...</td>\n",
       "      <td>...</td>\n",
       "    </tr>\n",
       "    <tr>\n",
       "      <th>S995</th>\n",
       "      <td>1.10</td>\n",
       "      <td>10.10</td>\n",
       "      <td>0.00</td>\n",
       "      <td>0.00</td>\n",
       "      <td>7.53</td>\n",
       "      <td>0.90</td>\n",
       "      <td>1.56</td>\n",
       "      <td>2.46</td>\n",
       "      <td>0.03</td>\n",
       "      <td>0.02</td>\n",
       "      <td>0.243</td>\n",
       "    </tr>\n",
       "    <tr>\n",
       "      <th>S996</th>\n",
       "      <td>1.89</td>\n",
       "      <td>10.10</td>\n",
       "      <td>0.00</td>\n",
       "      <td>0.00</td>\n",
       "      <td>7.55</td>\n",
       "      <td>0.46</td>\n",
       "      <td>2.04</td>\n",
       "      <td>2.49</td>\n",
       "      <td>0.05</td>\n",
       "      <td>0.03</td>\n",
       "      <td>0.247</td>\n",
       "    </tr>\n",
       "    <tr>\n",
       "      <th>S997</th>\n",
       "      <td>1.19</td>\n",
       "      <td>10.10</td>\n",
       "      <td>0.00</td>\n",
       "      <td>0.00</td>\n",
       "      <td>7.91</td>\n",
       "      <td>0.90</td>\n",
       "      <td>1.18</td>\n",
       "      <td>2.08</td>\n",
       "      <td>0.02</td>\n",
       "      <td>0.01</td>\n",
       "      <td>0.206</td>\n",
       "    </tr>\n",
       "    <tr>\n",
       "      <th>S998</th>\n",
       "      <td>0.05</td>\n",
       "      <td>10.10</td>\n",
       "      <td>0.00</td>\n",
       "      <td>0.00</td>\n",
       "      <td>2.18</td>\n",
       "      <td>6.43</td>\n",
       "      <td>1.37</td>\n",
       "      <td>7.81</td>\n",
       "      <td>0.00</td>\n",
       "      <td>0.00</td>\n",
       "      <td>0.773</td>\n",
       "    </tr>\n",
       "    <tr>\n",
       "      <th>S999</th>\n",
       "      <td>0.66</td>\n",
       "      <td>10.10</td>\n",
       "      <td>0.00</td>\n",
       "      <td>0.00</td>\n",
       "      <td>5.43</td>\n",
       "      <td>2.96</td>\n",
       "      <td>1.64</td>\n",
       "      <td>4.60</td>\n",
       "      <td>0.03</td>\n",
       "      <td>0.02</td>\n",
       "      <td>0.456</td>\n",
       "    </tr>\n",
       "  </tbody>\n",
       "</table>\n",
       "<p>1001 rows × 11 columns</p>\n",
       "</div>"
      ],
      "text/plain": [
       "       Area TotalPrecip TotalRunon TotalEvap TotalInfil  ImpervRunoff PervRunoff  TotalRunoffIn  TotalRunoffMG  PeakRunoff  RunoffCoeff\n",
       "Name                                                                                                                                   \n",
       "S1     0.50       10.10       0.00      0.00       5.91          1.95       2.17           4.12           0.02        0.02        0.407\n",
       "S10    1.87       10.10       0.00      0.00       4.13          4.50       1.43           5.93           0.11        0.09        0.587\n",
       "S100   1.71       10.10       0.00      0.00       4.18          4.50       1.38           5.87           0.10        0.08        0.581\n",
       "S1000  0.68       10.10       0.00      0.00       7.73          0.90       1.36           2.26           0.02        0.01        0.224\n",
       "S1001  0.26       10.10       0.00      0.00       1.04          8.23       0.65           8.88           0.02        0.02        0.879\n",
       "...     ...         ...        ...       ...        ...           ...        ...            ...            ...         ...          ...\n",
       "S995   1.10       10.10       0.00      0.00       7.53          0.90       1.56           2.46           0.03        0.02        0.243\n",
       "S996   1.89       10.10       0.00      0.00       7.55          0.46       2.04           2.49           0.05        0.03        0.247\n",
       "S997   1.19       10.10       0.00      0.00       7.91          0.90       1.18           2.08           0.02        0.01        0.206\n",
       "S998   0.05       10.10       0.00      0.00       2.18          6.43       1.37           7.81           0.00        0.00        0.773\n",
       "S999   0.66       10.10       0.00      0.00       5.43          2.96       1.64           4.60           0.03        0.02        0.456\n",
       "\n",
       "[1001 rows x 11 columns]"
      ]
     },
     "execution_count": 8,
     "metadata": {},
     "output_type": "execute_result"
    }
   ],
   "source": [
    "subcatchments.drop(['Raingage',  'Outlet', 'PercImperv', 'Width', 'PercSlope', 'CurbLength', 'N-Imperv', 'N-Perv', 'S-Imperv', 'S-Perv', 'PctZero', 'RouteTo', 'coords'], axis=1, inplace=True)\n",
    "subcatchments"
   ]
  },
  {
   "attachments": {},
   "cell_type": "markdown",
   "metadata": {},
   "source": [
    "## Get categories"
   ]
  },
  {
   "cell_type": "code",
   "execution_count": 9,
   "metadata": {},
   "outputs": [
    {
     "data": {
      "text/html": [
       "<div>\n",
       "<style scoped>\n",
       "    .dataframe tbody tr th:only-of-type {\n",
       "        vertical-align: middle;\n",
       "    }\n",
       "\n",
       "    .dataframe tbody tr th {\n",
       "        vertical-align: top;\n",
       "    }\n",
       "\n",
       "    .dataframe thead th {\n",
       "        text-align: right;\n",
       "    }\n",
       "</style>\n",
       "<table border=\"1\" class=\"dataframe\">\n",
       "  <thead>\n",
       "    <tr style=\"text-align: right;\">\n",
       "      <th></th>\n",
       "      <th>Name</th>\n",
       "      <th>Tag</th>\n",
       "    </tr>\n",
       "    <tr>\n",
       "      <th>ElementType</th>\n",
       "      <th></th>\n",
       "      <th></th>\n",
       "    </tr>\n",
       "  </thead>\n",
       "  <tbody>\n",
       "    <tr>\n",
       "      <th>Subcatch</th>\n",
       "      <td>S1</td>\n",
       "      <td>#comment</td>\n",
       "    </tr>\n",
       "    <tr>\n",
       "      <th>Subcatch</th>\n",
       "      <td>S2</td>\n",
       "      <td>compact_urban_development</td>\n",
       "    </tr>\n",
       "    <tr>\n",
       "      <th>Subcatch</th>\n",
       "      <td>S3</td>\n",
       "      <td>loose_soil</td>\n",
       "    </tr>\n",
       "    <tr>\n",
       "      <th>Subcatch</th>\n",
       "      <td>S4</td>\n",
       "      <td>wooded_area</td>\n",
       "    </tr>\n",
       "    <tr>\n",
       "      <th>Subcatch</th>\n",
       "      <td>S5</td>\n",
       "      <td>loose_urban_development</td>\n",
       "    </tr>\n",
       "    <tr>\n",
       "      <th>...</th>\n",
       "      <td>...</td>\n",
       "      <td>...</td>\n",
       "    </tr>\n",
       "    <tr>\n",
       "      <th>Subcatch</th>\n",
       "      <td>S997</td>\n",
       "      <td>grassy</td>\n",
       "    </tr>\n",
       "    <tr>\n",
       "      <th>Subcatch</th>\n",
       "      <td>S998</td>\n",
       "      <td>steep_area</td>\n",
       "    </tr>\n",
       "    <tr>\n",
       "      <th>Subcatch</th>\n",
       "      <td>S999</td>\n",
       "      <td>urban</td>\n",
       "    </tr>\n",
       "    <tr>\n",
       "      <th>Subcatch</th>\n",
       "      <td>S1000</td>\n",
       "      <td>grassy</td>\n",
       "    </tr>\n",
       "    <tr>\n",
       "      <th>Subcatch</th>\n",
       "      <td>S1001</td>\n",
       "      <td>steep_area</td>\n",
       "    </tr>\n",
       "  </tbody>\n",
       "</table>\n",
       "<p>1001 rows × 2 columns</p>\n",
       "</div>"
      ],
      "text/plain": [
       "              Name                        Tag\n",
       "ElementType                                  \n",
       "Subcatch        S1                   #comment\n",
       "Subcatch        S2  compact_urban_development\n",
       "Subcatch        S3                 loose_soil\n",
       "Subcatch        S4                wooded_area\n",
       "Subcatch        S5    loose_urban_development\n",
       "...            ...                        ...\n",
       "Subcatch      S997                     grassy\n",
       "Subcatch      S998                 steep_area\n",
       "Subcatch      S999                      urban\n",
       "Subcatch     S1000                     grassy\n",
       "Subcatch     S1001                 steep_area\n",
       "\n",
       "[1001 rows x 2 columns]"
      ]
     },
     "execution_count": 9,
     "metadata": {},
     "output_type": "execute_result"
    }
   ],
   "source": [
    "# print([attr for attr in dir(model.inp) if not attr.startswith(\"_\")])\n",
    "categories = model.inp.tags\n",
    "categories"
   ]
  },
  {
   "attachments": {},
   "cell_type": "markdown",
   "metadata": {},
   "source": [
    "### Add categories column to subcatchments DataFrame"
   ]
  },
  {
   "cell_type": "code",
   "execution_count": 10,
   "metadata": {},
   "outputs": [],
   "source": [
    "# Reset the index of subcatchments DataFrame\n",
    "subcatchments.reset_index(inplace=True)\n",
    "\n",
    "# Merge the two DataFrames on the \"Name\" column\n",
    "merged_df = subcatchments.merge(model.inp.tags, left_on=\"Name\", right_on=\"Name\", how=\"left\")\n",
    "\n",
    "# Rename the 'Tag' column to 'categories'\n",
    "merged_df.rename(columns={\"Tag\": \"categories\"}, inplace=True)\n",
    "\n",
    "# Set the index back to \"Name\"\n",
    "merged_df.set_index(\"Name\", inplace=True)"
   ]
  },
  {
   "cell_type": "code",
   "execution_count": 11,
   "metadata": {},
   "outputs": [
    {
     "data": {
      "text/html": [
       "<div>\n",
       "<style scoped>\n",
       "    .dataframe tbody tr th:only-of-type {\n",
       "        vertical-align: middle;\n",
       "    }\n",
       "\n",
       "    .dataframe tbody tr th {\n",
       "        vertical-align: top;\n",
       "    }\n",
       "\n",
       "    .dataframe thead th {\n",
       "        text-align: right;\n",
       "    }\n",
       "</style>\n",
       "<table border=\"1\" class=\"dataframe\">\n",
       "  <thead>\n",
       "    <tr style=\"text-align: right;\">\n",
       "      <th></th>\n",
       "      <th>Area</th>\n",
       "      <th>TotalPrecip</th>\n",
       "      <th>TotalRunon</th>\n",
       "      <th>TotalEvap</th>\n",
       "      <th>TotalInfil</th>\n",
       "      <th>ImpervRunoff</th>\n",
       "      <th>PervRunoff</th>\n",
       "      <th>TotalRunoffIn</th>\n",
       "      <th>TotalRunoffMG</th>\n",
       "      <th>PeakRunoff</th>\n",
       "      <th>RunoffCoeff</th>\n",
       "      <th>categories</th>\n",
       "    </tr>\n",
       "    <tr>\n",
       "      <th>Name</th>\n",
       "      <th></th>\n",
       "      <th></th>\n",
       "      <th></th>\n",
       "      <th></th>\n",
       "      <th></th>\n",
       "      <th></th>\n",
       "      <th></th>\n",
       "      <th></th>\n",
       "      <th></th>\n",
       "      <th></th>\n",
       "      <th></th>\n",
       "      <th></th>\n",
       "    </tr>\n",
       "  </thead>\n",
       "  <tbody>\n",
       "    <tr>\n",
       "      <th>S1</th>\n",
       "      <td>0.50</td>\n",
       "      <td>10.10</td>\n",
       "      <td>0.00</td>\n",
       "      <td>0.00</td>\n",
       "      <td>5.91</td>\n",
       "      <td>1.95</td>\n",
       "      <td>2.17</td>\n",
       "      <td>4.12</td>\n",
       "      <td>0.02</td>\n",
       "      <td>0.02</td>\n",
       "      <td>0.407</td>\n",
       "      <td>#comment</td>\n",
       "    </tr>\n",
       "    <tr>\n",
       "      <th>S10</th>\n",
       "      <td>1.87</td>\n",
       "      <td>10.10</td>\n",
       "      <td>0.00</td>\n",
       "      <td>0.00</td>\n",
       "      <td>4.13</td>\n",
       "      <td>4.50</td>\n",
       "      <td>1.43</td>\n",
       "      <td>5.93</td>\n",
       "      <td>0.11</td>\n",
       "      <td>0.09</td>\n",
       "      <td>0.587</td>\n",
       "      <td>compact_urban_development</td>\n",
       "    </tr>\n",
       "    <tr>\n",
       "      <th>S100</th>\n",
       "      <td>1.71</td>\n",
       "      <td>10.10</td>\n",
       "      <td>0.00</td>\n",
       "      <td>0.00</td>\n",
       "      <td>4.18</td>\n",
       "      <td>4.50</td>\n",
       "      <td>1.38</td>\n",
       "      <td>5.87</td>\n",
       "      <td>0.10</td>\n",
       "      <td>0.08</td>\n",
       "      <td>0.581</td>\n",
       "      <td>compact_urban_development</td>\n",
       "    </tr>\n",
       "  </tbody>\n",
       "</table>\n",
       "</div>"
      ],
      "text/plain": [
       "      Area TotalPrecip TotalRunon TotalEvap TotalInfil  ImpervRunoff PervRunoff  TotalRunoffIn  TotalRunoffMG  PeakRunoff  RunoffCoeff                 categories\n",
       "Name                                                                                                                                                             \n",
       "S1    0.50       10.10       0.00      0.00       5.91          1.95       2.17           4.12           0.02        0.02        0.407                   #comment\n",
       "S10   1.87       10.10       0.00      0.00       4.13          4.50       1.43           5.93           0.11        0.09        0.587  compact_urban_development\n",
       "S100  1.71       10.10       0.00      0.00       4.18          4.50       1.38           5.87           0.10        0.08        0.581  compact_urban_development"
      ]
     },
     "execution_count": 11,
     "metadata": {},
     "output_type": "execute_result"
    }
   ],
   "source": [
    "merged_df[:3]"
   ]
  },
  {
   "attachments": {},
   "cell_type": "markdown",
   "metadata": {},
   "source": [
    "# Split data into features and target"
   ]
  },
  {
   "cell_type": "code",
   "execution_count": 12,
   "metadata": {},
   "outputs": [
    {
     "name": "stdout",
     "output_type": "stream",
     "text": [
      "(1001, 11) (1001,)\n"
     ]
    }
   ],
   "source": [
    "X = merged_df.drop(\"categories\", axis=1)\n",
    "y = merged_df[\"categories\"]\n",
    "\n",
    "print(X.shape, y.shape)"
   ]
  },
  {
   "cell_type": "code",
   "execution_count": 13,
   "metadata": {},
   "outputs": [
    {
     "name": "stdout",
     "output_type": "stream",
     "text": [
      "<class 'pandas.core.frame.DataFrame'>\n",
      "Index: 1001 entries, S1 to S999\n",
      "Data columns (total 11 columns):\n",
      " #   Column         Non-Null Count  Dtype  \n",
      "---  ------         --------------  -----  \n",
      " 0   Area           1001 non-null   float64\n",
      " 1   TotalPrecip    1001 non-null   object \n",
      " 2   TotalRunon     1001 non-null   object \n",
      " 3   TotalEvap      1001 non-null   object \n",
      " 4   TotalInfil     1001 non-null   object \n",
      " 5   ImpervRunoff   1001 non-null   float64\n",
      " 6   PervRunoff     1001 non-null   object \n",
      " 7   TotalRunoffIn  1001 non-null   float64\n",
      " 8   TotalRunoffMG  1001 non-null   float64\n",
      " 9   PeakRunoff     1001 non-null   float64\n",
      " 10  RunoffCoeff    1001 non-null   float64\n",
      "dtypes: float64(6), object(5)\n",
      "memory usage: 93.8+ KB\n"
     ]
    }
   ],
   "source": [
    "X.info()"
   ]
  },
  {
   "cell_type": "code",
   "execution_count": 14,
   "metadata": {},
   "outputs": [],
   "source": [
    "X[\"TotalPrecip\"] = pd.to_numeric(X[\"TotalPrecip\"])\n",
    "X[\"TotalRunon\"] = pd.to_numeric(X[\"TotalRunon\"])\n",
    "X[\"TotalEvap\"] = pd.to_numeric(X[\"TotalEvap\"])\n",
    "X[\"TotalInfil\"] = pd.to_numeric(X[\"TotalInfil\"])\n",
    "X[\"PervRunoff\"] = pd.to_numeric(X[\"PervRunoff\"])"
   ]
  },
  {
   "cell_type": "code",
   "execution_count": 15,
   "metadata": {},
   "outputs": [
    {
     "name": "stdout",
     "output_type": "stream",
     "text": [
      "<class 'pandas.core.frame.DataFrame'>\n",
      "Index: 1001 entries, S1 to S999\n",
      "Data columns (total 11 columns):\n",
      " #   Column         Non-Null Count  Dtype  \n",
      "---  ------         --------------  -----  \n",
      " 0   Area           1001 non-null   float64\n",
      " 1   TotalPrecip    1001 non-null   float64\n",
      " 2   TotalRunon     1001 non-null   float64\n",
      " 3   TotalEvap      1001 non-null   float64\n",
      " 4   TotalInfil     1001 non-null   float64\n",
      " 5   ImpervRunoff   1001 non-null   float64\n",
      " 6   PervRunoff     1001 non-null   float64\n",
      " 7   TotalRunoffIn  1001 non-null   float64\n",
      " 8   TotalRunoffMG  1001 non-null   float64\n",
      " 9   PeakRunoff     1001 non-null   float64\n",
      " 10  RunoffCoeff    1001 non-null   float64\n",
      "dtypes: float64(11)\n",
      "memory usage: 93.8+ KB\n"
     ]
    }
   ],
   "source": [
    "X.info()"
   ]
  },
  {
   "cell_type": "code",
   "execution_count": 16,
   "metadata": {},
   "outputs": [],
   "source": [
    "X = pd.get_dummies(X, drop_first=True)"
   ]
  },
  {
   "cell_type": "code",
   "execution_count": 17,
   "metadata": {},
   "outputs": [
    {
     "data": {
      "text/html": [
       "<div>\n",
       "<style scoped>\n",
       "    .dataframe tbody tr th:only-of-type {\n",
       "        vertical-align: middle;\n",
       "    }\n",
       "\n",
       "    .dataframe tbody tr th {\n",
       "        vertical-align: top;\n",
       "    }\n",
       "\n",
       "    .dataframe thead th {\n",
       "        text-align: right;\n",
       "    }\n",
       "</style>\n",
       "<table border=\"1\" class=\"dataframe\">\n",
       "  <thead>\n",
       "    <tr style=\"text-align: right;\">\n",
       "      <th></th>\n",
       "      <th>Area</th>\n",
       "      <th>TotalPrecip</th>\n",
       "      <th>TotalRunon</th>\n",
       "      <th>TotalEvap</th>\n",
       "      <th>TotalInfil</th>\n",
       "      <th>ImpervRunoff</th>\n",
       "      <th>PervRunoff</th>\n",
       "      <th>TotalRunoffIn</th>\n",
       "      <th>TotalRunoffMG</th>\n",
       "      <th>PeakRunoff</th>\n",
       "      <th>RunoffCoeff</th>\n",
       "    </tr>\n",
       "    <tr>\n",
       "      <th>Name</th>\n",
       "      <th></th>\n",
       "      <th></th>\n",
       "      <th></th>\n",
       "      <th></th>\n",
       "      <th></th>\n",
       "      <th></th>\n",
       "      <th></th>\n",
       "      <th></th>\n",
       "      <th></th>\n",
       "      <th></th>\n",
       "      <th></th>\n",
       "    </tr>\n",
       "  </thead>\n",
       "  <tbody>\n",
       "    <tr>\n",
       "      <th>S1</th>\n",
       "      <td>0.50</td>\n",
       "      <td>10.1</td>\n",
       "      <td>0.0</td>\n",
       "      <td>0.0</td>\n",
       "      <td>5.91</td>\n",
       "      <td>1.95</td>\n",
       "      <td>2.17</td>\n",
       "      <td>4.12</td>\n",
       "      <td>0.02</td>\n",
       "      <td>0.02</td>\n",
       "      <td>0.407</td>\n",
       "    </tr>\n",
       "    <tr>\n",
       "      <th>S10</th>\n",
       "      <td>1.87</td>\n",
       "      <td>10.1</td>\n",
       "      <td>0.0</td>\n",
       "      <td>0.0</td>\n",
       "      <td>4.13</td>\n",
       "      <td>4.50</td>\n",
       "      <td>1.43</td>\n",
       "      <td>5.93</td>\n",
       "      <td>0.11</td>\n",
       "      <td>0.09</td>\n",
       "      <td>0.587</td>\n",
       "    </tr>\n",
       "    <tr>\n",
       "      <th>S100</th>\n",
       "      <td>1.71</td>\n",
       "      <td>10.1</td>\n",
       "      <td>0.0</td>\n",
       "      <td>0.0</td>\n",
       "      <td>4.18</td>\n",
       "      <td>4.50</td>\n",
       "      <td>1.38</td>\n",
       "      <td>5.87</td>\n",
       "      <td>0.10</td>\n",
       "      <td>0.08</td>\n",
       "      <td>0.581</td>\n",
       "    </tr>\n",
       "    <tr>\n",
       "      <th>S1000</th>\n",
       "      <td>0.68</td>\n",
       "      <td>10.1</td>\n",
       "      <td>0.0</td>\n",
       "      <td>0.0</td>\n",
       "      <td>7.73</td>\n",
       "      <td>0.90</td>\n",
       "      <td>1.36</td>\n",
       "      <td>2.26</td>\n",
       "      <td>0.02</td>\n",
       "      <td>0.01</td>\n",
       "      <td>0.224</td>\n",
       "    </tr>\n",
       "    <tr>\n",
       "      <th>S1001</th>\n",
       "      <td>0.26</td>\n",
       "      <td>10.1</td>\n",
       "      <td>0.0</td>\n",
       "      <td>0.0</td>\n",
       "      <td>1.04</td>\n",
       "      <td>8.23</td>\n",
       "      <td>0.65</td>\n",
       "      <td>8.88</td>\n",
       "      <td>0.02</td>\n",
       "      <td>0.02</td>\n",
       "      <td>0.879</td>\n",
       "    </tr>\n",
       "  </tbody>\n",
       "</table>\n",
       "</div>"
      ],
      "text/plain": [
       "       Area  TotalPrecip  TotalRunon  TotalEvap  TotalInfil  ImpervRunoff  PervRunoff  TotalRunoffIn  TotalRunoffMG  PeakRunoff  RunoffCoeff\n",
       "Name                                                                                                                                        \n",
       "S1     0.50         10.1         0.0        0.0        5.91          1.95        2.17           4.12           0.02        0.02        0.407\n",
       "S10    1.87         10.1         0.0        0.0        4.13          4.50        1.43           5.93           0.11        0.09        0.587\n",
       "S100   1.71         10.1         0.0        0.0        4.18          4.50        1.38           5.87           0.10        0.08        0.581\n",
       "S1000  0.68         10.1         0.0        0.0        7.73          0.90        1.36           2.26           0.02        0.01        0.224\n",
       "S1001  0.26         10.1         0.0        0.0        1.04          8.23        0.65           8.88           0.02        0.02        0.879"
      ]
     },
     "execution_count": 17,
     "metadata": {},
     "output_type": "execute_result"
    }
   ],
   "source": [
    "X.head()"
   ]
  },
  {
   "attachments": {},
   "cell_type": "markdown",
   "metadata": {},
   "source": [
    "## Data standarization"
   ]
  },
  {
   "cell_type": "code",
   "execution_count": 18,
   "metadata": {},
   "outputs": [],
   "source": [
    "scaler = MinMaxScaler()\n",
    "X_normalized = scaler.fit_transform(X)\n",
    "X_normalized_df = pd.DataFrame(X_normalized, columns=X.columns, index=X.index)"
   ]
  },
  {
   "cell_type": "code",
   "execution_count": 19,
   "metadata": {},
   "outputs": [
    {
     "data": {
      "text/html": [
       "<div>\n",
       "<style scoped>\n",
       "    .dataframe tbody tr th:only-of-type {\n",
       "        vertical-align: middle;\n",
       "    }\n",
       "\n",
       "    .dataframe tbody tr th {\n",
       "        vertical-align: top;\n",
       "    }\n",
       "\n",
       "    .dataframe thead th {\n",
       "        text-align: right;\n",
       "    }\n",
       "</style>\n",
       "<table border=\"1\" class=\"dataframe\">\n",
       "  <thead>\n",
       "    <tr style=\"text-align: right;\">\n",
       "      <th></th>\n",
       "      <th>Area</th>\n",
       "      <th>TotalPrecip</th>\n",
       "      <th>TotalRunon</th>\n",
       "      <th>TotalEvap</th>\n",
       "      <th>TotalInfil</th>\n",
       "      <th>ImpervRunoff</th>\n",
       "      <th>PervRunoff</th>\n",
       "      <th>TotalRunoffIn</th>\n",
       "      <th>TotalRunoffMG</th>\n",
       "      <th>PeakRunoff</th>\n",
       "      <th>RunoffCoeff</th>\n",
       "    </tr>\n",
       "    <tr>\n",
       "      <th>Name</th>\n",
       "      <th></th>\n",
       "      <th></th>\n",
       "      <th></th>\n",
       "      <th></th>\n",
       "      <th></th>\n",
       "      <th></th>\n",
       "      <th></th>\n",
       "      <th></th>\n",
       "      <th></th>\n",
       "      <th></th>\n",
       "      <th></th>\n",
       "    </tr>\n",
       "  </thead>\n",
       "  <tbody>\n",
       "    <tr>\n",
       "      <th>S1</th>\n",
       "      <td>0.246231</td>\n",
       "      <td>0.0</td>\n",
       "      <td>0.0</td>\n",
       "      <td>0.0</td>\n",
       "      <td>0.608479</td>\n",
       "      <td>0.216687</td>\n",
       "      <td>0.683871</td>\n",
       "      <td>0.392630</td>\n",
       "      <td>0.111111</td>\n",
       "      <td>0.142857</td>\n",
       "      <td>0.391528</td>\n",
       "    </tr>\n",
       "    <tr>\n",
       "      <th>S10</th>\n",
       "      <td>0.934673</td>\n",
       "      <td>0.0</td>\n",
       "      <td>0.0</td>\n",
       "      <td>0.0</td>\n",
       "      <td>0.386534</td>\n",
       "      <td>0.534247</td>\n",
       "      <td>0.445161</td>\n",
       "      <td>0.622618</td>\n",
       "      <td>0.611111</td>\n",
       "      <td>0.642857</td>\n",
       "      <td>0.622593</td>\n",
       "    </tr>\n",
       "    <tr>\n",
       "      <th>S100</th>\n",
       "      <td>0.854271</td>\n",
       "      <td>0.0</td>\n",
       "      <td>0.0</td>\n",
       "      <td>0.0</td>\n",
       "      <td>0.392768</td>\n",
       "      <td>0.534247</td>\n",
       "      <td>0.429032</td>\n",
       "      <td>0.614994</td>\n",
       "      <td>0.555556</td>\n",
       "      <td>0.571429</td>\n",
       "      <td>0.614891</td>\n",
       "    </tr>\n",
       "    <tr>\n",
       "      <th>S1000</th>\n",
       "      <td>0.336683</td>\n",
       "      <td>0.0</td>\n",
       "      <td>0.0</td>\n",
       "      <td>0.0</td>\n",
       "      <td>0.835411</td>\n",
       "      <td>0.085928</td>\n",
       "      <td>0.422581</td>\n",
       "      <td>0.156290</td>\n",
       "      <td>0.111111</td>\n",
       "      <td>0.071429</td>\n",
       "      <td>0.156611</td>\n",
       "    </tr>\n",
       "    <tr>\n",
       "      <th>S1001</th>\n",
       "      <td>0.125628</td>\n",
       "      <td>0.0</td>\n",
       "      <td>0.0</td>\n",
       "      <td>0.0</td>\n",
       "      <td>0.001247</td>\n",
       "      <td>0.998755</td>\n",
       "      <td>0.193548</td>\n",
       "      <td>0.997459</td>\n",
       "      <td>0.111111</td>\n",
       "      <td>0.142857</td>\n",
       "      <td>0.997433</td>\n",
       "    </tr>\n",
       "  </tbody>\n",
       "</table>\n",
       "</div>"
      ],
      "text/plain": [
       "           Area  TotalPrecip  TotalRunon  TotalEvap  TotalInfil  ImpervRunoff  PervRunoff  TotalRunoffIn  TotalRunoffMG  PeakRunoff  RunoffCoeff\n",
       "Name                                                                                                                                            \n",
       "S1     0.246231          0.0         0.0        0.0    0.608479      0.216687    0.683871       0.392630       0.111111    0.142857     0.391528\n",
       "S10    0.934673          0.0         0.0        0.0    0.386534      0.534247    0.445161       0.622618       0.611111    0.642857     0.622593\n",
       "S100   0.854271          0.0         0.0        0.0    0.392768      0.534247    0.429032       0.614994       0.555556    0.571429     0.614891\n",
       "S1000  0.336683          0.0         0.0        0.0    0.835411      0.085928    0.422581       0.156290       0.111111    0.071429     0.156611\n",
       "S1001  0.125628          0.0         0.0        0.0    0.001247      0.998755    0.193548       0.997459       0.111111    0.142857     0.997433"
      ]
     },
     "execution_count": 19,
     "metadata": {},
     "output_type": "execute_result"
    }
   ],
   "source": [
    "X_normalized_df.head()"
   ]
  },
  {
   "attachments": {},
   "cell_type": "markdown",
   "metadata": {},
   "source": [
    "## Encode target labels"
   ]
  },
  {
   "cell_type": "code",
   "execution_count": 20,
   "metadata": {},
   "outputs": [],
   "source": [
    "encoder = OneHotEncoder(sparse_output=False)\n",
    "y_encoded = encoder.fit_transform(y.values.reshape(-1, 1))"
   ]
  },
  {
   "cell_type": "code",
   "execution_count": 21,
   "metadata": {},
   "outputs": [
    {
     "data": {
      "text/plain": [
       "array([[1., 0., 0., ..., 0., 0., 0.],\n",
       "       [0., 1., 0., ..., 0., 0., 0.],\n",
       "       [0., 1., 0., ..., 0., 0., 0.],\n",
       "       ...,\n",
       "       [0., 0., 1., ..., 0., 0., 0.],\n",
       "       [0., 0., 0., ..., 1., 0., 0.],\n",
       "       [0., 0., 0., ..., 0., 1., 0.]])"
      ]
     },
     "execution_count": 21,
     "metadata": {},
     "output_type": "execute_result"
    }
   ],
   "source": [
    "y_encoded"
   ]
  },
  {
   "attachments": {},
   "cell_type": "markdown",
   "metadata": {},
   "source": [
    "## Split the data into training and testing sets"
   ]
  },
  {
   "cell_type": "code",
   "execution_count": 22,
   "metadata": {},
   "outputs": [
    {
     "name": "stdout",
     "output_type": "stream",
     "text": [
      "X_train shape: (800, 11)\n",
      "y_train shape: (800, 8)\n",
      "X_test shape: (201, 11)\n",
      "y_test shape: (201, 8)\n"
     ]
    }
   ],
   "source": [
    "X_train, X_test, y_train, y_test = train_test_split(X_normalized_df, y_encoded, test_size=0.2, random_state=42)\n",
    "\n",
    "print(\"X_train shape:\", X_train.shape)\n",
    "print(\"y_train shape:\", y_train.shape)\n",
    "print(\"X_test shape:\", X_test.shape)\n",
    "print(\"y_test shape:\", y_test.shape)"
   ]
  },
  {
   "attachments": {},
   "cell_type": "markdown",
   "metadata": {},
   "source": [
    "# Build the model"
   ]
  },
  {
   "cell_type": "code",
   "execution_count": 23,
   "metadata": {},
   "outputs": [
    {
     "name": "stdout",
     "output_type": "stream",
     "text": [
      "Model: \"sequential\"\n",
      "_________________________________________________________________\n",
      " Layer (type)                Output Shape              Param #   \n",
      "=================================================================\n",
      " dense (Dense)               (None, 16)                192       \n",
      "                                                                 \n",
      " dropout (Dropout)           (None, 16)                0         \n",
      "                                                                 \n",
      " dense_1 (Dense)             (None, 8)                 136       \n",
      "                                                                 \n",
      " dropout_1 (Dropout)         (None, 8)                 0         \n",
      "                                                                 \n",
      " dense_2 (Dense)             (None, 8)                 72        \n",
      "                                                                 \n",
      "=================================================================\n",
      "Total params: 400\n",
      "Trainable params: 400\n",
      "Non-trainable params: 0\n",
      "_________________________________________________________________\n"
     ]
    }
   ],
   "source": [
    "model = Sequential()\n",
    "model.add(Dense(16, activation='relu', input_dim=X_train.shape[1]))\n",
    "model.add(Dropout(0.2))\n",
    "model.add(Dense(8, activation='relu'))\n",
    "model.add(Dropout(0.2))\n",
    "model.add(Dense(units=y_train.shape[1], activation='softmax'))\n",
    "model.summary()"
   ]
  },
  {
   "cell_type": "code",
   "execution_count": 24,
   "metadata": {},
   "outputs": [],
   "source": [
    "model.compile(\n",
    "    optimizer='adam',\n",
    "    loss='categorical_crossentropy',\n",
    "    metrics=['accuracy']\n",
    ")"
   ]
  },
  {
   "cell_type": "code",
   "execution_count": 25,
   "metadata": {},
   "outputs": [
    {
     "name": "stdout",
     "output_type": "stream",
     "text": [
      "Epoch 1/150\n",
      "50/50 [==============================] - 1s 7ms/step - loss: 2.0472 - accuracy: 0.2125 - val_loss: 2.0031 - val_accuracy: 0.3781\n",
      "Epoch 2/150\n",
      "50/50 [==============================] - 0s 4ms/step - loss: 1.9631 - accuracy: 0.3750 - val_loss: 1.8885 - val_accuracy: 0.4080\n",
      "Epoch 3/150\n",
      "50/50 [==============================] - 0s 2ms/step - loss: 1.8161 - accuracy: 0.4112 - val_loss: 1.7354 - val_accuracy: 0.3831\n",
      "Epoch 4/150\n",
      "50/50 [==============================] - 0s 3ms/step - loss: 1.6991 - accuracy: 0.4263 - val_loss: 1.6226 - val_accuracy: 0.4478\n",
      "Epoch 5/150\n",
      "50/50 [==============================] - 0s 2ms/step - loss: 1.5968 - accuracy: 0.4525 - val_loss: 1.5350 - val_accuracy: 0.4527\n",
      "Epoch 6/150\n",
      "50/50 [==============================] - 0s 2ms/step - loss: 1.5368 - accuracy: 0.4538 - val_loss: 1.4628 - val_accuracy: 0.4378\n",
      "Epoch 7/150\n",
      "50/50 [==============================] - 0s 2ms/step - loss: 1.4704 - accuracy: 0.4613 - val_loss: 1.4065 - val_accuracy: 0.4378\n",
      "Epoch 8/150\n",
      "50/50 [==============================] - 0s 3ms/step - loss: 1.4035 - accuracy: 0.4825 - val_loss: 1.3523 - val_accuracy: 0.4378\n",
      "Epoch 9/150\n",
      "50/50 [==============================] - 0s 2ms/step - loss: 1.3629 - accuracy: 0.4750 - val_loss: 1.3051 - val_accuracy: 0.4378\n",
      "Epoch 10/150\n",
      "50/50 [==============================] - 0s 2ms/step - loss: 1.3304 - accuracy: 0.4800 - val_loss: 1.2583 - val_accuracy: 0.4378\n",
      "Epoch 11/150\n",
      "50/50 [==============================] - 0s 2ms/step - loss: 1.2616 - accuracy: 0.4950 - val_loss: 1.2131 - val_accuracy: 0.4378\n",
      "Epoch 12/150\n",
      "50/50 [==============================] - 0s 2ms/step - loss: 1.2408 - accuracy: 0.5150 - val_loss: 1.1745 - val_accuracy: 0.4527\n",
      "Epoch 13/150\n",
      "50/50 [==============================] - 0s 2ms/step - loss: 1.2366 - accuracy: 0.5312 - val_loss: 1.1387 - val_accuracy: 0.5075\n",
      "Epoch 14/150\n",
      "50/50 [==============================] - 0s 3ms/step - loss: 1.1657 - accuracy: 0.5500 - val_loss: 1.1057 - val_accuracy: 0.5672\n",
      "Epoch 15/150\n",
      "50/50 [==============================] - 0s 2ms/step - loss: 1.1848 - accuracy: 0.5350 - val_loss: 1.0714 - val_accuracy: 0.6070\n",
      "Epoch 16/150\n",
      "50/50 [==============================] - 0s 2ms/step - loss: 1.1396 - accuracy: 0.5462 - val_loss: 1.0423 - val_accuracy: 0.6468\n",
      "Epoch 17/150\n",
      "50/50 [==============================] - 0s 2ms/step - loss: 1.1006 - accuracy: 0.5763 - val_loss: 1.0144 - val_accuracy: 0.7612\n",
      "Epoch 18/150\n",
      "50/50 [==============================] - 0s 2ms/step - loss: 1.0714 - accuracy: 0.5925 - val_loss: 0.9841 - val_accuracy: 0.7612\n",
      "Epoch 19/150\n",
      "50/50 [==============================] - 0s 2ms/step - loss: 1.0722 - accuracy: 0.6025 - val_loss: 0.9590 - val_accuracy: 0.7612\n",
      "Epoch 20/150\n",
      "50/50 [==============================] - 0s 2ms/step - loss: 1.0608 - accuracy: 0.6200 - val_loss: 0.9392 - val_accuracy: 0.7612\n",
      "Epoch 21/150\n",
      "50/50 [==============================] - 0s 2ms/step - loss: 1.0238 - accuracy: 0.6250 - val_loss: 0.9133 - val_accuracy: 0.7612\n",
      "Epoch 22/150\n",
      "50/50 [==============================] - 0s 2ms/step - loss: 1.0044 - accuracy: 0.6363 - val_loss: 0.8905 - val_accuracy: 0.7612\n",
      "Epoch 23/150\n",
      "50/50 [==============================] - 0s 2ms/step - loss: 1.0069 - accuracy: 0.6137 - val_loss: 0.8745 - val_accuracy: 0.7612\n",
      "Epoch 24/150\n",
      "50/50 [==============================] - 0s 2ms/step - loss: 0.9900 - accuracy: 0.6212 - val_loss: 0.8508 - val_accuracy: 0.7612\n",
      "Epoch 25/150\n",
      "50/50 [==============================] - 0s 3ms/step - loss: 0.9577 - accuracy: 0.6400 - val_loss: 0.8291 - val_accuracy: 0.7612\n",
      "Epoch 26/150\n",
      "50/50 [==============================] - 0s 3ms/step - loss: 0.9462 - accuracy: 0.6413 - val_loss: 0.8050 - val_accuracy: 0.7612\n",
      "Epoch 27/150\n",
      "50/50 [==============================] - 0s 3ms/step - loss: 0.9387 - accuracy: 0.6388 - val_loss: 0.7797 - val_accuracy: 0.7612\n",
      "Epoch 28/150\n",
      "50/50 [==============================] - 0s 3ms/step - loss: 0.9082 - accuracy: 0.6438 - val_loss: 0.7567 - val_accuracy: 0.7612\n",
      "Epoch 29/150\n",
      "50/50 [==============================] - 0s 3ms/step - loss: 0.8750 - accuracy: 0.6562 - val_loss: 0.7359 - val_accuracy: 0.7612\n",
      "Epoch 30/150\n",
      "50/50 [==============================] - 0s 4ms/step - loss: 0.9145 - accuracy: 0.6237 - val_loss: 0.7168 - val_accuracy: 0.7612\n",
      "Epoch 31/150\n",
      "50/50 [==============================] - 0s 3ms/step - loss: 0.8395 - accuracy: 0.6900 - val_loss: 0.6813 - val_accuracy: 0.8408\n",
      "Epoch 32/150\n",
      "50/50 [==============================] - 0s 3ms/step - loss: 0.8366 - accuracy: 0.7013 - val_loss: 0.6566 - val_accuracy: 0.8408\n",
      "Epoch 33/150\n",
      "50/50 [==============================] - 0s 3ms/step - loss: 0.8498 - accuracy: 0.6938 - val_loss: 0.6287 - val_accuracy: 0.8905\n",
      "Epoch 34/150\n",
      "50/50 [==============================] - 0s 2ms/step - loss: 0.7960 - accuracy: 0.7300 - val_loss: 0.6039 - val_accuracy: 0.8905\n",
      "Epoch 35/150\n",
      "50/50 [==============================] - 0s 2ms/step - loss: 0.7896 - accuracy: 0.7150 - val_loss: 0.5876 - val_accuracy: 0.8905\n",
      "Epoch 36/150\n",
      "50/50 [==============================] - 0s 2ms/step - loss: 0.7535 - accuracy: 0.7337 - val_loss: 0.5601 - val_accuracy: 0.8905\n",
      "Epoch 37/150\n",
      "50/50 [==============================] - 0s 2ms/step - loss: 0.7296 - accuracy: 0.7225 - val_loss: 0.5376 - val_accuracy: 0.8905\n",
      "Epoch 38/150\n",
      "50/50 [==============================] - 0s 3ms/step - loss: 0.7076 - accuracy: 0.7487 - val_loss: 0.5206 - val_accuracy: 0.8905\n",
      "Epoch 39/150\n",
      "50/50 [==============================] - 0s 2ms/step - loss: 0.6875 - accuracy: 0.7625 - val_loss: 0.5044 - val_accuracy: 0.8905\n",
      "Epoch 40/150\n",
      "50/50 [==============================] - 0s 2ms/step - loss: 0.7291 - accuracy: 0.7138 - val_loss: 0.4917 - val_accuracy: 0.8905\n",
      "Epoch 41/150\n",
      "50/50 [==============================] - 0s 2ms/step - loss: 0.6885 - accuracy: 0.7500 - val_loss: 0.4831 - val_accuracy: 0.8905\n",
      "Epoch 42/150\n",
      "50/50 [==============================] - 0s 3ms/step - loss: 0.6849 - accuracy: 0.7513 - val_loss: 0.4714 - val_accuracy: 0.8905\n",
      "Epoch 43/150\n",
      "50/50 [==============================] - 0s 3ms/step - loss: 0.6444 - accuracy: 0.7663 - val_loss: 0.4604 - val_accuracy: 0.8905\n",
      "Epoch 44/150\n",
      "50/50 [==============================] - 0s 3ms/step - loss: 0.6706 - accuracy: 0.7462 - val_loss: 0.4494 - val_accuracy: 0.8905\n",
      "Epoch 45/150\n",
      "50/50 [==============================] - 0s 2ms/step - loss: 0.6650 - accuracy: 0.7412 - val_loss: 0.4444 - val_accuracy: 0.8905\n",
      "Epoch 46/150\n",
      "50/50 [==============================] - 0s 2ms/step - loss: 0.6414 - accuracy: 0.7538 - val_loss: 0.4255 - val_accuracy: 0.8905\n",
      "Epoch 47/150\n",
      "50/50 [==============================] - 0s 2ms/step - loss: 0.6470 - accuracy: 0.7588 - val_loss: 0.4271 - val_accuracy: 0.8905\n",
      "Epoch 48/150\n",
      "50/50 [==============================] - 0s 2ms/step - loss: 0.5918 - accuracy: 0.7887 - val_loss: 0.4093 - val_accuracy: 0.8905\n",
      "Epoch 49/150\n",
      "50/50 [==============================] - 0s 3ms/step - loss: 0.6194 - accuracy: 0.7663 - val_loss: 0.3997 - val_accuracy: 0.8905\n",
      "Epoch 50/150\n",
      "50/50 [==============================] - 0s 2ms/step - loss: 0.6417 - accuracy: 0.7713 - val_loss: 0.3951 - val_accuracy: 0.8905\n",
      "Epoch 51/150\n",
      "50/50 [==============================] - 0s 3ms/step - loss: 0.6399 - accuracy: 0.7588 - val_loss: 0.3874 - val_accuracy: 0.8905\n",
      "Epoch 52/150\n",
      "50/50 [==============================] - 0s 2ms/step - loss: 0.6236 - accuracy: 0.7638 - val_loss: 0.3861 - val_accuracy: 0.8905\n",
      "Epoch 53/150\n",
      "50/50 [==============================] - 0s 2ms/step - loss: 0.5674 - accuracy: 0.7887 - val_loss: 0.3817 - val_accuracy: 0.8905\n",
      "Epoch 54/150\n",
      "50/50 [==============================] - 0s 2ms/step - loss: 0.5803 - accuracy: 0.7875 - val_loss: 0.3716 - val_accuracy: 0.8905\n",
      "Epoch 55/150\n",
      "50/50 [==============================] - 0s 2ms/step - loss: 0.5783 - accuracy: 0.7825 - val_loss: 0.3562 - val_accuracy: 0.8905\n",
      "Epoch 56/150\n",
      "50/50 [==============================] - 0s 2ms/step - loss: 0.5967 - accuracy: 0.7713 - val_loss: 0.3510 - val_accuracy: 0.8905\n",
      "Epoch 57/150\n",
      "50/50 [==============================] - 0s 2ms/step - loss: 0.6175 - accuracy: 0.7525 - val_loss: 0.3580 - val_accuracy: 0.8905\n",
      "Epoch 58/150\n",
      "50/50 [==============================] - 0s 3ms/step - loss: 0.5788 - accuracy: 0.7862 - val_loss: 0.3512 - val_accuracy: 0.8905\n",
      "Epoch 59/150\n",
      "50/50 [==============================] - 0s 2ms/step - loss: 0.5787 - accuracy: 0.7875 - val_loss: 0.3544 - val_accuracy: 0.8905\n",
      "Epoch 60/150\n",
      "50/50 [==============================] - 0s 3ms/step - loss: 0.5544 - accuracy: 0.7862 - val_loss: 0.3455 - val_accuracy: 0.8905\n",
      "Epoch 61/150\n",
      "50/50 [==============================] - 0s 3ms/step - loss: 0.5970 - accuracy: 0.7725 - val_loss: 0.3366 - val_accuracy: 0.8905\n",
      "Epoch 62/150\n",
      "50/50 [==============================] - 0s 2ms/step - loss: 0.5622 - accuracy: 0.7912 - val_loss: 0.3367 - val_accuracy: 0.8905\n",
      "Epoch 63/150\n",
      "50/50 [==============================] - 0s 3ms/step - loss: 0.5707 - accuracy: 0.7763 - val_loss: 0.3274 - val_accuracy: 0.8905\n",
      "Epoch 64/150\n",
      "50/50 [==============================] - 0s 3ms/step - loss: 0.5846 - accuracy: 0.7850 - val_loss: 0.3330 - val_accuracy: 0.8905\n",
      "Epoch 65/150\n",
      "50/50 [==============================] - 0s 2ms/step - loss: 0.5309 - accuracy: 0.7987 - val_loss: 0.3033 - val_accuracy: 0.8905\n",
      "Epoch 66/150\n",
      "50/50 [==============================] - 0s 3ms/step - loss: 0.5063 - accuracy: 0.8163 - val_loss: 0.3106 - val_accuracy: 0.8905\n",
      "Epoch 67/150\n",
      "50/50 [==============================] - 0s 3ms/step - loss: 0.5413 - accuracy: 0.8000 - val_loss: 0.3065 - val_accuracy: 0.8905\n",
      "Epoch 68/150\n",
      "50/50 [==============================] - 0s 2ms/step - loss: 0.5184 - accuracy: 0.7925 - val_loss: 0.2976 - val_accuracy: 0.8905\n",
      "Epoch 69/150\n",
      "50/50 [==============================] - 0s 2ms/step - loss: 0.5405 - accuracy: 0.7800 - val_loss: 0.2901 - val_accuracy: 0.8905\n",
      "Epoch 70/150\n",
      "50/50 [==============================] - 0s 2ms/step - loss: 0.5271 - accuracy: 0.7850 - val_loss: 0.2845 - val_accuracy: 0.8905\n",
      "Epoch 71/150\n",
      "50/50 [==============================] - 0s 2ms/step - loss: 0.5018 - accuracy: 0.8012 - val_loss: 0.2727 - val_accuracy: 0.8905\n",
      "Epoch 72/150\n",
      "50/50 [==============================] - 0s 2ms/step - loss: 0.5286 - accuracy: 0.7875 - val_loss: 0.2737 - val_accuracy: 0.8905\n",
      "Epoch 73/150\n",
      "50/50 [==============================] - 0s 2ms/step - loss: 0.4970 - accuracy: 0.8087 - val_loss: 0.2721 - val_accuracy: 0.8905\n",
      "Epoch 74/150\n",
      "50/50 [==============================] - 0s 2ms/step - loss: 0.5314 - accuracy: 0.7825 - val_loss: 0.2695 - val_accuracy: 0.8905\n",
      "Epoch 75/150\n",
      "50/50 [==============================] - 0s 3ms/step - loss: 0.5153 - accuracy: 0.7975 - val_loss: 0.2723 - val_accuracy: 0.8905\n",
      "Epoch 76/150\n",
      "50/50 [==============================] - 0s 3ms/step - loss: 0.5130 - accuracy: 0.7962 - val_loss: 0.2649 - val_accuracy: 0.8905\n",
      "Epoch 77/150\n",
      "50/50 [==============================] - 0s 2ms/step - loss: 0.5259 - accuracy: 0.7950 - val_loss: 0.2622 - val_accuracy: 0.8905\n",
      "Epoch 78/150\n",
      "50/50 [==============================] - 0s 3ms/step - loss: 0.5400 - accuracy: 0.7987 - val_loss: 0.2613 - val_accuracy: 0.8905\n",
      "Epoch 79/150\n",
      "50/50 [==============================] - 0s 2ms/step - loss: 0.4804 - accuracy: 0.7987 - val_loss: 0.2562 - val_accuracy: 0.8905\n",
      "Epoch 80/150\n",
      "50/50 [==============================] - 0s 3ms/step - loss: 0.4800 - accuracy: 0.8163 - val_loss: 0.2549 - val_accuracy: 0.8905\n",
      "Epoch 81/150\n",
      "50/50 [==============================] - 0s 2ms/step - loss: 0.5199 - accuracy: 0.7887 - val_loss: 0.2497 - val_accuracy: 0.8905\n",
      "Epoch 82/150\n",
      "50/50 [==============================] - 0s 3ms/step - loss: 0.4710 - accuracy: 0.8112 - val_loss: 0.2456 - val_accuracy: 0.8905\n",
      "Epoch 83/150\n",
      "50/50 [==============================] - 0s 2ms/step - loss: 0.4514 - accuracy: 0.8238 - val_loss: 0.2378 - val_accuracy: 0.8905\n",
      "Epoch 84/150\n",
      "50/50 [==============================] - 0s 3ms/step - loss: 0.4692 - accuracy: 0.8075 - val_loss: 0.2386 - val_accuracy: 0.8905\n",
      "Epoch 85/150\n",
      "50/50 [==============================] - 0s 3ms/step - loss: 0.4618 - accuracy: 0.8263 - val_loss: 0.2289 - val_accuracy: 0.8905\n",
      "Epoch 86/150\n",
      "50/50 [==============================] - 0s 3ms/step - loss: 0.4439 - accuracy: 0.8450 - val_loss: 0.2244 - val_accuracy: 0.8905\n",
      "Epoch 87/150\n",
      "50/50 [==============================] - 0s 3ms/step - loss: 0.4635 - accuracy: 0.8087 - val_loss: 0.2269 - val_accuracy: 0.8905\n",
      "Epoch 88/150\n",
      "50/50 [==============================] - 0s 3ms/step - loss: 0.4752 - accuracy: 0.8188 - val_loss: 0.2309 - val_accuracy: 0.8905\n",
      "Epoch 89/150\n",
      "50/50 [==============================] - 0s 2ms/step - loss: 0.4658 - accuracy: 0.8225 - val_loss: 0.2237 - val_accuracy: 0.8905\n",
      "Epoch 90/150\n",
      "50/50 [==============================] - 0s 3ms/step - loss: 0.4673 - accuracy: 0.8213 - val_loss: 0.2256 - val_accuracy: 0.8905\n",
      "Epoch 91/150\n",
      "50/50 [==============================] - 0s 3ms/step - loss: 0.4726 - accuracy: 0.8275 - val_loss: 0.2272 - val_accuracy: 0.8905\n",
      "Epoch 92/150\n",
      "50/50 [==============================] - 0s 3ms/step - loss: 0.4729 - accuracy: 0.8175 - val_loss: 0.2242 - val_accuracy: 0.8905\n",
      "Epoch 93/150\n",
      "50/50 [==============================] - 0s 2ms/step - loss: 0.4589 - accuracy: 0.8338 - val_loss: 0.2156 - val_accuracy: 0.8905\n",
      "Epoch 94/150\n",
      "50/50 [==============================] - 0s 3ms/step - loss: 0.4451 - accuracy: 0.8300 - val_loss: 0.2107 - val_accuracy: 0.8905\n",
      "Epoch 95/150\n",
      "50/50 [==============================] - 0s 3ms/step - loss: 0.4706 - accuracy: 0.8250 - val_loss: 0.2154 - val_accuracy: 0.8905\n",
      "Epoch 96/150\n",
      "50/50 [==============================] - 0s 3ms/step - loss: 0.4429 - accuracy: 0.8537 - val_loss: 0.2005 - val_accuracy: 0.9005\n",
      "Epoch 97/150\n",
      "50/50 [==============================] - 0s 3ms/step - loss: 0.4455 - accuracy: 0.8238 - val_loss: 0.2060 - val_accuracy: 0.8905\n",
      "Epoch 98/150\n",
      "50/50 [==============================] - 0s 3ms/step - loss: 0.4856 - accuracy: 0.7975 - val_loss: 0.2162 - val_accuracy: 0.8905\n",
      "Epoch 99/150\n",
      "50/50 [==============================] - 0s 2ms/step - loss: 0.4162 - accuracy: 0.8450 - val_loss: 0.2045 - val_accuracy: 0.8905\n",
      "Epoch 100/150\n",
      "50/50 [==============================] - 0s 3ms/step - loss: 0.4517 - accuracy: 0.8238 - val_loss: 0.2095 - val_accuracy: 0.8905\n",
      "Epoch 101/150\n",
      "50/50 [==============================] - 0s 3ms/step - loss: 0.3909 - accuracy: 0.8587 - val_loss: 0.1999 - val_accuracy: 0.8905\n",
      "Epoch 102/150\n",
      "50/50 [==============================] - 0s 3ms/step - loss: 0.4357 - accuracy: 0.8413 - val_loss: 0.1928 - val_accuracy: 0.8905\n",
      "Epoch 103/150\n",
      "50/50 [==============================] - 0s 2ms/step - loss: 0.4407 - accuracy: 0.8363 - val_loss: 0.1915 - val_accuracy: 0.9005\n",
      "Epoch 104/150\n",
      "50/50 [==============================] - 0s 3ms/step - loss: 0.4439 - accuracy: 0.8388 - val_loss: 0.1917 - val_accuracy: 0.9055\n",
      "Epoch 105/150\n",
      "50/50 [==============================] - 0s 2ms/step - loss: 0.4076 - accuracy: 0.8438 - val_loss: 0.1867 - val_accuracy: 0.9005\n",
      "Epoch 106/150\n",
      "50/50 [==============================] - 0s 3ms/step - loss: 0.4343 - accuracy: 0.8425 - val_loss: 0.1899 - val_accuracy: 0.8905\n",
      "Epoch 107/150\n",
      "50/50 [==============================] - 0s 3ms/step - loss: 0.3909 - accuracy: 0.8600 - val_loss: 0.1845 - val_accuracy: 0.9005\n",
      "Epoch 108/150\n",
      "50/50 [==============================] - 0s 2ms/step - loss: 0.4460 - accuracy: 0.8313 - val_loss: 0.1816 - val_accuracy: 0.9104\n",
      "Epoch 109/150\n",
      "50/50 [==============================] - 0s 3ms/step - loss: 0.4196 - accuracy: 0.8487 - val_loss: 0.1864 - val_accuracy: 0.8955\n",
      "Epoch 110/150\n",
      "50/50 [==============================] - 0s 3ms/step - loss: 0.4238 - accuracy: 0.8338 - val_loss: 0.1896 - val_accuracy: 0.8905\n",
      "Epoch 111/150\n",
      "50/50 [==============================] - 0s 2ms/step - loss: 0.4240 - accuracy: 0.8288 - val_loss: 0.1905 - val_accuracy: 0.8905\n",
      "Epoch 112/150\n",
      "50/50 [==============================] - 0s 2ms/step - loss: 0.4522 - accuracy: 0.8275 - val_loss: 0.1915 - val_accuracy: 0.8905\n",
      "Epoch 113/150\n",
      "50/50 [==============================] - 0s 3ms/step - loss: 0.4128 - accuracy: 0.8288 - val_loss: 0.1908 - val_accuracy: 0.8905\n",
      "Epoch 114/150\n",
      "50/50 [==============================] - 0s 3ms/step - loss: 0.4456 - accuracy: 0.8263 - val_loss: 0.1810 - val_accuracy: 0.9005\n",
      "Epoch 115/150\n",
      "50/50 [==============================] - 0s 2ms/step - loss: 0.4340 - accuracy: 0.8438 - val_loss: 0.1805 - val_accuracy: 0.9005\n",
      "Epoch 116/150\n",
      "50/50 [==============================] - 0s 2ms/step - loss: 0.4227 - accuracy: 0.8275 - val_loss: 0.1790 - val_accuracy: 0.9005\n",
      "Epoch 117/150\n",
      "50/50 [==============================] - 0s 2ms/step - loss: 0.4217 - accuracy: 0.8450 - val_loss: 0.1779 - val_accuracy: 0.9005\n",
      "Epoch 118/150\n",
      "50/50 [==============================] - 0s 3ms/step - loss: 0.4347 - accuracy: 0.8263 - val_loss: 0.1875 - val_accuracy: 0.8905\n",
      "Epoch 119/150\n",
      "50/50 [==============================] - 0s 2ms/step - loss: 0.4444 - accuracy: 0.8325 - val_loss: 0.1805 - val_accuracy: 0.8905\n",
      "Epoch 120/150\n",
      "50/50 [==============================] - 0s 2ms/step - loss: 0.4326 - accuracy: 0.8288 - val_loss: 0.1736 - val_accuracy: 0.9154\n",
      "Epoch 121/150\n",
      "50/50 [==============================] - 0s 2ms/step - loss: 0.4104 - accuracy: 0.8525 - val_loss: 0.1750 - val_accuracy: 0.9303\n",
      "Epoch 122/150\n",
      "50/50 [==============================] - 0s 2ms/step - loss: 0.4494 - accuracy: 0.8175 - val_loss: 0.1846 - val_accuracy: 0.9005\n",
      "Epoch 123/150\n",
      "50/50 [==============================] - 0s 2ms/step - loss: 0.3963 - accuracy: 0.8637 - val_loss: 0.1728 - val_accuracy: 0.9254\n",
      "Epoch 124/150\n",
      "50/50 [==============================] - 0s 2ms/step - loss: 0.3881 - accuracy: 0.8612 - val_loss: 0.1753 - val_accuracy: 0.9154\n",
      "Epoch 125/150\n",
      "50/50 [==============================] - 0s 3ms/step - loss: 0.4291 - accuracy: 0.8313 - val_loss: 0.1733 - val_accuracy: 0.9005\n",
      "Epoch 126/150\n",
      "50/50 [==============================] - 0s 3ms/step - loss: 0.4139 - accuracy: 0.8338 - val_loss: 0.1664 - val_accuracy: 0.9900\n",
      "Epoch 127/150\n",
      "50/50 [==============================] - 0s 4ms/step - loss: 0.4085 - accuracy: 0.8425 - val_loss: 0.1688 - val_accuracy: 0.9154\n",
      "Epoch 128/150\n",
      "50/50 [==============================] - 0s 2ms/step - loss: 0.4348 - accuracy: 0.8125 - val_loss: 0.1684 - val_accuracy: 0.9154\n",
      "Epoch 129/150\n",
      "50/50 [==============================] - 0s 3ms/step - loss: 0.4154 - accuracy: 0.8138 - val_loss: 0.1629 - val_accuracy: 0.9204\n",
      "Epoch 130/150\n",
      "50/50 [==============================] - 0s 2ms/step - loss: 0.3720 - accuracy: 0.8450 - val_loss: 0.1664 - val_accuracy: 0.9502\n",
      "Epoch 131/150\n",
      "50/50 [==============================] - 0s 2ms/step - loss: 0.3985 - accuracy: 0.8475 - val_loss: 0.1584 - val_accuracy: 0.9950\n",
      "Epoch 132/150\n",
      "50/50 [==============================] - 0s 2ms/step - loss: 0.4178 - accuracy: 0.8275 - val_loss: 0.1686 - val_accuracy: 0.9204\n",
      "Epoch 133/150\n",
      "50/50 [==============================] - 0s 2ms/step - loss: 0.4012 - accuracy: 0.8450 - val_loss: 0.1638 - val_accuracy: 0.9154\n",
      "Epoch 134/150\n",
      "50/50 [==============================] - 0s 2ms/step - loss: 0.3854 - accuracy: 0.8313 - val_loss: 0.1601 - val_accuracy: 0.9950\n",
      "Epoch 135/150\n",
      "50/50 [==============================] - 0s 2ms/step - loss: 0.3888 - accuracy: 0.8400 - val_loss: 0.1560 - val_accuracy: 0.9950\n",
      "Epoch 136/150\n",
      "50/50 [==============================] - 0s 3ms/step - loss: 0.4038 - accuracy: 0.8413 - val_loss: 0.1610 - val_accuracy: 0.9204\n",
      "Epoch 137/150\n",
      "50/50 [==============================] - 0s 2ms/step - loss: 0.3879 - accuracy: 0.8363 - val_loss: 0.1577 - val_accuracy: 0.9900\n",
      "Epoch 138/150\n",
      "50/50 [==============================] - 0s 2ms/step - loss: 0.4027 - accuracy: 0.8313 - val_loss: 0.1585 - val_accuracy: 0.9950\n",
      "Epoch 139/150\n",
      "50/50 [==============================] - 0s 3ms/step - loss: 0.4068 - accuracy: 0.8400 - val_loss: 0.1669 - val_accuracy: 0.9353\n",
      "Epoch 140/150\n",
      "50/50 [==============================] - 0s 3ms/step - loss: 0.3941 - accuracy: 0.8275 - val_loss: 0.1647 - val_accuracy: 0.9303\n",
      "Epoch 141/150\n",
      "50/50 [==============================] - 0s 2ms/step - loss: 0.3871 - accuracy: 0.8325 - val_loss: 0.1594 - val_accuracy: 0.9254\n",
      "Epoch 142/150\n",
      "50/50 [==============================] - 0s 2ms/step - loss: 0.3667 - accuracy: 0.8350 - val_loss: 0.1575 - val_accuracy: 0.9652\n",
      "Epoch 143/150\n",
      "50/50 [==============================] - 0s 3ms/step - loss: 0.3591 - accuracy: 0.8675 - val_loss: 0.1437 - val_accuracy: 0.9801\n",
      "Epoch 144/150\n",
      "50/50 [==============================] - 0s 3ms/step - loss: 0.3956 - accuracy: 0.8388 - val_loss: 0.1591 - val_accuracy: 0.9204\n",
      "Epoch 145/150\n",
      "50/50 [==============================] - 0s 3ms/step - loss: 0.3709 - accuracy: 0.8487 - val_loss: 0.1517 - val_accuracy: 0.9950\n",
      "Epoch 146/150\n",
      "50/50 [==============================] - 0s 3ms/step - loss: 0.3791 - accuracy: 0.8388 - val_loss: 0.1454 - val_accuracy: 0.9801\n",
      "Epoch 147/150\n",
      "50/50 [==============================] - 0s 3ms/step - loss: 0.4155 - accuracy: 0.8275 - val_loss: 0.1515 - val_accuracy: 0.9950\n",
      "Epoch 148/150\n",
      "50/50 [==============================] - 0s 3ms/step - loss: 0.3756 - accuracy: 0.8512 - val_loss: 0.1506 - val_accuracy: 0.9950\n",
      "Epoch 149/150\n",
      "50/50 [==============================] - 0s 3ms/step - loss: 0.3794 - accuracy: 0.8338 - val_loss: 0.1450 - val_accuracy: 0.9900\n",
      "Epoch 150/150\n",
      "50/50 [==============================] - 0s 2ms/step - loss: 0.3504 - accuracy: 0.8512 - val_loss: 0.1403 - val_accuracy: 0.9950\n"
     ]
    }
   ],
   "source": [
    "history = model.fit(\n",
    "    x=X_train,\n",
    "    y=y_train,\n",
    "    epochs=150,\n",
    "    validation_data=(X_test, y_test),\n",
    "    validation_split=0.2,\n",
    "    verbose=1,\n",
    "    batch_size=16,\n",
    "    callbacks=[EarlyStopping(monitor='val_loss', patience=10)]\n",
    ")"
   ]
  },
  {
   "cell_type": "code",
   "execution_count": 26,
   "metadata": {},
   "outputs": [
    {
     "name": "stdout",
     "output_type": "stream",
     "text": [
      "7/7 [==============================] - 0s 1ms/step - loss: 0.1403 - accuracy: 0.9950\n",
      "Test set accuracy: 1.00\n"
     ]
    }
   ],
   "source": [
    "# Evaluate ANN model\n",
    "loss, accuracy = model.evaluate(X_test, y_test)\n",
    "print(f\"Test set accuracy: {accuracy:.2f}\")"
   ]
  },
  {
   "cell_type": "code",
   "execution_count": 27,
   "metadata": {},
   "outputs": [
    {
     "name": "stdout",
     "output_type": "stream",
     "text": [
      "7/7 [==============================] - 0s 1ms/step\n"
     ]
    }
   ],
   "source": [
    "y_pred = model.predict(X_test)"
   ]
  },
  {
   "cell_type": "code",
   "execution_count": 28,
   "metadata": {},
   "outputs": [
    {
     "data": {
      "text/html": [
       "<div>\n",
       "<style scoped>\n",
       "    .dataframe tbody tr th:only-of-type {\n",
       "        vertical-align: middle;\n",
       "    }\n",
       "\n",
       "    .dataframe tbody tr th {\n",
       "        vertical-align: top;\n",
       "    }\n",
       "\n",
       "    .dataframe thead th {\n",
       "        text-align: right;\n",
       "    }\n",
       "</style>\n",
       "<table border=\"1\" class=\"dataframe\">\n",
       "  <thead>\n",
       "    <tr style=\"text-align: right;\">\n",
       "      <th></th>\n",
       "      <th>loss</th>\n",
       "      <th>accuracy</th>\n",
       "      <th>val_loss</th>\n",
       "      <th>val_accuracy</th>\n",
       "      <th>epoch</th>\n",
       "    </tr>\n",
       "  </thead>\n",
       "  <tbody>\n",
       "    <tr>\n",
       "      <th>0</th>\n",
       "      <td>2.047151</td>\n",
       "      <td>0.21250</td>\n",
       "      <td>2.003150</td>\n",
       "      <td>0.378109</td>\n",
       "      <td>0</td>\n",
       "    </tr>\n",
       "    <tr>\n",
       "      <th>1</th>\n",
       "      <td>1.963096</td>\n",
       "      <td>0.37500</td>\n",
       "      <td>1.888466</td>\n",
       "      <td>0.407960</td>\n",
       "      <td>1</td>\n",
       "    </tr>\n",
       "    <tr>\n",
       "      <th>2</th>\n",
       "      <td>1.816067</td>\n",
       "      <td>0.41125</td>\n",
       "      <td>1.735420</td>\n",
       "      <td>0.383085</td>\n",
       "      <td>2</td>\n",
       "    </tr>\n",
       "    <tr>\n",
       "      <th>3</th>\n",
       "      <td>1.699059</td>\n",
       "      <td>0.42625</td>\n",
       "      <td>1.622568</td>\n",
       "      <td>0.447761</td>\n",
       "      <td>3</td>\n",
       "    </tr>\n",
       "    <tr>\n",
       "      <th>4</th>\n",
       "      <td>1.596844</td>\n",
       "      <td>0.45250</td>\n",
       "      <td>1.534990</td>\n",
       "      <td>0.452736</td>\n",
       "      <td>4</td>\n",
       "    </tr>\n",
       "    <tr>\n",
       "      <th>...</th>\n",
       "      <td>...</td>\n",
       "      <td>...</td>\n",
       "      <td>...</td>\n",
       "      <td>...</td>\n",
       "      <td>...</td>\n",
       "    </tr>\n",
       "    <tr>\n",
       "      <th>145</th>\n",
       "      <td>0.379124</td>\n",
       "      <td>0.83875</td>\n",
       "      <td>0.145419</td>\n",
       "      <td>0.980099</td>\n",
       "      <td>145</td>\n",
       "    </tr>\n",
       "    <tr>\n",
       "      <th>146</th>\n",
       "      <td>0.415525</td>\n",
       "      <td>0.82750</td>\n",
       "      <td>0.151462</td>\n",
       "      <td>0.995025</td>\n",
       "      <td>146</td>\n",
       "    </tr>\n",
       "    <tr>\n",
       "      <th>147</th>\n",
       "      <td>0.375594</td>\n",
       "      <td>0.85125</td>\n",
       "      <td>0.150578</td>\n",
       "      <td>0.995025</td>\n",
       "      <td>147</td>\n",
       "    </tr>\n",
       "    <tr>\n",
       "      <th>148</th>\n",
       "      <td>0.379353</td>\n",
       "      <td>0.83375</td>\n",
       "      <td>0.144962</td>\n",
       "      <td>0.990050</td>\n",
       "      <td>148</td>\n",
       "    </tr>\n",
       "    <tr>\n",
       "      <th>149</th>\n",
       "      <td>0.350404</td>\n",
       "      <td>0.85125</td>\n",
       "      <td>0.140346</td>\n",
       "      <td>0.995025</td>\n",
       "      <td>149</td>\n",
       "    </tr>\n",
       "  </tbody>\n",
       "</table>\n",
       "<p>150 rows × 5 columns</p>\n",
       "</div>"
      ],
      "text/plain": [
       "         loss  accuracy  val_loss  val_accuracy  epoch\n",
       "0    2.047151   0.21250  2.003150      0.378109      0\n",
       "1    1.963096   0.37500  1.888466      0.407960      1\n",
       "2    1.816067   0.41125  1.735420      0.383085      2\n",
       "3    1.699059   0.42625  1.622568      0.447761      3\n",
       "4    1.596844   0.45250  1.534990      0.452736      4\n",
       "..        ...       ...       ...           ...    ...\n",
       "145  0.379124   0.83875  0.145419      0.980099    145\n",
       "146  0.415525   0.82750  0.151462      0.995025    146\n",
       "147  0.375594   0.85125  0.150578      0.995025    147\n",
       "148  0.379353   0.83375  0.144962      0.990050    148\n",
       "149  0.350404   0.85125  0.140346      0.995025    149\n",
       "\n",
       "[150 rows x 5 columns]"
      ]
     },
     "execution_count": 28,
     "metadata": {},
     "output_type": "execute_result"
    }
   ],
   "source": [
    "metrics = pd.DataFrame(history.history)\n",
    "metrics['epoch'] = history.epoch\n",
    "metrics"
   ]
  },
  {
   "attachments": {},
   "cell_type": "markdown",
   "metadata": {},
   "source": [
    "# Model evaluate"
   ]
  },
  {
   "cell_type": "code",
   "execution_count": 29,
   "metadata": {},
   "outputs": [
    {
     "data": {
      "application/vnd.plotly.v1+json": {
       "config": {
        "plotlyServerURL": "https://plot.ly"
       },
       "data": [
        {
         "name": "accuracy",
         "type": "scatter",
         "x": [
          0,
          1,
          2,
          3,
          4,
          5,
          6,
          7,
          8,
          9,
          10,
          11,
          12,
          13,
          14,
          15,
          16,
          17,
          18,
          19,
          20,
          21,
          22,
          23,
          24,
          25,
          26,
          27,
          28,
          29,
          30,
          31,
          32,
          33,
          34,
          35,
          36,
          37,
          38,
          39,
          40,
          41,
          42,
          43,
          44,
          45,
          46,
          47,
          48,
          49,
          50,
          51,
          52,
          53,
          54,
          55,
          56,
          57,
          58,
          59,
          60,
          61,
          62,
          63,
          64,
          65,
          66,
          67,
          68,
          69,
          70,
          71,
          72,
          73,
          74,
          75,
          76,
          77,
          78,
          79,
          80,
          81,
          82,
          83,
          84,
          85,
          86,
          87,
          88,
          89,
          90,
          91,
          92,
          93,
          94,
          95,
          96,
          97,
          98,
          99,
          100,
          101,
          102,
          103,
          104,
          105,
          106,
          107,
          108,
          109,
          110,
          111,
          112,
          113,
          114,
          115,
          116,
          117,
          118,
          119,
          120,
          121,
          122,
          123,
          124,
          125,
          126,
          127,
          128,
          129,
          130,
          131,
          132,
          133,
          134,
          135,
          136,
          137,
          138,
          139,
          140,
          141,
          142,
          143,
          144,
          145,
          146,
          147,
          148,
          149
         ],
         "xaxis": "x",
         "y": [
          0.21250000596046448,
          0.375,
          0.4112499952316284,
          0.42625001072883606,
          0.45249998569488525,
          0.45375001430511475,
          0.4612500071525574,
          0.48249998688697815,
          0.4749999940395355,
          0.47999998927116394,
          0.4950000047683716,
          0.5149999856948853,
          0.53125,
          0.550000011920929,
          0.5350000262260437,
          0.5462499856948853,
          0.5762500166893005,
          0.5924999713897705,
          0.6025000214576721,
          0.6200000047683716,
          0.625,
          0.6362500190734863,
          0.6137499809265137,
          0.6212499737739563,
          0.6399999856948853,
          0.6412500143051147,
          0.6387500166893005,
          0.643750011920929,
          0.65625,
          0.6237499713897705,
          0.6899999976158142,
          0.7012500166893005,
          0.6937500238418579,
          0.7300000190734863,
          0.7149999737739563,
          0.7337499856948853,
          0.7225000262260437,
          0.7487499713897705,
          0.762499988079071,
          0.7137500047683716,
          0.75,
          0.7512500286102295,
          0.7662500143051147,
          0.7462499737739563,
          0.7412499785423279,
          0.7537500262260437,
          0.7587500214576721,
          0.7887499928474426,
          0.7662500143051147,
          0.7712500095367432,
          0.7587500214576721,
          0.7637500166893005,
          0.7887499928474426,
          0.7875000238418579,
          0.7825000286102295,
          0.7712500095367432,
          0.7524999976158142,
          0.7862499952316284,
          0.7875000238418579,
          0.7862499952316284,
          0.7724999785423279,
          0.7912499904632568,
          0.7762500047683716,
          0.7850000262260437,
          0.7987499833106995,
          0.8162500262260437,
          0.800000011920929,
          0.7925000190734863,
          0.7799999713897705,
          0.7850000262260437,
          0.8012499809265137,
          0.7875000238418579,
          0.8087499737739563,
          0.7825000286102295,
          0.7975000143051147,
          0.7962499856948853,
          0.7950000166893005,
          0.7987499833106995,
          0.7987499833106995,
          0.8162500262260437,
          0.7887499928474426,
          0.8112499713897705,
          0.8237500190734863,
          0.8075000047683716,
          0.8262500166893005,
          0.8450000286102295,
          0.8087499737739563,
          0.8187500238418579,
          0.8224999904632568,
          0.8212500214576721,
          0.8274999856948853,
          0.8174999952316284,
          0.8337500095367432,
          0.8299999833106995,
          0.824999988079071,
          0.8537499904632568,
          0.8237500190734863,
          0.7975000143051147,
          0.8450000286102295,
          0.8237500190734863,
          0.8587499856948853,
          0.8412500023841858,
          0.8362500071525574,
          0.8387500047683716,
          0.84375,
          0.8424999713897705,
          0.8600000143051147,
          0.831250011920929,
          0.8487499952316284,
          0.8337500095367432,
          0.8287500143051147,
          0.8274999856948853,
          0.8287500143051147,
          0.8262500166893005,
          0.84375,
          0.8274999856948853,
          0.8450000286102295,
          0.8262500166893005,
          0.8324999809265137,
          0.8287500143051147,
          0.8525000214576721,
          0.8174999952316284,
          0.8637499809265137,
          0.8612499833106995,
          0.831250011920929,
          0.8337500095367432,
          0.8424999713897705,
          0.8125,
          0.8137500286102295,
          0.8450000286102295,
          0.8475000262260437,
          0.8274999856948853,
          0.8450000286102295,
          0.831250011920929,
          0.8399999737739563,
          0.8412500023841858,
          0.8362500071525574,
          0.831250011920929,
          0.8399999737739563,
          0.8274999856948853,
          0.8324999809265137,
          0.8349999785423279,
          0.8675000071525574,
          0.8387500047683716,
          0.8487499952316284,
          0.8387500047683716,
          0.8274999856948853,
          0.8512499928474426,
          0.8337500095367432,
          0.8512499928474426
         ],
         "yaxis": "y"
        },
        {
         "name": "loss",
         "type": "scatter",
         "x": [
          0,
          1,
          2,
          3,
          4,
          5,
          6,
          7,
          8,
          9,
          10,
          11,
          12,
          13,
          14,
          15,
          16,
          17,
          18,
          19,
          20,
          21,
          22,
          23,
          24,
          25,
          26,
          27,
          28,
          29,
          30,
          31,
          32,
          33,
          34,
          35,
          36,
          37,
          38,
          39,
          40,
          41,
          42,
          43,
          44,
          45,
          46,
          47,
          48,
          49,
          50,
          51,
          52,
          53,
          54,
          55,
          56,
          57,
          58,
          59,
          60,
          61,
          62,
          63,
          64,
          65,
          66,
          67,
          68,
          69,
          70,
          71,
          72,
          73,
          74,
          75,
          76,
          77,
          78,
          79,
          80,
          81,
          82,
          83,
          84,
          85,
          86,
          87,
          88,
          89,
          90,
          91,
          92,
          93,
          94,
          95,
          96,
          97,
          98,
          99,
          100,
          101,
          102,
          103,
          104,
          105,
          106,
          107,
          108,
          109,
          110,
          111,
          112,
          113,
          114,
          115,
          116,
          117,
          118,
          119,
          120,
          121,
          122,
          123,
          124,
          125,
          126,
          127,
          128,
          129,
          130,
          131,
          132,
          133,
          134,
          135,
          136,
          137,
          138,
          139,
          140,
          141,
          142,
          143,
          144,
          145,
          146,
          147,
          148,
          149
         ],
         "xaxis": "x2",
         "y": [
          2.0471510887145996,
          1.9630955457687378,
          1.816067099571228,
          1.6990594863891602,
          1.5968440771102905,
          1.5368479490280151,
          1.4703795909881592,
          1.4034838676452637,
          1.3628573417663574,
          1.3303812742233276,
          1.2616366147994995,
          1.2408268451690674,
          1.2366228103637695,
          1.1657354831695557,
          1.1847901344299316,
          1.1395589113235474,
          1.1005576848983765,
          1.0714271068572998,
          1.0722460746765137,
          1.0608296394348145,
          1.0237523317337036,
          1.0043611526489258,
          1.006921410560608,
          0.9899944067001343,
          0.9577494263648987,
          0.9462327361106873,
          0.9387232065200806,
          0.9082456231117249,
          0.875008225440979,
          0.9144739508628845,
          0.8395296335220337,
          0.836622416973114,
          0.8497564792633057,
          0.7959656715393066,
          0.7895820140838623,
          0.7535114288330078,
          0.729590892791748,
          0.7075743079185486,
          0.6874790787696838,
          0.7290671467781067,
          0.6884939670562744,
          0.6848894357681274,
          0.6444366574287415,
          0.6706191897392273,
          0.6649715900421143,
          0.641447126865387,
          0.6470088362693787,
          0.5918017625808716,
          0.6194146275520325,
          0.6416748762130737,
          0.6398531198501587,
          0.6236287951469421,
          0.5673612952232361,
          0.5803111791610718,
          0.5782844424247742,
          0.5967353582382202,
          0.6174795627593994,
          0.5787923336029053,
          0.5787435173988342,
          0.5543742179870605,
          0.5969668030738831,
          0.5622215270996094,
          0.5706548690795898,
          0.5846443772315979,
          0.5309175252914429,
          0.5062935948371887,
          0.5412952303886414,
          0.518420398235321,
          0.5404984951019287,
          0.5270740389823914,
          0.5018153190612793,
          0.5286127328872681,
          0.4970386028289795,
          0.5314176678657532,
          0.5152610540390015,
          0.5129687190055847,
          0.5258654356002808,
          0.5399828553199768,
          0.48042866587638855,
          0.48002806305885315,
          0.5199073553085327,
          0.47100159525871277,
          0.4514361321926117,
          0.46922725439071655,
          0.46175697445869446,
          0.4438973367214203,
          0.46352142095565796,
          0.47522079944610596,
          0.4658060371875763,
          0.46732577681541443,
          0.4726496934890747,
          0.47287875413894653,
          0.4589426517486572,
          0.445137619972229,
          0.47059211134910583,
          0.4429137408733368,
          0.4454503357410431,
          0.48556604981422424,
          0.41617879271507263,
          0.4516819417476654,
          0.3909471929073334,
          0.4356827437877655,
          0.44072288274765015,
          0.4439030885696411,
          0.4075983166694641,
          0.43434664607048035,
          0.39087092876434326,
          0.4459782540798187,
          0.4195683002471924,
          0.42383721470832825,
          0.4240168333053589,
          0.45219507813453674,
          0.41282546520233154,
          0.4455781877040863,
          0.4339761734008789,
          0.42266571521759033,
          0.4216862916946411,
          0.43472376465797424,
          0.4444359242916107,
          0.43263009190559387,
          0.4104180634021759,
          0.4494452178478241,
          0.3962554931640625,
          0.3880595266819,
          0.4291008412837982,
          0.41391313076019287,
          0.4084590971469879,
          0.43476471304893494,
          0.41539818048477173,
          0.37202027440071106,
          0.3985042870044708,
          0.4177613854408264,
          0.40119093656539917,
          0.385446697473526,
          0.3888014853000641,
          0.40381523966789246,
          0.3879104256629944,
          0.4026740789413452,
          0.4068014621734619,
          0.3940545320510864,
          0.3870936632156372,
          0.36666393280029297,
          0.35905471444129944,
          0.3955850303173065,
          0.37093859910964966,
          0.37912434339523315,
          0.41552484035491943,
          0.3755941689014435,
          0.3793529272079468,
          0.3504042327404022
         ],
         "yaxis": "y2"
        },
        {
         "name": "val_accuracy",
         "type": "scatter",
         "x": [
          0,
          1,
          2,
          3,
          4,
          5,
          6,
          7,
          8,
          9,
          10,
          11,
          12,
          13,
          14,
          15,
          16,
          17,
          18,
          19,
          20,
          21,
          22,
          23,
          24,
          25,
          26,
          27,
          28,
          29,
          30,
          31,
          32,
          33,
          34,
          35,
          36,
          37,
          38,
          39,
          40,
          41,
          42,
          43,
          44,
          45,
          46,
          47,
          48,
          49,
          50,
          51,
          52,
          53,
          54,
          55,
          56,
          57,
          58,
          59,
          60,
          61,
          62,
          63,
          64,
          65,
          66,
          67,
          68,
          69,
          70,
          71,
          72,
          73,
          74,
          75,
          76,
          77,
          78,
          79,
          80,
          81,
          82,
          83,
          84,
          85,
          86,
          87,
          88,
          89,
          90,
          91,
          92,
          93,
          94,
          95,
          96,
          97,
          98,
          99,
          100,
          101,
          102,
          103,
          104,
          105,
          106,
          107,
          108,
          109,
          110,
          111,
          112,
          113,
          114,
          115,
          116,
          117,
          118,
          119,
          120,
          121,
          122,
          123,
          124,
          125,
          126,
          127,
          128,
          129,
          130,
          131,
          132,
          133,
          134,
          135,
          136,
          137,
          138,
          139,
          140,
          141,
          142,
          143,
          144,
          145,
          146,
          147,
          148,
          149
         ],
         "xaxis": "x",
         "y": [
          0.3781094551086426,
          0.4079602062702179,
          0.38308456540107727,
          0.447761207818985,
          0.4527363181114197,
          0.4378109574317932,
          0.4378109574317932,
          0.4378109574317932,
          0.4378109574317932,
          0.4378109574317932,
          0.4378109574317932,
          0.4527363181114197,
          0.5074626803398132,
          0.5671641826629639,
          0.606965184211731,
          0.646766185760498,
          0.7611940503120422,
          0.7611940503120422,
          0.7611940503120422,
          0.7611940503120422,
          0.7611940503120422,
          0.7611940503120422,
          0.7611940503120422,
          0.7611940503120422,
          0.7611940503120422,
          0.7611940503120422,
          0.7611940503120422,
          0.7611940503120422,
          0.7611940503120422,
          0.7611940503120422,
          0.8407959938049316,
          0.8407959938049316,
          0.8905472755432129,
          0.8905472755432129,
          0.8905472755432129,
          0.8905472755432129,
          0.8905472755432129,
          0.8905472755432129,
          0.8905472755432129,
          0.8905472755432129,
          0.8905472755432129,
          0.8905472755432129,
          0.8905472755432129,
          0.8905472755432129,
          0.8905472755432129,
          0.8905472755432129,
          0.8905472755432129,
          0.8905472755432129,
          0.8905472755432129,
          0.8905472755432129,
          0.8905472755432129,
          0.8905472755432129,
          0.8905472755432129,
          0.8905472755432129,
          0.8905472755432129,
          0.8905472755432129,
          0.8905472755432129,
          0.8905472755432129,
          0.8905472755432129,
          0.8905472755432129,
          0.8905472755432129,
          0.8905472755432129,
          0.8905472755432129,
          0.8905472755432129,
          0.8905472755432129,
          0.8905472755432129,
          0.8905472755432129,
          0.8905472755432129,
          0.8905472755432129,
          0.8905472755432129,
          0.8905472755432129,
          0.8905472755432129,
          0.8905472755432129,
          0.8905472755432129,
          0.8905472755432129,
          0.8905472755432129,
          0.8905472755432129,
          0.8905472755432129,
          0.8905472755432129,
          0.8905472755432129,
          0.8905472755432129,
          0.8905472755432129,
          0.8905472755432129,
          0.8905472755432129,
          0.8905472755432129,
          0.8905472755432129,
          0.8905472755432129,
          0.8905472755432129,
          0.8905472755432129,
          0.8905472755432129,
          0.8905472755432129,
          0.8905472755432129,
          0.8905472755432129,
          0.8905472755432129,
          0.8905472755432129,
          0.9004974961280823,
          0.8905472755432129,
          0.8905472755432129,
          0.8905472755432129,
          0.8905472755432129,
          0.8905472755432129,
          0.8905472755432129,
          0.9004974961280823,
          0.9054726362228394,
          0.9004974961280823,
          0.8905472755432129,
          0.9004974961280823,
          0.9104477763175964,
          0.89552241563797,
          0.8905472755432129,
          0.8905472755432129,
          0.8905472755432129,
          0.8905472755432129,
          0.9004974961280823,
          0.9004974961280823,
          0.9004974961280823,
          0.9004974961280823,
          0.8905472755432129,
          0.8905472755432129,
          0.9154228568077087,
          0.93034827709198,
          0.9004974961280823,
          0.9253731369972229,
          0.9154228568077087,
          0.9004974961280823,
          0.9900497794151306,
          0.9154228568077087,
          0.9154228568077087,
          0.9203979969024658,
          0.9502487778663635,
          0.9950248599052429,
          0.9203979969024658,
          0.9154228568077087,
          0.9950248599052429,
          0.9950248599052429,
          0.9203979969024658,
          0.9900497794151306,
          0.9950248599052429,
          0.9353233575820923,
          0.93034827709198,
          0.9253731369972229,
          0.96517413854599,
          0.9800994992256165,
          0.9203979969024658,
          0.9950248599052429,
          0.9800994992256165,
          0.9950248599052429,
          0.9950248599052429,
          0.9900497794151306,
          0.9950248599052429
         ],
         "yaxis": "y"
        },
        {
         "name": "val_loss",
         "type": "scatter",
         "x": [
          0,
          1,
          2,
          3,
          4,
          5,
          6,
          7,
          8,
          9,
          10,
          11,
          12,
          13,
          14,
          15,
          16,
          17,
          18,
          19,
          20,
          21,
          22,
          23,
          24,
          25,
          26,
          27,
          28,
          29,
          30,
          31,
          32,
          33,
          34,
          35,
          36,
          37,
          38,
          39,
          40,
          41,
          42,
          43,
          44,
          45,
          46,
          47,
          48,
          49,
          50,
          51,
          52,
          53,
          54,
          55,
          56,
          57,
          58,
          59,
          60,
          61,
          62,
          63,
          64,
          65,
          66,
          67,
          68,
          69,
          70,
          71,
          72,
          73,
          74,
          75,
          76,
          77,
          78,
          79,
          80,
          81,
          82,
          83,
          84,
          85,
          86,
          87,
          88,
          89,
          90,
          91,
          92,
          93,
          94,
          95,
          96,
          97,
          98,
          99,
          100,
          101,
          102,
          103,
          104,
          105,
          106,
          107,
          108,
          109,
          110,
          111,
          112,
          113,
          114,
          115,
          116,
          117,
          118,
          119,
          120,
          121,
          122,
          123,
          124,
          125,
          126,
          127,
          128,
          129,
          130,
          131,
          132,
          133,
          134,
          135,
          136,
          137,
          138,
          139,
          140,
          141,
          142,
          143,
          144,
          145,
          146,
          147,
          148,
          149
         ],
         "xaxis": "x2",
         "y": [
          2.0031497478485107,
          1.888466477394104,
          1.7354202270507812,
          1.6225680112838745,
          1.534989595413208,
          1.462770938873291,
          1.4065423011779785,
          1.3522686958312988,
          1.305116057395935,
          1.2583268880844116,
          1.2131390571594238,
          1.1745201349258423,
          1.138685941696167,
          1.105701208114624,
          1.0714030265808105,
          1.0422769784927368,
          1.014383316040039,
          0.9841272234916687,
          0.9590234160423279,
          0.9392324686050415,
          0.9133034944534302,
          0.890543520450592,
          0.8744513392448425,
          0.8507916927337646,
          0.8290949463844299,
          0.80498206615448,
          0.779691755771637,
          0.756675124168396,
          0.7359371185302734,
          0.7167758941650391,
          0.6812772154808044,
          0.656584620475769,
          0.6286646723747253,
          0.6038990020751953,
          0.5876093506813049,
          0.560081958770752,
          0.5376012325286865,
          0.5206022262573242,
          0.5043888092041016,
          0.4917464852333069,
          0.4831158518791199,
          0.47137606143951416,
          0.46035298705101013,
          0.44936496019363403,
          0.4444499611854553,
          0.4255146086215973,
          0.4271392524242401,
          0.40934741497039795,
          0.3996984362602234,
          0.39514192938804626,
          0.3873574137687683,
          0.38609492778778076,
          0.38166162371635437,
          0.37161627411842346,
          0.3561583161354065,
          0.35098186135292053,
          0.357965350151062,
          0.3511674702167511,
          0.35437020659446716,
          0.3454534411430359,
          0.3366105556488037,
          0.33666566014289856,
          0.3274114727973938,
          0.332988440990448,
          0.3032507300376892,
          0.31061607599258423,
          0.30648770928382874,
          0.2976009249687195,
          0.2900645434856415,
          0.284473180770874,
          0.2727435827255249,
          0.2737378478050232,
          0.27210402488708496,
          0.26949092745780945,
          0.27233901619911194,
          0.2649444043636322,
          0.2621843218803406,
          0.261330246925354,
          0.25616756081581116,
          0.2549419403076172,
          0.24965724349021912,
          0.24563752114772797,
          0.23775704205036163,
          0.23859931528568268,
          0.22893837094306946,
          0.22438472509384155,
          0.2269311547279358,
          0.23093712329864502,
          0.22365529835224152,
          0.22564281523227692,
          0.22722932696342468,
          0.22415068745613098,
          0.21563829481601715,
          0.21073517203330994,
          0.21541866660118103,
          0.20045846700668335,
          0.20596350729465485,
          0.2162216305732727,
          0.2045402079820633,
          0.20952929556369781,
          0.19991837441921234,
          0.1927524358034134,
          0.1914982944726944,
          0.1916954070329666,
          0.18671880662441254,
          0.18992966413497925,
          0.18449364602565765,
          0.18158558011054993,
          0.18643289804458618,
          0.18964357674121857,
          0.1904824823141098,
          0.19146397709846497,
          0.19078867137432098,
          0.18103638291358948,
          0.18046388030052185,
          0.17899411916732788,
          0.17788267135620117,
          0.18752677738666534,
          0.18054236471652985,
          0.17361798882484436,
          0.17498795688152313,
          0.1846216917037964,
          0.1728495955467224,
          0.17525261640548706,
          0.17330895364284515,
          0.1664171814918518,
          0.16882440447807312,
          0.16841964423656464,
          0.16290749609470367,
          0.16635185480117798,
          0.15838342905044556,
          0.16861146688461304,
          0.16378293931484222,
          0.16007396578788757,
          0.15595370531082153,
          0.1610039472579956,
          0.15768833458423615,
          0.1584908813238144,
          0.1668563336133957,
          0.16472893953323364,
          0.1593622863292694,
          0.1575469821691513,
          0.14370186626911163,
          0.15913303196430206,
          0.15173500776290894,
          0.14541880786418915,
          0.15146242082118988,
          0.15057805180549622,
          0.14496183395385742,
          0.14034603536128998
         ],
         "yaxis": "y2"
        }
       ],
       "layout": {
        "template": {
         "data": {
          "bar": [
           {
            "error_x": {
             "color": "#2a3f5f"
            },
            "error_y": {
             "color": "#2a3f5f"
            },
            "marker": {
             "line": {
              "color": "#E5ECF6",
              "width": 0.5
             },
             "pattern": {
              "fillmode": "overlay",
              "size": 10,
              "solidity": 0.2
             }
            },
            "type": "bar"
           }
          ],
          "barpolar": [
           {
            "marker": {
             "line": {
              "color": "#E5ECF6",
              "width": 0.5
             },
             "pattern": {
              "fillmode": "overlay",
              "size": 10,
              "solidity": 0.2
             }
            },
            "type": "barpolar"
           }
          ],
          "carpet": [
           {
            "aaxis": {
             "endlinecolor": "#2a3f5f",
             "gridcolor": "white",
             "linecolor": "white",
             "minorgridcolor": "white",
             "startlinecolor": "#2a3f5f"
            },
            "baxis": {
             "endlinecolor": "#2a3f5f",
             "gridcolor": "white",
             "linecolor": "white",
             "minorgridcolor": "white",
             "startlinecolor": "#2a3f5f"
            },
            "type": "carpet"
           }
          ],
          "choropleth": [
           {
            "colorbar": {
             "outlinewidth": 0,
             "ticks": ""
            },
            "type": "choropleth"
           }
          ],
          "contour": [
           {
            "colorbar": {
             "outlinewidth": 0,
             "ticks": ""
            },
            "colorscale": [
             [
              0,
              "#0d0887"
             ],
             [
              0.1111111111111111,
              "#46039f"
             ],
             [
              0.2222222222222222,
              "#7201a8"
             ],
             [
              0.3333333333333333,
              "#9c179e"
             ],
             [
              0.4444444444444444,
              "#bd3786"
             ],
             [
              0.5555555555555556,
              "#d8576b"
             ],
             [
              0.6666666666666666,
              "#ed7953"
             ],
             [
              0.7777777777777778,
              "#fb9f3a"
             ],
             [
              0.8888888888888888,
              "#fdca26"
             ],
             [
              1,
              "#f0f921"
             ]
            ],
            "type": "contour"
           }
          ],
          "contourcarpet": [
           {
            "colorbar": {
             "outlinewidth": 0,
             "ticks": ""
            },
            "type": "contourcarpet"
           }
          ],
          "heatmap": [
           {
            "colorbar": {
             "outlinewidth": 0,
             "ticks": ""
            },
            "colorscale": [
             [
              0,
              "#0d0887"
             ],
             [
              0.1111111111111111,
              "#46039f"
             ],
             [
              0.2222222222222222,
              "#7201a8"
             ],
             [
              0.3333333333333333,
              "#9c179e"
             ],
             [
              0.4444444444444444,
              "#bd3786"
             ],
             [
              0.5555555555555556,
              "#d8576b"
             ],
             [
              0.6666666666666666,
              "#ed7953"
             ],
             [
              0.7777777777777778,
              "#fb9f3a"
             ],
             [
              0.8888888888888888,
              "#fdca26"
             ],
             [
              1,
              "#f0f921"
             ]
            ],
            "type": "heatmap"
           }
          ],
          "heatmapgl": [
           {
            "colorbar": {
             "outlinewidth": 0,
             "ticks": ""
            },
            "colorscale": [
             [
              0,
              "#0d0887"
             ],
             [
              0.1111111111111111,
              "#46039f"
             ],
             [
              0.2222222222222222,
              "#7201a8"
             ],
             [
              0.3333333333333333,
              "#9c179e"
             ],
             [
              0.4444444444444444,
              "#bd3786"
             ],
             [
              0.5555555555555556,
              "#d8576b"
             ],
             [
              0.6666666666666666,
              "#ed7953"
             ],
             [
              0.7777777777777778,
              "#fb9f3a"
             ],
             [
              0.8888888888888888,
              "#fdca26"
             ],
             [
              1,
              "#f0f921"
             ]
            ],
            "type": "heatmapgl"
           }
          ],
          "histogram": [
           {
            "marker": {
             "pattern": {
              "fillmode": "overlay",
              "size": 10,
              "solidity": 0.2
             }
            },
            "type": "histogram"
           }
          ],
          "histogram2d": [
           {
            "colorbar": {
             "outlinewidth": 0,
             "ticks": ""
            },
            "colorscale": [
             [
              0,
              "#0d0887"
             ],
             [
              0.1111111111111111,
              "#46039f"
             ],
             [
              0.2222222222222222,
              "#7201a8"
             ],
             [
              0.3333333333333333,
              "#9c179e"
             ],
             [
              0.4444444444444444,
              "#bd3786"
             ],
             [
              0.5555555555555556,
              "#d8576b"
             ],
             [
              0.6666666666666666,
              "#ed7953"
             ],
             [
              0.7777777777777778,
              "#fb9f3a"
             ],
             [
              0.8888888888888888,
              "#fdca26"
             ],
             [
              1,
              "#f0f921"
             ]
            ],
            "type": "histogram2d"
           }
          ],
          "histogram2dcontour": [
           {
            "colorbar": {
             "outlinewidth": 0,
             "ticks": ""
            },
            "colorscale": [
             [
              0,
              "#0d0887"
             ],
             [
              0.1111111111111111,
              "#46039f"
             ],
             [
              0.2222222222222222,
              "#7201a8"
             ],
             [
              0.3333333333333333,
              "#9c179e"
             ],
             [
              0.4444444444444444,
              "#bd3786"
             ],
             [
              0.5555555555555556,
              "#d8576b"
             ],
             [
              0.6666666666666666,
              "#ed7953"
             ],
             [
              0.7777777777777778,
              "#fb9f3a"
             ],
             [
              0.8888888888888888,
              "#fdca26"
             ],
             [
              1,
              "#f0f921"
             ]
            ],
            "type": "histogram2dcontour"
           }
          ],
          "mesh3d": [
           {
            "colorbar": {
             "outlinewidth": 0,
             "ticks": ""
            },
            "type": "mesh3d"
           }
          ],
          "parcoords": [
           {
            "line": {
             "colorbar": {
              "outlinewidth": 0,
              "ticks": ""
             }
            },
            "type": "parcoords"
           }
          ],
          "pie": [
           {
            "automargin": true,
            "type": "pie"
           }
          ],
          "scatter": [
           {
            "fillpattern": {
             "fillmode": "overlay",
             "size": 10,
             "solidity": 0.2
            },
            "type": "scatter"
           }
          ],
          "scatter3d": [
           {
            "line": {
             "colorbar": {
              "outlinewidth": 0,
              "ticks": ""
             }
            },
            "marker": {
             "colorbar": {
              "outlinewidth": 0,
              "ticks": ""
             }
            },
            "type": "scatter3d"
           }
          ],
          "scattercarpet": [
           {
            "marker": {
             "colorbar": {
              "outlinewidth": 0,
              "ticks": ""
             }
            },
            "type": "scattercarpet"
           }
          ],
          "scattergeo": [
           {
            "marker": {
             "colorbar": {
              "outlinewidth": 0,
              "ticks": ""
             }
            },
            "type": "scattergeo"
           }
          ],
          "scattergl": [
           {
            "marker": {
             "colorbar": {
              "outlinewidth": 0,
              "ticks": ""
             }
            },
            "type": "scattergl"
           }
          ],
          "scattermapbox": [
           {
            "marker": {
             "colorbar": {
              "outlinewidth": 0,
              "ticks": ""
             }
            },
            "type": "scattermapbox"
           }
          ],
          "scatterpolar": [
           {
            "marker": {
             "colorbar": {
              "outlinewidth": 0,
              "ticks": ""
             }
            },
            "type": "scatterpolar"
           }
          ],
          "scatterpolargl": [
           {
            "marker": {
             "colorbar": {
              "outlinewidth": 0,
              "ticks": ""
             }
            },
            "type": "scatterpolargl"
           }
          ],
          "scatterternary": [
           {
            "marker": {
             "colorbar": {
              "outlinewidth": 0,
              "ticks": ""
             }
            },
            "type": "scatterternary"
           }
          ],
          "surface": [
           {
            "colorbar": {
             "outlinewidth": 0,
             "ticks": ""
            },
            "colorscale": [
             [
              0,
              "#0d0887"
             ],
             [
              0.1111111111111111,
              "#46039f"
             ],
             [
              0.2222222222222222,
              "#7201a8"
             ],
             [
              0.3333333333333333,
              "#9c179e"
             ],
             [
              0.4444444444444444,
              "#bd3786"
             ],
             [
              0.5555555555555556,
              "#d8576b"
             ],
             [
              0.6666666666666666,
              "#ed7953"
             ],
             [
              0.7777777777777778,
              "#fb9f3a"
             ],
             [
              0.8888888888888888,
              "#fdca26"
             ],
             [
              1,
              "#f0f921"
             ]
            ],
            "type": "surface"
           }
          ],
          "table": [
           {
            "cells": {
             "fill": {
              "color": "#EBF0F8"
             },
             "line": {
              "color": "white"
             }
            },
            "header": {
             "fill": {
              "color": "#C8D4E3"
             },
             "line": {
              "color": "white"
             }
            },
            "type": "table"
           }
          ]
         },
         "layout": {
          "annotationdefaults": {
           "arrowcolor": "#2a3f5f",
           "arrowhead": 0,
           "arrowwidth": 1
          },
          "autotypenumbers": "strict",
          "coloraxis": {
           "colorbar": {
            "outlinewidth": 0,
            "ticks": ""
           }
          },
          "colorscale": {
           "diverging": [
            [
             0,
             "#8e0152"
            ],
            [
             0.1,
             "#c51b7d"
            ],
            [
             0.2,
             "#de77ae"
            ],
            [
             0.3,
             "#f1b6da"
            ],
            [
             0.4,
             "#fde0ef"
            ],
            [
             0.5,
             "#f7f7f7"
            ],
            [
             0.6,
             "#e6f5d0"
            ],
            [
             0.7,
             "#b8e186"
            ],
            [
             0.8,
             "#7fbc41"
            ],
            [
             0.9,
             "#4d9221"
            ],
            [
             1,
             "#276419"
            ]
           ],
           "sequential": [
            [
             0,
             "#0d0887"
            ],
            [
             0.1111111111111111,
             "#46039f"
            ],
            [
             0.2222222222222222,
             "#7201a8"
            ],
            [
             0.3333333333333333,
             "#9c179e"
            ],
            [
             0.4444444444444444,
             "#bd3786"
            ],
            [
             0.5555555555555556,
             "#d8576b"
            ],
            [
             0.6666666666666666,
             "#ed7953"
            ],
            [
             0.7777777777777778,
             "#fb9f3a"
            ],
            [
             0.8888888888888888,
             "#fdca26"
            ],
            [
             1,
             "#f0f921"
            ]
           ],
           "sequentialminus": [
            [
             0,
             "#0d0887"
            ],
            [
             0.1111111111111111,
             "#46039f"
            ],
            [
             0.2222222222222222,
             "#7201a8"
            ],
            [
             0.3333333333333333,
             "#9c179e"
            ],
            [
             0.4444444444444444,
             "#bd3786"
            ],
            [
             0.5555555555555556,
             "#d8576b"
            ],
            [
             0.6666666666666666,
             "#ed7953"
            ],
            [
             0.7777777777777778,
             "#fb9f3a"
            ],
            [
             0.8888888888888888,
             "#fdca26"
            ],
            [
             1,
             "#f0f921"
            ]
           ]
          },
          "colorway": [
           "#636efa",
           "#EF553B",
           "#00cc96",
           "#ab63fa",
           "#FFA15A",
           "#19d3f3",
           "#FF6692",
           "#B6E880",
           "#FF97FF",
           "#FECB52"
          ],
          "font": {
           "color": "#2a3f5f"
          },
          "geo": {
           "bgcolor": "white",
           "lakecolor": "white",
           "landcolor": "#E5ECF6",
           "showlakes": true,
           "showland": true,
           "subunitcolor": "white"
          },
          "hoverlabel": {
           "align": "left"
          },
          "hovermode": "closest",
          "mapbox": {
           "style": "light"
          },
          "paper_bgcolor": "white",
          "plot_bgcolor": "#E5ECF6",
          "polar": {
           "angularaxis": {
            "gridcolor": "white",
            "linecolor": "white",
            "ticks": ""
           },
           "bgcolor": "#E5ECF6",
           "radialaxis": {
            "gridcolor": "white",
            "linecolor": "white",
            "ticks": ""
           }
          },
          "scene": {
           "xaxis": {
            "backgroundcolor": "#E5ECF6",
            "gridcolor": "white",
            "gridwidth": 2,
            "linecolor": "white",
            "showbackground": true,
            "ticks": "",
            "zerolinecolor": "white"
           },
           "yaxis": {
            "backgroundcolor": "#E5ECF6",
            "gridcolor": "white",
            "gridwidth": 2,
            "linecolor": "white",
            "showbackground": true,
            "ticks": "",
            "zerolinecolor": "white"
           },
           "zaxis": {
            "backgroundcolor": "#E5ECF6",
            "gridcolor": "white",
            "gridwidth": 2,
            "linecolor": "white",
            "showbackground": true,
            "ticks": "",
            "zerolinecolor": "white"
           }
          },
          "shapedefaults": {
           "line": {
            "color": "#2a3f5f"
           }
          },
          "ternary": {
           "aaxis": {
            "gridcolor": "white",
            "linecolor": "white",
            "ticks": ""
           },
           "baxis": {
            "gridcolor": "white",
            "linecolor": "white",
            "ticks": ""
           },
           "bgcolor": "#E5ECF6",
           "caxis": {
            "gridcolor": "white",
            "linecolor": "white",
            "ticks": ""
           }
          },
          "title": {
           "x": 0.05
          },
          "xaxis": {
           "automargin": true,
           "gridcolor": "white",
           "linecolor": "white",
           "ticks": "",
           "title": {
            "standoff": 15
           },
           "zerolinecolor": "white",
           "zerolinewidth": 2
          },
          "yaxis": {
           "automargin": true,
           "gridcolor": "white",
           "linecolor": "white",
           "ticks": "",
           "title": {
            "standoff": 15
           },
           "zerolinecolor": "white",
           "zerolinewidth": 2
          }
         }
        },
        "title": {
         "text": "Accuracy and Loss"
        },
        "width": 1000,
        "xaxis": {
         "anchor": "y",
         "domain": [
          0,
          0.45
         ],
         "title": {
          "text": "epochs"
         }
        },
        "xaxis2": {
         "anchor": "y2",
         "domain": [
          0.55,
          1
         ],
         "title": {
          "text": "epochs"
         }
        },
        "yaxis": {
         "anchor": "x",
         "domain": [
          0,
          1
         ],
         "title": {
          "text": "accuracy"
         }
        },
        "yaxis2": {
         "anchor": "x2",
         "domain": [
          0,
          1
         ],
         "title": {
          "text": "accuracy"
         }
        }
       }
      }
     },
     "metadata": {},
     "output_type": "display_data"
    }
   ],
   "source": [
    "fig = make_subplots(rows=1, cols=2)\n",
    "fig.add_trace(go.Scatter(x=metrics['epoch'], y=metrics['accuracy'], name='accuracy'), row=1, col=1)\n",
    "fig.add_trace(go.Scatter(x=metrics['epoch'], y=metrics['loss'], name='loss'), row=1, col=2)\n",
    "fig.add_trace(go.Scatter(x=metrics['epoch'], y=metrics['val_accuracy'], name='val_accuracy'), row=1, col=1)\n",
    "fig.add_trace(go.Scatter(x=metrics['epoch'], y=metrics['val_loss'], name='val_loss'), row=1, col=2)\n",
    "\n",
    "fig.update_xaxes(title_text='epochs')\n",
    "fig.update_yaxes(title_text='accuracy')\n",
    "fig.update_layout(width=1000, title='Accuracy and Loss')\n",
    "fig.show()"
   ]
  },
  {
   "cell_type": "code",
   "execution_count": 30,
   "metadata": {},
   "outputs": [
    {
     "name": "stdout",
     "output_type": "stream",
     "text": [
      "0.9950248599052429\n"
     ]
    }
   ],
   "source": [
    "test_loss, test_acc = model.evaluate(X_test, y_test, verbose=0)\n",
    "print(test_acc)"
   ]
  },
  {
   "attachments": {},
   "cell_type": "markdown",
   "metadata": {},
   "source": [
    "Predykcja na podstawie modelu.\n",
    "* model.evaluate(y_true, y_pred) - pozwala obliczyć metryki modelu\n",
    "* model.predict_classes() - pozwala zwrócić odpowiednio przewidziane klasy\n",
    "* model.predict_proba(), model.predict() - pozwala zwrócić prawdopodobieństwo danej klasy"
   ]
  },
  {
   "cell_type": "code",
   "execution_count": 31,
   "metadata": {},
   "outputs": [
    {
     "name": "stdout",
     "output_type": "stream",
     "text": [
      "7/7 [==============================] - 0s 1ms/step\n"
     ]
    },
    {
     "data": {
      "text/plain": [
       "array([[1.69264984e-11, 2.17485867e-17, 9.99910831e-01, ..., 1.07301265e-17, 2.58373132e-11, 6.48991627e-05],\n",
       "       [8.99454986e-04, 1.07938668e-03, 9.21731666e-02, ..., 1.58882285e-05, 1.30792230e-01, 4.99303862e-02],\n",
       "       [2.64391797e-08, 6.92545093e-21, 9.96708393e-01, ..., 4.50949298e-18, 6.02542238e-10, 3.45617025e-07],\n",
       "       ...,\n",
       "       [1.85373960e-12, 3.27888847e-04, 2.20580846e-02, ..., 2.20225033e-10, 3.70742548e-08, 9.77613032e-01],\n",
       "       [2.22744643e-06, 8.28685500e-20, 9.34113085e-01, ..., 3.66637947e-16, 1.92637284e-08, 2.76250489e-07],\n",
       "       [3.35217780e-03, 2.32938888e-07, 1.76691413e-02, ..., 8.93883225e-07, 3.38527039e-02, 5.06017474e-04]], dtype=float32)"
      ]
     },
     "execution_count": 31,
     "metadata": {},
     "output_type": "execute_result"
    }
   ],
   "source": [
    "predictions = model.predict(X_test)\n",
    "predictions"
   ]
  },
  {
   "cell_type": "code",
   "execution_count": 32,
   "metadata": {},
   "outputs": [
    {
     "data": {
      "text/html": [
       "<div>\n",
       "<style scoped>\n",
       "    .dataframe tbody tr th:only-of-type {\n",
       "        vertical-align: middle;\n",
       "    }\n",
       "\n",
       "    .dataframe tbody tr th {\n",
       "        vertical-align: top;\n",
       "    }\n",
       "\n",
       "    .dataframe thead th {\n",
       "        text-align: right;\n",
       "    }\n",
       "</style>\n",
       "<table border=\"1\" class=\"dataframe\">\n",
       "  <thead>\n",
       "    <tr style=\"text-align: right;\">\n",
       "      <th></th>\n",
       "      <th>0</th>\n",
       "      <th>1</th>\n",
       "      <th>2</th>\n",
       "      <th>3</th>\n",
       "      <th>4</th>\n",
       "      <th>5</th>\n",
       "      <th>6</th>\n",
       "      <th>7</th>\n",
       "    </tr>\n",
       "  </thead>\n",
       "  <tbody>\n",
       "    <tr>\n",
       "      <th>0</th>\n",
       "      <td>1.692650e-11</td>\n",
       "      <td>2.174859e-17</td>\n",
       "      <td>0.999911</td>\n",
       "      <td>1.333412e-07</td>\n",
       "      <td>2.402350e-05</td>\n",
       "      <td>1.073013e-17</td>\n",
       "      <td>2.583731e-11</td>\n",
       "      <td>6.489916e-05</td>\n",
       "    </tr>\n",
       "    <tr>\n",
       "      <th>1</th>\n",
       "      <td>8.994550e-04</td>\n",
       "      <td>1.079387e-03</td>\n",
       "      <td>0.092173</td>\n",
       "      <td>5.164032e-04</td>\n",
       "      <td>7.245930e-01</td>\n",
       "      <td>1.588823e-05</td>\n",
       "      <td>1.307922e-01</td>\n",
       "      <td>4.993039e-02</td>\n",
       "    </tr>\n",
       "    <tr>\n",
       "      <th>2</th>\n",
       "      <td>2.643918e-08</td>\n",
       "      <td>6.925451e-21</td>\n",
       "      <td>0.996708</td>\n",
       "      <td>1.184879e-03</td>\n",
       "      <td>2.106340e-03</td>\n",
       "      <td>4.509493e-18</td>\n",
       "      <td>6.025422e-10</td>\n",
       "      <td>3.456170e-07</td>\n",
       "    </tr>\n",
       "    <tr>\n",
       "      <th>3</th>\n",
       "      <td>2.777517e-08</td>\n",
       "      <td>1.642078e-20</td>\n",
       "      <td>0.996775</td>\n",
       "      <td>9.924450e-04</td>\n",
       "      <td>2.232034e-03</td>\n",
       "      <td>7.235224e-18</td>\n",
       "      <td>8.478009e-10</td>\n",
       "      <td>4.833166e-07</td>\n",
       "    </tr>\n",
       "    <tr>\n",
       "      <th>4</th>\n",
       "      <td>4.159383e-07</td>\n",
       "      <td>2.431866e-16</td>\n",
       "      <td>0.989752</td>\n",
       "      <td>1.432915e-03</td>\n",
       "      <td>8.802564e-03</td>\n",
       "      <td>9.449944e-15</td>\n",
       "      <td>7.679556e-08</td>\n",
       "      <td>1.169400e-05</td>\n",
       "    </tr>\n",
       "    <tr>\n",
       "      <th>...</th>\n",
       "      <td>...</td>\n",
       "      <td>...</td>\n",
       "      <td>...</td>\n",
       "      <td>...</td>\n",
       "      <td>...</td>\n",
       "      <td>...</td>\n",
       "      <td>...</td>\n",
       "      <td>...</td>\n",
       "    </tr>\n",
       "    <tr>\n",
       "      <th>196</th>\n",
       "      <td>1.223195e-11</td>\n",
       "      <td>5.169967e-04</td>\n",
       "      <td>0.031142</td>\n",
       "      <td>2.069426e-11</td>\n",
       "      <td>3.050899e-06</td>\n",
       "      <td>7.859232e-10</td>\n",
       "      <td>1.471532e-07</td>\n",
       "      <td>9.683378e-01</td>\n",
       "    </tr>\n",
       "    <tr>\n",
       "      <th>197</th>\n",
       "      <td>3.042107e-06</td>\n",
       "      <td>1.668968e-20</td>\n",
       "      <td>0.885388</td>\n",
       "      <td>1.010989e-01</td>\n",
       "      <td>1.351037e-02</td>\n",
       "      <td>2.541792e-16</td>\n",
       "      <td>1.127028e-08</td>\n",
       "      <td>1.268463e-07</td>\n",
       "    </tr>\n",
       "    <tr>\n",
       "      <th>198</th>\n",
       "      <td>1.853740e-12</td>\n",
       "      <td>3.278888e-04</td>\n",
       "      <td>0.022058</td>\n",
       "      <td>3.148462e-12</td>\n",
       "      <td>8.711029e-07</td>\n",
       "      <td>2.202250e-10</td>\n",
       "      <td>3.707425e-08</td>\n",
       "      <td>9.776130e-01</td>\n",
       "    </tr>\n",
       "    <tr>\n",
       "      <th>199</th>\n",
       "      <td>2.227446e-06</td>\n",
       "      <td>8.286855e-20</td>\n",
       "      <td>0.934113</td>\n",
       "      <td>4.994800e-02</td>\n",
       "      <td>1.593647e-02</td>\n",
       "      <td>3.666379e-16</td>\n",
       "      <td>1.926373e-08</td>\n",
       "      <td>2.762505e-07</td>\n",
       "    </tr>\n",
       "    <tr>\n",
       "      <th>200</th>\n",
       "      <td>3.352178e-03</td>\n",
       "      <td>2.329389e-07</td>\n",
       "      <td>0.017669</td>\n",
       "      <td>2.935539e-03</td>\n",
       "      <td>9.416832e-01</td>\n",
       "      <td>8.938832e-07</td>\n",
       "      <td>3.385270e-02</td>\n",
       "      <td>5.060175e-04</td>\n",
       "    </tr>\n",
       "  </tbody>\n",
       "</table>\n",
       "<p>201 rows × 8 columns</p>\n",
       "</div>"
      ],
      "text/plain": [
       "                0             1         2             3             4             5             6             7\n",
       "0    1.692650e-11  2.174859e-17  0.999911  1.333412e-07  2.402350e-05  1.073013e-17  2.583731e-11  6.489916e-05\n",
       "1    8.994550e-04  1.079387e-03  0.092173  5.164032e-04  7.245930e-01  1.588823e-05  1.307922e-01  4.993039e-02\n",
       "2    2.643918e-08  6.925451e-21  0.996708  1.184879e-03  2.106340e-03  4.509493e-18  6.025422e-10  3.456170e-07\n",
       "3    2.777517e-08  1.642078e-20  0.996775  9.924450e-04  2.232034e-03  7.235224e-18  8.478009e-10  4.833166e-07\n",
       "4    4.159383e-07  2.431866e-16  0.989752  1.432915e-03  8.802564e-03  9.449944e-15  7.679556e-08  1.169400e-05\n",
       "..            ...           ...       ...           ...           ...           ...           ...           ...\n",
       "196  1.223195e-11  5.169967e-04  0.031142  2.069426e-11  3.050899e-06  7.859232e-10  1.471532e-07  9.683378e-01\n",
       "197  3.042107e-06  1.668968e-20  0.885388  1.010989e-01  1.351037e-02  2.541792e-16  1.127028e-08  1.268463e-07\n",
       "198  1.853740e-12  3.278888e-04  0.022058  3.148462e-12  8.711029e-07  2.202250e-10  3.707425e-08  9.776130e-01\n",
       "199  2.227446e-06  8.286855e-20  0.934113  4.994800e-02  1.593647e-02  3.666379e-16  1.926373e-08  2.762505e-07\n",
       "200  3.352178e-03  2.329389e-07  0.017669  2.935539e-03  9.416832e-01  8.938832e-07  3.385270e-02  5.060175e-04\n",
       "\n",
       "[201 rows x 8 columns]"
      ]
     },
     "execution_count": 32,
     "metadata": {},
     "output_type": "execute_result"
    }
   ],
   "source": [
    "predictions_df = pd.DataFrame(predictions)\n",
    "predictions_df"
   ]
  },
  {
   "cell_type": "code",
   "execution_count": 33,
   "metadata": {},
   "outputs": [
    {
     "data": {
      "text/plain": [
       "array([2, 4, 2, 2, 2, 1, 2, 7, 3, 2, 3, 7, 2, 5, 5, 1, 5, 4, 2, 3, 7, 3, 7, 4, 7, 1, 2, 4, 6, 1, 2, 6, 6, 4, 6, 1, 7, 2, 7, 4, 2, 5, 7, 2, 2, 2, 7, 2, 3, 4, 1, 1, 4, 1, 3, 2, 7, 2, 7, 3, 2, 7, 2, 6, 7, 2, 3, 1, 3, 2, 2, 2, 4, 2, 2, 2, 1, 2, 2, 1, 7, 2, 2, 2, 6, 2, 5, 7, 2, 7, 6, 2, 3, 4, 2, 2, 2, 2, 6, 6, 3, 2, 6, 4, 5, 3, 6, 3, 2, 2, 1, 2, 2, 2, 6, 7, 3, 1, 2, 2, 6, 7, 2, 2, 6, 3, 2, 2, 3, 5, 4, 1, 6, 2, 1, 4, 7, 3, 3, 7, 6, 2, 7, 2, 2, 2, 4, 2, 4, 2, 3, 5, 2, 6, 1, 2, 5, 2, 4, 3, 4, 6, 2, 3,\n",
       "       6, 5, 2, 1, 4, 2, 6, 2, 1, 5, 1, 2, 4, 2, 3, 2, 7, 1, 2, 3, 5, 6, 6, 1, 4, 2, 2, 2, 7, 7, 2, 1, 7, 2, 7, 2, 4], dtype=int64)"
      ]
     },
     "execution_count": 33,
     "metadata": {},
     "output_type": "execute_result"
    }
   ],
   "source": [
    "predictions_cls = predictions.argmax(axis=-1)\n",
    "predictions_cls"
   ]
  },
  {
   "attachments": {},
   "cell_type": "markdown",
   "metadata": {},
   "source": [
    "# Zapisanie modelu"
   ]
  },
  {
   "cell_type": "code",
   "execution_count": 35,
   "metadata": {},
   "outputs": [
    {
     "name": "stdout",
     "output_type": "stream",
     "text": [
      "INFO:tensorflow:Assets written to: C:\\Users\\Dell\\Documents\\Git\\stormwater-analysis\\stormwater_analysis\\data\\area_rpt\\assets\n"
     ]
    }
   ],
   "source": [
    "model.save(r'C:\\Users\\Dell\\Documents\\Git\\stormwater-analysis\\stormwater_analysis\\data\\area_rpt')"
   ]
  },
  {
   "attachments": {},
   "cell_type": "markdown",
   "metadata": {},
   "source": [
    "# Załadowanie modelu"
   ]
  },
  {
   "cell_type": "code",
   "execution_count": 36,
   "metadata": {},
   "outputs": [],
   "source": [
    "from tensorflow import keras\n",
    "model = keras.models.load_model(r'C:\\Users\\Dell\\Documents\\Git\\stormwater-analysis\\stormwater_analysis\\data\\area_rpt')"
   ]
  },
  {
   "cell_type": "code",
   "execution_count": 37,
   "metadata": {},
   "outputs": [
    {
     "name": "stdout",
     "output_type": "stream",
     "text": [
      "7/7 [==============================] - 0s 2ms/step\n"
     ]
    },
    {
     "data": {
      "text/plain": [
       "array([[1.69264984e-11, 2.17485867e-17, 9.99910831e-01, ..., 1.07301265e-17, 2.58373132e-11, 6.48991627e-05],\n",
       "       [8.99454986e-04, 1.07938668e-03, 9.21731666e-02, ..., 1.58882285e-05, 1.30792230e-01, 4.99303862e-02],\n",
       "       [2.64391797e-08, 6.92545093e-21, 9.96708393e-01, ..., 4.50949298e-18, 6.02542238e-10, 3.45617025e-07],\n",
       "       ...,\n",
       "       [1.85373960e-12, 3.27888847e-04, 2.20580846e-02, ..., 2.20225033e-10, 3.70742548e-08, 9.77613032e-01],\n",
       "       [2.22744643e-06, 8.28685500e-20, 9.34113085e-01, ..., 3.66637947e-16, 1.92637284e-08, 2.76250489e-07],\n",
       "       [3.35217780e-03, 2.32938888e-07, 1.76691413e-02, ..., 8.93883225e-07, 3.38527039e-02, 5.06017474e-04]], dtype=float32)"
      ]
     },
     "execution_count": 37,
     "metadata": {},
     "output_type": "execute_result"
    }
   ],
   "source": [
    "pred = model.predict(X_test)\n",
    "pred"
   ]
  }
 ],
 "metadata": {
  "kernelspec": {
   "display_name": "venv",
   "language": "python",
   "name": "python3"
  },
  "language_info": {
   "codemirror_mode": {
    "name": "ipython",
    "version": 3
   },
   "file_extension": ".py",
   "mimetype": "text/x-python",
   "name": "python",
   "nbconvert_exporter": "python",
   "pygments_lexer": "ipython3",
   "version": "3.10.2"
  },
  "orig_nbformat": 4
 },
 "nbformat": 4,
 "nbformat_minor": 2
}
